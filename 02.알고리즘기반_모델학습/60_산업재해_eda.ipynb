{
  "nbformat": 4,
  "nbformat_minor": 0,
  "metadata": {
    "colab": {
      "name": "60_산업재해_eda.ipynb",
      "provenance": [],
      "collapsed_sections": []
    },
    "kernelspec": {
      "name": "python3",
      "display_name": "Python 3"
    },
    "language_info": {
      "name": "python"
    }
  },
  "cells": [
    {
      "cell_type": "code",
      "metadata": {
        "id": "u60CHySXryps"
      },
      "source": [
        "!apt-get install -y fonts-nanum > /dev/null\n",
        "!fc-cache -fv > /dev/null\n",
        "!rm -rf ~/.cache/matplotlib > /dev/null\n",
        "# 런타임 다시 시작"
      ],
      "execution_count": 157,
      "outputs": []
    },
    {
      "cell_type": "code",
      "metadata": {
        "id": "fk82XTNQr1b-"
      },
      "source": [
        "import numpy as np\n",
        "import seaborn as sns\n",
        "import matplotlib as mpl\n",
        "import matplotlib.pyplot as plt\n",
        "import pandas as pd\n",
        "mpl.rcParams['axes.unicode_minus'] = False\n",
        "plt.rc('font', family='NanumBarunGothic')"
      ],
      "execution_count": 1,
      "outputs": []
    },
    {
      "cell_type": "markdown",
      "metadata": {
        "id": "vAPA8iSIoSbr"
      },
      "source": [
        "## 재해자"
      ]
    },
    {
      "cell_type": "code",
      "metadata": {
        "colab": {
          "base_uri": "https://localhost:8080/",
          "height": 423
        },
        "id": "sndwHivjoSbs",
        "outputId": "c60111a2-326d-4458-e6eb-3d38379f7b55"
      },
      "source": [
        "df1 = pd.read_csv('/content/drive/MyDrive/최종프로젝트/자료/eda자료/산업재해_재해자.csv', encoding='euc-kr')\n",
        "df1"
      ],
      "execution_count": 2,
      "outputs": [
        {
          "output_type": "execute_result",
          "data": {
            "text/html": [
              "<div>\n",
              "<style scoped>\n",
              "    .dataframe tbody tr th:only-of-type {\n",
              "        vertical-align: middle;\n",
              "    }\n",
              "\n",
              "    .dataframe tbody tr th {\n",
              "        vertical-align: top;\n",
              "    }\n",
              "\n",
              "    .dataframe thead th {\n",
              "        text-align: right;\n",
              "    }\n",
              "</style>\n",
              "<table border=\"1\" class=\"dataframe\">\n",
              "  <thead>\n",
              "    <tr style=\"text-align: right;\">\n",
              "      <th></th>\n",
              "      <th>특성별(1)</th>\n",
              "      <th>특성별(2)</th>\n",
              "      <th>2017</th>\n",
              "      <th>2018</th>\n",
              "      <th>2019</th>\n",
              "    </tr>\n",
              "  </thead>\n",
              "  <tbody>\n",
              "    <tr>\n",
              "      <th>0</th>\n",
              "      <td>전체</td>\n",
              "      <td>소계</td>\n",
              "      <td>52476</td>\n",
              "      <td>59999</td>\n",
              "      <td>67370</td>\n",
              "    </tr>\n",
              "    <tr>\n",
              "      <th>1</th>\n",
              "      <td>산업별</td>\n",
              "      <td>제조업</td>\n",
              "      <td>16463</td>\n",
              "      <td>18283</td>\n",
              "      <td>20251</td>\n",
              "    </tr>\n",
              "    <tr>\n",
              "      <th>2</th>\n",
              "      <td>산업별</td>\n",
              "      <td>건설업</td>\n",
              "      <td>13539</td>\n",
              "      <td>14659</td>\n",
              "      <td>15178</td>\n",
              "    </tr>\n",
              "    <tr>\n",
              "      <th>3</th>\n",
              "      <td>산업별</td>\n",
              "      <td>숙박 및 음식점업</td>\n",
              "      <td>2830</td>\n",
              "      <td>2873</td>\n",
              "      <td>3441</td>\n",
              "    </tr>\n",
              "    <tr>\n",
              "      <th>4</th>\n",
              "      <td>산업별</td>\n",
              "      <td>도매 및 소매업</td>\n",
              "      <td>2270</td>\n",
              "      <td>2351</td>\n",
              "      <td>2716</td>\n",
              "    </tr>\n",
              "    <tr>\n",
              "      <th>...</th>\n",
              "      <td>...</td>\n",
              "      <td>...</td>\n",
              "      <td>...</td>\n",
              "      <td>...</td>\n",
              "      <td>...</td>\n",
              "    </tr>\n",
              "    <tr>\n",
              "      <th>118</th>\n",
              "      <td>작업내용별</td>\n",
              "      <td>그 밖의 건설관련 작업</td>\n",
              "      <td>4409</td>\n",
              "      <td>5399</td>\n",
              "      <td>5491</td>\n",
              "    </tr>\n",
              "    <tr>\n",
              "      <th>119</th>\n",
              "      <td>작업내용별</td>\n",
              "      <td>기계기구 설비 설치·보전작업</td>\n",
              "      <td>3690</td>\n",
              "      <td>4533</td>\n",
              "      <td>5132</td>\n",
              "    </tr>\n",
              "    <tr>\n",
              "      <th>120</th>\n",
              "      <td>작업내용별</td>\n",
              "      <td>해당없음</td>\n",
              "      <td>1990</td>\n",
              "      <td>2530</td>\n",
              "      <td>2796</td>\n",
              "    </tr>\n",
              "    <tr>\n",
              "      <th>121</th>\n",
              "      <td>작업내용별</td>\n",
              "      <td>채광 벌목 등의 작업</td>\n",
              "      <td>1131</td>\n",
              "      <td>1046</td>\n",
              "      <td>1211</td>\n",
              "    </tr>\n",
              "    <tr>\n",
              "      <th>122</th>\n",
              "      <td>작업내용별</td>\n",
              "      <td>분류불능</td>\n",
              "      <td>532</td>\n",
              "      <td>297</td>\n",
              "      <td>999</td>\n",
              "    </tr>\n",
              "  </tbody>\n",
              "</table>\n",
              "<p>123 rows × 5 columns</p>\n",
              "</div>"
            ],
            "text/plain": [
              "    특성별(1)           특성별(2)   2017   2018   2019\n",
              "0       전체               소계  52476  59999  67370\n",
              "1      산업별              제조업  16463  18283  20251\n",
              "2      산업별              건설업  13539  14659  15178\n",
              "3      산업별        숙박 및 음식점업   2830   2873   3441\n",
              "4      산업별         도매 및 소매업   2270   2351   2716\n",
              "..     ...              ...    ...    ...    ...\n",
              "118  작업내용별     그 밖의 건설관련 작업   4409   5399   5491\n",
              "119  작업내용별  기계기구 설비 설치·보전작업   3690   4533   5132\n",
              "120  작업내용별             해당없음   1990   2530   2796\n",
              "121  작업내용별      채광 벌목 등의 작업   1131   1046   1211\n",
              "122  작업내용별             분류불능    532    297    999\n",
              "\n",
              "[123 rows x 5 columns]"
            ]
          },
          "metadata": {},
          "execution_count": 2
        }
      ]
    },
    {
      "cell_type": "code",
      "metadata": {
        "id": "zncQcQXsoSbt"
      },
      "source": [
        "df1.columns = ['특성별', '소분류', '2017', '2018', '2019']"
      ],
      "execution_count": 3,
      "outputs": []
    },
    {
      "cell_type": "code",
      "metadata": {
        "colab": {
          "base_uri": "https://localhost:8080/"
        },
        "id": "iMPACbwRoSbt",
        "outputId": "0dafb757-7c52-4729-a508-9804d564a2c7"
      },
      "source": [
        "np.unique(df1.특성별)"
      ],
      "execution_count": 4,
      "outputs": [
        {
          "output_type": "execute_result",
          "data": {
            "text/plain": [
              "array(['규모별', '기인물별', '발생형태별', '산업별', '성별', '연령별', '작업내용별', '작업지역·공정별',\n",
              "       '전체', '직종별'], dtype=object)"
            ]
          },
          "metadata": {},
          "execution_count": 4
        }
      ]
    },
    {
      "cell_type": "markdown",
      "metadata": {
        "id": "uigIrmWNoSbu"
      },
      "source": [
        "### 규모별 eda"
      ]
    },
    {
      "cell_type": "code",
      "metadata": {
        "id": "9xV-KgM2oSbv"
      },
      "source": [
        "df1_scale = df1.drop('특성별', axis=1)[df1.특성별 == '규모별']"
      ],
      "execution_count": 5,
      "outputs": []
    },
    {
      "cell_type": "code",
      "metadata": {
        "colab": {
          "base_uri": "https://localhost:8080/",
          "height": 551
        },
        "id": "KKHHM2UmoSbw",
        "outputId": "cbc55eb0-c144-40f3-e639-943d82cf98a6"
      },
      "source": [
        "df1_scale = df1_scale.replace('-', np.nan)\n",
        "df1_scale"
      ],
      "execution_count": 6,
      "outputs": [
        {
          "output_type": "execute_result",
          "data": {
            "text/html": [
              "<div>\n",
              "<style scoped>\n",
              "    .dataframe tbody tr th:only-of-type {\n",
              "        vertical-align: middle;\n",
              "    }\n",
              "\n",
              "    .dataframe tbody tr th {\n",
              "        vertical-align: top;\n",
              "    }\n",
              "\n",
              "    .dataframe thead th {\n",
              "        text-align: right;\n",
              "    }\n",
              "</style>\n",
              "<table border=\"1\" class=\"dataframe\">\n",
              "  <thead>\n",
              "    <tr style=\"text-align: right;\">\n",
              "      <th></th>\n",
              "      <th>소분류</th>\n",
              "      <th>2017</th>\n",
              "      <th>2018</th>\n",
              "      <th>2019</th>\n",
              "    </tr>\n",
              "  </thead>\n",
              "  <tbody>\n",
              "    <tr>\n",
              "      <th>23</th>\n",
              "      <td>5인 미만</td>\n",
              "      <td>10489</td>\n",
              "      <td>12123</td>\n",
              "      <td>13393</td>\n",
              "    </tr>\n",
              "    <tr>\n",
              "      <th>24</th>\n",
              "      <td>5~9인</td>\n",
              "      <td>7081</td>\n",
              "      <td>7955</td>\n",
              "      <td>8510</td>\n",
              "    </tr>\n",
              "    <tr>\n",
              "      <th>25</th>\n",
              "      <td>10~15인</td>\n",
              "      <td>NaN</td>\n",
              "      <td>NaN</td>\n",
              "      <td>6308</td>\n",
              "    </tr>\n",
              "    <tr>\n",
              "      <th>26</th>\n",
              "      <td>16~29인</td>\n",
              "      <td>NaN</td>\n",
              "      <td>NaN</td>\n",
              "      <td>8734</td>\n",
              "    </tr>\n",
              "    <tr>\n",
              "      <th>27</th>\n",
              "      <td>10~29인</td>\n",
              "      <td>11051</td>\n",
              "      <td>13858</td>\n",
              "      <td>NaN</td>\n",
              "    </tr>\n",
              "    <tr>\n",
              "      <th>28</th>\n",
              "      <td>30~49인</td>\n",
              "      <td>4717</td>\n",
              "      <td>6025</td>\n",
              "      <td>6274</td>\n",
              "    </tr>\n",
              "    <tr>\n",
              "      <th>29</th>\n",
              "      <td>50~99인</td>\n",
              "      <td>4482</td>\n",
              "      <td>6008</td>\n",
              "      <td>6750</td>\n",
              "    </tr>\n",
              "    <tr>\n",
              "      <th>30</th>\n",
              "      <td>100~199인</td>\n",
              "      <td>NaN</td>\n",
              "      <td>NaN</td>\n",
              "      <td>5354</td>\n",
              "    </tr>\n",
              "    <tr>\n",
              "      <th>31</th>\n",
              "      <td>200~299인</td>\n",
              "      <td>NaN</td>\n",
              "      <td>NaN</td>\n",
              "      <td>2200</td>\n",
              "    </tr>\n",
              "    <tr>\n",
              "      <th>32</th>\n",
              "      <td>100~299인</td>\n",
              "      <td>4050</td>\n",
              "      <td>6145</td>\n",
              "      <td>NaN</td>\n",
              "    </tr>\n",
              "    <tr>\n",
              "      <th>33</th>\n",
              "      <td>300~499인</td>\n",
              "      <td>1157</td>\n",
              "      <td>1805</td>\n",
              "      <td>2026</td>\n",
              "    </tr>\n",
              "    <tr>\n",
              "      <th>34</th>\n",
              "      <td>500~999인</td>\n",
              "      <td>818</td>\n",
              "      <td>1321</td>\n",
              "      <td>2187</td>\n",
              "    </tr>\n",
              "    <tr>\n",
              "      <th>35</th>\n",
              "      <td>1000~1999인</td>\n",
              "      <td>NaN</td>\n",
              "      <td>NaN</td>\n",
              "      <td>1102</td>\n",
              "    </tr>\n",
              "    <tr>\n",
              "      <th>36</th>\n",
              "      <td>2000인 이상</td>\n",
              "      <td>NaN</td>\n",
              "      <td>NaN</td>\n",
              "      <td>4309</td>\n",
              "    </tr>\n",
              "    <tr>\n",
              "      <th>37</th>\n",
              "      <td>1000인 이상</td>\n",
              "      <td>2972</td>\n",
              "      <td>4238</td>\n",
              "      <td>NaN</td>\n",
              "    </tr>\n",
              "    <tr>\n",
              "      <th>38</th>\n",
              "      <td>분류불능</td>\n",
              "      <td>5659</td>\n",
              "      <td>521</td>\n",
              "      <td>223</td>\n",
              "    </tr>\n",
              "  </tbody>\n",
              "</table>\n",
              "</div>"
            ],
            "text/plain": [
              "           소분류   2017   2018   2019\n",
              "23       5인 미만  10489  12123  13393\n",
              "24        5~9인   7081   7955   8510\n",
              "25      10~15인    NaN    NaN   6308\n",
              "26      16~29인    NaN    NaN   8734\n",
              "27      10~29인  11051  13858    NaN\n",
              "28      30~49인   4717   6025   6274\n",
              "29      50~99인   4482   6008   6750\n",
              "30    100~199인    NaN    NaN   5354\n",
              "31    200~299인    NaN    NaN   2200\n",
              "32    100~299인   4050   6145    NaN\n",
              "33    300~499인   1157   1805   2026\n",
              "34    500~999인    818   1321   2187\n",
              "35  1000~1999인    NaN    NaN   1102\n",
              "36    2000인 이상    NaN    NaN   4309\n",
              "37    1000인 이상   2972   4238    NaN\n",
              "38        분류불능   5659    521    223"
            ]
          },
          "metadata": {},
          "execution_count": 6
        }
      ]
    },
    {
      "cell_type": "code",
      "metadata": {
        "colab": {
          "base_uri": "https://localhost:8080/",
          "height": 237
        },
        "id": "oU2gSfuMoSby",
        "outputId": "dcfcc5e1-61cb-4bfb-a26f-6746a4ea8c49"
      },
      "source": [
        "df1_scale.dropna(inplace=True) # nan가 있는 행 제거\n",
        "df1_scale = df1_scale.iloc[:-1] # 마지막 소분류가 분류불능인 행 제거\n",
        "df1_scale"
      ],
      "execution_count": 7,
      "outputs": [
        {
          "output_type": "execute_result",
          "data": {
            "text/html": [
              "<div>\n",
              "<style scoped>\n",
              "    .dataframe tbody tr th:only-of-type {\n",
              "        vertical-align: middle;\n",
              "    }\n",
              "\n",
              "    .dataframe tbody tr th {\n",
              "        vertical-align: top;\n",
              "    }\n",
              "\n",
              "    .dataframe thead th {\n",
              "        text-align: right;\n",
              "    }\n",
              "</style>\n",
              "<table border=\"1\" class=\"dataframe\">\n",
              "  <thead>\n",
              "    <tr style=\"text-align: right;\">\n",
              "      <th></th>\n",
              "      <th>소분류</th>\n",
              "      <th>2017</th>\n",
              "      <th>2018</th>\n",
              "      <th>2019</th>\n",
              "    </tr>\n",
              "  </thead>\n",
              "  <tbody>\n",
              "    <tr>\n",
              "      <th>23</th>\n",
              "      <td>5인 미만</td>\n",
              "      <td>10489</td>\n",
              "      <td>12123</td>\n",
              "      <td>13393</td>\n",
              "    </tr>\n",
              "    <tr>\n",
              "      <th>24</th>\n",
              "      <td>5~9인</td>\n",
              "      <td>7081</td>\n",
              "      <td>7955</td>\n",
              "      <td>8510</td>\n",
              "    </tr>\n",
              "    <tr>\n",
              "      <th>28</th>\n",
              "      <td>30~49인</td>\n",
              "      <td>4717</td>\n",
              "      <td>6025</td>\n",
              "      <td>6274</td>\n",
              "    </tr>\n",
              "    <tr>\n",
              "      <th>29</th>\n",
              "      <td>50~99인</td>\n",
              "      <td>4482</td>\n",
              "      <td>6008</td>\n",
              "      <td>6750</td>\n",
              "    </tr>\n",
              "    <tr>\n",
              "      <th>33</th>\n",
              "      <td>300~499인</td>\n",
              "      <td>1157</td>\n",
              "      <td>1805</td>\n",
              "      <td>2026</td>\n",
              "    </tr>\n",
              "    <tr>\n",
              "      <th>34</th>\n",
              "      <td>500~999인</td>\n",
              "      <td>818</td>\n",
              "      <td>1321</td>\n",
              "      <td>2187</td>\n",
              "    </tr>\n",
              "  </tbody>\n",
              "</table>\n",
              "</div>"
            ],
            "text/plain": [
              "         소분류   2017   2018   2019\n",
              "23     5인 미만  10489  12123  13393\n",
              "24      5~9인   7081   7955   8510\n",
              "28    30~49인   4717   6025   6274\n",
              "29    50~99인   4482   6008   6750\n",
              "33  300~499인   1157   1805   2026\n",
              "34  500~999인    818   1321   2187"
            ]
          },
          "metadata": {},
          "execution_count": 7
        }
      ]
    },
    {
      "cell_type": "code",
      "metadata": {
        "colab": {
          "base_uri": "https://localhost:8080/",
          "height": 237
        },
        "id": "wYzeE1KIoSbz",
        "outputId": "ee007673-9390-4722-fc0f-15dbd300ab99"
      },
      "source": [
        "df1_scale.set_index('소분류', inplace=True)\n",
        "df1_scale.index = ['소', '소', '중', '중', '대', '대']\n",
        "df1_scale"
      ],
      "execution_count": 8,
      "outputs": [
        {
          "output_type": "execute_result",
          "data": {
            "text/html": [
              "<div>\n",
              "<style scoped>\n",
              "    .dataframe tbody tr th:only-of-type {\n",
              "        vertical-align: middle;\n",
              "    }\n",
              "\n",
              "    .dataframe tbody tr th {\n",
              "        vertical-align: top;\n",
              "    }\n",
              "\n",
              "    .dataframe thead th {\n",
              "        text-align: right;\n",
              "    }\n",
              "</style>\n",
              "<table border=\"1\" class=\"dataframe\">\n",
              "  <thead>\n",
              "    <tr style=\"text-align: right;\">\n",
              "      <th></th>\n",
              "      <th>2017</th>\n",
              "      <th>2018</th>\n",
              "      <th>2019</th>\n",
              "    </tr>\n",
              "  </thead>\n",
              "  <tbody>\n",
              "    <tr>\n",
              "      <th>소</th>\n",
              "      <td>10489</td>\n",
              "      <td>12123</td>\n",
              "      <td>13393</td>\n",
              "    </tr>\n",
              "    <tr>\n",
              "      <th>소</th>\n",
              "      <td>7081</td>\n",
              "      <td>7955</td>\n",
              "      <td>8510</td>\n",
              "    </tr>\n",
              "    <tr>\n",
              "      <th>중</th>\n",
              "      <td>4717</td>\n",
              "      <td>6025</td>\n",
              "      <td>6274</td>\n",
              "    </tr>\n",
              "    <tr>\n",
              "      <th>중</th>\n",
              "      <td>4482</td>\n",
              "      <td>6008</td>\n",
              "      <td>6750</td>\n",
              "    </tr>\n",
              "    <tr>\n",
              "      <th>대</th>\n",
              "      <td>1157</td>\n",
              "      <td>1805</td>\n",
              "      <td>2026</td>\n",
              "    </tr>\n",
              "    <tr>\n",
              "      <th>대</th>\n",
              "      <td>818</td>\n",
              "      <td>1321</td>\n",
              "      <td>2187</td>\n",
              "    </tr>\n",
              "  </tbody>\n",
              "</table>\n",
              "</div>"
            ],
            "text/plain": [
              "    2017   2018   2019\n",
              "소  10489  12123  13393\n",
              "소   7081   7955   8510\n",
              "중   4717   6025   6274\n",
              "중   4482   6008   6750\n",
              "대   1157   1805   2026\n",
              "대    818   1321   2187"
            ]
          },
          "metadata": {},
          "execution_count": 8
        }
      ]
    },
    {
      "cell_type": "code",
      "metadata": {
        "id": "jfyLWhKFoSb1"
      },
      "source": [
        "df1_scale = df1_scale.astype('int')"
      ],
      "execution_count": 9,
      "outputs": []
    },
    {
      "cell_type": "code",
      "metadata": {
        "id": "jqfuJQUHoSb1"
      },
      "source": [
        "df1_scale.reset_index(inplace=True)"
      ],
      "execution_count": 10,
      "outputs": []
    },
    {
      "cell_type": "code",
      "metadata": {
        "colab": {
          "base_uri": "https://localhost:8080/"
        },
        "id": "Y4y6HSbqoSb2",
        "outputId": "47f1bba1-aa6f-4194-ea5a-c0fa1f9b23d5"
      },
      "source": [
        "df1_scale.columns = ['규모', '2017', '2018', '2019']\n",
        "df1_scale.groupby('규모').sum().sum(axis=1)"
      ],
      "execution_count": 11,
      "outputs": [
        {
          "output_type": "execute_result",
          "data": {
            "text/plain": [
              "규모\n",
              "대     9314\n",
              "소    59551\n",
              "중    34256\n",
              "dtype: int64"
            ]
          },
          "metadata": {},
          "execution_count": 11
        }
      ]
    },
    {
      "cell_type": "code",
      "metadata": {
        "colab": {
          "base_uri": "https://localhost:8080/",
          "height": 175
        },
        "id": "ZBhB3R05oSb2",
        "outputId": "17d6314d-ec5b-4d76-f22a-4d69c748e860"
      },
      "source": [
        "df1_scale.groupby('규모').sum().reindex(index=['소', '중', '대'])"
      ],
      "execution_count": 12,
      "outputs": [
        {
          "output_type": "execute_result",
          "data": {
            "text/html": [
              "<div>\n",
              "<style scoped>\n",
              "    .dataframe tbody tr th:only-of-type {\n",
              "        vertical-align: middle;\n",
              "    }\n",
              "\n",
              "    .dataframe tbody tr th {\n",
              "        vertical-align: top;\n",
              "    }\n",
              "\n",
              "    .dataframe thead th {\n",
              "        text-align: right;\n",
              "    }\n",
              "</style>\n",
              "<table border=\"1\" class=\"dataframe\">\n",
              "  <thead>\n",
              "    <tr style=\"text-align: right;\">\n",
              "      <th></th>\n",
              "      <th>2017</th>\n",
              "      <th>2018</th>\n",
              "      <th>2019</th>\n",
              "    </tr>\n",
              "    <tr>\n",
              "      <th>규모</th>\n",
              "      <th></th>\n",
              "      <th></th>\n",
              "      <th></th>\n",
              "    </tr>\n",
              "  </thead>\n",
              "  <tbody>\n",
              "    <tr>\n",
              "      <th>소</th>\n",
              "      <td>17570</td>\n",
              "      <td>20078</td>\n",
              "      <td>21903</td>\n",
              "    </tr>\n",
              "    <tr>\n",
              "      <th>중</th>\n",
              "      <td>9199</td>\n",
              "      <td>12033</td>\n",
              "      <td>13024</td>\n",
              "    </tr>\n",
              "    <tr>\n",
              "      <th>대</th>\n",
              "      <td>1975</td>\n",
              "      <td>3126</td>\n",
              "      <td>4213</td>\n",
              "    </tr>\n",
              "  </tbody>\n",
              "</table>\n",
              "</div>"
            ],
            "text/plain": [
              "     2017   2018   2019\n",
              "규모                     \n",
              "소   17570  20078  21903\n",
              "중    9199  12033  13024\n",
              "대    1975   3126   4213"
            ]
          },
          "metadata": {},
          "execution_count": 12
        }
      ]
    },
    {
      "cell_type": "code",
      "metadata": {
        "colab": {
          "base_uri": "https://localhost:8080/",
          "height": 294
        },
        "id": "ZSZFWQKioSb3",
        "outputId": "4115bf53-5a51-4e57-f202-d530662fd784"
      },
      "source": [
        "df1_scale.groupby('규모').sum().reindex(index=['소', '중', '대']).plot.bar(rot=0)\n",
        "plt.title('규모 및 연도별 재해자수')\n",
        "plt.show()"
      ],
      "execution_count": 13,
      "outputs": [
        {
          "output_type": "display_data",
          "data": {
            "image/png": "[encoded data removed]",
            "text/plain": [
              "<Figure size 432x288 with 1 Axes>"
            ]
          },
          "metadata": {
            "needs_background": "light"
          }
        }
      ]
    },
    {
      "cell_type": "code",
      "metadata": {
        "colab": {
          "base_uri": "https://localhost:8080/",
          "height": 294
        },
        "id": "oiuugYKXoSb3",
        "outputId": "0f55bac4-188b-417c-bd5e-4d2ca929fb70"
      },
      "source": [
        "df1_scale.groupby('규모').sum().reindex(index=['소', '중', '대']).plot.bar(stacked=True, rot=0)\n",
        "plt.title('규모 및 연도별 재해자수')\n",
        "plt.show()"
      ],
      "execution_count": 14,
      "outputs": [
        {
          "output_type": "display_data",
          "data": {
            "image/png": "[encoded data removed]",
            "text/plain": [
              "<Figure size 432x288 with 1 Axes>"
            ]
          },
          "metadata": {
            "needs_background": "light"
          }
        }
      ]
    },
    {
      "cell_type": "code",
      "metadata": {
        "colab": {
          "base_uri": "https://localhost:8080/",
          "height": 294
        },
        "id": "lRu59kZuoSb4",
        "outputId": "eacba7f4-3e92-4e26-e837-eff7f79ed6cc"
      },
      "source": [
        "df1_scale.groupby('규모').sum().sum(axis=1).reindex(index=['소', '중', '대']).plot.bar(rot=0)\n",
        "plt.title('규모 및 연도별 재해자수')\n",
        "plt.show()"
      ],
      "execution_count": 15,
      "outputs": [
        {
          "output_type": "display_data",
          "data": {
            "image/png": "[encoded data removed]",
            "text/plain": [
              "<Figure size 432x288 with 1 Axes>"
            ]
          },
          "metadata": {
            "needs_background": "light"
          }
        }
      ]
    },
    {
      "cell_type": "code",
      "metadata": {
        "colab": {
          "base_uri": "https://localhost:8080/",
          "height": 263
        },
        "id": "H_n3ZuY2oSb4",
        "outputId": "f06e3dc5-7dfd-4f1c-cbb2-17ccfbd5ad27"
      },
      "source": [
        "df1_scale.groupby('규모').sum().sum(axis=1).plot.pie(autopct = '%.2f%%') # autopct: 부채꼴 안에 표시될 숫자의 형식을 지정\n",
        "plt.title('규모별 재해자수 비율')\n",
        "plt.axis('equal') # 원형\n",
        "plt.ylabel('')\n",
        "plt.show()"
      ],
      "execution_count": 16,
      "outputs": [
        {
          "output_type": "display_data",
          "data": {
            "image/png": "[encoded data removed]",
            "text/plain": [
              "<Figure size 432x288 with 1 Axes>"
            ]
          },
          "metadata": {}
        }
      ]
    },
    {
      "cell_type": "markdown",
      "metadata": {
        "id": "3h0B4GhXoSb5"
      },
      "source": [
        "### 발생형태별 eda"
      ]
    },
    {
      "cell_type": "code",
      "metadata": {
        "id": "ZfN1fholoSb7"
      },
      "source": [
        "df1_form = df1.drop('특성별', axis=1)[df1.특성별 == '발생형태별']"
      ],
      "execution_count": 17,
      "outputs": []
    },
    {
      "cell_type": "code",
      "metadata": {
        "id": "MhEm-q-uoSb7"
      },
      "source": [
        "df1_form = df1_form[:-3]"
      ],
      "execution_count": 18,
      "outputs": []
    },
    {
      "cell_type": "code",
      "metadata": {
        "colab": {
          "base_uri": "https://localhost:8080/",
          "height": 771
        },
        "id": "Ithn5TWLoSb8",
        "outputId": "dc6ed9d8-85a9-4830-cff9-c9a6118ee434"
      },
      "source": [
        "df1_form.set_index('소분류', inplace=True)\n",
        "df1_form = df1_form.astype('int')\n",
        "df1_form"
      ],
      "execution_count": 19,
      "outputs": [
        {
          "output_type": "execute_result",
          "data": {
            "text/html": [
              "<div>\n",
              "<style scoped>\n",
              "    .dataframe tbody tr th:only-of-type {\n",
              "        vertical-align: middle;\n",
              "    }\n",
              "\n",
              "    .dataframe tbody tr th {\n",
              "        vertical-align: top;\n",
              "    }\n",
              "\n",
              "    .dataframe thead th {\n",
              "        text-align: right;\n",
              "    }\n",
              "</style>\n",
              "<table border=\"1\" class=\"dataframe\">\n",
              "  <thead>\n",
              "    <tr style=\"text-align: right;\">\n",
              "      <th></th>\n",
              "      <th>2017</th>\n",
              "      <th>2018</th>\n",
              "      <th>2019</th>\n",
              "    </tr>\n",
              "    <tr>\n",
              "      <th>소분류</th>\n",
              "      <th></th>\n",
              "      <th></th>\n",
              "      <th></th>\n",
              "    </tr>\n",
              "  </thead>\n",
              "  <tbody>\n",
              "    <tr>\n",
              "      <th>넘어짐(사람이 미끄러지거나 넘어짐)</th>\n",
              "      <td>11293</td>\n",
              "      <td>14082</td>\n",
              "      <td>16021</td>\n",
              "    </tr>\n",
              "    <tr>\n",
              "      <th>끼임(기계설비에 끼이거나 감김)</th>\n",
              "      <td>8049</td>\n",
              "      <td>8560</td>\n",
              "      <td>9017</td>\n",
              "    </tr>\n",
              "    <tr>\n",
              "      <th>부딪힘(물체에 부딪힘)</th>\n",
              "      <td>5297</td>\n",
              "      <td>6466</td>\n",
              "      <td>7434</td>\n",
              "    </tr>\n",
              "    <tr>\n",
              "      <th>떨어짐(높이가 있는 곳에서 사람이 떨어짐)</th>\n",
              "      <td>7633</td>\n",
              "      <td>7390</td>\n",
              "      <td>7249</td>\n",
              "    </tr>\n",
              "    <tr>\n",
              "      <th>불균형 및 무리한 동작</th>\n",
              "      <td>3559</td>\n",
              "      <td>4368</td>\n",
              "      <td>5791</td>\n",
              "    </tr>\n",
              "    <tr>\n",
              "      <th>절단·베임·찔림</th>\n",
              "      <td>4596</td>\n",
              "      <td>4941</td>\n",
              "      <td>5782</td>\n",
              "    </tr>\n",
              "    <tr>\n",
              "      <th>물체에 맞음(날아오거나 떨어진 물체에 맞음)</th>\n",
              "      <td>4095</td>\n",
              "      <td>4422</td>\n",
              "      <td>4793</td>\n",
              "    </tr>\n",
              "    <tr>\n",
              "      <th>사업장외 교통사고</th>\n",
              "      <td>1037</td>\n",
              "      <td>1686</td>\n",
              "      <td>1710</td>\n",
              "    </tr>\n",
              "    <tr>\n",
              "      <th>이상온도 접촉</th>\n",
              "      <td>1271</td>\n",
              "      <td>1426</td>\n",
              "      <td>1654</td>\n",
              "    </tr>\n",
              "    <tr>\n",
              "      <th>기타</th>\n",
              "      <td>722</td>\n",
              "      <td>991</td>\n",
              "      <td>1150</td>\n",
              "    </tr>\n",
              "    <tr>\n",
              "      <th>깔림·뒤집힘(물체의 쓰러짐이나 뒤집힘)</th>\n",
              "      <td>1011</td>\n",
              "      <td>920</td>\n",
              "      <td>885</td>\n",
              "    </tr>\n",
              "    <tr>\n",
              "      <th>사업장내 교통사고</th>\n",
              "      <td>229</td>\n",
              "      <td>343</td>\n",
              "      <td>361</td>\n",
              "    </tr>\n",
              "    <tr>\n",
              "      <th>폭발·파열</th>\n",
              "      <td>192</td>\n",
              "      <td>259</td>\n",
              "      <td>334</td>\n",
              "    </tr>\n",
              "    <tr>\n",
              "      <th>화학물질누출·접촉</th>\n",
              "      <td>195</td>\n",
              "      <td>290</td>\n",
              "      <td>285</td>\n",
              "    </tr>\n",
              "    <tr>\n",
              "      <th>감전</th>\n",
              "      <td>170</td>\n",
              "      <td>194</td>\n",
              "      <td>186</td>\n",
              "    </tr>\n",
              "    <tr>\n",
              "      <th>화재</th>\n",
              "      <td>186</td>\n",
              "      <td>248</td>\n",
              "      <td>179</td>\n",
              "    </tr>\n",
              "    <tr>\n",
              "      <th>체육행사 등의 사고</th>\n",
              "      <td>135</td>\n",
              "      <td>159</td>\n",
              "      <td>172</td>\n",
              "    </tr>\n",
              "    <tr>\n",
              "      <th>무너짐(건축물이나 쌓여진 물체가 무너짐)</th>\n",
              "      <td>190</td>\n",
              "      <td>150</td>\n",
              "      <td>162</td>\n",
              "    </tr>\n",
              "    <tr>\n",
              "      <th>동물상해</th>\n",
              "      <td>147</td>\n",
              "      <td>185</td>\n",
              "      <td>158</td>\n",
              "    </tr>\n",
              "    <tr>\n",
              "      <th>폭력행위</th>\n",
              "      <td>79</td>\n",
              "      <td>115</td>\n",
              "      <td>143</td>\n",
              "    </tr>\n",
              "    <tr>\n",
              "      <th>빠짐·익사</th>\n",
              "      <td>26</td>\n",
              "      <td>64</td>\n",
              "      <td>49</td>\n",
              "    </tr>\n",
              "    <tr>\n",
              "      <th>산소결핍</th>\n",
              "      <td>11</td>\n",
              "      <td>14</td>\n",
              "      <td>19</td>\n",
              "    </tr>\n",
              "  </tbody>\n",
              "</table>\n",
              "</div>"
            ],
            "text/plain": [
              "                           2017   2018   2019\n",
              "소분류                                          \n",
              "넘어짐(사람이 미끄러지거나 넘어짐)       11293  14082  16021\n",
              "끼임(기계설비에 끼이거나 감김)          8049   8560   9017\n",
              "부딪힘(물체에 부딪힘)               5297   6466   7434\n",
              "떨어짐(높이가 있는 곳에서 사람이 떨어짐)    7633   7390   7249\n",
              "불균형 및 무리한 동작               3559   4368   5791\n",
              "절단·베임·찔림                   4596   4941   5782\n",
              "물체에 맞음(날아오거나 떨어진 물체에 맞음)   4095   4422   4793\n",
              "사업장외 교통사고                  1037   1686   1710\n",
              "이상온도 접촉                    1271   1426   1654\n",
              "기타                          722    991   1150\n",
              "깔림·뒤집힘(물체의 쓰러짐이나 뒤집힘)      1011    920    885\n",
              "사업장내 교통사고                   229    343    361\n",
              "폭발·파열                       192    259    334\n",
              "화학물질누출·접촉                   195    290    285\n",
              "감전                          170    194    186\n",
              "화재                          186    248    179\n",
              "체육행사 등의 사고                  135    159    172\n",
              "무너짐(건축물이나 쌓여진 물체가 무너짐)      190    150    162\n",
              "동물상해                        147    185    158\n",
              "폭력행위                         79    115    143\n",
              "빠짐·익사                        26     64     49\n",
              "산소결핍                         11     14     19"
            ]
          },
          "metadata": {},
          "execution_count": 19
        }
      ]
    },
    {
      "cell_type": "code",
      "metadata": {
        "colab": {
          "base_uri": "https://localhost:8080/"
        },
        "id": "72Ga9m3HoSb8",
        "outputId": "2e724aac-3897-481f-975d-04d23561f987"
      },
      "source": [
        "df1_form.sum(axis=1).sort_values(ascending=False)"
      ],
      "execution_count": 20,
      "outputs": [
        {
          "output_type": "execute_result",
          "data": {
            "text/plain": [
              "소분류\n",
              "넘어짐(사람이 미끄러지거나 넘어짐)         41396\n",
              "끼임(기계설비에 끼이거나 감김)           25626\n",
              "떨어짐(높이가 있는 곳에서 사람이 떨어짐)     22272\n",
              "부딪힘(물체에 부딪힘)                19197\n",
              "절단·베임·찔림                    15319\n",
              "불균형 및 무리한 동작                13718\n",
              "물체에 맞음(날아오거나 떨어진 물체에 맞음)    13310\n",
              "사업장외 교통사고                    4433\n",
              "이상온도 접촉                      4351\n",
              "기타                           2863\n",
              "깔림·뒤집힘(물체의 쓰러짐이나 뒤집힘)        2816\n",
              "사업장내 교통사고                     933\n",
              "폭발·파열                         785\n",
              "화학물질누출·접촉                     770\n",
              "화재                            613\n",
              "감전                            550\n",
              "무너짐(건축물이나 쌓여진 물체가 무너짐)        502\n",
              "동물상해                          490\n",
              "체육행사 등의 사고                    466\n",
              "폭력행위                          337\n",
              "빠짐·익사                         139\n",
              "산소결핍                           44\n",
              "dtype: int64"
            ]
          },
          "metadata": {},
          "execution_count": 20
        }
      ]
    },
    {
      "cell_type": "code",
      "metadata": {
        "colab": {
          "base_uri": "https://localhost:8080/",
          "height": 501
        },
        "id": "UAnSKQx9oSb9",
        "outputId": "f2b2c2fa-bcce-4001-8e44-8c4f4b6b6e4c"
      },
      "source": [
        "colors = sns.color_palette('hls',len(df1_form)) ## 색상 지정\n",
        "df1_form.sum(axis=1).sort_values().plot(kind='barh', grid=True, figsize=(12,8), color=colors)\n",
        "plt.title('발생형태별 재해자수', size=15)\n",
        "plt.show()"
      ],
      "execution_count": 21,
      "outputs": [
        {
          "output_type": "display_data",
          "data": {
            "image/png": "[encoded data removed]",
            "text/plain": [
              "<Figure size 864x576 with 1 Axes>"
            ]
          },
          "metadata": {
            "needs_background": "light"
          }
        }
      ]
    },
    {
      "cell_type": "markdown",
      "metadata": {
        "id": "YLnImkZMDC8W"
      },
      "source": [
        "## 사망자"
      ]
    },
    {
      "cell_type": "code",
      "metadata": {
        "colab": {
          "base_uri": "https://localhost:8080/",
          "height": 423
        },
        "id": "2jaq4n0GC7v4",
        "outputId": "27b52007-d33b-4a2e-9b7c-2fb78cc25788"
      },
      "source": [
        "df2 = pd.read_csv('/content/drive/MyDrive/최종프로젝트/자료/eda자료/산업재해_사망자.csv', encoding='euc-kr')\n",
        "df2"
      ],
      "execution_count": 22,
      "outputs": [
        {
          "output_type": "execute_result",
          "data": {
            "text/html": [
              "<div>\n",
              "<style scoped>\n",
              "    .dataframe tbody tr th:only-of-type {\n",
              "        vertical-align: middle;\n",
              "    }\n",
              "\n",
              "    .dataframe tbody tr th {\n",
              "        vertical-align: top;\n",
              "    }\n",
              "\n",
              "    .dataframe thead th {\n",
              "        text-align: right;\n",
              "    }\n",
              "</style>\n",
              "<table border=\"1\" class=\"dataframe\">\n",
              "  <thead>\n",
              "    <tr style=\"text-align: right;\">\n",
              "      <th></th>\n",
              "      <th>특성별(1)</th>\n",
              "      <th>특성별(2)</th>\n",
              "      <th>2017</th>\n",
              "      <th>2018</th>\n",
              "      <th>2019</th>\n",
              "    </tr>\n",
              "  </thead>\n",
              "  <tbody>\n",
              "    <tr>\n",
              "      <th>0</th>\n",
              "      <td>전체</td>\n",
              "      <td>소계</td>\n",
              "      <td>876</td>\n",
              "      <td>836</td>\n",
              "      <td>808</td>\n",
              "    </tr>\n",
              "    <tr>\n",
              "      <th>1</th>\n",
              "      <td>산업별</td>\n",
              "      <td>건설업</td>\n",
              "      <td>380</td>\n",
              "      <td>310</td>\n",
              "      <td>330</td>\n",
              "    </tr>\n",
              "    <tr>\n",
              "      <th>2</th>\n",
              "      <td>산업별</td>\n",
              "      <td>제조업</td>\n",
              "      <td>206</td>\n",
              "      <td>209</td>\n",
              "      <td>189</td>\n",
              "    </tr>\n",
              "    <tr>\n",
              "      <th>3</th>\n",
              "      <td>산업별</td>\n",
              "      <td>운수 및 창고업</td>\n",
              "      <td>32</td>\n",
              "      <td>36</td>\n",
              "      <td>35</td>\n",
              "    </tr>\n",
              "    <tr>\n",
              "      <th>4</th>\n",
              "      <td>산업별</td>\n",
              "      <td>도매 및 소매업</td>\n",
              "      <td>32</td>\n",
              "      <td>40</td>\n",
              "      <td>27</td>\n",
              "    </tr>\n",
              "    <tr>\n",
              "      <th>...</th>\n",
              "      <td>...</td>\n",
              "      <td>...</td>\n",
              "      <td>...</td>\n",
              "      <td>...</td>\n",
              "      <td>...</td>\n",
              "    </tr>\n",
              "    <tr>\n",
              "      <th>110</th>\n",
              "      <td>작업내용별</td>\n",
              "      <td>물체의 가공 취급 작업</td>\n",
              "      <td>60</td>\n",
              "      <td>66</td>\n",
              "      <td>52</td>\n",
              "    </tr>\n",
              "    <tr>\n",
              "      <th>111</th>\n",
              "      <td>작업내용별</td>\n",
              "      <td>해당없음</td>\n",
              "      <td>28</td>\n",
              "      <td>49</td>\n",
              "      <td>39</td>\n",
              "    </tr>\n",
              "    <tr>\n",
              "      <th>112</th>\n",
              "      <td>작업내용별</td>\n",
              "      <td>채광 벌목 등의 작업</td>\n",
              "      <td>29</td>\n",
              "      <td>20</td>\n",
              "      <td>38</td>\n",
              "    </tr>\n",
              "    <tr>\n",
              "      <th>113</th>\n",
              "      <td>작업내용별</td>\n",
              "      <td>행정 의료 등 서비스작업</td>\n",
              "      <td>28</td>\n",
              "      <td>24</td>\n",
              "      <td>23</td>\n",
              "    </tr>\n",
              "    <tr>\n",
              "      <th>114</th>\n",
              "      <td>작업내용별</td>\n",
              "      <td>분류불능 또는 공란</td>\n",
              "      <td>22</td>\n",
              "      <td>15</td>\n",
              "      <td>21</td>\n",
              "    </tr>\n",
              "  </tbody>\n",
              "</table>\n",
              "<p>115 rows × 5 columns</p>\n",
              "</div>"
            ],
            "text/plain": [
              "    특성별(1)         특성별(2) 2017 2018 2019\n",
              "0       전체             소계  876  836  808\n",
              "1      산업별            건설업  380  310  330\n",
              "2      산업별            제조업  206  209  189\n",
              "3      산업별       운수 및 창고업   32   36   35\n",
              "4      산업별       도매 및 소매업   32   40   27\n",
              "..     ...            ...  ...  ...  ...\n",
              "110  작업내용별   물체의 가공 취급 작업   60   66   52\n",
              "111  작업내용별           해당없음   28   49   39\n",
              "112  작업내용별    채광 벌목 등의 작업   29   20   38\n",
              "113  작업내용별  행정 의료 등 서비스작업   28   24   23\n",
              "114  작업내용별     분류불능 또는 공란   22   15   21\n",
              "\n",
              "[115 rows x 5 columns]"
            ]
          },
          "metadata": {},
          "execution_count": 22
        }
      ]
    },
    {
      "cell_type": "code",
      "metadata": {
        "id": "3XCJ9B-yDSDs"
      },
      "source": [
        "df2.columns = ['특성별', '소분류', '2017', '2018', '2019']"
      ],
      "execution_count": 23,
      "outputs": []
    },
    {
      "cell_type": "code",
      "metadata": {
        "colab": {
          "base_uri": "https://localhost:8080/"
        },
        "id": "-iIOI7XZESxf",
        "outputId": "dcc5c0bd-0eb1-41d8-d8b9-7ada16c6c94c"
      },
      "source": [
        "np.unique(df2.특성별)"
      ],
      "execution_count": 24,
      "outputs": [
        {
          "output_type": "execute_result",
          "data": {
            "text/plain": [
              "array(['규모별', '기인물별', '발생형태별', '산업별', '성별', '연령별', '작업내용별', '작업지역·공정별',\n",
              "       '전체', '직종별'], dtype=object)"
            ]
          },
          "metadata": {},
          "execution_count": 24
        }
      ]
    },
    {
      "cell_type": "markdown",
      "metadata": {
        "id": "TgAIR7agDlm3"
      },
      "source": [
        "### 규모별 eda"
      ]
    },
    {
      "cell_type": "code",
      "metadata": {
        "id": "A07qE0r0M0SA"
      },
      "source": [
        "df2_scale = df2.drop('특성별', axis=1)[df2.특성별 == '규모별']"
      ],
      "execution_count": 25,
      "outputs": []
    },
    {
      "cell_type": "code",
      "metadata": {
        "colab": {
          "base_uri": "https://localhost:8080/",
          "height": 551
        },
        "id": "U-H2IoHjNUHS",
        "outputId": "ec9b05b3-c044-4bcc-9d20-c9120aa23d3c"
      },
      "source": [
        "df2_scale = df2_scale.replace('-', np.nan)\n",
        "df2_scale"
      ],
      "execution_count": 26,
      "outputs": [
        {
          "output_type": "execute_result",
          "data": {
            "text/html": [
              "<div>\n",
              "<style scoped>\n",
              "    .dataframe tbody tr th:only-of-type {\n",
              "        vertical-align: middle;\n",
              "    }\n",
              "\n",
              "    .dataframe tbody tr th {\n",
              "        vertical-align: top;\n",
              "    }\n",
              "\n",
              "    .dataframe thead th {\n",
              "        text-align: right;\n",
              "    }\n",
              "</style>\n",
              "<table border=\"1\" class=\"dataframe\">\n",
              "  <thead>\n",
              "    <tr style=\"text-align: right;\">\n",
              "      <th></th>\n",
              "      <th>소분류</th>\n",
              "      <th>2017</th>\n",
              "      <th>2018</th>\n",
              "      <th>2019</th>\n",
              "    </tr>\n",
              "  </thead>\n",
              "  <tbody>\n",
              "    <tr>\n",
              "      <th>21</th>\n",
              "      <td>5인 미만</td>\n",
              "      <td>214</td>\n",
              "      <td>232</td>\n",
              "      <td>270</td>\n",
              "    </tr>\n",
              "    <tr>\n",
              "      <th>22</th>\n",
              "      <td>5~9인</td>\n",
              "      <td>140</td>\n",
              "      <td>116</td>\n",
              "      <td>123</td>\n",
              "    </tr>\n",
              "    <tr>\n",
              "      <th>23</th>\n",
              "      <td>10~15인</td>\n",
              "      <td>NaN</td>\n",
              "      <td>NaN</td>\n",
              "      <td>77</td>\n",
              "    </tr>\n",
              "    <tr>\n",
              "      <th>24</th>\n",
              "      <td>16~29인</td>\n",
              "      <td>NaN</td>\n",
              "      <td>NaN</td>\n",
              "      <td>92</td>\n",
              "    </tr>\n",
              "    <tr>\n",
              "      <th>25</th>\n",
              "      <td>10~29인</td>\n",
              "      <td>194</td>\n",
              "      <td>186</td>\n",
              "      <td>NaN</td>\n",
              "    </tr>\n",
              "    <tr>\n",
              "      <th>26</th>\n",
              "      <td>30~49인</td>\n",
              "      <td>62</td>\n",
              "      <td>66</td>\n",
              "      <td>52</td>\n",
              "    </tr>\n",
              "    <tr>\n",
              "      <th>27</th>\n",
              "      <td>50~99인</td>\n",
              "      <td>59</td>\n",
              "      <td>68</td>\n",
              "      <td>47</td>\n",
              "    </tr>\n",
              "    <tr>\n",
              "      <th>28</th>\n",
              "      <td>100~199인</td>\n",
              "      <td>NaN</td>\n",
              "      <td>NaN</td>\n",
              "      <td>54</td>\n",
              "    </tr>\n",
              "    <tr>\n",
              "      <th>29</th>\n",
              "      <td>200~299인</td>\n",
              "      <td>NaN</td>\n",
              "      <td>NaN</td>\n",
              "      <td>17</td>\n",
              "    </tr>\n",
              "    <tr>\n",
              "      <th>30</th>\n",
              "      <td>100~299인</td>\n",
              "      <td>70</td>\n",
              "      <td>82</td>\n",
              "      <td>NaN</td>\n",
              "    </tr>\n",
              "    <tr>\n",
              "      <th>31</th>\n",
              "      <td>300~499인</td>\n",
              "      <td>16</td>\n",
              "      <td>22</td>\n",
              "      <td>19</td>\n",
              "    </tr>\n",
              "    <tr>\n",
              "      <th>32</th>\n",
              "      <td>500~999인</td>\n",
              "      <td>12</td>\n",
              "      <td>17</td>\n",
              "      <td>20</td>\n",
              "    </tr>\n",
              "    <tr>\n",
              "      <th>33</th>\n",
              "      <td>1000~1999인</td>\n",
              "      <td>NaN</td>\n",
              "      <td>NaN</td>\n",
              "      <td>8</td>\n",
              "    </tr>\n",
              "    <tr>\n",
              "      <th>34</th>\n",
              "      <td>2000인 이상</td>\n",
              "      <td>NaN</td>\n",
              "      <td>NaN</td>\n",
              "      <td>19</td>\n",
              "    </tr>\n",
              "    <tr>\n",
              "      <th>35</th>\n",
              "      <td>1000인 이상</td>\n",
              "      <td>19</td>\n",
              "      <td>20</td>\n",
              "      <td>NaN</td>\n",
              "    </tr>\n",
              "    <tr>\n",
              "      <th>36</th>\n",
              "      <td>분류불능 또는 공란</td>\n",
              "      <td>90</td>\n",
              "      <td>27</td>\n",
              "      <td>10</td>\n",
              "    </tr>\n",
              "  </tbody>\n",
              "</table>\n",
              "</div>"
            ],
            "text/plain": [
              "           소분류 2017 2018 2019\n",
              "21       5인 미만  214  232  270\n",
              "22        5~9인  140  116  123\n",
              "23      10~15인  NaN  NaN   77\n",
              "24      16~29인  NaN  NaN   92\n",
              "25      10~29인  194  186  NaN\n",
              "26      30~49인   62   66   52\n",
              "27      50~99인   59   68   47\n",
              "28    100~199인  NaN  NaN   54\n",
              "29    200~299인  NaN  NaN   17\n",
              "30    100~299인   70   82  NaN\n",
              "31    300~499인   16   22   19\n",
              "32    500~999인   12   17   20\n",
              "33  1000~1999인  NaN  NaN    8\n",
              "34    2000인 이상  NaN  NaN   19\n",
              "35    1000인 이상   19   20  NaN\n",
              "36  분류불능 또는 공란   90   27   10"
            ]
          },
          "metadata": {},
          "execution_count": 26
        }
      ]
    },
    {
      "cell_type": "code",
      "metadata": {
        "colab": {
          "base_uri": "https://localhost:8080/",
          "height": 237
        },
        "id": "Gm8TQZABNlwM",
        "outputId": "49042aee-c8c8-4a0a-e182-5aa17b80f6fe"
      },
      "source": [
        "df2_scale.dropna(inplace=True) # nan가 있는 행 제거\n",
        "df2_scale = df2_scale.iloc[:-1] # 마지막 소분류가 분류불능인 행 제거\n",
        "df2_scale"
      ],
      "execution_count": 27,
      "outputs": [
        {
          "output_type": "execute_result",
          "data": {
            "text/html": [
              "<div>\n",
              "<style scoped>\n",
              "    .dataframe tbody tr th:only-of-type {\n",
              "        vertical-align: middle;\n",
              "    }\n",
              "\n",
              "    .dataframe tbody tr th {\n",
              "        vertical-align: top;\n",
              "    }\n",
              "\n",
              "    .dataframe thead th {\n",
              "        text-align: right;\n",
              "    }\n",
              "</style>\n",
              "<table border=\"1\" class=\"dataframe\">\n",
              "  <thead>\n",
              "    <tr style=\"text-align: right;\">\n",
              "      <th></th>\n",
              "      <th>소분류</th>\n",
              "      <th>2017</th>\n",
              "      <th>2018</th>\n",
              "      <th>2019</th>\n",
              "    </tr>\n",
              "  </thead>\n",
              "  <tbody>\n",
              "    <tr>\n",
              "      <th>21</th>\n",
              "      <td>5인 미만</td>\n",
              "      <td>214</td>\n",
              "      <td>232</td>\n",
              "      <td>270</td>\n",
              "    </tr>\n",
              "    <tr>\n",
              "      <th>22</th>\n",
              "      <td>5~9인</td>\n",
              "      <td>140</td>\n",
              "      <td>116</td>\n",
              "      <td>123</td>\n",
              "    </tr>\n",
              "    <tr>\n",
              "      <th>26</th>\n",
              "      <td>30~49인</td>\n",
              "      <td>62</td>\n",
              "      <td>66</td>\n",
              "      <td>52</td>\n",
              "    </tr>\n",
              "    <tr>\n",
              "      <th>27</th>\n",
              "      <td>50~99인</td>\n",
              "      <td>59</td>\n",
              "      <td>68</td>\n",
              "      <td>47</td>\n",
              "    </tr>\n",
              "    <tr>\n",
              "      <th>31</th>\n",
              "      <td>300~499인</td>\n",
              "      <td>16</td>\n",
              "      <td>22</td>\n",
              "      <td>19</td>\n",
              "    </tr>\n",
              "    <tr>\n",
              "      <th>32</th>\n",
              "      <td>500~999인</td>\n",
              "      <td>12</td>\n",
              "      <td>17</td>\n",
              "      <td>20</td>\n",
              "    </tr>\n",
              "  </tbody>\n",
              "</table>\n",
              "</div>"
            ],
            "text/plain": [
              "         소분류 2017 2018 2019\n",
              "21     5인 미만  214  232  270\n",
              "22      5~9인  140  116  123\n",
              "26    30~49인   62   66   52\n",
              "27    50~99인   59   68   47\n",
              "31  300~499인   16   22   19\n",
              "32  500~999인   12   17   20"
            ]
          },
          "metadata": {},
          "execution_count": 27
        }
      ]
    },
    {
      "cell_type": "code",
      "metadata": {
        "colab": {
          "base_uri": "https://localhost:8080/",
          "height": 237
        },
        "id": "kOq9d3CmOf5U",
        "outputId": "f1b8bf5b-21e2-4641-b399-b0f99c2cd0e0"
      },
      "source": [
        "df2_scale.set_index('소분류', inplace=True)\n",
        "df2_scale.index = ['소', '소', '중', '중', '대', '대']\n",
        "df2_scale"
      ],
      "execution_count": 28,
      "outputs": [
        {
          "output_type": "execute_result",
          "data": {
            "text/html": [
              "<div>\n",
              "<style scoped>\n",
              "    .dataframe tbody tr th:only-of-type {\n",
              "        vertical-align: middle;\n",
              "    }\n",
              "\n",
              "    .dataframe tbody tr th {\n",
              "        vertical-align: top;\n",
              "    }\n",
              "\n",
              "    .dataframe thead th {\n",
              "        text-align: right;\n",
              "    }\n",
              "</style>\n",
              "<table border=\"1\" class=\"dataframe\">\n",
              "  <thead>\n",
              "    <tr style=\"text-align: right;\">\n",
              "      <th></th>\n",
              "      <th>2017</th>\n",
              "      <th>2018</th>\n",
              "      <th>2019</th>\n",
              "    </tr>\n",
              "  </thead>\n",
              "  <tbody>\n",
              "    <tr>\n",
              "      <th>소</th>\n",
              "      <td>214</td>\n",
              "      <td>232</td>\n",
              "      <td>270</td>\n",
              "    </tr>\n",
              "    <tr>\n",
              "      <th>소</th>\n",
              "      <td>140</td>\n",
              "      <td>116</td>\n",
              "      <td>123</td>\n",
              "    </tr>\n",
              "    <tr>\n",
              "      <th>중</th>\n",
              "      <td>62</td>\n",
              "      <td>66</td>\n",
              "      <td>52</td>\n",
              "    </tr>\n",
              "    <tr>\n",
              "      <th>중</th>\n",
              "      <td>59</td>\n",
              "      <td>68</td>\n",
              "      <td>47</td>\n",
              "    </tr>\n",
              "    <tr>\n",
              "      <th>대</th>\n",
              "      <td>16</td>\n",
              "      <td>22</td>\n",
              "      <td>19</td>\n",
              "    </tr>\n",
              "    <tr>\n",
              "      <th>대</th>\n",
              "      <td>12</td>\n",
              "      <td>17</td>\n",
              "      <td>20</td>\n",
              "    </tr>\n",
              "  </tbody>\n",
              "</table>\n",
              "</div>"
            ],
            "text/plain": [
              "  2017 2018 2019\n",
              "소  214  232  270\n",
              "소  140  116  123\n",
              "중   62   66   52\n",
              "중   59   68   47\n",
              "대   16   22   19\n",
              "대   12   17   20"
            ]
          },
          "metadata": {},
          "execution_count": 28
        }
      ]
    },
    {
      "cell_type": "code",
      "metadata": {
        "id": "69jy0DjWbWwM"
      },
      "source": [
        "df2_scale = df2_scale.astype('int')"
      ],
      "execution_count": 29,
      "outputs": []
    },
    {
      "cell_type": "code",
      "metadata": {
        "id": "Vo-6dKWcaNyH"
      },
      "source": [
        "df2_scale.reset_index(inplace=True)"
      ],
      "execution_count": 30,
      "outputs": []
    },
    {
      "cell_type": "code",
      "metadata": {
        "colab": {
          "base_uri": "https://localhost:8080/"
        },
        "id": "TQU5y8CPaywd",
        "outputId": "80b20ea1-38be-49e1-d068-7cb5ba867a80"
      },
      "source": [
        "df2_scale.columns = ['규모', '2017', '2018', '2019']\n",
        "df2_scale.groupby('규모').sum().sum(axis=1)"
      ],
      "execution_count": 31,
      "outputs": [
        {
          "output_type": "execute_result",
          "data": {
            "text/plain": [
              "규모\n",
              "대     106\n",
              "소    1095\n",
              "중     354\n",
              "dtype: int64"
            ]
          },
          "metadata": {},
          "execution_count": 31
        }
      ]
    },
    {
      "cell_type": "code",
      "metadata": {
        "colab": {
          "base_uri": "https://localhost:8080/",
          "height": 175
        },
        "id": "Mt9e6AGMgiI5",
        "outputId": "6d10f1f3-eecb-49df-b03f-618b04409c3c"
      },
      "source": [
        "df2_scale.groupby('규모').sum().reindex(index=['소', '중', '대'])"
      ],
      "execution_count": 32,
      "outputs": [
        {
          "output_type": "execute_result",
          "data": {
            "text/html": [
              "<div>\n",
              "<style scoped>\n",
              "    .dataframe tbody tr th:only-of-type {\n",
              "        vertical-align: middle;\n",
              "    }\n",
              "\n",
              "    .dataframe tbody tr th {\n",
              "        vertical-align: top;\n",
              "    }\n",
              "\n",
              "    .dataframe thead th {\n",
              "        text-align: right;\n",
              "    }\n",
              "</style>\n",
              "<table border=\"1\" class=\"dataframe\">\n",
              "  <thead>\n",
              "    <tr style=\"text-align: right;\">\n",
              "      <th></th>\n",
              "      <th>2017</th>\n",
              "      <th>2018</th>\n",
              "      <th>2019</th>\n",
              "    </tr>\n",
              "    <tr>\n",
              "      <th>규모</th>\n",
              "      <th></th>\n",
              "      <th></th>\n",
              "      <th></th>\n",
              "    </tr>\n",
              "  </thead>\n",
              "  <tbody>\n",
              "    <tr>\n",
              "      <th>소</th>\n",
              "      <td>354</td>\n",
              "      <td>348</td>\n",
              "      <td>393</td>\n",
              "    </tr>\n",
              "    <tr>\n",
              "      <th>중</th>\n",
              "      <td>121</td>\n",
              "      <td>134</td>\n",
              "      <td>99</td>\n",
              "    </tr>\n",
              "    <tr>\n",
              "      <th>대</th>\n",
              "      <td>28</td>\n",
              "      <td>39</td>\n",
              "      <td>39</td>\n",
              "    </tr>\n",
              "  </tbody>\n",
              "</table>\n",
              "</div>"
            ],
            "text/plain": [
              "    2017  2018  2019\n",
              "규모                  \n",
              "소    354   348   393\n",
              "중    121   134    99\n",
              "대     28    39    39"
            ]
          },
          "metadata": {},
          "execution_count": 32
        }
      ]
    },
    {
      "cell_type": "code",
      "metadata": {
        "colab": {
          "base_uri": "https://localhost:8080/",
          "height": 294
        },
        "id": "SEgTdipVbG08",
        "outputId": "29b6ec51-e6f9-4c2e-86b3-be3155f705a1"
      },
      "source": [
        "df2_scale.groupby('규모').sum().reindex(index=['소', '중', '대']).plot.bar(rot=0)\n",
        "plt.title('규모 및 연도별 사망자수')\n",
        "plt.show()"
      ],
      "execution_count": 33,
      "outputs": [
        {
          "output_type": "display_data",
          "data": {
            "image/png": "[encoded data removed]",
            "text/plain": [
              "<Figure size 432x288 with 1 Axes>"
            ]
          },
          "metadata": {
            "needs_background": "light"
          }
        }
      ]
    },
    {
      "cell_type": "code",
      "metadata": {
        "colab": {
          "base_uri": "https://localhost:8080/",
          "height": 294
        },
        "id": "4zm_SydvdlZP",
        "outputId": "d36e3ee1-c2bd-4c8d-8a0e-096b8417c03f"
      },
      "source": [
        "df2_scale.groupby('규모').sum().reindex(index=['소', '중', '대']).plot.bar(stacked=True, rot=0)\n",
        "plt.title('규모 및 연도별 사망자수')\n",
        "plt.show()"
      ],
      "execution_count": 34,
      "outputs": [
        {
          "output_type": "display_data",
          "data": {
            "image/png": "[encoded data removed]",
            "text/plain": [
              "<Figure size 432x288 with 1 Axes>"
            ]
          },
          "metadata": {
            "needs_background": "light"
          }
        }
      ]
    },
    {
      "cell_type": "code",
      "metadata": {
        "colab": {
          "base_uri": "https://localhost:8080/",
          "height": 294
        },
        "id": "QRJYCfwihMRR",
        "outputId": "2ef78ce9-13c5-42e3-ef9f-21fb724a9292"
      },
      "source": [
        "df2_scale.groupby('규모').sum().sum(axis=1).reindex(index=['소', '중', '대']).plot.bar(rot=0)\n",
        "plt.title('규모 및 연도별 사망자수')\n",
        "plt.show()"
      ],
      "execution_count": 35,
      "outputs": [
        {
          "output_type": "display_data",
          "data": {
            "image/png": "[encoded data removed]",
            "text/plain": [
              "<Figure size 432x288 with 1 Axes>"
            ]
          },
          "metadata": {
            "needs_background": "light"
          }
        }
      ]
    },
    {
      "cell_type": "code",
      "metadata": {
        "colab": {
          "base_uri": "https://localhost:8080/",
          "height": 263
        },
        "id": "atdZXuUGhU6z",
        "outputId": "3f130aa9-2fb9-45c2-975f-bd8df0e6d63c"
      },
      "source": [
        "df2_scale.groupby('규모').sum().sum(axis=1).plot.pie(autopct = '%.2f%%') # autopct: 부채꼴 안에 표시될 숫자의 형식을 지정\n",
        "plt.title('규모별 사망자수 비율')\n",
        "plt.axis('equal') # 원형\n",
        "plt.ylabel('')\n",
        "plt.show()"
      ],
      "execution_count": 36,
      "outputs": [
        {
          "output_type": "display_data",
          "data": {
            "image/png": "[encoded data removed]",
            "text/plain": [
              "<Figure size 432x288 with 1 Axes>"
            ]
          },
          "metadata": {}
        }
      ]
    },
    {
      "cell_type": "markdown",
      "metadata": {
        "id": "EuczlUn6hu5i"
      },
      "source": [
        "### 발생형태별 eda"
      ]
    },
    {
      "cell_type": "code",
      "metadata": {
        "id": "KMl8PcAnhlpL"
      },
      "source": [
        "df2_form = df2.drop('특성별', axis=1)[df2.특성별 == '발생형태별']"
      ],
      "execution_count": 37,
      "outputs": []
    },
    {
      "cell_type": "code",
      "metadata": {
        "id": "e3Bi6aQdiTig"
      },
      "source": [
        "df2_form = df2_form[:-3]"
      ],
      "execution_count": 38,
      "outputs": []
    },
    {
      "cell_type": "code",
      "metadata": {
        "colab": {
          "base_uri": "https://localhost:8080/",
          "height": 676
        },
        "id": "WelKJgFXjbtP",
        "outputId": "d8764afe-b5a4-4022-ebd7-c0f3bf7f76f2"
      },
      "source": [
        "df2_form.set_index('소분류', inplace=True)\n",
        "df2_form = df2_form.astype('int')\n",
        "df2_form"
      ],
      "execution_count": 39,
      "outputs": [
        {
          "output_type": "execute_result",
          "data": {
            "text/html": [
              "<div>\n",
              "<style scoped>\n",
              "    .dataframe tbody tr th:only-of-type {\n",
              "        vertical-align: middle;\n",
              "    }\n",
              "\n",
              "    .dataframe tbody tr th {\n",
              "        vertical-align: top;\n",
              "    }\n",
              "\n",
              "    .dataframe thead th {\n",
              "        text-align: right;\n",
              "    }\n",
              "</style>\n",
              "<table border=\"1\" class=\"dataframe\">\n",
              "  <thead>\n",
              "    <tr style=\"text-align: right;\">\n",
              "      <th></th>\n",
              "      <th>2017</th>\n",
              "      <th>2018</th>\n",
              "      <th>2019</th>\n",
              "    </tr>\n",
              "    <tr>\n",
              "      <th>소분류</th>\n",
              "      <th></th>\n",
              "      <th></th>\n",
              "      <th></th>\n",
              "    </tr>\n",
              "  </thead>\n",
              "  <tbody>\n",
              "    <tr>\n",
              "      <th>떨어짐(높이가 있는 곳에서 사람이 떨어짐)</th>\n",
              "      <td>327</td>\n",
              "      <td>293</td>\n",
              "      <td>283</td>\n",
              "    </tr>\n",
              "    <tr>\n",
              "      <th>끼임(기계설비에 끼이거나 감김)</th>\n",
              "      <td>86</td>\n",
              "      <td>87</td>\n",
              "      <td>83</td>\n",
              "    </tr>\n",
              "    <tr>\n",
              "      <th>부딪힘(물체에 부딪힘)</th>\n",
              "      <td>58</td>\n",
              "      <td>48</td>\n",
              "      <td>66</td>\n",
              "    </tr>\n",
              "    <tr>\n",
              "      <th>깔림·뒤집힘(물체의 쓰러짐이나 뒤집힘)</th>\n",
              "      <td>75</td>\n",
              "      <td>52</td>\n",
              "      <td>56</td>\n",
              "    </tr>\n",
              "    <tr>\n",
              "      <th>물체에 맞음(날아오거나 떨어진 물체에 맞음)</th>\n",
              "      <td>70</td>\n",
              "      <td>51</td>\n",
              "      <td>55</td>\n",
              "    </tr>\n",
              "    <tr>\n",
              "      <th>사업장외 교통사고</th>\n",
              "      <td>60</td>\n",
              "      <td>71</td>\n",
              "      <td>55</td>\n",
              "    </tr>\n",
              "    <tr>\n",
              "      <th>넘어짐(사람이 미끄러지거나 넘어짐)</th>\n",
              "      <td>27</td>\n",
              "      <td>23</td>\n",
              "      <td>26</td>\n",
              "    </tr>\n",
              "    <tr>\n",
              "      <th>기타</th>\n",
              "      <td>16</td>\n",
              "      <td>28</td>\n",
              "      <td>20</td>\n",
              "    </tr>\n",
              "    <tr>\n",
              "      <th>폭발·파열</th>\n",
              "      <td>9</td>\n",
              "      <td>11</td>\n",
              "      <td>18</td>\n",
              "    </tr>\n",
              "    <tr>\n",
              "      <th>감전</th>\n",
              "      <td>18</td>\n",
              "      <td>14</td>\n",
              "      <td>15</td>\n",
              "    </tr>\n",
              "    <tr>\n",
              "      <th>사업장내 교통사고</th>\n",
              "      <td>15</td>\n",
              "      <td>17</td>\n",
              "      <td>11</td>\n",
              "    </tr>\n",
              "    <tr>\n",
              "      <th>무너짐(건축물이나 쌓여진 물체가 무너짐)</th>\n",
              "      <td>17</td>\n",
              "      <td>18</td>\n",
              "      <td>10</td>\n",
              "    </tr>\n",
              "    <tr>\n",
              "      <th>화재</th>\n",
              "      <td>11</td>\n",
              "      <td>20</td>\n",
              "      <td>9</td>\n",
              "    </tr>\n",
              "    <tr>\n",
              "      <th>빠짐·익사</th>\n",
              "      <td>9</td>\n",
              "      <td>10</td>\n",
              "      <td>8</td>\n",
              "    </tr>\n",
              "    <tr>\n",
              "      <th>산소결핍</th>\n",
              "      <td>6</td>\n",
              "      <td>8</td>\n",
              "      <td>6</td>\n",
              "    </tr>\n",
              "    <tr>\n",
              "      <th>절단·베임·찔림</th>\n",
              "      <td>5</td>\n",
              "      <td>5</td>\n",
              "      <td>5</td>\n",
              "    </tr>\n",
              "    <tr>\n",
              "      <th>불균형 및 무리한 동작</th>\n",
              "      <td>2</td>\n",
              "      <td>5</td>\n",
              "      <td>5</td>\n",
              "    </tr>\n",
              "    <tr>\n",
              "      <th>화학물질누출·접촉</th>\n",
              "      <td>6</td>\n",
              "      <td>6</td>\n",
              "      <td>4</td>\n",
              "    </tr>\n",
              "    <tr>\n",
              "      <th>이상온도 접촉</th>\n",
              "      <td>5</td>\n",
              "      <td>9</td>\n",
              "      <td>3</td>\n",
              "    </tr>\n",
              "  </tbody>\n",
              "</table>\n",
              "</div>"
            ],
            "text/plain": [
              "                          2017  2018  2019\n",
              "소분류                                       \n",
              "떨어짐(높이가 있는 곳에서 사람이 떨어짐)    327   293   283\n",
              "끼임(기계설비에 끼이거나 감김)           86    87    83\n",
              "부딪힘(물체에 부딪힘)                58    48    66\n",
              "깔림·뒤집힘(물체의 쓰러짐이나 뒤집힘)       75    52    56\n",
              "물체에 맞음(날아오거나 떨어진 물체에 맞음)    70    51    55\n",
              "사업장외 교통사고                   60    71    55\n",
              "넘어짐(사람이 미끄러지거나 넘어짐)         27    23    26\n",
              "기타                          16    28    20\n",
              "폭발·파열                        9    11    18\n",
              "감전                          18    14    15\n",
              "사업장내 교통사고                   15    17    11\n",
              "무너짐(건축물이나 쌓여진 물체가 무너짐)      17    18    10\n",
              "화재                          11    20     9\n",
              "빠짐·익사                        9    10     8\n",
              "산소결핍                         6     8     6\n",
              "절단·베임·찔림                     5     5     5\n",
              "불균형 및 무리한 동작                 2     5     5\n",
              "화학물질누출·접촉                    6     6     4\n",
              "이상온도 접촉                      5     9     3"
            ]
          },
          "metadata": {},
          "execution_count": 39
        }
      ]
    },
    {
      "cell_type": "code",
      "metadata": {
        "colab": {
          "base_uri": "https://localhost:8080/"
        },
        "id": "RM8mUwqQkm_w",
        "outputId": "5c34161c-0ff7-44be-9f9f-0579a878ef5e"
      },
      "source": [
        "df2_form.sum(axis=1).sort_values(ascending=False)"
      ],
      "execution_count": 40,
      "outputs": [
        {
          "output_type": "execute_result",
          "data": {
            "text/plain": [
              "소분류\n",
              "떨어짐(높이가 있는 곳에서 사람이 떨어짐)     903\n",
              "끼임(기계설비에 끼이거나 감김)           256\n",
              "사업장외 교통사고                   186\n",
              "깔림·뒤집힘(물체의 쓰러짐이나 뒤집힘)       183\n",
              "물체에 맞음(날아오거나 떨어진 물체에 맞음)    176\n",
              "부딪힘(물체에 부딪힘)                172\n",
              "넘어짐(사람이 미끄러지거나 넘어짐)          76\n",
              "기타                           64\n",
              "감전                           47\n",
              "무너짐(건축물이나 쌓여진 물체가 무너짐)       45\n",
              "사업장내 교통사고                    43\n",
              "화재                           40\n",
              "폭발·파열                        38\n",
              "빠짐·익사                        27\n",
              "산소결핍                         20\n",
              "이상온도 접촉                      17\n",
              "화학물질누출·접촉                    16\n",
              "절단·베임·찔림                     15\n",
              "불균형 및 무리한 동작                 12\n",
              "dtype: int64"
            ]
          },
          "metadata": {},
          "execution_count": 40
        }
      ]
    },
    {
      "cell_type": "code",
      "metadata": {
        "colab": {
          "base_uri": "https://localhost:8080/",
          "height": 501
        },
        "id": "dQk5rO2rnT7w",
        "outputId": "26f1e4ba-525e-4692-be1d-6ed5e0be5f59"
      },
      "source": [
        "colors = sns.color_palette('hls',len(df2_form)) ## 색상 지정\n",
        "df2_form.sum(axis=1).sort_values().plot(kind='barh', grid=True, figsize=(12,8), color=colors)\n",
        "plt.title('발생형태별 사망자수', size=15)\n",
        "plt.show()"
      ],
      "execution_count": 41,
      "outputs": [
        {
          "output_type": "display_data",
          "data": {
            "image/png": "[encoded data removed]",
            "text/plain": [
              "<Figure size 864x576 with 1 Axes>"
            ]
          },
          "metadata": {
            "needs_background": "light"
          }
        }
      ]
    },
    {
      "cell_type": "code",
      "metadata": {
        "id": "jRwVrlAYs8fH"
      },
      "source": [
        ""
      ],
      "execution_count": null,
      "outputs": []
    }
  ]
}