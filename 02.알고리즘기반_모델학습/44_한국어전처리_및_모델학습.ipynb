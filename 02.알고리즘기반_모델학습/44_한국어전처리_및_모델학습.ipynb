{
  "nbformat": 4,
  "nbformat_minor": 0,
  "metadata": {
    "colab": {
      "name": "3.전처리_모델링_박황미.ipynb",
      "provenance": [],
      "collapsed_sections": []
    },
    "kernelspec": {
      "name": "python3",
      "display_name": "Python 3"
    },
    "language_info": {
      "name": "python"
    }
  },
  "cells": [
    {
      "cell_type": "code",
      "metadata": {
        "colab": {
          "base_uri": "https://localhost:8080/"
        },
        "id": "Y07outi6f-5B",
        "outputId": "e2239c1d-ee65-4701-8493-b0a10c5587d4"
      },
      "source": [
        "from google.colab import drive\n",
        "drive.mount('/content/drive') "
      ],
      "execution_count": null,
      "outputs": [
        {
          "output_type": "stream",
          "name": "stdout",
          "text": [
            "Mounted at /content/drive\n"
          ]
        }
      ]
    },
    {
      "cell_type": "code",
      "metadata": {
        "id": "g04AZ8YbdY_v"
      },
      "source": [
        "!sudo apt-get install -y fonts-nanum > /dev/null \n",
        "!sudo fc-cache -fv > /dev/null\n",
        "!rm ~/.cache/matplotlib -rf > /dev/null"
      ],
      "execution_count": null,
      "outputs": []
    },
    {
      "cell_type": "code",
      "metadata": {
        "id": "CXRzY346dPdK"
      },
      "source": [
        "# 메모리 변수 모두 제거\n",
        "all = [var for var in globals() if var[0] != \"_\"]\n",
        "for var in all:\n",
        "    del globals()[var]"
      ],
      "execution_count": null,
      "outputs": []
    },
    {
      "cell_type": "code",
      "metadata": {
        "id": "38eFk7QuVU6A"
      },
      "source": [
        "import warnings\n",
        "warnings.filterwarnings('ignore')"
      ],
      "execution_count": null,
      "outputs": []
    },
    {
      "cell_type": "code",
      "metadata": {
        "id": "5nZclZebdl-Q"
      },
      "source": [
        "import matplotlib.pyplot as plt\n",
        "plt.rc('font', family='NanumBarunGothic') "
      ],
      "execution_count": null,
      "outputs": []
    },
    {
      "cell_type": "code",
      "metadata": {
        "id": "m6svGAd_ghMK"
      },
      "source": [
        "!pip install konlpy > /dev/null"
      ],
      "execution_count": null,
      "outputs": []
    },
    {
      "cell_type": "code",
      "metadata": {
        "id": "jAEtaMWdgD5v"
      },
      "source": [
        "import nltk\n",
        "from sklearn.model_selection import train_test_split\n",
        "import pandas as pd\n",
        "import numpy as np\n",
        "import os"
      ],
      "execution_count": null,
      "outputs": []
    },
    {
      "cell_type": "code",
      "metadata": {
        "id": "XeUz4WI_0vSr"
      },
      "source": [
        "path ='/content/drive/MyDrive/project/data/'"
      ],
      "execution_count": null,
      "outputs": []
    },
    {
      "cell_type": "code",
      "metadata": {
        "id": "iBxNRxJegD3K"
      },
      "source": [
        "os.chdir(path)"
      ],
      "execution_count": null,
      "outputs": []
    },
    {
      "cell_type": "code",
      "metadata": {
        "colab": {
          "base_uri": "https://localhost:8080/",
          "height": 582
        },
        "id": "Fp3Y76TFgaEp",
        "outputId": "6f301616-ebed-4858-b807-4e9e72c05995"
      },
      "source": [
        "df = pd.read_csv('hankyung_news_stock.csv')\n",
        "df"
      ],
      "execution_count": null,
      "outputs": [
        {
          "output_type": "execute_result",
          "data": {
            "text/html": [
              "<div>\n",
              "<style scoped>\n",
              "    .dataframe tbody tr th:only-of-type {\n",
              "        vertical-align: middle;\n",
              "    }\n",
              "\n",
              "    .dataframe tbody tr th {\n",
              "        vertical-align: top;\n",
              "    }\n",
              "\n",
              "    .dataframe thead th {\n",
              "        text-align: right;\n",
              "    }\n",
              "</style>\n",
              "<table border=\"1\" class=\"dataframe\">\n",
              "  <thead>\n",
              "    <tr style=\"text-align: right;\">\n",
              "      <th></th>\n",
              "      <th>index</th>\n",
              "      <th>Close</th>\n",
              "      <th>Open</th>\n",
              "      <th>High</th>\n",
              "      <th>Low</th>\n",
              "      <th>Volume</th>\n",
              "      <th>Change</th>\n",
              "      <th>title</th>\n",
              "      <th>en_list</th>\n",
              "    </tr>\n",
              "  </thead>\n",
              "  <tbody>\n",
              "    <tr>\n",
              "      <th>0</th>\n",
              "      <td>2018-10-22</td>\n",
              "      <td>2161.71</td>\n",
              "      <td>2143.08</td>\n",
              "      <td>2163.21</td>\n",
              "      <td>2136.92</td>\n",
              "      <td>308740000.0</td>\n",
              "      <td>0.0025</td>\n",
              "      <td>방산 방심은 금물  방산 방심은 금물정유 화학업종 IMO 2020  카슈끄지  그리...</td>\n",
              "      <td>Blood-defense vigilant is a gold refinery indu...</td>\n",
              "    </tr>\n",
              "    <tr>\n",
              "      <th>1</th>\n",
              "      <td>2018-10-23</td>\n",
              "      <td>2106.10</td>\n",
              "      <td>2147.30</td>\n",
              "      <td>2148.80</td>\n",
              "      <td>2094.69</td>\n",
              "      <td>373470000.0</td>\n",
              "      <td>-0.0257</td>\n",
              "      <td>자동차 Daily Auto Check  자동차 Daily Auto Check유통 D...</td>\n",
              "      <td>Automotive Daily Auto CHECK DAILY AUTO CHECK D...</td>\n",
              "    </tr>\n",
              "    <tr>\n",
              "      <th>2</th>\n",
              "      <td>2018-10-24</td>\n",
              "      <td>2097.58</td>\n",
              "      <td>2119.19</td>\n",
              "      <td>2121.36</td>\n",
              "      <td>2092.10</td>\n",
              "      <td>399730000.0</td>\n",
              "      <td>-0.0040</td>\n",
              "      <td>유통 Daily 코멘트 및 뉴스 업데이트  Daily 코멘트 및 뉴스 업데이트디스플...</td>\n",
              "      <td>Distribution Daily Comments and News Updates D...</td>\n",
              "    </tr>\n",
              "    <tr>\n",
              "      <th>3</th>\n",
              "      <td>2018-10-25</td>\n",
              "      <td>2063.30</td>\n",
              "      <td>2046.67</td>\n",
              "      <td>2066.06</td>\n",
              "      <td>2033.81</td>\n",
              "      <td>376010000.0</td>\n",
              "      <td>-0.0163</td>\n",
              "      <td>건설업종 투자의 시대  투자의 시대자동차 흑자전환에 성공한 Tesla  흑자전환에 ...</td>\n",
              "      <td>Tesla Semiconductor IT Softer Market Ahead Sem...</td>\n",
              "    </tr>\n",
              "    <tr>\n",
              "      <th>4</th>\n",
              "      <td>2018-10-26</td>\n",
              "      <td>2027.15</td>\n",
              "      <td>2066.57</td>\n",
              "      <td>2066.57</td>\n",
              "      <td>2008.86</td>\n",
              "      <td>449200000.0</td>\n",
              "      <td>-0.0175</td>\n",
              "      <td>유통 Amazon 3Q18 Review  희비 공존  Amazon 3Q18 Revi...</td>\n",
              "      <td>Distribution Amazon 3q18 Review Right Coexist ...</td>\n",
              "    </tr>\n",
              "    <tr>\n",
              "      <th>...</th>\n",
              "      <td>...</td>\n",
              "      <td>...</td>\n",
              "      <td>...</td>\n",
              "      <td>...</td>\n",
              "      <td>...</td>\n",
              "      <td>...</td>\n",
              "      <td>...</td>\n",
              "      <td>...</td>\n",
              "      <td>...</td>\n",
              "    </tr>\n",
              "    <tr>\n",
              "      <th>732</th>\n",
              "      <td>2021-10-15</td>\n",
              "      <td>3015.06</td>\n",
              "      <td>3012.62</td>\n",
              "      <td>3021.90</td>\n",
              "      <td>2999.33</td>\n",
              "      <td>857800000.0</td>\n",
              "      <td>0.0088</td>\n",
              "      <td>오락   디즈니플러스 쇼케이스 요약  쇼케이스 내내  콘텐츠  강조화학   신사업 ...</td>\n",
              "      <td>Entertainment Disney Plus Showcase Summary Cor...</td>\n",
              "    </tr>\n",
              "    <tr>\n",
              "      <th>733</th>\n",
              "      <td>2021-10-18</td>\n",
              "      <td>3006.68</td>\n",
              "      <td>3017.48</td>\n",
              "      <td>3021.17</td>\n",
              "      <td>2990.44</td>\n",
              "      <td>926370000.0</td>\n",
              "      <td>-0.0028</td>\n",
              "      <td>제약   제약 바이오 Weekly  제약 바이오 주간 코멘트국내 주요 뉴스 및 공시...</td>\n",
              "      <td>Pharmaceutical Bio Weekly Major News &amp; Public ...</td>\n",
              "    </tr>\n",
              "    <tr>\n",
              "      <th>734</th>\n",
              "      <td>2021-10-19</td>\n",
              "      <td>3029.04</td>\n",
              "      <td>3022.23</td>\n",
              "      <td>3034.53</td>\n",
              "      <td>3014.19</td>\n",
              "      <td>845700000.0</td>\n",
              "      <td>0.0074</td>\n",
              "      <td>방송 비디어 중국 규제 피해는 정말 없는 것 같습니다  중국 규제 피해는 정말 없는...</td>\n",
              "      <td>Broadcasting Videos China Regulatory Damage se...</td>\n",
              "    </tr>\n",
              "    <tr>\n",
              "      <th>735</th>\n",
              "      <td>2021-10-20</td>\n",
              "      <td>3013.13</td>\n",
              "      <td>3043.13</td>\n",
              "      <td>3047.24</td>\n",
              "      <td>3012.97</td>\n",
              "      <td>668300.0</td>\n",
              "      <td>-0.0053</td>\n",
              "      <td>조선   meritz 조선 기계 Daily  국내외 주요 뉴스 및 코멘트자동차   ...</td>\n",
              "      <td>Joseon Meritz Joseon Machinery Daily Daily Maj...</td>\n",
              "    </tr>\n",
              "    <tr>\n",
              "      <th>736</th>\n",
              "      <td>2021-10-21</td>\n",
              "      <td>3007.33</td>\n",
              "      <td>3012.28</td>\n",
              "      <td>3025.88</td>\n",
              "      <td>3002.74</td>\n",
              "      <td>871150.0</td>\n",
              "      <td>-0.0019</td>\n",
              "      <td>음식료   F B Morning Talk  국제 곡물 가격 중국 아미노산 가격F B...</td>\n",
              "      <td>Food &amp; beverageFB Morning TalkInternationalgra...</td>\n",
              "    </tr>\n",
              "  </tbody>\n",
              "</table>\n",
              "<p>737 rows × 9 columns</p>\n",
              "</div>"
            ],
            "text/plain": [
              "          index  ...                                            en_list\n",
              "0    2018-10-22  ...  Blood-defense vigilant is a gold refinery indu...\n",
              "1    2018-10-23  ...  Automotive Daily Auto CHECK DAILY AUTO CHECK D...\n",
              "2    2018-10-24  ...  Distribution Daily Comments and News Updates D...\n",
              "3    2018-10-25  ...  Tesla Semiconductor IT Softer Market Ahead Sem...\n",
              "4    2018-10-26  ...  Distribution Amazon 3q18 Review Right Coexist ...\n",
              "..          ...  ...                                                ...\n",
              "732  2021-10-15  ...  Entertainment Disney Plus Showcase Summary Cor...\n",
              "733  2021-10-18  ...  Pharmaceutical Bio Weekly Major News & Public ...\n",
              "734  2021-10-19  ...  Broadcasting Videos China Regulatory Damage se...\n",
              "735  2021-10-20  ...  Joseon Meritz Joseon Machinery Daily Daily Maj...\n",
              "736  2021-10-21  ...  Food & beverageFB Morning TalkInternationalgra...\n",
              "\n",
              "[737 rows x 9 columns]"
            ]
          },
          "metadata": {},
          "execution_count": 9
        }
      ]
    },
    {
      "cell_type": "code",
      "metadata": {
        "id": "Lhesu1NdfVDx"
      },
      "source": [
        "from konlpy.tag import *\n",
        "okt = Okt() "
      ],
      "execution_count": null,
      "outputs": []
    },
    {
      "cell_type": "code",
      "metadata": {
        "id": "yJQTgMTuAVZH"
      },
      "source": [
        "for i in range(len(df)):\n",
        "    df.title[i] = ' '.join(okt.nouns(df.title[i]))"
      ],
      "execution_count": null,
      "outputs": []
    },
    {
      "cell_type": "code",
      "metadata": {
        "colab": {
          "base_uri": "https://localhost:8080/",
          "height": 286
        },
        "id": "dsLbzix0Aw-J",
        "outputId": "c63a7ec2-b185-458f-c4bf-ee1506c824e0"
      },
      "source": [
        "df.head()"
      ],
      "execution_count": null,
      "outputs": [
        {
          "output_type": "execute_result",
          "data": {
            "text/html": [
              "<div>\n",
              "<style scoped>\n",
              "    .dataframe tbody tr th:only-of-type {\n",
              "        vertical-align: middle;\n",
              "    }\n",
              "\n",
              "    .dataframe tbody tr th {\n",
              "        vertical-align: top;\n",
              "    }\n",
              "\n",
              "    .dataframe thead th {\n",
              "        text-align: right;\n",
              "    }\n",
              "</style>\n",
              "<table border=\"1\" class=\"dataframe\">\n",
              "  <thead>\n",
              "    <tr style=\"text-align: right;\">\n",
              "      <th></th>\n",
              "      <th>index</th>\n",
              "      <th>Close</th>\n",
              "      <th>Open</th>\n",
              "      <th>High</th>\n",
              "      <th>Low</th>\n",
              "      <th>Volume</th>\n",
              "      <th>Change</th>\n",
              "      <th>title</th>\n",
              "      <th>en_list</th>\n",
              "    </tr>\n",
              "  </thead>\n",
              "  <tbody>\n",
              "    <tr>\n",
              "      <th>0</th>\n",
              "      <td>2018-10-22</td>\n",
              "      <td>2161.71</td>\n",
              "      <td>2143.08</td>\n",
              "      <td>2163.21</td>\n",
              "      <td>2136.92</td>\n",
              "      <td>308740000.0</td>\n",
              "      <td>0.0025</td>\n",
              "      <td>방산 방심 금물 방산 방심 금물 정유 화학 업종 카슈끄 유가 카슈끄 유가 자동차 자...</td>\n",
              "      <td>Blood-defense vigilant is a gold refinery indu...</td>\n",
              "    </tr>\n",
              "    <tr>\n",
              "      <th>1</th>\n",
              "      <td>2018-10-23</td>\n",
              "      <td>2106.10</td>\n",
              "      <td>2147.30</td>\n",
              "      <td>2148.80</td>\n",
              "      <td>2094.69</td>\n",
              "      <td>373470000.0</td>\n",
              "      <td>-0.0257</td>\n",
              "      <td>자동차 자동차 유통 코멘트 및 뉴스 업데이트 코멘트 및 뉴스 업데이트 화학 정제 마...</td>\n",
              "      <td>Automotive Daily Auto CHECK DAILY AUTO CHECK D...</td>\n",
              "    </tr>\n",
              "    <tr>\n",
              "      <th>2</th>\n",
              "      <td>2018-10-24</td>\n",
              "      <td>2097.58</td>\n",
              "      <td>2119.19</td>\n",
              "      <td>2121.36</td>\n",
              "      <td>2092.10</td>\n",
              "      <td>399730000.0</td>\n",
              "      <td>-0.0040</td>\n",
              "      <td>유통 코멘트 및 뉴스 업데이트 코멘트 및 뉴스 업데이트 디스플레이 중 패권 경쟁 중...</td>\n",
              "      <td>Distribution Daily Comments and News Updates D...</td>\n",
              "    </tr>\n",
              "    <tr>\n",
              "      <th>3</th>\n",
              "      <td>2018-10-25</td>\n",
              "      <td>2063.30</td>\n",
              "      <td>2046.67</td>\n",
              "      <td>2066.06</td>\n",
              "      <td>2033.81</td>\n",
              "      <td>376010000.0</td>\n",
              "      <td>-0.0163</td>\n",
              "      <td>건설 업종 투자 시대 투자 시대 자동차 흑자 전환 흑자 전환 반도체 반도체 엔터 사...</td>\n",
              "      <td>Tesla Semiconductor IT Softer Market Ahead Sem...</td>\n",
              "    </tr>\n",
              "    <tr>\n",
              "      <th>4</th>\n",
              "      <td>2018-10-26</td>\n",
              "      <td>2027.15</td>\n",
              "      <td>2066.57</td>\n",
              "      <td>2066.57</td>\n",
              "      <td>2008.86</td>\n",
              "      <td>449200000.0</td>\n",
              "      <td>-0.0175</td>\n",
              "      <td>유통 희비 공존 희비 공존 테슬라 발 빅뱅 본격 테슬라 발 빅뱅 본격 조선 조선 기...</td>\n",
              "      <td>Distribution Amazon 3q18 Review Right Coexist ...</td>\n",
              "    </tr>\n",
              "  </tbody>\n",
              "</table>\n",
              "</div>"
            ],
            "text/plain": [
              "        index  ...                                            en_list\n",
              "0  2018-10-22  ...  Blood-defense vigilant is a gold refinery indu...\n",
              "1  2018-10-23  ...  Automotive Daily Auto CHECK DAILY AUTO CHECK D...\n",
              "2  2018-10-24  ...  Distribution Daily Comments and News Updates D...\n",
              "3  2018-10-25  ...  Tesla Semiconductor IT Softer Market Ahead Sem...\n",
              "4  2018-10-26  ...  Distribution Amazon 3q18 Review Right Coexist ...\n",
              "\n",
              "[5 rows x 9 columns]"
            ]
          },
          "metadata": {},
          "execution_count": 12
        }
      ]
    },
    {
      "cell_type": "markdown",
      "metadata": {
        "id": "H5XPobt8Y4Bn"
      },
      "source": [
        "## 불용어 제거"
      ]
    },
    {
      "cell_type": "code",
      "metadata": {
        "id": "Y4mG_ZWmacW3"
      },
      "source": [
        "path='/content/drive/MyDrive/project/기타참고자료'\n",
        "stopwords = pd.read_csv(f'{path}/한국어불용어100.txt', sep='\\s+', header=None)"
      ],
      "execution_count": null,
      "outputs": []
    },
    {
      "cell_type": "code",
      "metadata": {
        "colab": {
          "base_uri": "https://localhost:8080/"
        },
        "id": "zcyOTAl9afqO",
        "outputId": "0d37cd79-cf2a-4d48-d136-bc8407ef2497"
      },
      "source": [
        "stopwords = set(stopwords[0])\n",
        "len(stopwords)"
      ],
      "execution_count": null,
      "outputs": [
        {
          "output_type": "execute_result",
          "data": {
            "text/plain": [
              "94"
            ]
          },
          "metadata": {},
          "execution_count": 14
        }
      ]
    },
    {
      "cell_type": "code",
      "metadata": {
        "id": "gf78B0i2aNz3"
      },
      "source": [
        "from tqdm.notebook import tqdm\n",
        "title_str = []\n",
        "\n",
        "for i in range(len(df['title'])):\n",
        "    noun_list = okt.nouns(df['title'][i])\n",
        "    temp_str = ' '.join(word for word in noun_list if word not in stopwords)\n",
        "    title_str.append(temp_str)"
      ],
      "execution_count": null,
      "outputs": []
    },
    {
      "cell_type": "code",
      "metadata": {
        "colab": {
          "base_uri": "https://localhost:8080/",
          "height": 369
        },
        "id": "ZKIL58l0RE-I",
        "outputId": "65675956-5f76-4e4c-96cd-cc2214370fbf"
      },
      "source": [
        "df['title_cln'] = title_str\n",
        "df.head()"
      ],
      "execution_count": null,
      "outputs": [
        {
          "output_type": "execute_result",
          "data": {
            "text/html": [
              "<div>\n",
              "<style scoped>\n",
              "    .dataframe tbody tr th:only-of-type {\n",
              "        vertical-align: middle;\n",
              "    }\n",
              "\n",
              "    .dataframe tbody tr th {\n",
              "        vertical-align: top;\n",
              "    }\n",
              "\n",
              "    .dataframe thead th {\n",
              "        text-align: right;\n",
              "    }\n",
              "</style>\n",
              "<table border=\"1\" class=\"dataframe\">\n",
              "  <thead>\n",
              "    <tr style=\"text-align: right;\">\n",
              "      <th></th>\n",
              "      <th>index</th>\n",
              "      <th>Close</th>\n",
              "      <th>Open</th>\n",
              "      <th>High</th>\n",
              "      <th>Low</th>\n",
              "      <th>Volume</th>\n",
              "      <th>Change</th>\n",
              "      <th>title</th>\n",
              "      <th>en_list</th>\n",
              "      <th>title_cln</th>\n",
              "    </tr>\n",
              "  </thead>\n",
              "  <tbody>\n",
              "    <tr>\n",
              "      <th>0</th>\n",
              "      <td>2018-10-22</td>\n",
              "      <td>2161.71</td>\n",
              "      <td>2143.08</td>\n",
              "      <td>2163.21</td>\n",
              "      <td>2136.92</td>\n",
              "      <td>308740000.0</td>\n",
              "      <td>0.0025</td>\n",
              "      <td>방산 방심 금물 방산 방심 금물 정유 화학 업종 카슈끄 유가 카슈끄 유가 자동차 자...</td>\n",
              "      <td>Blood-defense vigilant is a gold refinery indu...</td>\n",
              "      <td>방산 방심 금물 방산 방심 금물 정유 화학 업종 카슈끄 유가 카슈끄 유가 자동차 자...</td>\n",
              "    </tr>\n",
              "    <tr>\n",
              "      <th>1</th>\n",
              "      <td>2018-10-23</td>\n",
              "      <td>2106.10</td>\n",
              "      <td>2147.30</td>\n",
              "      <td>2148.80</td>\n",
              "      <td>2094.69</td>\n",
              "      <td>373470000.0</td>\n",
              "      <td>-0.0257</td>\n",
              "      <td>자동차 자동차 유통 코멘트 및 뉴스 업데이트 코멘트 및 뉴스 업데이트 화학 정제 마...</td>\n",
              "      <td>Automotive Daily Auto CHECK DAILY AUTO CHECK D...</td>\n",
              "      <td>자동차 자동차 유통 코멘트 및 뉴스 업데이트 코멘트 및 뉴스 업데이트 화학 정제 마...</td>\n",
              "    </tr>\n",
              "    <tr>\n",
              "      <th>2</th>\n",
              "      <td>2018-10-24</td>\n",
              "      <td>2097.58</td>\n",
              "      <td>2119.19</td>\n",
              "      <td>2121.36</td>\n",
              "      <td>2092.10</td>\n",
              "      <td>399730000.0</td>\n",
              "      <td>-0.0040</td>\n",
              "      <td>유통 코멘트 및 뉴스 업데이트 코멘트 및 뉴스 업데이트 디스플레이 중 패권 경쟁 중...</td>\n",
              "      <td>Distribution Daily Comments and News Updates D...</td>\n",
              "      <td>유통 코멘트 및 뉴스 업데이트 코멘트 및 뉴스 업데이트 디스플레이 패권 경쟁 중국 ...</td>\n",
              "    </tr>\n",
              "    <tr>\n",
              "      <th>3</th>\n",
              "      <td>2018-10-25</td>\n",
              "      <td>2063.30</td>\n",
              "      <td>2046.67</td>\n",
              "      <td>2066.06</td>\n",
              "      <td>2033.81</td>\n",
              "      <td>376010000.0</td>\n",
              "      <td>-0.0163</td>\n",
              "      <td>건설 업종 투자 시대 투자 시대 자동차 흑자 전환 흑자 전환 반도체 반도체 엔터 사...</td>\n",
              "      <td>Tesla Semiconductor IT Softer Market Ahead Sem...</td>\n",
              "      <td>건설 업종 투자 시대 투자 시대 자동차 흑자 전환 흑자 전환 반도체 반도체 엔터 사...</td>\n",
              "    </tr>\n",
              "    <tr>\n",
              "      <th>4</th>\n",
              "      <td>2018-10-26</td>\n",
              "      <td>2027.15</td>\n",
              "      <td>2066.57</td>\n",
              "      <td>2066.57</td>\n",
              "      <td>2008.86</td>\n",
              "      <td>449200000.0</td>\n",
              "      <td>-0.0175</td>\n",
              "      <td>유통 희비 공존 희비 공존 테슬라 발 빅뱅 본격 테슬라 발 빅뱅 본격 조선 조선 기...</td>\n",
              "      <td>Distribution Amazon 3q18 Review Right Coexist ...</td>\n",
              "      <td>유통 희비 공존 희비 공존 테슬라 발 빅뱅 본격 테슬라 발 빅뱅 본격 조선 조선 기...</td>\n",
              "    </tr>\n",
              "  </tbody>\n",
              "</table>\n",
              "</div>"
            ],
            "text/plain": [
              "        index  ...                                          title_cln\n",
              "0  2018-10-22  ...  방산 방심 금물 방산 방심 금물 정유 화학 업종 카슈끄 유가 카슈끄 유가 자동차 자...\n",
              "1  2018-10-23  ...  자동차 자동차 유통 코멘트 및 뉴스 업데이트 코멘트 및 뉴스 업데이트 화학 정제 마...\n",
              "2  2018-10-24  ...  유통 코멘트 및 뉴스 업데이트 코멘트 및 뉴스 업데이트 디스플레이 패권 경쟁 중국 ...\n",
              "3  2018-10-25  ...  건설 업종 투자 시대 투자 시대 자동차 흑자 전환 흑자 전환 반도체 반도체 엔터 사...\n",
              "4  2018-10-26  ...  유통 희비 공존 희비 공존 테슬라 발 빅뱅 본격 테슬라 발 빅뱅 본격 조선 조선 기...\n",
              "\n",
              "[5 rows x 10 columns]"
            ]
          },
          "metadata": {},
          "execution_count": 16
        }
      ]
    },
    {
      "cell_type": "code",
      "metadata": {
        "id": "DA0aUjelijQL"
      },
      "source": [
        "fre_word = [t for tr in df for t in df.title_cln] "
      ],
      "execution_count": null,
      "outputs": []
    },
    {
      "cell_type": "code",
      "metadata": {
        "id": "pCR5a1UIijNa"
      },
      "source": [
        "s_fre_word = str(fre_word)"
      ],
      "execution_count": null,
      "outputs": []
    },
    {
      "cell_type": "code",
      "metadata": {
        "id": "Lp4propUijJL"
      },
      "source": [
        "s_fre_list = s_fre_word.split()"
      ],
      "execution_count": null,
      "outputs": []
    },
    {
      "cell_type": "code",
      "metadata": {
        "colab": {
          "base_uri": "https://localhost:8080/"
        },
        "id": "0FXnENwFjxpX",
        "outputId": "32732fd0-41e9-4b9b-9f7b-cf0fc46a157b"
      },
      "source": [
        "len(s_fre_list)"
      ],
      "execution_count": null,
      "outputs": [
        {
          "output_type": "execute_result",
          "data": {
            "text/plain": [
              "2041850"
            ]
          },
          "metadata": {},
          "execution_count": 21
        }
      ]
    },
    {
      "cell_type": "code",
      "metadata": {
        "colab": {
          "base_uri": "https://localhost:8080/"
        },
        "id": "MRTpeRUNkI7A",
        "outputId": "e906b3af-d5cd-425b-b3a3-d60f062ac96f"
      },
      "source": [
        "np.unique(s_fre_list)"
      ],
      "execution_count": null,
      "outputs": [
        {
          "output_type": "execute_result",
          "data": {
            "text/plain": [
              "array([\"'건설\", \"'게임\", \"'교통\", ..., '힘', '힘겨루기', '힙할'], dtype='<U9')"
            ]
          },
          "metadata": {},
          "execution_count": 22
        }
      ]
    },
    {
      "cell_type": "code",
      "metadata": {
        "colab": {
          "base_uri": "https://localhost:8080/"
        },
        "id": "vwvejd7uj6bs",
        "outputId": "2f9ddb5b-bb50-493b-e2ab-d4ea9601b6fe"
      },
      "source": [
        "len(np.unique(s_fre_list))"
      ],
      "execution_count": null,
      "outputs": [
        {
          "output_type": "execute_result",
          "data": {
            "text/plain": [
              "7907"
            ]
          },
          "metadata": {},
          "execution_count": 23
        }
      ]
    },
    {
      "cell_type": "code",
      "metadata": {
        "colab": {
          "base_uri": "https://localhost:8080/"
        },
        "id": "vX4z-qRZijGA",
        "outputId": "90a8c513-1bdd-434b-d875-e51a98f7d11a"
      },
      "source": [
        "txt = nltk.Text(s_fre_list, name='word') # 빈도수 계산\n",
        "print(txt)"
      ],
      "execution_count": null,
      "outputs": [
        {
          "output_type": "stream",
          "name": "stdout",
          "text": [
            "<Text: word>\n"
          ]
        }
      ]
    },
    {
      "cell_type": "code",
      "metadata": {
        "id": "tfJgKYvnijDL",
        "colab": {
          "base_uri": "https://localhost:8080/",
          "height": 631
        },
        "outputId": "edf49a75-4b3d-4b96-cee0-973a68ea6c33"
      },
      "source": [
        "import matplotlib\n",
        "import matplotlib.pyplot as plt\n",
        "%matplotlib inline\n",
        "\n",
        "plt.figure(figsize=(20,10))\n",
        "txt.plot(50)"
      ],
      "execution_count": null,
      "outputs": [
        {
          "output_type": "display_data",
          "data": {
            "image/png": "[encoded data removed]",
            "text/plain": [
              "<Figure size 1440x720 with 1 Axes>"
            ]
          },
          "metadata": {
            "needs_background": "light"
          }
        }
      ]
    },
    {
      "cell_type": "code",
      "metadata": {
        "colab": {
          "base_uri": "https://localhost:8080/"
        },
        "id": "BaSny10Ziqsm",
        "outputId": "678ea424-092f-4f80-9fcc-c320571ce390"
      },
      "source": [
        "sel_token=[f[0] for f in txt.vocab().most_common(500)]\n",
        "print(sel_token[:10])"
      ],
      "execution_count": null,
      "outputs": [
        {
          "output_type": "stream",
          "name": "stdout",
          "text": [
            "['조선', '자동차', '금융', '반도체', '료', '음식', '건설', '인터넷', '화학', '기계']\n"
          ]
        }
      ]
    },
    {
      "cell_type": "code",
      "metadata": {
        "id": "MS7ttoOkiqqC"
      },
      "source": [
        "def frev(doc):\n",
        "    return [doc.count(stoken) for stoken in sel_token]"
      ],
      "execution_count": null,
      "outputs": []
    },
    {
      "cell_type": "markdown",
      "metadata": {
        "id": "xnybCMQu2k90"
      },
      "source": [
        "## 데이터 분리"
      ]
    },
    {
      "cell_type": "code",
      "metadata": {
        "id": "8DEgk-AEiqnu"
      },
      "source": [
        "X_train, X_test, y_train, y_test = train_test_split(df.title_cln, df.Change, test_size=0.1, random_state=0)"
      ],
      "execution_count": null,
      "outputs": []
    },
    {
      "cell_type": "code",
      "metadata": {
        "id": "1WGXaAICiqk6"
      },
      "source": [
        "train_x = [frev(d) for d in X_train] \n",
        "train_y = [d for d in y_train]\n",
        "\n",
        "test_x = [frev(d) for d in X_test]\n",
        "test_y = [d for d in y_test]"
      ],
      "execution_count": null,
      "outputs": []
    },
    {
      "cell_type": "code",
      "metadata": {
        "id": "muaYp-Kqi44n"
      },
      "source": [
        "train_x=np.asarray(train_x).astype('float32')\n",
        "train_y=np.asarray(train_y).astype('float32')\n",
        "test_x=np.asarray(test_x).astype('float32')\n",
        "test_y=np.asarray(test_y).astype('float32')"
      ],
      "execution_count": null,
      "outputs": []
    },
    {
      "cell_type": "code",
      "metadata": {
        "colab": {
          "base_uri": "https://localhost:8080/"
        },
        "id": "BOBqRxXxi412",
        "outputId": "483d62cb-9675-4b27-de7b-4304fd4a5bd2"
      },
      "source": [
        "train_x.shape, train_y.shape, test_x.shape, test_y.shape"
      ],
      "execution_count": null,
      "outputs": [
        {
          "output_type": "execute_result",
          "data": {
            "text/plain": [
              "((663, 500), (663,), (74, 500), (74,))"
            ]
          },
          "metadata": {},
          "execution_count": 31
        }
      ]
    },
    {
      "cell_type": "markdown",
      "metadata": {
        "id": "xgb4XlIC2mtc"
      },
      "source": [
        "## 모델 학습"
      ]
    },
    {
      "cell_type": "code",
      "metadata": {
        "id": "nFpCYUePi4zR"
      },
      "source": [
        "from tensorflow.keras import models\n",
        "from tensorflow.keras import layers\n",
        "from tensorflow.keras import optimizers\n",
        "from tensorflow.keras.layers import Dense, Dropout, Activation\n",
        "from tensorflow.keras.losses import Huber\n",
        "from tensorflow.keras.optimizers import Adam\n",
        "from tensorflow.keras.callbacks import EarlyStopping, ModelCheckpoint"
      ],
      "execution_count": null,
      "outputs": []
    },
    {
      "cell_type": "code",
      "metadata": {
        "colab": {
          "base_uri": "https://localhost:8080/"
        },
        "id": "4-xazigFi4wY",
        "outputId": "c1ea7439-c3ef-4bd8-fb92-ce899ec7a15b"
      },
      "source": [
        "np.random.seed(0)\n",
        "model=models.Sequential()\n",
        "\n",
        "model.add(layers.Dense(256, activation='relu',input_shape=(500,)))\n",
        "model.add(layers.Dense(128, activation='relu'))\n",
        "model.add(layers.Dense(64, activation='relu'))\n",
        "model.add(layers.Dense(32, activation='relu'))\n",
        "model.add(layers.Dense(16, activation='relu'))\n",
        "model.add(layers.Dense(8, activation='relu'))\n",
        "model.add(layers.Dense(1))\n",
        "\n",
        "loss = Huber()\n",
        "optimizer = Adam(0.0005)\n",
        "model.compile(loss=Huber(), optimizer=optimizer, metrics=['mse'])\n",
        "\n",
        "earlystopping = EarlyStopping(monitor='val_loss', patience=10)\n",
        "filename = os.path.join('tmp', 'ckeckpointer.ckpt')\n",
        "checkpoint = ModelCheckpoint(filename, \n",
        "                             save_weights_only=True, \n",
        "                             save_best_only=True, \n",
        "                             monitor='val_loss', \n",
        "                             verbose=1)\n",
        "\n",
        "hist = model.fit(train_x,train_y,epochs=300,batch_size=200, validation_data=(test_x, test_y), verbose = 2, callbacks=[checkpoint, earlystopping])"
      ],
      "execution_count": null,
      "outputs": [
        {
          "output_type": "stream",
          "name": "stdout",
          "text": [
            "Epoch 1/300\n",
            "4/4 - 2s - loss: 0.0240 - mse: 0.0480 - val_loss: 0.0066 - val_mse: 0.0132\n",
            "\n",
            "Epoch 00001: val_loss improved from inf to 0.00661, saving model to tmp/ckeckpointer.ckpt\n",
            "Epoch 2/300\n",
            "4/4 - 0s - loss: 0.0052 - mse: 0.0104 - val_loss: 0.0049 - val_mse: 0.0097\n",
            "\n",
            "Epoch 00002: val_loss improved from 0.00661 to 0.00485, saving model to tmp/ckeckpointer.ckpt\n",
            "Epoch 3/300\n",
            "4/4 - 0s - loss: 0.0034 - mse: 0.0068 - val_loss: 0.0029 - val_mse: 0.0058\n",
            "\n",
            "Epoch 00003: val_loss improved from 0.00485 to 0.00292, saving model to tmp/ckeckpointer.ckpt\n",
            "Epoch 4/300\n",
            "4/4 - 0s - loss: 0.0026 - mse: 0.0052 - val_loss: 0.0020 - val_mse: 0.0040\n",
            "\n",
            "Epoch 00004: val_loss improved from 0.00292 to 0.00200, saving model to tmp/ckeckpointer.ckpt\n",
            "Epoch 5/300\n",
            "4/4 - 0s - loss: 0.0016 - mse: 0.0032 - val_loss: 0.0016 - val_mse: 0.0031\n",
            "\n",
            "Epoch 00005: val_loss improved from 0.00200 to 0.00156, saving model to tmp/ckeckpointer.ckpt\n",
            "Epoch 6/300\n",
            "4/4 - 0s - loss: 0.0012 - mse: 0.0024 - val_loss: 0.0016 - val_mse: 0.0032\n",
            "\n",
            "Epoch 00006: val_loss did not improve from 0.00156\n",
            "Epoch 7/300\n",
            "4/4 - 0s - loss: 9.7335e-04 - mse: 0.0019 - val_loss: 0.0013 - val_mse: 0.0026\n",
            "\n",
            "Epoch 00007: val_loss improved from 0.00156 to 0.00128, saving model to tmp/ckeckpointer.ckpt\n",
            "Epoch 8/300\n",
            "4/4 - 0s - loss: 6.6706e-04 - mse: 0.0013 - val_loss: 0.0013 - val_mse: 0.0026\n",
            "\n",
            "Epoch 00008: val_loss did not improve from 0.00128\n",
            "Epoch 9/300\n",
            "4/4 - 0s - loss: 6.0308e-04 - mse: 0.0012 - val_loss: 0.0012 - val_mse: 0.0023\n",
            "\n",
            "Epoch 00009: val_loss improved from 0.00128 to 0.00115, saving model to tmp/ckeckpointer.ckpt\n",
            "Epoch 10/300\n",
            "4/4 - 0s - loss: 4.2234e-04 - mse: 8.4468e-04 - val_loss: 0.0011 - val_mse: 0.0022\n",
            "\n",
            "Epoch 00010: val_loss improved from 0.00115 to 0.00111, saving model to tmp/ckeckpointer.ckpt\n",
            "Epoch 11/300\n",
            "4/4 - 0s - loss: 3.6042e-04 - mse: 7.2084e-04 - val_loss: 0.0011 - val_mse: 0.0022\n",
            "\n",
            "Epoch 00011: val_loss improved from 0.00111 to 0.00108, saving model to tmp/ckeckpointer.ckpt\n",
            "Epoch 12/300\n",
            "4/4 - 0s - loss: 2.9433e-04 - mse: 5.8866e-04 - val_loss: 0.0011 - val_mse: 0.0021\n",
            "\n",
            "Epoch 00012: val_loss improved from 0.00108 to 0.00106, saving model to tmp/ckeckpointer.ckpt\n",
            "Epoch 13/300\n",
            "4/4 - 0s - loss: 2.4375e-04 - mse: 4.8749e-04 - val_loss: 9.9854e-04 - val_mse: 0.0020\n",
            "\n",
            "Epoch 00013: val_loss improved from 0.00106 to 0.00100, saving model to tmp/ckeckpointer.ckpt\n",
            "Epoch 14/300\n",
            "4/4 - 0s - loss: 2.0651e-04 - mse: 4.1301e-04 - val_loss: 9.6439e-04 - val_mse: 0.0019\n",
            "\n",
            "Epoch 00014: val_loss improved from 0.00100 to 0.00096, saving model to tmp/ckeckpointer.ckpt\n",
            "Epoch 15/300\n",
            "4/4 - 0s - loss: 1.7618e-04 - mse: 3.5237e-04 - val_loss: 9.8905e-04 - val_mse: 0.0020\n",
            "\n",
            "Epoch 00015: val_loss did not improve from 0.00096\n",
            "Epoch 16/300\n",
            "4/4 - 0s - loss: 1.4922e-04 - mse: 2.9844e-04 - val_loss: 0.0010 - val_mse: 0.0020\n",
            "\n",
            "Epoch 00016: val_loss did not improve from 0.00096\n",
            "Epoch 17/300\n",
            "4/4 - 0s - loss: 1.3038e-04 - mse: 2.6075e-04 - val_loss: 0.0010 - val_mse: 0.0020\n",
            "\n",
            "Epoch 00017: val_loss did not improve from 0.00096\n",
            "Epoch 18/300\n",
            "4/4 - 0s - loss: 1.0670e-04 - mse: 2.1340e-04 - val_loss: 9.8717e-04 - val_mse: 0.0020\n",
            "\n",
            "Epoch 00018: val_loss did not improve from 0.00096\n",
            "Epoch 19/300\n",
            "4/4 - 0s - loss: 9.4478e-05 - mse: 1.8896e-04 - val_loss: 9.8664e-04 - val_mse: 0.0020\n",
            "\n",
            "Epoch 00019: val_loss did not improve from 0.00096\n",
            "Epoch 20/300\n",
            "4/4 - 0s - loss: 8.2061e-05 - mse: 1.6412e-04 - val_loss: 9.7939e-04 - val_mse: 0.0020\n",
            "\n",
            "Epoch 00020: val_loss did not improve from 0.00096\n",
            "Epoch 21/300\n",
            "4/4 - 0s - loss: 6.9772e-05 - mse: 1.3954e-04 - val_loss: 9.6371e-04 - val_mse: 0.0019\n",
            "\n",
            "Epoch 00021: val_loss improved from 0.00096 to 0.00096, saving model to tmp/ckeckpointer.ckpt\n",
            "Epoch 22/300\n",
            "4/4 - 0s - loss: 6.2290e-05 - mse: 1.2458e-04 - val_loss: 9.8048e-04 - val_mse: 0.0020\n",
            "\n",
            "Epoch 00022: val_loss did not improve from 0.00096\n",
            "Epoch 23/300\n",
            "4/4 - 0s - loss: 5.5337e-05 - mse: 1.1067e-04 - val_loss: 9.8389e-04 - val_mse: 0.0020\n",
            "\n",
            "Epoch 00023: val_loss did not improve from 0.00096\n",
            "Epoch 24/300\n",
            "4/4 - 0s - loss: 4.8367e-05 - mse: 9.6734e-05 - val_loss: 9.8135e-04 - val_mse: 0.0020\n",
            "\n",
            "Epoch 00024: val_loss did not improve from 0.00096\n",
            "Epoch 25/300\n",
            "4/4 - 0s - loss: 4.2010e-05 - mse: 8.4020e-05 - val_loss: 9.8538e-04 - val_mse: 0.0020\n",
            "\n",
            "Epoch 00025: val_loss did not improve from 0.00096\n",
            "Epoch 26/300\n",
            "4/4 - 0s - loss: 3.8257e-05 - mse: 7.6513e-05 - val_loss: 9.8211e-04 - val_mse: 0.0020\n",
            "\n",
            "Epoch 00026: val_loss did not improve from 0.00096\n",
            "Epoch 27/300\n",
            "4/4 - 0s - loss: 3.4203e-05 - mse: 6.8407e-05 - val_loss: 9.6468e-04 - val_mse: 0.0019\n",
            "\n",
            "Epoch 00027: val_loss did not improve from 0.00096\n",
            "Epoch 28/300\n",
            "4/4 - 0s - loss: 3.0503e-05 - mse: 6.1005e-05 - val_loss: 9.8804e-04 - val_mse: 0.0020\n",
            "\n",
            "Epoch 00028: val_loss did not improve from 0.00096\n",
            "Epoch 29/300\n",
            "4/4 - 0s - loss: 2.7496e-05 - mse: 5.4991e-05 - val_loss: 9.9619e-04 - val_mse: 0.0020\n",
            "\n",
            "Epoch 00029: val_loss did not improve from 0.00096\n",
            "Epoch 30/300\n",
            "4/4 - 0s - loss: 2.4780e-05 - mse: 4.9560e-05 - val_loss: 9.7847e-04 - val_mse: 0.0020\n",
            "\n",
            "Epoch 00030: val_loss did not improve from 0.00096\n",
            "Epoch 31/300\n",
            "4/4 - 0s - loss: 2.1771e-05 - mse: 4.3541e-05 - val_loss: 9.7512e-04 - val_mse: 0.0020\n",
            "\n",
            "Epoch 00031: val_loss did not improve from 0.00096\n"
          ]
        }
      ]
    },
    {
      "cell_type": "code",
      "metadata": {
        "colab": {
          "base_uri": "https://localhost:8080/"
        },
        "id": "RyUyfYTtjLcE",
        "outputId": "e82ee562-3001-479f-c019-dfb47e5fdcc3"
      },
      "source": [
        "model.summary()"
      ],
      "execution_count": null,
      "outputs": [
        {
          "output_type": "stream",
          "name": "stdout",
          "text": [
            "Model: \"sequential\"\n",
            "_________________________________________________________________\n",
            "Layer (type)                 Output Shape              Param #   \n",
            "=================================================================\n",
            "dense (Dense)                (None, 256)               128256    \n",
            "_________________________________________________________________\n",
            "dense_1 (Dense)              (None, 128)               32896     \n",
            "_________________________________________________________________\n",
            "dense_2 (Dense)              (None, 64)                8256      \n",
            "_________________________________________________________________\n",
            "dense_3 (Dense)              (None, 32)                2080      \n",
            "_________________________________________________________________\n",
            "dense_4 (Dense)              (None, 16)                528       \n",
            "_________________________________________________________________\n",
            "dense_5 (Dense)              (None, 8)                 136       \n",
            "_________________________________________________________________\n",
            "dense_6 (Dense)              (None, 1)                 9         \n",
            "=================================================================\n",
            "Total params: 172,161\n",
            "Trainable params: 172,161\n",
            "Non-trainable params: 0\n",
            "_________________________________________________________________\n"
          ]
        }
      ]
    },
    {
      "cell_type": "code",
      "metadata": {
        "id": "uGxSKgTITm6p"
      },
      "source": [
        "pred = model.predict(test_x)"
      ],
      "execution_count": null,
      "outputs": []
    },
    {
      "cell_type": "code",
      "metadata": {
        "colab": {
          "base_uri": "https://localhost:8080/",
          "height": 538
        },
        "id": "HNQClZnxTwwP",
        "outputId": "75cbe477-b78a-4cdf-e602-db2201f19116"
      },
      "source": [
        "plt.figure(figsize=(12, 9))\n",
        "plt.plot(np.asarray(y_test), label='actual')\n",
        "plt.plot(pred, label='prediction')\n",
        "plt.legend() \n",
        "plt.show() "
      ],
      "execution_count": null,
      "outputs": [
        {
          "output_type": "display_data",
          "data": {
            "image/png": "[encoded data removed]",
            "text/plain": [
              "<Figure size 864x648 with 1 Axes>"
            ]
          },
          "metadata": {
            "needs_background": "light"
          }
        }
      ]
    },
    {
      "cell_type": "code",
      "metadata": {
        "colab": {
          "base_uri": "https://localhost:8080/",
          "height": 294
        },
        "id": "IicMNW_CVui8",
        "outputId": "0eb466a8-ee5f-428d-a359-72e70e740fea"
      },
      "source": [
        "loss = hist.history['loss']\n",
        "val_loss = hist.history['val_loss']\n",
        "\n",
        "epochs = range(1, len(loss) + 1)\n",
        "\n",
        "plt.plot(epochs, loss, 'ro', label='Training loss')\n",
        "\n",
        "plt.plot(epochs, val_loss, 'b', label='Validation loss')\n",
        "plt.title('Training and validation loss')\n",
        "plt.xlabel('Epochs')\n",
        "plt.ylabel('Loss')\n",
        "plt.ylim((0,0.01))\n",
        "plt.legend() \n",
        "\n",
        "plt.show()"
      ],
      "execution_count": null,
      "outputs": [
        {
          "output_type": "display_data",
          "data": {
            "image/png": "[encoded data removed]",
            "text/plain": [
              "<Figure size 432x288 with 1 Axes>"
            ]
          },
          "metadata": {
            "needs_background": "light"
          }
        }
      ]
    },
    {
      "cell_type": "code",
      "metadata": {
        "id": "MorotaWNmuSN",
        "colab": {
          "base_uri": "https://localhost:8080/",
          "height": 294
        },
        "outputId": "9a97c3f6-c678-4869-f02b-e514d7802495"
      },
      "source": [
        "mse = hist.history['mse']\n",
        "val_mse = hist.history['val_mse']\n",
        "\n",
        "epochs = range(1, len(mse) + 1)\n",
        "\n",
        "plt.plot(epochs, mse, 'ro', label='Training mse')\n",
        "\n",
        "plt.plot(epochs, val_mse, 'b', label='Validation mse')\n",
        "plt.title('Training and validation mse')\n",
        "plt.xlabel('Epochs')\n",
        "plt.ylabel('MSE') \n",
        "plt.ylim((0,0.01))\n",
        "plt.legend()\n",
        "\n",
        "plt.show() "
      ],
      "execution_count": null,
      "outputs": [
        {
          "output_type": "display_data",
          "data": {
            "image/png": "[encoded data removed]",
            "text/plain": [
              "<Figure size 432x288 with 1 Axes>"
            ]
          },
          "metadata": {
            "needs_background": "light"
          }
        }
      ]
    }
  ]
}