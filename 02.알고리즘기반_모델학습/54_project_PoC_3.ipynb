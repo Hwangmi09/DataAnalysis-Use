{
  "nbformat": 4,
  "nbformat_minor": 0,
  "metadata": {
    "colab": {
      "name": "54_project_PoC_3.ipynb",
      "provenance": [],
      "collapsed_sections": []
    },
    "kernelspec": {
      "name": "python3",
      "display_name": "Python 3"
    },
    "language_info": {
      "name": "python"
    }
  },
  "cells": [
    {
      "cell_type": "markdown",
      "metadata": {
        "id": "PFgVHHcyvT9V"
      },
      "source": [
        "- 이미지 증강"
      ]
    },
    {
      "cell_type": "code",
      "metadata": {
        "id": "IIEY3oR0l7NZ"
      },
      "source": [
        "pip install imgaug > /dev/null"
      ],
      "execution_count": null,
      "outputs": []
    },
    {
      "cell_type": "code",
      "metadata": {
        "id": "i1u_6-Qw07S1"
      },
      "source": [
        "from glob import glob\n",
        "from PIL import Image\n",
        "import numpy as np\n",
        "\n",
        "fileList=glob('/content/drive/MyDrive/데이터/images/*.jpg')"
      ],
      "execution_count": null,
      "outputs": []
    },
    {
      "cell_type": "code",
      "metadata": {
        "colab": {
          "base_uri": "https://localhost:8080/"
        },
        "id": "bXGXjGshQ18n",
        "outputId": "a3d16230-bd09-448c-f30e-c80cc3e540a2"
      },
      "source": [
        "import cv2 \n",
        "import numpy as np \n",
        "from img_aug import Img_aug #데이터 증강 class를 불러옴 \n",
        "\n",
        "aug = Img_aug() #데이터 증강 class 선언 \n",
        "augment_num = 40 #증강결과로 출력되는 이미지의 갯수 선언 \n",
        "\n",
        "img = cv2.imread(fileList[0]) \n",
        "images_aug = aug.seq.augment_images([img for i in range(augment_num)]) \n",
        "\n",
        "for num,aug_img in enumerate(images_aug) : \n",
        "    cv2.imwrite('/content/drive/MyDrive/augment/kickboard_{}.jpg'.format(num),aug_img) \n",
        "    \n",
        "print('Complete augmenting images')"
      ],
      "execution_count": null,
      "outputs": [
        {
          "output_type": "stream",
          "name": "stdout",
          "text": [
            "Complete augmenting images\n"
          ]
        }
      ]
    },
    {
      "cell_type": "code",
      "metadata": {
        "id": "v1mCmVi9Z18M"
      },
      "source": [
        "for num,aug_img in enumerate(images_aug) : \n",
        "    cv2.imwrite('/content/drive/MyDrive/augment/kickboard_{}.jpg'.format(num),aug_img) "
      ],
      "execution_count": null,
      "outputs": []
    },
    {
      "cell_type": "code",
      "metadata": {
        "colab": {
          "base_uri": "https://localhost:8080/"
        },
        "id": "0syHABFEdkU4",
        "outputId": "39660c44-7769-41cf-d422-5ac5b0ac429f"
      },
      "source": [
        "import cv2 \n",
        "import numpy as np \n",
        "from img_aug2 import Img_aug #데이터 증강 class를 불러옴 \n",
        "\n",
        "aug = Img_aug() #데이터 증강 class 선언 \n",
        "augment_num = 40 #증강결과로 출력되는 이미지의 갯수 선언 \n",
        "\n",
        "img = cv2.imread(fileList[0]) \n",
        "images_aug = aug.seq.augment_images([img for i in range(augment_num)]) \n",
        "\n",
        "for num,aug_img in enumerate(images_aug) : \n",
        "    cv2.imwrite('/content/drive/MyDrive/augment2/kickboard_{}.jpg'.format(num),aug_img) \n",
        "    \n",
        "print('Complete augmenting images')"
      ],
      "execution_count": null,
      "outputs": [
        {
          "output_type": "stream",
          "name": "stdout",
          "text": [
            "Complete augmenting images\n"
          ]
        }
      ]
    }
  ]
}