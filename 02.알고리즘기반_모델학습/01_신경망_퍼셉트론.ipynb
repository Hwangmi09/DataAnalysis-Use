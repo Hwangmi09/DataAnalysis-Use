{
  "nbformat": 4,
  "nbformat_minor": 0,
  "metadata": {
    "colab": {
      "name": "01_신경망_퍼셉트론,활성화함수.ipynb",
      "provenance": [],
      "collapsed_sections": []
    },
    "kernelspec": {
      "name": "python3",
      "display_name": "Python 3"
    },
    "language_info": {
      "name": "python"
    }
  },
  "cells": [
    {
      "cell_type": "markdown",
      "metadata": {
        "id": "EcrNbEDXd9hy"
      },
      "source": [
        "# 3.2 인공신경망 모델\n",
        "- p.71~\n",
        "- 배치사이즈: 오차계산하고 w,b값 갱신할 데이터 단위\n",
        "    - 현재 4개의 x값이 있으며 배치를 1로 하면 1번째 데이터/4개의 모든 데이터중, 2/4, 3/4, 4/4임\n",
        "    - 배치를 3으로하면 1(1,2,3데이터)/2, 2(4번째데이터)/2 임\n",
        "    - 배치사이즈는 사용자가 정의하지 않아도 됨.(optimizer에서 배치를 자동으로 결정함)\n",
        "- epochs: 전체 데이터를 사용하여 학습하는 횟수(epochs할때마다 가중치가 갱신됨)\n",
        "\n",
        "\n",
        "- Dense(1, input_dim=3, activation='sigmoid'))\n",
        "    - 첫번째 인자 : 출력 뉴런의 수를 설정합니다.\n",
        "    - input_dim : 입력 뉴런의 수를 설정합니다.\n",
        "    - init : 가중치 초기화 방법 설정합니다.\n",
        "        - ‘uniform’ : 균일 분포\n",
        "        - ‘normal’ : 가우시안 분포\n",
        "    - activation : 활성화 함수 설정합니다.\n",
        "        - ‘linear’ : 디폴트 값, 입력뉴런과 가중치로 계산된 결과값이 그대로 출력으로 나옵니다.\n",
        "        - ‘relu’ : rectifier 함수, 은익층에 주로 쓰입니다.\n",
        "        - ‘sigmoid’ : 시그모이드 함수, 이진 분류 문제에서 출력층에 주로 쓰입니다.\n",
        "        - ‘softmax’ : 소프트맥스 함수, 다중 클래스 분류 문제에서 출력층에 주로 쓰입니다."
      ]
    },
    {
      "cell_type": "code",
      "metadata": {
        "id": "yxOTux-_2-vJ"
      },
      "source": [
        "import warnings\n",
        "warnings.filterwarnings('ignore')"
      ],
      "execution_count": 1,
      "outputs": []
    },
    {
      "cell_type": "markdown",
      "metadata": {
        "id": "yISG6leddcY1"
      },
      "source": [
        "## 3.2.1 퍼셉트론"
      ]
    },
    {
      "cell_type": "code",
      "metadata": {
        "id": "XLn6TSYkW8Ow"
      },
      "source": [
        "import tensorflow as tf\n",
        "import numpy as np\n",
        "\n",
        "from tensorflow.keras.models import Sequential # 층을 구성하겠다.\n",
        "from tensorflow.keras.layers import Dense # 층에 대한 노드 개수를 지정\n",
        "from tensorflow.keras.optimizers import SGD # 최적화 함수에 대하여 설정\n",
        "from tensorflow.keras.losses import mse # 로스 지정"
      ],
      "execution_count": 2,
      "outputs": []
    },
    {
      "cell_type": "code",
      "metadata": {
        "id": "hu8D6wCV0gaB"
      },
      "source": [
        "tf.random.set_seed(777)\n",
        "\n",
        "# 데이터 준비하기\n",
        "data = np.array([[0,0], [1,0], [0,1], [1,1]]) # 넘파이로 데이터 전달\n",
        "label = np.array([[0],[1],[1],[1]])"
      ],
      "execution_count": 3,
      "outputs": []
    },
    {
      "cell_type": "code",
      "metadata": {
        "colab": {
          "base_uri": "https://localhost:8080/"
        },
        "id": "HDL8MHi2Z4Tw",
        "outputId": "d9a6edd4-7d4c-4860-8954-c030db0f4f8b"
      },
      "source": [
        "# 모델 구성하기: Dense 1개\n",
        "model = Sequential() # tensorflow.keras.models.Sequential()\n",
        "model.add(Dense(1, input_shape=(2,), activation='linear')) # 활성화함수 wx+b, input_shape에는 x개수를 튜플로 전달하기\n",
        "\n",
        "# 모델 준비하기\n",
        "model.compile(optimizer=SGD(), loss=mse, metrics=['acc']) # list 형태로 평가지표 전달\n",
        "\n",
        "# 학습시키기\n",
        "model.fit(data, label, epochs=10, batch_size=1)"
      ],
      "execution_count": 4,
      "outputs": [
        {
          "output_type": "stream",
          "name": "stdout",
          "text": [
            "Epoch 1/10\n",
            "4/4 [==============================] - 0s 3ms/step - loss: 1.3605 - acc: 0.5000\n",
            "Epoch 2/10\n",
            "4/4 [==============================] - 0s 2ms/step - loss: 1.1247 - acc: 0.5000\n",
            "Epoch 3/10\n",
            "4/4 [==============================] - 0s 3ms/step - loss: 0.9413 - acc: 0.5000\n",
            "Epoch 4/10\n",
            "4/4 [==============================] - 0s 3ms/step - loss: 0.7983 - acc: 0.5000\n",
            "Epoch 5/10\n",
            "4/4 [==============================] - 0s 5ms/step - loss: 0.6863 - acc: 0.5000\n",
            "Epoch 6/10\n",
            "4/4 [==============================] - 0s 2ms/step - loss: 0.5980 - acc: 0.5000\n",
            "Epoch 7/10\n",
            "4/4 [==============================] - 0s 3ms/step - loss: 0.5256 - acc: 0.5000\n",
            "Epoch 8/10\n",
            "4/4 [==============================] - 0s 2ms/step - loss: 0.4680 - acc: 0.5000\n",
            "Epoch 9/10\n",
            "4/4 [==============================] - 0s 2ms/step - loss: 0.4228 - acc: 0.7500\n",
            "Epoch 10/10\n",
            "4/4 [==============================] - 0s 2ms/step - loss: 0.3870 - acc: 0.7500\n"
          ]
        },
        {
          "output_type": "execute_result",
          "data": {
            "text/plain": [
              "<keras.callbacks.History at 0x7f8573d5fc50>"
            ]
          },
          "metadata": {},
          "execution_count": 4
        }
      ]
    },
    {
      "cell_type": "code",
      "metadata": {
        "colab": {
          "base_uri": "https://localhost:8080/"
        },
        "id": "io0CNCk2c2ZG",
        "outputId": "d7acac0a-4660-415f-b71c-72ad0f84d19c"
      },
      "source": [
        "model.summary()\n",
        "# param: 노드에서 나가는 선의 개수, param공식: (input개수+bias수 1)*dense수\n",
        "# 현재는 노드가 x1, x2, 1(바이어스)\n",
        "# 여기에 계산되는 가중치가 Param의 개수(w1,w2,b)\n",
        "# 따라서 input의 x값이 2개임으로 w1,w2,b 3개의 노드가 있어서 Param갯수가 3임."
      ],
      "execution_count": 5,
      "outputs": [
        {
          "output_type": "stream",
          "name": "stdout",
          "text": [
            "Model: \"sequential\"\n",
            "_________________________________________________________________\n",
            "Layer (type)                 Output Shape              Param #   \n",
            "=================================================================\n",
            "dense (Dense)                (None, 1)                 3         \n",
            "=================================================================\n",
            "Total params: 3\n",
            "Trainable params: 3\n",
            "Non-trainable params: 0\n",
            "_________________________________________________________________\n"
          ]
        }
      ]
    },
    {
      "cell_type": "code",
      "metadata": {
        "colab": {
          "base_uri": "https://localhost:8080/"
        },
        "id": "7KNaW7hwapiq",
        "outputId": "5a0a348e-ca8c-49a9-9bb3-b5449d7c7faa"
      },
      "source": [
        "# x1과 x2의 자료를 갖고있으니깐, x1의 가중치 w1, x2의 가중치 w2, b 한개\n",
        "# [w1,w2], b\n",
        "\n",
        "we = model.get_weights() # 모델 가중치 확인, Param갯수만큼 출력됨. [[w1],[w2]], [b]\n",
        "print(we)\n",
        "# w는 같은 배열에 넣고\n",
        "# b는 한 개의 항으로 제공"
      ],
      "execution_count": 6,
      "outputs": [
        {
          "output_type": "stream",
          "name": "stdout",
          "text": [
            "[array([[ 0.7162235 ],\n",
            "       [-0.46900585]], dtype=float32), array([0.4076864], dtype=float32)]\n"
          ]
        }
      ]
    },
    {
      "cell_type": "code",
      "metadata": {
        "colab": {
          "base_uri": "https://localhost:8080/"
        },
        "id": "UghjPC4a2miY",
        "outputId": "a1d9eb7e-6b66-4d96-e382-b7fae8a520c7"
      },
      "source": [
        "# 직접 예측값 계산해보기\n",
        "w1 = we[0][0] # x1의 w1\n",
        "w2 = we[0][1] # x2의 w2\n",
        "b = we[1] # b\n",
        "\n",
        "y_pred = data[:,0]*w1 + data[:,1]*w2 + b\n",
        "y_pred"
      ],
      "execution_count": 7,
      "outputs": [
        {
          "output_type": "execute_result",
          "data": {
            "text/plain": [
              "array([ 0.40768641,  1.12390989, -0.06131944,  0.65490404])"
            ]
          },
          "metadata": {},
          "execution_count": 7
        }
      ]
    },
    {
      "cell_type": "code",
      "metadata": {
        "colab": {
          "base_uri": "https://localhost:8080/"
        },
        "id": "1LIObEmobRdE",
        "outputId": "88c9e6a0-dd49-4d61-8556-e3d1999d5ad5"
      },
      "source": [
        "# evaluate(): 평가를 진행\n",
        "# # 손실값, 정확도\n",
        "print(model.evaluate(data, label))\n",
        "\n",
        "# predict(): 예측을 진행\n",
        "preds = model.predict(data)\n",
        "for a,b in zip(preds,label):\n",
        "    print(f'예측값 {a} -  실제값 {b}')"
      ],
      "execution_count": 8,
      "outputs": [
        {
          "output_type": "stream",
          "name": "stdout",
          "text": [
            "1/1 [==============================] - 0s 225ms/step - loss: 0.3568 - acc: 0.7500\n",
            "[0.3567630648612976, 0.75]\n",
            "예측값 [0.4076864] -  실제값 [0]\n",
            "예측값 [1.12391] -  실제값 [1]\n",
            "예측값 [-0.06131944] -  실제값 [1]\n",
            "예측값 [0.654904] -  실제값 [1]\n"
          ]
        }
      ]
    },
    {
      "cell_type": "markdown",
      "metadata": {
        "id": "8lptsb9TichC"
      },
      "source": [
        "- Dense=1, 퍼셉트론 개수가 2인 경우"
      ]
    },
    {
      "cell_type": "code",
      "metadata": {
        "colab": {
          "base_uri": "https://localhost:8080/"
        },
        "id": "QLjvlORBhyxc",
        "outputId": "a0efb1c9-ceb9-41e3-9dc8-a42d01c61802"
      },
      "source": [
        "# 모델 구성하기\n",
        "model = Sequential() # tensorflow.keras.models.Sequential()\n",
        "model.add(Dense(2, input_shape=(2,), activation='linear')) # 활성화함수 wx+b\n",
        "# model.add(Dense(1, activation='linear')) # 이 코드를 추가하면 Dense layer는 2가 됨.\n",
        "\n",
        "# 모델 준비하기\n",
        "model.compile(optimizer=SGD(), loss=mse, metrics=['acc']) # list 형태로 평가지표 전달\n",
        "\n",
        "# 학습시키기\n",
        "model.fit(data, label, epochs=2, batch_size=1)"
      ],
      "execution_count": 9,
      "outputs": [
        {
          "output_type": "stream",
          "name": "stdout",
          "text": [
            "Epoch 1/2\n",
            "4/4 [==============================] - 0s 3ms/step - loss: 0.9936 - acc: 0.2500\n",
            "Epoch 2/2\n",
            "4/4 [==============================] - 0s 3ms/step - loss: 0.9022 - acc: 0.2500\n"
          ]
        },
        {
          "output_type": "execute_result",
          "data": {
            "text/plain": [
              "<keras.callbacks.History at 0x7f8573bfecd0>"
            ]
          },
          "metadata": {},
          "execution_count": 9
        }
      ]
    },
    {
      "cell_type": "code",
      "metadata": {
        "colab": {
          "base_uri": "https://localhost:8080/"
        },
        "id": "rJP5J8_yh5Z0",
        "outputId": "9e69736e-70ec-4ad7-8e6d-fd727d6aac41"
      },
      "source": [
        "model.summary()  # Param의 갯수는 노드에서 나가는 선의 갯수\n",
        "# input의 x값이 2개임으로 w1,w2,b 3개의 노드가 있어서 Param갯수가 3임.\n",
        "# 이러한 3개의 파람을 갖는 세트가 2개있음.(Dense=2) 총 6개임"
      ],
      "execution_count": 10,
      "outputs": [
        {
          "output_type": "stream",
          "name": "stdout",
          "text": [
            "Model: \"sequential_1\"\n",
            "_________________________________________________________________\n",
            "Layer (type)                 Output Shape              Param #   \n",
            "=================================================================\n",
            "dense_1 (Dense)              (None, 2)                 6         \n",
            "=================================================================\n",
            "Total params: 6\n",
            "Trainable params: 6\n",
            "Non-trainable params: 0\n",
            "_________________________________________________________________\n"
          ]
        }
      ]
    },
    {
      "cell_type": "code",
      "metadata": {
        "colab": {
          "base_uri": "https://localhost:8080/"
        },
        "id": "hxxY2Kezh1Ys",
        "outputId": "37111675-3561-4fc9-d0c5-f0effe4ba341"
      },
      "source": [
        "model.get_weights() # 모델 가중치 확인\n",
        "# [[w11,w21],[w12,w22]],[b1,b2]  ==> [[Dense1의 w1,Dense2의 w1],[Dense1의 w2,Dense2의 w2]],[Dense1의b,Dense2의b]"
      ],
      "execution_count": 11,
      "outputs": [
        {
          "output_type": "execute_result",
          "data": {
            "text/plain": [
              "[array([[-0.15591462,  0.60665405],\n",
              "        [ 0.4868804 , -0.8903257 ]], dtype=float32),\n",
              " array([0.04647271, 0.07136649], dtype=float32)]"
            ]
          },
          "metadata": {},
          "execution_count": 11
        }
      ]
    },
    {
      "cell_type": "code",
      "metadata": {
        "colab": {
          "base_uri": "https://localhost:8080/"
        },
        "id": "Uw9QNZA4h4lQ",
        "outputId": "c3e41b94-7b1c-4c4f-f127-b894135aa03b"
      },
      "source": [
        "tmp = model.get_weights()\n",
        "w1 = tmp[0][0] # x1의 가중치\n",
        "w2 = tmp[0][1] # x2의 가중치\n",
        "b1 = tmp[1][0] # 출력 뉴런1의 bias\n",
        "b2 = tmp[1][1] # 출력 뉴런2의 bias\n",
        "\n",
        "print(w1)\n",
        "print(w2)\n",
        "print('y_pred1: ', data[:,0]*w1[0]+data[:,1]*w2[0]+b1) # x1=data[:,0], x2=data[:,1]\n",
        "print('y_pred2: ', data[:,0]*w1[1]+data[:,1]*w2[1]+b2)"
      ],
      "execution_count": 19,
      "outputs": [
        {
          "output_type": "stream",
          "name": "stdout",
          "text": [
            "[-0.15591462  0.60665405]\n",
            "[ 0.4868804 -0.8903257]\n",
            "y_pred1:  [ 0.04647271 -0.10944191  0.5333531   0.37743848]\n",
            "y_pred2:  [ 0.07136649  0.67802054 -0.81895924 -0.21230519]\n"
          ]
        }
      ]
    },
    {
      "cell_type": "code",
      "metadata": {
        "colab": {
          "base_uri": "https://localhost:8080/"
        },
        "id": "i4xOpx5-iZTQ",
        "outputId": "d1245748-2bf4-461d-a96e-1c6c1f5342aa"
      },
      "source": [
        "# evaluate(): 평가를 진행\n",
        "model.evaluate(data, label)\n",
        "\n",
        "# predict(): 예측을 진행\n",
        "preds = model.predict(data)\n",
        "for a,b in zip(preds,label):\n",
        "    print(f'예측값 {a} -  실제값 {b}')"
      ],
      "execution_count": 20,
      "outputs": [
        {
          "output_type": "stream",
          "name": "stdout",
          "text": [
            "1/1 [==============================] - 0s 18ms/step - loss: 0.8407 - acc: 0.2500\n",
            "예측값 [0.04647271 0.07136649] -  실제값 [0]\n",
            "예측값 [-0.10944191  0.67802054] -  실제값 [1]\n",
            "예측값 [ 0.5333531  -0.81895924] -  실제값 [1]\n",
            "예측값 [ 0.37743846 -0.21230519] -  실제값 [1]\n"
          ]
        }
      ]
    },
    {
      "cell_type": "markdown",
      "metadata": {
        "id": "mP9pdTtiqfP7"
      },
      "source": [
        "## 활성화함수\n",
        "- 활성화함수: dense층의 결과를 계산하는 공식\n",
        "- 중간 Dense layer와 최종 Dense layer에서 사용하는 함수는 다름\n",
        "- 중간 Dense layer는 다음 Dense layer에 넘어가기에 적합한 값을 의미 (거의 Relu 라는 함수를 사용)\n",
        "- 최종 Dense layer의 출력값은 원하는 y값을 의미\n",
        "    - y값은 무한대의 숫자인 선형회귀 이거나, 결과는 무한대의 숫자중 1개  (활성화함수 기재안함)\n",
        "    - 0또는1값 중 한 개인 이항분류이거나\n",
        "        - 결과1은 0또는1의 한개의 비트  (활성화함수 시그모이드)\n",
        "        - 결과2는 0값을[1,0] 1값을[0,1]의 두개의 비트로 표현하는 원핫인코딩(활성화함수 소프트맥스)\n",
        "    - 여러개의 다항분류이거나, 무조건 분류갯수만큼 원핫인코딩 (활성화함수 softmax)\n",
        "        - 예) 개,고양이,사자,사슴  4개의분류가 있으면 개는1, 고양이는2, 사자는3,사슴은4\n",
        "        - 개는[1,0,0,0]   고양이는[0,1,0,0,]  사자는 [0,0,1,0]  사슴은 [0,0,0,1]\n"
      ]
    },
    {
      "cell_type": "markdown",
      "metadata": {
        "id": "dHzSYKdZ_syf"
      },
      "source": [
        "### 활성화함수 - linear함수"
      ]
    },
    {
      "cell_type": "code",
      "metadata": {
        "colab": {
          "base_uri": "https://localhost:8080/"
        },
        "id": "w4vDK4Gm_2Vv",
        "outputId": "15c36d3d-db5d-47ea-ff42-3c271a16adcd"
      },
      "source": [
        "data = np.array([[5, 20], [3, 0], [8, 1], [1, 1]])  # 입력데이터셋의 형태는 신경망의 input값에 사용됨. 입력의 갯수와 신경망의 input의갯수가 다르면 error\n",
        "label = np.array([[0], [1], [1], [1]]) \n",
        "\n",
        "model = Sequential() \n",
        "model.add(Dense(1, input_shape = (2,), activation = 'linear')) \n",
        "#model.add(Dense(1, input_shape = (2,))) # activation을 사용하지 않아도 선형식이 됨. 단 w,b의 랜덤값이 다르게 나옴\n",
        "\n",
        "model.compile(optimizer = SGD(), loss = mse, metrics = ['acc']) \n",
        "model.fit(data, label, epochs = 2,batch_size=1,verbose=0) # verbose=0 실행화면 안나옴"
      ],
      "execution_count": 21,
      "outputs": [
        {
          "output_type": "execute_result",
          "data": {
            "text/plain": [
              "<keras.callbacks.History at 0x7f856f33d850>"
            ]
          },
          "metadata": {},
          "execution_count": 21
        }
      ]
    },
    {
      "cell_type": "code",
      "metadata": {
        "colab": {
          "base_uri": "https://localhost:8080/"
        },
        "id": "fOFLEDotCBAA",
        "outputId": "93c49419-8e04-4ac2-cc26-c85e08fb736e"
      },
      "source": [
        "# linear 함수이기때문에 무한대의 숫자값이 나옴\n",
        "preds = model.predict(data)\n",
        "for a, b in zip(preds, label):\n",
        "    print(f\"예측값 {a} - 정답 {b}\")"
      ],
      "execution_count": 22,
      "outputs": [
        {
          "output_type": "stream",
          "name": "stdout",
          "text": [
            "예측값 [-519.29736] - 정답 [0]\n",
            "예측값 [24.150042] - 정답 [1]\n",
            "예측값 [35.480904] - 정답 [1]\n",
            "예측값 [-19.523718] - 정답 [1]\n"
          ]
        }
      ]
    },
    {
      "cell_type": "code",
      "metadata": {
        "colab": {
          "base_uri": "https://localhost:8080/"
        },
        "id": "H3tkxdBpCvMo",
        "outputId": "6abdec31-7513-4b2d-e343-6e894ab8a8e6"
      },
      "source": [
        "model.get_weights()"
      ],
      "execution_count": 24,
      "outputs": [
        {
          "output_type": "execute_result",
          "data": {
            "text/plain": [
              "[array([[  7.8578033],\n",
              "        [-27.958153 ]], dtype=float32), array([0.57663125], dtype=float32)]"
            ]
          },
          "metadata": {},
          "execution_count": 24
        }
      ]
    },
    {
      "cell_type": "code",
      "metadata": {
        "colab": {
          "base_uri": "https://localhost:8080/"
        },
        "id": "rMN13b5rCC3N",
        "outputId": "da87324d-4fd3-45f5-897e-8da86719ed20"
      },
      "source": [
        "paramValue=model.get_weights()  # Param갯수만큼 출력됨.\n",
        "\n",
        "# 직접 예측값 계산해보기\n",
        "x1=data[:,0] ; x2=data[:,1]\n",
        "w1=paramValue[0][0] ; w2=paramValue[0][1]; b=paramValue[1]\n",
        "y_pred=x1*w1+x2*w2+b\n",
        "y_pred"
      ],
      "execution_count": 25,
      "outputs": [
        {
          "output_type": "execute_result",
          "data": {
            "text/plain": [
              "array([-519.29740745,   24.15004128,   35.48090523,  -19.52371818])"
            ]
          },
          "metadata": {},
          "execution_count": 25
        }
      ]
    },
    {
      "cell_type": "markdown",
      "metadata": {
        "id": "oJ6Y6uIpD6xn"
      },
      "source": [
        "### 활성화함수 - sigmoid\n",
        "- 0과 1의 사이의 값만 나오게 하는 함수"
      ]
    },
    {
      "cell_type": "code",
      "metadata": {
        "colab": {
          "base_uri": "https://localhost:8080/"
        },
        "id": "12NiA7iZEBEc",
        "outputId": "8a4736b8-0a42-4ce3-ec39-ca57a61a88c7"
      },
      "source": [
        "data = np.array([[5, 20], [3, 0], [8, 1], [1, 1]])  # 입력데이터셋의 형태는 신경망의 input값에 사용됨. 입력의 갯수와 신경망의 input의갯수가 다르면 error\n",
        "label = np.array([[0], [1], [1], [1]]) \n",
        "\n",
        "model = Sequential() \n",
        "model.add(Dense(1, input_shape = (2,), activation = 'sigmoid')) \n",
        "model.compile(optimizer = SGD(), loss = mse, metrics = ['acc']) \n",
        "model.fit(data, label, epochs = 2,batch_size=1,verbose=0) # verbose=0 실행화면 안나옴"
      ],
      "execution_count": 4,
      "outputs": [
        {
          "output_type": "execute_result",
          "data": {
            "text/plain": [
              "<keras.callbacks.History at 0x7ff1fa127d10>"
            ]
          },
          "metadata": {},
          "execution_count": 4
        }
      ]
    },
    {
      "cell_type": "code",
      "metadata": {
        "colab": {
          "base_uri": "https://localhost:8080/"
        },
        "id": "IZTuVpOeEFkq",
        "outputId": "a29c6cf7-0eb2-47b8-b752-90485f4ba6e3"
      },
      "source": [
        "# sigmoid 함수이기때문에 0또는1 사이의 숫자값이 나옴\n",
        "preds = model.predict(data)\n",
        "for a, b in zip(preds, label):\n",
        "    print(f\"예측값 {a} - 정답 {b}\")"
      ],
      "execution_count": 5,
      "outputs": [
        {
          "output_type": "stream",
          "name": "stdout",
          "text": [
            "예측값 [2.2450816e-07] - 정답 [0]\n",
            "예측값 [0.841648] - 정답 [1]\n",
            "예측값 [0.9717856] - 정답 [1]\n",
            "예측값 [0.41503102] - 정답 [1]\n"
          ]
        }
      ]
    },
    {
      "cell_type": "code",
      "metadata": {
        "colab": {
          "base_uri": "https://localhost:8080/"
        },
        "id": "veeYpnS3EHav",
        "outputId": "b72ed79b-38e5-4730-9c43-d7deffdb5cbd"
      },
      "source": [
        "import numpy as np\n",
        "paramValue=model.get_weights()  # Param갯수만큼 출력됨.\n",
        "\n",
        "# 직접 예측값 계산해보기\n",
        "x1=data[:,0] ; x2=data[:,1]\n",
        "w1=paramValue[0][0] ; w2=paramValue[0][1]; b=paramValue[1]\n",
        "y_pred=1/(1+np.exp(-x1*w1-x2*w2-b))  # 시그모이드 함수 이용\n",
        "y_pred"
      ],
      "execution_count": 14,
      "outputs": [
        {
          "output_type": "execute_result",
          "data": {
            "text/plain": [
              "array([2.24507857e-07, 8.41648038e-01, 9.71785601e-01, 4.15031014e-01])"
            ]
          },
          "metadata": {},
          "execution_count": 14
        }
      ]
    },
    {
      "cell_type": "markdown",
      "metadata": {
        "id": "Gl9fAQzAF83c"
      },
      "source": [
        "### 활성화함수 - softmax 함수"
      ]
    },
    {
      "cell_type": "code",
      "metadata": {
        "colab": {
          "base_uri": "https://localhost:8080/"
        },
        "id": "aeewA1G4GAso",
        "outputId": "9ae50c7b-52a0-442d-acea-45d336da1d00"
      },
      "source": [
        "data = np.array([[5, 20], [3, 0], [8, 1], [1, 1]])\n",
        "label = np.array([[0], [1], [1], [1]]) \n",
        "\n",
        "label_onehot = tf.keras.utils.to_categorical(label,num_classes=2) \n",
        "print(label_onehot)"
      ],
      "execution_count": 15,
      "outputs": [
        {
          "output_type": "stream",
          "name": "stdout",
          "text": [
            "[[1. 0.]\n",
            " [0. 1.]\n",
            " [0. 1.]\n",
            " [0. 1.]]\n"
          ]
        }
      ]
    },
    {
      "cell_type": "code",
      "metadata": {
        "colab": {
          "base_uri": "https://localhost:8080/"
        },
        "id": "VPj327l3GISO",
        "outputId": "5f3f3d02-1a6b-459e-ebac-420a3c3c1af7"
      },
      "source": [
        "model = Sequential() \n",
        "model.add(Dense(2, input_shape = (2,), activation = 'softmax')) \n",
        "\n",
        "model.compile(optimizer = SGD(), loss = mse, metrics = ['acc']) \n",
        "model.fit(data, label_onehot, epochs = 2,batch_size=1,verbose=0) # verbose=0 실행화면 안나옴"
      ],
      "execution_count": 16,
      "outputs": [
        {
          "output_type": "execute_result",
          "data": {
            "text/plain": [
              "<keras.callbacks.History at 0x7ff1f9ec8710>"
            ]
          },
          "metadata": {},
          "execution_count": 16
        }
      ]
    },
    {
      "cell_type": "code",
      "metadata": {
        "colab": {
          "base_uri": "https://localhost:8080/"
        },
        "id": "5Mf0-QnAGNLi",
        "outputId": "88c11dfc-22f4-403f-e806-b0358124b44d"
      },
      "source": [
        "# sigmoid 함수이기때문에 0또는1 사이의 숫자값이 나옴\n",
        "preds = model.predict(data)\n",
        "for a, b in zip(preds, label_onehot):\n",
        "    print(f\"예측값 {a} - 정답 {b}\")"
      ],
      "execution_count": 17,
      "outputs": [
        {
          "output_type": "stream",
          "name": "stdout",
          "text": [
            "예측값 [1.0000000e+00 3.0612932e-11] - 정답 [1. 0.]\n",
            "예측값 [0.08703157 0.91296846] - 정답 [0. 1.]\n",
            "예측값 [0.0078361 0.9921639] - 정답 [0. 1.]\n",
            "예측값 [0.64889014 0.35110983] - 정답 [0. 1.]\n"
          ]
        }
      ]
    },
    {
      "cell_type": "markdown",
      "metadata": {
        "id": "ZHyUP5mSNuNu"
      },
      "source": [
        "## 정리\n",
        "- 인공신경망은 사용자가 x값의 input갯수와, 출력y값의 갯수\n",
        "y값의 활성화함수를 신경써야함. \n",
        "- model.add 에 dense를 구성하는 노드갯수를 설정하여 Param갯수를 정할수 있음\n",
        "- 최종 y값에 따라 활성화함수를 다르게 지정하여야함.\n",
        "- 활성화함수는 오차계산법도 다르게 지정하여야함.\n",
        "- 일반적으로\n",
        "    - 선형회귀는 mse, mae \n",
        "    - 시그모이드는 binary_crossentropy \n",
        "    - 소프트맥스는 categorical_crossentropy \n",
        "       - 단 onehot인코딩 안한상태에서 원핫인코딩하면서 오차 계산해주는 식 사용가능 SparseCategoricalCrossentropy\n",
        "\n",
        "\n",
        "\n",
        "- model.add가 많을수록 수많은 weight가 생성됨.\n",
        "- weight가 많으면 많을수록 훈련데이터에 잘 맞추어서 overffing(훈련만 잘맞고,검증은 잘 안맞음) 될수 있음.\n",
        "- 이 오버피팅을 없애는 방법\n",
        "    - dense중간층에 dropout(비율)을 사용\n",
        "    - 레이어 개수 설정\n",
        "    - dense units의 개수 설정\n",
        "    - 옵티마이저(최적화함수)\n",
        "    - 손실함수 = loss 설정\n",
        "    - 러닝레이트값 설정: lr 등 w업데이트에 사용되는 값, 값이 작을수록 짧은 간격으로 업데이트\n",
        "    - batch_size 설정\n",
        "    - epochs 설정"
      ]
    }
  ]
}