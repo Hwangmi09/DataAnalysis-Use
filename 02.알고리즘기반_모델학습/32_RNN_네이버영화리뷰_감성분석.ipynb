{
  "nbformat": 4,
  "nbformat_minor": 0,
  "metadata": {
    "colab": {
      "name": "32_RNN_네이버영화리뷰.ipynb",
      "provenance": [],
      "collapsed_sections": []
    },
    "kernelspec": {
      "name": "python3",
      "display_name": "Python 3"
    },
    "language_info": {
      "name": "python"
    }
  },
  "cells": [
    {
      "cell_type": "markdown",
      "metadata": {
        "id": "AXCXBtHxq1PO"
      },
      "source": [
        "# 네이버 영화 리뷰 감성 분류하기(Naver Movie Review Sentiment Analysis)\n",
        "- https://wikidocs.net/44249"
      ]
    },
    {
      "cell_type": "code",
      "metadata": {
        "id": "G-LhtZwLrL1d"
      },
      "source": [
        "!pip install konlpy > /dev/null"
      ],
      "execution_count": 2,
      "outputs": []
    },
    {
      "cell_type": "code",
      "metadata": {
        "id": "kWahJXfVqmfO"
      },
      "source": [
        "import pandas as pd\n",
        "import numpy as np\n",
        "import matplotlib.pyplot as plt\n",
        "import re\n",
        "import urllib.request\n",
        "from konlpy.tag import Okt\n",
        "from tqdm import tqdm\n",
        "from tensorflow.keras.preprocessing.text import Tokenizer\n",
        "from tensorflow.keras.preprocessing.sequence import pad_sequences"
      ],
      "execution_count": 3,
      "outputs": []
    },
    {
      "cell_type": "markdown",
      "metadata": {
        "id": "6xp3IEbdsEuA"
      },
      "source": [
        "## 1. 네이버 영화 리뷰 데이터에 대한 이해와 전처리"
      ]
    },
    {
      "cell_type": "markdown",
      "metadata": {
        "id": "8WbmA970sF4C"
      },
      "source": [
        "### 1.1 데이터 로드하기"
      ]
    },
    {
      "cell_type": "code",
      "metadata": {
        "colab": {
          "base_uri": "https://localhost:8080/"
        },
        "id": "__lHaY_nq56z",
        "outputId": "dca6fb40-9024-4e3c-8089-632833035b59"
      },
      "source": [
        "urllib.request.urlretrieve(\"https://raw.githubusercontent.com/e9t/nsmc/master/ratings_train.txt\", filename=\"ratings_train.txt\")\n",
        "urllib.request.urlretrieve(\"https://raw.githubusercontent.com/e9t/nsmc/master/ratings_test.txt\", filename=\"ratings_test.txt\")"
      ],
      "execution_count": 4,
      "outputs": [
        {
          "output_type": "execute_result",
          "data": {
            "text/plain": [
              "('ratings_test.txt', <http.client.HTTPMessage at 0x7f0a5001ef10>)"
            ]
          },
          "metadata": {},
          "execution_count": 4
        }
      ]
    },
    {
      "cell_type": "code",
      "metadata": {
        "id": "IhCFJpoTrRja"
      },
      "source": [
        "train_data = pd.read_table('ratings_train.txt')\n",
        "test_data = pd.read_table('ratings_test.txt')"
      ],
      "execution_count": 5,
      "outputs": []
    },
    {
      "cell_type": "code",
      "metadata": {
        "colab": {
          "base_uri": "https://localhost:8080/"
        },
        "id": "KzhF7MbArSKO",
        "outputId": "16bb7ae6-2a39-4c23-a63d-ed990aaee1b2"
      },
      "source": [
        "print('훈련용 리뷰 개수 :',len(train_data)) # 훈련용 리뷰 개수 출력"
      ],
      "execution_count": 6,
      "outputs": [
        {
          "output_type": "stream",
          "name": "stdout",
          "text": [
            "훈련용 리뷰 개수 : 150000\n"
          ]
        }
      ]
    },
    {
      "cell_type": "code",
      "metadata": {
        "colab": {
          "base_uri": "https://localhost:8080/",
          "height": 220
        },
        "id": "PW2UpWISrVFb",
        "outputId": "56e81655-ad90-4b58-9744-8a7ab69f7124"
      },
      "source": [
        "# 1이 긍정, 0이 부정\n",
        "train_data[:5] # 상위 5개 출력"
      ],
      "execution_count": 7,
      "outputs": [
        {
          "output_type": "execute_result",
          "data": {
            "text/html": [
              "<div>\n",
              "<style scoped>\n",
              "    .dataframe tbody tr th:only-of-type {\n",
              "        vertical-align: middle;\n",
              "    }\n",
              "\n",
              "    .dataframe tbody tr th {\n",
              "        vertical-align: top;\n",
              "    }\n",
              "\n",
              "    .dataframe thead th {\n",
              "        text-align: right;\n",
              "    }\n",
              "</style>\n",
              "<table border=\"1\" class=\"dataframe\">\n",
              "  <thead>\n",
              "    <tr style=\"text-align: right;\">\n",
              "      <th></th>\n",
              "      <th>id</th>\n",
              "      <th>document</th>\n",
              "      <th>label</th>\n",
              "    </tr>\n",
              "  </thead>\n",
              "  <tbody>\n",
              "    <tr>\n",
              "      <th>0</th>\n",
              "      <td>9976970</td>\n",
              "      <td>아 더빙.. 진짜 짜증나네요 목소리</td>\n",
              "      <td>0</td>\n",
              "    </tr>\n",
              "    <tr>\n",
              "      <th>1</th>\n",
              "      <td>3819312</td>\n",
              "      <td>흠...포스터보고 초딩영화줄....오버연기조차 가볍지 않구나</td>\n",
              "      <td>1</td>\n",
              "    </tr>\n",
              "    <tr>\n",
              "      <th>2</th>\n",
              "      <td>10265843</td>\n",
              "      <td>너무재밓었다그래서보는것을추천한다</td>\n",
              "      <td>0</td>\n",
              "    </tr>\n",
              "    <tr>\n",
              "      <th>3</th>\n",
              "      <td>9045019</td>\n",
              "      <td>교도소 이야기구먼 ..솔직히 재미는 없다..평점 조정</td>\n",
              "      <td>0</td>\n",
              "    </tr>\n",
              "    <tr>\n",
              "      <th>4</th>\n",
              "      <td>6483659</td>\n",
              "      <td>사이몬페그의 익살스런 연기가 돋보였던 영화!스파이더맨에서 늙어보이기만 했던 커스틴 ...</td>\n",
              "      <td>1</td>\n",
              "    </tr>\n",
              "  </tbody>\n",
              "</table>\n",
              "</div>"
            ],
            "text/plain": [
              "         id                                           document  label\n",
              "0   9976970                                아 더빙.. 진짜 짜증나네요 목소리      0\n",
              "1   3819312                  흠...포스터보고 초딩영화줄....오버연기조차 가볍지 않구나      1\n",
              "2  10265843                                  너무재밓었다그래서보는것을추천한다      0\n",
              "3   9045019                      교도소 이야기구먼 ..솔직히 재미는 없다..평점 조정      0\n",
              "4   6483659  사이몬페그의 익살스런 연기가 돋보였던 영화!스파이더맨에서 늙어보이기만 했던 커스틴 ...      1"
            ]
          },
          "metadata": {},
          "execution_count": 7
        }
      ]
    },
    {
      "cell_type": "code",
      "metadata": {
        "colab": {
          "base_uri": "https://localhost:8080/"
        },
        "id": "smEQxqH4rZ7a",
        "outputId": "75f4e8c0-b2c1-4852-bef1-e7606c124968"
      },
      "source": [
        "train_data.info()"
      ],
      "execution_count": 8,
      "outputs": [
        {
          "output_type": "stream",
          "name": "stdout",
          "text": [
            "<class 'pandas.core.frame.DataFrame'>\n",
            "RangeIndex: 150000 entries, 0 to 149999\n",
            "Data columns (total 3 columns):\n",
            " #   Column    Non-Null Count   Dtype \n",
            "---  ------    --------------   ----- \n",
            " 0   id        150000 non-null  int64 \n",
            " 1   document  149995 non-null  object\n",
            " 2   label     150000 non-null  int64 \n",
            "dtypes: int64(2), object(1)\n",
            "memory usage: 3.4+ MB\n"
          ]
        }
      ]
    },
    {
      "cell_type": "markdown",
      "metadata": {
        "id": "wz8Yivo3r39X"
      },
      "source": [
        "### 1.2 데이터 정제하기"
      ]
    },
    {
      "cell_type": "markdown",
      "metadata": {
        "id": "KmukxxuEtkan"
      },
      "source": [
        "- train 데이터"
      ]
    },
    {
      "cell_type": "code",
      "metadata": {
        "colab": {
          "base_uri": "https://localhost:8080/"
        },
        "id": "eXoU_xL3r1xR",
        "outputId": "8d1ca9e9-c9f4-4389-d795-d84af5449c06"
      },
      "source": [
        "# 중복 데이터 확인\n",
        "train_data['document'].nunique(), train_data['label'].nunique()"
      ],
      "execution_count": 9,
      "outputs": [
        {
          "output_type": "execute_result",
          "data": {
            "text/plain": [
              "(146182, 2)"
            ]
          },
          "metadata": {},
          "execution_count": 9
        }
      ]
    },
    {
      "cell_type": "code",
      "metadata": {
        "id": "VCvmAOohr-Qp"
      },
      "source": [
        "train_data.drop_duplicates(subset=['document'], inplace=True) # document 열에서 중복인 내용이 있다면 중복 제거"
      ],
      "execution_count": 10,
      "outputs": []
    },
    {
      "cell_type": "code",
      "metadata": {
        "colab": {
          "base_uri": "https://localhost:8080/"
        },
        "id": "Jn4yj7WQsPMR",
        "outputId": "915024ee-5842-47e0-9c51-83c37260b766"
      },
      "source": [
        "train_data.info()"
      ],
      "execution_count": 11,
      "outputs": [
        {
          "output_type": "stream",
          "name": "stdout",
          "text": [
            "<class 'pandas.core.frame.DataFrame'>\n",
            "Int64Index: 146183 entries, 0 to 149999\n",
            "Data columns (total 3 columns):\n",
            " #   Column    Non-Null Count   Dtype \n",
            "---  ------    --------------   ----- \n",
            " 0   id        146183 non-null  int64 \n",
            " 1   document  146182 non-null  object\n",
            " 2   label     146183 non-null  int64 \n",
            "dtypes: int64(2), object(1)\n",
            "memory usage: 4.5+ MB\n"
          ]
        }
      ]
    },
    {
      "cell_type": "code",
      "metadata": {
        "colab": {
          "base_uri": "https://localhost:8080/",
          "height": 281
        },
        "id": "FxqcNbv9sRjF",
        "outputId": "36faa747-9cd4-4ce5-8396-fe59e9d6a3b9"
      },
      "source": [
        "# 0과 1의 편향 확인 => 편향되지 않음\n",
        "train_data['label'].value_counts().plot(kind = 'bar')"
      ],
      "execution_count": 12,
      "outputs": [
        {
          "output_type": "execute_result",
          "data": {
            "text/plain": [
              "<matplotlib.axes._subplots.AxesSubplot at 0x7f0a4e072950>"
            ]
          },
          "metadata": {},
          "execution_count": 12
        },
        {
          "output_type": "display_data",
          "data": {
            "image/png": "[encoded data removed]",
            "text/plain": [
              "<Figure size 432x288 with 1 Axes>"
            ]
          },
          "metadata": {
            "needs_background": "light"
          }
        }
      ]
    },
    {
      "cell_type": "code",
      "metadata": {
        "colab": {
          "base_uri": "https://localhost:8080/"
        },
        "id": "bbI9AlaYsWfh",
        "outputId": "8ca07c30-7c31-44c6-9f31-700eb4f16cc8"
      },
      "source": [
        "print(train_data.isnull().values.any())"
      ],
      "execution_count": 13,
      "outputs": [
        {
          "output_type": "stream",
          "name": "stdout",
          "text": [
            "True\n"
          ]
        }
      ]
    },
    {
      "cell_type": "code",
      "metadata": {
        "colab": {
          "base_uri": "https://localhost:8080/"
        },
        "id": "7iHej7lnsePf",
        "outputId": "0c5978ca-0419-4a5b-eddf-bbd752bec2a3"
      },
      "source": [
        "print(train_data.isnull().sum())"
      ],
      "execution_count": 14,
      "outputs": [
        {
          "output_type": "stream",
          "name": "stdout",
          "text": [
            "id          0\n",
            "document    1\n",
            "label       0\n",
            "dtype: int64\n"
          ]
        }
      ]
    },
    {
      "cell_type": "code",
      "metadata": {
        "colab": {
          "base_uri": "https://localhost:8080/",
          "height": 80
        },
        "id": "c7TxLb4tsgAh",
        "outputId": "e838df0c-eaa8-4018-c877-a635e490c099"
      },
      "source": [
        "train_data.loc[train_data.document.isnull()]"
      ],
      "execution_count": 15,
      "outputs": [
        {
          "output_type": "execute_result",
          "data": {
            "text/html": [
              "<div>\n",
              "<style scoped>\n",
              "    .dataframe tbody tr th:only-of-type {\n",
              "        vertical-align: middle;\n",
              "    }\n",
              "\n",
              "    .dataframe tbody tr th {\n",
              "        vertical-align: top;\n",
              "    }\n",
              "\n",
              "    .dataframe thead th {\n",
              "        text-align: right;\n",
              "    }\n",
              "</style>\n",
              "<table border=\"1\" class=\"dataframe\">\n",
              "  <thead>\n",
              "    <tr style=\"text-align: right;\">\n",
              "      <th></th>\n",
              "      <th>id</th>\n",
              "      <th>document</th>\n",
              "      <th>label</th>\n",
              "    </tr>\n",
              "  </thead>\n",
              "  <tbody>\n",
              "    <tr>\n",
              "      <th>25857</th>\n",
              "      <td>2172111</td>\n",
              "      <td>NaN</td>\n",
              "      <td>1</td>\n",
              "    </tr>\n",
              "  </tbody>\n",
              "</table>\n",
              "</div>"
            ],
            "text/plain": [
              "            id document  label\n",
              "25857  2172111      NaN      1"
            ]
          },
          "metadata": {},
          "execution_count": 15
        }
      ]
    },
    {
      "cell_type": "code",
      "metadata": {
        "colab": {
          "base_uri": "https://localhost:8080/"
        },
        "id": "EO3XyXIUsjIG",
        "outputId": "482bf40f-a710-40e9-9974-3b100e738bea"
      },
      "source": [
        "train_data = train_data.dropna(how = 'any') # Null 값이 존재하는 행 제거\n",
        "print(train_data.isnull().values.any()) # Null 값이 존재하는지 확인"
      ],
      "execution_count": 16,
      "outputs": [
        {
          "output_type": "stream",
          "name": "stdout",
          "text": [
            "False\n"
          ]
        }
      ]
    },
    {
      "cell_type": "code",
      "metadata": {
        "colab": {
          "base_uri": "https://localhost:8080/"
        },
        "id": "WnI9oTfHslWq",
        "outputId": "35dda952-d0aa-454a-8b2c-6298371720f3"
      },
      "source": [
        "print(len(train_data))"
      ],
      "execution_count": 17,
      "outputs": [
        {
          "output_type": "stream",
          "name": "stdout",
          "text": [
            "146182\n"
          ]
        }
      ]
    },
    {
      "cell_type": "markdown",
      "metadata": {
        "id": "bYeFsIfltnw-"
      },
      "source": [
        "- test 데이터"
      ]
    },
    {
      "cell_type": "code",
      "metadata": {
        "colab": {
          "base_uri": "https://localhost:8080/"
        },
        "id": "25Hj2nWDsnkL",
        "outputId": "ba40ef3c-9b96-4dd5-cc74-0523f850559f"
      },
      "source": [
        "# 테스트 데이터에 대해서도 동일하게 전처리하기\n",
        "test_data.info()"
      ],
      "execution_count": 18,
      "outputs": [
        {
          "output_type": "stream",
          "name": "stdout",
          "text": [
            "<class 'pandas.core.frame.DataFrame'>\n",
            "RangeIndex: 50000 entries, 0 to 49999\n",
            "Data columns (total 3 columns):\n",
            " #   Column    Non-Null Count  Dtype \n",
            "---  ------    --------------  ----- \n",
            " 0   id        50000 non-null  int64 \n",
            " 1   document  49997 non-null  object\n",
            " 2   label     50000 non-null  int64 \n",
            "dtypes: int64(2), object(1)\n",
            "memory usage: 1.1+ MB\n"
          ]
        }
      ]
    },
    {
      "cell_type": "code",
      "metadata": {
        "colab": {
          "base_uri": "https://localhost:8080/"
        },
        "id": "9xhmJSKMs1p1",
        "outputId": "6861fbad-7277-420a-a230-febb41cc4909"
      },
      "source": [
        "test_data['document'].nunique()"
      ],
      "execution_count": 20,
      "outputs": [
        {
          "output_type": "execute_result",
          "data": {
            "text/plain": [
              "49157"
            ]
          },
          "metadata": {},
          "execution_count": 20
        }
      ]
    },
    {
      "cell_type": "code",
      "metadata": {
        "id": "55O5Jxw4s5d_"
      },
      "source": [
        "test_data.drop_duplicates(subset=['document'], inplace=True) # document 열에서 중복인 내용이 있다면 중복 제거"
      ],
      "execution_count": 21,
      "outputs": []
    },
    {
      "cell_type": "code",
      "metadata": {
        "colab": {
          "base_uri": "https://localhost:8080/",
          "height": 281
        },
        "id": "a2UPQ40dtCtb",
        "outputId": "9ea7d193-36bf-44d8-aeeb-5728ceaadee9"
      },
      "source": [
        "# 0과 1의 편향 확인 => 편향되지 않음\n",
        "test_data['label'].value_counts().plot(kind = 'bar')"
      ],
      "execution_count": 26,
      "outputs": [
        {
          "output_type": "execute_result",
          "data": {
            "text/plain": [
              "<matplotlib.axes._subplots.AxesSubplot at 0x7f0a4c9eee10>"
            ]
          },
          "metadata": {},
          "execution_count": 26
        },
        {
          "output_type": "display_data",
          "data": {
            "image/png": "[encoded data removed]",
            "text/plain": [
              "<Figure size 432x288 with 1 Axes>"
            ]
          },
          "metadata": {
            "needs_background": "light"
          }
        }
      ]
    },
    {
      "cell_type": "code",
      "metadata": {
        "colab": {
          "base_uri": "https://localhost:8080/"
        },
        "id": "CrI3OJMatGAa",
        "outputId": "70bb5152-c22e-4797-b2d4-4ef4c693e5f9"
      },
      "source": [
        "print(test_data.isnull().values.any()) # null값이 있는지 확인"
      ],
      "execution_count": 25,
      "outputs": [
        {
          "output_type": "stream",
          "name": "stdout",
          "text": [
            "True\n"
          ]
        }
      ]
    },
    {
      "cell_type": "code",
      "metadata": {
        "colab": {
          "base_uri": "https://localhost:8080/"
        },
        "id": "Aa79TFDJtIQz",
        "outputId": "57f6b14c-7336-4d6f-cfa4-247490c29531"
      },
      "source": [
        "print(test_data.isnull().sum())"
      ],
      "execution_count": 28,
      "outputs": [
        {
          "output_type": "stream",
          "name": "stdout",
          "text": [
            "id          0\n",
            "document    1\n",
            "label       0\n",
            "dtype: int64\n"
          ]
        }
      ]
    },
    {
      "cell_type": "code",
      "metadata": {
        "colab": {
          "base_uri": "https://localhost:8080/",
          "height": 80
        },
        "id": "oZhkKHaXtPiO",
        "outputId": "eb743caa-39b7-4f23-c40c-a0f1dc35d5d9"
      },
      "source": [
        "test_data.loc[test_data.document.isnull()] # null값인 데이터 확인"
      ],
      "execution_count": 29,
      "outputs": [
        {
          "output_type": "execute_result",
          "data": {
            "text/html": [
              "<div>\n",
              "<style scoped>\n",
              "    .dataframe tbody tr th:only-of-type {\n",
              "        vertical-align: middle;\n",
              "    }\n",
              "\n",
              "    .dataframe tbody tr th {\n",
              "        vertical-align: top;\n",
              "    }\n",
              "\n",
              "    .dataframe thead th {\n",
              "        text-align: right;\n",
              "    }\n",
              "</style>\n",
              "<table border=\"1\" class=\"dataframe\">\n",
              "  <thead>\n",
              "    <tr style=\"text-align: right;\">\n",
              "      <th></th>\n",
              "      <th>id</th>\n",
              "      <th>document</th>\n",
              "      <th>label</th>\n",
              "    </tr>\n",
              "  </thead>\n",
              "  <tbody>\n",
              "    <tr>\n",
              "      <th>5746</th>\n",
              "      <td>402110</td>\n",
              "      <td>NaN</td>\n",
              "      <td>1</td>\n",
              "    </tr>\n",
              "  </tbody>\n",
              "</table>\n",
              "</div>"
            ],
            "text/plain": [
              "          id document  label\n",
              "5746  402110      NaN      1"
            ]
          },
          "metadata": {},
          "execution_count": 29
        }
      ]
    },
    {
      "cell_type": "code",
      "metadata": {
        "colab": {
          "base_uri": "https://localhost:8080/"
        },
        "id": "mzXCpMrItVWJ",
        "outputId": "eb9a9afe-3607-46a0-b0a8-0bc0e39759bd"
      },
      "source": [
        "test_data = test_data.dropna(how = 'any') # Null 값이 존재하는 행 제거\n",
        "print(test_data.isnull().values.any()) # Null 값이 존재하는지 확인"
      ],
      "execution_count": 31,
      "outputs": [
        {
          "output_type": "stream",
          "name": "stdout",
          "text": [
            "False\n"
          ]
        }
      ]
    },
    {
      "cell_type": "code",
      "metadata": {
        "colab": {
          "base_uri": "https://localhost:8080/"
        },
        "id": "Ti6uLQyXtdRa",
        "outputId": "7a8ef701-2df4-487a-fb20-1db70aa4479c"
      },
      "source": [
        "print(len(test_data))"
      ],
      "execution_count": 32,
      "outputs": [
        {
          "output_type": "stream",
          "name": "stdout",
          "text": [
            "49157\n"
          ]
        }
      ]
    },
    {
      "cell_type": "markdown",
      "metadata": {
        "id": "jBi3oR2Qt37_"
      },
      "source": [
        "- 데이터 정제"
      ]
    },
    {
      "cell_type": "code",
      "metadata": {
        "colab": {
          "base_uri": "https://localhost:8080/",
          "height": 204
        },
        "id": "J0ymfY-itivH",
        "outputId": "32e3a65a-2dfb-409b-8eca-c5aca516364b"
      },
      "source": [
        "train_data['document'] = train_data['document'].str.replace(\"[^ㄱ-ㅎㅏ-ㅣ가-힣 ]\",\"\")\n",
        "# 한글과 공백을 제외하고 모두 제거\n",
        "train_data[:5]\n",
        "\n",
        "test_data['document'] = test_data['document'].str.replace(\"[^ㄱ-ㅎㅏ-ㅣ가-힣 ]\",\"\")\n",
        "# 한글과 공백을 제외하고 모두 제거\n",
        "test_data[:5]"
      ],
      "execution_count": 33,
      "outputs": [
        {
          "output_type": "execute_result",
          "data": {
            "text/html": [
              "<div>\n",
              "<style scoped>\n",
              "    .dataframe tbody tr th:only-of-type {\n",
              "        vertical-align: middle;\n",
              "    }\n",
              "\n",
              "    .dataframe tbody tr th {\n",
              "        vertical-align: top;\n",
              "    }\n",
              "\n",
              "    .dataframe thead th {\n",
              "        text-align: right;\n",
              "    }\n",
              "</style>\n",
              "<table border=\"1\" class=\"dataframe\">\n",
              "  <thead>\n",
              "    <tr style=\"text-align: right;\">\n",
              "      <th></th>\n",
              "      <th>id</th>\n",
              "      <th>document</th>\n",
              "      <th>label</th>\n",
              "    </tr>\n",
              "  </thead>\n",
              "  <tbody>\n",
              "    <tr>\n",
              "      <th>0</th>\n",
              "      <td>6270596</td>\n",
              "      <td>굳 ㅋ</td>\n",
              "      <td>1</td>\n",
              "    </tr>\n",
              "    <tr>\n",
              "      <th>1</th>\n",
              "      <td>9274899</td>\n",
              "      <td></td>\n",
              "      <td>0</td>\n",
              "    </tr>\n",
              "    <tr>\n",
              "      <th>2</th>\n",
              "      <td>8544678</td>\n",
              "      <td>뭐야 이 평점들은 나쁘진 않지만 점 짜리는 더더욱 아니잖아</td>\n",
              "      <td>0</td>\n",
              "    </tr>\n",
              "    <tr>\n",
              "      <th>3</th>\n",
              "      <td>6825595</td>\n",
              "      <td>지루하지는 않은데 완전 막장임 돈주고 보기에는</td>\n",
              "      <td>0</td>\n",
              "    </tr>\n",
              "    <tr>\n",
              "      <th>4</th>\n",
              "      <td>6723715</td>\n",
              "      <td>만 아니었어도 별 다섯 개 줬을텐데 왜 로 나와서 제 심기를 불편하게 하죠</td>\n",
              "      <td>0</td>\n",
              "    </tr>\n",
              "  </tbody>\n",
              "</table>\n",
              "</div>"
            ],
            "text/plain": [
              "        id                                   document  label\n",
              "0  6270596                                        굳 ㅋ      1\n",
              "1  9274899                                                 0\n",
              "2  8544678           뭐야 이 평점들은 나쁘진 않지만 점 짜리는 더더욱 아니잖아      0\n",
              "3  6825595                  지루하지는 않은데 완전 막장임 돈주고 보기에는      0\n",
              "4  6723715  만 아니었어도 별 다섯 개 줬을텐데 왜 로 나와서 제 심기를 불편하게 하죠      0"
            ]
          },
          "metadata": {},
          "execution_count": 33
        }
      ]
    },
    {
      "cell_type": "code",
      "metadata": {
        "colab": {
          "base_uri": "https://localhost:8080/"
        },
        "id": "sP7xioTcuC4o",
        "outputId": "b0e2f47b-cb6e-4d21-8ad3-ad4958cb6427"
      },
      "source": [
        "train_data['document'] = train_data['document'].str.replace('^ +', \"\") # white space 데이터를 empty value로 변경\n",
        "train_data['document'].replace('', np.nan, inplace=True)\n",
        "print(train_data.isnull().sum())\n",
        "\n",
        "test_data['document'] = test_data['document'].str.replace('^ +', \"\") # white space 데이터를 empty value로 변경\n",
        "test_data['document'].replace('', np.nan, inplace=True)\n",
        "print(test_data.isnull().sum())"
      ],
      "execution_count": 34,
      "outputs": [
        {
          "output_type": "stream",
          "name": "stdout",
          "text": [
            "id            0\n",
            "document    789\n",
            "label         0\n",
            "dtype: int64\n",
            "id            0\n",
            "document    305\n",
            "label         0\n",
            "dtype: int64\n"
          ]
        }
      ]
    },
    {
      "cell_type": "code",
      "metadata": {
        "colab": {
          "base_uri": "https://localhost:8080/"
        },
        "id": "D0-YjcP2uJ3v",
        "outputId": "fcb075a0-c07a-4da9-f673-306d5d7a01ba"
      },
      "source": [
        "train_data = train_data.dropna(how = 'any')\n",
        "print(len(train_data))\n",
        "\n",
        "test_data = test_data.dropna(how = 'any')\n",
        "print(len(test_data))"
      ],
      "execution_count": 35,
      "outputs": [
        {
          "output_type": "stream",
          "name": "stdout",
          "text": [
            "145393\n",
            "48852\n"
          ]
        }
      ]
    },
    {
      "cell_type": "markdown",
      "metadata": {
        "id": "zH3gY6ZiujeQ"
      },
      "source": [
        "- 작업량을 줄이기: 결과물이 좋지 않음."
      ]
    },
    {
      "cell_type": "code",
      "metadata": {
        "id": "d-TMEvBkultE"
      },
      "source": [
        "train_data = train_data[:1000]\n",
        "test_data = test_data[:1000]"
      ],
      "execution_count": 36,
      "outputs": []
    },
    {
      "cell_type": "markdown",
      "metadata": {
        "id": "xPteRtMSuW3c"
      },
      "source": [
        "### 1.3 토큰화"
      ]
    },
    {
      "cell_type": "code",
      "metadata": {
        "id": "avErNv5RuQTf"
      },
      "source": [
        "stopwords = ['의','가','이','은','들','는','좀','잘','걍','과','도','를','으로','자','에','와','한','하다']"
      ],
      "execution_count": 37,
      "outputs": []
    },
    {
      "cell_type": "code",
      "metadata": {
        "colab": {
          "base_uri": "https://localhost:8080/"
        },
        "id": "mX-WA_FcuxS8",
        "outputId": "e6b8e2c7-23ac-45c7-8879-34cd542bf52a"
      },
      "source": [
        "okt = Okt() # 형태소 분석기\n",
        "\n",
        "# train 데이터\n",
        "X_train = []\n",
        "for sentence in tqdm(train_data['document']):\n",
        "    tokenized_sentence = okt.morphs(sentence, stem=True) # 토큰화\n",
        "    stopwords_removed_sentence = [word for word in tokenized_sentence if not word in stopwords] # 불용어 제거\n",
        "    X_train.append(stopwords_removed_sentence)"
      ],
      "execution_count": 38,
      "outputs": [
        {
          "output_type": "stream",
          "name": "stderr",
          "text": [
            "100%|██████████| 1000/1000 [00:12<00:00, 78.93it/s]\n"
          ]
        }
      ]
    },
    {
      "cell_type": "code",
      "metadata": {
        "colab": {
          "base_uri": "https://localhost:8080/"
        },
        "id": "2EgIw_CIu-nw",
        "outputId": "7d95ef59-2e2a-446d-f693-ac9302458952"
      },
      "source": [
        "print(X_train[:3]) # 상위 3개의 샘플만 결과 확인"
      ],
      "execution_count": 39,
      "outputs": [
        {
          "output_type": "stream",
          "name": "stdout",
          "text": [
            "[['아', '더빙', '진짜', '짜증나다', '목소리'], ['흠', '포스터', '보고', '초딩', '영화', '줄', '오버', '연기', '조차', '가볍다', '않다'], ['너', '무재', '밓었', '다그', '래서', '보다', '추천', '다']]\n"
          ]
        }
      ]
    },
    {
      "cell_type": "code",
      "metadata": {
        "colab": {
          "base_uri": "https://localhost:8080/"
        },
        "id": "-o_10N7svHnZ",
        "outputId": "c7ffd1cb-c2ff-4817-e955-6a6e0e25b98f"
      },
      "source": [
        "# 테스트 데이터\n",
        "X_test = []\n",
        "for sentence in tqdm(test_data['document']):\n",
        "    tokenized_sentence = okt.morphs(sentence, stem=True) # 토큰화\n",
        "    stopwords_removed_sentence = [word for word in tokenized_sentence if not word in stopwords] # 불용어 제거\n",
        "    X_test.append(stopwords_removed_sentence)"
      ],
      "execution_count": 40,
      "outputs": [
        {
          "output_type": "stream",
          "name": "stderr",
          "text": [
            "100%|██████████| 1000/1000 [00:03<00:00, 254.52it/s]\n"
          ]
        }
      ]
    },
    {
      "cell_type": "markdown",
      "metadata": {
        "id": "QHhNOA4cvSkM"
      },
      "source": [
        "### 1.4 정수 인코딩"
      ]
    },
    {
      "cell_type": "code",
      "metadata": {
        "id": "UNRmZea1vOCz"
      },
      "source": [
        "# 훈련 데이터에 대해서 단어 집합을 만들기\n",
        "tokenizer = Tokenizer()\n",
        "tokenizer.fit_on_texts(X_train)"
      ],
      "execution_count": 41,
      "outputs": []
    },
    {
      "cell_type": "code",
      "metadata": {
        "colab": {
          "base_uri": "https://localhost:8080/"
        },
        "id": "_TqrHCV-vcvj",
        "outputId": "6a6f8a59-536f-44c0-b37a-7a81e042b146"
      },
      "source": [
        "# 각 단어에 부여된 고유한 정수 확인\n",
        "print(tokenizer.word_index)"
      ],
      "execution_count": 42,
      "outputs": [
        {
          "output_type": "stream",
          "name": "stdout",
          "text": [
            "{'영화': 1, '보다': 2, '을': 3, '없다': 4, '있다': 5, '이다': 6, '좋다': 7, '다': 8, '진짜': 9, '적': 10, '정말': 11, '너무': 12, '아니다': 13, '재밌다': 14, '만': 15, '되다': 16, '같다': 17, '연기': 18, '인': 19, '나오다': 20, '로': 21, '최고': 22, '안': 23, '점': 24, '에서': 25, '사람': 26, '내': 27, '않다': 28, '보고': 29, '그': 30, '만들다': 31, '것': 32, '왜': 33, '못': 34, '하고': 35, '나': 36, '감동': 37, '말': 38, '재미': 39, '아깝다': 40, '고': 41, '재미없다': 42, '싶다': 43, 'ㅋㅋ': 44, '재미있다': 45, '생각': 46, '내용': 47, '배우': 48, '더': 49, '아': 50, '그냥': 51, '드라마': 52, '중': 53, '시간': 54, '평점': 55, '때': 56, '스토리': 57, '들다': 58, '감독': 59, '알다': 60, '쓰레기': 61, '하나': 62, '게': 63, '그렇다': 64, '작품': 65, '볼': 66, 'ㅠㅠ': 67, '자다': 68, '완전': 69, '요': 70, '모르다': 71, '또': 72, '주인공': 73, '개': 74, '기': 75, '지루하다': 76, '정도': 77, '주다': 78, '느낌': 79, '거': 80, '년': 81, '네': 82, '듯': 83, '오다': 84, 'ㅋㅋㅋ': 85, '돈': 86, '가다': 87, '지': 88, '수': 89, '다시': 90, '일': 91, '뭐': 92, '먹다': 93, '이건': 94, 'ㅡㅡ': 95, '이렇다': 96, '라': 97, '냐': 98, '마지막': 99, '안되다': 100, '난': 101, '인생': 102, '사랑': 103, '속': 104, '명작': 105, '까지': 106, '줄': 107, '이야기': 108, '솔직하다': 109, '살다': 110, '액션': 111, '차다': 112, '하': 113, '저': 114, '별로': 115, '버리다': 116, 'ㅋ': 117, '최악': 118, '여': 119, '어떻다': 120, '남다': 121, '느끼다': 122, '임': 123, '넘다': 124, '이렇게': 125, '받다': 126, '무슨': 127, '전': 128, '에게': 129, '소재': 130, '역시': 131, '나다': 132, '괜찮다': 133, '연출': 134, '무섭다': 135, '많다': 136, '슬프다': 137, '그리고': 138, '장면': 139, '남자': 140, '랑': 141, '별': 142, '죽다': 143, '서': 144, '인데': 145, '한번': 146, '님': 147, '멋지다': 148, '알': 149, '자체': 150, '건지다': 151, '이고': 152, '기억': 153, '본': 154, '부터': 155, '연': 156, '면': 157, '끄다': 158, '이해': 159, '건': 160, '돼다': 161, '음악': 162, '아쉽다': 163, '전개': 164, '일본': 165, '기대': 166, '영': 167, '지금': 168, '인간': 169, '짜증나다': 170, '절대': 171, '걸': 172, '이네': 173, '끝나다': 174, '이런': 175, '실망': 176, '좋아하다': 177, '두': 178, '처음': 179, '당시': 180, '성': 181, '보기': 182, '끝': 183, '허다': 184, '급': 185, '마음': 186, 'ㅎㅎ': 187, '시키다': 188, '뿐': 189, '작': 190, '보이다': 191, '움': 192, '나름': 193, '웃다': 194, '해주다': 195, '나가다': 196, '매력': 197, '조금': 198, '제일': 199, '보여주다': 200, 'ㅜㅜ': 201, '감정': 202, '유치하다': 203, '근데': 204, '설정': 205, '진심': 206, '이상하다': 207, '그만': 208, '많이': 209, '애': 210, '귀엽다': 211, '표현': 212, '높다': 213, '지다': 214, '제': 215, '남': 216, '모든': 217, 'ㅎ': 218, '라는': 219, '포스터': 220, '몇': 221, '꽤': 222, '코': 223, '놈': 224, '이라': 225, '인가': 226, '엔': 227, '신선하다': 228, '우리': 229, '이나': 230, '웃음': 231, '대해': 232, '연기력': 233, '분': 234, '결말': 235, '화': 236, '눈': 237, '따뜻하다': 238, '전혀': 239, '여운': 240, '충분하다': 241, '막장': 242, '시리즈': 243, '다른': 244, '내내': 245, '함': 246, '잇다': 247, '찍다': 248, '낮다': 249, '가장': 250, '웃기다': 251, '라고': 252, '캐스팅': 253, '위': 254, '늘다': 255, '야': 256, '력': 257, '이라는': 258, '에선': 259, '가슴': 260, '기분': 261, '노력': 262, '시청률': 263, '짜다': 264, '맞다': 265, '뭘': 266, '인상': 267, '아주': 268, '몰입': 269, '대': 270, '잼': 271, '믿다': 272, '자신': 273, '한국': 274, '되어다': 275, '요즘': 276, '아름답다': 277, '예쁘다': 278, '현실': 279, '책': 280, '스릴러': 281, '영상': 282, '실제': 283, '키': 284, '때문': 285, '반전': 286, '추천': 287, '막': 288, '원작': 289, '긴장감': 290, '욕': 291, '데': 292, '짱': 293, '극': 294, '손': 295, '이라고': 296, '처럼': 297, '아직도': 298, '대한': 299, '정신': 300, '두다': 301, '잔잔하다': 302, '말다': 303, '크다': 304, '공감': 305, '초반': 306, '수준': 307, '이랑': 308, '작다': 309, '맛': 310, '혼자': 311, '대단하다': 312, '짜증': 313, '빨리': 314, '이야': 315, '이제': 316, '에도': 317, '한테': 318, '그래도': 319, '쓰다': 320, '빠지다': 321, '머': 322, '후': 323, '놓다': 324, '만들어지다': 325, '멀다': 326, '나이': 327, '어리다': 328, '코미디': 329, '이유': 330, '밖에': 331, '이영화': 332, '니까': 333, '없이': 334, '년도': 335, 'ㅠ': 336, '시': 337, '더럽다': 338, '완벽하다': 339, '제발': 340, '굿': 341, '뭔가': 342, '부족하다': 343, '아이': 344, '여자': 345, '울다': 346, '슬픔': 347, '비디오': 348, '시나리오': 349, '친구': 350, '부분': 351, '뭔': 352, '모두': 353, '참고': 354, '애니': 355, '더빙': 356, '이쁘다': 357, '세': 358, '살리다': 359, '인지': 360, '발': 361, '년대': 362, '멜로': 363, '드럽다': 364, '극장': 365, '갈수록': 366, '구': 367, '수작': 368, '그래서': 369, '꼭': 370, '진부하다': 371, '대체': 372, '원': 373, '캐릭터': 374, '딱': 375, '잊다': 376, '깊다': 377, '그저': 378, '중간': 379, '소': 380, '모습': 381, '다큐': 382, '살인': 383, '차': 384, '졸작': 385, '어이없다': 386, '가요': 387, 'ㅋㅋㅋㅋ': 388, '대박': 389, '로맨스': 390, '끌': 391, '지만': 392, '현': 393, '실감': 394, '또한': 395, '어울리다': 396, '에서도': 397, '힘들다': 398, '하지만': 399, '답': 400, '어린이': 401, '이란': 402, '그리다': 403, '화이팅': 404, '알바': 405, '읽다': 406, '보지': 407, '티비': 408, '피': 409, '추억': 410, '보': 411, '물': 412, '개봉': 413, '순간': 414, '에는': 415, '가보다': 416, '전쟁': 417, '세계': 418, '미치다': 419, '개연': 420, '여배우': 421, '돌리다': 422, '안타깝다': 423, '결국': 424, '사실': 425, '싸우다': 426, '삶': 427, '번': 428, '이후': 429, '재다': 430, '눈물': 431, '전작': 432, '점수': 433, '공포영화': 434, '좀비': 435, '너': 436, '너무나도': 437, '초등학교': 438, '해도': 439, '그것': 440, '낫다': 441, '가족': 442, '식': 443, '화려하다': 444, '절제': 445, '뻔': 446, '취향': 447, '노': 448, '이기': 449, '이라도': 450, '도안': 451, '간': 452, '이리': 453, '라도': 454, '기대하다': 455, '작가': 456, '관객': 457, '명': 458, '방법': 459, '낭비': 460, '뛰어나다': 461, '상': 462, '다니다': 463, '소설': 464, '언제': 465, '그대로': 466, '악역': 467, '계속': 468, '우리나라': 469, '깊이': 470, '예전': 471, '회': 472, '몰입도': 473, '비슷하다': 474, '건가': 475, '어설프다': 476, '흥행': 477, '갈등': 478, '뻔하다': 479, '시작': 480, '엉망': 481, '때리다': 482, '밉다': 483, '유': 484, '인거': 485, '술': 486, '태어나다': 487, '짬뽕': 488, '특유': 489, '쓸다': 490, '떨어지다': 491, '스럽다': 492, '전부': 493, '점점': 494, '어느': 495, '상황': 496, '다르다': 497, '한석규': 498, '년전': 499, '서다': 500, '야하다': 501, '왠만하다': 502, '자극': 503, '지겹다': 504, '뜨다': 505, '오랜': 506, '조절': 507, '왠지': 508, '쯤': 509, '한마디': 510, '죽': 511, '예산': 512, '용': 513, '나서다': 514, '판': 515, '따다': 516, '류': 517, '나쁘다': 518, '청춘': 519, '아직': 520, '등': 521, '구성': 522, '그때': 523, '닿다': 524, '동': 525, '코믹': 526, '색다르다': 527, '날': 528, '액션영화': 529, '라니': 530, '짧다': 531, '적당하다': 532, '편이': 533, '이름': 534, '노래': 535, '부르다': 536, '장': 537, '질질': 538, '제목': 539, '누군가': 540, '그러나': 541, '걸다': 542, '주': 543, '이상': 544, '탑': 545, '화보': 546, '사회': 547, '떠나다': 548, '레전드': 549, '바라다': 550, '이딴': 551, '영활': 552, '공부': 553, '여기': 554, '다운': 555, '감사하다': 556, '감': 557, '자막': 558, '봄': 559, '엉': 560, '약하다': 561, '기키': 562, '유럽': 563, '점도': 564, '의미': 565, '쓰래': 566, '특히': 567, '예고편': 568, '지나다': 569, '초딩': 570, '오버': 571, '가볍다': 572, '돋보이다': 573, '늙다': 574, '떼다': 575, '학년': 576, '반개': 577, '반복': 578, '엿': 579, '볼때': 580, '감성': 581, '신': 582, '노잼': 583, '어거지': 584, '냥': 585, '뒤': 586, '없어지다': 587, '착하다': 588, '음식': 589, '평범하다': 590, '주제': 591, '중반': 592, '고추': 593, '발연기': 594, '단순하다': 595, '맘': 596, '탈': 597, '간다': 598, '불가': 599, '대다': 600, '터': 601, '잠시': 602, '동화': 603, '콩': 604, '충격': 605, '적다': 606, '완전하다': 607, '무겁다': 608, '심심하다': 609, '바로': 610, '위해': 611, '민간인': 612, '학살': 613, '어디': 614, '에피소드': 615, '삼': 616, '백': 617, '조작': 618, '열리다': 619, '집': 620, '들어가다': 621, '걸리다': 622, '억지스럽다': 623, '매우': 624, '한국영': 625, '아햏햏': 626, '진정': 627, '내일': 628, '성룡': 629, 'ㅋㅋㅋㅋㅋ': 630, '에요': 631, '불륜': 632, '왕': 633, '너무나': 634, '흥미': 635, '도대체': 636, '순수하다': 637, '문제': 638, '아들': 639, '나라': 640, '이냐': 641, '해': 642, '나르다': 643, '혹': 644, '쩔다': 645, '질': 646, '개인': 647, '잔인하다': 648, '국산': 649, '아끼다': 650, '죽이다': 651, '오늘': 652, '완성': 653, '순': 654, '로써': 655, '사극': 656, '유쾌하다': 657, '니': 658, '배경': 659, '시종일관': 660, '풍': 661, '상당하다': 662, '얼마나': 663, '실력': 664, '어': 665, '옛날': 666, '사랑스럽다': 667, '생명': 668, '면서': 669, '래': 670, '여정': 671, '훈훈하다': 672, '네이버': 673, '언': 674, '대사': 675, '허무하다': 676, '조연': 677, '특집': 678, '비': 679, '서스펜스': 680, '귀신': 681, '댓글': 682, '묘사': 683, '극장판': 684, '역사': 685, '겁니다': 686, '시절': 687, '범죄': 688, '느와르': 689, '부': 690, '묻다': 691, '안습': 692, '소리': 693, '비추다': 694, '오글거리다': 695, '씩': 696, '쇼': 697, '언니': 698, '연인': 699, '망하다': 700, '시선': 701, '겁나다': 702, '해보다': 703, '비다': 704, '당신': 705, '세기': 706, '중요하다': 707, '거기': 708, '얘기': 709, '지루함': 710, '파다': 711, '닮다': 712, '내다': 713, '연예인': 714, '든': 715, '끼다': 716, '돌아가다': 717, '개다': 718, '땐': 719, '조폭': 720, '세상': 721, '기다': 722, '감다': 723, '둘': 724, '아빠': 725, '마저': 726, '의도': 727, '강하다': 728, '첨': 729, '탄탄하다': 730, '검술': 731, '멋있다': 732, '최고다': 733, '끌다': 734, '중심': 735, '진': 736, '찝찝하다': 737, '이지만': 738, '나중': 739, '흐르다': 740, '정말로': 741, '늦다': 742, '즐기다': 743, '도움': 744, '장난': 745, '보내다': 746, '잃다': 747, '유대인': 748, '필요하다': 749, '남기다': 750, '두근거리다': 751, '엔딩': 752, '영화관': 753, '씨': 754, '복수': 755, '일이': 756, '만으로도': 757, '편': 758, '평생': 759, '생각나다': 760, '짐승': 761, '싸구려': 762, '밝혀지다': 763, '터지다': 764, '아오': 765, '미화': 766, '라면': 767, '뭐라다': 768, '싫어하다': 769, '아저씨': 770, '역겹다': 771, '일찍': 772, '최근': 773, '스타': 774, '얼굴': 775, '느껴지다': 776, '께서': 777, '간만': 778, '공포': 779, '티': 780, '누구': 781, '짓': 782, '외계인': 783, '주온': 784, '존재': 785, '기억나다': 786, '차라리': 787, '실화': 788, '용도': 789, '분위기': 790, '이에요': 791, '끼리': 792, '궁금하다': 793, '설득': 794, '늑대': 795, '연예계': 796, '목소리': 797, '흠': 798, '조차': 799, '다그': 800, '사이': 801, '커스틴': 802, '제대로': 803, '생활': 804, '보단': 805, '모': 806, '헐리우드': 807, '마다': 808, '향수': 809, '울면': 810, '뛰다': 811, '치다': 812, '담백하다': 813, '깔끔하다': 814, '문': 815, '사': 816, '로만': 817, '자꾸': 818, '깔다': 819, '굿바이': 820, '깨알': 821, '일드': 822, '뜻': 823, '만찬': 824, '는걸': 825, '납득': 826, '센스': 827, '탁월하다': 828, '꽃': 829, '죄인': 830, '열정': 831, '안나': 832, '키이라': 833, '평가': 834, '은은하다': 835, '알바생': 836, 'ㅇㅇ': 837, 'ㅇ': 838, '한데': 839, '이민기': 840, '패': 841, '물건': 842, '오': 843, '상태': 844, '마이너스': 845, 'ㅉㅉ': 846, '북한': 847, '누': 848, '용이': 849, '다크': 850, '수도': 851, '행복하다': 852, '세르게이': 853, '맵다': 854, '꼬마': 855, '어쩌라고': 856, '일본인': 857, '당황': 858, '일상': 859, '전개도': 860, '느리다': 861, '은희': 862, '극적': 863, '맨날': 864, '가슴속': 865, '예요': 866, '현대': 867, '말로': 868, '이정': 869, '살인자': 870, '재탕': 871, '이틀': 872, '만에': 873, '안이': 874, '아무나': 875, '빨': 876, '라서': 877, '온몸': 878, '사진': 879, '단연': 880, '진창': 881, '우뢰매': 882, '별루': 883, 'ㅋㅋㅋㅋㅋㅋ': 884, '새롭다': 885, '메인': 886, '킬링타임': 887, '떠오르다': 888, 'ㅎㅎㅎ': 889, '쫌': 890, '망치': 891, '허풍': 892, '스스로': 893, '미국': 894, '생애': 895, '지난': 896, '헐다': 897, '연기자': 898, '따로': 899, '보아': 900, '만이라도': 901, '교훈': 902, '케이블': 903, '그릇': 904, '살짝': 905, '감히': 906, '살': 907, '고민': 908, '여전하다': 909, '섹시하다': 910, '퀄리티': 911, '화끈하다': 912, '드니': 913, '일품': 914, '지네': 915, '외국': 916, '상상': 917, '심하다': 918, '해내다': 919, '그녀': 920, '앉다': 921, '지키다': 922, '일반': 923, '게임': 924, '흥미롭다': 925, '거슬리다': 926, '힘드다': 927, '당하다': 928, '극치': 929, '굉장하다': 930, '생기다': 931, '듣기': 932, '싫다': 933, '화가': 934, '아무': 935, '우웩': 936, '잠': 937, '판타지': 938, '어린시절': 939, '기존': 940, '쏙': 941, '후회': 942, '싸이코': 943, '만이': 944, '지나가다': 945, '돌아오다': 946, '무한': 947, '까지도': 948, '후세': 949, '출현': 950, '으': 951, '이든': 952, '히': 953, '새벽': 954, '필요': 955, '미묘하다': 956, '가져오다': 957, '오우삼': 958, '제로': 959, '꿈': 960, '훌륭하다': 961, '미로': 962, '이의': 963, '짜임새': 964, '음': 965, '대가': 966, '일단': 967, '괴물': 968, '버킷리스트': 969, '직전': 970, '란': 971, '역': 972, '기도': 973, '답답하다': 974, '정치인': 975, '모순': 976, '어렵다': 977, '주년': 978, '개그콘서트': 979, '없애다': 980, '가치': 981, '감각': 982, '바라보다': 983, '엄마': 984, '딸': 985, '신나다': 986, '어쩔': 987, '생생하다': 988, '짱짱': 989, '다시다': 990, '본인': 991, '피해자': 992, '필름': 993, '어디서': 994, '드': 995, '혀': 996, '스릴': 997, 'ㅜ': 998, '전달': 999, '월': 1000, '즐겁다': 1001, '레알': 1002, '여자애': 1003, '물폭탄': 1004, '딸리다': 1005, '굳다': 1006, '휴': 1007, '호구': 1008, '쓸데없이': 1009, '런가': 1010, '야경': 1011, '꾼': 1012, '넘어가다': 1013, '성도': 1014, '아역': 1015, '민폐': 1016, '싸하다': 1017, '딱하다': 1018, '송강호': 1019, '인하다': 1020, '해석': 1021, '이지': 1022, '한심하다': 1023, '준': 1024, '비정하다': 1025, '다듬다': 1026, '비롯': 1027, '민망하다': 1028, '군더더기': 1029, '진행': 1030, '봣는데': 1031, '애니메이션': 1032, '와는': 1033, '불쾌하다': 1034, '꺼': 1035, '국민': 1036, '하나님': 1037, '신분': 1038, '으로만': 1039, '흥미진진': 1040, '랄': 1041, '이번': 1042, '지존파': 1043, '정당화': 1044, '정부': 1045, '탓': 1046, '매칭': 1047, '중국': 1048, '틀다': 1049, '평균': 1050, '동영상': 1051, '모으다': 1052, '메세지': 1053, '영화사': 1054, '히어로': 1055, '놀이': 1056, '사건': 1057, '인물': 1058, '가지': 1059, '빌리다': 1060, '우연히': 1061, '그렇게': 1062, '누가': 1063, '절망': 1064, '챙기다': 1065, '거부': 1066, '어마어마하다': 1067, '망치다': 1068, '똥': 1069, '원주민': 1070, '견자단': 1071, '순위': 1072, '그래픽': 1073, '망작': 1074, '으로나': 1075, '평론가': 1076, '바꾸다': 1077, '아누': 1078, '리브': 1079, '스': 1080, '밥': 1081, '엄청': 1082, '자식': 1083, '살아오다': 1084, '서로': 1085, '확실하다': 1086, '짠하다': 1087, 'ㅡ': 1088, '사라지다': 1089, '사다': 1090, '아픔': 1091, '인형': 1092, '며': 1093, '샤넬': 1094, '성공': 1095, '십': 1096, '세월': 1097, '찰나': 1098, '영원하다': 1099, '관': 1100, '울컥': 1101, '아무리': 1102, '용서': 1103, '갑자기': 1104, '선생님': 1105, '미안하다': 1106, '쥐': 1107, '미스캐스팅': 1108, '무기': 1109, '기술': 1110, '분명하다': 1111, '약간': 1112, '빼다': 1113, '끌리다': 1114, '디테': 1115, '찡': 1116, 'ㅋㅋㅋㅋㅋㅋㅋㅋ': 1117, '문화': 1118, '전반': 1119, '변화': 1120, '베다': 1121, '곳곳': 1122, '숨다': 1123, '치밀하다': 1124, '사고': 1125, '겨': 1126, '에서는': 1127, '함부로': 1128, '남녀': 1129, '웬만하다': 1130, '무': 1131, '조': 1132, '잘못': 1133, '성하다': 1134, '들이다': 1135, '자동차': 1136, '매니아': 1137, '이하': 1138, '정체': 1139, '길': 1140, '오르다': 1141, '공포물': 1142, '존나': 1143, '벌써': 1144, '관람': 1145, '삼류': 1146, '촌스럽다': 1147, '몸매': 1148, '심형래': 1149, '전체': 1150, '엄청나다': 1151, '초등': 1152, '나와라': 1153, '근래': 1154, '가족영화': 1155, '제작자': 1156, '들어서다': 1157, '같이': 1158, '접다': 1159, '원하다': 1160, '장가': 1161, '머리': 1162, '혹은': 1163, '종교': 1164, '업': 1165, '박수': 1166, '끼우다': 1167, '맞추다': 1168, '그게': 1169, '의하다': 1170, '최루성': 1171, '걸작': 1172, '남편': 1173, '단순': 1174, '가안': 1175, '영화상': 1176, '데리': 1177, '제제': 1178, '아련하다': 1179, '첫': 1180, '도입': 1181, '박사': 1182, '타다': 1183, '세다': 1184, '철학': 1185, '구역': 1186, '남성': 1187, '영화인': 1188, '요소': 1189, '홍보': 1190, '욕망': 1191, '전차': 1192, '디': 1193, '주목': 1194, '뇌': 1195, '특별하다': 1196, '죽음': 1197, '우주': 1198, '맡다': 1199, '로움': 1200, '상미': 1201, '예술': 1202, '보통': 1203, '말고도': 1204, '겪다': 1205, '쉬': 1206, '여성': 1207, '콜린': 1208, '여주': 1209, '시점': 1210, '에서만': 1211, '라이언': 1212, '일병': 1213, '자위': 1214, '과학': 1215, '강': 1216, '정신차리다': 1217, '팔': 1218, '선정': 1219, '솔로': 1220, '링': 1221, '으로는': 1222, '다니엘헤니': 1223, '프레디': 1224, '러닝': 1225, '타임': 1226, '황당하다': 1227, '솜씨': 1228, '독립영화': 1229, '똑같다': 1230, '걱정': 1231, '사촌동생': 1232, '소녀': 1233, '틀리다': 1234, '평': 1235, '들어오다': 1236, '접': 1237, '장르': 1238, '필요없다': 1239, '장편': 1240, '돋다': 1241, '마련': 1242, '로서': 1243, '채널': 1244, '화면': 1245, '입다': 1246, '변하다': 1247, '컴퓨터': 1248, '죠': 1249, '흠잡다': 1250, '짐': 1251, '전형': 1252, '기적': 1253, '놀래다': 1254, '거지': 1255, '흑인': 1256, '혹시': 1257, '훨씬': 1258, '지구': 1259, '근': 1260, '특수': 1261, '효과': 1262, '샷': 1263, '연결': 1264, '무재': 1265, '밓었': 1266, '래서': 1267, '교도소': 1268, '구먼': 1269, '조정': 1270, '몬페': 1271, '익살스럽다': 1272, '스파이더맨': 1273, '던스트': 1274, '걸음': 1275, '마': 1276, '생인': 1277, '이응경': 1278, '길용우': 1279, '납치': 1280, '감금': 1281, '왜케': 1282, '길들이다': 1283, '인피니트': 1284, '눈물나다': 1285, '허진호': 1286, '달인': 1287, '횡단보도': 1288, '건너다': 1289, '올': 1290, '이범수': 1291, '잊어버리다': 1292, '존중': 1293, '다지': 1294, '내생': 1295, 'ㄱ': 1296, '매번': 1297, '긴장': 1298, '재밋음': 1299, '바스코': 1300, '락스': 1301, '바비': 1302, '아이돌': 1303, '안달': 1304, '레닌': 1305, '표절': 1306, '질퍽': 1307, '산뜻하다': 1308, '용구성': 1309, '버무러진': 1310, '약탈': 1311, '변명': 1312, '이르다': 1313, '심오하다': 1314, '학생': 1315, '선생': 1316, '놀다': 1317, '불가능하다': 1318, '바베트': 1319, '차이': 1320, '남바': 1321, '베트': 1322, '핀란드': 1323, '풍경': 1324, '경': 1325, '할랫': 1326, '말씀드리다': 1327, '짤랐을꺼': 1328, '털다': 1329, '카밀라': 1330, '벨': 1331, '재밋는뎅': 1332, '엄포스': 1333, '위력': 1334, '깨닫다': 1335, '적남': 1336, '검사': 1337, '명품': 1338, '졸': 1339, '아시': 1340, '패션': 1341, '윈': 1342, '투어': 1343, '나이틀리': 1344, '정신장애': 1345, '틱장애': 1346, '허허': 1347, '유령': 1348, '싱겁다': 1349, '낚임': 1350, '서리': 1351, '굶주리다': 1352, 'ㅜㅡ': 1353, '윤제문': 1354, '발견': 1355, '소소하다': 1356, '미소': 1357, '머금': 1358, '올리다': 1359, '속지': 1360, '리얼리티': 1361, '정신의학': 1362, '분노조절': 1363, '장애': 1364, '초기': 1365, '증상': 1366, '툭하면': 1367, '파손': 1368, '바': 1369, '가면': 1370, '뮤비': 1371, '리스': 1372, '타르': 1373, '가르다': 1374, '엔나': 1375, '용의': 1376, '주인': 1377, '근친상간': 1378, '메': 1379, '니스': 1380, '드래곤': 1381, '토르': 1382, '월드': 1383, '잡수다': 1384, '기본': 1385, '선방': 1386, '영혼': 1387, '어루만지다': 1388, '거치다': 1389, '상사': 1390, '포퐁': 1391, '저그': 1392, '진호': 1393, '시리': 1394, '난또': 1395, '애가': 1396, '원한': 1397, '나대다': 1398, '푹': 1399, '꺼지다': 1400, '활': 1401, '이라고는': 1402, '지독하다': 1403, '차갑다': 1404, '무자비하다': 1405, '상상력': 1406, '백봉기': 1407, '들어맞다': 1408, '예측': 1409, '카리스마': 1410, '불알': 1411, '아무튼': 1412, '녹다': 1413, '밋밋하다': 1414, '한두': 1415, '컷': 1416, '대만': 1417, '온': 1418, '헤집다': 1419, '사의': 1420, '단면': 1421, '사죄': 1422, '잡기': 1423, '듣다': 1424, '보도': 1425, '연맹': 1426, '명백하다': 1427, '탕': 1428, '사골': 1429, '우려': 1430, '먹듯': 1431, '산': 1432, '아예': 1433, '부작': 1434, '이라니': 1435, '김남길': 1436, '불구': 1437, '손예진': 1438, 'ㅈㅈ': 1439, '노래실력': 1440, '뽑다': 1441, '박시환': 1442, '망신': 1443, '넣다': 1444, '활짝': 1445, '문자': 1446, '비번': 1447, '재밋네': 1448, '달팽이': 1449, '부패하다': 1450, '로마노프': 1451, '왕조': 1452, '기리': 1453, '뭣같': 1454, '항거': 1455, '러시아': 1456, '민중': 1457, '폭도': 1458, '무난': 1459, '펴다': 1460, '코드': 1461, '계': 1462, '화해': 1463, '남발': 1464, '분만': 1465, '리플릿': 1466, '불안하다': 1467, '럼': 1468, '위대하다': 1469, '조미': 1470, '막문위': 1471, '골깜': 1472, '부라리다': 1473, '쓰러지다': 1474, '골': 1475, '걸스데이': 1476, '이혜리': 1477, '서기': 1478, '인공': 1479, '주귀': 1480, '어내스트': 1481, '셀레스틴': 1482, '강추': 1483, '클라라': 1484, '볼라': 1485, '화신': 1486, '차차': 1487, '신카이': 1488, '마코토': 1489, '작화': 1490, '카나': 1491, '이훨': 1492, '고은님': 1493, '노골': 1494, '광고': 1495, '크리스마스': 1496, '행복': 1497, '산만하다': 1498, '믹스': 1499, '음향': 1500, '별루더': 1501, '기준': 1502, '패널': 1503, '가구': 1504, '서운하다': 1505, '몬스터': 1506, '주식회사': 1507, '투': 1508, '박하다': 1509, '중국인': 1510, '과장': 1511, '안간힘': 1512, '가상하다': 1513, '고증': 1514, '거북': 1515, '과대': 1516, '포장': 1517, '불법체류자': 1518, '잡다': 1519, '우상화': 1520, '뭥미': 1521, '삶속': 1522, '드러나다': 1523, '지나': 1524, '숀펜': 1525, '올레': 1526, '공짜': 1527, '배역': 1528, '상대': 1529, '라미란': 1530, '젤': 1531, '욕심': 1532, '쪽': 1533, '빵점': 1534, '베댓': 1535, '잘쓰다': 1536, '모자라다': 1537, '도둑': 1538, '뫼비우스': 1539, '믿어지다': 1540, '찌릿짜릿': 1541, '용기': 1542, '화이': 1543, '주입': 1544, '식이': 1545, '전하': 1546, '덴': 1547, '리투': 1548, '차이밍량': 1549, '섞이다': 1550, '채': 1551, '담기다': 1552, '여군': 1553, '엠비씨': 1554, '질린다': 1555, '김혜수': 1556, '어딘': 1557, '에볼라': 1558, '바이러스': 1559, '떠들다': 1560, '석': 1561, '어떤': 1562, '후반': 1563, '부가': 1564, '만해': 1565, '떨다': 1566, '용가리': 1567, '짱짱맨': 1568, '하나로': 1569, '꼽': 1570, '모건': 1571, '프리': 1572, '재방송': 1573, '시나': 1574, '상업': 1575, '노출씬': 1576, '보임': 1577, '끝내': 1578, '맥스': 1579, '샘': 1580, '바랬다': 1581, '스러웟음': 1582, '찍을껀데': 1583, '면상': 1584, '동심': 1585, '멀리': 1586, '무술': 1587, '총을드': 1588, '크리스토퍼': 1589, '왈츠': 1590, '타란티노': 1591, '조합': 1592, '유명': 1593, '한편': 1594, '초월': 1595, '유명하다': 1596, '재밋': 1597, '종방': 1598, '방도': 1599, '방송': 1600, '대본': 1601, '지치다': 1602, '수백향': 1603, '바른': 1604, '위원회': 1605, '김혜선': 1606, '김': 1607, '순정': 1608, '정이': 1609, '역할': 1610, '팜므파탈': 1611, '의외': 1612, '벌어지다': 1613, '논란': 1614, '멍하다': 1615, 'ㅈ': 1616, '공유': 1617, '존잘': 1618, '상쾌': 1619, '발랄하다': 1620, '껄끄런': 1621, '해설': 1622, '소파': 1623, '치고': 1624, '로큰롤': 1625, '주된': 1626, '타겟': 1627, '논리': 1628, '통': 1629, '요원': 1630, '무능력하다': 1631, '뮤지컬': 1632, '사운드': 1633, '녹음': 1634, '춤': 1635, '추다': 1636, '어제': 1637, '참다': 1638, '말리': 1639, '영국': 1640, '뮤지컬영화': 1641, '맘마미아': 1642, '로맨틱코미디': 1643, '게이물': 1644, '알고싶다': 1645, '스텝': 1646, '꼭두각시': 1647, '익숙해지다': 1648, '현대인': 1649, '뻑뻑': 1650, '볼걸': 1651, '언밸러스': 1652, '뚱뚱하다': 1653, '고역': 1654, '간간히': 1655, '흘러나오다': 1656, '클래식': 1657, '조차도': 1658, '주기도': 1659, '인가요': 1660, '죄송하다': 1661, '짜지다': 1662, '돼지': 1663, '닭목': 1664, '무당': 1665, '가져가다': 1666, '윤종신': 1667, '복귀': 1668, '이하늘': 1669, '뽑히다': 1670, '참가자': 1671, '심사': 1672, '위원': 1673, '인격': 1674, '쌓다': 1675, '어허': 1676, '광장': 1677, '생': 1678, '판타지영화': 1679, '짓다': 1680, '금물': 1681, '지옥': 1682, '멜로영화': 1683, '형식': 1684, '탈피': 1685, '지나치다': 1686, '사랑비': 1687, '서준': 1688, '초': 1689, '주네': 1690, '젖다': 1691, '보고오다': 1692, '벗어나다': 1693, '접해': 1694, '넘치다': 1695, '만큼은': 1696, '젊음': 1697, '건담': 1698, '최고봉': 1699, '개콘': 1700, '코너': 1701, '이안': 1702, '사다코': 1703, '서린': 1704, '우물': 1705, '펀치': 1706, '결정': 1707, '계기': 1708, '람': 1709, '빼앗다': 1710, '연극': 1711, '본능': 1712, '이래': 1713, '강수연': 1714, '최정원': 1715, '신음': 1716, '김혜성': 1717, '이현진': 1718, '가발': 1719, '이인상': 1720, '재밋어': 1721, '배두나': 1722, '대들다': 1723, '성적': 1724, '호기심': 1725, '닥치고': 1726, '각기': 1727, '미국드라마': 1728, '파워': 1729, '사로자다': 1730, '응답': 1731, '하라': 1732, '은지원': 1733, '웃기': 1734, '배꼽': 1735, '컴': 1736, '부실하다': 1737, '장끌': 1738, '로드': 1739, '몰락': 1740, '제적': 1741, '영웅본색': 1742, '설레다': 1743, '학창시절': 1744, '배경음악': 1745, '화남': 1746, '형태': 1747, '영양가': 1748, '이승기': 1749, '현충일': 1750, '프로': 1751, '제대': 1752, '휴가': 1753, '다녀오다': 1754, '소박하다': 1755, '햇살': 1756, '가득하다': 1757, '부엌': 1758, '요리': 1759, '신현준': 1760, '황': 1761, '장군': 1762, '뿅': 1763, '재생': 1764, '흡입': 1765, '하진': 1766, '소원': 1767, '들어주다': 1768, '발톱': 1769, '만큼도': 1770, '따라가다': 1771, '완존': 1772, '밝다': 1773, '긍정': 1774, '인게': 1775, '무표': 1776, '요홍': 1777, '혜정': 1778, '이그': 1779, '마도': 1780, '후련': 1781, '시원하다': 1782, '낼': 1783, '월요일': 1784, '해피': 1785, '정치범': 1786, '재개': 1787, '봉하': 1788, 'ㅄ': 1789, '대희': 1790, '전화': 1791, '끊음': 1792, '서양': 1793, '싸움판': 1794, '푸하하하': 1795, '구만': 1796, '최초': 1797, '반공': 1798, '애니매이션': 1799, '시각': 1800, '문학': 1801, '무고': 1802, '감옥살이': 1803, '이따위': 1804, '흑인음악': 1805, '아이스': 1806, '큐브': 1807, '건데': 1808, '알리시아': 1809, '옥소리': 1810, '프로필': 1811, 'ㅋㅋㅋㅋㅋㅋㅋㅋㅋㅋㅋㅋㅋㅋ': 1812, '아우': 1813, '재밓당': 1814, '나타내다': 1815, '이적': 1816, '영화롭다': 1817, '실패': 1818, '빠져들다': 1819, '모녀': 1820, '토막': 1821, '살해': 1822, '구리지': 1823, '값': 1824, '매미': 1825, '매니저': 1826, '역활': 1827, '훨': 1828, '이구': 1829, '할머니': 1830, '익숙하다': 1831, 'ㄷㅔ': 1832, '진개': 1833, '천카이거': 1834, '정은지': 1835, '트로트': 1836, '복': 1837, '순이': 1838, '다투다': 1839, '그건': 1840, '굳이': 1841, '어색': 1842, '연속극': 1843, '인터뷰': 1844, '박스': 1845, '오피스': 1846, '몰다': 1847, '싸움': 1848, '기량': 1849, '조디': 1850, '개막': 1851, '계시다': 1852, '두기': 1853, '쌀': 1854, '명대사': 1855, '뒷받침': 1856, '저스트': 1857, '위드': 1858, '애니스톤': 1859, '실망하다': 1860, '맛깔': 1861, '시베리아': 1862, '훈련': 1863, '작살': 1864, '즉': 1865, '달이': 1866, '앞': 1867, '훅': 1868, '지존': 1869, '수록': 1870, '추노': 1871, '저급': 1872, '킁': 1873, '그로': 1874, '즐거움': 1875, '수입': 1876, '금지': 1877, '테이프': 1878, '불후': 1879, '토록': 1880, '재치': 1881, '새롭웠': 1882, '라파스': 1883, '신봉선': 1884, '재탕하다': 1885, '이외': 1886, '의문': 1887, '당대': 1888, '퀄': 1889, '결코': 1890, '재기': 1891, '지지다': 1892, '넘어지다': 1893, '유유': 1894, '안개': 1895, '워터': 1896, '루': 1897, '다리': 1898, '마스코트': 1899, '곤': 1900, '사토시': 1901, '천재': 1902, '암': 1903, '갈다': 1904, '대작': 1905, '예': 1906, '뼈': 1907, '지고': 1908, '독': 1909, '이겠다': 1910, '츠무구': 1911, '영화로': 1912, '이구나': 1913, '뭉클하다': 1914, '살아가다': 1915, '많아지다': 1916, '처': 1917, 'ㅝ': 1918, '매끄럽다': 1919, '철': 1920, '뼈대': 1921, '가문': 1922, '섞다': 1923, '박정아': 1924, '펼치다': 1925, '포스': 1926, '다미': 1927, '지대': 1928, '빠순이': 1929, 'ㅋㅋㅋㅋㅋㅋㅋ': 1930, '긔': 1931, '재밋쎠': 1932, '법': 1933, '줄리아': 1934, '로버츠': 1935, '예술가': 1936, '시대': 1937, '관객수': 1938, '베테': 1939, '보다도': 1940, '류승완': 1941, '역작': 1942, '한창': 1943, '핵': 1944, '펭귄': 1945, '남북': 1946, '거짓': 1947, '평화로': 1948, '이던': 1949, '헐리웃': 1950, '알아차리다': 1951, '가정': 1952, '진리': 1953, '이만': 1954, '말고': 1955, '편도': 1956, '핀': 1957, '헤드': 1958, '신라': 1959, '달밤': 1960, '푸근하다': 1961, '다가': 1962, '둑': 1963, '달려가다': 1964, '높아지다': 1965, '의견': 1966, '핑계': 1967, '삼다': 1968, '여부': 1969, '아더': 1970, '원탁': 1971, '기사': 1972, '랜슬롯': 1973, '트리스탄': 1974, '마치': 1975, '흉내': 1976, '란슬롯': 1977, '쌍': 1978, '검다': 1979, '안대': 1980, '기네': 1981, '비어': 1982, '역도': 1983, '미스': 1984, '대한민국': 1985, '치르다': 1986, '하락': 1987, '종착역': 1988, '대유': 1989, '트레비스': 1990, '단지': 1991, '흘러가다': 1992, '네러티브': 1993, '취미': 1994, '올인': 1995, '학위': 1996, '위조': 1997, '성범죄자': 1998, '제자': 1999, '제작비': 2000, '패자부활전': 2001, '알맞다': 2002, '쩝': 2003, '뜻밖': 2004, '그랜드': 2005, '부다페스트': 2006, '호텔': 2007, '감기': 2008, '투자': 2009, '아이언맨': 2010, '개그': 2011, '뛰어넘다': 2012, '뜬금': 2013, '살인마': 2014, '대적': 2015, '해결': 2016, '탈출': 2017, '잡히다': 2018, '조달환': 2019, '정유미': 2020, '리얼': 2021, '비록': 2022, '로봇': 2023, '점차': 2024, '앤드류': 2025, '선사': 2026, '영구': 2027, '땡': 2028, '칠이': 2029, '친척': 2030, '형': 2031, '사촌형': 2032, '최신': 2033, '고요하다': 2034, '서글프다': 2035, '선속': 2036, '머물다': 2037, '성찰': 2038, '사색': 2039, '펑펑': 2040, 'ㅜㅜㅜ': 2041, '내기': 2042, '박빙': 2043, '심은하': 2044, '눈부시다': 2045, '미모': 2046, '주제가': 2047, '풀리다': 2048, '싸다': 2049, '잔인함': 2050, '비참하다': 2051, '대하': 2052, '페이스': 2053, '퇴색': 2054, '마르': 2055, '와의': 2056, '물론': 2057, '공주': 2058, '만약': 2059, '미국인': 2060, '맞서다': 2061, '아메리칸': 2062, '자유': 2063, '투쟁': 2064, '아카데미상': 2065, '부정': 2066, '엇음': 2067, '어딘가': 2068, '일어나고': 2069, '우베': 2070, '따르다': 2071, '정장': 2072, '림프비즈킷': 2073, '쥑': 2074, '엽문': 2075, '오월': 2076, '밤': 2077, '야릇하다': 2078, '반하다': 2079, '명치': 2080, '깨달': 2081, '다소': 2082, '스러운': 2083, '영화평론가': 2084, '마는': 2085, '울리다': 2086, '효느': 2087, '대강': 2088, '간첩': 2089, '색휘': 2090, '애쓰다': 2091, '검증': 2092, '이탈리아': 2093, '절때': 2094, '껄욕': 2095, '환경': 2096, '만화': 2097, '경의': 2098, '길다': 2099, '이이경': 2100, '게뭐': 2101, '가나다라': 2102, '키우다': 2103, '의아': 2104, '예민하다': 2105, '날카로워지다': 2106, '엇': 2107, '요구': 2108, '도와주다': 2109, '괜히': 2110, '끙끙': 2111, '거리': 2112, '단': 2113, '지수': 2114, '갈팡질팡': 2115, '공효진': 2116, '평수': 2117, '콧대': 2118, '높이다': 2119, '호': 2120, '권상우': 2121, '화산고': 2122, '왼쪽': 2123, '팔자': 2124, '잘생기다': 2125, '장혁': 2126, '말랑말랑': 2127, '열심히': 2128, '저런': 2129, '그린': 2130, '압': 2131, '권': 2132, '동행': 2133, '토마스': 2134, '유태인': 2135, '인척': 2136, '가족사진': 2137, '사슴': 2138, '밟다': 2139, '대변': 2140, '므': 2141, '찌다': 2142, '변태': 2143, '수년': 2144, '상대성': 2145, '이론': 2146, '니노': 2147, '이중인격': 2148, '핫': 2149, '적임': 2150, '만으로': 2151, '돌진': 2152, '유혹': 2153, '난감하다': 2154, '깜짝': 2155, '놀라다': 2156, '센세이션': 2157, '차이나타운': 2158, '대놓고': 2159, '베': 2160, '신화': 2161, '에릭': 2162, '힘내다': 2163, '이민정': 2164, '신하균': 2165, '교양': 2166, '빨갱이': 2167, '지르다': 2168, '몬초': 2169, '단어': 2170, '그리움': 2171, '몬': 2172, '초가': 2173, '울먹이다': 2174, '애기': 2175, '그런': 2176, '깜놀': 2177, '힘겹다': 2178, '남자배우': 2179, '조은숙': 2180, '김유미': 2181, '땜': 2182, '세계대전': 2183, '피고': 2184, '일으키다': 2185, '지휘': 2186, '고위': 2187, '장교': 2188, '과는': 2189, '한예슬': 2190, '김태희': 2191, '적월': 2192, '쌤': 2193, '점때': 2194, '이연서': 2195, '신인': 2196, '답지': 2197, '다음': 2198, '뵙다': 2199, '피의자': 2200, '주변': 2201, '녀': 2202, '스피디': 2203, '박자': 2204, '시가전': 2205, '완': 2206, '탕웨이': 2207, '주기': 2208, '다망': 2209, '반도': 2210, '정상': 2211, '보이': 2212, '아수라': 2213, '공통점': 2214, '스포츠영화': 2215, '군대': 2216, '로버트': 2217, '광기': 2218, '만끽': 2219, '스릴러물': 2220, '도가니탕': 2221, '서나': 2222, '정치': 2223, '경제': 2224, '걸치다': 2225, '절실': 2226, '함정': 2227, '똑똑하다': 2228, '압삘럽': 2229, '숨막히다': 2230, '복선': 2231, '섬세하다': 2232, '김영애': 2233, '갖추다': 2234, '억지': 2235, '신파': 2236, '경극': 2237, '몸짓': 2238, '하늘': 2239, '빙빙': 2240, '졸다': 2241, '평정': 2242, '별거': 2243, '감수성': 2244, '밀려오다': 2245, '번만': 2246, '상영': 2247, '카톡': 2248, '생동감': 2249, '박물관': 2250, '노땅': 2251, '흘리다': 2252, '간신히': 2253, '찾다': 2254, '인종차별': 2255, '유괴': 2256, '불협화음': 2257, '고명환': 2258, '쩌': 2259, '후자': 2260, '속편': 2261, '앨빈': 2262, '밴드': 2263, '추가': 2264, '로더': 2265, '올해': 2266, '결투': 2267, '씬': 2268, '폭풍눈물': 2269, '팝핀현준': 2270, '할아버지': 2271, 'ㄵ': 2272, '상술': 2273, '선거': 2274, '맙시': 2275, '글쎄': 2276, '성향': 2277, '즐': 2278, '성격': 2279, '종영': 2280, '줄리': 2281, '델피': 2282, '쵝오': 2283, '글쎄요': 2284, '착각': 2285, '기독교': 2286, '성해': 2287, '절절': 2288, '다가오다': 2289, '비약': 2290, '삭제': 2291, '행간': 2292, '잃어버리다': 2293, '꽉': 2294, '반대': 2295, '스킨헤드': 2296, '았': 2297, '절': 2298, '대안': 2299, '성은': 2300, '사치': 2301, '일찐': 2302, '풀다': 2303, '개제': 2304, '남극': 2305, '곳': 2306, '쩐다': 2307, '엑소시스트': 2308, '능가': 2309, '실상': 2310, '처키': 2311, '개뿔': 2312, '제보': 2313, '재방': 2314, '저조하다': 2315, '귀요미': 2316, '저예산영화': 2317, '관계': 2318, '스펙': 2319, '타': 2320, '영화계': 2321, '바람': 2322, '희망': 2323, '다크호스': 2324, '응원': 2325, '부탁드리다': 2326, '째': 2327, '빵': 2328, '뜨겁다': 2329, '이니': 2330, '블랙코미디': 2331, '조롱': 2332, '대상': 2333, '우린': 2334, '성기': 2335, '노출': 2336, '어그': 2337, '로나': 2338, '촌': 2339, '동네': 2340, '가끔': 2341, '툭툭': 2342, '유머': 2343, '쌩뚱': 2344, '만들기': 2345, '뎀': 2346, '형님': 2347, '칠': 2348, '한개': 2349, '꼽히다': 2350, '조잡하다': 2351, '루즈': 2352, '민국이': 2353, '지아': 2354, '데뷔': 2355, '이해도': 2356, '저리': 2357, '무리하다': 2358, '승부': 2359, '띄우다': 2360, '이득': 2361, '박얘쁜': 2362, '빠수니': 2363, '죄다': 2364, '불': 2365, '보이지': 2366, '웅장': 2367, '코끼리': 2368, '내놓다': 2369, '패러디': 2370, '카메오': 2371, '들보': 2372, '유치': 2373, '자녀': 2374, '께': 2375, '후속': 2376, '통해': 2377, '찰지다': 2378, '토종': 2379, '성인영화': 2380, '드리다': 2381, '멍청하다': 2382, '어색하다': 2383, '가비': 2384, '의향': 2385, '씁쓸하다': 2386, '장윤현': 2387, '커피': 2388, '관해': 2389, '신경': 2390, '쓰시': 2391, '미흡하다': 2392, '세련되다': 2393, '진지하다': 2394, '경쾌하다': 2395, '픽션': 2396, '정정은': 2397, '어케된거': 2398, '과도': 2399, '압축': 2400, '호화롭다': 2401, '아마': 2402, '님들': 2403, '이본': 2404, '최저': 2405, '행동': 2406, '캐릭': 2407, '이해관계': 2408, '갘': 2409, '능': 2410, '젠': 2411, '스토리텔링': 2412, '기절': 2413, 'ㅜㅜㅜㅜ': 2414, '우울하다': 2415, '날다': 2416, '정화': 2417, '미가': 2418, '끙': 2419, '제작': 2420, '본분': 2421, '다만': 2422, '낳다': 2423, '영웅': 2424, '또다른': 2425, '희생': 2426, '평작': 2427, '까진': 2428, '깨': 2429, '영홥니': 2430, '알럽키': 2431, '중고생': 2432, '마마': 2433, '추어': 2434, '포르노': 2435, '물이': 2436, '동시': 2437, '영물': 2438, '넌': 2439, '설명': 2440, '이승연': 2441, '강렬하다': 2442, '홍경인': 2443, '불쌍하다': 2444, '드릴': 2445, '브라': 2446, '뿜었다': 2447, '계몽영화': 2448, '한계': 2449, '고스': 2450, '답습': 2451, '우와': 2452, '통쾌하다': 2453, '마침표': 2454, '세얼간이': 2455, '아줌마': 2456, '만족하다': 2457, '심혜진': 2458, '겨우': 2459, '메시지': 2460, '모호하다': 2461, '창업': 2462, '꿈꾸다': 2463, '아이템': 2464, '사업': 2465, '기르다': 2466, '험하다': 2467, '스승': 2468, '지침': 2469, '단념': 2470, '박': 2471, '대소': 2472, '독립': 2473, '치고는': 2474, '이크': 2475, '부자간': 2476, '배신': 2477, '원망': 2478, '명화': 2479, '낰였다': 2480, '프리미엄': 2481, '이선균': 2482, '정재영': 2483, '김상중': 2484, '파': 2485, '불다': 2486, '계쇠': 2487, '괴롭다': 2488, '달라': 2489, '부진': 2490, '반감': 2491, 'ㅣㅆ': 2492, '느덕': 2493, '화하다': 2494, '오락가락': 2495, '자기': 2496, '만의': 2497, '왠': 2498, '지모': 2499, '영화제': 2500, '데넘': 2501, '상처': 2502, '치유': 2503, '퍼스트': 2504, '양심': 2505, '점주': 2506, '흐뭇하다': 2507, '대우': 2508, '머릿속': 2509, '지우개': 2510, '폭발': 2511, '오늘이': 2512, '월요커플': 2513, '덕분': 2514, '습': 2515, '니당다': 2516, '터키': 2517, '스키': 2518, '추격': 2519, '남고': 2520, '무어': 2521, '수많다': 2522, '건너편': 2523, '사기': 2524, '이어서': 2525, '심각하다': 2526, '빵빵': 2527, '성남': 2528, '금': 2529, '성녀': 2530, '슈발': 2531, '내리다': 2532, '담배': 2533, '피다': 2534, '마술': 2535, '나볼': 2536, '수나': 2537, '리좀': 2538, '붙다': 2539, '형편': 2540, '써다': 2541, '수도승': 2542, '쉬다': 2543, '떠내려가다': 2544, '게왜': 2545, '맨': 2546, '물대포': 2547, '쏠때': 2548, '웃겻다': 2549, '린다': 2550, '신기하다': 2551, '부족함': 2552, '무비': 2553, '고스트라이더': 2554, '스치다': 2555, '사망': 2556, '묵직하다': 2557, '슴': 2558, '뭉치': 2559, '싸대기': 2560, '고고': 2561, '안쓰럽다': 2562, '마찬가지': 2563, '뚝방': 2564, '애틋하다': 2565, '찍지마라': 2566, '육감': 2567, '여인': 2568, '카메라': 2569, '각도': 2570, '라든지': 2571, '화질': 2572, '이라든지': 2573, '구림': 2574, '화란': 2575, '두고두고': 2576, '아닐런지': 2577, '정시': 2578, '묻히다': 2579, '던데': 2580, '번뜩이다': 2581, '아이디어': 2582, '아기자기하다': 2583, '우아': 2584, '미스터리': 2585, '에로스': 2586, '겸비': 2587, '윤계상': 2588, '능청': 2589, '에린': 2590, '프레스토': 2591, '네요': 2592, '고도': 2593, '효과음': 2594, '막히다': 2595, '이상은': 2596, '강혜정': 2597, '본가': 2598, '꾸준하다': 2599, '진짴': 2600, '만점': 2601, '타이틀': 2602, '달고나': 2603, '뷰욕': 2604, '중년': 2605, '추잡하다': 2606, '수가': 2607, '퀵이유': 2608, '두번째': 2609, '삼십분': 2610, '명도': 2611, '솜': 2612, '왕조현': 2613, '주윤발': 2614, '왜색': 2615, '작고': 2616, '교활하다': 2617, '원숭이': 2618, '망상': 2619, '사무라이': 2620, '토나오다': 2621, '모니터링': 2622, '염치': 2623, '산업': 2624, '여서': 2625, '소비자': 2626, '입장': 2627, '그나마': 2628, '다행': 2629, '상급': 2630, '품': 2631, '상호': 2632, '박신혜': 2633, '빠져나오다': 2634, '국민학교': 2635, '동생': 2636, '워': 2637, '부류': 2638, '저렴하다': 2639, '마구잡이': 2640, '땀': 2641, '고본': 2642, '번째': 2643, '개도': 2644, '비행기': 2645, '후회되다': 2646, '헛웃음': 2647, '금단비': 2648, '절대로': 2649, '도통': 2650, '시도': 2651, '에만': 2652, '열중': 2653, '기쁨': 2654, '거대하다': 2655, '섭리': 2656, '어머니': 2657, '성미': 2658, '자애': 2659, '낮추다': 2660, '고릴라': 2661, '거도': 2662, '섭렵': 2663, '샤워': 2664, '쳐다보다': 2665, '이라서': 2666, '그만큼': 2667, '광해': 2668, '하트넷': 2669, '나약하다': 2670, '이미지': 2671, '부각': 2672, '베드': 2673, '외모': 2674, '여러가지': 2675, '파렐': 2676, '난이': 2677, '라이': 2678, '사이코': 2679, '속출': 2680, '불교': 2681, '씨바': 2682, 'ㄹ': 2683, '어캐봐': 2684, '꼬옥': 2685, '식상하다': 2686, '물씬': 2687, '풍기다': 2688, '이성재': 2689, '에겐': 2690, '저격': 2691, '비긴': 2692, '어게인': 2693, '대중': 2694, '선택': 2695, '아기': 2696, '오로지': 2697, '청': 2698, '난해하다': 2699, '허탈하다': 2700, '카이사르': 2701, '김민종': 2702, '공격': 2703, '유순하다': 2704, '여성성': 2705, '일기토': 2706, '지략': 2707, '삼국지': 2708, '맞짱': 2709, '비디오테잎': 2710, '좍좍': 2711, '제외': 2712, '하고는': 2713, '따분': 2714, '헬기': 2715, '마구': 2716, '쏘다': 2717, '미군': 2718, '베트공': 2719, '스나이퍼': 2720, '등현': 2721, '극단': 2722, '에서의': 2723, '업햄': 2724, '조커': 2725, '척': 2726, '주위': 2727, '피해': 2728, '자위대': 2729, '등장': 2730, '일편': 2731, '삽질': 2732, '브리': 2733, '쪼끔': 2734, '퍼스': 2735, '그랜트': 2736, '한자리': 2737, '아이리스': 2738, '너무하다': 2739, '자시': 2740, '너무도': 2741, '접합': 2742, '정우성': 2743, '고소영': 2744, '그토록': 2745, '비트': 2746, '전라도': 2747, '노예': 2748, '업주': 2749, '처벌': 2750, '이슈': 2751, '공자': 2752, '자연': 2753, '노자': 2754, '끼리끼리': 2755, '빛': 2756, '유지': 2757, '크리스': 2758, '이삼': 2759, '덴젤와싱턴': 2760, '모레쯔': 2761, '후덕': 2762, '집중': 2763, '배틀로얄': 2764, '상류층': 2765, '속물': 2766, '근성': 2767, '국회의원': 2768, '아부': 2769, '도덕': 2770, '가만히': 2771, '씨익': 2772, '정상인': 2773, '에나': 2774, '샬라샬': 2775, '즁': 2776, '쥬': 2777, '옹졸하다': 2778, '치졸하다': 2779, '빠다': 2780, '롭고': 2781, '만하': 2782, '미드': 2783, '청소년': 2784, '이신': 2785, '직접': 2786, '어르신': 2787, '얘길': 2788, '대부분': 2789, '주민': 2790, '로간': 2791, '주로': 2792, '하층': 2793, '민': 2794, '복수심': 2795, '또는': 2796, '군경': 2797, '빨치산': 2798, '벌이다': 2799, '정작': 2800, '군': 2801, '일리': 2802, '수역': 2803, '아침': 2804, '으이구': 2805, '티나': 2806, '대표': 2807, '김치': 2808, '신뢰': 2809, '요점': 2810, '헤어스타일': 2811, '저렇다': 2812, '가게': 2813, '분신': 2814, '노찌': 2815, '쯔': 2816, '안다': 2817, '크게': 2818, '김명민': 2819, '약': 2820, '구해': 2821, '설마설마': 2822, '짝퉁': 2823, '고만': 2824, '게이': 2825, '설경구': 2826, '모욕감': 2827, '서점': 2828, '보심': 2829, '썰매': 2830, '타고': 2831, '목적지': 2832, '통제': 2833, '한다는': 2834, '데몰리션맨': 2835, '이퀄리브리엄': 2836, '원조': 2837, '격인': 2838, '즈': 2839, '해군': 2840, '출신': 2841, '관심': 2842, '파란색': 2843, '유오성': 2844, '챔프': 2845, '폭풍': 2846, '오열': 2847, 'ㅠㅜㅠㅍ': 2848, '퓨': 2849, '사소하다': 2850, '거장': 2851, '이모': 2852, '우': 2853, '베스트': 2854, '듬': 2855, '페이크': 2856, '시미즈': 2857, '레이': 2858, '만화책': 2859, '비밀': 2860, '영향': 2861, '업적': 2862, '보다는': 2863, '새': 2864, '도전': 2865, '대판': 2866, '쌈질': 2867, '마냥': 2868, '하하호호': 2869, '시청자': 2870, '낚시질': 2871, '그만하다': 2872, '폐지': 2873, '프랑스': 2874, '이래서': 2875, '지미': 2876, '애린': 2877, '꼴통': 2878, '페미니즘': 2879, '페미나치': 2880, '마인드': 2881, '지향': 2882, '장애인': 2883, '단것': 2884, '쿨하다': 2885, '이랬는데': 2886, '어처구니': 2887, '밤중': 2888, '에몽': 2889, '사과': 2890, '골목': 2891, '상권': 2892, '대형': 2893, '슈퍼마켓': 2894, '무협': 2895, '모해': 2896, '껀줄': 2897, '한송이': 2898, '하나라': 2899, '려': 2900, '설교': 2901, '거북하다': 2902, '결혼반지': 2903, '담하다': 2904, '개역': 2905, '문성우': 2906, '써주다': 2907, '색깔': 2908, '충실하다': 2909, '미취': 2910, '학': 2911, '자랑스럽다': 2912, '존내': 2913, '재밋습': 2914, '어의': 2915, '로맨스영화': 2916, '잘알다': 2917, '방': 2918, '허황': 2919, '윤아': 2920, '작자': 2921, '참여': 2922, '천녀유혼': 2923, '퀭': 2924, '따위': 2925, '강요': 2926, '곡': 2927, '훠': 2928, '얼씬': 2929, '내사': 2930, '나위': 2931, '화전': 2932, '출연': 2933, '진과': 2934, '산만': 2935, '무언가': 2936, '화학': 2937, '봣습니닼': 2938, '옆': 2939, '잼잇엇숩니': 2940, '준비': 2941, '젊다': 2942, '손대다': 2943, '마라천': 2944, '천하다': 2945, '두서': 2946, '영화감독': 2947, '앞뒤': 2948, '자르다': 2949, '오그리다': 2950, '파라': 2951, '노말': 2952, '엑': 2953, '부러': 2954, '문헌': 2955, '적히다': 2956, '문란하다': 2957, '사도세자': 2958, '정조': 2959, '아버지': 2960, '휴일': 2961, '낮': 2962, '침대': 2963, '눕다': 2964, '틀어주다': 2965, '벌떡': 2966, '해리슨': 2967, '포드': 2968, '영화광': 2969, '자주': 2970, '미학': 2971, '안타': 2972, '충분': 2973, '교육': 2974, '꿀잼': 2975, '소유': 2976, '서인영': 2977, '흑백': 2978, '쇼핑몰': 2979, '여러분': 2980, '와아': 2981, '두근두근': 2982, '익스트림': 2983, '폭력': 2984, '실험': 2985, '저만': 2986, '수트': 2987, '미남': 2988, '으루': 2989, '권유': 2990, '창조': 2991, '중복': 2992, '겠다': 2993, '나발': 2994, '보드': 2995, '누르다': 2996, '파트': 2997, '개떡': 2998, '농촌': 2999, '리그': 3000, '옴니버스': 3001, '피로': 3002, '극복': 3003, '얼음': 3004, '단독': 3005, '평소': 3006, '여호와': 3007, '증인': 3008, '가능하다': 3009, '탁재훈': 3010, '믄': 3011, '재밌': 3012, '와이': 3013, '라지': 3014, '무치다': 3015, '뒈지다': 3016, '정서': 3017, '선': 3018, '흔하다': 3019, '섬머': 3020, '힘알': 3021, '맥': 3022, '엽기': 3023, '괴짜': 3024, '메다': 3025, '특이하다': 3026, '나루토': 3027, '정당하다': 3028, '보상': 3029, '일정': 3030, '성취': 3031, '결실': 3032, '거두다': 3033, '아씨': 3034, '이미': 3035, '일어나다': 3036, '함께': 3037, '전율': 3038, '여기저기': 3039, '지저분하다': 3040, '연애': 3041, '갈겨쓰다': 3042, '카타르': 3043, '시스': 3044, '값지다': 3045, '린': 3046, '제이': 3047, '차안': 3048, '전화통화': 3049, '가까이': 3050, '구경': 3051, '폰부스': 3052, '현기증': 3053, '되돌아보다': 3054, '조금씩': 3055, '킬': 3056, '려면': 3057, '확': 3058, '던지다': 3059, '어정쩡하다': 3060, '개판': 3061, '총': 3062, '그걸': 3063, '흩어지다': 3064, '일방': 3065, '밀리': 3066, '식인종': 3067, '어쩌': 3068, '식인': 3069, '인성': 3070, '말살': 3071, '신도': 3072, '낭만': 3073, '민권': 3074, '운동': 3075, '사르다': 3076, '요약': 3077, '뛰어내리다': 3078, '줌': 3079, 'ㅋㅋㅋㅋㅋㅋㅋㅋㅋ': 3080, '셈': 3081, '구식': 3082, '알리다': 3083, '끝내주다': 3084, '유투브': 3085, '지하철': 3086, '기관사': 3087, '스타워즈': 3088, '다스베이더': 3089, '탄생': 3090, '루크': 3091, '레이어': 3092, '운명': 3093, '소희': 3094, '졸귀': 3095, '소문나다': 3096, '잔치': 3097, '호화': 3098, '주성치': 3099, '우우': 3100, '웃': 3101, '교과서': 3102, '플레이': 3103, '귀찮다': 3104, '손발': 3105, '후속작': 3106, '간직': 3107, '꺼내다': 3108, '화영': 3109, '나영': 3110, '머싯': 3111, '고래': 3112, '마리': 3113, '국가': 3114, '호들갑': 3115, '참으로': 3116, '주말': 3117, '밤새': 3118, '완주': 3119, '뮬란': 3120, '전쟁씬': 3121, '맑음': 3122, '파문': 3123, '김윤진': 3124, '무리수': 3125, '기획': 3126, '상품': 3127, '홀로': 3128, '더불다': 3129, '아마겟돈': 3130, '악몽': 3131, '각본': 3132, '개념': 3133, '고결하다': 3134, '신사': 3135, '하셧을까': 3136, '캬': 3137, 'ㅎㅎㅎㅎ': 3138, '김소현': 3139, '팬': 3140, '삐': 3141, '에로': 3142, '아웃': 3143, '되게': 3144, '접영': 3145, '도르다': 3146, '넘어서다': 3147, '왈가': 3148, '왈부': 3149, '굿굿굿': 3150, '또해': 3151, '주님': 3152, '미성년': 3153, '순결': 3154, '바치': 3155, '데인': 3156, '명문': 3157, '빈센트': 3158, '양반': 3159, '다세포': 3160, '잡': 3161, '흥': 3162, '새끼': 3163, '종인': 3164, '예원': 3165, '울': 3166, '동안': 3167, '통틀어': 3168, '남아돌다': 3169, '역대': 3170, '보신': 3171, '분들': 3172, '오는': 3173, '현재': 3174, '전지현': 3175, '피디': 3176, '에여': 3177, '쨋': 3178, '달기지': 3179, '미니어쳐': 3180, '팍팍': 3181, '뢔매': 3182, '정여립': 3183, '정철': 3184, '기축옥사': 3185, '케미': 3186, 'ㅠㅠㅠㅠ': 3187, '줄다': 3188, '실험영화': 3189, 'ㅋㅋㅋㅋㅋㅋㅋㅋㅋㅋㅋㅋㅋ': 3190, '옛': 3191, '처먹어랔': 3192, '에일리언': 3193, '쇼핑': 3194, '잊혀지다': 3195, '어떡하다': 3196, '색채': 3197, '아프다': 3198, '대로': 3199, '화려': 3200, '리리': 3201, '심정': 3202, '가지다': 3203, '옌': 3204, '도보': 3205, '소름': 3206, '사랑받다': 3207, '허전하다': 3208, '수이': 3209, '고양이': 3210, '대학교': 3211, '졸업': 3212, '담다': 3213, '최강': 3214, '부대': 3215, '기세': 3216, '에이즈': 3217, '운동화': 3218, '마이': 3219, '프렌드': 3220, '년후': 3221, 'ㅅㅎㅎㅎ': 3222, '설리': 3223, '년생': 3224, '충돌': 3225, '만큼이나': 3226, '거룩하다': 3227, '구려': 3228, '오오': 3229, '여태': 3230, '맷': 3231, '데이먼': 3232, '얼티': 3233, '메이': 3234, '텀': 3235, '뿐이다': 3236, '굿윌헌팅도쩐당': 3237, '로그인': 3238, '이여': 3239, '현정': 3240, '줄거리': 3241, '희한하다': 3242, '편집': 3243, '말아먹다': 3244, '저렇게': 3245, '케릭': 3246, '미장센': 3247, '불필요하다': 3248, '노인': 3249, '한나': 3250, '먼저': 3251, '사로잡히다': 3252, '누나': 3253, '마이클': 3254, '베이': 3255, '블록버스터': 3256, '필수': 3257, '메간폭스': 3258, '미달': 3259, '태도': 3260, '고치다': 3261, '파괴': 3262, '알콜중독자': 3263, '덕': 3264, '중견': 3265, '술사': 3266, '헛': 3267, '실물': 3268, '어유': 3269, '번역': 3270, '바보': 3271, '거여': 3272, '성인': 3273, '이집트': 3274, '왕자': 3275, '스퀘어': 3276, '닉스': 3277, '합병': 3278, '소림사': 3279, '관문': 3280, '통과': 3281, '반갑다': 3282, 'ㅠㅠㅠㅠㅠㅠㅠㅠ': 3283, '뻥': 3284, '뚫리다': 3285}\n"
          ]
        }
      ]
    },
    {
      "cell_type": "code",
      "metadata": {
        "colab": {
          "base_uri": "https://localhost:8080/"
        },
        "id": "FiiMAiY3ve86",
        "outputId": "29b77a92-367e-48fb-f669-f778963b1225"
      },
      "source": [
        "# 등장 빈도수가 3회 미만인 단어들이 이 데이터에서 얼만큼의 비중을 차지하는지 확인\n",
        "threshold = 3\n",
        "total_cnt = len(tokenizer.word_index) # 단어의 수\n",
        "rare_cnt = 0 # 등장 빈도수가 threshold보다 작은 단어의 개수를 카운트\n",
        "total_freq = 0 # 훈련 데이터의 전체 단어 빈도수 총 합\n",
        "rare_freq = 0 # 등장 빈도수가 threshold보다 작은 단어의 등장 빈도수의 총 합\n",
        "\n",
        "# 단어와 빈도수의 쌍(pair)을 key와 value로 받는다.\n",
        "for key, value in tokenizer.word_counts.items():\n",
        "    total_freq = total_freq + value\n",
        "\n",
        "    # 단어의 등장 빈도수가 threshold보다 작으면\n",
        "    if(value < threshold):\n",
        "        rare_cnt = rare_cnt + 1\n",
        "        rare_freq = rare_freq + value\n",
        "\n",
        "print('단어 집합(vocabulary)의 크기 :',total_cnt)\n",
        "print('등장 빈도가 %s번 이하인 희귀 단어의 수: %s'%(threshold - 1, rare_cnt))\n",
        "print(\"단어 집합에서 희귀 단어의 비율:\", (rare_cnt / total_cnt)*100)\n",
        "print(\"전체 등장 빈도에서 희귀 단어 등장 빈도 비율:\", (rare_freq / total_freq)*100)"
      ],
      "execution_count": 43,
      "outputs": [
        {
          "output_type": "stream",
          "name": "stdout",
          "text": [
            "단어 집합(vocabulary)의 크기 : 3285\n",
            "등장 빈도가 2번 이하인 희귀 단어의 수: 2489\n",
            "단어 집합에서 희귀 단어의 비율: 75.76864535768645\n",
            "전체 등장 빈도에서 희귀 단어 등장 빈도 비율: 26.91852526172053\n"
          ]
        }
      ]
    },
    {
      "cell_type": "code",
      "metadata": {
        "colab": {
          "base_uri": "https://localhost:8080/"
        },
        "id": "sBn-TsMKvv_v",
        "outputId": "cb9f45c1-094f-45d6-aa0e-4db4c94ca930"
      },
      "source": [
        "# 등장 빈도수가 2이하인 단어들의 수를 제외한 단어의 개수를 단어 집합의 최대 크기로 제한\n",
        "# 전체 단어 개수 중 빈도수 2이하인 단어는 제거.\n",
        "# 0번 패딩 토큰을 고려하여 + 1\n",
        "vocab_size = total_cnt - rare_cnt + 1\n",
        "print('단어 집합의 크기 :',vocab_size)"
      ],
      "execution_count": 44,
      "outputs": [
        {
          "output_type": "stream",
          "name": "stdout",
          "text": [
            "단어 집합의 크기 : 797\n"
          ]
        }
      ]
    },
    {
      "cell_type": "code",
      "metadata": {
        "id": "n3gpSr3uwgPH"
      },
      "source": [
        "# 케라스 토크나이저는 텍스트 시퀀스를 숫자 시퀀스로 변환\n",
        "tokenizer = Tokenizer(vocab_size) \n",
        "tokenizer.fit_on_texts(X_train)\n",
        "X_train = tokenizer.texts_to_sequences(X_train)\n",
        "X_test = tokenizer.texts_to_sequences(X_test)"
      ],
      "execution_count": 45,
      "outputs": []
    },
    {
      "cell_type": "code",
      "metadata": {
        "colab": {
          "base_uri": "https://localhost:8080/"
        },
        "id": "HxOxcd8ky8Jy",
        "outputId": "f44730aa-4a3d-44b3-d025-195e441a3892"
      },
      "source": [
        "# X_train에 대해서 상위 3개의 샘플만 출력\n",
        "print(X_train[:3])"
      ],
      "execution_count": 46,
      "outputs": [
        {
          "output_type": "stream",
          "name": "stdout",
          "text": [
            "[[50, 356, 9, 170], [220, 29, 570, 1, 107, 571, 18, 572, 28], [436, 2, 287, 8]]\n"
          ]
        }
      ]
    },
    {
      "cell_type": "code",
      "metadata": {
        "id": "vzGvYouYzA5s"
      },
      "source": [
        "y_train = np.array(train_data['label'])\n",
        "y_test = np.array(test_data['label'])"
      ],
      "execution_count": 47,
      "outputs": []
    },
    {
      "cell_type": "markdown",
      "metadata": {
        "id": "NpauKXjn0qjN"
      },
      "source": [
        "### 1.5 빈 샘플 제거"
      ]
    },
    {
      "cell_type": "code",
      "metadata": {
        "id": "5E7yomeh0pm_"
      },
      "source": [
        "# 전체 데이터에서 빈도수가 낮은 단어가 삭제되었다는 것은 빈도수가 낮은 단어만으로 구성되었던 샘플들은 이제 빈(empty) 샘플이 되었다는 것을 의미\n",
        "# 빈 샘플들을 제거\n",
        "# 길이가 0인 샘플들의 인덱스\n",
        "drop_train = [index for index, sentence in enumerate(X_train) if len(sentence) < 1]"
      ],
      "execution_count": 50,
      "outputs": []
    },
    {
      "cell_type": "code",
      "metadata": {
        "colab": {
          "base_uri": "https://localhost:8080/"
        },
        "id": "Zyknw6X_06Zi",
        "outputId": "8f87ea9f-f56f-4306-bdcb-3d695ceb4aa1"
      },
      "source": [
        "# 빈 샘플들을 제거\n",
        "X_train = np.delete(X_train, drop_train, axis=0)\n",
        "y_train = np.delete(y_train, drop_train, axis=0)\n",
        "print(len(X_train))\n",
        "print(len(y_train))"
      ],
      "execution_count": 51,
      "outputs": [
        {
          "output_type": "stream",
          "name": "stdout",
          "text": [
            "984\n",
            "984\n"
          ]
        },
        {
          "output_type": "stream",
          "name": "stderr",
          "text": [
            "/usr/local/lib/python3.7/dist-packages/numpy/core/_asarray.py:83: VisibleDeprecationWarning: Creating an ndarray from ragged nested sequences (which is a list-or-tuple of lists-or-tuples-or ndarrays with different lengths or shapes) is deprecated. If you meant to do this, you must specify 'dtype=object' when creating the ndarray\n",
            "  return array(a, dtype, copy=False, order=order)\n"
          ]
        }
      ]
    },
    {
      "cell_type": "markdown",
      "metadata": {
        "id": "6zG-2EYB1qsJ"
      },
      "source": [
        "### 1.6 패딩"
      ]
    },
    {
      "cell_type": "code",
      "metadata": {
        "colab": {
          "base_uri": "https://localhost:8080/",
          "height": 316
        },
        "id": "7ZrmYMI21jwj",
        "outputId": "70df8a3e-cbe5-4f2c-f157-2eafde102df9"
      },
      "source": [
        "print('리뷰의 최대 길이 :',max(len(l) for l in X_train))\n",
        "print('리뷰의 평균 길이 :',sum(map(len, X_train))/len(X_train))\n",
        "plt.hist([len(s) for s in X_train], bins=50)\n",
        "plt.xlabel('length of samples')\n",
        "plt.ylabel('number of samples')\n",
        "plt.show()"
      ],
      "execution_count": 52,
      "outputs": [
        {
          "output_type": "stream",
          "name": "stdout",
          "text": [
            "리뷰의 최대 길이 : 38\n",
            "리뷰의 평균 길이 : 8.158536585365853\n"
          ]
        },
        {
          "output_type": "display_data",
          "data": {
            "image/png": "[encoded data removed]",
            "text/plain": [
              "<Figure size 432x288 with 1 Axes>"
            ]
          },
          "metadata": {
            "needs_background": "light"
          }
        }
      ]
    },
    {
      "cell_type": "code",
      "metadata": {
        "id": "UrH-UGu71u7_"
      },
      "source": [
        "def below_threshold_len(max_len, nested_list):\n",
        "  count = 0\n",
        "  for sentence in nested_list:\n",
        "    if(len(sentence) <= max_len):\n",
        "        count = count + 1\n",
        "  print('전체 샘플 중 길이가 %s 이하인 샘플의 비율: %s'%(max_len, (count / len(nested_list))*100))"
      ],
      "execution_count": 53,
      "outputs": []
    },
    {
      "cell_type": "code",
      "metadata": {
        "colab": {
          "base_uri": "https://localhost:8080/"
        },
        "id": "L-uXQFuM12cx",
        "outputId": "05e03514-c213-4cd3-a579-c89e19fb6e9c"
      },
      "source": [
        "max_len = 25\n",
        "below_threshold_len(max_len, X_train)"
      ],
      "execution_count": 57,
      "outputs": [
        {
          "output_type": "stream",
          "name": "stdout",
          "text": [
            "전체 샘플 중 길이가 25 이하인 샘플의 비율: 95.9349593495935\n"
          ]
        }
      ]
    },
    {
      "cell_type": "code",
      "metadata": {
        "id": "aJ1z6cro19L2"
      },
      "source": [
        "# 모든 샘플의 길이를 25로 맞춤\n",
        "X_train = pad_sequences(X_train, maxlen = max_len)\n",
        "X_test = pad_sequences(X_test, maxlen = max_len)"
      ],
      "execution_count": 58,
      "outputs": []
    },
    {
      "cell_type": "markdown",
      "metadata": {
        "id": "SiXkMxsl2L2q"
      },
      "source": [
        "## 2. LSTM으로 네이버 영화 리뷰 감성 분류하기"
      ]
    },
    {
      "cell_type": "code",
      "metadata": {
        "id": "42vQak2W2KV_"
      },
      "source": [
        "from tensorflow.keras.layers import Embedding, Dense, LSTM\n",
        "from tensorflow.keras.models import Sequential\n",
        "from tensorflow.keras.models import load_model\n",
        "from tensorflow.keras.callbacks import EarlyStopping, ModelCheckpoint"
      ],
      "execution_count": 59,
      "outputs": []
    },
    {
      "cell_type": "code",
      "metadata": {
        "id": "sMrm1c4c2Pnh"
      },
      "source": [
        "embedding_dim = 100  # 임베딩 벡터의 차원\n",
        "hidden_units = 128\n",
        "\n",
        "model = Sequential()\n",
        "model.add(Embedding(vocab_size, embedding_dim))\n",
        "model.add(LSTM(hidden_units)) # 리뷰 분류를 위해서 LSTM 사용\n",
        "model.add(Dense(1, activation='sigmoid'))"
      ],
      "execution_count": 60,
      "outputs": []
    },
    {
      "cell_type": "code",
      "metadata": {
        "id": "W8eRFNyc2VRN"
      },
      "source": [
        "# 검증 데이터 손실(val_loss)이 증가하면, 과적합 징후므로 검증 데이터 손실이 4회 증가하면 학습을 조기 종료(Early Stopping)\n",
        "# ModelCheckpoint를 사용하여 검증 데이터의 정확도(val_acc)가 이전보다 좋아질 경우에만 모델을 저장\n",
        "\n",
        "es = EarlyStopping(monitor='val_loss', mode='min', verbose=1, patience=4)\n",
        "mc = ModelCheckpoint('best_model.h5', monitor='val_acc', mode='max', verbose=1, save_best_only=True)"
      ],
      "execution_count": 61,
      "outputs": []
    },
    {
      "cell_type": "code",
      "metadata": {
        "colab": {
          "base_uri": "https://localhost:8080/"
        },
        "id": "lk92HJnd2sRW",
        "outputId": "9bf24d23-dad9-4b8c-d902-c0534095a7e7"
      },
      "source": [
        "# 에포크는 총 15번을 수행\n",
        "# 훈련 데이터 중 20%를 검증 데이터로 사용하면서 정확도를 확인\n",
        "\n",
        "model.compile(optimizer='rmsprop', loss='binary_crossentropy', metrics=['acc'])\n",
        "history = model.fit(X_train, y_train, epochs=15, callbacks=[es, mc], batch_size=64, validation_split=0.2)"
      ],
      "execution_count": 62,
      "outputs": [
        {
          "output_type": "stream",
          "name": "stdout",
          "text": [
            "Epoch 1/15\n",
            "13/13 [==============================] - 5s 137ms/step - loss: 0.6885 - acc: 0.5794 - val_loss: 0.6894 - val_acc: 0.5076\n",
            "\n",
            "Epoch 00001: val_acc improved from -inf to 0.50761, saving model to best_model.h5\n",
            "Epoch 2/15\n",
            "13/13 [==============================] - 1s 67ms/step - loss: 0.6356 - acc: 0.7471 - val_loss: 0.6267 - val_acc: 0.6650\n",
            "\n",
            "Epoch 00002: val_acc improved from 0.50761 to 0.66497, saving model to best_model.h5\n",
            "Epoch 3/15\n",
            "13/13 [==============================] - 1s 66ms/step - loss: 0.4983 - acc: 0.8196 - val_loss: 0.6092 - val_acc: 0.6802\n",
            "\n",
            "Epoch 00003: val_acc improved from 0.66497 to 0.68020, saving model to best_model.h5\n",
            "Epoch 4/15\n",
            "13/13 [==============================] - 1s 67ms/step - loss: 0.4264 - acc: 0.8399 - val_loss: 0.6201 - val_acc: 0.6802\n",
            "\n",
            "Epoch 00004: val_acc did not improve from 0.68020\n",
            "Epoch 5/15\n",
            "13/13 [==============================] - 1s 66ms/step - loss: 0.3410 - acc: 0.8679 - val_loss: 0.7643 - val_acc: 0.6701\n",
            "\n",
            "Epoch 00005: val_acc did not improve from 0.68020\n",
            "Epoch 6/15\n",
            "13/13 [==============================] - 1s 65ms/step - loss: 0.2976 - acc: 0.8755 - val_loss: 0.7285 - val_acc: 0.6701\n",
            "\n",
            "Epoch 00006: val_acc did not improve from 0.68020\n",
            "Epoch 7/15\n",
            "13/13 [==============================] - 1s 65ms/step - loss: 0.2514 - acc: 0.8971 - val_loss: 0.7666 - val_acc: 0.6751\n",
            "\n",
            "Epoch 00007: val_acc did not improve from 0.68020\n",
            "Epoch 00007: early stopping\n"
          ]
        }
      ]
    },
    {
      "cell_type": "code",
      "metadata": {
        "colab": {
          "base_uri": "https://localhost:8080/"
        },
        "id": "b07pfnoS214R",
        "outputId": "2ea3b677-6f8f-40d1-f508-e1bd7ad80d39"
      },
      "source": [
        "# 훈련 과정에서 검증 데이터의 정확도가 가장 높았을 때 저장된 모델인 'best_model.h5'를 로드\n",
        "\n",
        "loaded_model = load_model('best_model.h5')\n",
        "print(\"\\n 테스트 정확도: %.4f\" % (loaded_model.evaluate(X_test, y_test)[1]))"
      ],
      "execution_count": 63,
      "outputs": [
        {
          "output_type": "stream",
          "name": "stdout",
          "text": [
            "32/32 [==============================] - 1s 11ms/step - loss: 0.5970 - acc: 0.6840\n",
            "\n",
            " 테스트 정확도: 0.6840\n"
          ]
        }
      ]
    },
    {
      "cell_type": "markdown",
      "metadata": {
        "id": "pd58EjOR3MIJ"
      },
      "source": [
        "## 3. 리뷰 예측해보기"
      ]
    },
    {
      "cell_type": "code",
      "metadata": {
        "id": "sG37EXEs3KNe"
      },
      "source": [
        "#  model.fit()을 할 때와 마찬가지로 새로운 입력에 대해서도 동일한 전처리를 수행 후에 model.predict()의 입력으로 사용해야 함\n",
        "def sentiment_predict(new_sentence):\n",
        "  new_sentence = re.sub(r'[^ㄱ-ㅎㅏ-ㅣ가-힣 ]','', new_sentence)\n",
        "  new_sentence = okt.morphs(new_sentence, stem=True) # 토큰화\n",
        "  new_sentence = [word for word in new_sentence if not word in stopwords] # 불용어 제거\n",
        "  encoded = tokenizer.texts_to_sequences([new_sentence]) # 정수 인코딩\n",
        "  pad_new = pad_sequences(encoded, maxlen = max_len) # 패딩\n",
        "  score = float(loaded_model.predict(pad_new)) # 예측\n",
        "  if(score > 0.5):\n",
        "    print(\"{:.2f}% 확률로 긍정 리뷰입니다.\\n\".format(score * 100))\n",
        "  else:\n",
        "    print(\"{:.2f}% 확률로 부정 리뷰입니다.\\n\".format((1 - score) * 100))"
      ],
      "execution_count": 64,
      "outputs": []
    },
    {
      "cell_type": "code",
      "metadata": {
        "colab": {
          "base_uri": "https://localhost:8080/"
        },
        "id": "ae9JWml43V92",
        "outputId": "637c0a0b-7692-43dc-c7d7-8bb0623157f8"
      },
      "source": [
        "sentiment_predict('이 영화 개꿀잼 ㅋㅋㅋ')"
      ],
      "execution_count": 65,
      "outputs": [
        {
          "output_type": "stream",
          "name": "stdout",
          "text": [
            "65.44% 확률로 긍정 리뷰입니다.\n",
            "\n"
          ]
        }
      ]
    },
    {
      "cell_type": "code",
      "metadata": {
        "colab": {
          "base_uri": "https://localhost:8080/"
        },
        "id": "aW7EyFv73XlM",
        "outputId": "49baed4e-478b-44a6-e1f1-a54ce8623053"
      },
      "source": [
        "sentiment_predict('이 영화 핵노잼 ㅠㅠ')"
      ],
      "execution_count": 70,
      "outputs": [
        {
          "output_type": "stream",
          "name": "stdout",
          "text": [
            "68.70% 확률로 긍정 리뷰입니다.\n",
            "\n"
          ]
        }
      ]
    },
    {
      "cell_type": "code",
      "metadata": {
        "colab": {
          "base_uri": "https://localhost:8080/"
        },
        "id": "fJVy5WKl3ZQN",
        "outputId": "bdb0ab0c-8f47-4b12-f700-f041478121e2"
      },
      "source": [
        "sentiment_predict('이딴게 영화냐 ㅉㅉ')"
      ],
      "execution_count": 67,
      "outputs": [
        {
          "output_type": "stream",
          "name": "stdout",
          "text": [
            "52.19% 확률로 부정 리뷰입니다.\n",
            "\n"
          ]
        }
      ]
    },
    {
      "cell_type": "code",
      "metadata": {
        "colab": {
          "base_uri": "https://localhost:8080/"
        },
        "id": "IgxO086-3bOT",
        "outputId": "ac6971b3-3191-4644-8892-d25814c17927"
      },
      "source": [
        "sentiment_predict('감독 뭐하는 놈이냐?')"
      ],
      "execution_count": 68,
      "outputs": [
        {
          "output_type": "stream",
          "name": "stdout",
          "text": [
            "66.01% 확률로 부정 리뷰입니다.\n",
            "\n"
          ]
        }
      ]
    },
    {
      "cell_type": "code",
      "metadata": {
        "colab": {
          "base_uri": "https://localhost:8080/"
        },
        "id": "c0bheBTK3c4i",
        "outputId": "a924970d-493a-4cfe-c16a-78253431553c"
      },
      "source": [
        "sentiment_predict('와 개쩐다 정말 세계관 최강자들의 영화다')"
      ],
      "execution_count": 69,
      "outputs": [
        {
          "output_type": "stream",
          "name": "stdout",
          "text": [
            "60.28% 확률로 긍정 리뷰입니다.\n",
            "\n"
          ]
        }
      ]
    }
  ]
}