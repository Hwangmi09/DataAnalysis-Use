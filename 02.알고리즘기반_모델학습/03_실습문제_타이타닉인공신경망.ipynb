{
  "nbformat": 4,
  "nbformat_minor": 0,
  "metadata": {
    "colab": {
      "name": "03_실습문제_타이타닉인공신경망.ipynb",
      "provenance": [],
      "collapsed_sections": []
    },
    "kernelspec": {
      "name": "python3",
      "display_name": "Python 3"
    },
    "language_info": {
      "name": "python"
    }
  },
  "cells": [
    {
      "cell_type": "markdown",
      "metadata": {
        "id": "KGOiydXGZsqK"
      },
      "source": [
        "# 텐서플로우를 이용한 분류분석"
      ]
    },
    {
      "cell_type": "code",
      "metadata": {
        "id": "Y8Gos1RYcyBC"
      },
      "source": [
        "import tensorflow as tf    # 구글이 제공하는 인공지능 관련 함수가 제공되는 텐서2.0으로 세팅\n",
        "import pandas as pd    #행열로 구성되어 있는 데이터베이스 자료를 처리하는 모듈\n",
        "import matplotlib.pyplot as plt   # 차트제공하는 모듈\n",
        "import numpy as np"
      ],
      "execution_count": 16,
      "outputs": []
    },
    {
      "cell_type": "code",
      "metadata": {
        "colab": {
          "base_uri": "https://localhost:8080/"
        },
        "id": "psC06GnBc4bP",
        "outputId": "92f2ae8e-1ee4-4b79-b8dd-2d5cb1872dd6"
      },
      "source": [
        "from google.colab import drive\n",
        "drive.mount('/content/drive')"
      ],
      "execution_count": 2,
      "outputs": [
        {
          "output_type": "stream",
          "name": "stdout",
          "text": [
            "Mounted at /content/drive\n"
          ]
        }
      ]
    },
    {
      "cell_type": "code",
      "metadata": {
        "colab": {
          "base_uri": "https://localhost:8080/"
        },
        "id": "UkweW_k5eIqe",
        "outputId": "a485f4cc-aab8-45c5-fec8-9c58a0f4b952"
      },
      "source": [
        "cd /content/drive/MyDrive/데이터/텐서플로우"
      ],
      "execution_count": 3,
      "outputs": [
        {
          "output_type": "stream",
          "name": "stdout",
          "text": [
            "/content/drive/MyDrive/데이터/텐서플로우\n"
          ]
        }
      ]
    },
    {
      "cell_type": "markdown",
      "metadata": {
        "id": "H871fc2eeSmr"
      },
      "source": [
        "## 1. 데이터 살펴보기"
      ]
    },
    {
      "cell_type": "code",
      "metadata": {
        "colab": {
          "base_uri": "https://localhost:8080/",
          "height": 204
        },
        "id": "nT5ZHP6cdH4m",
        "outputId": "146ecf65-0e9c-40ed-f668-9c774e7bf12b"
      },
      "source": [
        "df = pd.read_excel('titanic.xls')\n",
        "df.head()\n",
        "# survived: 이항분류할지 다항분류할지(원핫인코딩)"
      ],
      "execution_count": 4,
      "outputs": [
        {
          "output_type": "execute_result",
          "data": {
            "text/html": [
              "<div>\n",
              "<style scoped>\n",
              "    .dataframe tbody tr th:only-of-type {\n",
              "        vertical-align: middle;\n",
              "    }\n",
              "\n",
              "    .dataframe tbody tr th {\n",
              "        vertical-align: top;\n",
              "    }\n",
              "\n",
              "    .dataframe thead th {\n",
              "        text-align: right;\n",
              "    }\n",
              "</style>\n",
              "<table border=\"1\" class=\"dataframe\">\n",
              "  <thead>\n",
              "    <tr style=\"text-align: right;\">\n",
              "      <th></th>\n",
              "      <th>pclass</th>\n",
              "      <th>survived</th>\n",
              "      <th>name</th>\n",
              "      <th>sex</th>\n",
              "      <th>age</th>\n",
              "      <th>sibsp</th>\n",
              "      <th>parch</th>\n",
              "      <th>ticket</th>\n",
              "      <th>fare</th>\n",
              "      <th>cabin</th>\n",
              "      <th>embarked</th>\n",
              "      <th>boat</th>\n",
              "      <th>body</th>\n",
              "      <th>home.dest</th>\n",
              "    </tr>\n",
              "  </thead>\n",
              "  <tbody>\n",
              "    <tr>\n",
              "      <th>0</th>\n",
              "      <td>1</td>\n",
              "      <td>1</td>\n",
              "      <td>Allen, Miss. Elisabeth Walton</td>\n",
              "      <td>female</td>\n",
              "      <td>29.0000</td>\n",
              "      <td>0</td>\n",
              "      <td>0</td>\n",
              "      <td>24160</td>\n",
              "      <td>211.3375</td>\n",
              "      <td>B5</td>\n",
              "      <td>S</td>\n",
              "      <td>2</td>\n",
              "      <td>NaN</td>\n",
              "      <td>St Louis, MO</td>\n",
              "    </tr>\n",
              "    <tr>\n",
              "      <th>1</th>\n",
              "      <td>1</td>\n",
              "      <td>1</td>\n",
              "      <td>Allison, Master. Hudson Trevor</td>\n",
              "      <td>male</td>\n",
              "      <td>0.9167</td>\n",
              "      <td>1</td>\n",
              "      <td>2</td>\n",
              "      <td>113781</td>\n",
              "      <td>151.5500</td>\n",
              "      <td>C22 C26</td>\n",
              "      <td>S</td>\n",
              "      <td>11</td>\n",
              "      <td>NaN</td>\n",
              "      <td>Montreal, PQ / Chesterville, ON</td>\n",
              "    </tr>\n",
              "    <tr>\n",
              "      <th>2</th>\n",
              "      <td>1</td>\n",
              "      <td>0</td>\n",
              "      <td>Allison, Miss. Helen Loraine</td>\n",
              "      <td>female</td>\n",
              "      <td>2.0000</td>\n",
              "      <td>1</td>\n",
              "      <td>2</td>\n",
              "      <td>113781</td>\n",
              "      <td>151.5500</td>\n",
              "      <td>C22 C26</td>\n",
              "      <td>S</td>\n",
              "      <td>NaN</td>\n",
              "      <td>NaN</td>\n",
              "      <td>Montreal, PQ / Chesterville, ON</td>\n",
              "    </tr>\n",
              "    <tr>\n",
              "      <th>3</th>\n",
              "      <td>1</td>\n",
              "      <td>0</td>\n",
              "      <td>Allison, Mr. Hudson Joshua Creighton</td>\n",
              "      <td>male</td>\n",
              "      <td>30.0000</td>\n",
              "      <td>1</td>\n",
              "      <td>2</td>\n",
              "      <td>113781</td>\n",
              "      <td>151.5500</td>\n",
              "      <td>C22 C26</td>\n",
              "      <td>S</td>\n",
              "      <td>NaN</td>\n",
              "      <td>135.0</td>\n",
              "      <td>Montreal, PQ / Chesterville, ON</td>\n",
              "    </tr>\n",
              "    <tr>\n",
              "      <th>4</th>\n",
              "      <td>1</td>\n",
              "      <td>0</td>\n",
              "      <td>Allison, Mrs. Hudson J C (Bessie Waldo Daniels)</td>\n",
              "      <td>female</td>\n",
              "      <td>25.0000</td>\n",
              "      <td>1</td>\n",
              "      <td>2</td>\n",
              "      <td>113781</td>\n",
              "      <td>151.5500</td>\n",
              "      <td>C22 C26</td>\n",
              "      <td>S</td>\n",
              "      <td>NaN</td>\n",
              "      <td>NaN</td>\n",
              "      <td>Montreal, PQ / Chesterville, ON</td>\n",
              "    </tr>\n",
              "  </tbody>\n",
              "</table>\n",
              "</div>"
            ],
            "text/plain": [
              "   pclass  survived  ...   body                        home.dest\n",
              "0       1         1  ...    NaN                     St Louis, MO\n",
              "1       1         1  ...    NaN  Montreal, PQ / Chesterville, ON\n",
              "2       1         0  ...    NaN  Montreal, PQ / Chesterville, ON\n",
              "3       1         0  ...  135.0  Montreal, PQ / Chesterville, ON\n",
              "4       1         0  ...    NaN  Montreal, PQ / Chesterville, ON\n",
              "\n",
              "[5 rows x 14 columns]"
            ]
          },
          "metadata": {},
          "execution_count": 4
        }
      ]
    },
    {
      "cell_type": "code",
      "metadata": {
        "colab": {
          "base_uri": "https://localhost:8080/"
        },
        "id": "-cjqnM4xeFLD",
        "outputId": "00e1ce56-4fb6-4af1-de3d-3861c221df2a"
      },
      "source": [
        "df.info()"
      ],
      "execution_count": 5,
      "outputs": [
        {
          "output_type": "stream",
          "name": "stdout",
          "text": [
            "<class 'pandas.core.frame.DataFrame'>\n",
            "RangeIndex: 1309 entries, 0 to 1308\n",
            "Data columns (total 14 columns):\n",
            " #   Column     Non-Null Count  Dtype  \n",
            "---  ------     --------------  -----  \n",
            " 0   pclass     1309 non-null   int64  \n",
            " 1   survived   1309 non-null   int64  \n",
            " 2   name       1309 non-null   object \n",
            " 3   sex        1309 non-null   object \n",
            " 4   age        1046 non-null   float64\n",
            " 5   sibsp      1309 non-null   int64  \n",
            " 6   parch      1309 non-null   int64  \n",
            " 7   ticket     1309 non-null   object \n",
            " 8   fare       1308 non-null   float64\n",
            " 9   cabin      295 non-null    object \n",
            " 10  embarked   1307 non-null   object \n",
            " 11  boat       486 non-null    object \n",
            " 12  body       121 non-null    float64\n",
            " 13  home.dest  745 non-null    object \n",
            "dtypes: float64(3), int64(4), object(7)\n",
            "memory usage: 143.3+ KB\n"
          ]
        }
      ]
    },
    {
      "cell_type": "markdown",
      "metadata": {
        "id": "HdBLPRareNm7"
      },
      "source": [
        "- 데이터 전처리"
      ]
    },
    {
      "cell_type": "code",
      "metadata": {
        "id": "DpjH_Kewebr6"
      },
      "source": [
        "# 사이킷런 Label Encoding을 이용하여 성별을 0, 1로 변경함\n",
        "from sklearn.preprocessing import LabelEncoder\n",
        "labelen = LabelEncoder()\n",
        "df['sex'] = labelen.fit_transform(df['sex']) # f=0으로 m=1로 나옴\n",
        "# df['sex'] = [0 if x=='female' else 1 for x in df['sex']]"
      ],
      "execution_count": 6,
      "outputs": []
    },
    {
      "cell_type": "code",
      "metadata": {
        "colab": {
          "base_uri": "https://localhost:8080/"
        },
        "id": "bJZPRXW-fSyQ",
        "outputId": "aac56d2f-3e7f-4982-dc45-f1921d8b4686"
      },
      "source": [
        "# float64보다는 float32 사용을 권장\n",
        "df.info()"
      ],
      "execution_count": 10,
      "outputs": [
        {
          "output_type": "stream",
          "name": "stdout",
          "text": [
            "<class 'pandas.core.frame.DataFrame'>\n",
            "RangeIndex: 1309 entries, 0 to 1308\n",
            "Data columns (total 14 columns):\n",
            " #   Column     Non-Null Count  Dtype  \n",
            "---  ------     --------------  -----  \n",
            " 0   pclass     1309 non-null   int64  \n",
            " 1   survived   1309 non-null   int64  \n",
            " 2   name       1309 non-null   object \n",
            " 3   sex        1309 non-null   int64  \n",
            " 4   age        1046 non-null   float64\n",
            " 5   sibsp      1309 non-null   int64  \n",
            " 6   parch      1309 non-null   int64  \n",
            " 7   ticket     1309 non-null   object \n",
            " 8   fare       1308 non-null   float64\n",
            " 9   cabin      295 non-null    object \n",
            " 10  embarked   1307 non-null   object \n",
            " 11  boat       486 non-null    object \n",
            " 12  body       121 non-null    float64\n",
            " 13  home.dest  745 non-null    object \n",
            "dtypes: float64(3), int64(5), object(6)\n",
            "memory usage: 143.3+ KB\n"
          ]
        }
      ]
    },
    {
      "cell_type": "code",
      "metadata": {
        "id": "lqo3XuINfgdS"
      },
      "source": [
        "# 2019년 이전의 케라스 코드가 자료형때문에 에러 나는 케이스가 있음\n",
        "# 사용할 변수 데이터 type float64=> float32로 변경\n",
        "list_ = ['pclass', 'survived', 'sex', 'sibsp', 'parch', 'fare', 'age']\n",
        "\n",
        "# null값 제거\n",
        "for x in list_:\n",
        "    df[x] = df[x].astype('float32')\n",
        "    df = df[df[x].notnull()]"
      ],
      "execution_count": 7,
      "outputs": []
    },
    {
      "cell_type": "code",
      "metadata": {
        "colab": {
          "base_uri": "https://localhost:8080/"
        },
        "id": "_y--DClLgVVO",
        "outputId": "41405a7c-950c-417e-8aea-df755796382c"
      },
      "source": [
        "df.info()"
      ],
      "execution_count": 8,
      "outputs": [
        {
          "output_type": "stream",
          "name": "stdout",
          "text": [
            "<class 'pandas.core.frame.DataFrame'>\n",
            "Int64Index: 1045 entries, 0 to 1308\n",
            "Data columns (total 14 columns):\n",
            " #   Column     Non-Null Count  Dtype  \n",
            "---  ------     --------------  -----  \n",
            " 0   pclass     1045 non-null   float32\n",
            " 1   survived   1045 non-null   float32\n",
            " 2   name       1045 non-null   object \n",
            " 3   sex        1045 non-null   float32\n",
            " 4   age        1045 non-null   float32\n",
            " 5   sibsp      1045 non-null   float32\n",
            " 6   parch      1045 non-null   float32\n",
            " 7   ticket     1045 non-null   object \n",
            " 8   fare       1045 non-null   float32\n",
            " 9   cabin      272 non-null    object \n",
            " 10  embarked   1043 non-null   object \n",
            " 11  boat       417 non-null    object \n",
            " 12  body       119 non-null    float64\n",
            " 13  home.dest  685 non-null    object \n",
            "dtypes: float32(7), float64(1), object(6)\n",
            "memory usage: 93.9+ KB\n"
          ]
        }
      ]
    },
    {
      "cell_type": "markdown",
      "metadata": {
        "id": "ZGPNB_JKg5WU"
      },
      "source": [
        "## 2. x,y 데이터 분할"
      ]
    },
    {
      "cell_type": "code",
      "metadata": {
        "colab": {
          "base_uri": "https://localhost:8080/"
        },
        "id": "4n3U23cDgWK1",
        "outputId": "68b134a1-d885-4058-e862-f3170245e999"
      },
      "source": [
        "y = df['survived'].values  \n",
        "x = df.values[:, [0,3,4,5,6,8]]  \n",
        "\n",
        "#x = mushrooms.drop(['class'], axis=1) #axis는 열 드롭, 생략시 행 드롭\n",
        "#x = mushrooms.drop(['class'], axis=1).values로  numpy형식으로 보내도됨\n",
        "\n",
        "print(y[:5])   #class를 y값으로\n",
        "print(x[:5])   #class를 뺀 나머지를 x값으로 잡음. "
      ],
      "execution_count": 10,
      "outputs": [
        {
          "output_type": "stream",
          "name": "stdout",
          "text": [
            "[1. 1. 0. 0. 0.]\n",
            "[[1.0 0.0 29.0 0.0 0.0 211.33749389648438]\n",
            " [1.0 1.0 0.916700005531311 1.0 2.0 151.5500030517578]\n",
            " [1.0 0.0 2.0 1.0 2.0 151.5500030517578]\n",
            " [1.0 1.0 30.0 1.0 2.0 151.5500030517578]\n",
            " [1.0 0.0 25.0 1.0 2.0 151.5500030517578]]\n"
          ]
        }
      ]
    },
    {
      "cell_type": "code",
      "metadata": {
        "colab": {
          "base_uri": "https://localhost:8080/",
          "height": 340
        },
        "id": "X3NC79z5g3xa",
        "outputId": "83164dd5-d302-44b5-8942-95c65b668202"
      },
      "source": [
        "plt.hist(y) # 데이터의 불균형 확인"
      ],
      "execution_count": 17,
      "outputs": [
        {
          "output_type": "execute_result",
          "data": {
            "text/plain": [
              "(array([618.,   0.,   0.,   0.,   0.,   0.,   0.,   0.,   0., 427.]),\n",
              " array([0. , 0.1, 0.2, 0.3, 0.4, 0.5, 0.6, 0.7, 0.8, 0.9, 1. ],\n",
              "       dtype=float32),\n",
              " <a list of 10 Patch objects>)"
            ]
          },
          "metadata": {},
          "execution_count": 17
        },
        {
          "output_type": "display_data",
          "data": {
            "image/png": "[encoded data removed]",
            "text/plain": [
              "<Figure size 432x288 with 1 Axes>"
            ]
          },
          "metadata": {
            "needs_background": "light"
          }
        }
      ]
    },
    {
      "cell_type": "markdown",
      "metadata": {
        "id": "krZUleL7kzdK"
      },
      "source": [
        "### x,y값 타입 변환\n",
        "- 아래와 같은 에러 대처법\n",
        "- Failed to convert a NumPy array to a Tensor (Unsupported object type float)."
      ]
    },
    {
      "cell_type": "code",
      "metadata": {
        "colab": {
          "base_uri": "https://localhost:8080/"
        },
        "id": "FIVOzZSZlTxo",
        "outputId": "d0057092-58ee-4e58-f308-df0533b5b265"
      },
      "source": [
        "x.dtype, y.dtype"
      ],
      "execution_count": 14,
      "outputs": [
        {
          "output_type": "execute_result",
          "data": {
            "text/plain": [
              "(dtype('O'), dtype('float32'))"
            ]
          },
          "metadata": {},
          "execution_count": 14
        }
      ]
    },
    {
      "cell_type": "code",
      "metadata": {
        "colab": {
          "base_uri": "https://localhost:8080/"
        },
        "id": "JBuULns5koT6",
        "outputId": "4c3bcfd7-5f4e-4389-aadc-00d6c4b233f3"
      },
      "source": [
        "x = np.asarray(x).astype(np.float32)\n",
        "y = np.asarray(y).astype(np.float32)\n",
        "x.dtype, y.dtype"
      ],
      "execution_count": 18,
      "outputs": [
        {
          "output_type": "execute_result",
          "data": {
            "text/plain": [
              "(dtype('float32'), dtype('float32'))"
            ]
          },
          "metadata": {},
          "execution_count": 18
        }
      ]
    },
    {
      "cell_type": "markdown",
      "metadata": {
        "id": "ad-0kwSSk8EG"
      },
      "source": [
        "## 3. 트레이닝, 테스트 데이터 나누기"
      ]
    },
    {
      "cell_type": "code",
      "metadata": {
        "id": "L6alPPkqg-wz"
      },
      "source": [
        "from sklearn.model_selection import train_test_split\n",
        "import numpy as np\n",
        "x_train , x_test , y_train , y_test = train_test_split(x, y,test_size=0.2,random_state=42)"
      ],
      "execution_count": 19,
      "outputs": []
    },
    {
      "cell_type": "code",
      "metadata": {
        "colab": {
          "base_uri": "https://localhost:8080/"
        },
        "id": "-3Meit_gih-3",
        "outputId": "6c7808ec-ff1a-4b94-9eb4-a87867cd0d41"
      },
      "source": [
        "x_train.shape, x_test.shape, y_train.shape, y_test.shape"
      ],
      "execution_count": 20,
      "outputs": [
        {
          "output_type": "execute_result",
          "data": {
            "text/plain": [
              "((836, 6), (209, 6), (836,), (209,))"
            ]
          },
          "metadata": {},
          "execution_count": 20
        }
      ]
    },
    {
      "cell_type": "markdown",
      "metadata": {
        "id": "pGuraI1ZlLzH"
      },
      "source": [
        "## 4. 모델 구성하기"
      ]
    },
    {
      "cell_type": "code",
      "metadata": {
        "id": "n45JyVuXhnyV"
      },
      "source": [
        "## 타이타닉 데이터의 x개수는 첫 layer의 input_shape임\n",
        "\n",
        "## 타이타닉 데이터의 y값은 최종 layer\n",
        "# 선형회귀, 출력값1, 활성화함수 없음\n",
        "# 이항분류, 출력값1, 활성화함수 sigmoid\n",
        "# 이항분류를 원핫인코딩시키면 출력값2, 활성화함수 softmax\n",
        "# 다항분류는 원핫인코딩해서 해야함. 출력값은 다항분류개수, 활성화함수 softmax"
      ],
      "execution_count": null,
      "outputs": []
    },
    {
      "cell_type": "code",
      "metadata": {
        "id": "HwCSZw5IhIFQ"
      },
      "source": [
        "import tensorflow as tf\n",
        "# model.add를 사용하여 다음을 코딩할 수도 있음.(방법 다양)\n",
        "\n",
        "model=tf.keras.Sequential([\n",
        "                           tf.keras.layers.Dense(units=40, activation=\"relu\", input_shape=(6,)),  # input_shape는 x_train.shape의 열값을 튜플로 전달\n",
        "                           tf.keras.layers.Dense(units=5, activation=\"relu\"),\n",
        "                           tf.keras.layers.Dense(units=1, activation=\"sigmoid\") # 타이타닉 데이터의 y값은 이항분류 => 따라서 시그모이드 함수 사용, 출력값 1(units) \n",
        "])                                                                              "
      ],
      "execution_count": 21,
      "outputs": []
    },
    {
      "cell_type": "code",
      "metadata": {
        "colab": {
          "base_uri": "https://localhost:8080/"
        },
        "id": "FuwEZuMniBwr",
        "outputId": "79d00a10-c221-4b01-8676-cdd201d15bcb"
      },
      "source": [
        "model.compile(optimizer=tf.keras.optimizers.Adam(lr=0.07), # 러닝레이트값 설정(lr), 값이 클수록 간격이 큰 것을 의미\n",
        "              loss='mse', metrics=['acc']) # loss='binary_crossentropy'(이항분류) or 'mse'(회귀분석)"
      ],
      "execution_count": 26,
      "outputs": [
        {
          "output_type": "stream",
          "name": "stderr",
          "text": [
            "/usr/local/lib/python3.7/dist-packages/keras/optimizer_v2/optimizer_v2.py:356: UserWarning: The `lr` argument is deprecated, use `learning_rate` instead.\n",
            "  \"The `lr` argument is deprecated, use `learning_rate` instead.\")\n"
          ]
        }
      ]
    },
    {
      "cell_type": "code",
      "metadata": {
        "colab": {
          "base_uri": "https://localhost:8080/"
        },
        "id": "YfkP4R-xi0iV",
        "outputId": "d9089cf0-37e8-4ae6-8eda-dd51c98e921e"
      },
      "source": [
        "model.summary()\n",
        "\n",
        "#문제 Param의 출력된 갯수를 계산하여 보세요\n",
        "# layer1: param1 = 40*6+40 = 280개 또는 6개의 w + 1개의 b => 한세트에 7개의 param*40 = 280개\n",
        "# layer2: param2 = 5*40(layer1의 dense units수)+5 = 205개 또는 40개의 w + 1개의 b => 한세트에 5개의 param*41 = 205개\n",
        "# layer3: parma3 = 1*5(layer2의 dense units수)+1 = 6개 또는 5개의 w + 1개의 b => 한세트에 6개의 param*1 = 6개"
      ],
      "execution_count": 27,
      "outputs": [
        {
          "output_type": "stream",
          "name": "stdout",
          "text": [
            "Model: \"sequential\"\n",
            "_________________________________________________________________\n",
            "Layer (type)                 Output Shape              Param #   \n",
            "=================================================================\n",
            "dense (Dense)                (None, 40)                280       \n",
            "_________________________________________________________________\n",
            "dense_1 (Dense)              (None, 5)                 205       \n",
            "_________________________________________________________________\n",
            "dense_2 (Dense)              (None, 1)                 6         \n",
            "=================================================================\n",
            "Total params: 491\n",
            "Trainable params: 491\n",
            "Non-trainable params: 0\n",
            "_________________________________________________________________\n"
          ]
        }
      ]
    },
    {
      "cell_type": "markdown",
      "metadata": {
        "id": "AdeqX7uUqIjr"
      },
      "source": [
        "## 5. 모델 학습 및 평가"
      ]
    },
    {
      "cell_type": "code",
      "metadata": {
        "colab": {
          "base_uri": "https://localhost:8080/"
        },
        "id": "DcKED_eci2aO",
        "outputId": "adf2134a-0568-4303-df28-99fe2650111e"
      },
      "source": [
        "# 다른 신경망 네트워크들과 비슷하게 훈련은 fit메소드를 통해 실행하며, \n",
        "# EarlyStopping이라는 callback 함수를 사용하여 val_loss가 3번 이상 연속으로 증가한다면 멈추고 \n",
        "# 최저의 loss를 사용하도록 선언함\n",
        "\n",
        "history = model.fit(x_train, y_train, epochs=25, batch_size=1, validation_split=0.25, \n",
        "                    callbacks=[tf.keras.callbacks.EarlyStopping(patience=3, monitor='val_loss')]) # 지정한 횟수만큼 에러율이 줄어들지 않으면 그만"
      ],
      "execution_count": 28,
      "outputs": [
        {
          "output_type": "stream",
          "name": "stdout",
          "text": [
            "Epoch 1/25\n",
            "627/627 [==============================] - 2s 2ms/step - loss: 0.2456 - acc: 0.5774 - val_loss: 0.2423 - val_acc: 0.5885\n",
            "Epoch 2/25\n",
            "627/627 [==============================] - 1s 2ms/step - loss: 0.2462 - acc: 0.5901 - val_loss: 0.2422 - val_acc: 0.5885\n",
            "Epoch 3/25\n",
            "627/627 [==============================] - 1s 2ms/step - loss: 0.2438 - acc: 0.5821 - val_loss: 0.2436 - val_acc: 0.5885\n",
            "Epoch 4/25\n",
            "627/627 [==============================] - 1s 2ms/step - loss: 0.2439 - acc: 0.5805 - val_loss: 0.2424 - val_acc: 0.5885\n",
            "Epoch 5/25\n",
            "627/627 [==============================] - 1s 2ms/step - loss: 0.2444 - acc: 0.5933 - val_loss: 0.2474 - val_acc: 0.5885\n"
          ]
        }
      ]
    },
    {
      "cell_type": "code",
      "metadata": {
        "colab": {
          "base_uri": "https://localhost:8080/",
          "height": 501
        },
        "id": "jAefnuJ3kYD9",
        "outputId": "5b10ca5c-5141-42b0-e36b-e18b2cea778f"
      },
      "source": [
        "plt.figure(figsize=(12,4))\n",
        "\n",
        "plt.figure(figsize=(12,8))\n",
        "plt.plot(history.history['loss'])\n",
        "plt.plot(history.history['val_loss'])\n",
        "plt.plot(history.history['acc'])\n",
        "plt.plot(history.history['val_acc'])\n",
        "plt.legend(['loss','val_loss', 'accuracy','val_acc'])\n",
        "plt.show()\n",
        "\n",
        "# loss='binary_crossentropy'(이항분류)으로 할 때보다 loss='mse'를 할 때 결과가 더 좋게 나옴.\n",
        "# 검증셋의 손실값이 감소하다가 어떤 시점의 에포크에서다시 증가되는양상을 보이면 과적합(overfitting)이 발생한 것 > 과적합 해결(01ipynb의 정리부분 참고)"
      ],
      "execution_count": 29,
      "outputs": [
        {
          "output_type": "display_data",
          "data": {
            "text/plain": [
              "<Figure size 864x288 with 0 Axes>"
            ]
          },
          "metadata": {}
        },
        {
          "output_type": "display_data",
          "data": {
            "image/png": "[encoded data removed]",
            "text/plain": [
              "<Figure size 864x576 with 1 Axes>"
            ]
          },
          "metadata": {
            "needs_background": "light"
          }
        }
      ]
    },
    {
      "cell_type": "code",
      "metadata": {
        "colab": {
          "base_uri": "https://localhost:8080/"
        },
        "id": "TZiXm7oDmOqd",
        "outputId": "f8a5f246-b862-4c0a-a86f-09c5207fca03"
      },
      "source": [
        "# 모델 측정\n",
        "# 손실값, 정확도\n",
        "model.evaluate(x_test,y_test)"
      ],
      "execution_count": 30,
      "outputs": [
        {
          "output_type": "stream",
          "name": "stdout",
          "text": [
            "7/7 [==============================] - 0s 2ms/step - loss: 0.2478 - acc: 0.5742\n"
          ]
        },
        {
          "output_type": "execute_result",
          "data": {
            "text/plain": [
              "[0.24782617390155792, 0.5741626620292664]"
            ]
          },
          "metadata": {},
          "execution_count": 30
        }
      ]
    },
    {
      "cell_type": "markdown",
      "metadata": {
        "id": "csuP5YLvqN7b"
      },
      "source": [
        "## 6. 모델 예측"
      ]
    },
    {
      "cell_type": "code",
      "metadata": {
        "colab": {
          "base_uri": "https://localhost:8080/"
        },
        "id": "IEsnaWfAmiNM",
        "outputId": "6ff84192-4c13-436c-ebad-f4fbddf7c3ba"
      },
      "source": [
        "# 모델 예측, 아래의 x0~x8의 데이터를 newX값으로 받아서 예측하여 봅니다.\n",
        "# 1값에 가까울수록 생존\n",
        "x0_pclass=1\n",
        "x3_sex=1\n",
        "x4_age=20\n",
        "x5_sibsp=3\n",
        "x6_parch=2\n",
        "x8_fate=2\n",
        "new_x = [[x0_pclass, x3_sex, x4_age, x5_sibsp, x6_parch, x8_fate]] # 반드시 차원을 하나 늘리기\n",
        "\n",
        "model.predict(new_x)"
      ],
      "execution_count": 34,
      "outputs": [
        {
          "output_type": "execute_result",
          "data": {
            "text/plain": [
              "array([[0.4835111]], dtype=float32)"
            ]
          },
          "metadata": {},
          "execution_count": 34
        }
      ]
    },
    {
      "cell_type": "code",
      "metadata": {
        "colab": {
          "base_uri": "https://localhost:8080/"
        },
        "id": "BPNaE5OSp0-h",
        "outputId": "424aea8f-d88d-4dcb-a83b-513c70112fbc"
      },
      "source": [
        "np.shape(x_test[0]), np.shape(x_test[0:1])"
      ],
      "execution_count": 36,
      "outputs": [
        {
          "output_type": "execute_result",
          "data": {
            "text/plain": [
              "((6,), (1, 6))"
            ]
          },
          "metadata": {},
          "execution_count": 36
        }
      ]
    },
    {
      "cell_type": "code",
      "metadata": {
        "colab": {
          "base_uri": "https://localhost:8080/"
        },
        "id": "l7OIWITsmluA",
        "outputId": "e821da6f-7413-441d-a8be-5dba4c1d18fc"
      },
      "source": [
        "# print(model.predict(x_test[0])) # 오류, x_test[0]의 shape: (6,)\n",
        "print(model.predict(x_test[0:1])) # x_test[0:1]의 shape: (1,6)"
      ],
      "execution_count": 35,
      "outputs": [
        {
          "output_type": "stream",
          "name": "stdout",
          "text": [
            "[[0.4835111]]\n"
          ]
        }
      ]
    },
    {
      "cell_type": "markdown",
      "metadata": {
        "id": "pkPj7YPuqSDu"
      },
      "source": [
        "## 7. 모델 저장"
      ]
    },
    {
      "cell_type": "code",
      "metadata": {
        "id": "JUqKubQJnjOe"
      },
      "source": [
        "model.save('my_ti.h5') # 모델 저장"
      ],
      "execution_count": 37,
      "outputs": []
    },
    {
      "cell_type": "code",
      "metadata": {
        "id": "FRYQ6pyhts8d"
      },
      "source": [
        "# 모델이 저장되면 이 모델만 갖고가면 됨\n",
        "# 새 파일이라고 가정하고 드라이브 마운트한 다음에\n",
        "import tensorflow as tf\n",
        "load_model = tf.keras.models.load_model('my_ti.h5') # 모델 load\n",
        "\n",
        "x0_pclass=1\n",
        "x3_sex=1\n",
        "x4_age=20\n",
        "x5_sibsp=3\n",
        "x6_parch=2\n",
        "x8_fate=2\n",
        "new_x = [[x0_pclass, x3_sex, x4_age, x5_sibsp, x6_parch, x8_fate]] # 모델을 제작할 때 스케일링을 한 경우에는 예측할 자료값도 스케일링 해야 함\n",
        "\n",
        "load_model.predict(new_x)"
      ],
      "execution_count": null,
      "outputs": []
    }
  ]
}