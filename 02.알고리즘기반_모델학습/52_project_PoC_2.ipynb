{
  "nbformat": 4,
  "nbformat_minor": 0,
  "metadata": {
    "colab": {
      "name": "52_project_PoC_2.ipynb",
      "provenance": [],
      "collapsed_sections": []
    },
    "kernelspec": {
      "name": "python3",
      "display_name": "Python 3"
    },
    "language_info": {
      "name": "python"
    }
  },
  "cells": [
    {
      "cell_type": "code",
      "metadata": {
        "colab": {
          "base_uri": "https://localhost:8080/"
        },
        "id": "-CX3WRutEK1l",
        "outputId": "792186ac-703c-4b29-828e-7bff23e9867e"
      },
      "source": [
        "from google.colab import drive\n",
        "drive.mount('/content/drive')"
      ],
      "execution_count": 1,
      "outputs": [
        {
          "output_type": "stream",
          "name": "stdout",
          "text": [
            "Mounted at /content/drive\n"
          ]
        }
      ]
    },
    {
      "cell_type": "code",
      "metadata": {
        "id": "1swr6VbOLEnH"
      },
      "source": [
        "path = '/content/drive/MyDrive/최종프로젝트'"
      ],
      "execution_count": 2,
      "outputs": []
    },
    {
      "cell_type": "markdown",
      "metadata": {
        "id": "qgxx6-YKZ8gU"
      },
      "source": [
        "- Naver Clova sentiment"
      ]
    },
    {
      "cell_type": "code",
      "metadata": {
        "colab": {
          "base_uri": "https://localhost:8080/"
        },
        "id": "lDlz1zISw7AI",
        "outputId": "6e2280a1-a4fc-40e4-c7f2-e96b5c9dcb81"
      },
      "source": [
        "with open(f'{path}/소스/ClientID_SEN.txt') as f:\n",
        "  client_id = f.read()\n",
        "len(client_id)"
      ],
      "execution_count": 3,
      "outputs": [
        {
          "output_type": "execute_result",
          "data": {
            "text/plain": [
              "10"
            ]
          },
          "metadata": {},
          "execution_count": 3
        }
      ]
    },
    {
      "cell_type": "code",
      "metadata": {
        "colab": {
          "base_uri": "https://localhost:8080/"
        },
        "id": "8L7SpMtAuA2R",
        "outputId": "f16dc47c-c734-48ef-89bf-c4c61eb1ad2d"
      },
      "source": [
        "with open(f'{path}/소스/ClientSecret_SEN.txt') as f:\n",
        "  client_secret = f.read()\n",
        "len(client_secret)"
      ],
      "execution_count": 4,
      "outputs": [
        {
          "output_type": "execute_result",
          "data": {
            "text/plain": [
              "40"
            ]
          },
          "metadata": {},
          "execution_count": 4
        }
      ]
    },
    {
      "cell_type": "code",
      "metadata": {
        "id": "ly4pT_VrGbIB"
      },
      "source": [
        "data = {\n",
        "  \"content\": \"싸늘하다. 가슴에 비수가 날아와 꽂힌다.\"\n",
        "}"
      ],
      "execution_count": 75,
      "outputs": []
    },
    {
      "cell_type": "code",
      "metadata": {
        "colab": {
          "base_uri": "https://localhost:8080/"
        },
        "id": "xTgK2RjUEQax",
        "outputId": "46e61a1b-da77-472f-bf5e-4b2e25475dec"
      },
      "source": [
        "import os\n",
        "import sys\n",
        "import requests\n",
        "\n",
        "url = \"https://naveropenapi.apigw.ntruss.com/sentiment-analysis/v1/analyze\" \n",
        "\n",
        "headers = {'X-NCP-APIGW-API-KEY-ID': client_id, 'X-NCP-APIGW-API-KEY': client_secret, 'Content-Type': 'application/json'}\n",
        "\n",
        "response = requests.post(url, data=json.dumps(data), headers=headers)\n",
        "rescode = response.status_code\n",
        "if(rescode == 200):\n",
        "    # print(response.text)\n",
        "    result = eval(response.text)\n",
        "    confidence = result['document']['confidence']\n",
        "    nega = confidence['negative']\n",
        "    posi = confidence['positive']\n",
        "    neut = confidence['neutral']\n",
        "    score = [nega, posi, neut]\n",
        "    sentiment = result['document']['sentiment']\n",
        "    df = pd.DataFrame([[content, nega, posi, neut, sentiment]], columns = ['문장', '부정', '긍정', '중립', '결과'])\n",
        "    print(df)\n",
        "\n",
        "else:\n",
        "    print(\"Error : \" + response.text)"
      ],
      "execution_count": 81,
      "outputs": [
        {
          "output_type": "stream",
          "name": "stdout",
          "text": [
            "                                      문장       부정        긍정        중립        결과\n",
            "0  {'content': '싸늘하다. 가슴에 비수가 날아와 꽂힌다.'}  99.3676  0.007764  0.624637  negative\n"
          ]
        }
      ]
    },
    {
      "cell_type": "code",
      "metadata": {
        "colab": {
          "base_uri": "https://localhost:8080/"
        },
        "id": "p8cv4w7iNWBJ",
        "outputId": "0436c693-c0b3-4e79-8a6b-b0a1ad61791c"
      },
      "source": [
        "import json\n",
        "res = json.loads(response.text) # json에서 dictionary로 변환\n",
        "res"
      ],
      "execution_count": 82,
      "outputs": [
        {
          "output_type": "execute_result",
          "data": {
            "text/plain": [
              "{'document': {'confidence': {'negative': 99.3676,\n",
              "   'neutral': 0.62463653,\n",
              "   'positive': 0.0077638607},\n",
              "  'sentiment': 'negative'},\n",
              " 'sentences': [{'confidence': {'negative': 0.9961359,\n",
              "    'neutral': 0.0036366575,\n",
              "    'positive': 0.00022740211},\n",
              "   'content': '싸늘하다.',\n",
              "   'highlights': [{'length': 4, 'offset': 0}],\n",
              "   'length': 5,\n",
              "   'offset': 0,\n",
              "   'sentiment': 'negative'},\n",
              "  {'confidence': {'negative': 0.927976,\n",
              "    'neutral': 0.07131973,\n",
              "    'positive': 0.0007042612},\n",
              "   'content': ' 가슴에 비수가 날아와 꽂힌다.',\n",
              "   'highlights': [{'length': 15, 'offset': 1}],\n",
              "   'length': 17,\n",
              "   'offset': 5,\n",
              "   'sentiment': 'negative'}]}"
            ]
          },
          "metadata": {},
          "execution_count": 82
        }
      ]
    },
    {
      "cell_type": "code",
      "metadata": {
        "colab": {
          "base_uri": "https://localhost:8080/",
          "height": 35
        },
        "id": "HKHqGXQ0TryZ",
        "outputId": "707e497e-d82e-4590-9a96-7fd430bc4905"
      },
      "source": [
        "sentiment = res['document']['sentiment']\n",
        "sentiment"
      ],
      "execution_count": 69,
      "outputs": [
        {
          "output_type": "execute_result",
          "data": {
            "application/vnd.google.colaboratory.intrinsic+json": {
              "type": "string"
            },
            "text/plain": [
              "'negative'"
            ]
          },
          "metadata": {},
          "execution_count": 69
        }
      ]
    },
    {
      "cell_type": "code",
      "metadata": {
        "colab": {
          "base_uri": "https://localhost:8080/",
          "height": 295
        },
        "id": "Z0f8vfKvOZrU",
        "outputId": "db163168-e4ae-4d11-866d-948cb43aa6b8"
      },
      "source": [
        "# 자료 가져오기\n",
        "import pandas as pd\n",
        "import numpy as np\n",
        "\n",
        "contents = pd.read_csv('data.csv', skiprows=[0])\n",
        "contents = np.array(contents).reshape(-1,1)\n",
        "contents = pd.DataFrame(contents).dropna()\n",
        "contents.columns = ['review'] \n",
        "contents"
      ],
      "execution_count": 3,
      "outputs": [
        {
          "output_type": "execute_result",
          "data": {
            "text/html": [
              "<div>\n",
              "<style scoped>\n",
              "    .dataframe tbody tr th:only-of-type {\n",
              "        vertical-align: middle;\n",
              "    }\n",
              "\n",
              "    .dataframe tbody tr th {\n",
              "        vertical-align: top;\n",
              "    }\n",
              "\n",
              "    .dataframe thead th {\n",
              "        text-align: right;\n",
              "    }\n",
              "</style>\n",
              "<table border=\"1\" class=\"dataframe\">\n",
              "  <thead>\n",
              "    <tr style=\"text-align: right;\">\n",
              "      <th></th>\n",
              "      <th>review</th>\n",
              "    </tr>\n",
              "  </thead>\n",
              "  <tbody>\n",
              "    <tr>\n",
              "      <th>0</th>\n",
              "      <td>스벅 토피넛라테🥜\\n맛있네요😋\\n\\n#오늘의차☕️ #토피넛라떼 #스벅</td>\n",
              "    </tr>\n",
              "    <tr>\n",
              "      <th>1</th>\n",
              "      <td>#스타벅스#신메뉴#토피넛라떼#가격만비쌈#노맛#돈버림#절대먹지마세요#다버림#빵점#비추천</td>\n",
              "    </tr>\n",
              "    <tr>\n",
              "      <th>2</th>\n",
              "      <td>#스벅 #신메뉴 #커피\\n기대했는데 그냥 그런듯..</td>\n",
              "    </tr>\n",
              "    <tr>\n",
              "      <th>3</th>\n",
              "      <td>#할로윈 #스벅 #soso #👀\\nJMT 인듯 아닌듯\\n맛이 있는것 같지도 없는것 ...</td>\n",
              "    </tr>\n",
              "    <tr>\n",
              "      <th>4</th>\n",
              "      <td>예쁜 비주얼 만큼이나 맛있는\\n#아이스핑크캐모마일릴렉서\\n\\n#쟈샘일상#주부일상#일...</td>\n",
              "    </tr>\n",
              "    <tr>\n",
              "      <th>6</th>\n",
              "      <td>매일 아침 모닝 스벅.\\n사실은 커피 셔틀🤣\\n맛은 있는데...\\n빨대가 불편..\\...</td>\n",
              "    </tr>\n",
              "    <tr>\n",
              "      <th>7</th>\n",
              "      <td>#바닐라_미라_크림_프라푸치노 #스타벅스\\n이미 품절이래요!\\n어제 먹으러 갔는데 ...</td>\n",
              "    </tr>\n",
              "    <tr>\n",
              "      <th>8</th>\n",
              "      <td>#스타벅스 #토피넛콜드브루 #퍼플_추천\\n라떼제외 커피를 마신다면 콜드브루보다는\\n...</td>\n",
              "    </tr>\n",
              "  </tbody>\n",
              "</table>\n",
              "</div>"
            ],
            "text/plain": [
              "                                              review\n",
              "0             스벅 토피넛라테🥜\\n맛있네요😋\\n\\n#오늘의차☕️ #토피넛라떼 #스벅\n",
              "1    #스타벅스#신메뉴#토피넛라떼#가격만비쌈#노맛#돈버림#절대먹지마세요#다버림#빵점#비추천\n",
              "2                       #스벅 #신메뉴 #커피\\n기대했는데 그냥 그런듯..\n",
              "3  #할로윈 #스벅 #soso #👀\\nJMT 인듯 아닌듯\\n맛이 있는것 같지도 없는것 ...\n",
              "4  예쁜 비주얼 만큼이나 맛있는\\n#아이스핑크캐모마일릴렉서\\n\\n#쟈샘일상#주부일상#일...\n",
              "6  매일 아침 모닝 스벅.\\n사실은 커피 셔틀🤣\\n맛은 있는데...\\n빨대가 불편..\\...\n",
              "7  #바닐라_미라_크림_프라푸치노 #스타벅스\\n이미 품절이래요!\\n어제 먹으러 갔는데 ...\n",
              "8  #스타벅스 #토피넛콜드브루 #퍼플_추천\\n라떼제외 커피를 마신다면 콜드브루보다는\\n..."
            ]
          },
          "metadata": {},
          "execution_count": 3
        }
      ]
    },
    {
      "cell_type": "code",
      "metadata": {
        "colab": {
          "base_uri": "https://localhost:8080/",
          "height": 295
        },
        "id": "iRYW2FgkSpxZ",
        "outputId": "7a5e1830-c187-49de-ccd7-fbfb5de0d8fa"
      },
      "source": [
        "res_list = []\n",
        "for text in contents['review']:\n",
        "    in_text = {\n",
        "        \"content\": text\n",
        "        }\n",
        "    response = requests.post(url, data=json.dumps(in_text), headers=headers)\n",
        "    result = eval(response.text)\n",
        "    confidence = result['document']['confidence']\n",
        "    nega = confidence['negative']\n",
        "    posi = confidence['positive']\n",
        "    neut = confidence['neutral']\n",
        "    score = [nega, posi, neut]\n",
        "    sentiment = result['document']['sentiment']\n",
        "    res_list.append([text, nega, posi, neut, sentiment])\n",
        "\n",
        "df = pd.DataFrame(res_list, columns = ['문장', '부정', '긍정', '중립', '결과'])\n",
        "df"
      ],
      "execution_count": 102,
      "outputs": [
        {
          "output_type": "execute_result",
          "data": {
            "text/html": [
              "<div>\n",
              "<style scoped>\n",
              "    .dataframe tbody tr th:only-of-type {\n",
              "        vertical-align: middle;\n",
              "    }\n",
              "\n",
              "    .dataframe tbody tr th {\n",
              "        vertical-align: top;\n",
              "    }\n",
              "\n",
              "    .dataframe thead th {\n",
              "        text-align: right;\n",
              "    }\n",
              "</style>\n",
              "<table border=\"1\" class=\"dataframe\">\n",
              "  <thead>\n",
              "    <tr style=\"text-align: right;\">\n",
              "      <th></th>\n",
              "      <th>문장</th>\n",
              "      <th>부정</th>\n",
              "      <th>긍정</th>\n",
              "      <th>중립</th>\n",
              "      <th>결과</th>\n",
              "    </tr>\n",
              "  </thead>\n",
              "  <tbody>\n",
              "    <tr>\n",
              "      <th>0</th>\n",
              "      <td>스벅 토피넛라테🥜\\n맛있네요😋\\n\\n#오늘의차☕️ #토피넛라떼 #스벅</td>\n",
              "      <td>0.027415</td>\n",
              "      <td>59.995537</td>\n",
              "      <td>39.977050</td>\n",
              "      <td>positive</td>\n",
              "    </tr>\n",
              "    <tr>\n",
              "      <th>1</th>\n",
              "      <td>#스타벅스#신메뉴#토피넛라떼#가격만비쌈#노맛#돈버림#절대먹지마세요#다버림#빵점#비추천</td>\n",
              "      <td>89.945350</td>\n",
              "      <td>0.007334</td>\n",
              "      <td>10.047318</td>\n",
              "      <td>negative</td>\n",
              "    </tr>\n",
              "    <tr>\n",
              "      <th>2</th>\n",
              "      <td>#스벅 #신메뉴 #커피\\n기대했는데 그냥 그런듯..</td>\n",
              "      <td>75.008200</td>\n",
              "      <td>0.004569</td>\n",
              "      <td>24.987232</td>\n",
              "      <td>negative</td>\n",
              "    </tr>\n",
              "    <tr>\n",
              "      <th>3</th>\n",
              "      <td>#할로윈 #스벅 #soso #👀\\nJMT 인듯 아닌듯\\n맛이 있는것 같지도 없는것 ...</td>\n",
              "      <td>28.606720</td>\n",
              "      <td>57.042830</td>\n",
              "      <td>14.350447</td>\n",
              "      <td>positive</td>\n",
              "    </tr>\n",
              "    <tr>\n",
              "      <th>4</th>\n",
              "      <td>예쁜 비주얼 만큼이나 맛있는\\n#아이스핑크캐모마일릴렉서\\n\\n#쟈샘일상#주부일상#일...</td>\n",
              "      <td>0.029618</td>\n",
              "      <td>31.572800</td>\n",
              "      <td>68.397580</td>\n",
              "      <td>neutral</td>\n",
              "    </tr>\n",
              "    <tr>\n",
              "      <th>5</th>\n",
              "      <td>매일 아침 모닝 스벅.\\n사실은 커피 셔틀🤣\\n맛은 있는데...\\n빨대가 불편..\\...</td>\n",
              "      <td>75.008790</td>\n",
              "      <td>0.005077</td>\n",
              "      <td>24.986132</td>\n",
              "      <td>negative</td>\n",
              "    </tr>\n",
              "    <tr>\n",
              "      <th>6</th>\n",
              "      <td>#바닐라_미라_크림_프라푸치노 #스타벅스\\n이미 품절이래요!\\n어제 먹으러 갔는데 ...</td>\n",
              "      <td>66.697426</td>\n",
              "      <td>0.020436</td>\n",
              "      <td>33.282135</td>\n",
              "      <td>negative</td>\n",
              "    </tr>\n",
              "    <tr>\n",
              "      <th>7</th>\n",
              "      <td>#스타벅스 #토피넛콜드브루 #퍼플_추천\\n라떼제외 커피를 마신다면 콜드브루보다는\\n...</td>\n",
              "      <td>15.011949</td>\n",
              "      <td>60.003925</td>\n",
              "      <td>24.984127</td>\n",
              "      <td>positive</td>\n",
              "    </tr>\n",
              "  </tbody>\n",
              "</table>\n",
              "</div>"
            ],
            "text/plain": [
              "                                                  문장  ...        결과\n",
              "0             스벅 토피넛라테🥜\\n맛있네요😋\\n\\n#오늘의차☕️ #토피넛라떼 #스벅  ...  positive\n",
              "1    #스타벅스#신메뉴#토피넛라떼#가격만비쌈#노맛#돈버림#절대먹지마세요#다버림#빵점#비추천  ...  negative\n",
              "2                       #스벅 #신메뉴 #커피\\n기대했는데 그냥 그런듯..  ...  negative\n",
              "3  #할로윈 #스벅 #soso #👀\\nJMT 인듯 아닌듯\\n맛이 있는것 같지도 없는것 ...  ...  positive\n",
              "4  예쁜 비주얼 만큼이나 맛있는\\n#아이스핑크캐모마일릴렉서\\n\\n#쟈샘일상#주부일상#일...  ...   neutral\n",
              "5  매일 아침 모닝 스벅.\\n사실은 커피 셔틀🤣\\n맛은 있는데...\\n빨대가 불편..\\...  ...  negative\n",
              "6  #바닐라_미라_크림_프라푸치노 #스타벅스\\n이미 품절이래요!\\n어제 먹으러 갔는데 ...  ...  negative\n",
              "7  #스타벅스 #토피넛콜드브루 #퍼플_추천\\n라떼제외 커피를 마신다면 콜드브루보다는\\n...  ...  positive\n",
              "\n",
              "[8 rows x 5 columns]"
            ]
          },
          "metadata": {},
          "execution_count": 102
        }
      ]
    },
    {
      "cell_type": "markdown",
      "metadata": {
        "id": "S0EM85k3aE_K"
      },
      "source": [
        "- 딥러닝 모델 이용을 위한 NLP"
      ]
    },
    {
      "cell_type": "code",
      "metadata": {
        "colab": {
          "base_uri": "https://localhost:8080/",
          "height": 295
        },
        "id": "BJFKUCjSi60_",
        "outputId": "11729cc9-9d2a-4749-b04f-7907b2b6e546"
      },
      "source": [
        "contents['cls'] = [1,-1,0,0,1,0,0,1] # 1: 긍정, 0: 중립, -1: 부정\n",
        "contents"
      ],
      "execution_count": 4,
      "outputs": [
        {
          "output_type": "execute_result",
          "data": {
            "text/html": [
              "<div>\n",
              "<style scoped>\n",
              "    .dataframe tbody tr th:only-of-type {\n",
              "        vertical-align: middle;\n",
              "    }\n",
              "\n",
              "    .dataframe tbody tr th {\n",
              "        vertical-align: top;\n",
              "    }\n",
              "\n",
              "    .dataframe thead th {\n",
              "        text-align: right;\n",
              "    }\n",
              "</style>\n",
              "<table border=\"1\" class=\"dataframe\">\n",
              "  <thead>\n",
              "    <tr style=\"text-align: right;\">\n",
              "      <th></th>\n",
              "      <th>review</th>\n",
              "      <th>cls</th>\n",
              "    </tr>\n",
              "  </thead>\n",
              "  <tbody>\n",
              "    <tr>\n",
              "      <th>0</th>\n",
              "      <td>스벅 토피넛라테🥜\\n맛있네요😋\\n\\n#오늘의차☕️ #토피넛라떼 #스벅</td>\n",
              "      <td>1</td>\n",
              "    </tr>\n",
              "    <tr>\n",
              "      <th>1</th>\n",
              "      <td>#스타벅스#신메뉴#토피넛라떼#가격만비쌈#노맛#돈버림#절대먹지마세요#다버림#빵점#비추천</td>\n",
              "      <td>-1</td>\n",
              "    </tr>\n",
              "    <tr>\n",
              "      <th>2</th>\n",
              "      <td>#스벅 #신메뉴 #커피\\n기대했는데 그냥 그런듯..</td>\n",
              "      <td>0</td>\n",
              "    </tr>\n",
              "    <tr>\n",
              "      <th>3</th>\n",
              "      <td>#할로윈 #스벅 #soso #👀\\nJMT 인듯 아닌듯\\n맛이 있는것 같지도 없는것 ...</td>\n",
              "      <td>0</td>\n",
              "    </tr>\n",
              "    <tr>\n",
              "      <th>4</th>\n",
              "      <td>예쁜 비주얼 만큼이나 맛있는\\n#아이스핑크캐모마일릴렉서\\n\\n#쟈샘일상#주부일상#일...</td>\n",
              "      <td>1</td>\n",
              "    </tr>\n",
              "    <tr>\n",
              "      <th>6</th>\n",
              "      <td>매일 아침 모닝 스벅.\\n사실은 커피 셔틀🤣\\n맛은 있는데...\\n빨대가 불편..\\...</td>\n",
              "      <td>0</td>\n",
              "    </tr>\n",
              "    <tr>\n",
              "      <th>7</th>\n",
              "      <td>#바닐라_미라_크림_프라푸치노 #스타벅스\\n이미 품절이래요!\\n어제 먹으러 갔는데 ...</td>\n",
              "      <td>0</td>\n",
              "    </tr>\n",
              "    <tr>\n",
              "      <th>8</th>\n",
              "      <td>#스타벅스 #토피넛콜드브루 #퍼플_추천\\n라떼제외 커피를 마신다면 콜드브루보다는\\n...</td>\n",
              "      <td>1</td>\n",
              "    </tr>\n",
              "  </tbody>\n",
              "</table>\n",
              "</div>"
            ],
            "text/plain": [
              "                                              review  cls\n",
              "0             스벅 토피넛라테🥜\\n맛있네요😋\\n\\n#오늘의차☕️ #토피넛라떼 #스벅    1\n",
              "1    #스타벅스#신메뉴#토피넛라떼#가격만비쌈#노맛#돈버림#절대먹지마세요#다버림#빵점#비추천   -1\n",
              "2                       #스벅 #신메뉴 #커피\\n기대했는데 그냥 그런듯..    0\n",
              "3  #할로윈 #스벅 #soso #👀\\nJMT 인듯 아닌듯\\n맛이 있는것 같지도 없는것 ...    0\n",
              "4  예쁜 비주얼 만큼이나 맛있는\\n#아이스핑크캐모마일릴렉서\\n\\n#쟈샘일상#주부일상#일...    1\n",
              "6  매일 아침 모닝 스벅.\\n사실은 커피 셔틀🤣\\n맛은 있는데...\\n빨대가 불편..\\...    0\n",
              "7  #바닐라_미라_크림_프라푸치노 #스타벅스\\n이미 품절이래요!\\n어제 먹으러 갔는데 ...    0\n",
              "8  #스타벅스 #토피넛콜드브루 #퍼플_추천\\n라떼제외 커피를 마신다면 콜드브루보다는\\n...    1"
            ]
          },
          "metadata": {},
          "execution_count": 4
        }
      ]
    },
    {
      "cell_type": "code",
      "metadata": {
        "id": "z_ogNhBZXuQB"
      },
      "source": [
        "contents['review'] = contents['review'].str.replace(\"[^ㄱ-ㅎㅏ-ㅣ가-힣a-zA-Z0-9 ]\", \" \")"
      ],
      "execution_count": 5,
      "outputs": []
    },
    {
      "cell_type": "code",
      "metadata": {
        "colab": {
          "base_uri": "https://localhost:8080/",
          "height": 295
        },
        "id": "Cc7-uCz4b--3",
        "outputId": "2ae239bd-3996-4fbb-c5b3-600a6bcde3ef"
      },
      "source": [
        "contents"
      ],
      "execution_count": 6,
      "outputs": [
        {
          "output_type": "execute_result",
          "data": {
            "text/html": [
              "<div>\n",
              "<style scoped>\n",
              "    .dataframe tbody tr th:only-of-type {\n",
              "        vertical-align: middle;\n",
              "    }\n",
              "\n",
              "    .dataframe tbody tr th {\n",
              "        vertical-align: top;\n",
              "    }\n",
              "\n",
              "    .dataframe thead th {\n",
              "        text-align: right;\n",
              "    }\n",
              "</style>\n",
              "<table border=\"1\" class=\"dataframe\">\n",
              "  <thead>\n",
              "    <tr style=\"text-align: right;\">\n",
              "      <th></th>\n",
              "      <th>review</th>\n",
              "      <th>cls</th>\n",
              "    </tr>\n",
              "  </thead>\n",
              "  <tbody>\n",
              "    <tr>\n",
              "      <th>0</th>\n",
              "      <td>스벅 토피넛라테  맛있네요    오늘의차    토피넛라떼  스벅</td>\n",
              "      <td>1</td>\n",
              "    </tr>\n",
              "    <tr>\n",
              "      <th>1</th>\n",
              "      <td>스타벅스 신메뉴 토피넛라떼 가격만비쌈 노맛 돈버림 절대먹지마세요 다버림 빵점 비추천</td>\n",
              "      <td>-1</td>\n",
              "    </tr>\n",
              "    <tr>\n",
              "      <th>2</th>\n",
              "      <td>스벅  신메뉴  커피 기대했는데 그냥 그런듯</td>\n",
              "      <td>0</td>\n",
              "    </tr>\n",
              "    <tr>\n",
              "      <th>3</th>\n",
              "      <td>할로윈  스벅  soso    JMT 인듯 아닌듯 맛이 있는것 같지도 없는것 같지...</td>\n",
              "      <td>0</td>\n",
              "    </tr>\n",
              "    <tr>\n",
              "      <th>4</th>\n",
              "      <td>예쁜 비주얼 만큼이나 맛있는  아이스핑크캐모마일릴렉서   쟈샘일상 주부일상 일상 데...</td>\n",
              "      <td>1</td>\n",
              "    </tr>\n",
              "    <tr>\n",
              "      <th>6</th>\n",
              "      <td>매일 아침 모닝 스벅  사실은 커피 셔틀  맛은 있는데    빨대가 불편      ...</td>\n",
              "      <td>0</td>\n",
              "    </tr>\n",
              "    <tr>\n",
              "      <th>7</th>\n",
              "      <td>바닐라 미라 크림 프라푸치노  스타벅스 이미 품절이래요  어제 먹으러 갔는데 줄이...</td>\n",
              "      <td>0</td>\n",
              "    </tr>\n",
              "    <tr>\n",
              "      <th>8</th>\n",
              "      <td>스타벅스  토피넛콜드브루  퍼플 추천 라떼제외 커피를 마신다면 콜드브루보다는 아아...</td>\n",
              "      <td>1</td>\n",
              "    </tr>\n",
              "  </tbody>\n",
              "</table>\n",
              "</div>"
            ],
            "text/plain": [
              "                                              review  cls\n",
              "0                스벅 토피넛라테  맛있네요    오늘의차    토피넛라떼  스벅    1\n",
              "1     스타벅스 신메뉴 토피넛라떼 가격만비쌈 노맛 돈버림 절대먹지마세요 다버림 빵점 비추천   -1\n",
              "2                         스벅  신메뉴  커피 기대했는데 그냥 그런듯      0\n",
              "3   할로윈  스벅  soso    JMT 인듯 아닌듯 맛이 있는것 같지도 없는것 같지...    0\n",
              "4  예쁜 비주얼 만큼이나 맛있는  아이스핑크캐모마일릴렉서   쟈샘일상 주부일상 일상 데...    1\n",
              "6  매일 아침 모닝 스벅  사실은 커피 셔틀  맛은 있는데    빨대가 불편      ...    0\n",
              "7   바닐라 미라 크림 프라푸치노  스타벅스 이미 품절이래요  어제 먹으러 갔는데 줄이...    0\n",
              "8   스타벅스  토피넛콜드브루  퍼플 추천 라떼제외 커피를 마신다면 콜드브루보다는 아아...    1"
            ]
          },
          "metadata": {},
          "execution_count": 6
        }
      ]
    },
    {
      "cell_type": "code",
      "metadata": {
        "id": "0GLcDJI3ezbY"
      },
      "source": [
        "!pip install Konlpy > /dev/null"
      ],
      "execution_count": 7,
      "outputs": []
    },
    {
      "cell_type": "code",
      "metadata": {
        "id": "SscFOE6nfyts"
      },
      "source": [
        "df = pd.read_csv('/content/drive/MyDrive/project/기타참고자료/한국어불용어100.txt', sep='\\s+', header=None)\n",
        "# 품사를 무시하고 중복 배제\n",
        "stopwords = set(df[0])"
      ],
      "execution_count": 8,
      "outputs": []
    },
    {
      "cell_type": "code",
      "metadata": {
        "colab": {
          "base_uri": "https://localhost:8080/",
          "height": 295
        },
        "id": "KRCkenZDcDoP",
        "outputId": "13a609a1-b038-46d1-daf9-a733eb0ea3a3"
      },
      "source": [
        "from konlpy.tag import Okt\n",
        "okt = Okt()\n",
        "morphs_str = []\n",
        "\n",
        "for review in contents['review']:\n",
        "    morphs = okt.morphs(review.strip(), stem=True)\n",
        "    temp_str = ' '.join(word for word in morphs if word not in stopwords)\n",
        "    morphs_str.append(temp_str)\n",
        "\n",
        "contents['nlp'] = morphs_str\n",
        "contents"
      ],
      "execution_count": 9,
      "outputs": [
        {
          "output_type": "execute_result",
          "data": {
            "text/html": [
              "<div>\n",
              "<style scoped>\n",
              "    .dataframe tbody tr th:only-of-type {\n",
              "        vertical-align: middle;\n",
              "    }\n",
              "\n",
              "    .dataframe tbody tr th {\n",
              "        vertical-align: top;\n",
              "    }\n",
              "\n",
              "    .dataframe thead th {\n",
              "        text-align: right;\n",
              "    }\n",
              "</style>\n",
              "<table border=\"1\" class=\"dataframe\">\n",
              "  <thead>\n",
              "    <tr style=\"text-align: right;\">\n",
              "      <th></th>\n",
              "      <th>review</th>\n",
              "      <th>cls</th>\n",
              "      <th>nlp</th>\n",
              "    </tr>\n",
              "  </thead>\n",
              "  <tbody>\n",
              "    <tr>\n",
              "      <th>0</th>\n",
              "      <td>스벅 토피넛라테  맛있네요    오늘의차    토피넛라떼  스벅</td>\n",
              "      <td>1</td>\n",
              "      <td>스벅 토피 넛 라테 맛있다 오늘 의 차 토피 넛 라떼 스벅</td>\n",
              "    </tr>\n",
              "    <tr>\n",
              "      <th>1</th>\n",
              "      <td>스타벅스 신메뉴 토피넛라떼 가격만비쌈 노맛 돈버림 절대먹지마세요 다버림 빵점 비추천</td>\n",
              "      <td>-1</td>\n",
              "      <td>스타벅스 신 메뉴 토피 넛 라떼 가격 만 비싸다 노맛 돈 버리다 절대 먹다 말다 다...</td>\n",
              "    </tr>\n",
              "    <tr>\n",
              "      <th>2</th>\n",
              "      <td>스벅  신메뉴  커피 기대했는데 그냥 그런듯</td>\n",
              "      <td>0</td>\n",
              "      <td>스벅 신 메뉴 커피 기대하다 그냥 그렇다</td>\n",
              "    </tr>\n",
              "    <tr>\n",
              "      <th>3</th>\n",
              "      <td>할로윈  스벅  soso    JMT 인듯 아닌듯 맛이 있는것 같지도 없는것 같지...</td>\n",
              "      <td>0</td>\n",
              "      <td>할로윈 스벅 soso JMT 이다 아니다 맛 있다 같다 없다 같다 않다 신기하다 맛...</td>\n",
              "    </tr>\n",
              "    <tr>\n",
              "      <th>4</th>\n",
              "      <td>예쁜 비주얼 만큼이나 맛있는  아이스핑크캐모마일릴렉서   쟈샘일상 주부일상 일상 데...</td>\n",
              "      <td>1</td>\n",
              "      <td>예쁘다 비주 얼 만큼이나 맛있다 아이스 핑크 캐모마일 릴렉 서 쟈샘 일상 주부 일상...</td>\n",
              "    </tr>\n",
              "    <tr>\n",
              "      <th>6</th>\n",
              "      <td>매일 아침 모닝 스벅  사실은 커피 셔틀  맛은 있는데    빨대가 불편      ...</td>\n",
              "      <td>0</td>\n",
              "      <td>매일 아침 모닝 스벅 은 커피 셔틀 맛 은 있다 빨대 불편 핑크 캐모마일 릴렉 서 ...</td>\n",
              "    </tr>\n",
              "    <tr>\n",
              "      <th>7</th>\n",
              "      <td>바닐라 미라 크림 프라푸치노  스타벅스 이미 품절이래요  어제 먹으러 갔는데 줄이...</td>\n",
              "      <td>0</td>\n",
              "      <td>바닐라 미라 크림 프라푸치노 스타벅스 이미 품절 이래 요 어제 먹다 가다 줄이다 엄...</td>\n",
              "    </tr>\n",
              "    <tr>\n",
              "      <th>8</th>\n",
              "      <td>스타벅스  토피넛콜드브루  퍼플 추천 라떼제외 커피를 마신다면 콜드브루보다는 아아...</td>\n",
              "      <td>1</td>\n",
              "      <td>스타벅스 토피 넛 콜드 브루 퍼플 추천 라떼 제외 커피 를 말다 콜드 브루 보다는 ...</td>\n",
              "    </tr>\n",
              "  </tbody>\n",
              "</table>\n",
              "</div>"
            ],
            "text/plain": [
              "                                              review  ...                                                nlp\n",
              "0                스벅 토피넛라테  맛있네요    오늘의차    토피넛라떼  스벅  ...                   스벅 토피 넛 라테 맛있다 오늘 의 차 토피 넛 라떼 스벅\n",
              "1     스타벅스 신메뉴 토피넛라떼 가격만비쌈 노맛 돈버림 절대먹지마세요 다버림 빵점 비추천  ...  스타벅스 신 메뉴 토피 넛 라떼 가격 만 비싸다 노맛 돈 버리다 절대 먹다 말다 다...\n",
              "2                         스벅  신메뉴  커피 기대했는데 그냥 그런듯    ...                             스벅 신 메뉴 커피 기대하다 그냥 그렇다\n",
              "3   할로윈  스벅  soso    JMT 인듯 아닌듯 맛이 있는것 같지도 없는것 같지...  ...  할로윈 스벅 soso JMT 이다 아니다 맛 있다 같다 없다 같다 않다 신기하다 맛...\n",
              "4  예쁜 비주얼 만큼이나 맛있는  아이스핑크캐모마일릴렉서   쟈샘일상 주부일상 일상 데...  ...  예쁘다 비주 얼 만큼이나 맛있다 아이스 핑크 캐모마일 릴렉 서 쟈샘 일상 주부 일상...\n",
              "6  매일 아침 모닝 스벅  사실은 커피 셔틀  맛은 있는데    빨대가 불편      ...  ...  매일 아침 모닝 스벅 은 커피 셔틀 맛 은 있다 빨대 불편 핑크 캐모마일 릴렉 서 ...\n",
              "7   바닐라 미라 크림 프라푸치노  스타벅스 이미 품절이래요  어제 먹으러 갔는데 줄이...  ...  바닐라 미라 크림 프라푸치노 스타벅스 이미 품절 이래 요 어제 먹다 가다 줄이다 엄...\n",
              "8   스타벅스  토피넛콜드브루  퍼플 추천 라떼제외 커피를 마신다면 콜드브루보다는 아아...  ...  스타벅스 토피 넛 콜드 브루 퍼플 추천 라떼 제외 커피 를 말다 콜드 브루 보다는 ...\n",
              "\n",
              "[8 rows x 3 columns]"
            ]
          },
          "metadata": {},
          "execution_count": 9
        }
      ]
    }
  ]
}