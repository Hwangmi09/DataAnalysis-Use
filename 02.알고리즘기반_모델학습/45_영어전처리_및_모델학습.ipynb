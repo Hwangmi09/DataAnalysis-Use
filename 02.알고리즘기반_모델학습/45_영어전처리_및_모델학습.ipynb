{
  "nbformat": 4,
  "nbformat_minor": 0,
  "metadata": {
    "colab": {
      "name": "3.전처리_모델링_박황미_영어.ipynb",
      "provenance": [],
      "collapsed_sections": []
    },
    "kernelspec": {
      "name": "python3",
      "display_name": "Python 3"
    },
    "language_info": {
      "name": "python"
    }
  },
  "cells": [
    {
      "cell_type": "code",
      "metadata": {
        "colab": {
          "base_uri": "https://localhost:8080/"
        },
        "id": "Y07outi6f-5B",
        "outputId": "ba686d66-da8c-429b-ff90-e52f4577fa0c"
      },
      "source": [
        "from google.colab import drive\n",
        "drive.mount('/content/drive') "
      ],
      "execution_count": null,
      "outputs": [
        {
          "output_type": "stream",
          "name": "stdout",
          "text": [
            "Mounted at /content/drive\n"
          ]
        }
      ]
    },
    {
      "cell_type": "code",
      "metadata": {
        "id": "CXRzY346dPdK"
      },
      "source": [
        "# 메모리 변수 모두 제거\n",
        "all = [var for var in globals() if var[0] != \"_\"]\n",
        "for var in all:\n",
        "    del globals()[var]"
      ],
      "execution_count": null,
      "outputs": []
    },
    {
      "cell_type": "code",
      "metadata": {
        "id": "38eFk7QuVU6A"
      },
      "source": [
        "import warnings\n",
        "warnings.filterwarnings('ignore')"
      ],
      "execution_count": null,
      "outputs": []
    },
    {
      "cell_type": "code",
      "metadata": {
        "id": "jAEtaMWdgD5v"
      },
      "source": [
        "import nltk\n",
        "from sklearn.model_selection import train_test_split\n",
        "import pandas as pd\n",
        "import numpy as np\n",
        "import os"
      ],
      "execution_count": null,
      "outputs": []
    },
    {
      "cell_type": "code",
      "metadata": {
        "id": "iBxNRxJegD3K"
      },
      "source": [
        "os.chdir(path)"
      ],
      "execution_count": null,
      "outputs": []
    },
    {
      "cell_type": "code",
      "metadata": {
        "colab": {
          "base_uri": "https://localhost:8080/",
          "height": 582
        },
        "id": "Fp3Y76TFgaEp",
        "outputId": "da124313-06e9-4726-e17e-4680d9eca7ac"
      },
      "source": [
        "df = pd.read_csv('hankyung_news_stock.csv')\n",
        "df"
      ],
      "execution_count": null,
      "outputs": [
        {
          "output_type": "execute_result",
          "data": {
            "text/html": [
              "<div>\n",
              "<style scoped>\n",
              "    .dataframe tbody tr th:only-of-type {\n",
              "        vertical-align: middle;\n",
              "    }\n",
              "\n",
              "    .dataframe tbody tr th {\n",
              "        vertical-align: top;\n",
              "    }\n",
              "\n",
              "    .dataframe thead th {\n",
              "        text-align: right;\n",
              "    }\n",
              "</style>\n",
              "<table border=\"1\" class=\"dataframe\">\n",
              "  <thead>\n",
              "    <tr style=\"text-align: right;\">\n",
              "      <th></th>\n",
              "      <th>index</th>\n",
              "      <th>Close</th>\n",
              "      <th>Open</th>\n",
              "      <th>High</th>\n",
              "      <th>Low</th>\n",
              "      <th>Volume</th>\n",
              "      <th>Change</th>\n",
              "      <th>title</th>\n",
              "      <th>en_list</th>\n",
              "    </tr>\n",
              "  </thead>\n",
              "  <tbody>\n",
              "    <tr>\n",
              "      <th>0</th>\n",
              "      <td>2018-10-22</td>\n",
              "      <td>2161.71</td>\n",
              "      <td>2143.08</td>\n",
              "      <td>2163.21</td>\n",
              "      <td>2136.92</td>\n",
              "      <td>308740000.0</td>\n",
              "      <td>0.0025</td>\n",
              "      <td>방산 방심은 금물  방산 방심은 금물정유 화학업종 IMO 2020  카슈끄지  그리...</td>\n",
              "      <td>Blood-defense vigilant is a gold refinery indu...</td>\n",
              "    </tr>\n",
              "    <tr>\n",
              "      <th>1</th>\n",
              "      <td>2018-10-23</td>\n",
              "      <td>2106.10</td>\n",
              "      <td>2147.30</td>\n",
              "      <td>2148.80</td>\n",
              "      <td>2094.69</td>\n",
              "      <td>373470000.0</td>\n",
              "      <td>-0.0257</td>\n",
              "      <td>자동차 Daily Auto Check  자동차 Daily Auto Check유통 D...</td>\n",
              "      <td>Automotive Daily Auto CHECK DAILY AUTO CHECK D...</td>\n",
              "    </tr>\n",
              "    <tr>\n",
              "      <th>2</th>\n",
              "      <td>2018-10-24</td>\n",
              "      <td>2097.58</td>\n",
              "      <td>2119.19</td>\n",
              "      <td>2121.36</td>\n",
              "      <td>2092.10</td>\n",
              "      <td>399730000.0</td>\n",
              "      <td>-0.0040</td>\n",
              "      <td>유통 Daily 코멘트 및 뉴스 업데이트  Daily 코멘트 및 뉴스 업데이트디스플...</td>\n",
              "      <td>Distribution Daily Comments and News Updates D...</td>\n",
              "    </tr>\n",
              "    <tr>\n",
              "      <th>3</th>\n",
              "      <td>2018-10-25</td>\n",
              "      <td>2063.30</td>\n",
              "      <td>2046.67</td>\n",
              "      <td>2066.06</td>\n",
              "      <td>2033.81</td>\n",
              "      <td>376010000.0</td>\n",
              "      <td>-0.0163</td>\n",
              "      <td>건설업종 투자의 시대  투자의 시대자동차 흑자전환에 성공한 Tesla  흑자전환에 ...</td>\n",
              "      <td>Tesla Semiconductor IT Softer Market Ahead Sem...</td>\n",
              "    </tr>\n",
              "    <tr>\n",
              "      <th>4</th>\n",
              "      <td>2018-10-26</td>\n",
              "      <td>2027.15</td>\n",
              "      <td>2066.57</td>\n",
              "      <td>2066.57</td>\n",
              "      <td>2008.86</td>\n",
              "      <td>449200000.0</td>\n",
              "      <td>-0.0175</td>\n",
              "      <td>유통 Amazon 3Q18 Review  희비 공존  Amazon 3Q18 Revi...</td>\n",
              "      <td>Distribution Amazon 3q18 Review Right Coexist ...</td>\n",
              "    </tr>\n",
              "    <tr>\n",
              "      <th>...</th>\n",
              "      <td>...</td>\n",
              "      <td>...</td>\n",
              "      <td>...</td>\n",
              "      <td>...</td>\n",
              "      <td>...</td>\n",
              "      <td>...</td>\n",
              "      <td>...</td>\n",
              "      <td>...</td>\n",
              "      <td>...</td>\n",
              "    </tr>\n",
              "    <tr>\n",
              "      <th>732</th>\n",
              "      <td>2021-10-15</td>\n",
              "      <td>3015.06</td>\n",
              "      <td>3012.62</td>\n",
              "      <td>3021.90</td>\n",
              "      <td>2999.33</td>\n",
              "      <td>857800000.0</td>\n",
              "      <td>0.0088</td>\n",
              "      <td>오락   디즈니플러스 쇼케이스 요약  쇼케이스 내내  콘텐츠  강조화학   신사업 ...</td>\n",
              "      <td>Entertainment Disney Plus Showcase Summary Cor...</td>\n",
              "    </tr>\n",
              "    <tr>\n",
              "      <th>733</th>\n",
              "      <td>2021-10-18</td>\n",
              "      <td>3006.68</td>\n",
              "      <td>3017.48</td>\n",
              "      <td>3021.17</td>\n",
              "      <td>2990.44</td>\n",
              "      <td>926370000.0</td>\n",
              "      <td>-0.0028</td>\n",
              "      <td>제약   제약 바이오 Weekly  제약 바이오 주간 코멘트국내 주요 뉴스 및 공시...</td>\n",
              "      <td>Pharmaceutical Bio Weekly Major News &amp; Public ...</td>\n",
              "    </tr>\n",
              "    <tr>\n",
              "      <th>734</th>\n",
              "      <td>2021-10-19</td>\n",
              "      <td>3029.04</td>\n",
              "      <td>3022.23</td>\n",
              "      <td>3034.53</td>\n",
              "      <td>3014.19</td>\n",
              "      <td>845700000.0</td>\n",
              "      <td>0.0074</td>\n",
              "      <td>방송 비디어 중국 규제 피해는 정말 없는 것 같습니다  중국 규제 피해는 정말 없는...</td>\n",
              "      <td>Broadcasting Videos China Regulatory Damage se...</td>\n",
              "    </tr>\n",
              "    <tr>\n",
              "      <th>735</th>\n",
              "      <td>2021-10-20</td>\n",
              "      <td>3013.13</td>\n",
              "      <td>3043.13</td>\n",
              "      <td>3047.24</td>\n",
              "      <td>3012.97</td>\n",
              "      <td>668300.0</td>\n",
              "      <td>-0.0053</td>\n",
              "      <td>조선   meritz 조선 기계 Daily  국내외 주요 뉴스 및 코멘트자동차   ...</td>\n",
              "      <td>Joseon Meritz Joseon Machinery Daily Daily Maj...</td>\n",
              "    </tr>\n",
              "    <tr>\n",
              "      <th>736</th>\n",
              "      <td>2021-10-21</td>\n",
              "      <td>3007.33</td>\n",
              "      <td>3012.28</td>\n",
              "      <td>3025.88</td>\n",
              "      <td>3002.74</td>\n",
              "      <td>871150.0</td>\n",
              "      <td>-0.0019</td>\n",
              "      <td>음식료   F B Morning Talk  국제 곡물 가격 중국 아미노산 가격F B...</td>\n",
              "      <td>Food &amp; beverageFB Morning TalkInternationalgra...</td>\n",
              "    </tr>\n",
              "  </tbody>\n",
              "</table>\n",
              "<p>737 rows × 9 columns</p>\n",
              "</div>"
            ],
            "text/plain": [
              "          index  ...                                            en_list\n",
              "0    2018-10-22  ...  Blood-defense vigilant is a gold refinery indu...\n",
              "1    2018-10-23  ...  Automotive Daily Auto CHECK DAILY AUTO CHECK D...\n",
              "2    2018-10-24  ...  Distribution Daily Comments and News Updates D...\n",
              "3    2018-10-25  ...  Tesla Semiconductor IT Softer Market Ahead Sem...\n",
              "4    2018-10-26  ...  Distribution Amazon 3q18 Review Right Coexist ...\n",
              "..          ...  ...                                                ...\n",
              "732  2021-10-15  ...  Entertainment Disney Plus Showcase Summary Cor...\n",
              "733  2021-10-18  ...  Pharmaceutical Bio Weekly Major News & Public ...\n",
              "734  2021-10-19  ...  Broadcasting Videos China Regulatory Damage se...\n",
              "735  2021-10-20  ...  Joseon Meritz Joseon Machinery Daily Daily Maj...\n",
              "736  2021-10-21  ...  Food & beverageFB Morning TalkInternationalgra...\n",
              "\n",
              "[737 rows x 9 columns]"
            ]
          },
          "metadata": {},
          "execution_count": 24
        }
      ]
    },
    {
      "cell_type": "code",
      "metadata": {
        "id": "Lhesu1NdfVDx"
      },
      "source": [
        "from tensorflow.keras.preprocessing.text import text_to_word_sequence\n",
        "for i in range(len(df)):\n",
        "    df.en_list[i] = ' '.join(text_to_word_sequence(df.en_list[i]))"
      ],
      "execution_count": null,
      "outputs": []
    },
    {
      "cell_type": "code",
      "metadata": {
        "colab": {
          "base_uri": "https://localhost:8080/",
          "height": 286
        },
        "id": "dsLbzix0Aw-J",
        "outputId": "4b82114c-8c2c-41df-d5af-227b406cef36"
      },
      "source": [
        "df.head()"
      ],
      "execution_count": null,
      "outputs": [
        {
          "output_type": "execute_result",
          "data": {
            "text/html": [
              "<div>\n",
              "<style scoped>\n",
              "    .dataframe tbody tr th:only-of-type {\n",
              "        vertical-align: middle;\n",
              "    }\n",
              "\n",
              "    .dataframe tbody tr th {\n",
              "        vertical-align: top;\n",
              "    }\n",
              "\n",
              "    .dataframe thead th {\n",
              "        text-align: right;\n",
              "    }\n",
              "</style>\n",
              "<table border=\"1\" class=\"dataframe\">\n",
              "  <thead>\n",
              "    <tr style=\"text-align: right;\">\n",
              "      <th></th>\n",
              "      <th>index</th>\n",
              "      <th>Close</th>\n",
              "      <th>Open</th>\n",
              "      <th>High</th>\n",
              "      <th>Low</th>\n",
              "      <th>Volume</th>\n",
              "      <th>Change</th>\n",
              "      <th>title</th>\n",
              "      <th>en_list</th>\n",
              "    </tr>\n",
              "  </thead>\n",
              "  <tbody>\n",
              "    <tr>\n",
              "      <th>0</th>\n",
              "      <td>2018-10-22</td>\n",
              "      <td>2161.71</td>\n",
              "      <td>2143.08</td>\n",
              "      <td>2163.21</td>\n",
              "      <td>2136.92</td>\n",
              "      <td>308740000.0</td>\n",
              "      <td>0.0025</td>\n",
              "      <td>방산 방심은 금물  방산 방심은 금물정유 화학업종 IMO 2020  카슈끄지  그리...</td>\n",
              "      <td>blood defense vigilant is a gold refinery indu...</td>\n",
              "    </tr>\n",
              "    <tr>\n",
              "      <th>1</th>\n",
              "      <td>2018-10-23</td>\n",
              "      <td>2106.10</td>\n",
              "      <td>2147.30</td>\n",
              "      <td>2148.80</td>\n",
              "      <td>2094.69</td>\n",
              "      <td>373470000.0</td>\n",
              "      <td>-0.0257</td>\n",
              "      <td>자동차 Daily Auto Check  자동차 Daily Auto Check유통 D...</td>\n",
              "      <td>automotive daily auto check daily auto check d...</td>\n",
              "    </tr>\n",
              "    <tr>\n",
              "      <th>2</th>\n",
              "      <td>2018-10-24</td>\n",
              "      <td>2097.58</td>\n",
              "      <td>2119.19</td>\n",
              "      <td>2121.36</td>\n",
              "      <td>2092.10</td>\n",
              "      <td>399730000.0</td>\n",
              "      <td>-0.0040</td>\n",
              "      <td>유통 Daily 코멘트 및 뉴스 업데이트  Daily 코멘트 및 뉴스 업데이트디스플...</td>\n",
              "      <td>distribution daily comments and news updates d...</td>\n",
              "    </tr>\n",
              "    <tr>\n",
              "      <th>3</th>\n",
              "      <td>2018-10-25</td>\n",
              "      <td>2063.30</td>\n",
              "      <td>2046.67</td>\n",
              "      <td>2066.06</td>\n",
              "      <td>2033.81</td>\n",
              "      <td>376010000.0</td>\n",
              "      <td>-0.0163</td>\n",
              "      <td>건설업종 투자의 시대  투자의 시대자동차 흑자전환에 성공한 Tesla  흑자전환에 ...</td>\n",
              "      <td>tesla semiconductor it softer market ahead sem...</td>\n",
              "    </tr>\n",
              "    <tr>\n",
              "      <th>4</th>\n",
              "      <td>2018-10-26</td>\n",
              "      <td>2027.15</td>\n",
              "      <td>2066.57</td>\n",
              "      <td>2066.57</td>\n",
              "      <td>2008.86</td>\n",
              "      <td>449200000.0</td>\n",
              "      <td>-0.0175</td>\n",
              "      <td>유통 Amazon 3Q18 Review  희비 공존  Amazon 3Q18 Revi...</td>\n",
              "      <td>distribution amazon 3q18 review right coexist ...</td>\n",
              "    </tr>\n",
              "  </tbody>\n",
              "</table>\n",
              "</div>"
            ],
            "text/plain": [
              "        index  ...                                            en_list\n",
              "0  2018-10-22  ...  blood defense vigilant is a gold refinery indu...\n",
              "1  2018-10-23  ...  automotive daily auto check daily auto check d...\n",
              "2  2018-10-24  ...  distribution daily comments and news updates d...\n",
              "3  2018-10-25  ...  tesla semiconductor it softer market ahead sem...\n",
              "4  2018-10-26  ...  distribution amazon 3q18 review right coexist ...\n",
              "\n",
              "[5 rows x 9 columns]"
            ]
          },
          "metadata": {},
          "execution_count": 26
        }
      ]
    },
    {
      "cell_type": "markdown",
      "metadata": {
        "id": "H5XPobt8Y4Bn"
      },
      "source": [
        "## 불용어 제거"
      ]
    },
    {
      "cell_type": "code",
      "metadata": {
        "colab": {
          "base_uri": "https://localhost:8080/"
        },
        "id": "7Q1zETBXttgN",
        "outputId": "79199c0f-c276-4bf4-ebd2-c6b18cf79656"
      },
      "source": [
        "nltk.download('stopwords')\n",
        "nltk.download('punkt')"
      ],
      "execution_count": null,
      "outputs": [
        {
          "output_type": "stream",
          "name": "stdout",
          "text": [
            "[nltk_data] Downloading package stopwords to /root/nltk_data...\n",
            "[nltk_data]   Package stopwords is already up-to-date!\n",
            "[nltk_data] Downloading package punkt to /root/nltk_data...\n",
            "[nltk_data]   Unzipping tokenizers/punkt.zip.\n"
          ]
        },
        {
          "output_type": "execute_result",
          "data": {
            "text/plain": [
              "True"
            ]
          },
          "metadata": {},
          "execution_count": 20
        }
      ]
    },
    {
      "cell_type": "code",
      "metadata": {
        "id": "Y4mG_ZWmacW3",
        "colab": {
          "base_uri": "https://localhost:8080/"
        },
        "outputId": "557298a6-d3e5-40d7-8326-bf0cb08c3d68"
      },
      "source": [
        "from nltk.corpus import stopwords\n",
        "len(stopwords.words('english'))"
      ],
      "execution_count": null,
      "outputs": [
        {
          "output_type": "execute_result",
          "data": {
            "text/plain": [
              "179"
            ]
          },
          "metadata": {},
          "execution_count": 17
        }
      ]
    },
    {
      "cell_type": "code",
      "metadata": {
        "id": "tJjrnxl3t5Xg"
      },
      "source": [
        "from nltk.tokenize import word_tokenize  \n",
        "stop_words = set(stopwords.words('english')) \n",
        "\n",
        "title_str = []\n",
        "for i in range(len(df)):\n",
        "    word_tokens = word_tokenize(df.en_list[i].lower())\n",
        "    result = ' '.join([w for w in word_tokens if w not in stop_words])\n",
        "    title_str.append(result)"
      ],
      "execution_count": null,
      "outputs": []
    },
    {
      "cell_type": "code",
      "metadata": {
        "colab": {
          "base_uri": "https://localhost:8080/",
          "height": 286
        },
        "id": "ZKIL58l0RE-I",
        "outputId": "33ad2d61-355a-4ab1-cc4e-f16ad3ca4234"
      },
      "source": [
        "df['title_cln'] = title_str\n",
        "df.head()"
      ],
      "execution_count": null,
      "outputs": [
        {
          "output_type": "execute_result",
          "data": {
            "text/html": [
              "<div>\n",
              "<style scoped>\n",
              "    .dataframe tbody tr th:only-of-type {\n",
              "        vertical-align: middle;\n",
              "    }\n",
              "\n",
              "    .dataframe tbody tr th {\n",
              "        vertical-align: top;\n",
              "    }\n",
              "\n",
              "    .dataframe thead th {\n",
              "        text-align: right;\n",
              "    }\n",
              "</style>\n",
              "<table border=\"1\" class=\"dataframe\">\n",
              "  <thead>\n",
              "    <tr style=\"text-align: right;\">\n",
              "      <th></th>\n",
              "      <th>index</th>\n",
              "      <th>Close</th>\n",
              "      <th>Open</th>\n",
              "      <th>High</th>\n",
              "      <th>Low</th>\n",
              "      <th>Volume</th>\n",
              "      <th>Change</th>\n",
              "      <th>title</th>\n",
              "      <th>en_list</th>\n",
              "      <th>title_cln</th>\n",
              "    </tr>\n",
              "  </thead>\n",
              "  <tbody>\n",
              "    <tr>\n",
              "      <th>0</th>\n",
              "      <td>2018-10-22</td>\n",
              "      <td>2161.71</td>\n",
              "      <td>2143.08</td>\n",
              "      <td>2163.21</td>\n",
              "      <td>2136.92</td>\n",
              "      <td>308740000.0</td>\n",
              "      <td>0.0025</td>\n",
              "      <td>방산 방심은 금물  방산 방심은 금물정유 화학업종 IMO 2020  카슈끄지  그리...</td>\n",
              "      <td>blood defense vigilant is a gold refinery indu...</td>\n",
              "      <td>blood defense vigilant gold refinery industry ...</td>\n",
              "    </tr>\n",
              "    <tr>\n",
              "      <th>1</th>\n",
              "      <td>2018-10-23</td>\n",
              "      <td>2106.10</td>\n",
              "      <td>2147.30</td>\n",
              "      <td>2148.80</td>\n",
              "      <td>2094.69</td>\n",
              "      <td>373470000.0</td>\n",
              "      <td>-0.0257</td>\n",
              "      <td>자동차 Daily Auto Check  자동차 Daily Auto Check유통 D...</td>\n",
              "      <td>automotive daily auto check daily auto check d...</td>\n",
              "      <td>automotive daily auto check daily auto check d...</td>\n",
              "    </tr>\n",
              "    <tr>\n",
              "      <th>2</th>\n",
              "      <td>2018-10-24</td>\n",
              "      <td>2097.58</td>\n",
              "      <td>2119.19</td>\n",
              "      <td>2121.36</td>\n",
              "      <td>2092.10</td>\n",
              "      <td>399730000.0</td>\n",
              "      <td>-0.0040</td>\n",
              "      <td>유통 Daily 코멘트 및 뉴스 업데이트  Daily 코멘트 및 뉴스 업데이트디스플...</td>\n",
              "      <td>distribution daily comments and news updates d...</td>\n",
              "      <td>distribution daily comments news updates daily...</td>\n",
              "    </tr>\n",
              "    <tr>\n",
              "      <th>3</th>\n",
              "      <td>2018-10-25</td>\n",
              "      <td>2063.30</td>\n",
              "      <td>2046.67</td>\n",
              "      <td>2066.06</td>\n",
              "      <td>2033.81</td>\n",
              "      <td>376010000.0</td>\n",
              "      <td>-0.0163</td>\n",
              "      <td>건설업종 투자의 시대  투자의 시대자동차 흑자전환에 성공한 Tesla  흑자전환에 ...</td>\n",
              "      <td>tesla semiconductor it softer market ahead sem...</td>\n",
              "      <td>tesla semiconductor softer market ahead semico...</td>\n",
              "    </tr>\n",
              "    <tr>\n",
              "      <th>4</th>\n",
              "      <td>2018-10-26</td>\n",
              "      <td>2027.15</td>\n",
              "      <td>2066.57</td>\n",
              "      <td>2066.57</td>\n",
              "      <td>2008.86</td>\n",
              "      <td>449200000.0</td>\n",
              "      <td>-0.0175</td>\n",
              "      <td>유통 Amazon 3Q18 Review  희비 공존  Amazon 3Q18 Revi...</td>\n",
              "      <td>distribution amazon 3q18 review right coexist ...</td>\n",
              "      <td>distribution amazon 3q18 review right coexist ...</td>\n",
              "    </tr>\n",
              "  </tbody>\n",
              "</table>\n",
              "</div>"
            ],
            "text/plain": [
              "        index  ...                                          title_cln\n",
              "0  2018-10-22  ...  blood defense vigilant gold refinery industry ...\n",
              "1  2018-10-23  ...  automotive daily auto check daily auto check d...\n",
              "2  2018-10-24  ...  distribution daily comments news updates daily...\n",
              "3  2018-10-25  ...  tesla semiconductor softer market ahead semico...\n",
              "4  2018-10-26  ...  distribution amazon 3q18 review right coexist ...\n",
              "\n",
              "[5 rows x 10 columns]"
            ]
          },
          "metadata": {},
          "execution_count": 28
        }
      ]
    },
    {
      "cell_type": "code",
      "metadata": {
        "id": "DA0aUjelijQL"
      },
      "source": [
        "fre_word = [t for tr in df for t in df.title_cln] "
      ],
      "execution_count": null,
      "outputs": []
    },
    {
      "cell_type": "code",
      "metadata": {
        "id": "pCR5a1UIijNa"
      },
      "source": [
        "s_fre_word = str(fre_word)"
      ],
      "execution_count": null,
      "outputs": []
    },
    {
      "cell_type": "code",
      "metadata": {
        "id": "Lp4propUijJL"
      },
      "source": [
        "s_fre_list = s_fre_word.split()"
      ],
      "execution_count": null,
      "outputs": []
    },
    {
      "cell_type": "code",
      "metadata": {
        "colab": {
          "base_uri": "https://localhost:8080/"
        },
        "id": "0FXnENwFjxpX",
        "outputId": "e227f7f9-4e38-47cf-9b34-b74427078f82"
      },
      "source": [
        "len(s_fre_list)"
      ],
      "execution_count": null,
      "outputs": [
        {
          "output_type": "execute_result",
          "data": {
            "text/plain": [
              "2284630"
            ]
          },
          "metadata": {},
          "execution_count": 32
        }
      ]
    },
    {
      "cell_type": "code",
      "metadata": {
        "colab": {
          "base_uri": "https://localhost:8080/"
        },
        "id": "MRTpeRUNkI7A",
        "outputId": "ba6672c9-1dfa-4ebc-e4c1-9facfb4618a8"
      },
      "source": [
        "np.unique(s_fre_list)"
      ],
      "execution_count": null,
      "outputs": [
        {
          "output_type": "execute_result",
          "data": {
            "text/plain": [
              "array(['\"2019', '\"5', '\"5g', ..., '키', '특히', '합'], dtype='<U108')"
            ]
          },
          "metadata": {},
          "execution_count": 33
        }
      ]
    },
    {
      "cell_type": "code",
      "metadata": {
        "colab": {
          "base_uri": "https://localhost:8080/"
        },
        "id": "vwvejd7uj6bs",
        "outputId": "71b25b82-5012-4a6a-d657-7e8b590da7d5"
      },
      "source": [
        "len(np.unique(s_fre_list))"
      ],
      "execution_count": null,
      "outputs": [
        {
          "output_type": "execute_result",
          "data": {
            "text/plain": [
              "13067"
            ]
          },
          "metadata": {},
          "execution_count": 34
        }
      ]
    },
    {
      "cell_type": "code",
      "metadata": {
        "colab": {
          "base_uri": "https://localhost:8080/"
        },
        "id": "vX4z-qRZijGA",
        "outputId": "051002f4-f296-405c-8e3b-5fe68ce92df6"
      },
      "source": [
        "txt = nltk.Text(s_fre_list, name='word') # 빈도수 계산\n",
        "print(txt)"
      ],
      "execution_count": null,
      "outputs": [
        {
          "output_type": "stream",
          "name": "stdout",
          "text": [
            "<Text: word>\n"
          ]
        }
      ]
    },
    {
      "cell_type": "code",
      "metadata": {
        "id": "tfJgKYvnijDL",
        "colab": {
          "base_uri": "https://localhost:8080/",
          "height": 673
        },
        "outputId": "abc8f4d7-d889-46f8-dd2b-958c9a4edf53"
      },
      "source": [
        "import matplotlib\n",
        "import matplotlib.pyplot as plt\n",
        "%matplotlib inline\n",
        "\n",
        "plt.figure(figsize=(20,10))\n",
        "txt.plot(50)"
      ],
      "execution_count": null,
      "outputs": [
        {
          "output_type": "display_data",
          "data": {
            "image/png": "[encoded data removed]",
            "text/plain": [
              "<Figure size 1440x720 with 1 Axes>"
            ]
          },
          "metadata": {
            "needs_background": "light"
          }
        }
      ]
    },
    {
      "cell_type": "code",
      "metadata": {
        "colab": {
          "base_uri": "https://localhost:8080/"
        },
        "id": "BaSny10Ziqsm",
        "outputId": "77f088ff-a257-403f-914a-4b352ab6503a"
      },
      "source": [
        "sel_token=[f[0] for f in txt.vocab().most_common(500)]\n",
        "print(sel_token[:10])"
      ],
      "execution_count": null,
      "outputs": [
        {
          "output_type": "stream",
          "name": "stdout",
          "text": [
            "['daily', 'weekly', 'meritz', 'construction', 'semiconductor', 'financial', 'internet', 'cosmetics', 'energy', 'steel']\n"
          ]
        }
      ]
    },
    {
      "cell_type": "code",
      "metadata": {
        "id": "MS7ttoOkiqqC"
      },
      "source": [
        "def frev(doc):\n",
        "    return [doc.count(stoken) for stoken in sel_token]"
      ],
      "execution_count": null,
      "outputs": []
    },
    {
      "cell_type": "markdown",
      "metadata": {
        "id": "xnybCMQu2k90"
      },
      "source": [
        "## 데이터 분리"
      ]
    },
    {
      "cell_type": "code",
      "metadata": {
        "id": "8DEgk-AEiqnu"
      },
      "source": [
        "X_train, X_test, y_train, y_test = train_test_split(df.title_cln, df.Change, test_size=0.1, random_state=0)"
      ],
      "execution_count": null,
      "outputs": []
    },
    {
      "cell_type": "code",
      "metadata": {
        "id": "1WGXaAICiqk6"
      },
      "source": [
        "train_x = [frev(d) for d in X_train] \n",
        "train_y = [d for d in y_train]\n",
        "\n",
        "test_x = [frev(d) for d in X_test]\n",
        "test_y = [d for d in y_test]"
      ],
      "execution_count": null,
      "outputs": []
    },
    {
      "cell_type": "code",
      "metadata": {
        "id": "muaYp-Kqi44n"
      },
      "source": [
        "train_x=np.asarray(train_x).astype('float32')\n",
        "train_y=np.asarray(train_y).astype('float32')\n",
        "test_x=np.asarray(test_x).astype('float32')\n",
        "test_y=np.asarray(test_y).astype('float32')"
      ],
      "execution_count": null,
      "outputs": []
    },
    {
      "cell_type": "code",
      "metadata": {
        "colab": {
          "base_uri": "https://localhost:8080/"
        },
        "id": "BOBqRxXxi412",
        "outputId": "527103d5-378a-4733-a16e-45ef11dd6e45"
      },
      "source": [
        "train_x.shape, train_y.shape, test_x.shape, test_y.shape"
      ],
      "execution_count": null,
      "outputs": [
        {
          "output_type": "execute_result",
          "data": {
            "text/plain": [
              "((663, 500), (663,), (74, 500), (74,))"
            ]
          },
          "metadata": {},
          "execution_count": 43
        }
      ]
    },
    {
      "cell_type": "markdown",
      "metadata": {
        "id": "xgb4XlIC2mtc"
      },
      "source": [
        "## 모델 학습"
      ]
    },
    {
      "cell_type": "code",
      "metadata": {
        "id": "nFpCYUePi4zR"
      },
      "source": [
        "from tensorflow.keras import models\n",
        "from tensorflow.keras import layers\n",
        "from tensorflow.keras import optimizers\n",
        "from tensorflow.keras.layers import Dense, Dropout, Activation\n",
        "from tensorflow.keras.losses import Huber\n",
        "from tensorflow.keras.optimizers import Adam\n",
        "from tensorflow.keras.callbacks import EarlyStopping, ModelCheckpoint"
      ],
      "execution_count": null,
      "outputs": []
    },
    {
      "cell_type": "code",
      "metadata": {
        "colab": {
          "base_uri": "https://localhost:8080/"
        },
        "id": "4-xazigFi4wY",
        "outputId": "d96fb783-5cd5-4b80-8d9e-167968efc93b"
      },
      "source": [
        "np.random.seed(0)\n",
        "model=models.Sequential()\n",
        "\n",
        "model.add(layers.Dense(256, activation='relu',input_shape=(500,)))\n",
        "model.add(layers.Dense(128, activation='relu'))\n",
        "model.add(layers.Dense(64, activation='relu'))\n",
        "model.add(layers.Dense(32, activation='relu'))\n",
        "model.add(layers.Dense(16, activation='relu'))\n",
        "model.add(layers.Dense(8, activation='relu'))\n",
        "model.add(layers.Dense(1))\n",
        "\n",
        "loss = Huber()\n",
        "optimizer = Adam(0.0005)\n",
        "model.compile(loss=Huber(), optimizer=optimizer, metrics=['mse'])\n",
        "\n",
        "earlystopping = EarlyStopping(monitor='val_loss', patience=10)\n",
        "filename = os.path.join('tmp', 'ckeckpointer.ckpt')\n",
        "checkpoint = ModelCheckpoint(filename, \n",
        "                             save_weights_only=True, \n",
        "                             save_best_only=True, \n",
        "                             monitor='val_loss', \n",
        "                             verbose=1)\n",
        "\n",
        "hist = model.fit(train_x,train_y,epochs=300,batch_size=200, validation_data=(test_x, test_y), verbose = 2, callbacks=[checkpoint, earlystopping])"
      ],
      "execution_count": null,
      "outputs": [
        {
          "output_type": "stream",
          "name": "stdout",
          "text": [
            "Epoch 1/300\n",
            "4/4 - 1s - loss: 3.1557 - mse: 22.4074 - val_loss: 0.0637 - val_mse: 0.1273\n",
            "\n",
            "Epoch 00001: val_loss improved from inf to 0.06366, saving model to tmp/ckeckpointer.ckpt\n",
            "Epoch 2/300\n",
            "4/4 - 0s - loss: 0.2513 - mse: 0.5570 - val_loss: 0.2831 - val_mse: 0.5974\n",
            "\n",
            "Epoch 00002: val_loss did not improve from 0.06366\n",
            "Epoch 3/300\n",
            "4/4 - 0s - loss: 0.1702 - mse: 0.3514 - val_loss: 0.1334 - val_mse: 0.2725\n",
            "\n",
            "Epoch 00003: val_loss did not improve from 0.06366\n",
            "Epoch 4/300\n",
            "4/4 - 0s - loss: 0.0553 - mse: 0.1116 - val_loss: 0.0098 - val_mse: 0.0197\n",
            "\n",
            "Epoch 00004: val_loss improved from 0.06366 to 0.00985, saving model to tmp/ckeckpointer.ckpt\n",
            "Epoch 5/300\n",
            "4/4 - 0s - loss: 0.0145 - mse: 0.0290 - val_loss: 0.0125 - val_mse: 0.0249\n",
            "\n",
            "Epoch 00005: val_loss did not improve from 0.00985\n",
            "Epoch 6/300\n",
            "4/4 - 0s - loss: 0.0128 - mse: 0.0256 - val_loss: 0.0093 - val_mse: 0.0186\n",
            "\n",
            "Epoch 00006: val_loss improved from 0.00985 to 0.00931, saving model to tmp/ckeckpointer.ckpt\n",
            "Epoch 7/300\n",
            "4/4 - 0s - loss: 0.0122 - mse: 0.0243 - val_loss: 0.0076 - val_mse: 0.0152\n",
            "\n",
            "Epoch 00007: val_loss improved from 0.00931 to 0.00760, saving model to tmp/ckeckpointer.ckpt\n",
            "Epoch 8/300\n",
            "4/4 - 0s - loss: 0.0092 - mse: 0.0185 - val_loss: 0.0073 - val_mse: 0.0146\n",
            "\n",
            "Epoch 00008: val_loss improved from 0.00760 to 0.00728, saving model to tmp/ckeckpointer.ckpt\n",
            "Epoch 9/300\n",
            "4/4 - 0s - loss: 0.0080 - mse: 0.0160 - val_loss: 0.0062 - val_mse: 0.0124\n",
            "\n",
            "Epoch 00009: val_loss improved from 0.00728 to 0.00619, saving model to tmp/ckeckpointer.ckpt\n",
            "Epoch 10/300\n",
            "4/4 - 0s - loss: 0.0069 - mse: 0.0137 - val_loss: 0.0055 - val_mse: 0.0111\n",
            "\n",
            "Epoch 00010: val_loss improved from 0.00619 to 0.00553, saving model to tmp/ckeckpointer.ckpt\n",
            "Epoch 11/300\n",
            "4/4 - 0s - loss: 0.0058 - mse: 0.0116 - val_loss: 0.0049 - val_mse: 0.0097\n",
            "\n",
            "Epoch 00011: val_loss improved from 0.00553 to 0.00486, saving model to tmp/ckeckpointer.ckpt\n",
            "Epoch 12/300\n",
            "4/4 - 0s - loss: 0.0051 - mse: 0.0101 - val_loss: 0.0046 - val_mse: 0.0092\n",
            "\n",
            "Epoch 00012: val_loss improved from 0.00486 to 0.00462, saving model to tmp/ckeckpointer.ckpt\n",
            "Epoch 13/300\n",
            "4/4 - 0s - loss: 0.0046 - mse: 0.0091 - val_loss: 0.0045 - val_mse: 0.0090\n",
            "\n",
            "Epoch 00013: val_loss improved from 0.00462 to 0.00449, saving model to tmp/ckeckpointer.ckpt\n",
            "Epoch 14/300\n",
            "4/4 - 0s - loss: 0.0043 - mse: 0.0086 - val_loss: 0.0043 - val_mse: 0.0087\n",
            "\n",
            "Epoch 00014: val_loss improved from 0.00449 to 0.00434, saving model to tmp/ckeckpointer.ckpt\n",
            "Epoch 15/300\n",
            "4/4 - 0s - loss: 0.0040 - mse: 0.0079 - val_loss: 0.0040 - val_mse: 0.0080\n",
            "\n",
            "Epoch 00015: val_loss improved from 0.00434 to 0.00401, saving model to tmp/ckeckpointer.ckpt\n",
            "Epoch 16/300\n",
            "4/4 - 0s - loss: 0.0036 - mse: 0.0072 - val_loss: 0.0045 - val_mse: 0.0089\n",
            "\n",
            "Epoch 00016: val_loss did not improve from 0.00401\n",
            "Epoch 17/300\n",
            "4/4 - 0s - loss: 0.0035 - mse: 0.0069 - val_loss: 0.0038 - val_mse: 0.0076\n",
            "\n",
            "Epoch 00017: val_loss improved from 0.00401 to 0.00380, saving model to tmp/ckeckpointer.ckpt\n",
            "Epoch 18/300\n",
            "4/4 - 0s - loss: 0.0032 - mse: 0.0064 - val_loss: 0.0037 - val_mse: 0.0074\n",
            "\n",
            "Epoch 00018: val_loss improved from 0.00380 to 0.00370, saving model to tmp/ckeckpointer.ckpt\n",
            "Epoch 19/300\n",
            "4/4 - 0s - loss: 0.0031 - mse: 0.0062 - val_loss: 0.0033 - val_mse: 0.0067\n",
            "\n",
            "Epoch 00019: val_loss improved from 0.00370 to 0.00334, saving model to tmp/ckeckpointer.ckpt\n",
            "Epoch 20/300\n",
            "4/4 - 0s - loss: 0.0029 - mse: 0.0059 - val_loss: 0.0032 - val_mse: 0.0064\n",
            "\n",
            "Epoch 00020: val_loss improved from 0.00334 to 0.00319, saving model to tmp/ckeckpointer.ckpt\n",
            "Epoch 21/300\n",
            "4/4 - 0s - loss: 0.0028 - mse: 0.0056 - val_loss: 0.0031 - val_mse: 0.0063\n",
            "\n",
            "Epoch 00021: val_loss improved from 0.00319 to 0.00314, saving model to tmp/ckeckpointer.ckpt\n",
            "Epoch 22/300\n",
            "4/4 - 0s - loss: 0.0025 - mse: 0.0050 - val_loss: 0.0028 - val_mse: 0.0057\n",
            "\n",
            "Epoch 00022: val_loss improved from 0.00314 to 0.00285, saving model to tmp/ckeckpointer.ckpt\n",
            "Epoch 23/300\n",
            "4/4 - 0s - loss: 0.0024 - mse: 0.0047 - val_loss: 0.0032 - val_mse: 0.0063\n",
            "\n",
            "Epoch 00023: val_loss did not improve from 0.00285\n",
            "Epoch 24/300\n",
            "4/4 - 0s - loss: 0.0023 - mse: 0.0047 - val_loss: 0.0024 - val_mse: 0.0048\n",
            "\n",
            "Epoch 00024: val_loss improved from 0.00285 to 0.00239, saving model to tmp/ckeckpointer.ckpt\n",
            "Epoch 25/300\n",
            "4/4 - 0s - loss: 0.0022 - mse: 0.0043 - val_loss: 0.0023 - val_mse: 0.0045\n",
            "\n",
            "Epoch 00025: val_loss improved from 0.00239 to 0.00226, saving model to tmp/ckeckpointer.ckpt\n",
            "Epoch 26/300\n",
            "4/4 - 0s - loss: 0.0020 - mse: 0.0040 - val_loss: 0.0024 - val_mse: 0.0048\n",
            "\n",
            "Epoch 00026: val_loss did not improve from 0.00226\n",
            "Epoch 27/300\n",
            "4/4 - 0s - loss: 0.0019 - mse: 0.0037 - val_loss: 0.0020 - val_mse: 0.0041\n",
            "\n",
            "Epoch 00027: val_loss improved from 0.00226 to 0.00203, saving model to tmp/ckeckpointer.ckpt\n",
            "Epoch 28/300\n",
            "4/4 - 0s - loss: 0.0017 - mse: 0.0034 - val_loss: 0.0020 - val_mse: 0.0040\n",
            "\n",
            "Epoch 00028: val_loss improved from 0.00203 to 0.00201, saving model to tmp/ckeckpointer.ckpt\n",
            "Epoch 29/300\n",
            "4/4 - 0s - loss: 0.0016 - mse: 0.0032 - val_loss: 0.0019 - val_mse: 0.0037\n",
            "\n",
            "Epoch 00029: val_loss improved from 0.00201 to 0.00185, saving model to tmp/ckeckpointer.ckpt\n",
            "Epoch 30/300\n",
            "4/4 - 0s - loss: 0.0015 - mse: 0.0031 - val_loss: 0.0017 - val_mse: 0.0035\n",
            "\n",
            "Epoch 00030: val_loss improved from 0.00185 to 0.00175, saving model to tmp/ckeckpointer.ckpt\n",
            "Epoch 31/300\n",
            "4/4 - 0s - loss: 0.0014 - mse: 0.0029 - val_loss: 0.0018 - val_mse: 0.0036\n",
            "\n",
            "Epoch 00031: val_loss did not improve from 0.00175\n",
            "Epoch 32/300\n",
            "4/4 - 0s - loss: 0.0014 - mse: 0.0027 - val_loss: 0.0016 - val_mse: 0.0032\n",
            "\n",
            "Epoch 00032: val_loss improved from 0.00175 to 0.00160, saving model to tmp/ckeckpointer.ckpt\n",
            "Epoch 33/300\n",
            "4/4 - 0s - loss: 0.0014 - mse: 0.0027 - val_loss: 0.0016 - val_mse: 0.0033\n",
            "\n",
            "Epoch 00033: val_loss did not improve from 0.00160\n",
            "Epoch 34/300\n",
            "4/4 - 0s - loss: 0.0013 - mse: 0.0026 - val_loss: 0.0015 - val_mse: 0.0031\n",
            "\n",
            "Epoch 00034: val_loss improved from 0.00160 to 0.00154, saving model to tmp/ckeckpointer.ckpt\n",
            "Epoch 35/300\n",
            "4/4 - 0s - loss: 0.0013 - mse: 0.0025 - val_loss: 0.0015 - val_mse: 0.0029\n",
            "\n",
            "Epoch 00035: val_loss improved from 0.00154 to 0.00146, saving model to tmp/ckeckpointer.ckpt\n",
            "Epoch 36/300\n",
            "4/4 - 0s - loss: 0.0012 - mse: 0.0024 - val_loss: 0.0015 - val_mse: 0.0031\n",
            "\n",
            "Epoch 00036: val_loss did not improve from 0.00146\n",
            "Epoch 37/300\n",
            "4/4 - 0s - loss: 0.0011 - mse: 0.0023 - val_loss: 0.0014 - val_mse: 0.0028\n",
            "\n",
            "Epoch 00037: val_loss improved from 0.00146 to 0.00140, saving model to tmp/ckeckpointer.ckpt\n",
            "Epoch 38/300\n",
            "4/4 - 0s - loss: 0.0011 - mse: 0.0022 - val_loss: 0.0016 - val_mse: 0.0031\n",
            "\n",
            "Epoch 00038: val_loss did not improve from 0.00140\n",
            "Epoch 39/300\n",
            "4/4 - 0s - loss: 0.0011 - mse: 0.0021 - val_loss: 0.0013 - val_mse: 0.0027\n",
            "\n",
            "Epoch 00039: val_loss improved from 0.00140 to 0.00134, saving model to tmp/ckeckpointer.ckpt\n",
            "Epoch 40/300\n",
            "4/4 - 0s - loss: 0.0010 - mse: 0.0020 - val_loss: 0.0014 - val_mse: 0.0028\n",
            "\n",
            "Epoch 00040: val_loss did not improve from 0.00134\n",
            "Epoch 41/300\n",
            "4/4 - 0s - loss: 9.9735e-04 - mse: 0.0020 - val_loss: 0.0013 - val_mse: 0.0026\n",
            "\n",
            "Epoch 00041: val_loss improved from 0.00134 to 0.00129, saving model to tmp/ckeckpointer.ckpt\n",
            "Epoch 42/300\n",
            "4/4 - 0s - loss: 9.9592e-04 - mse: 0.0020 - val_loss: 0.0013 - val_mse: 0.0026\n",
            "\n",
            "Epoch 00042: val_loss did not improve from 0.00129\n",
            "Epoch 43/300\n",
            "4/4 - 0s - loss: 9.6798e-04 - mse: 0.0019 - val_loss: 0.0013 - val_mse: 0.0025\n",
            "\n",
            "Epoch 00043: val_loss improved from 0.00129 to 0.00126, saving model to tmp/ckeckpointer.ckpt\n",
            "Epoch 44/300\n",
            "4/4 - 0s - loss: 9.4437e-04 - mse: 0.0019 - val_loss: 0.0013 - val_mse: 0.0026\n",
            "\n",
            "Epoch 00044: val_loss did not improve from 0.00126\n",
            "Epoch 45/300\n",
            "4/4 - 0s - loss: 8.9126e-04 - mse: 0.0018 - val_loss: 0.0014 - val_mse: 0.0028\n",
            "\n",
            "Epoch 00045: val_loss did not improve from 0.00126\n",
            "Epoch 46/300\n",
            "4/4 - 0s - loss: 8.7634e-04 - mse: 0.0018 - val_loss: 0.0012 - val_mse: 0.0025\n",
            "\n",
            "Epoch 00046: val_loss improved from 0.00126 to 0.00124, saving model to tmp/ckeckpointer.ckpt\n",
            "Epoch 47/300\n",
            "4/4 - 0s - loss: 8.5911e-04 - mse: 0.0017 - val_loss: 0.0014 - val_mse: 0.0027\n",
            "\n",
            "Epoch 00047: val_loss did not improve from 0.00124\n",
            "Epoch 48/300\n",
            "4/4 - 0s - loss: 8.6075e-04 - mse: 0.0017 - val_loss: 0.0012 - val_mse: 0.0024\n",
            "\n",
            "Epoch 00048: val_loss improved from 0.00124 to 0.00122, saving model to tmp/ckeckpointer.ckpt\n",
            "Epoch 49/300\n",
            "4/4 - 0s - loss: 8.0761e-04 - mse: 0.0016 - val_loss: 0.0012 - val_mse: 0.0024\n",
            "\n",
            "Epoch 00049: val_loss improved from 0.00122 to 0.00119, saving model to tmp/ckeckpointer.ckpt\n",
            "Epoch 50/300\n",
            "4/4 - 0s - loss: 7.9167e-04 - mse: 0.0016 - val_loss: 0.0012 - val_mse: 0.0024\n",
            "\n",
            "Epoch 00050: val_loss did not improve from 0.00119\n",
            "Epoch 51/300\n",
            "4/4 - 0s - loss: 7.7308e-04 - mse: 0.0015 - val_loss: 0.0012 - val_mse: 0.0023\n",
            "\n",
            "Epoch 00051: val_loss improved from 0.00119 to 0.00115, saving model to tmp/ckeckpointer.ckpt\n",
            "Epoch 52/300\n",
            "4/4 - 0s - loss: 7.9080e-04 - mse: 0.0016 - val_loss: 0.0013 - val_mse: 0.0026\n",
            "\n",
            "Epoch 00052: val_loss did not improve from 0.00115\n",
            "Epoch 53/300\n",
            "4/4 - 0s - loss: 7.7971e-04 - mse: 0.0016 - val_loss: 0.0012 - val_mse: 0.0024\n",
            "\n",
            "Epoch 00053: val_loss did not improve from 0.00115\n",
            "Epoch 54/300\n",
            "4/4 - 0s - loss: 7.2587e-04 - mse: 0.0015 - val_loss: 0.0012 - val_mse: 0.0024\n",
            "\n",
            "Epoch 00054: val_loss did not improve from 0.00115\n",
            "Epoch 55/300\n",
            "4/4 - 0s - loss: 7.0776e-04 - mse: 0.0014 - val_loss: 0.0011 - val_mse: 0.0023\n",
            "\n",
            "Epoch 00055: val_loss improved from 0.00115 to 0.00115, saving model to tmp/ckeckpointer.ckpt\n",
            "Epoch 56/300\n",
            "4/4 - 0s - loss: 7.0600e-04 - mse: 0.0014 - val_loss: 0.0012 - val_mse: 0.0023\n",
            "\n",
            "Epoch 00056: val_loss did not improve from 0.00115\n",
            "Epoch 57/300\n",
            "4/4 - 0s - loss: 6.7799e-04 - mse: 0.0014 - val_loss: 0.0012 - val_mse: 0.0023\n",
            "\n",
            "Epoch 00057: val_loss did not improve from 0.00115\n",
            "Epoch 58/300\n",
            "4/4 - 0s - loss: 6.5557e-04 - mse: 0.0013 - val_loss: 0.0011 - val_mse: 0.0022\n",
            "\n",
            "Epoch 00058: val_loss improved from 0.00115 to 0.00111, saving model to tmp/ckeckpointer.ckpt\n",
            "Epoch 59/300\n",
            "4/4 - 0s - loss: 6.6733e-04 - mse: 0.0013 - val_loss: 0.0011 - val_mse: 0.0022\n",
            "\n",
            "Epoch 00059: val_loss did not improve from 0.00111\n",
            "Epoch 60/300\n",
            "4/4 - 0s - loss: 6.3769e-04 - mse: 0.0013 - val_loss: 0.0012 - val_mse: 0.0023\n",
            "\n",
            "Epoch 00060: val_loss did not improve from 0.00111\n",
            "Epoch 61/300\n",
            "4/4 - 0s - loss: 6.1514e-04 - mse: 0.0012 - val_loss: 0.0011 - val_mse: 0.0023\n",
            "\n",
            "Epoch 00061: val_loss did not improve from 0.00111\n",
            "Epoch 62/300\n",
            "4/4 - 0s - loss: 5.9842e-04 - mse: 0.0012 - val_loss: 0.0011 - val_mse: 0.0022\n",
            "\n",
            "Epoch 00062: val_loss improved from 0.00111 to 0.00111, saving model to tmp/ckeckpointer.ckpt\n",
            "Epoch 63/300\n",
            "4/4 - 0s - loss: 5.8338e-04 - mse: 0.0012 - val_loss: 0.0012 - val_mse: 0.0023\n",
            "\n",
            "Epoch 00063: val_loss did not improve from 0.00111\n",
            "Epoch 64/300\n",
            "4/4 - 0s - loss: 5.7476e-04 - mse: 0.0011 - val_loss: 0.0011 - val_mse: 0.0022\n",
            "\n",
            "Epoch 00064: val_loss improved from 0.00111 to 0.00109, saving model to tmp/ckeckpointer.ckpt\n",
            "Epoch 65/300\n",
            "4/4 - 0s - loss: 5.5668e-04 - mse: 0.0011 - val_loss: 0.0011 - val_mse: 0.0022\n",
            "\n",
            "Epoch 00065: val_loss did not improve from 0.00109\n",
            "Epoch 66/300\n",
            "4/4 - 0s - loss: 5.4578e-04 - mse: 0.0011 - val_loss: 0.0011 - val_mse: 0.0022\n",
            "\n",
            "Epoch 00066: val_loss did not improve from 0.00109\n",
            "Epoch 67/300\n",
            "4/4 - 0s - loss: 5.4071e-04 - mse: 0.0011 - val_loss: 0.0011 - val_mse: 0.0023\n",
            "\n",
            "Epoch 00067: val_loss did not improve from 0.00109\n",
            "Epoch 68/300\n",
            "4/4 - 0s - loss: 5.2046e-04 - mse: 0.0010 - val_loss: 0.0011 - val_mse: 0.0022\n",
            "\n",
            "Epoch 00068: val_loss did not improve from 0.00109\n",
            "Epoch 69/300\n",
            "4/4 - 0s - loss: 5.0838e-04 - mse: 0.0010 - val_loss: 0.0011 - val_mse: 0.0022\n",
            "\n",
            "Epoch 00069: val_loss improved from 0.00109 to 0.00108, saving model to tmp/ckeckpointer.ckpt\n",
            "Epoch 70/300\n",
            "4/4 - 0s - loss: 4.9725e-04 - mse: 9.9450e-04 - val_loss: 0.0011 - val_mse: 0.0021\n",
            "\n",
            "Epoch 00070: val_loss improved from 0.00108 to 0.00106, saving model to tmp/ckeckpointer.ckpt\n",
            "Epoch 71/300\n",
            "4/4 - 0s - loss: 4.9623e-04 - mse: 9.9245e-04 - val_loss: 0.0011 - val_mse: 0.0022\n",
            "\n",
            "Epoch 00071: val_loss did not improve from 0.00106\n",
            "Epoch 72/300\n",
            "4/4 - 0s - loss: 4.7424e-04 - mse: 9.4849e-04 - val_loss: 0.0011 - val_mse: 0.0022\n",
            "\n",
            "Epoch 00072: val_loss did not improve from 0.00106\n",
            "Epoch 73/300\n",
            "4/4 - 0s - loss: 4.6884e-04 - mse: 9.3768e-04 - val_loss: 0.0011 - val_mse: 0.0021\n",
            "\n",
            "Epoch 00073: val_loss did not improve from 0.00106\n",
            "Epoch 74/300\n",
            "4/4 - 0s - loss: 4.6266e-04 - mse: 9.2531e-04 - val_loss: 0.0011 - val_mse: 0.0023\n",
            "\n",
            "Epoch 00074: val_loss did not improve from 0.00106\n",
            "Epoch 75/300\n",
            "4/4 - 0s - loss: 4.5053e-04 - mse: 9.0106e-04 - val_loss: 0.0010 - val_mse: 0.0021\n",
            "\n",
            "Epoch 00075: val_loss improved from 0.00106 to 0.00104, saving model to tmp/ckeckpointer.ckpt\n",
            "Epoch 76/300\n",
            "4/4 - 0s - loss: 4.3012e-04 - mse: 8.6024e-04 - val_loss: 0.0011 - val_mse: 0.0022\n",
            "\n",
            "Epoch 00076: val_loss did not improve from 0.00104\n",
            "Epoch 77/300\n",
            "4/4 - 0s - loss: 4.3088e-04 - mse: 8.6176e-04 - val_loss: 0.0010 - val_mse: 0.0020\n",
            "\n",
            "Epoch 00077: val_loss improved from 0.00104 to 0.00101, saving model to tmp/ckeckpointer.ckpt\n",
            "Epoch 78/300\n",
            "4/4 - 0s - loss: 4.0996e-04 - mse: 8.1993e-04 - val_loss: 0.0011 - val_mse: 0.0021\n",
            "\n",
            "Epoch 00078: val_loss did not improve from 0.00101\n",
            "Epoch 79/300\n",
            "4/4 - 0s - loss: 4.1241e-04 - mse: 8.2481e-04 - val_loss: 0.0010 - val_mse: 0.0020\n",
            "\n",
            "Epoch 00079: val_loss did not improve from 0.00101\n",
            "Epoch 80/300\n",
            "4/4 - 0s - loss: 4.6037e-04 - mse: 9.2075e-04 - val_loss: 0.0012 - val_mse: 0.0023\n",
            "\n",
            "Epoch 00080: val_loss did not improve from 0.00101\n",
            "Epoch 81/300\n",
            "4/4 - 0s - loss: 4.0965e-04 - mse: 8.1931e-04 - val_loss: 9.9305e-04 - val_mse: 0.0020\n",
            "\n",
            "Epoch 00081: val_loss improved from 0.00101 to 0.00099, saving model to tmp/ckeckpointer.ckpt\n",
            "Epoch 82/300\n",
            "4/4 - 0s - loss: 3.9989e-04 - mse: 7.9977e-04 - val_loss: 0.0011 - val_mse: 0.0021\n",
            "\n",
            "Epoch 00082: val_loss did not improve from 0.00099\n",
            "Epoch 83/300\n",
            "4/4 - 0s - loss: 3.7312e-04 - mse: 7.4624e-04 - val_loss: 0.0010 - val_mse: 0.0020\n",
            "\n",
            "Epoch 00083: val_loss did not improve from 0.00099\n",
            "Epoch 84/300\n",
            "4/4 - 0s - loss: 3.5854e-04 - mse: 7.1709e-04 - val_loss: 0.0011 - val_mse: 0.0021\n",
            "\n",
            "Epoch 00084: val_loss did not improve from 0.00099\n",
            "Epoch 85/300\n",
            "4/4 - 0s - loss: 3.4849e-04 - mse: 6.9698e-04 - val_loss: 0.0010 - val_mse: 0.0021\n",
            "\n",
            "Epoch 00085: val_loss did not improve from 0.00099\n",
            "Epoch 86/300\n",
            "4/4 - 0s - loss: 3.4033e-04 - mse: 6.8067e-04 - val_loss: 0.0010 - val_mse: 0.0020\n",
            "\n",
            "Epoch 00086: val_loss did not improve from 0.00099\n",
            "Epoch 87/300\n",
            "4/4 - 0s - loss: 3.4679e-04 - mse: 6.9359e-04 - val_loss: 0.0011 - val_mse: 0.0022\n",
            "\n",
            "Epoch 00087: val_loss did not improve from 0.00099\n",
            "Epoch 88/300\n",
            "4/4 - 0s - loss: 3.4575e-04 - mse: 6.9151e-04 - val_loss: 9.8751e-04 - val_mse: 0.0020\n",
            "\n",
            "Epoch 00088: val_loss improved from 0.00099 to 0.00099, saving model to tmp/ckeckpointer.ckpt\n",
            "Epoch 89/300\n",
            "4/4 - 0s - loss: 3.4496e-04 - mse: 6.8992e-04 - val_loss: 0.0012 - val_mse: 0.0023\n",
            "\n",
            "Epoch 00089: val_loss did not improve from 0.00099\n",
            "Epoch 90/300\n",
            "4/4 - 0s - loss: 3.2656e-04 - mse: 6.5312e-04 - val_loss: 9.9857e-04 - val_mse: 0.0020\n",
            "\n",
            "Epoch 00090: val_loss did not improve from 0.00099\n",
            "Epoch 91/300\n",
            "4/4 - 0s - loss: 3.5052e-04 - mse: 7.0105e-04 - val_loss: 0.0011 - val_mse: 0.0023\n",
            "\n",
            "Epoch 00091: val_loss did not improve from 0.00099\n",
            "Epoch 92/300\n",
            "4/4 - 0s - loss: 3.1647e-04 - mse: 6.3293e-04 - val_loss: 9.8901e-04 - val_mse: 0.0020\n",
            "\n",
            "Epoch 00092: val_loss did not improve from 0.00099\n",
            "Epoch 93/300\n",
            "4/4 - 0s - loss: 2.9681e-04 - mse: 5.9361e-04 - val_loss: 0.0010 - val_mse: 0.0021\n",
            "\n",
            "Epoch 00093: val_loss did not improve from 0.00099\n",
            "Epoch 94/300\n",
            "4/4 - 0s - loss: 2.9345e-04 - mse: 5.8689e-04 - val_loss: 9.8328e-04 - val_mse: 0.0020\n",
            "\n",
            "Epoch 00094: val_loss improved from 0.00099 to 0.00098, saving model to tmp/ckeckpointer.ckpt\n",
            "Epoch 95/300\n",
            "4/4 - 0s - loss: 2.6844e-04 - mse: 5.3688e-04 - val_loss: 0.0010 - val_mse: 0.0021\n",
            "\n",
            "Epoch 00095: val_loss did not improve from 0.00098\n",
            "Epoch 96/300\n",
            "4/4 - 0s - loss: 2.6890e-04 - mse: 5.3779e-04 - val_loss: 9.6789e-04 - val_mse: 0.0019\n",
            "\n",
            "Epoch 00096: val_loss improved from 0.00098 to 0.00097, saving model to tmp/ckeckpointer.ckpt\n",
            "Epoch 97/300\n",
            "4/4 - 0s - loss: 2.6437e-04 - mse: 5.2873e-04 - val_loss: 0.0010 - val_mse: 0.0020\n",
            "\n",
            "Epoch 00097: val_loss did not improve from 0.00097\n",
            "Epoch 98/300\n",
            "4/4 - 0s - loss: 2.5547e-04 - mse: 5.1094e-04 - val_loss: 9.5774e-04 - val_mse: 0.0019\n",
            "\n",
            "Epoch 00098: val_loss improved from 0.00097 to 0.00096, saving model to tmp/ckeckpointer.ckpt\n",
            "Epoch 99/300\n",
            "4/4 - 0s - loss: 2.5658e-04 - mse: 5.1316e-04 - val_loss: 9.8043e-04 - val_mse: 0.0020\n",
            "\n",
            "Epoch 00099: val_loss did not improve from 0.00096\n",
            "Epoch 100/300\n",
            "4/4 - 0s - loss: 2.5264e-04 - mse: 5.0529e-04 - val_loss: 9.8191e-04 - val_mse: 0.0020\n",
            "\n",
            "Epoch 00100: val_loss did not improve from 0.00096\n",
            "Epoch 101/300\n",
            "4/4 - 0s - loss: 2.4021e-04 - mse: 4.8042e-04 - val_loss: 9.7960e-04 - val_mse: 0.0020\n",
            "\n",
            "Epoch 00101: val_loss did not improve from 0.00096\n",
            "Epoch 102/300\n",
            "4/4 - 0s - loss: 2.3105e-04 - mse: 4.6210e-04 - val_loss: 9.9379e-04 - val_mse: 0.0020\n",
            "\n",
            "Epoch 00102: val_loss did not improve from 0.00096\n",
            "Epoch 103/300\n",
            "4/4 - 0s - loss: 2.2565e-04 - mse: 4.5130e-04 - val_loss: 0.0010 - val_mse: 0.0021\n",
            "\n",
            "Epoch 00103: val_loss did not improve from 0.00096\n",
            "Epoch 104/300\n",
            "4/4 - 0s - loss: 2.2785e-04 - mse: 4.5569e-04 - val_loss: 9.8817e-04 - val_mse: 0.0020\n",
            "\n",
            "Epoch 00104: val_loss did not improve from 0.00096\n",
            "Epoch 105/300\n",
            "4/4 - 0s - loss: 2.1621e-04 - mse: 4.3242e-04 - val_loss: 9.5026e-04 - val_mse: 0.0019\n",
            "\n",
            "Epoch 00105: val_loss improved from 0.00096 to 0.00095, saving model to tmp/ckeckpointer.ckpt\n",
            "Epoch 106/300\n",
            "4/4 - 0s - loss: 2.2620e-04 - mse: 4.5240e-04 - val_loss: 0.0010 - val_mse: 0.0020\n",
            "\n",
            "Epoch 00106: val_loss did not improve from 0.00095\n",
            "Epoch 107/300\n",
            "4/4 - 0s - loss: 2.1326e-04 - mse: 4.2653e-04 - val_loss: 9.4221e-04 - val_mse: 0.0019\n",
            "\n",
            "Epoch 00107: val_loss improved from 0.00095 to 0.00094, saving model to tmp/ckeckpointer.ckpt\n",
            "Epoch 108/300\n",
            "4/4 - 0s - loss: 2.0227e-04 - mse: 4.0453e-04 - val_loss: 0.0010 - val_mse: 0.0020\n",
            "\n",
            "Epoch 00108: val_loss did not improve from 0.00094\n",
            "Epoch 109/300\n",
            "4/4 - 0s - loss: 2.0083e-04 - mse: 4.0166e-04 - val_loss: 9.8675e-04 - val_mse: 0.0020\n",
            "\n",
            "Epoch 00109: val_loss did not improve from 0.00094\n",
            "Epoch 110/300\n",
            "4/4 - 0s - loss: 1.9158e-04 - mse: 3.8315e-04 - val_loss: 0.0010 - val_mse: 0.0020\n",
            "\n",
            "Epoch 00110: val_loss did not improve from 0.00094\n",
            "Epoch 111/300\n",
            "4/4 - 0s - loss: 1.9101e-04 - mse: 3.8203e-04 - val_loss: 9.4812e-04 - val_mse: 0.0019\n",
            "\n",
            "Epoch 00111: val_loss did not improve from 0.00094\n",
            "Epoch 112/300\n",
            "4/4 - 0s - loss: 1.8979e-04 - mse: 3.7959e-04 - val_loss: 9.5505e-04 - val_mse: 0.0019\n",
            "\n",
            "Epoch 00112: val_loss did not improve from 0.00094\n",
            "Epoch 113/300\n",
            "4/4 - 0s - loss: 1.8087e-04 - mse: 3.6174e-04 - val_loss: 9.4400e-04 - val_mse: 0.0019\n",
            "\n",
            "Epoch 00113: val_loss did not improve from 0.00094\n",
            "Epoch 114/300\n",
            "4/4 - 0s - loss: 1.7702e-04 - mse: 3.5403e-04 - val_loss: 9.4513e-04 - val_mse: 0.0019\n",
            "\n",
            "Epoch 00114: val_loss did not improve from 0.00094\n",
            "Epoch 115/300\n",
            "4/4 - 0s - loss: 1.7475e-04 - mse: 3.4949e-04 - val_loss: 9.8368e-04 - val_mse: 0.0020\n",
            "\n",
            "Epoch 00115: val_loss did not improve from 0.00094\n",
            "Epoch 116/300\n",
            "4/4 - 0s - loss: 1.7207e-04 - mse: 3.4413e-04 - val_loss: 9.2673e-04 - val_mse: 0.0019\n",
            "\n",
            "Epoch 00116: val_loss improved from 0.00094 to 0.00093, saving model to tmp/ckeckpointer.ckpt\n",
            "Epoch 117/300\n",
            "4/4 - 0s - loss: 1.6716e-04 - mse: 3.3432e-04 - val_loss: 9.3402e-04 - val_mse: 0.0019\n",
            "\n",
            "Epoch 00117: val_loss did not improve from 0.00093\n",
            "Epoch 118/300\n",
            "4/4 - 0s - loss: 1.6710e-04 - mse: 3.3420e-04 - val_loss: 9.3943e-04 - val_mse: 0.0019\n",
            "\n",
            "Epoch 00118: val_loss did not improve from 0.00093\n",
            "Epoch 119/300\n",
            "4/4 - 0s - loss: 1.6872e-04 - mse: 3.3744e-04 - val_loss: 9.0936e-04 - val_mse: 0.0018\n",
            "\n",
            "Epoch 00119: val_loss improved from 0.00093 to 0.00091, saving model to tmp/ckeckpointer.ckpt\n",
            "Epoch 120/300\n",
            "4/4 - 0s - loss: 1.6694e-04 - mse: 3.3388e-04 - val_loss: 9.6632e-04 - val_mse: 0.0019\n",
            "\n",
            "Epoch 00120: val_loss did not improve from 0.00091\n",
            "Epoch 121/300\n",
            "4/4 - 0s - loss: 1.6058e-04 - mse: 3.2117e-04 - val_loss: 9.5990e-04 - val_mse: 0.0019\n",
            "\n",
            "Epoch 00121: val_loss did not improve from 0.00091\n",
            "Epoch 122/300\n",
            "4/4 - 0s - loss: 1.5083e-04 - mse: 3.0166e-04 - val_loss: 9.3735e-04 - val_mse: 0.0019\n",
            "\n",
            "Epoch 00122: val_loss did not improve from 0.00091\n",
            "Epoch 123/300\n",
            "4/4 - 0s - loss: 1.4850e-04 - mse: 2.9700e-04 - val_loss: 9.1759e-04 - val_mse: 0.0018\n",
            "\n",
            "Epoch 00123: val_loss did not improve from 0.00091\n",
            "Epoch 124/300\n",
            "4/4 - 0s - loss: 1.4476e-04 - mse: 2.8953e-04 - val_loss: 9.0969e-04 - val_mse: 0.0018\n",
            "\n",
            "Epoch 00124: val_loss did not improve from 0.00091\n",
            "Epoch 125/300\n",
            "4/4 - 0s - loss: 1.4085e-04 - mse: 2.8170e-04 - val_loss: 9.4400e-04 - val_mse: 0.0019\n",
            "\n",
            "Epoch 00125: val_loss did not improve from 0.00091\n",
            "Epoch 126/300\n",
            "4/4 - 0s - loss: 1.3579e-04 - mse: 2.7159e-04 - val_loss: 9.5115e-04 - val_mse: 0.0019\n",
            "\n",
            "Epoch 00126: val_loss did not improve from 0.00091\n",
            "Epoch 127/300\n",
            "4/4 - 0s - loss: 1.3541e-04 - mse: 2.7082e-04 - val_loss: 9.5349e-04 - val_mse: 0.0019\n",
            "\n",
            "Epoch 00127: val_loss did not improve from 0.00091\n",
            "Epoch 128/300\n",
            "4/4 - 0s - loss: 1.2988e-04 - mse: 2.5976e-04 - val_loss: 9.3648e-04 - val_mse: 0.0019\n",
            "\n",
            "Epoch 00128: val_loss did not improve from 0.00091\n",
            "Epoch 129/300\n",
            "4/4 - 0s - loss: 1.2733e-04 - mse: 2.5466e-04 - val_loss: 9.0606e-04 - val_mse: 0.0018\n",
            "\n",
            "Epoch 00129: val_loss improved from 0.00091 to 0.00091, saving model to tmp/ckeckpointer.ckpt\n",
            "Epoch 130/300\n",
            "4/4 - 0s - loss: 1.2581e-04 - mse: 2.5163e-04 - val_loss: 9.1926e-04 - val_mse: 0.0018\n",
            "\n",
            "Epoch 00130: val_loss did not improve from 0.00091\n",
            "Epoch 131/300\n",
            "4/4 - 0s - loss: 1.2138e-04 - mse: 2.4277e-04 - val_loss: 9.3223e-04 - val_mse: 0.0019\n",
            "\n",
            "Epoch 00131: val_loss did not improve from 0.00091\n",
            "Epoch 132/300\n",
            "4/4 - 0s - loss: 1.1997e-04 - mse: 2.3994e-04 - val_loss: 9.6677e-04 - val_mse: 0.0019\n",
            "\n",
            "Epoch 00132: val_loss did not improve from 0.00091\n",
            "Epoch 133/300\n",
            "4/4 - 0s - loss: 1.1697e-04 - mse: 2.3395e-04 - val_loss: 9.4060e-04 - val_mse: 0.0019\n",
            "\n",
            "Epoch 00133: val_loss did not improve from 0.00091\n",
            "Epoch 134/300\n",
            "4/4 - 0s - loss: 1.1870e-04 - mse: 2.3739e-04 - val_loss: 9.2112e-04 - val_mse: 0.0018\n",
            "\n",
            "Epoch 00134: val_loss did not improve from 0.00091\n",
            "Epoch 135/300\n",
            "4/4 - 0s - loss: 1.1269e-04 - mse: 2.2538e-04 - val_loss: 9.1935e-04 - val_mse: 0.0018\n",
            "\n",
            "Epoch 00135: val_loss did not improve from 0.00091\n",
            "Epoch 136/300\n",
            "4/4 - 0s - loss: 1.1036e-04 - mse: 2.2072e-04 - val_loss: 8.9314e-04 - val_mse: 0.0018\n",
            "\n",
            "Epoch 00136: val_loss improved from 0.00091 to 0.00089, saving model to tmp/ckeckpointer.ckpt\n",
            "Epoch 137/300\n",
            "4/4 - 0s - loss: 1.1203e-04 - mse: 2.2407e-04 - val_loss: 9.0000e-04 - val_mse: 0.0018\n",
            "\n",
            "Epoch 00137: val_loss did not improve from 0.00089\n",
            "Epoch 138/300\n",
            "4/4 - 0s - loss: 1.0739e-04 - mse: 2.1477e-04 - val_loss: 9.5863e-04 - val_mse: 0.0019\n",
            "\n",
            "Epoch 00138: val_loss did not improve from 0.00089\n",
            "Epoch 139/300\n",
            "4/4 - 0s - loss: 1.0353e-04 - mse: 2.0705e-04 - val_loss: 9.3527e-04 - val_mse: 0.0019\n",
            "\n",
            "Epoch 00139: val_loss did not improve from 0.00089\n",
            "Epoch 140/300\n",
            "4/4 - 0s - loss: 1.0071e-04 - mse: 2.0142e-04 - val_loss: 9.2427e-04 - val_mse: 0.0018\n",
            "\n",
            "Epoch 00140: val_loss did not improve from 0.00089\n",
            "Epoch 141/300\n",
            "4/4 - 0s - loss: 1.0390e-04 - mse: 2.0781e-04 - val_loss: 9.5350e-04 - val_mse: 0.0019\n",
            "\n",
            "Epoch 00141: val_loss did not improve from 0.00089\n",
            "Epoch 142/300\n",
            "4/4 - 0s - loss: 1.0290e-04 - mse: 2.0580e-04 - val_loss: 9.1918e-04 - val_mse: 0.0018\n",
            "\n",
            "Epoch 00142: val_loss did not improve from 0.00089\n",
            "Epoch 143/300\n",
            "4/4 - 0s - loss: 1.1325e-04 - mse: 2.2650e-04 - val_loss: 9.5120e-04 - val_mse: 0.0019\n",
            "\n",
            "Epoch 00143: val_loss did not improve from 0.00089\n",
            "Epoch 144/300\n",
            "4/4 - 0s - loss: 9.8892e-05 - mse: 1.9778e-04 - val_loss: 9.2824e-04 - val_mse: 0.0019\n",
            "\n",
            "Epoch 00144: val_loss did not improve from 0.00089\n",
            "Epoch 145/300\n",
            "4/4 - 0s - loss: 9.9417e-05 - mse: 1.9883e-04 - val_loss: 9.2331e-04 - val_mse: 0.0018\n",
            "\n",
            "Epoch 00145: val_loss did not improve from 0.00089\n",
            "Epoch 146/300\n",
            "4/4 - 0s - loss: 1.0195e-04 - mse: 2.0391e-04 - val_loss: 9.3706e-04 - val_mse: 0.0019\n",
            "\n",
            "Epoch 00146: val_loss did not improve from 0.00089\n"
          ]
        }
      ]
    },
    {
      "cell_type": "code",
      "metadata": {
        "colab": {
          "base_uri": "https://localhost:8080/"
        },
        "id": "RyUyfYTtjLcE",
        "outputId": "3be1c655-6cbc-4510-c8e4-d7e02fe051f3"
      },
      "source": [
        "model.summary()"
      ],
      "execution_count": null,
      "outputs": [
        {
          "output_type": "stream",
          "name": "stdout",
          "text": [
            "Model: \"sequential\"\n",
            "_________________________________________________________________\n",
            "Layer (type)                 Output Shape              Param #   \n",
            "=================================================================\n",
            "dense (Dense)                (None, 256)               128256    \n",
            "_________________________________________________________________\n",
            "dense_1 (Dense)              (None, 128)               32896     \n",
            "_________________________________________________________________\n",
            "dense_2 (Dense)              (None, 64)                8256      \n",
            "_________________________________________________________________\n",
            "dense_3 (Dense)              (None, 32)                2080      \n",
            "_________________________________________________________________\n",
            "dense_4 (Dense)              (None, 16)                528       \n",
            "_________________________________________________________________\n",
            "dense_5 (Dense)              (None, 8)                 136       \n",
            "_________________________________________________________________\n",
            "dense_6 (Dense)              (None, 1)                 9         \n",
            "=================================================================\n",
            "Total params: 172,161\n",
            "Trainable params: 172,161\n",
            "Non-trainable params: 0\n",
            "_________________________________________________________________\n"
          ]
        }
      ]
    },
    {
      "cell_type": "code",
      "metadata": {
        "id": "uGxSKgTITm6p"
      },
      "source": [
        "pred = model.predict(test_x)"
      ],
      "execution_count": null,
      "outputs": []
    },
    {
      "cell_type": "code",
      "metadata": {
        "colab": {
          "base_uri": "https://localhost:8080/",
          "height": 537
        },
        "id": "HNQClZnxTwwP",
        "outputId": "230aa332-532c-462f-da58-0ade36116126"
      },
      "source": [
        "plt.figure(figsize=(12, 9))\n",
        "plt.plot(np.asarray(y_test), label='actual')\n",
        "plt.plot(pred, label='prediction')\n",
        "plt.legend() \n",
        "plt.show() "
      ],
      "execution_count": null,
      "outputs": [
        {
          "output_type": "display_data",
          "data": {
            "image/png": "[encoded data removed]",
            "text/plain": [
              "<Figure size 864x648 with 1 Axes>"
            ]
          },
          "metadata": {
            "needs_background": "light"
          }
        }
      ]
    },
    {
      "cell_type": "code",
      "metadata": {
        "colab": {
          "base_uri": "https://localhost:8080/",
          "height": 295
        },
        "id": "IicMNW_CVui8",
        "outputId": "b7096c40-aa2d-40f1-a6f5-4d6237c756f3"
      },
      "source": [
        "loss = hist.history['loss']\n",
        "val_loss = hist.history['val_loss']\n",
        "\n",
        "epochs = range(1, len(loss) + 1)\n",
        "\n",
        "plt.plot(epochs, loss, 'ro', label='Training loss')\n",
        "\n",
        "plt.plot(epochs, val_loss, 'b', label='Validation loss')\n",
        "plt.title('Training and validation loss')\n",
        "plt.xlabel('Epochs')\n",
        "plt.ylabel('Loss')\n",
        "plt.ylim((0,0.01))\n",
        "plt.legend() \n",
        "\n",
        "plt.show()"
      ],
      "execution_count": null,
      "outputs": [
        {
          "output_type": "display_data",
          "data": {
            "image/png": "[encoded data removed]",
            "text/plain": [
              "<Figure size 432x288 with 1 Axes>"
            ]
          },
          "metadata": {
            "needs_background": "light"
          }
        }
      ]
    },
    {
      "cell_type": "code",
      "metadata": {
        "id": "MorotaWNmuSN",
        "colab": {
          "base_uri": "https://localhost:8080/",
          "height": 295
        },
        "outputId": "0471b578-15f7-410e-cc51-6e572ad6890f"
      },
      "source": [
        "mse = hist.history['mse']\n",
        "val_mse = hist.history['val_mse']\n",
        "\n",
        "epochs = range(1, len(mse) + 1)\n",
        "\n",
        "plt.plot(epochs, mse, 'ro', label='Training mse')\n",
        "\n",
        "plt.plot(epochs, val_mse, 'b', label='Validation mse')\n",
        "plt.title('Training and validation mse')\n",
        "plt.xlabel('Epochs')\n",
        "plt.ylabel('MSE') \n",
        "plt.ylim((0,0.01))\n",
        "plt.legend()\n",
        "\n",
        "plt.show() "
      ],
      "execution_count": null,
      "outputs": [
        {
          "output_type": "display_data",
          "data": {
            "image/png": "[encoded data removed]",
            "text/plain": [
              "<Figure size 432x288 with 1 Axes>"
            ]
          },
          "metadata": {
            "needs_background": "light"
          }
        }
      ]
    }
  ]
}