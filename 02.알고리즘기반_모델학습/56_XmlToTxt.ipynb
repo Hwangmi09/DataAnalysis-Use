{
  "cells": [
    {
      "cell_type": "markdown",
      "metadata": {
        "id": "T05FVKKRNUvu"
      },
      "source": [
        "- yolo 객체 인식 학습을 위한 데이터 만들기 (xml을 txt로 변환)\n",
        "- https://github.com/Isabek/XmlToTxt"
      ]
    },
    {
      "cell_type": "code",
      "execution_count": null,
      "metadata": {
        "colab": {
          "base_uri": "https://localhost:8080/"
        },
        "id": "s5dleFR1QuqE",
        "outputId": "978dfe49-7026-421e-ed16-54cfb96a091c"
      },
      "outputs": [
        {
          "name": "stdout",
          "output_type": "stream",
          "text": [
            "Collecting declxml==0.9.1\n",
            "  Downloading declxml-0.9.1-py3-none-any.whl (7.3 kB)\n",
            "Installing collected packages: declxml\n",
            "Successfully installed declxml-0.9.1\n"
          ]
        }
      ],
      "source": [
        "! sudo pip install -r requirements.txt"
      ]
    },
    {
      "cell_type": "code",
      "execution_count": null,
      "metadata": {
        "id": "ud5nt7N4RHhG"
      },
      "outputs": [],
      "source": [
        "! python xmltotxt.py -c classes.txt -xml /content/drive/MyDrive/데이터/kaggle/annotations_100 -out /content/drive/MyDrive/데이터/kaggle/out_100"
      ]
    },
    {
      "cell_type": "markdown",
      "metadata": {},
      "source": [
        "- png to jpg"
      ]
    },
    {
      "cell_type": "code",
      "execution_count": null,
      "metadata": {
        "colab": {
          "base_uri": "https://localhost:8080/"
        },
        "id": "1SY-5S5Kfh3U",
        "outputId": "2059db9e-6481-4a12-9ea0-70277c6ebbfc"
      },
      "outputs": [
        {
          "data": {
            "text/plain": [
              "['/content/drive/MyDrive/데이터/kaggle/images_100/hard_hat_workers0.png',\n",
              " '/content/drive/MyDrive/데이터/kaggle/images_100/hard_hat_workers1.png',\n",
              " '/content/drive/MyDrive/데이터/kaggle/images_100/hard_hat_workers10.png',\n",
              " '/content/drive/MyDrive/데이터/kaggle/images_100/hard_hat_workers100.png',\n",
              " '/content/drive/MyDrive/데이터/kaggle/images_100/hard_hat_workers101.png',\n",
              " '/content/drive/MyDrive/데이터/kaggle/images_100/hard_hat_workers102.png',\n",
              " '/content/drive/MyDrive/데이터/kaggle/images_100/hard_hat_workers103.png',\n",
              " '/content/drive/MyDrive/데이터/kaggle/images_100/hard_hat_workers104.png',\n",
              " '/content/drive/MyDrive/데이터/kaggle/images_100/hard_hat_workers105.png',\n",
              " '/content/drive/MyDrive/데이터/kaggle/images_100/hard_hat_workers106.png',\n",
              " '/content/drive/MyDrive/데이터/kaggle/images_100/hard_hat_workers107.png',\n",
              " '/content/drive/MyDrive/데이터/kaggle/images_100/hard_hat_workers108.png',\n",
              " '/content/drive/MyDrive/데이터/kaggle/images_100/hard_hat_workers109.png',\n",
              " '/content/drive/MyDrive/데이터/kaggle/images_100/hard_hat_workers11.png',\n",
              " '/content/drive/MyDrive/데이터/kaggle/images_100/hard_hat_workers110.png',\n",
              " '/content/drive/MyDrive/데이터/kaggle/images_100/hard_hat_workers111.png',\n",
              " '/content/drive/MyDrive/데이터/kaggle/images_100/hard_hat_workers112.png',\n",
              " '/content/drive/MyDrive/데이터/kaggle/images_100/hard_hat_workers113.png',\n",
              " '/content/drive/MyDrive/데이터/kaggle/images_100/hard_hat_workers114.png',\n",
              " '/content/drive/MyDrive/데이터/kaggle/images_100/hard_hat_workers115.png',\n",
              " '/content/drive/MyDrive/데이터/kaggle/images_100/hard_hat_workers116.png',\n",
              " '/content/drive/MyDrive/데이터/kaggle/images_100/hard_hat_workers117.png',\n",
              " '/content/drive/MyDrive/데이터/kaggle/images_100/hard_hat_workers118.png',\n",
              " '/content/drive/MyDrive/데이터/kaggle/images_100/hard_hat_workers119.png',\n",
              " '/content/drive/MyDrive/데이터/kaggle/images_100/hard_hat_workers12.png',\n",
              " '/content/drive/MyDrive/데이터/kaggle/images_100/hard_hat_workers120.png',\n",
              " '/content/drive/MyDrive/데이터/kaggle/images_100/hard_hat_workers13.png',\n",
              " '/content/drive/MyDrive/데이터/kaggle/images_100/hard_hat_workers14.png',\n",
              " '/content/drive/MyDrive/데이터/kaggle/images_100/hard_hat_workers15.png',\n",
              " '/content/drive/MyDrive/데이터/kaggle/images_100/hard_hat_workers16.png',\n",
              " '/content/drive/MyDrive/데이터/kaggle/images_100/hard_hat_workers17.png',\n",
              " '/content/drive/MyDrive/데이터/kaggle/images_100/hard_hat_workers18.png',\n",
              " '/content/drive/MyDrive/데이터/kaggle/images_100/hard_hat_workers19.png',\n",
              " '/content/drive/MyDrive/데이터/kaggle/images_100/hard_hat_workers2.png',\n",
              " '/content/drive/MyDrive/데이터/kaggle/images_100/hard_hat_workers20.png',\n",
              " '/content/drive/MyDrive/데이터/kaggle/images_100/hard_hat_workers21.png',\n",
              " '/content/drive/MyDrive/데이터/kaggle/images_100/hard_hat_workers22.png',\n",
              " '/content/drive/MyDrive/데이터/kaggle/images_100/hard_hat_workers23.png',\n",
              " '/content/drive/MyDrive/데이터/kaggle/images_100/hard_hat_workers24.png',\n",
              " '/content/drive/MyDrive/데이터/kaggle/images_100/hard_hat_workers25.png',\n",
              " '/content/drive/MyDrive/데이터/kaggle/images_100/hard_hat_workers26.png',\n",
              " '/content/drive/MyDrive/데이터/kaggle/images_100/hard_hat_workers27.png',\n",
              " '/content/drive/MyDrive/데이터/kaggle/images_100/hard_hat_workers28.png',\n",
              " '/content/drive/MyDrive/데이터/kaggle/images_100/hard_hat_workers29.png',\n",
              " '/content/drive/MyDrive/데이터/kaggle/images_100/hard_hat_workers3.png',\n",
              " '/content/drive/MyDrive/데이터/kaggle/images_100/hard_hat_workers30.png',\n",
              " '/content/drive/MyDrive/데이터/kaggle/images_100/hard_hat_workers31.png',\n",
              " '/content/drive/MyDrive/데이터/kaggle/images_100/hard_hat_workers32.png',\n",
              " '/content/drive/MyDrive/데이터/kaggle/images_100/hard_hat_workers33.png',\n",
              " '/content/drive/MyDrive/데이터/kaggle/images_100/hard_hat_workers34.png',\n",
              " '/content/drive/MyDrive/데이터/kaggle/images_100/hard_hat_workers35.png',\n",
              " '/content/drive/MyDrive/데이터/kaggle/images_100/hard_hat_workers36.png',\n",
              " '/content/drive/MyDrive/데이터/kaggle/images_100/hard_hat_workers37.png',\n",
              " '/content/drive/MyDrive/데이터/kaggle/images_100/hard_hat_workers38.png',\n",
              " '/content/drive/MyDrive/데이터/kaggle/images_100/hard_hat_workers39.png',\n",
              " '/content/drive/MyDrive/데이터/kaggle/images_100/hard_hat_workers4.jpg',\n",
              " '/content/drive/MyDrive/데이터/kaggle/images_100/hard_hat_workers4.png',\n",
              " '/content/drive/MyDrive/데이터/kaggle/images_100/hard_hat_workers40.png',\n",
              " '/content/drive/MyDrive/데이터/kaggle/images_100/hard_hat_workers41.png',\n",
              " '/content/drive/MyDrive/데이터/kaggle/images_100/hard_hat_workers42.png',\n",
              " '/content/drive/MyDrive/데이터/kaggle/images_100/hard_hat_workers43.png',\n",
              " '/content/drive/MyDrive/데이터/kaggle/images_100/hard_hat_workers44.png',\n",
              " '/content/drive/MyDrive/데이터/kaggle/images_100/hard_hat_workers45.png',\n",
              " '/content/drive/MyDrive/데이터/kaggle/images_100/hard_hat_workers46.png',\n",
              " '/content/drive/MyDrive/데이터/kaggle/images_100/hard_hat_workers47.png',\n",
              " '/content/drive/MyDrive/데이터/kaggle/images_100/hard_hat_workers48.png',\n",
              " '/content/drive/MyDrive/데이터/kaggle/images_100/hard_hat_workers49.png',\n",
              " '/content/drive/MyDrive/데이터/kaggle/images_100/hard_hat_workers5.png',\n",
              " '/content/drive/MyDrive/데이터/kaggle/images_100/hard_hat_workers50.png',\n",
              " '/content/drive/MyDrive/데이터/kaggle/images_100/hard_hat_workers51.png',\n",
              " '/content/drive/MyDrive/데이터/kaggle/images_100/hard_hat_workers52.png',\n",
              " '/content/drive/MyDrive/데이터/kaggle/images_100/hard_hat_workers53.png',\n",
              " '/content/drive/MyDrive/데이터/kaggle/images_100/hard_hat_workers54.png',\n",
              " '/content/drive/MyDrive/데이터/kaggle/images_100/hard_hat_workers55.png',\n",
              " '/content/drive/MyDrive/데이터/kaggle/images_100/hard_hat_workers56.png',\n",
              " '/content/drive/MyDrive/데이터/kaggle/images_100/hard_hat_workers57.png',\n",
              " '/content/drive/MyDrive/데이터/kaggle/images_100/hard_hat_workers58.png',\n",
              " '/content/drive/MyDrive/데이터/kaggle/images_100/hard_hat_workers59.png',\n",
              " '/content/drive/MyDrive/데이터/kaggle/images_100/hard_hat_workers6.png',\n",
              " '/content/drive/MyDrive/데이터/kaggle/images_100/hard_hat_workers60.png',\n",
              " '/content/drive/MyDrive/데이터/kaggle/images_100/hard_hat_workers61.png',\n",
              " '/content/drive/MyDrive/데이터/kaggle/images_100/hard_hat_workers62.png',\n",
              " '/content/drive/MyDrive/데이터/kaggle/images_100/hard_hat_workers63.png',\n",
              " '/content/drive/MyDrive/데이터/kaggle/images_100/hard_hat_workers64.png',\n",
              " '/content/drive/MyDrive/데이터/kaggle/images_100/hard_hat_workers65.png',\n",
              " '/content/drive/MyDrive/데이터/kaggle/images_100/hard_hat_workers66.png',\n",
              " '/content/drive/MyDrive/데이터/kaggle/images_100/hard_hat_workers67.png',\n",
              " '/content/drive/MyDrive/데이터/kaggle/images_100/hard_hat_workers68.png',\n",
              " '/content/drive/MyDrive/데이터/kaggle/images_100/hard_hat_workers69.png',\n",
              " '/content/drive/MyDrive/데이터/kaggle/images_100/hard_hat_workers7.png',\n",
              " '/content/drive/MyDrive/데이터/kaggle/images_100/hard_hat_workers70.png',\n",
              " '/content/drive/MyDrive/데이터/kaggle/images_100/hard_hat_workers71.png',\n",
              " '/content/drive/MyDrive/데이터/kaggle/images_100/hard_hat_workers72.png',\n",
              " '/content/drive/MyDrive/데이터/kaggle/images_100/hard_hat_workers73.png',\n",
              " '/content/drive/MyDrive/데이터/kaggle/images_100/hard_hat_workers74.png',\n",
              " '/content/drive/MyDrive/데이터/kaggle/images_100/hard_hat_workers75.png',\n",
              " '/content/drive/MyDrive/데이터/kaggle/images_100/hard_hat_workers76.png',\n",
              " '/content/drive/MyDrive/데이터/kaggle/images_100/hard_hat_workers77.png',\n",
              " '/content/drive/MyDrive/데이터/kaggle/images_100/hard_hat_workers78.png',\n",
              " '/content/drive/MyDrive/데이터/kaggle/images_100/hard_hat_workers79.png',\n",
              " '/content/drive/MyDrive/데이터/kaggle/images_100/hard_hat_workers8.png',\n",
              " '/content/drive/MyDrive/데이터/kaggle/images_100/hard_hat_workers80.png',\n",
              " '/content/drive/MyDrive/데이터/kaggle/images_100/hard_hat_workers81.png',\n",
              " '/content/drive/MyDrive/데이터/kaggle/images_100/hard_hat_workers82.png',\n",
              " '/content/drive/MyDrive/데이터/kaggle/images_100/hard_hat_workers83.png',\n",
              " '/content/drive/MyDrive/데이터/kaggle/images_100/hard_hat_workers84.png',\n",
              " '/content/drive/MyDrive/데이터/kaggle/images_100/hard_hat_workers85.png',\n",
              " '/content/drive/MyDrive/데이터/kaggle/images_100/hard_hat_workers86.png',\n",
              " '/content/drive/MyDrive/데이터/kaggle/images_100/hard_hat_workers87.png',\n",
              " '/content/drive/MyDrive/데이터/kaggle/images_100/hard_hat_workers88.png',\n",
              " '/content/drive/MyDrive/데이터/kaggle/images_100/hard_hat_workers89.png',\n",
              " '/content/drive/MyDrive/데이터/kaggle/images_100/hard_hat_workers9.png',\n",
              " '/content/drive/MyDrive/데이터/kaggle/images_100/hard_hat_workers90.png',\n",
              " '/content/drive/MyDrive/데이터/kaggle/images_100/hard_hat_workers91.png',\n",
              " '/content/drive/MyDrive/데이터/kaggle/images_100/hard_hat_workers92.png',\n",
              " '/content/drive/MyDrive/데이터/kaggle/images_100/hard_hat_workers93.png',\n",
              " '/content/drive/MyDrive/데이터/kaggle/images_100/hard_hat_workers94.png',\n",
              " '/content/drive/MyDrive/데이터/kaggle/images_100/hard_hat_workers95.png',\n",
              " '/content/drive/MyDrive/데이터/kaggle/images_100/hard_hat_workers96.png',\n",
              " '/content/drive/MyDrive/데이터/kaggle/images_100/hard_hat_workers97.png',\n",
              " '/content/drive/MyDrive/데이터/kaggle/images_100/hard_hat_workers98.png',\n",
              " '/content/drive/MyDrive/데이터/kaggle/images_100/hard_hat_workers99.png']"
            ]
          },
          "execution_count": 14,
          "metadata": {},
          "output_type": "execute_result"
        }
      ],
      "source": [
        "import os\n",
        "from glob import glob\n",
        "\n",
        "sorted(glob('/content/drive/MyDrive/데이터/kaggle/images_100/*'))"
      ]
    },
    {
      "cell_type": "code",
      "execution_count": null,
      "metadata": {
        "id": "FuVOX7DifB0z"
      },
      "outputs": [],
      "source": [
        "from PIL import Image\n",
        "\n",
        "for i in range(120): \n",
        "    im = Image.open(f'/content/drive/MyDrive/데이터/kaggle/images_100/hard_hat_workers{i}.png').convert('RGB')\n",
        "    im.save(f'/content/drive/MyDrive/데이터/kaggle/images_100_jpg/hard_hat_workers{i}.jpg', 'jpeg')"
      ]
    }
  ],
  "metadata": {
    "colab": {
      "collapsed_sections": [],
      "name": "56_XmlToTxt.ipynb",
      "provenance": []
    },
    "kernelspec": {
      "display_name": "Python 3",
      "name": "python3"
    },
    "language_info": {
      "name": "python"
    }
  },
  "nbformat": 4,
  "nbformat_minor": 0
}
