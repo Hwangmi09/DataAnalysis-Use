{
  "cells": [
    {
      "cell_type": "markdown",
      "metadata": {
        "id": "QJlDjhjg81ek"
      },
      "source": [
        "# LSTM을 활용한 주가 예측\n",
        "- (참고1) https://financedata.github.io/posts/finance-data-reader-users-guide.html\n",
        "- (참고2) https://www.tensorflow.org/api_docs/python/tf/data/Dataset"
      ]
    },
    {
      "cell_type": "code",
      "execution_count": 38,
      "metadata": {
        "id": "iDcLLTdl6ENx"
      },
      "outputs": [],
      "source": [
        "import warnings\n",
        "warnings.filterwarnings('ignore')"
      ]
    },
    {
      "cell_type": "code",
      "execution_count": null,
      "metadata": {
        "id": "iDd3zYvG5qWW"
      },
      "outputs": [],
      "source": [
        "!pip install finance-datareader > /dev/null"
      ]
    },
    {
      "cell_type": "code",
      "execution_count": null,
      "metadata": {
        "id": "vvtRn0mM8ETo"
      },
      "outputs": [],
      "source": [
        "import pandas as pd\n",
        "import numpy as np\n",
        "import matplotlib.pyplot as plt\n",
        "import seaborn as sns\n",
        "import warnings\n",
        "import os\n",
        "\n",
        "%matplotlib inline\n",
        "warnings.filterwarnings('ignore')\n",
        "\n",
        "plt.rcParams['font.family'] = 'NanumGothic'"
      ]
    },
    {
      "cell_type": "code",
      "execution_count": null,
      "metadata": {
        "id": "p1WQZmIS8HSQ"
      },
      "outputs": [],
      "source": [
        "import FinanceDataReader as fdr"
      ]
    },
    {
      "cell_type": "code",
      "execution_count": null,
      "metadata": {
        "id": "HpcS7mqz8aaN"
      },
      "outputs": [],
      "source": [
        "df = fdr.StockListing('KRX')"
      ]
    },
    {
      "cell_type": "code",
      "execution_count": null,
      "metadata": {
        "colab": {
          "base_uri": "https://localhost:8080/"
        },
        "id": "hnVJzMUj878a",
        "outputId": "4747c2b8-f242-47a6-9dea-fddc644a90ac"
      },
      "outputs": [
        {
          "name": "stdout",
          "output_type": "stream",
          "text": [
            "<class 'pandas.core.frame.DataFrame'>\n",
            "Int64Index: 6958 entries, 0 to 6957\n",
            "Data columns (total 10 columns):\n",
            " #   Column          Non-Null Count  Dtype         \n",
            "---  ------          --------------  -----         \n",
            " 0   Symbol          6958 non-null   object        \n",
            " 1   Market          6958 non-null   object        \n",
            " 2   Name            6958 non-null   object        \n",
            " 3   Sector          2466 non-null   object        \n",
            " 4   Industry        2447 non-null   object        \n",
            " 5   ListingDate     2466 non-null   datetime64[ns]\n",
            " 6   SettleMonth     2466 non-null   object        \n",
            " 7   Representative  2466 non-null   object        \n",
            " 8   HomePage        2318 non-null   object        \n",
            " 9   Region          2466 non-null   object        \n",
            "dtypes: datetime64[ns](1), object(9)\n",
            "memory usage: 598.0+ KB\n"
          ]
        }
      ],
      "source": [
        "df.info()"
      ]
    },
    {
      "cell_type": "code",
      "execution_count": null,
      "metadata": {
        "colab": {
          "base_uri": "https://localhost:8080/",
          "height": 80
        },
        "id": "r1aMsyki9CXV",
        "outputId": "a3603e12-039e-4c84-9c49-ec8be4e65edf"
      },
      "outputs": [
        {
          "data": {
            "text/html": [
              "<div>\n",
              "<style scoped>\n",
              "    .dataframe tbody tr th:only-of-type {\n",
              "        vertical-align: middle;\n",
              "    }\n",
              "\n",
              "    .dataframe tbody tr th {\n",
              "        vertical-align: top;\n",
              "    }\n",
              "\n",
              "    .dataframe thead th {\n",
              "        text-align: right;\n",
              "    }\n",
              "</style>\n",
              "<table border=\"1\" class=\"dataframe\">\n",
              "  <thead>\n",
              "    <tr style=\"text-align: right;\">\n",
              "      <th></th>\n",
              "      <th>Symbol</th>\n",
              "      <th>Market</th>\n",
              "      <th>Name</th>\n",
              "      <th>Sector</th>\n",
              "      <th>Industry</th>\n",
              "      <th>ListingDate</th>\n",
              "      <th>SettleMonth</th>\n",
              "      <th>Representative</th>\n",
              "      <th>HomePage</th>\n",
              "      <th>Region</th>\n",
              "    </tr>\n",
              "  </thead>\n",
              "  <tbody>\n",
              "    <tr>\n",
              "      <th>3732</th>\n",
              "      <td>005930</td>\n",
              "      <td>KOSPI</td>\n",
              "      <td>삼성전자</td>\n",
              "      <td>통신 및 방송 장비 제조업</td>\n",
              "      <td>IMT2000 서비스용 동기식 기지국,교환국장비,데이터단말기,동영상휴대폰,핵심칩,반...</td>\n",
              "      <td>1975-06-11</td>\n",
              "      <td>12월</td>\n",
              "      <td>김기남, 김현석, 고동진</td>\n",
              "      <td>http://www.sec.co.kr</td>\n",
              "      <td>경기도</td>\n",
              "    </tr>\n",
              "  </tbody>\n",
              "</table>\n",
              "</div>"
            ],
            "text/plain": [
              "      Symbol Market  Name  ... Representative              HomePage Region\n",
              "3732  005930  KOSPI  삼성전자  ...  김기남, 김현석, 고동진  http://www.sec.co.kr    경기도\n",
              "\n",
              "[1 rows x 10 columns]"
            ]
          },
          "metadata": {},
          "output_type": "display_data"
        }
      ],
      "source": [
        "search = '삼성전자'\n",
        "display(df[df.Name == search])\n",
        "search_num = df[df.Name == search].Symbol"
      ]
    },
    {
      "cell_type": "code",
      "execution_count": null,
      "metadata": {
        "colab": {
          "base_uri": "https://localhost:8080/"
        },
        "id": "zwwlyKpl-ie7",
        "outputId": "6c151c40-e843-428a-c9ee-f4b39322eb5e"
      },
      "outputs": [
        {
          "data": {
            "text/plain": [
              "array(['005930'], dtype=object)"
            ]
          },
          "execution_count": 7,
          "metadata": {},
          "output_type": "execute_result"
        }
      ],
      "source": [
        "search_num.values"
      ]
    },
    {
      "cell_type": "code",
      "execution_count": null,
      "metadata": {
        "colab": {
          "base_uri": "https://localhost:8080/",
          "height": 449
        },
        "id": "y-BEyAPt9DWk",
        "outputId": "508675ed-8d61-41bb-dac8-b7c2a632108f"
      },
      "outputs": [
        {
          "data": {
            "text/html": [
              "<div>\n",
              "<style scoped>\n",
              "    .dataframe tbody tr th:only-of-type {\n",
              "        vertical-align: middle;\n",
              "    }\n",
              "\n",
              "    .dataframe tbody tr th {\n",
              "        vertical-align: top;\n",
              "    }\n",
              "\n",
              "    .dataframe thead th {\n",
              "        text-align: right;\n",
              "    }\n",
              "</style>\n",
              "<table border=\"1\" class=\"dataframe\">\n",
              "  <thead>\n",
              "    <tr style=\"text-align: right;\">\n",
              "      <th></th>\n",
              "      <th>Open</th>\n",
              "      <th>High</th>\n",
              "      <th>Low</th>\n",
              "      <th>Close</th>\n",
              "      <th>Volume</th>\n",
              "      <th>Change</th>\n",
              "    </tr>\n",
              "    <tr>\n",
              "      <th>Date</th>\n",
              "      <th></th>\n",
              "      <th></th>\n",
              "      <th></th>\n",
              "      <th></th>\n",
              "      <th></th>\n",
              "      <th></th>\n",
              "    </tr>\n",
              "  </thead>\n",
              "  <tbody>\n",
              "    <tr>\n",
              "      <th>2021-01-04</th>\n",
              "      <td>81000</td>\n",
              "      <td>84400</td>\n",
              "      <td>80200</td>\n",
              "      <td>83000</td>\n",
              "      <td>38655276</td>\n",
              "      <td>0.024691</td>\n",
              "    </tr>\n",
              "    <tr>\n",
              "      <th>2021-01-05</th>\n",
              "      <td>81600</td>\n",
              "      <td>83900</td>\n",
              "      <td>81600</td>\n",
              "      <td>83900</td>\n",
              "      <td>35335669</td>\n",
              "      <td>0.010843</td>\n",
              "    </tr>\n",
              "    <tr>\n",
              "      <th>2021-01-06</th>\n",
              "      <td>83300</td>\n",
              "      <td>84500</td>\n",
              "      <td>82100</td>\n",
              "      <td>82200</td>\n",
              "      <td>42089013</td>\n",
              "      <td>-0.020262</td>\n",
              "    </tr>\n",
              "    <tr>\n",
              "      <th>2021-01-07</th>\n",
              "      <td>82800</td>\n",
              "      <td>84200</td>\n",
              "      <td>82700</td>\n",
              "      <td>82900</td>\n",
              "      <td>32644642</td>\n",
              "      <td>0.008516</td>\n",
              "    </tr>\n",
              "    <tr>\n",
              "      <th>2021-01-08</th>\n",
              "      <td>83300</td>\n",
              "      <td>90000</td>\n",
              "      <td>83000</td>\n",
              "      <td>88800</td>\n",
              "      <td>59013307</td>\n",
              "      <td>0.071170</td>\n",
              "    </tr>\n",
              "    <tr>\n",
              "      <th>...</th>\n",
              "      <td>...</td>\n",
              "      <td>...</td>\n",
              "      <td>...</td>\n",
              "      <td>...</td>\n",
              "      <td>...</td>\n",
              "      <td>...</td>\n",
              "    </tr>\n",
              "    <tr>\n",
              "      <th>2021-10-14</th>\n",
              "      <td>69000</td>\n",
              "      <td>69800</td>\n",
              "      <td>68800</td>\n",
              "      <td>69400</td>\n",
              "      <td>19520641</td>\n",
              "      <td>0.008721</td>\n",
              "    </tr>\n",
              "    <tr>\n",
              "      <th>2021-10-15</th>\n",
              "      <td>70200</td>\n",
              "      <td>71000</td>\n",
              "      <td>70000</td>\n",
              "      <td>70100</td>\n",
              "      <td>18051612</td>\n",
              "      <td>0.010086</td>\n",
              "    </tr>\n",
              "    <tr>\n",
              "      <th>2021-10-18</th>\n",
              "      <td>70200</td>\n",
              "      <td>70300</td>\n",
              "      <td>69200</td>\n",
              "      <td>70200</td>\n",
              "      <td>13486391</td>\n",
              "      <td>0.001427</td>\n",
              "    </tr>\n",
              "    <tr>\n",
              "      <th>2021-10-19</th>\n",
              "      <td>70800</td>\n",
              "      <td>71000</td>\n",
              "      <td>70400</td>\n",
              "      <td>70600</td>\n",
              "      <td>9507991</td>\n",
              "      <td>0.005698</td>\n",
              "    </tr>\n",
              "    <tr>\n",
              "      <th>2021-10-20</th>\n",
              "      <td>70700</td>\n",
              "      <td>71000</td>\n",
              "      <td>70300</td>\n",
              "      <td>70300</td>\n",
              "      <td>8469222</td>\n",
              "      <td>-0.004249</td>\n",
              "    </tr>\n",
              "  </tbody>\n",
              "</table>\n",
              "<p>197 rows × 6 columns</p>\n",
              "</div>"
            ],
            "text/plain": [
              "             Open   High    Low  Close    Volume    Change\n",
              "Date                                                      \n",
              "2021-01-04  81000  84400  80200  83000  38655276  0.024691\n",
              "2021-01-05  81600  83900  81600  83900  35335669  0.010843\n",
              "2021-01-06  83300  84500  82100  82200  42089013 -0.020262\n",
              "2021-01-07  82800  84200  82700  82900  32644642  0.008516\n",
              "2021-01-08  83300  90000  83000  88800  59013307  0.071170\n",
              "...           ...    ...    ...    ...       ...       ...\n",
              "2021-10-14  69000  69800  68800  69400  19520641  0.008721\n",
              "2021-10-15  70200  71000  70000  70100  18051612  0.010086\n",
              "2021-10-18  70200  70300  69200  70200  13486391  0.001427\n",
              "2021-10-19  70800  71000  70400  70600   9507991  0.005698\n",
              "2021-10-20  70700  71000  70300  70300   8469222 -0.004249\n",
              "\n",
              "[197 rows x 6 columns]"
            ]
          },
          "execution_count": 8,
          "metadata": {},
          "output_type": "execute_result"
        }
      ],
      "source": [
        "stock = fdr.DataReader(search_num.values[0], '2021')\n",
        "stock # 시가, 고가, 저가, 종가, 거래량, 대비"
      ]
    },
    {
      "cell_type": "code",
      "execution_count": null,
      "metadata": {
        "colab": {
          "base_uri": "https://localhost:8080/",
          "height": 511
        },
        "id": "o1_Ln1sL9gfi",
        "outputId": "cdf2d7af-85d0-45f6-ee63-1933e89ba46d"
      },
      "outputs": [
        {
          "data": {
            "text/html": [
              "<div>\n",
              "<style scoped>\n",
              "    .dataframe tbody tr th:only-of-type {\n",
              "        vertical-align: middle;\n",
              "    }\n",
              "\n",
              "    .dataframe tbody tr th {\n",
              "        vertical-align: top;\n",
              "    }\n",
              "\n",
              "    .dataframe thead th {\n",
              "        text-align: right;\n",
              "    }\n",
              "</style>\n",
              "<table border=\"1\" class=\"dataframe\">\n",
              "  <thead>\n",
              "    <tr style=\"text-align: right;\">\n",
              "      <th></th>\n",
              "      <th>Symbol</th>\n",
              "      <th>Market</th>\n",
              "      <th>Name</th>\n",
              "      <th>Sector</th>\n",
              "      <th>Industry</th>\n",
              "      <th>ListingDate</th>\n",
              "      <th>SettleMonth</th>\n",
              "      <th>Representative</th>\n",
              "      <th>HomePage</th>\n",
              "      <th>Region</th>\n",
              "    </tr>\n",
              "  </thead>\n",
              "  <tbody>\n",
              "    <tr>\n",
              "      <th>3732</th>\n",
              "      <td>005930</td>\n",
              "      <td>KOSPI</td>\n",
              "      <td>삼성전자</td>\n",
              "      <td>통신 및 방송 장비 제조업</td>\n",
              "      <td>IMT2000 서비스용 동기식 기지국,교환국장비,데이터단말기,동영상휴대폰,핵심칩,반...</td>\n",
              "      <td>1975-06-11</td>\n",
              "      <td>12월</td>\n",
              "      <td>김기남, 김현석, 고동진</td>\n",
              "      <td>http://www.sec.co.kr</td>\n",
              "      <td>경기도</td>\n",
              "    </tr>\n",
              "  </tbody>\n",
              "</table>\n",
              "</div>"
            ],
            "text/plain": [
              "      Symbol Market  Name  ... Representative              HomePage Region\n",
              "3732  005930  KOSPI  삼성전자  ...  김기남, 김현석, 고동진  http://www.sec.co.kr    경기도\n",
              "\n",
              "[1 rows x 10 columns]"
            ]
          },
          "metadata": {},
          "output_type": "display_data"
        },
        {
          "data": {
            "text/html": [
              "<div>\n",
              "<style scoped>\n",
              "    .dataframe tbody tr th:only-of-type {\n",
              "        vertical-align: middle;\n",
              "    }\n",
              "\n",
              "    .dataframe tbody tr th {\n",
              "        vertical-align: top;\n",
              "    }\n",
              "\n",
              "    .dataframe thead th {\n",
              "        text-align: right;\n",
              "    }\n",
              "</style>\n",
              "<table border=\"1\" class=\"dataframe\">\n",
              "  <thead>\n",
              "    <tr style=\"text-align: right;\">\n",
              "      <th></th>\n",
              "      <th>Open</th>\n",
              "      <th>High</th>\n",
              "      <th>Low</th>\n",
              "      <th>Close</th>\n",
              "      <th>Volume</th>\n",
              "      <th>Change</th>\n",
              "    </tr>\n",
              "    <tr>\n",
              "      <th>Date</th>\n",
              "      <th></th>\n",
              "      <th></th>\n",
              "      <th></th>\n",
              "      <th></th>\n",
              "      <th></th>\n",
              "      <th></th>\n",
              "    </tr>\n",
              "  </thead>\n",
              "  <tbody>\n",
              "    <tr>\n",
              "      <th>1997-09-25</th>\n",
              "      <td>1193</td>\n",
              "      <td>1193</td>\n",
              "      <td>1170</td>\n",
              "      <td>1179</td>\n",
              "      <td>70400</td>\n",
              "      <td>NaN</td>\n",
              "    </tr>\n",
              "    <tr>\n",
              "      <th>1997-09-26</th>\n",
              "      <td>1170</td>\n",
              "      <td>1179</td>\n",
              "      <td>1161</td>\n",
              "      <td>1174</td>\n",
              "      <td>70500</td>\n",
              "      <td>-0.004241</td>\n",
              "    </tr>\n",
              "    <tr>\n",
              "      <th>1997-09-27</th>\n",
              "      <td>1170</td>\n",
              "      <td>1170</td>\n",
              "      <td>1152</td>\n",
              "      <td>1158</td>\n",
              "      <td>84610</td>\n",
              "      <td>-0.013629</td>\n",
              "    </tr>\n",
              "    <tr>\n",
              "      <th>1997-09-29</th>\n",
              "      <td>1143</td>\n",
              "      <td>1172</td>\n",
              "      <td>1143</td>\n",
              "      <td>1162</td>\n",
              "      <td>48510</td>\n",
              "      <td>0.003454</td>\n",
              "    </tr>\n",
              "    <tr>\n",
              "      <th>1997-09-30</th>\n",
              "      <td>1161</td>\n",
              "      <td>1195</td>\n",
              "      <td>1161</td>\n",
              "      <td>1188</td>\n",
              "      <td>63170</td>\n",
              "      <td>0.022375</td>\n",
              "    </tr>\n",
              "    <tr>\n",
              "      <th>...</th>\n",
              "      <td>...</td>\n",
              "      <td>...</td>\n",
              "      <td>...</td>\n",
              "      <td>...</td>\n",
              "      <td>...</td>\n",
              "      <td>...</td>\n",
              "    </tr>\n",
              "    <tr>\n",
              "      <th>2021-10-14</th>\n",
              "      <td>69000</td>\n",
              "      <td>69800</td>\n",
              "      <td>68800</td>\n",
              "      <td>69400</td>\n",
              "      <td>19520641</td>\n",
              "      <td>0.008721</td>\n",
              "    </tr>\n",
              "    <tr>\n",
              "      <th>2021-10-15</th>\n",
              "      <td>70200</td>\n",
              "      <td>71000</td>\n",
              "      <td>70000</td>\n",
              "      <td>70100</td>\n",
              "      <td>18051612</td>\n",
              "      <td>0.010086</td>\n",
              "    </tr>\n",
              "    <tr>\n",
              "      <th>2021-10-18</th>\n",
              "      <td>70200</td>\n",
              "      <td>70300</td>\n",
              "      <td>69200</td>\n",
              "      <td>70200</td>\n",
              "      <td>13486391</td>\n",
              "      <td>0.001427</td>\n",
              "    </tr>\n",
              "    <tr>\n",
              "      <th>2021-10-19</th>\n",
              "      <td>70800</td>\n",
              "      <td>71000</td>\n",
              "      <td>70400</td>\n",
              "      <td>70600</td>\n",
              "      <td>9507991</td>\n",
              "      <td>0.005698</td>\n",
              "    </tr>\n",
              "    <tr>\n",
              "      <th>2021-10-20</th>\n",
              "      <td>70700</td>\n",
              "      <td>71000</td>\n",
              "      <td>70300</td>\n",
              "      <td>70300</td>\n",
              "      <td>8469222</td>\n",
              "      <td>-0.004249</td>\n",
              "    </tr>\n",
              "  </tbody>\n",
              "</table>\n",
              "<p>6000 rows × 6 columns</p>\n",
              "</div>"
            ],
            "text/plain": [
              "             Open   High    Low  Close    Volume    Change\n",
              "Date                                                      \n",
              "1997-09-25   1193   1193   1170   1179     70400       NaN\n",
              "1997-09-26   1170   1179   1161   1174     70500 -0.004241\n",
              "1997-09-27   1170   1170   1152   1158     84610 -0.013629\n",
              "1997-09-29   1143   1172   1143   1162     48510  0.003454\n",
              "1997-09-30   1161   1195   1161   1188     63170  0.022375\n",
              "...           ...    ...    ...    ...       ...       ...\n",
              "2021-10-14  69000  69800  68800  69400  19520641  0.008721\n",
              "2021-10-15  70200  71000  70000  70100  18051612  0.010086\n",
              "2021-10-18  70200  70300  69200  70200  13486391  0.001427\n",
              "2021-10-19  70800  71000  70400  70600   9507991  0.005698\n",
              "2021-10-20  70700  71000  70300  70300   8469222 -0.004249\n",
              "\n",
              "[6000 rows x 6 columns]"
            ]
          },
          "execution_count": 9,
          "metadata": {},
          "output_type": "execute_result"
        }
      ],
      "source": [
        "search = '삼성전자'\n",
        "display(df[df.Name == search])\n",
        "search_num = int(df[df.Name == search].Symbol)\n",
        "stock = fdr.DataReader(str(search_num).zfill(6))\n",
        "stock # 시가, 고가, 저가, 종가, 거래량, 대비"
      ]
    },
    {
      "cell_type": "code",
      "execution_count": null,
      "metadata": {
        "colab": {
          "base_uri": "https://localhost:8080/",
          "height": 449
        },
        "id": "Azugz9fODKjz",
        "outputId": "d2bf5859-511c-4d50-d1a4-2295fbf27bf3"
      },
      "outputs": [
        {
          "data": {
            "text/html": [
              "<div>\n",
              "<style scoped>\n",
              "    .dataframe tbody tr th:only-of-type {\n",
              "        vertical-align: middle;\n",
              "    }\n",
              "\n",
              "    .dataframe tbody tr th {\n",
              "        vertical-align: top;\n",
              "    }\n",
              "\n",
              "    .dataframe thead th {\n",
              "        text-align: right;\n",
              "    }\n",
              "</style>\n",
              "<table border=\"1\" class=\"dataframe\">\n",
              "  <thead>\n",
              "    <tr style=\"text-align: right;\">\n",
              "      <th></th>\n",
              "      <th>Open</th>\n",
              "      <th>High</th>\n",
              "      <th>Low</th>\n",
              "      <th>Close</th>\n",
              "      <th>Volume</th>\n",
              "      <th>Change</th>\n",
              "      <th>year</th>\n",
              "      <th>month</th>\n",
              "      <th>day</th>\n",
              "    </tr>\n",
              "    <tr>\n",
              "      <th>Date</th>\n",
              "      <th></th>\n",
              "      <th></th>\n",
              "      <th></th>\n",
              "      <th></th>\n",
              "      <th></th>\n",
              "      <th></th>\n",
              "      <th></th>\n",
              "      <th></th>\n",
              "      <th></th>\n",
              "    </tr>\n",
              "  </thead>\n",
              "  <tbody>\n",
              "    <tr>\n",
              "      <th>1997-09-25</th>\n",
              "      <td>1193</td>\n",
              "      <td>1193</td>\n",
              "      <td>1170</td>\n",
              "      <td>1179</td>\n",
              "      <td>70400</td>\n",
              "      <td>NaN</td>\n",
              "      <td>1997</td>\n",
              "      <td>9</td>\n",
              "      <td>25</td>\n",
              "    </tr>\n",
              "    <tr>\n",
              "      <th>1997-09-26</th>\n",
              "      <td>1170</td>\n",
              "      <td>1179</td>\n",
              "      <td>1161</td>\n",
              "      <td>1174</td>\n",
              "      <td>70500</td>\n",
              "      <td>-0.004241</td>\n",
              "      <td>1997</td>\n",
              "      <td>9</td>\n",
              "      <td>26</td>\n",
              "    </tr>\n",
              "    <tr>\n",
              "      <th>1997-09-27</th>\n",
              "      <td>1170</td>\n",
              "      <td>1170</td>\n",
              "      <td>1152</td>\n",
              "      <td>1158</td>\n",
              "      <td>84610</td>\n",
              "      <td>-0.013629</td>\n",
              "      <td>1997</td>\n",
              "      <td>9</td>\n",
              "      <td>27</td>\n",
              "    </tr>\n",
              "    <tr>\n",
              "      <th>1997-09-29</th>\n",
              "      <td>1143</td>\n",
              "      <td>1172</td>\n",
              "      <td>1143</td>\n",
              "      <td>1162</td>\n",
              "      <td>48510</td>\n",
              "      <td>0.003454</td>\n",
              "      <td>1997</td>\n",
              "      <td>9</td>\n",
              "      <td>29</td>\n",
              "    </tr>\n",
              "    <tr>\n",
              "      <th>1997-09-30</th>\n",
              "      <td>1161</td>\n",
              "      <td>1195</td>\n",
              "      <td>1161</td>\n",
              "      <td>1188</td>\n",
              "      <td>63170</td>\n",
              "      <td>0.022375</td>\n",
              "      <td>1997</td>\n",
              "      <td>9</td>\n",
              "      <td>30</td>\n",
              "    </tr>\n",
              "    <tr>\n",
              "      <th>...</th>\n",
              "      <td>...</td>\n",
              "      <td>...</td>\n",
              "      <td>...</td>\n",
              "      <td>...</td>\n",
              "      <td>...</td>\n",
              "      <td>...</td>\n",
              "      <td>...</td>\n",
              "      <td>...</td>\n",
              "      <td>...</td>\n",
              "    </tr>\n",
              "    <tr>\n",
              "      <th>2021-10-14</th>\n",
              "      <td>69000</td>\n",
              "      <td>69800</td>\n",
              "      <td>68800</td>\n",
              "      <td>69400</td>\n",
              "      <td>19520641</td>\n",
              "      <td>0.008721</td>\n",
              "      <td>2021</td>\n",
              "      <td>10</td>\n",
              "      <td>14</td>\n",
              "    </tr>\n",
              "    <tr>\n",
              "      <th>2021-10-15</th>\n",
              "      <td>70200</td>\n",
              "      <td>71000</td>\n",
              "      <td>70000</td>\n",
              "      <td>70100</td>\n",
              "      <td>18051612</td>\n",
              "      <td>0.010086</td>\n",
              "      <td>2021</td>\n",
              "      <td>10</td>\n",
              "      <td>15</td>\n",
              "    </tr>\n",
              "    <tr>\n",
              "      <th>2021-10-18</th>\n",
              "      <td>70200</td>\n",
              "      <td>70300</td>\n",
              "      <td>69200</td>\n",
              "      <td>70200</td>\n",
              "      <td>13486391</td>\n",
              "      <td>0.001427</td>\n",
              "      <td>2021</td>\n",
              "      <td>10</td>\n",
              "      <td>18</td>\n",
              "    </tr>\n",
              "    <tr>\n",
              "      <th>2021-10-19</th>\n",
              "      <td>70800</td>\n",
              "      <td>71000</td>\n",
              "      <td>70400</td>\n",
              "      <td>70600</td>\n",
              "      <td>9507991</td>\n",
              "      <td>0.005698</td>\n",
              "      <td>2021</td>\n",
              "      <td>10</td>\n",
              "      <td>19</td>\n",
              "    </tr>\n",
              "    <tr>\n",
              "      <th>2021-10-20</th>\n",
              "      <td>70700</td>\n",
              "      <td>71000</td>\n",
              "      <td>70300</td>\n",
              "      <td>70300</td>\n",
              "      <td>8469222</td>\n",
              "      <td>-0.004249</td>\n",
              "      <td>2021</td>\n",
              "      <td>10</td>\n",
              "      <td>20</td>\n",
              "    </tr>\n",
              "  </tbody>\n",
              "</table>\n",
              "<p>6000 rows × 9 columns</p>\n",
              "</div>"
            ],
            "text/plain": [
              "             Open   High    Low  Close    Volume    Change  year  month  day\n",
              "Date                                                                        \n",
              "1997-09-25   1193   1193   1170   1179     70400       NaN  1997      9   25\n",
              "1997-09-26   1170   1179   1161   1174     70500 -0.004241  1997      9   26\n",
              "1997-09-27   1170   1170   1152   1158     84610 -0.013629  1997      9   27\n",
              "1997-09-29   1143   1172   1143   1162     48510  0.003454  1997      9   29\n",
              "1997-09-30   1161   1195   1161   1188     63170  0.022375  1997      9   30\n",
              "...           ...    ...    ...    ...       ...       ...   ...    ...  ...\n",
              "2021-10-14  69000  69800  68800  69400  19520641  0.008721  2021     10   14\n",
              "2021-10-15  70200  71000  70000  70100  18051612  0.010086  2021     10   15\n",
              "2021-10-18  70200  70300  69200  70200  13486391  0.001427  2021     10   18\n",
              "2021-10-19  70800  71000  70400  70600   9507991  0.005698  2021     10   19\n",
              "2021-10-20  70700  71000  70300  70300   8469222 -0.004249  2021     10   20\n",
              "\n",
              "[6000 rows x 9 columns]"
            ]
          },
          "execution_count": 10,
          "metadata": {},
          "output_type": "execute_result"
        }
      ],
      "source": [
        "## 연도, 월, 일을 생성\n",
        "stock['year'] = stock.index.year\n",
        "stock['month'] = stock.index.month\n",
        "stock['day'] = stock.index.day\n",
        "stock"
      ]
    },
    {
      "cell_type": "code",
      "execution_count": null,
      "metadata": {
        "colab": {
          "base_uri": "https://localhost:8080/",
          "height": 449
        },
        "id": "m-PXm4ezDr0h",
        "outputId": "7c5def4e-eb1a-4b3b-8147-7ec8b763f9b9"
      },
      "outputs": [
        {
          "data": {
            "text/html": [
              "<div>\n",
              "<style scoped>\n",
              "    .dataframe tbody tr th:only-of-type {\n",
              "        vertical-align: middle;\n",
              "    }\n",
              "\n",
              "    .dataframe tbody tr th {\n",
              "        vertical-align: top;\n",
              "    }\n",
              "\n",
              "    .dataframe thead th {\n",
              "        text-align: right;\n",
              "    }\n",
              "</style>\n",
              "<table border=\"1\" class=\"dataframe\">\n",
              "  <thead>\n",
              "    <tr style=\"text-align: right;\">\n",
              "      <th></th>\n",
              "      <th></th>\n",
              "      <th>Open</th>\n",
              "      <th>High</th>\n",
              "      <th>Low</th>\n",
              "      <th>Close</th>\n",
              "      <th>Volume</th>\n",
              "      <th>Change</th>\n",
              "      <th>day</th>\n",
              "    </tr>\n",
              "    <tr>\n",
              "      <th>year</th>\n",
              "      <th>month</th>\n",
              "      <th></th>\n",
              "      <th></th>\n",
              "      <th></th>\n",
              "      <th></th>\n",
              "      <th></th>\n",
              "      <th></th>\n",
              "      <th></th>\n",
              "    </tr>\n",
              "  </thead>\n",
              "  <tbody>\n",
              "    <tr>\n",
              "      <th rowspan=\"4\" valign=\"top\">1997</th>\n",
              "      <th>9</th>\n",
              "      <td>1167.400000</td>\n",
              "      <td>1181.800000</td>\n",
              "      <td>1157.400000</td>\n",
              "      <td>1172.200000</td>\n",
              "      <td>6.743800e+04</td>\n",
              "      <td>0.001990</td>\n",
              "      <td>27.400000</td>\n",
              "    </tr>\n",
              "    <tr>\n",
              "      <th>10</th>\n",
              "      <td>1027.230769</td>\n",
              "      <td>1045.730769</td>\n",
              "      <td>995.307692</td>\n",
              "      <td>1014.000000</td>\n",
              "      <td>1.376285e+05</td>\n",
              "      <td>-0.020538</td>\n",
              "      <td>16.576923</td>\n",
              "    </tr>\n",
              "    <tr>\n",
              "      <th>11</th>\n",
              "      <td>796.280000</td>\n",
              "      <td>817.440000</td>\n",
              "      <td>769.240000</td>\n",
              "      <td>796.800000</td>\n",
              "      <td>4.078504e+05</td>\n",
              "      <td>0.005632</td>\n",
              "      <td>15.400000</td>\n",
              "    </tr>\n",
              "    <tr>\n",
              "      <th>12</th>\n",
              "      <td>748.590909</td>\n",
              "      <td>778.318182</td>\n",
              "      <td>723.409091</td>\n",
              "      <td>751.136364</td>\n",
              "      <td>5.538657e+05</td>\n",
              "      <td>-0.002667</td>\n",
              "      <td>13.318182</td>\n",
              "    </tr>\n",
              "    <tr>\n",
              "      <th>1998</th>\n",
              "      <th>1</th>\n",
              "      <td>1107.272727</td>\n",
              "      <td>1133.727273</td>\n",
              "      <td>1072.454545</td>\n",
              "      <td>1116.136364</td>\n",
              "      <td>7.167191e+05</td>\n",
              "      <td>0.040711</td>\n",
              "      <td>15.954545</td>\n",
              "    </tr>\n",
              "    <tr>\n",
              "      <th>...</th>\n",
              "      <th>...</th>\n",
              "      <td>...</td>\n",
              "      <td>...</td>\n",
              "      <td>...</td>\n",
              "      <td>...</td>\n",
              "      <td>...</td>\n",
              "      <td>...</td>\n",
              "      <td>...</td>\n",
              "    </tr>\n",
              "    <tr>\n",
              "      <th rowspan=\"5\" valign=\"top\">2021</th>\n",
              "      <th>6</th>\n",
              "      <td>81195.454545</td>\n",
              "      <td>81590.909091</td>\n",
              "      <td>80740.909091</td>\n",
              "      <td>81104.545455</td>\n",
              "      <td>1.514088e+07</td>\n",
              "      <td>0.000147</td>\n",
              "      <td>15.318182</td>\n",
              "    </tr>\n",
              "    <tr>\n",
              "      <th>7</th>\n",
              "      <td>79645.454545</td>\n",
              "      <td>79963.636364</td>\n",
              "      <td>79250.000000</td>\n",
              "      <td>79577.272727</td>\n",
              "      <td>1.254028e+07</td>\n",
              "      <td>-0.001228</td>\n",
              "      <td>16.045455</td>\n",
              "    </tr>\n",
              "    <tr>\n",
              "      <th>8</th>\n",
              "      <td>77204.761905</td>\n",
              "      <td>77914.285714</td>\n",
              "      <td>76428.571429</td>\n",
              "      <td>77023.809524</td>\n",
              "      <td>2.380298e+07</td>\n",
              "      <td>-0.000968</td>\n",
              "      <td>15.952381</td>\n",
              "    </tr>\n",
              "    <tr>\n",
              "      <th>9</th>\n",
              "      <td>76526.315789</td>\n",
              "      <td>76884.210526</td>\n",
              "      <td>75800.000000</td>\n",
              "      <td>76305.263158</td>\n",
              "      <td>1.480175e+07</td>\n",
              "      <td>-0.001751</td>\n",
              "      <td>14.842105</td>\n",
              "    </tr>\n",
              "    <tr>\n",
              "      <th>10</th>\n",
              "      <td>71141.666667</td>\n",
              "      <td>71491.666667</td>\n",
              "      <td>70333.333333</td>\n",
              "      <td>70683.333333</td>\n",
              "      <td>1.755920e+07</td>\n",
              "      <td>-0.004304</td>\n",
              "      <td>11.500000</td>\n",
              "    </tr>\n",
              "  </tbody>\n",
              "</table>\n",
              "<p>290 rows × 7 columns</p>\n",
              "</div>"
            ],
            "text/plain": [
              "                    Open          High  ...    Change        day\n",
              "year month                              ...                     \n",
              "1997 9       1167.400000   1181.800000  ...  0.001990  27.400000\n",
              "     10      1027.230769   1045.730769  ... -0.020538  16.576923\n",
              "     11       796.280000    817.440000  ...  0.005632  15.400000\n",
              "     12       748.590909    778.318182  ... -0.002667  13.318182\n",
              "1998 1       1107.272727   1133.727273  ...  0.040711  15.954545\n",
              "...                  ...           ...  ...       ...        ...\n",
              "2021 6      81195.454545  81590.909091  ...  0.000147  15.318182\n",
              "     7      79645.454545  79963.636364  ... -0.001228  16.045455\n",
              "     8      77204.761905  77914.285714  ... -0.000968  15.952381\n",
              "     9      76526.315789  76884.210526  ... -0.001751  14.842105\n",
              "     10     71141.666667  71491.666667  ... -0.004304  11.500000\n",
              "\n",
              "[290 rows x 7 columns]"
            ]
          },
          "execution_count": 11,
          "metadata": {},
          "output_type": "execute_result"
        }
      ],
      "source": [
        "stock.groupby(['year', 'month']).mean()"
      ]
    },
    {
      "cell_type": "code",
      "execution_count": null,
      "metadata": {
        "colab": {
          "base_uri": "https://localhost:8080/",
          "height": 570
        },
        "id": "7mwQFy85EIFx",
        "outputId": "42e661c8-a71c-4414-90ff-9186ce14f3d5"
      },
      "outputs": [
        {
          "name": "stderr",
          "output_type": "stream",
          "text": [
            "findfont: Font family ['NanumGothic'] not found. Falling back to DejaVu Sans.\n"
          ]
        },
        {
          "data": {
            "image/png": "[encoded data removed]",
            "text/plain": [
              "<Figure size 1152x648 with 1 Axes>"
            ]
          },
          "metadata": {
            "needs_background": "light"
          },
          "output_type": "display_data"
        }
      ],
      "source": [
        "# 시각화\n",
        "plt.figure(figsize=(16,9))\n",
        "sns.lineplot(y=stock['Close'], x=stock.index)\n",
        "plt.show()"
      ]
    },
    {
      "cell_type": "code",
      "execution_count": null,
      "metadata": {
        "colab": {
          "base_uri": "https://localhost:8080/",
          "height": 676
        },
        "id": "y7HzRaj4Eo_5",
        "outputId": "c3695106-552d-42d1-aebf-628f64e24fb7"
      },
      "outputs": [
        {
          "name": "stderr",
          "output_type": "stream",
          "text": [
            "findfont: Font family ['NanumGothic'] not found. Falling back to DejaVu Sans.\n"
          ]
        },
        {
          "data": {
            "image/png": "[encoded data removed]",
            "text/plain": [
              "<Figure size 1152x648 with 4 Axes>"
            ]
          },
          "metadata": {
            "needs_background": "light"
          },
          "output_type": "display_data"
        }
      ],
      "source": [
        "# 1990~2000, 2000~2010, 2010~2015, 2015~2020\n",
        "time_steps = [['1990', '2000'], \n",
        "              ['2000', '2010'], \n",
        "              ['2010', '2015'], \n",
        "              ['2015', '2020']]\n",
        "\n",
        "fig, axes = plt.subplots(2, 2)\n",
        "fig.set_size_inches(16, 9)\n",
        "for i in range(4):\n",
        "    ax = axes[i//2, i%2]\n",
        "    df = stock.loc[(stock.index > time_steps[i][0]) & (stock.index < time_steps[i][1])]\n",
        "    sns.lineplot(y=df['Close'], x=df.index, ax=ax)\n",
        "    ax.set_title(f'{time_steps[i][0]}~{time_steps[i][1]}')\n",
        "    ax.set_xlabel('time')\n",
        "    ax.set_ylabel('price')\n",
        "plt.tight_layout()\n",
        "plt.show()"
      ]
    },
    {
      "cell_type": "markdown",
      "metadata": {
        "id": "j4EqPdSrFJpm"
      },
      "source": [
        "## 데이터 전처리"
      ]
    },
    {
      "cell_type": "code",
      "execution_count": null,
      "metadata": {
        "colab": {
          "base_uri": "https://localhost:8080/"
        },
        "id": "yLhJSGoOE6zc",
        "outputId": "01d6529c-b032-4d5a-d9b6-6467bf472899"
      },
      "outputs": [
        {
          "data": {
            "text/plain": [
              "array([[1.32115172e-02, 1.23243802e-02, 1.30726257e-02, 6.10801899e-03,\n",
              "        7.79570151e-04],\n",
              "       [1.29568106e-02, 1.21797521e-02, 1.29720670e-02, 6.05269273e-03,\n",
              "        7.80677495e-04],\n",
              "       [1.29568106e-02, 1.20867769e-02, 1.28715084e-02, 5.87564870e-03,\n",
              "        9.36923728e-04],\n",
              "       ...,\n",
              "       [7.77408638e-01, 7.26239669e-01, 7.73184358e-01, 7.69842763e-01,\n",
              "        1.49340737e-01],\n",
              "       [7.84053156e-01, 7.33471074e-01, 7.86592179e-01, 7.74268863e-01,\n",
              "        1.05286164e-01],\n",
              "       [7.82945736e-01, 7.33471074e-01, 7.85474860e-01, 7.70949288e-01,\n",
              "        9.37834186e-02]])"
            ]
          },
          "execution_count": 14,
          "metadata": {},
          "output_type": "execute_result"
        }
      ],
      "source": [
        "from sklearn.preprocessing import MinMaxScaler\n",
        "# cols = ['Open', 'High', 'Low', 'Close', 'Volumne']\n",
        "cols = df.columns[:5]\n",
        "\n",
        "scaler = MinMaxScaler()\n",
        "scaled = scaler.fit_transform(stock[cols])\n",
        "scaled"
      ]
    },
    {
      "cell_type": "code",
      "execution_count": null,
      "metadata": {
        "colab": {
          "base_uri": "https://localhost:8080/",
          "height": 418
        },
        "id": "UaqG0tluF08T",
        "outputId": "7f76106c-d3a7-4998-b247-3598948d5eed"
      },
      "outputs": [
        {
          "data": {
            "text/html": [
              "<div>\n",
              "<style scoped>\n",
              "    .dataframe tbody tr th:only-of-type {\n",
              "        vertical-align: middle;\n",
              "    }\n",
              "\n",
              "    .dataframe tbody tr th {\n",
              "        vertical-align: top;\n",
              "    }\n",
              "\n",
              "    .dataframe thead th {\n",
              "        text-align: right;\n",
              "    }\n",
              "</style>\n",
              "<table border=\"1\" class=\"dataframe\">\n",
              "  <thead>\n",
              "    <tr style=\"text-align: right;\">\n",
              "      <th></th>\n",
              "      <th>Open</th>\n",
              "      <th>High</th>\n",
              "      <th>Low</th>\n",
              "      <th>Close</th>\n",
              "      <th>Volume</th>\n",
              "    </tr>\n",
              "  </thead>\n",
              "  <tbody>\n",
              "    <tr>\n",
              "      <th>0</th>\n",
              "      <td>0.013212</td>\n",
              "      <td>0.012324</td>\n",
              "      <td>0.013073</td>\n",
              "      <td>0.006108</td>\n",
              "      <td>0.000780</td>\n",
              "    </tr>\n",
              "    <tr>\n",
              "      <th>1</th>\n",
              "      <td>0.012957</td>\n",
              "      <td>0.012180</td>\n",
              "      <td>0.012972</td>\n",
              "      <td>0.006053</td>\n",
              "      <td>0.000781</td>\n",
              "    </tr>\n",
              "    <tr>\n",
              "      <th>2</th>\n",
              "      <td>0.012957</td>\n",
              "      <td>0.012087</td>\n",
              "      <td>0.012872</td>\n",
              "      <td>0.005876</td>\n",
              "      <td>0.000937</td>\n",
              "    </tr>\n",
              "    <tr>\n",
              "      <th>3</th>\n",
              "      <td>0.012658</td>\n",
              "      <td>0.012107</td>\n",
              "      <td>0.012771</td>\n",
              "      <td>0.005920</td>\n",
              "      <td>0.000537</td>\n",
              "    </tr>\n",
              "    <tr>\n",
              "      <th>4</th>\n",
              "      <td>0.012857</td>\n",
              "      <td>0.012345</td>\n",
              "      <td>0.012972</td>\n",
              "      <td>0.006208</td>\n",
              "      <td>0.000700</td>\n",
              "    </tr>\n",
              "    <tr>\n",
              "      <th>...</th>\n",
              "      <td>...</td>\n",
              "      <td>...</td>\n",
              "      <td>...</td>\n",
              "      <td>...</td>\n",
              "      <td>...</td>\n",
              "    </tr>\n",
              "    <tr>\n",
              "      <th>5995</th>\n",
              "      <td>0.764120</td>\n",
              "      <td>0.721074</td>\n",
              "      <td>0.768715</td>\n",
              "      <td>0.760991</td>\n",
              "      <td>0.216161</td>\n",
              "    </tr>\n",
              "    <tr>\n",
              "      <th>5996</th>\n",
              "      <td>0.777409</td>\n",
              "      <td>0.733471</td>\n",
              "      <td>0.782123</td>\n",
              "      <td>0.768736</td>\n",
              "      <td>0.199893</td>\n",
              "    </tr>\n",
              "    <tr>\n",
              "      <th>5997</th>\n",
              "      <td>0.777409</td>\n",
              "      <td>0.726240</td>\n",
              "      <td>0.773184</td>\n",
              "      <td>0.769843</td>\n",
              "      <td>0.149341</td>\n",
              "    </tr>\n",
              "    <tr>\n",
              "      <th>5998</th>\n",
              "      <td>0.784053</td>\n",
              "      <td>0.733471</td>\n",
              "      <td>0.786592</td>\n",
              "      <td>0.774269</td>\n",
              "      <td>0.105286</td>\n",
              "    </tr>\n",
              "    <tr>\n",
              "      <th>5999</th>\n",
              "      <td>0.782946</td>\n",
              "      <td>0.733471</td>\n",
              "      <td>0.785475</td>\n",
              "      <td>0.770949</td>\n",
              "      <td>0.093783</td>\n",
              "    </tr>\n",
              "  </tbody>\n",
              "</table>\n",
              "<p>6000 rows × 5 columns</p>\n",
              "</div>"
            ],
            "text/plain": [
              "          Open      High       Low     Close    Volume\n",
              "0     0.013212  0.012324  0.013073  0.006108  0.000780\n",
              "1     0.012957  0.012180  0.012972  0.006053  0.000781\n",
              "2     0.012957  0.012087  0.012872  0.005876  0.000937\n",
              "3     0.012658  0.012107  0.012771  0.005920  0.000537\n",
              "4     0.012857  0.012345  0.012972  0.006208  0.000700\n",
              "...        ...       ...       ...       ...       ...\n",
              "5995  0.764120  0.721074  0.768715  0.760991  0.216161\n",
              "5996  0.777409  0.733471  0.782123  0.768736  0.199893\n",
              "5997  0.777409  0.726240  0.773184  0.769843  0.149341\n",
              "5998  0.784053  0.733471  0.786592  0.774269  0.105286\n",
              "5999  0.782946  0.733471  0.785475  0.770949  0.093783\n",
              "\n",
              "[6000 rows x 5 columns]"
            ]
          },
          "execution_count": 15,
          "metadata": {},
          "output_type": "execute_result"
        }
      ],
      "source": [
        "# 스케일 자료를 새로운 데이터 프레임으로 제작\n",
        "df1 = pd.DataFrame(scaled, columns = cols)\n",
        "df1"
      ]
    },
    {
      "cell_type": "markdown",
      "metadata": {
        "id": "I8ItBxfPGfYo"
      },
      "source": [
        "## 데이터 분할"
      ]
    },
    {
      "cell_type": "code",
      "execution_count": null,
      "metadata": {
        "id": "iITuJcRfGB_7"
      },
      "outputs": [],
      "source": [
        "# 데이터 분할\n",
        "X = df1.drop(['Close'], 1)\n",
        "y = df1['Close']"
      ]
    },
    {
      "cell_type": "code",
      "execution_count": null,
      "metadata": {
        "colab": {
          "base_uri": "https://localhost:8080/",
          "height": 418
        },
        "id": "9jm57ulbGSNn",
        "outputId": "bdf048fc-7d13-44a0-e961-4cd44ef29a4e"
      },
      "outputs": [
        {
          "data": {
            "text/html": [
              "<div>\n",
              "<style scoped>\n",
              "    .dataframe tbody tr th:only-of-type {\n",
              "        vertical-align: middle;\n",
              "    }\n",
              "\n",
              "    .dataframe tbody tr th {\n",
              "        vertical-align: top;\n",
              "    }\n",
              "\n",
              "    .dataframe thead th {\n",
              "        text-align: right;\n",
              "    }\n",
              "</style>\n",
              "<table border=\"1\" class=\"dataframe\">\n",
              "  <thead>\n",
              "    <tr style=\"text-align: right;\">\n",
              "      <th></th>\n",
              "      <th>Open</th>\n",
              "      <th>High</th>\n",
              "      <th>Low</th>\n",
              "      <th>Volume</th>\n",
              "    </tr>\n",
              "  </thead>\n",
              "  <tbody>\n",
              "    <tr>\n",
              "      <th>0</th>\n",
              "      <td>0.013212</td>\n",
              "      <td>0.012324</td>\n",
              "      <td>0.013073</td>\n",
              "      <td>0.000780</td>\n",
              "    </tr>\n",
              "    <tr>\n",
              "      <th>1</th>\n",
              "      <td>0.012957</td>\n",
              "      <td>0.012180</td>\n",
              "      <td>0.012972</td>\n",
              "      <td>0.000781</td>\n",
              "    </tr>\n",
              "    <tr>\n",
              "      <th>2</th>\n",
              "      <td>0.012957</td>\n",
              "      <td>0.012087</td>\n",
              "      <td>0.012872</td>\n",
              "      <td>0.000937</td>\n",
              "    </tr>\n",
              "    <tr>\n",
              "      <th>3</th>\n",
              "      <td>0.012658</td>\n",
              "      <td>0.012107</td>\n",
              "      <td>0.012771</td>\n",
              "      <td>0.000537</td>\n",
              "    </tr>\n",
              "    <tr>\n",
              "      <th>4</th>\n",
              "      <td>0.012857</td>\n",
              "      <td>0.012345</td>\n",
              "      <td>0.012972</td>\n",
              "      <td>0.000700</td>\n",
              "    </tr>\n",
              "    <tr>\n",
              "      <th>...</th>\n",
              "      <td>...</td>\n",
              "      <td>...</td>\n",
              "      <td>...</td>\n",
              "      <td>...</td>\n",
              "    </tr>\n",
              "    <tr>\n",
              "      <th>4795</th>\n",
              "      <td>0.367885</td>\n",
              "      <td>0.343182</td>\n",
              "      <td>0.363352</td>\n",
              "      <td>0.002806</td>\n",
              "    </tr>\n",
              "    <tr>\n",
              "      <th>4796</th>\n",
              "      <td>0.365227</td>\n",
              "      <td>0.341322</td>\n",
              "      <td>0.364916</td>\n",
              "      <td>0.001718</td>\n",
              "    </tr>\n",
              "    <tr>\n",
              "      <th>4797</th>\n",
              "      <td>0.363455</td>\n",
              "      <td>0.341322</td>\n",
              "      <td>0.364916</td>\n",
              "      <td>0.001390</td>\n",
              "    </tr>\n",
              "    <tr>\n",
              "      <th>4798</th>\n",
              "      <td>0.365449</td>\n",
              "      <td>0.347314</td>\n",
              "      <td>0.366480</td>\n",
              "      <td>0.002944</td>\n",
              "    </tr>\n",
              "    <tr>\n",
              "      <th>4799</th>\n",
              "      <td>0.374308</td>\n",
              "      <td>0.350826</td>\n",
              "      <td>0.372961</td>\n",
              "      <td>0.004004</td>\n",
              "    </tr>\n",
              "  </tbody>\n",
              "</table>\n",
              "<p>4800 rows × 4 columns</p>\n",
              "</div>"
            ],
            "text/plain": [
              "          Open      High       Low    Volume\n",
              "0     0.013212  0.012324  0.013073  0.000780\n",
              "1     0.012957  0.012180  0.012972  0.000781\n",
              "2     0.012957  0.012087  0.012872  0.000937\n",
              "3     0.012658  0.012107  0.012771  0.000537\n",
              "4     0.012857  0.012345  0.012972  0.000700\n",
              "...        ...       ...       ...       ...\n",
              "4795  0.367885  0.343182  0.363352  0.002806\n",
              "4796  0.365227  0.341322  0.364916  0.001718\n",
              "4797  0.363455  0.341322  0.364916  0.001390\n",
              "4798  0.365449  0.347314  0.366480  0.002944\n",
              "4799  0.374308  0.350826  0.372961  0.004004\n",
              "\n",
              "[4800 rows x 4 columns]"
            ]
          },
          "execution_count": 17,
          "metadata": {},
          "output_type": "execute_result"
        }
      ],
      "source": [
        "# 시계열 데이터를 분할할 때는 shuffle를 False로 하면 순서대로 자료가 분할됨.\n",
        "from sklearn.model_selection import train_test_split\n",
        "x_train, x_test, y_train, y_test = train_test_split(X, y, test_size=0.2, random_state=777, shuffle=False)\n",
        "x_train"
      ]
    },
    {
      "cell_type": "code",
      "execution_count": null,
      "metadata": {
        "colab": {
          "base_uri": "https://localhost:8080/",
          "height": 418
        },
        "id": "YqeEnbb8GtgN",
        "outputId": "f4fc36b3-7669-42dd-e4fe-d6ee64a67036"
      },
      "outputs": [
        {
          "data": {
            "text/html": [
              "<div>\n",
              "<style scoped>\n",
              "    .dataframe tbody tr th:only-of-type {\n",
              "        vertical-align: middle;\n",
              "    }\n",
              "\n",
              "    .dataframe tbody tr th {\n",
              "        vertical-align: top;\n",
              "    }\n",
              "\n",
              "    .dataframe thead th {\n",
              "        text-align: right;\n",
              "    }\n",
              "</style>\n",
              "<table border=\"1\" class=\"dataframe\">\n",
              "  <thead>\n",
              "    <tr style=\"text-align: right;\">\n",
              "      <th></th>\n",
              "      <th>Open</th>\n",
              "      <th>High</th>\n",
              "      <th>Low</th>\n",
              "      <th>Volume</th>\n",
              "    </tr>\n",
              "  </thead>\n",
              "  <tbody>\n",
              "    <tr>\n",
              "      <th>4800</th>\n",
              "      <td>0.371429</td>\n",
              "      <td>0.360950</td>\n",
              "      <td>0.374749</td>\n",
              "      <td>0.006320</td>\n",
              "    </tr>\n",
              "    <tr>\n",
              "      <th>4801</th>\n",
              "      <td>0.385382</td>\n",
              "      <td>0.362190</td>\n",
              "      <td>0.387263</td>\n",
              "      <td>0.003441</td>\n",
              "    </tr>\n",
              "    <tr>\n",
              "      <th>4802</th>\n",
              "      <td>0.381838</td>\n",
              "      <td>0.359091</td>\n",
              "      <td>0.381453</td>\n",
              "      <td>0.003400</td>\n",
              "    </tr>\n",
              "    <tr>\n",
              "      <th>4803</th>\n",
              "      <td>0.380288</td>\n",
              "      <td>0.358264</td>\n",
              "      <td>0.382346</td>\n",
              "      <td>0.001879</td>\n",
              "    </tr>\n",
              "    <tr>\n",
              "      <th>4804</th>\n",
              "      <td>0.381395</td>\n",
              "      <td>0.363636</td>\n",
              "      <td>0.384358</td>\n",
              "      <td>0.003101</td>\n",
              "    </tr>\n",
              "    <tr>\n",
              "      <th>...</th>\n",
              "      <td>...</td>\n",
              "      <td>...</td>\n",
              "      <td>...</td>\n",
              "      <td>...</td>\n",
              "    </tr>\n",
              "    <tr>\n",
              "      <th>5995</th>\n",
              "      <td>0.764120</td>\n",
              "      <td>0.721074</td>\n",
              "      <td>0.768715</td>\n",
              "      <td>0.216161</td>\n",
              "    </tr>\n",
              "    <tr>\n",
              "      <th>5996</th>\n",
              "      <td>0.777409</td>\n",
              "      <td>0.733471</td>\n",
              "      <td>0.782123</td>\n",
              "      <td>0.199893</td>\n",
              "    </tr>\n",
              "    <tr>\n",
              "      <th>5997</th>\n",
              "      <td>0.777409</td>\n",
              "      <td>0.726240</td>\n",
              "      <td>0.773184</td>\n",
              "      <td>0.149341</td>\n",
              "    </tr>\n",
              "    <tr>\n",
              "      <th>5998</th>\n",
              "      <td>0.784053</td>\n",
              "      <td>0.733471</td>\n",
              "      <td>0.786592</td>\n",
              "      <td>0.105286</td>\n",
              "    </tr>\n",
              "    <tr>\n",
              "      <th>5999</th>\n",
              "      <td>0.782946</td>\n",
              "      <td>0.733471</td>\n",
              "      <td>0.785475</td>\n",
              "      <td>0.093783</td>\n",
              "    </tr>\n",
              "  </tbody>\n",
              "</table>\n",
              "<p>1200 rows × 4 columns</p>\n",
              "</div>"
            ],
            "text/plain": [
              "          Open      High       Low    Volume\n",
              "4800  0.371429  0.360950  0.374749  0.006320\n",
              "4801  0.385382  0.362190  0.387263  0.003441\n",
              "4802  0.381838  0.359091  0.381453  0.003400\n",
              "4803  0.380288  0.358264  0.382346  0.001879\n",
              "4804  0.381395  0.363636  0.384358  0.003101\n",
              "...        ...       ...       ...       ...\n",
              "5995  0.764120  0.721074  0.768715  0.216161\n",
              "5996  0.777409  0.733471  0.782123  0.199893\n",
              "5997  0.777409  0.726240  0.773184  0.149341\n",
              "5998  0.784053  0.733471  0.786592  0.105286\n",
              "5999  0.782946  0.733471  0.785475  0.093783\n",
              "\n",
              "[1200 rows x 4 columns]"
            ]
          },
          "execution_count": 18,
          "metadata": {},
          "output_type": "execute_result"
        }
      ],
      "source": [
        "x_test"
      ]
    },
    {
      "cell_type": "code",
      "execution_count": null,
      "metadata": {
        "colab": {
          "base_uri": "https://localhost:8080/"
        },
        "id": "dwfinOqAG8WV",
        "outputId": "8db4b0d7-901b-4ae8-bd0a-52f07249ec9b"
      },
      "outputs": [
        {
          "data": {
            "text/plain": [
              "((4800, 4), (1200, 4), (4800,), (1200,))"
            ]
          },
          "execution_count": 19,
          "metadata": {},
          "output_type": "execute_result"
        }
      ],
      "source": [
        "x_train.shape, x_test.shape, y_train.shape, y_test.shape"
      ]
    },
    {
      "cell_type": "code",
      "execution_count": null,
      "metadata": {
        "id": "jQQPyohRHP3N"
      },
      "outputs": [],
      "source": [
        "# 슬라이싱 하면서 자료 일정량 잘라서 갖고옴\n",
        "# 슬라이싱 하는 이유: w,b를 배치사이즈로 업데이트하기 때문에 여러번 업데이트하여 정확도를 높이기 위함\n",
        "# (참고) https://iyousys.tistory.com/49\n",
        "import tensorflow as tf\n",
        "def windowed_dataset(series, window_size, batch_size, shuffle):\n",
        "    series = tf.expand_dims(series, axis=-1) # 마지막 차원에 열을 하나 추가함.\n",
        "    ds = tf.data.Dataset.from_tensor_slices(series)\n",
        "    ds = ds.window(window_size + 1, shift=1, drop_remainder=True)\n",
        "    ds = ds.flat_map(lambda w: w.batch(window_size + 1))\n",
        "    if shuffle:\n",
        "        ds = ds.shuffle(1000)\n",
        "    ds = ds.map(lambda w: (w[:-1], w[-1]))\n",
        "    return ds.batch(batch_size).prefetch(1)"
      ]
    },
    {
      "cell_type": "code",
      "execution_count": null,
      "metadata": {
        "id": "C8W5tq2tKJjm"
      },
      "outputs": [],
      "source": [
        "WINDOW_SIZE=20\n",
        "BATCH_SIZE=32\n",
        "\n",
        "# trian_data는 학습용 데이터셋, test_data는 검증용 데이터\n",
        "# WINDOW_SIZE와 BATCH_SIZE를 각 데이터셋에 적용\n",
        "train_data = windowed_dataset(y_train, WINDOW_SIZE, BATCH_SIZE, True)\n",
        "test_data = windowed_dataset(y_test, WINDOW_SIZE, BATCH_SIZE, False)"
      ]
    },
    {
      "cell_type": "code",
      "execution_count": null,
      "metadata": {
        "colab": {
          "base_uri": "https://localhost:8080/"
        },
        "id": "nuW4dwwHKNjB",
        "outputId": "e91fc492-2301-496d-a7f5-a257f22339b4"
      },
      "outputs": [
        {
          "name": "stdout",
          "output_type": "stream",
          "text": [
            "데이터셋(X) 구성(batch_size, window_size, feature갯수): (32, 20, 1)\n",
            "데이터셋(Y) 구성(batch_size, window_size, feature갯수): (32, 1)\n"
          ]
        }
      ],
      "source": [
        "# X: (batch_size, window_size, feature)\n",
        "# Y: (batch_size, feature)\n",
        "for data in train_data.take(1):\n",
        "    print(f'데이터셋(X) 구성(batch_size, window_size, feature갯수): {data[0].shape}')\n",
        "    print(f'데이터셋(Y) 구성(batch_size, window_size, feature갯수): {data[1].shape}')"
      ]
    },
    {
      "cell_type": "markdown",
      "metadata": {
        "id": "rqBKepk1LSSi"
      },
      "source": [
        "## 모델 구축"
      ]
    },
    {
      "cell_type": "code",
      "execution_count": null,
      "metadata": {
        "id": "ajQk1gJaKQHB"
      },
      "outputs": [],
      "source": [
        "from tensorflow.keras.models import Sequential\n",
        "from tensorflow.keras.layers import Dense, LSTM, Conv1D, Lambda\n",
        "from tensorflow.keras.losses import Huber\n",
        "from tensorflow.keras.optimizers import Adam\n",
        "from tensorflow.keras.callbacks import EarlyStopping, ModelCheckpoint"
      ]
    },
    {
      "cell_type": "code",
      "execution_count": null,
      "metadata": {
        "id": "l61zFyhHKVhe"
      },
      "outputs": [],
      "source": [
        "model = Sequential([\n",
        "    # 1차원 feature map 생성. filters는 32로, kernel_size는 5로 지정.\n",
        "    Conv1D(filters=32, kernel_size=5,\n",
        "           padding=\"causal\",\n",
        "           activation=\"relu\",\n",
        "           input_shape=[WINDOW_SIZE, 1]),\n",
        "    # LSTM과 Dense 레이러를 사용. 활성함수는 각각 tanh와 relu로 지정.\n",
        "    LSTM(16, activation='relu'),\n",
        "    Dense(16, activation=\"relu\"),\n",
        "    Dense(1),\n",
        "])"
      ]
    },
    {
      "cell_type": "code",
      "execution_count": null,
      "metadata": {
        "id": "u6FSH6z8KYTh"
      },
      "outputs": [],
      "source": [
        "# Sequence 학습에 비교적 좋은 퍼포먼스를 내는 Huber()를 사용\n",
        "loss = Huber()\n",
        "optimizer = Adam(0.0005)\n",
        "model.compile(loss=Huber(), optimizer=optimizer, metrics=['mse'])"
      ]
    },
    {
      "cell_type": "code",
      "execution_count": null,
      "metadata": {
        "id": "3IaXBlmgKamS"
      },
      "outputs": [],
      "source": [
        "# earlystopping은 10번 epoch통안 val_loss 개선이 없다면 학습을 멈춥니다.\n",
        "earlystopping = EarlyStopping(monitor='val_loss', patience=10)\n",
        "# val_loss 기준 체크포인터도 생성\n",
        "filename = os.path.join('tmp', 'ckeckpointer.ckpt')\n",
        "checkpoint = ModelCheckpoint(filename, \n",
        "                             save_weights_only=True, \n",
        "                             save_best_only=True, \n",
        "                             monitor='val_loss', \n",
        "                             verbose=1)"
      ]
    },
    {
      "cell_type": "markdown",
      "metadata": {
        "id": "CZttZAICLVdf"
      },
      "source": [
        "## 모델 학습"
      ]
    },
    {
      "cell_type": "code",
      "execution_count": null,
      "metadata": {
        "colab": {
          "base_uri": "https://localhost:8080/"
        },
        "id": "uSDrQDghKc0m",
        "outputId": "ab135f6c-65b2-4940-97d5-ac0da15b8914"
      },
      "outputs": [
        {
          "name": "stdout",
          "output_type": "stream",
          "text": [
            "Epoch 1/50\n",
            "150/150 [==============================] - 5s 17ms/step - loss: 2.2728e-04 - mse: 4.5456e-04 - val_loss: 7.0642e-04 - val_mse: 0.0014\n",
            "\n",
            "Epoch 00001: val_loss improved from inf to 0.00071, saving model to tmp/ckeckpointer.ckpt\n",
            "Epoch 2/50\n",
            "150/150 [==============================] - 2s 16ms/step - loss: 2.4010e-05 - mse: 4.8020e-05 - val_loss: 8.7929e-04 - val_mse: 0.0018\n",
            "\n",
            "Epoch 00002: val_loss did not improve from 0.00071\n",
            "Epoch 3/50\n",
            "150/150 [==============================] - 2s 15ms/step - loss: 2.1603e-05 - mse: 4.3206e-05 - val_loss: 0.0011 - val_mse: 0.0022\n",
            "\n",
            "Epoch 00003: val_loss did not improve from 0.00071\n",
            "Epoch 4/50\n",
            "150/150 [==============================] - 2s 14ms/step - loss: 2.1448e-05 - mse: 4.2895e-05 - val_loss: 0.0014 - val_mse: 0.0027\n",
            "\n",
            "Epoch 00004: val_loss did not improve from 0.00071\n",
            "Epoch 5/50\n",
            "150/150 [==============================] - 2s 15ms/step - loss: 2.1076e-05 - mse: 4.2152e-05 - val_loss: 0.0010 - val_mse: 0.0020\n",
            "\n",
            "Epoch 00005: val_loss did not improve from 0.00071\n",
            "Epoch 6/50\n",
            "150/150 [==============================] - 2s 16ms/step - loss: 2.0620e-05 - mse: 4.1240e-05 - val_loss: 0.0013 - val_mse: 0.0027\n",
            "\n",
            "Epoch 00006: val_loss did not improve from 0.00071\n",
            "Epoch 7/50\n",
            "150/150 [==============================] - 2s 15ms/step - loss: 1.8388e-05 - mse: 3.6775e-05 - val_loss: 0.0017 - val_mse: 0.0034\n",
            "\n",
            "Epoch 00007: val_loss did not improve from 0.00071\n",
            "Epoch 8/50\n",
            "150/150 [==============================] - 2s 14ms/step - loss: 1.9658e-05 - mse: 3.9316e-05 - val_loss: 0.0012 - val_mse: 0.0024\n",
            "\n",
            "Epoch 00008: val_loss did not improve from 0.00071\n",
            "Epoch 9/50\n",
            "150/150 [==============================] - 2s 15ms/step - loss: 1.7805e-05 - mse: 3.5609e-05 - val_loss: 0.0011 - val_mse: 0.0022\n",
            "\n",
            "Epoch 00009: val_loss did not improve from 0.00071\n",
            "Epoch 10/50\n",
            "150/150 [==============================] - 2s 14ms/step - loss: 1.7850e-05 - mse: 3.5700e-05 - val_loss: 0.0013 - val_mse: 0.0026\n",
            "\n",
            "Epoch 00010: val_loss did not improve from 0.00071\n",
            "Epoch 11/50\n",
            "150/150 [==============================] - 2s 15ms/step - loss: 1.7407e-05 - mse: 3.4814e-05 - val_loss: 0.0010 - val_mse: 0.0021\n",
            "\n",
            "Epoch 00011: val_loss did not improve from 0.00071\n"
          ]
        }
      ],
      "source": [
        "# callbacks로 앞에서 구현한 earlystopping과 checkpoint를 지정\n",
        "history = model.fit(train_data, \n",
        "                    validation_data=(test_data), \n",
        "                    epochs=50, \n",
        "                    callbacks=[checkpoint, earlystopping])"
      ]
    },
    {
      "cell_type": "markdown",
      "metadata": {
        "id": "0yICAmmpLZkG"
      },
      "source": [
        "## 모델 예측"
      ]
    },
    {
      "cell_type": "code",
      "execution_count": null,
      "metadata": {
        "colab": {
          "base_uri": "https://localhost:8080/"
        },
        "id": "jQMkqhJWKecu",
        "outputId": "cb55a461-cdca-41d0-c8b6-cff8248887ca"
      },
      "outputs": [
        {
          "data": {
            "text/plain": [
              "(1180, 1)"
            ]
          },
          "execution_count": 28,
          "metadata": {},
          "output_type": "execute_result"
        }
      ],
      "source": [
        "pred = model.predict(test_data)\n",
        "pred.shape"
      ]
    },
    {
      "cell_type": "code",
      "execution_count": null,
      "metadata": {
        "colab": {
          "base_uri": "https://localhost:8080/",
          "height": 537
        },
        "id": "M_DNRs_sKiRL",
        "outputId": "db9c8d5a-ec40-45da-ba00-818a9d9e5afa"
      },
      "outputs": [
        {
          "data": {
            "image/png": "[encoded data removed]",
            "text/plain": [
              "<Figure size 864x648 with 1 Axes>"
            ]
          },
          "metadata": {
            "needs_background": "light"
          },
          "output_type": "display_data"
        }
      ],
      "source": [
        "# 20일치의 데이터로 21일치를 예측하므로 test_data 사용시 이전 20일은 예측하지 않습니다.\n",
        "# 따라서 y_test 데이터에 [20:]로 슬라이싱\n",
        "plt.figure(figsize=(12, 9))\n",
        "plt.plot(np.asarray(y_test)[20:], label='actual')\n",
        "plt.plot(pred, label='prediction')\n",
        "plt.legend()\n",
        "plt.show()"
      ]
    },
    {
      "cell_type": "code",
      "execution_count": 43,
      "metadata": {
        "colab": {
          "base_uri": "https://localhost:8080/"
        },
        "id": "MVoVdZoxjO1c",
        "outputId": "1a7f9467-f08e-46d6-c519-662fc6c5dc98"
      },
      "outputs": [
        {
          "data": {
            "text/plain": [
              "array([[21981.826]], dtype=float32)"
            ]
          },
          "execution_count": 43,
          "metadata": {},
          "output_type": "execute_result"
        }
      ],
      "source": [
        "new_data=np.array([[70200,70300,69200,13486391]])  # 시가, 고가, 저가, 거래량\n",
        "\n",
        "new_data=np.array([70200,70300,69200,13486391]).reshape(1,-1)\n",
        "new_=np.expand_dims(new_data,-1)\n",
        "\n",
        "model.predict(new_)"
      ]
    }
  ],
  "metadata": {
    "colab": {
      "collapsed_sections": [],
      "name": "33_RNN_LSTM활용_주가예측.ipynb",
      "provenance": []
    },
    "kernelspec": {
      "display_name": "Python 3",
      "name": "python3"
    },
    "language_info": {
      "name": "python"
    }
  },
  "nbformat": 4,
  "nbformat_minor": 0
}
