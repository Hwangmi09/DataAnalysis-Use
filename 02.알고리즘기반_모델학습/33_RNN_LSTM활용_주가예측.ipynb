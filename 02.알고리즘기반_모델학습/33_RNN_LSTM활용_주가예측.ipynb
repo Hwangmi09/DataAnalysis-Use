{
  "nbformat": 4,
  "nbformat_minor": 0,
  "metadata": {
    "colab": {
      "name": "33_RNN_LSTM활용_주가예측.ipynb",
      "provenance": [],
      "collapsed_sections": []
    },
    "kernelspec": {
      "name": "python3",
      "display_name": "Python 3"
    },
    "language_info": {
      "name": "python"
    }
  },
  "cells": [
    {
      "cell_type": "markdown",
      "metadata": {
        "id": "QJlDjhjg81ek"
      },
      "source": [
        "# LSTM을 활용한 주가 예측\n",
        "- (참고1) https://financedata.github.io/posts/finance-data-reader-users-guide.html\n",
        "- (참고2) https://www.tensorflow.org/api_docs/python/tf/data/Dataset"
      ]
    },
    {
      "cell_type": "code",
      "metadata": {
        "id": "iDd3zYvG5qWW"
      },
      "source": [
        "!pip install finance-datareader > /dev/null"
      ],
      "execution_count": 1,
      "outputs": []
    },
    {
      "cell_type": "code",
      "metadata": {
        "id": "vvtRn0mM8ETo"
      },
      "source": [
        "import pandas as pd\n",
        "import numpy as np\n",
        "import matplotlib.pyplot as plt\n",
        "import seaborn as sns\n",
        "import warnings\n",
        "import os\n",
        "\n",
        "%matplotlib inline\n",
        "warnings.filterwarnings('ignore')\n",
        "\n",
        "plt.rcParams['font.family'] = 'NanumGothic'"
      ],
      "execution_count": 2,
      "outputs": []
    },
    {
      "cell_type": "code",
      "metadata": {
        "id": "p1WQZmIS8HSQ"
      },
      "source": [
        "import FinanceDataReader as fdr"
      ],
      "execution_count": 3,
      "outputs": []
    },
    {
      "cell_type": "code",
      "metadata": {
        "id": "HpcS7mqz8aaN"
      },
      "source": [
        "df = fdr.StockListing('KRX')"
      ],
      "execution_count": 4,
      "outputs": []
    },
    {
      "cell_type": "code",
      "metadata": {
        "colab": {
          "base_uri": "https://localhost:8080/"
        },
        "id": "hnVJzMUj878a",
        "outputId": "19fcd78f-b6b5-4f75-d7c3-49a40fba1633"
      },
      "source": [
        "df.info()"
      ],
      "execution_count": 5,
      "outputs": [
        {
          "output_type": "stream",
          "name": "stdout",
          "text": [
            "<class 'pandas.core.frame.DataFrame'>\n",
            "Int64Index: 6601 entries, 0 to 6600\n",
            "Data columns (total 10 columns):\n",
            " #   Column          Non-Null Count  Dtype         \n",
            "---  ------          --------------  -----         \n",
            " 0   Symbol          6601 non-null   object        \n",
            " 1   Market          6601 non-null   object        \n",
            " 2   Name            6601 non-null   object        \n",
            " 3   Sector          2466 non-null   object        \n",
            " 4   Industry        2447 non-null   object        \n",
            " 5   ListingDate     2466 non-null   datetime64[ns]\n",
            " 6   SettleMonth     2466 non-null   object        \n",
            " 7   Representative  2466 non-null   object        \n",
            " 8   HomePage        2318 non-null   object        \n",
            " 9   Region          2466 non-null   object        \n",
            "dtypes: datetime64[ns](1), object(9)\n",
            "memory usage: 567.3+ KB\n"
          ]
        }
      ]
    },
    {
      "cell_type": "code",
      "metadata": {
        "colab": {
          "base_uri": "https://localhost:8080/",
          "height": 80
        },
        "id": "r1aMsyki9CXV",
        "outputId": "4bda8174-f50a-461e-920b-b39b228b08ae"
      },
      "source": [
        "search = '삼성전자'\n",
        "display(df[df.Name == search])\n",
        "search_num = df[df.Name == search].Symbol"
      ],
      "execution_count": 35,
      "outputs": [
        {
          "output_type": "display_data",
          "data": {
            "text/html": [
              "<div>\n",
              "<style scoped>\n",
              "    .dataframe tbody tr th:only-of-type {\n",
              "        vertical-align: middle;\n",
              "    }\n",
              "\n",
              "    .dataframe tbody tr th {\n",
              "        vertical-align: top;\n",
              "    }\n",
              "\n",
              "    .dataframe thead th {\n",
              "        text-align: right;\n",
              "    }\n",
              "</style>\n",
              "<table border=\"1\" class=\"dataframe\">\n",
              "  <thead>\n",
              "    <tr style=\"text-align: right;\">\n",
              "      <th></th>\n",
              "      <th>Symbol</th>\n",
              "      <th>Market</th>\n",
              "      <th>Name</th>\n",
              "      <th>Sector</th>\n",
              "      <th>Industry</th>\n",
              "      <th>ListingDate</th>\n",
              "      <th>SettleMonth</th>\n",
              "      <th>Representative</th>\n",
              "      <th>HomePage</th>\n",
              "      <th>Region</th>\n",
              "    </tr>\n",
              "  </thead>\n",
              "  <tbody>\n",
              "    <tr>\n",
              "      <th>3502</th>\n",
              "      <td>005930</td>\n",
              "      <td>KOSPI</td>\n",
              "      <td>삼성전자</td>\n",
              "      <td>통신 및 방송 장비 제조업</td>\n",
              "      <td>IMT2000 서비스용 동기식 기지국,교환국장비,데이터단말기,동영상휴대폰,핵심칩,반...</td>\n",
              "      <td>1975-06-11</td>\n",
              "      <td>12월</td>\n",
              "      <td>김기남, 김현석, 고동진</td>\n",
              "      <td>http://www.sec.co.kr</td>\n",
              "      <td>경기도</td>\n",
              "    </tr>\n",
              "  </tbody>\n",
              "</table>\n",
              "</div>"
            ],
            "text/plain": [
              "      Symbol Market  Name  ... Representative              HomePage Region\n",
              "3502  005930  KOSPI  삼성전자  ...  김기남, 김현석, 고동진  http://www.sec.co.kr    경기도\n",
              "\n",
              "[1 rows x 10 columns]"
            ]
          },
          "metadata": {}
        }
      ]
    },
    {
      "cell_type": "code",
      "metadata": {
        "colab": {
          "base_uri": "https://localhost:8080/"
        },
        "id": "zwwlyKpl-ie7",
        "outputId": "3914d955-a7e5-41b2-cb86-83f3afc411e7"
      },
      "source": [
        "search_num.values"
      ],
      "execution_count": 37,
      "outputs": [
        {
          "output_type": "execute_result",
          "data": {
            "text/plain": [
              "array(['005930'], dtype=object)"
            ]
          },
          "metadata": {},
          "execution_count": 37
        }
      ]
    },
    {
      "cell_type": "code",
      "metadata": {
        "colab": {
          "base_uri": "https://localhost:8080/",
          "height": 449
        },
        "id": "y-BEyAPt9DWk",
        "outputId": "119aef58-fc9b-4a0f-df88-1df069ea0b23"
      },
      "source": [
        "stock = fdr.DataReader(search_num.values[0], '2021')\n",
        "stock # 시가, 고가, 저가, 종가, 거래량, 대비"
      ],
      "execution_count": 42,
      "outputs": [
        {
          "output_type": "execute_result",
          "data": {
            "text/html": [
              "<div>\n",
              "<style scoped>\n",
              "    .dataframe tbody tr th:only-of-type {\n",
              "        vertical-align: middle;\n",
              "    }\n",
              "\n",
              "    .dataframe tbody tr th {\n",
              "        vertical-align: top;\n",
              "    }\n",
              "\n",
              "    .dataframe thead th {\n",
              "        text-align: right;\n",
              "    }\n",
              "</style>\n",
              "<table border=\"1\" class=\"dataframe\">\n",
              "  <thead>\n",
              "    <tr style=\"text-align: right;\">\n",
              "      <th></th>\n",
              "      <th>Open</th>\n",
              "      <th>High</th>\n",
              "      <th>Low</th>\n",
              "      <th>Close</th>\n",
              "      <th>Volume</th>\n",
              "      <th>Change</th>\n",
              "    </tr>\n",
              "    <tr>\n",
              "      <th>Date</th>\n",
              "      <th></th>\n",
              "      <th></th>\n",
              "      <th></th>\n",
              "      <th></th>\n",
              "      <th></th>\n",
              "      <th></th>\n",
              "    </tr>\n",
              "  </thead>\n",
              "  <tbody>\n",
              "    <tr>\n",
              "      <th>2021-01-04</th>\n",
              "      <td>81000</td>\n",
              "      <td>84400</td>\n",
              "      <td>80200</td>\n",
              "      <td>83000</td>\n",
              "      <td>38655276</td>\n",
              "      <td>0.024691</td>\n",
              "    </tr>\n",
              "    <tr>\n",
              "      <th>2021-01-05</th>\n",
              "      <td>81600</td>\n",
              "      <td>83900</td>\n",
              "      <td>81600</td>\n",
              "      <td>83900</td>\n",
              "      <td>35335669</td>\n",
              "      <td>0.010843</td>\n",
              "    </tr>\n",
              "    <tr>\n",
              "      <th>2021-01-06</th>\n",
              "      <td>83300</td>\n",
              "      <td>84500</td>\n",
              "      <td>82100</td>\n",
              "      <td>82200</td>\n",
              "      <td>42089013</td>\n",
              "      <td>-0.020262</td>\n",
              "    </tr>\n",
              "    <tr>\n",
              "      <th>2021-01-07</th>\n",
              "      <td>82800</td>\n",
              "      <td>84200</td>\n",
              "      <td>82700</td>\n",
              "      <td>82900</td>\n",
              "      <td>32644642</td>\n",
              "      <td>0.008516</td>\n",
              "    </tr>\n",
              "    <tr>\n",
              "      <th>2021-01-08</th>\n",
              "      <td>83300</td>\n",
              "      <td>90000</td>\n",
              "      <td>83000</td>\n",
              "      <td>88800</td>\n",
              "      <td>59013307</td>\n",
              "      <td>0.071170</td>\n",
              "    </tr>\n",
              "    <tr>\n",
              "      <th>...</th>\n",
              "      <td>...</td>\n",
              "      <td>...</td>\n",
              "      <td>...</td>\n",
              "      <td>...</td>\n",
              "      <td>...</td>\n",
              "      <td>...</td>\n",
              "    </tr>\n",
              "    <tr>\n",
              "      <th>2021-10-12</th>\n",
              "      <td>70700</td>\n",
              "      <td>70900</td>\n",
              "      <td>68700</td>\n",
              "      <td>69000</td>\n",
              "      <td>31001484</td>\n",
              "      <td>-0.034965</td>\n",
              "    </tr>\n",
              "    <tr>\n",
              "      <th>2021-10-13</th>\n",
              "      <td>68700</td>\n",
              "      <td>69600</td>\n",
              "      <td>68300</td>\n",
              "      <td>68800</td>\n",
              "      <td>24172015</td>\n",
              "      <td>-0.002899</td>\n",
              "    </tr>\n",
              "    <tr>\n",
              "      <th>2021-10-14</th>\n",
              "      <td>69000</td>\n",
              "      <td>69800</td>\n",
              "      <td>68800</td>\n",
              "      <td>69400</td>\n",
              "      <td>19520641</td>\n",
              "      <td>0.008721</td>\n",
              "    </tr>\n",
              "    <tr>\n",
              "      <th>2021-10-15</th>\n",
              "      <td>70200</td>\n",
              "      <td>71000</td>\n",
              "      <td>70000</td>\n",
              "      <td>70100</td>\n",
              "      <td>18051612</td>\n",
              "      <td>0.010086</td>\n",
              "    </tr>\n",
              "    <tr>\n",
              "      <th>2021-10-18</th>\n",
              "      <td>70200</td>\n",
              "      <td>70300</td>\n",
              "      <td>69200</td>\n",
              "      <td>70100</td>\n",
              "      <td>12443675</td>\n",
              "      <td>0.000000</td>\n",
              "    </tr>\n",
              "  </tbody>\n",
              "</table>\n",
              "<p>195 rows × 6 columns</p>\n",
              "</div>"
            ],
            "text/plain": [
              "             Open   High    Low  Close    Volume    Change\n",
              "Date                                                      \n",
              "2021-01-04  81000  84400  80200  83000  38655276  0.024691\n",
              "2021-01-05  81600  83900  81600  83900  35335669  0.010843\n",
              "2021-01-06  83300  84500  82100  82200  42089013 -0.020262\n",
              "2021-01-07  82800  84200  82700  82900  32644642  0.008516\n",
              "2021-01-08  83300  90000  83000  88800  59013307  0.071170\n",
              "...           ...    ...    ...    ...       ...       ...\n",
              "2021-10-12  70700  70900  68700  69000  31001484 -0.034965\n",
              "2021-10-13  68700  69600  68300  68800  24172015 -0.002899\n",
              "2021-10-14  69000  69800  68800  69400  19520641  0.008721\n",
              "2021-10-15  70200  71000  70000  70100  18051612  0.010086\n",
              "2021-10-18  70200  70300  69200  70100  12443675  0.000000\n",
              "\n",
              "[195 rows x 6 columns]"
            ]
          },
          "metadata": {},
          "execution_count": 42
        }
      ]
    },
    {
      "cell_type": "code",
      "metadata": {
        "colab": {
          "base_uri": "https://localhost:8080/",
          "height": 511
        },
        "id": "o1_Ln1sL9gfi",
        "outputId": "674f9cc4-629b-44ab-9f4b-6c2a2de77fb1"
      },
      "source": [
        "search = '삼성전자'\n",
        "display(df[df.Name == search])\n",
        "search_num = int(df[df.Name == search].Symbol)\n",
        "stock = fdr.DataReader(str(search_num).zfill(6))\n",
        "stock # 시가, 고가, 저가, 종가, 거래량, 대비"
      ],
      "execution_count": 44,
      "outputs": [
        {
          "output_type": "display_data",
          "data": {
            "text/html": [
              "<div>\n",
              "<style scoped>\n",
              "    .dataframe tbody tr th:only-of-type {\n",
              "        vertical-align: middle;\n",
              "    }\n",
              "\n",
              "    .dataframe tbody tr th {\n",
              "        vertical-align: top;\n",
              "    }\n",
              "\n",
              "    .dataframe thead th {\n",
              "        text-align: right;\n",
              "    }\n",
              "</style>\n",
              "<table border=\"1\" class=\"dataframe\">\n",
              "  <thead>\n",
              "    <tr style=\"text-align: right;\">\n",
              "      <th></th>\n",
              "      <th>Symbol</th>\n",
              "      <th>Market</th>\n",
              "      <th>Name</th>\n",
              "      <th>Sector</th>\n",
              "      <th>Industry</th>\n",
              "      <th>ListingDate</th>\n",
              "      <th>SettleMonth</th>\n",
              "      <th>Representative</th>\n",
              "      <th>HomePage</th>\n",
              "      <th>Region</th>\n",
              "    </tr>\n",
              "  </thead>\n",
              "  <tbody>\n",
              "    <tr>\n",
              "      <th>3502</th>\n",
              "      <td>005930</td>\n",
              "      <td>KOSPI</td>\n",
              "      <td>삼성전자</td>\n",
              "      <td>통신 및 방송 장비 제조업</td>\n",
              "      <td>IMT2000 서비스용 동기식 기지국,교환국장비,데이터단말기,동영상휴대폰,핵심칩,반...</td>\n",
              "      <td>1975-06-11</td>\n",
              "      <td>12월</td>\n",
              "      <td>김기남, 김현석, 고동진</td>\n",
              "      <td>http://www.sec.co.kr</td>\n",
              "      <td>경기도</td>\n",
              "    </tr>\n",
              "  </tbody>\n",
              "</table>\n",
              "</div>"
            ],
            "text/plain": [
              "      Symbol Market  Name  ... Representative              HomePage Region\n",
              "3502  005930  KOSPI  삼성전자  ...  김기남, 김현석, 고동진  http://www.sec.co.kr    경기도\n",
              "\n",
              "[1 rows x 10 columns]"
            ]
          },
          "metadata": {}
        },
        {
          "output_type": "execute_result",
          "data": {
            "text/html": [
              "<div>\n",
              "<style scoped>\n",
              "    .dataframe tbody tr th:only-of-type {\n",
              "        vertical-align: middle;\n",
              "    }\n",
              "\n",
              "    .dataframe tbody tr th {\n",
              "        vertical-align: top;\n",
              "    }\n",
              "\n",
              "    .dataframe thead th {\n",
              "        text-align: right;\n",
              "    }\n",
              "</style>\n",
              "<table border=\"1\" class=\"dataframe\">\n",
              "  <thead>\n",
              "    <tr style=\"text-align: right;\">\n",
              "      <th></th>\n",
              "      <th>Open</th>\n",
              "      <th>High</th>\n",
              "      <th>Low</th>\n",
              "      <th>Close</th>\n",
              "      <th>Volume</th>\n",
              "      <th>Change</th>\n",
              "    </tr>\n",
              "    <tr>\n",
              "      <th>Date</th>\n",
              "      <th></th>\n",
              "      <th></th>\n",
              "      <th></th>\n",
              "      <th></th>\n",
              "      <th></th>\n",
              "      <th></th>\n",
              "    </tr>\n",
              "  </thead>\n",
              "  <tbody>\n",
              "    <tr>\n",
              "      <th>1997-09-23</th>\n",
              "      <td>1209</td>\n",
              "      <td>1215</td>\n",
              "      <td>1192</td>\n",
              "      <td>1192</td>\n",
              "      <td>66140</td>\n",
              "      <td>NaN</td>\n",
              "    </tr>\n",
              "    <tr>\n",
              "      <th>1997-09-24</th>\n",
              "      <td>1186</td>\n",
              "      <td>1213</td>\n",
              "      <td>1165</td>\n",
              "      <td>1194</td>\n",
              "      <td>93880</td>\n",
              "      <td>0.001678</td>\n",
              "    </tr>\n",
              "    <tr>\n",
              "      <th>1997-09-25</th>\n",
              "      <td>1193</td>\n",
              "      <td>1193</td>\n",
              "      <td>1170</td>\n",
              "      <td>1179</td>\n",
              "      <td>70400</td>\n",
              "      <td>-0.012563</td>\n",
              "    </tr>\n",
              "    <tr>\n",
              "      <th>1997-09-26</th>\n",
              "      <td>1170</td>\n",
              "      <td>1179</td>\n",
              "      <td>1161</td>\n",
              "      <td>1174</td>\n",
              "      <td>70500</td>\n",
              "      <td>-0.004241</td>\n",
              "    </tr>\n",
              "    <tr>\n",
              "      <th>1997-09-27</th>\n",
              "      <td>1170</td>\n",
              "      <td>1170</td>\n",
              "      <td>1152</td>\n",
              "      <td>1158</td>\n",
              "      <td>84610</td>\n",
              "      <td>-0.013629</td>\n",
              "    </tr>\n",
              "    <tr>\n",
              "      <th>...</th>\n",
              "      <td>...</td>\n",
              "      <td>...</td>\n",
              "      <td>...</td>\n",
              "      <td>...</td>\n",
              "      <td>...</td>\n",
              "      <td>...</td>\n",
              "    </tr>\n",
              "    <tr>\n",
              "      <th>2021-10-12</th>\n",
              "      <td>70700</td>\n",
              "      <td>70900</td>\n",
              "      <td>68700</td>\n",
              "      <td>69000</td>\n",
              "      <td>31001484</td>\n",
              "      <td>-0.034965</td>\n",
              "    </tr>\n",
              "    <tr>\n",
              "      <th>2021-10-13</th>\n",
              "      <td>68700</td>\n",
              "      <td>69600</td>\n",
              "      <td>68300</td>\n",
              "      <td>68800</td>\n",
              "      <td>24172015</td>\n",
              "      <td>-0.002899</td>\n",
              "    </tr>\n",
              "    <tr>\n",
              "      <th>2021-10-14</th>\n",
              "      <td>69000</td>\n",
              "      <td>69800</td>\n",
              "      <td>68800</td>\n",
              "      <td>69400</td>\n",
              "      <td>19520641</td>\n",
              "      <td>0.008721</td>\n",
              "    </tr>\n",
              "    <tr>\n",
              "      <th>2021-10-15</th>\n",
              "      <td>70200</td>\n",
              "      <td>71000</td>\n",
              "      <td>70000</td>\n",
              "      <td>70100</td>\n",
              "      <td>18051612</td>\n",
              "      <td>0.010086</td>\n",
              "    </tr>\n",
              "    <tr>\n",
              "      <th>2021-10-18</th>\n",
              "      <td>70200</td>\n",
              "      <td>70300</td>\n",
              "      <td>69200</td>\n",
              "      <td>70100</td>\n",
              "      <td>12526559</td>\n",
              "      <td>0.000000</td>\n",
              "    </tr>\n",
              "  </tbody>\n",
              "</table>\n",
              "<p>6000 rows × 6 columns</p>\n",
              "</div>"
            ],
            "text/plain": [
              "             Open   High    Low  Close    Volume    Change\n",
              "Date                                                      \n",
              "1997-09-23   1209   1215   1192   1192     66140       NaN\n",
              "1997-09-24   1186   1213   1165   1194     93880  0.001678\n",
              "1997-09-25   1193   1193   1170   1179     70400 -0.012563\n",
              "1997-09-26   1170   1179   1161   1174     70500 -0.004241\n",
              "1997-09-27   1170   1170   1152   1158     84610 -0.013629\n",
              "...           ...    ...    ...    ...       ...       ...\n",
              "2021-10-12  70700  70900  68700  69000  31001484 -0.034965\n",
              "2021-10-13  68700  69600  68300  68800  24172015 -0.002899\n",
              "2021-10-14  69000  69800  68800  69400  19520641  0.008721\n",
              "2021-10-15  70200  71000  70000  70100  18051612  0.010086\n",
              "2021-10-18  70200  70300  69200  70100  12526559  0.000000\n",
              "\n",
              "[6000 rows x 6 columns]"
            ]
          },
          "metadata": {},
          "execution_count": 44
        }
      ]
    },
    {
      "cell_type": "code",
      "metadata": {
        "colab": {
          "base_uri": "https://localhost:8080/",
          "height": 449
        },
        "id": "Azugz9fODKjz",
        "outputId": "fb0caccf-e7a0-4c66-8097-baf4cf2aa7f8"
      },
      "source": [
        "## 연도, 월, 일을 생성\n",
        "stock['year'] = stock.index.year\n",
        "stock['month'] = stock.index.month\n",
        "stock['day'] = stock.index.day\n",
        "stock"
      ],
      "execution_count": 49,
      "outputs": [
        {
          "output_type": "execute_result",
          "data": {
            "text/html": [
              "<div>\n",
              "<style scoped>\n",
              "    .dataframe tbody tr th:only-of-type {\n",
              "        vertical-align: middle;\n",
              "    }\n",
              "\n",
              "    .dataframe tbody tr th {\n",
              "        vertical-align: top;\n",
              "    }\n",
              "\n",
              "    .dataframe thead th {\n",
              "        text-align: right;\n",
              "    }\n",
              "</style>\n",
              "<table border=\"1\" class=\"dataframe\">\n",
              "  <thead>\n",
              "    <tr style=\"text-align: right;\">\n",
              "      <th></th>\n",
              "      <th>Open</th>\n",
              "      <th>High</th>\n",
              "      <th>Low</th>\n",
              "      <th>Close</th>\n",
              "      <th>Volume</th>\n",
              "      <th>Change</th>\n",
              "      <th>year</th>\n",
              "      <th>month</th>\n",
              "      <th>day</th>\n",
              "    </tr>\n",
              "    <tr>\n",
              "      <th>Date</th>\n",
              "      <th></th>\n",
              "      <th></th>\n",
              "      <th></th>\n",
              "      <th></th>\n",
              "      <th></th>\n",
              "      <th></th>\n",
              "      <th></th>\n",
              "      <th></th>\n",
              "      <th></th>\n",
              "    </tr>\n",
              "  </thead>\n",
              "  <tbody>\n",
              "    <tr>\n",
              "      <th>1997-09-23</th>\n",
              "      <td>1209</td>\n",
              "      <td>1215</td>\n",
              "      <td>1192</td>\n",
              "      <td>1192</td>\n",
              "      <td>66140</td>\n",
              "      <td>NaN</td>\n",
              "      <td>1997</td>\n",
              "      <td>9</td>\n",
              "      <td>23</td>\n",
              "    </tr>\n",
              "    <tr>\n",
              "      <th>1997-09-24</th>\n",
              "      <td>1186</td>\n",
              "      <td>1213</td>\n",
              "      <td>1165</td>\n",
              "      <td>1194</td>\n",
              "      <td>93880</td>\n",
              "      <td>0.001678</td>\n",
              "      <td>1997</td>\n",
              "      <td>9</td>\n",
              "      <td>24</td>\n",
              "    </tr>\n",
              "    <tr>\n",
              "      <th>1997-09-25</th>\n",
              "      <td>1193</td>\n",
              "      <td>1193</td>\n",
              "      <td>1170</td>\n",
              "      <td>1179</td>\n",
              "      <td>70400</td>\n",
              "      <td>-0.012563</td>\n",
              "      <td>1997</td>\n",
              "      <td>9</td>\n",
              "      <td>25</td>\n",
              "    </tr>\n",
              "    <tr>\n",
              "      <th>1997-09-26</th>\n",
              "      <td>1170</td>\n",
              "      <td>1179</td>\n",
              "      <td>1161</td>\n",
              "      <td>1174</td>\n",
              "      <td>70500</td>\n",
              "      <td>-0.004241</td>\n",
              "      <td>1997</td>\n",
              "      <td>9</td>\n",
              "      <td>26</td>\n",
              "    </tr>\n",
              "    <tr>\n",
              "      <th>1997-09-27</th>\n",
              "      <td>1170</td>\n",
              "      <td>1170</td>\n",
              "      <td>1152</td>\n",
              "      <td>1158</td>\n",
              "      <td>84610</td>\n",
              "      <td>-0.013629</td>\n",
              "      <td>1997</td>\n",
              "      <td>9</td>\n",
              "      <td>27</td>\n",
              "    </tr>\n",
              "    <tr>\n",
              "      <th>...</th>\n",
              "      <td>...</td>\n",
              "      <td>...</td>\n",
              "      <td>...</td>\n",
              "      <td>...</td>\n",
              "      <td>...</td>\n",
              "      <td>...</td>\n",
              "      <td>...</td>\n",
              "      <td>...</td>\n",
              "      <td>...</td>\n",
              "    </tr>\n",
              "    <tr>\n",
              "      <th>2021-10-12</th>\n",
              "      <td>70700</td>\n",
              "      <td>70900</td>\n",
              "      <td>68700</td>\n",
              "      <td>69000</td>\n",
              "      <td>31001484</td>\n",
              "      <td>-0.034965</td>\n",
              "      <td>2021</td>\n",
              "      <td>10</td>\n",
              "      <td>12</td>\n",
              "    </tr>\n",
              "    <tr>\n",
              "      <th>2021-10-13</th>\n",
              "      <td>68700</td>\n",
              "      <td>69600</td>\n",
              "      <td>68300</td>\n",
              "      <td>68800</td>\n",
              "      <td>24172015</td>\n",
              "      <td>-0.002899</td>\n",
              "      <td>2021</td>\n",
              "      <td>10</td>\n",
              "      <td>13</td>\n",
              "    </tr>\n",
              "    <tr>\n",
              "      <th>2021-10-14</th>\n",
              "      <td>69000</td>\n",
              "      <td>69800</td>\n",
              "      <td>68800</td>\n",
              "      <td>69400</td>\n",
              "      <td>19520641</td>\n",
              "      <td>0.008721</td>\n",
              "      <td>2021</td>\n",
              "      <td>10</td>\n",
              "      <td>14</td>\n",
              "    </tr>\n",
              "    <tr>\n",
              "      <th>2021-10-15</th>\n",
              "      <td>70200</td>\n",
              "      <td>71000</td>\n",
              "      <td>70000</td>\n",
              "      <td>70100</td>\n",
              "      <td>18051612</td>\n",
              "      <td>0.010086</td>\n",
              "      <td>2021</td>\n",
              "      <td>10</td>\n",
              "      <td>15</td>\n",
              "    </tr>\n",
              "    <tr>\n",
              "      <th>2021-10-18</th>\n",
              "      <td>70200</td>\n",
              "      <td>70300</td>\n",
              "      <td>69200</td>\n",
              "      <td>70100</td>\n",
              "      <td>12526559</td>\n",
              "      <td>0.000000</td>\n",
              "      <td>2021</td>\n",
              "      <td>10</td>\n",
              "      <td>18</td>\n",
              "    </tr>\n",
              "  </tbody>\n",
              "</table>\n",
              "<p>6000 rows × 9 columns</p>\n",
              "</div>"
            ],
            "text/plain": [
              "             Open   High    Low  Close    Volume    Change  year  month  day\n",
              "Date                                                                        \n",
              "1997-09-23   1209   1215   1192   1192     66140       NaN  1997      9   23\n",
              "1997-09-24   1186   1213   1165   1194     93880  0.001678  1997      9   24\n",
              "1997-09-25   1193   1193   1170   1179     70400 -0.012563  1997      9   25\n",
              "1997-09-26   1170   1179   1161   1174     70500 -0.004241  1997      9   26\n",
              "1997-09-27   1170   1170   1152   1158     84610 -0.013629  1997      9   27\n",
              "...           ...    ...    ...    ...       ...       ...   ...    ...  ...\n",
              "2021-10-12  70700  70900  68700  69000  31001484 -0.034965  2021     10   12\n",
              "2021-10-13  68700  69600  68300  68800  24172015 -0.002899  2021     10   13\n",
              "2021-10-14  69000  69800  68800  69400  19520641  0.008721  2021     10   14\n",
              "2021-10-15  70200  71000  70000  70100  18051612  0.010086  2021     10   15\n",
              "2021-10-18  70200  70300  69200  70100  12526559  0.000000  2021     10   18\n",
              "\n",
              "[6000 rows x 9 columns]"
            ]
          },
          "metadata": {},
          "execution_count": 49
        }
      ]
    },
    {
      "cell_type": "code",
      "metadata": {
        "colab": {
          "base_uri": "https://localhost:8080/",
          "height": 449
        },
        "id": "m-PXm4ezDr0h",
        "outputId": "212410bc-c846-423a-a229-5d175b4e51a4"
      },
      "source": [
        "stock.groupby(['year', 'month']).mean()"
      ],
      "execution_count": 50,
      "outputs": [
        {
          "output_type": "execute_result",
          "data": {
            "text/html": [
              "<div>\n",
              "<style scoped>\n",
              "    .dataframe tbody tr th:only-of-type {\n",
              "        vertical-align: middle;\n",
              "    }\n",
              "\n",
              "    .dataframe tbody tr th {\n",
              "        vertical-align: top;\n",
              "    }\n",
              "\n",
              "    .dataframe thead th {\n",
              "        text-align: right;\n",
              "    }\n",
              "</style>\n",
              "<table border=\"1\" class=\"dataframe\">\n",
              "  <thead>\n",
              "    <tr style=\"text-align: right;\">\n",
              "      <th></th>\n",
              "      <th></th>\n",
              "      <th>Open</th>\n",
              "      <th>High</th>\n",
              "      <th>Low</th>\n",
              "      <th>Close</th>\n",
              "      <th>Volume</th>\n",
              "      <th>Change</th>\n",
              "      <th>day</th>\n",
              "    </tr>\n",
              "    <tr>\n",
              "      <th>year</th>\n",
              "      <th>month</th>\n",
              "      <th></th>\n",
              "      <th></th>\n",
              "      <th></th>\n",
              "      <th></th>\n",
              "      <th></th>\n",
              "      <th></th>\n",
              "      <th></th>\n",
              "    </tr>\n",
              "  </thead>\n",
              "  <tbody>\n",
              "    <tr>\n",
              "      <th rowspan=\"4\" valign=\"top\">1997</th>\n",
              "      <th>9</th>\n",
              "      <td>1176.000000</td>\n",
              "      <td>1191.000000</td>\n",
              "      <td>1163.428571</td>\n",
              "      <td>1178.142857</td>\n",
              "      <td>7.103000e+04</td>\n",
              "      <td>-0.000488</td>\n",
              "      <td>26.285714</td>\n",
              "    </tr>\n",
              "    <tr>\n",
              "      <th>10</th>\n",
              "      <td>1027.230769</td>\n",
              "      <td>1045.730769</td>\n",
              "      <td>995.307692</td>\n",
              "      <td>1014.000000</td>\n",
              "      <td>1.376285e+05</td>\n",
              "      <td>-0.020538</td>\n",
              "      <td>16.576923</td>\n",
              "    </tr>\n",
              "    <tr>\n",
              "      <th>11</th>\n",
              "      <td>796.280000</td>\n",
              "      <td>817.440000</td>\n",
              "      <td>769.240000</td>\n",
              "      <td>796.800000</td>\n",
              "      <td>4.078504e+05</td>\n",
              "      <td>0.005632</td>\n",
              "      <td>15.400000</td>\n",
              "    </tr>\n",
              "    <tr>\n",
              "      <th>12</th>\n",
              "      <td>748.590909</td>\n",
              "      <td>778.318182</td>\n",
              "      <td>723.409091</td>\n",
              "      <td>751.136364</td>\n",
              "      <td>5.538657e+05</td>\n",
              "      <td>-0.002667</td>\n",
              "      <td>13.318182</td>\n",
              "    </tr>\n",
              "    <tr>\n",
              "      <th>1998</th>\n",
              "      <th>1</th>\n",
              "      <td>1107.272727</td>\n",
              "      <td>1133.727273</td>\n",
              "      <td>1072.454545</td>\n",
              "      <td>1116.136364</td>\n",
              "      <td>7.167191e+05</td>\n",
              "      <td>0.040711</td>\n",
              "      <td>15.954545</td>\n",
              "    </tr>\n",
              "    <tr>\n",
              "      <th>...</th>\n",
              "      <th>...</th>\n",
              "      <td>...</td>\n",
              "      <td>...</td>\n",
              "      <td>...</td>\n",
              "      <td>...</td>\n",
              "      <td>...</td>\n",
              "      <td>...</td>\n",
              "      <td>...</td>\n",
              "    </tr>\n",
              "    <tr>\n",
              "      <th rowspan=\"5\" valign=\"top\">2021</th>\n",
              "      <th>6</th>\n",
              "      <td>81195.454545</td>\n",
              "      <td>81590.909091</td>\n",
              "      <td>80740.909091</td>\n",
              "      <td>81104.545455</td>\n",
              "      <td>1.514088e+07</td>\n",
              "      <td>0.000147</td>\n",
              "      <td>15.318182</td>\n",
              "    </tr>\n",
              "    <tr>\n",
              "      <th>7</th>\n",
              "      <td>79645.454545</td>\n",
              "      <td>79963.636364</td>\n",
              "      <td>79250.000000</td>\n",
              "      <td>79577.272727</td>\n",
              "      <td>1.254028e+07</td>\n",
              "      <td>-0.001228</td>\n",
              "      <td>16.045455</td>\n",
              "    </tr>\n",
              "    <tr>\n",
              "      <th>8</th>\n",
              "      <td>77204.761905</td>\n",
              "      <td>77914.285714</td>\n",
              "      <td>76428.571429</td>\n",
              "      <td>77023.809524</td>\n",
              "      <td>2.380298e+07</td>\n",
              "      <td>-0.000968</td>\n",
              "      <td>15.952381</td>\n",
              "    </tr>\n",
              "    <tr>\n",
              "      <th>9</th>\n",
              "      <td>76526.315789</td>\n",
              "      <td>76884.210526</td>\n",
              "      <td>75800.000000</td>\n",
              "      <td>76305.263158</td>\n",
              "      <td>1.480175e+07</td>\n",
              "      <td>-0.001751</td>\n",
              "      <td>14.842105</td>\n",
              "    </tr>\n",
              "    <tr>\n",
              "      <th>10</th>\n",
              "      <td>71220.000000</td>\n",
              "      <td>71590.000000</td>\n",
              "      <td>70330.000000</td>\n",
              "      <td>70720.000000</td>\n",
              "      <td>1.917734e+07</td>\n",
              "      <td>-0.005452</td>\n",
              "      <td>9.900000</td>\n",
              "    </tr>\n",
              "  </tbody>\n",
              "</table>\n",
              "<p>290 rows × 7 columns</p>\n",
              "</div>"
            ],
            "text/plain": [
              "                    Open          High  ...    Change        day\n",
              "year month                              ...                     \n",
              "1997 9       1176.000000   1191.000000  ... -0.000488  26.285714\n",
              "     10      1027.230769   1045.730769  ... -0.020538  16.576923\n",
              "     11       796.280000    817.440000  ...  0.005632  15.400000\n",
              "     12       748.590909    778.318182  ... -0.002667  13.318182\n",
              "1998 1       1107.272727   1133.727273  ...  0.040711  15.954545\n",
              "...                  ...           ...  ...       ...        ...\n",
              "2021 6      81195.454545  81590.909091  ...  0.000147  15.318182\n",
              "     7      79645.454545  79963.636364  ... -0.001228  16.045455\n",
              "     8      77204.761905  77914.285714  ... -0.000968  15.952381\n",
              "     9      76526.315789  76884.210526  ... -0.001751  14.842105\n",
              "     10     71220.000000  71590.000000  ... -0.005452   9.900000\n",
              "\n",
              "[290 rows x 7 columns]"
            ]
          },
          "metadata": {},
          "execution_count": 50
        }
      ]
    },
    {
      "cell_type": "code",
      "metadata": {
        "colab": {
          "base_uri": "https://localhost:8080/",
          "height": 551
        },
        "id": "7mwQFy85EIFx",
        "outputId": "917290de-4ab1-442c-e346-33b9ad445522"
      },
      "source": [
        "# 시각화\n",
        "plt.figure(figsize=(16,9))\n",
        "sns.lineplot(y=stock['Close'], x=stock.index)\n",
        "plt.show()"
      ],
      "execution_count": 53,
      "outputs": [
        {
          "output_type": "display_data",
          "data": {
            "image/png": "[encoded data removed]",
            "text/plain": [
              "<Figure size 1152x648 with 1 Axes>"
            ]
          },
          "metadata": {
            "needs_background": "light"
          }
        }
      ]
    },
    {
      "cell_type": "code",
      "metadata": {
        "colab": {
          "base_uri": "https://localhost:8080/",
          "height": 676
        },
        "id": "y7HzRaj4Eo_5",
        "outputId": "eac173a5-b9d3-47e9-fede-15c518edd38e"
      },
      "source": [
        "# 1990~2000, 2000~2010, 2010~2015, 2015~2020\n",
        "time_steps = [['1990', '2000'], \n",
        "              ['2000', '2010'], \n",
        "              ['2010', '2015'], \n",
        "              ['2015', '2020']]\n",
        "\n",
        "fig, axes = plt.subplots(2, 2)\n",
        "fig.set_size_inches(16, 9)\n",
        "for i in range(4):\n",
        "    ax = axes[i//2, i%2]\n",
        "    df = stock.loc[(stock.index > time_steps[i][0]) & (stock.index < time_steps[i][1])]\n",
        "    sns.lineplot(y=df['Close'], x=df.index, ax=ax)\n",
        "    ax.set_title(f'{time_steps[i][0]}~{time_steps[i][1]}')\n",
        "    ax.set_xlabel('time')\n",
        "    ax.set_ylabel('price')\n",
        "plt.tight_layout()\n",
        "plt.show()"
      ],
      "execution_count": 54,
      "outputs": [
        {
          "output_type": "stream",
          "name": "stderr",
          "text": [
            "findfont: Font family ['NanumGothic'] not found. Falling back to DejaVu Sans.\n"
          ]
        },
        {
          "output_type": "display_data",
          "data": {
            "image/png": "[encoded data removed]",
            "text/plain": [
              "<Figure size 1152x648 with 4 Axes>"
            ]
          },
          "metadata": {
            "needs_background": "light"
          }
        }
      ]
    },
    {
      "cell_type": "markdown",
      "metadata": {
        "id": "j4EqPdSrFJpm"
      },
      "source": [
        "## 데이터 전처리"
      ]
    },
    {
      "cell_type": "code",
      "metadata": {
        "colab": {
          "base_uri": "https://localhost:8080/"
        },
        "id": "yLhJSGoOE6zc",
        "outputId": "b7c195d9-6d62-4213-f25e-3eefd8659576"
      },
      "source": [
        "from sklearn.preprocessing import MinMaxScaler\n",
        "# cols = ['Open', 'High', 'Low', 'Close', 'Volumne']\n",
        "cols = cols = df.columns[:5]\n",
        "\n",
        "scaler = MinMaxScaler()\n",
        "scaled = scaler.fit_transform(stock[cols])\n",
        "scaled"
      ],
      "execution_count": 57,
      "outputs": [
        {
          "output_type": "execute_result",
          "data": {
            "text/plain": [
              "array([[1.33887043e-02, 1.25516529e-02, 1.33184358e-02, 6.25186726e-03,\n",
              "        7.32397298e-04],\n",
              "       [1.31339978e-02, 1.25309917e-02, 1.30167598e-02, 6.27399776e-03,\n",
              "        1.03957451e-03],\n",
              "       [1.32115172e-02, 1.23243802e-02, 1.30726257e-02, 6.10801899e-03,\n",
              "        7.79570151e-04],\n",
              "       ...,\n",
              "       [7.64119601e-01, 7.21074380e-01, 7.68715084e-01, 7.60990561e-01,\n",
              "        2.16160640e-01],\n",
              "       [7.77408638e-01, 7.33471074e-01, 7.82122905e-01, 7.68736238e-01,\n",
              "        1.99893436e-01],\n",
              "       [7.77408638e-01, 7.26239669e-01, 7.73184358e-01, 7.68736238e-01,\n",
              "        1.38712095e-01]])"
            ]
          },
          "metadata": {},
          "execution_count": 57
        }
      ]
    },
    {
      "cell_type": "code",
      "metadata": {
        "colab": {
          "base_uri": "https://localhost:8080/",
          "height": 418
        },
        "id": "UaqG0tluF08T",
        "outputId": "f6c3a5fb-535b-4d6d-8cc9-87f1c5445dd2"
      },
      "source": [
        "# 스케일 자료를 새로운 데이터 프레임으로 제작\n",
        "df1 = pd.DataFrame(scaled, columns = cols)\n",
        "df1"
      ],
      "execution_count": 59,
      "outputs": [
        {
          "output_type": "execute_result",
          "data": {
            "text/html": [
              "<div>\n",
              "<style scoped>\n",
              "    .dataframe tbody tr th:only-of-type {\n",
              "        vertical-align: middle;\n",
              "    }\n",
              "\n",
              "    .dataframe tbody tr th {\n",
              "        vertical-align: top;\n",
              "    }\n",
              "\n",
              "    .dataframe thead th {\n",
              "        text-align: right;\n",
              "    }\n",
              "</style>\n",
              "<table border=\"1\" class=\"dataframe\">\n",
              "  <thead>\n",
              "    <tr style=\"text-align: right;\">\n",
              "      <th></th>\n",
              "      <th>Open</th>\n",
              "      <th>High</th>\n",
              "      <th>Low</th>\n",
              "      <th>Close</th>\n",
              "      <th>Volume</th>\n",
              "    </tr>\n",
              "  </thead>\n",
              "  <tbody>\n",
              "    <tr>\n",
              "      <th>0</th>\n",
              "      <td>0.013389</td>\n",
              "      <td>0.012552</td>\n",
              "      <td>0.013318</td>\n",
              "      <td>0.006252</td>\n",
              "      <td>0.000732</td>\n",
              "    </tr>\n",
              "    <tr>\n",
              "      <th>1</th>\n",
              "      <td>0.013134</td>\n",
              "      <td>0.012531</td>\n",
              "      <td>0.013017</td>\n",
              "      <td>0.006274</td>\n",
              "      <td>0.001040</td>\n",
              "    </tr>\n",
              "    <tr>\n",
              "      <th>2</th>\n",
              "      <td>0.013212</td>\n",
              "      <td>0.012324</td>\n",
              "      <td>0.013073</td>\n",
              "      <td>0.006108</td>\n",
              "      <td>0.000780</td>\n",
              "    </tr>\n",
              "    <tr>\n",
              "      <th>3</th>\n",
              "      <td>0.012957</td>\n",
              "      <td>0.012180</td>\n",
              "      <td>0.012972</td>\n",
              "      <td>0.006053</td>\n",
              "      <td>0.000781</td>\n",
              "    </tr>\n",
              "    <tr>\n",
              "      <th>4</th>\n",
              "      <td>0.012957</td>\n",
              "      <td>0.012087</td>\n",
              "      <td>0.012872</td>\n",
              "      <td>0.005876</td>\n",
              "      <td>0.000937</td>\n",
              "    </tr>\n",
              "    <tr>\n",
              "      <th>...</th>\n",
              "      <td>...</td>\n",
              "      <td>...</td>\n",
              "      <td>...</td>\n",
              "      <td>...</td>\n",
              "      <td>...</td>\n",
              "    </tr>\n",
              "    <tr>\n",
              "      <th>5995</th>\n",
              "      <td>0.782946</td>\n",
              "      <td>0.732438</td>\n",
              "      <td>0.767598</td>\n",
              "      <td>0.756564</td>\n",
              "      <td>0.343293</td>\n",
              "    </tr>\n",
              "    <tr>\n",
              "      <th>5996</th>\n",
              "      <td>0.760797</td>\n",
              "      <td>0.719008</td>\n",
              "      <td>0.763128</td>\n",
              "      <td>0.754351</td>\n",
              "      <td>0.267667</td>\n",
              "    </tr>\n",
              "    <tr>\n",
              "      <th>5997</th>\n",
              "      <td>0.764120</td>\n",
              "      <td>0.721074</td>\n",
              "      <td>0.768715</td>\n",
              "      <td>0.760991</td>\n",
              "      <td>0.216161</td>\n",
              "    </tr>\n",
              "    <tr>\n",
              "      <th>5998</th>\n",
              "      <td>0.777409</td>\n",
              "      <td>0.733471</td>\n",
              "      <td>0.782123</td>\n",
              "      <td>0.768736</td>\n",
              "      <td>0.199893</td>\n",
              "    </tr>\n",
              "    <tr>\n",
              "      <th>5999</th>\n",
              "      <td>0.777409</td>\n",
              "      <td>0.726240</td>\n",
              "      <td>0.773184</td>\n",
              "      <td>0.768736</td>\n",
              "      <td>0.138712</td>\n",
              "    </tr>\n",
              "  </tbody>\n",
              "</table>\n",
              "<p>6000 rows × 5 columns</p>\n",
              "</div>"
            ],
            "text/plain": [
              "          Open      High       Low     Close    Volume\n",
              "0     0.013389  0.012552  0.013318  0.006252  0.000732\n",
              "1     0.013134  0.012531  0.013017  0.006274  0.001040\n",
              "2     0.013212  0.012324  0.013073  0.006108  0.000780\n",
              "3     0.012957  0.012180  0.012972  0.006053  0.000781\n",
              "4     0.012957  0.012087  0.012872  0.005876  0.000937\n",
              "...        ...       ...       ...       ...       ...\n",
              "5995  0.782946  0.732438  0.767598  0.756564  0.343293\n",
              "5996  0.760797  0.719008  0.763128  0.754351  0.267667\n",
              "5997  0.764120  0.721074  0.768715  0.760991  0.216161\n",
              "5998  0.777409  0.733471  0.782123  0.768736  0.199893\n",
              "5999  0.777409  0.726240  0.773184  0.768736  0.138712\n",
              "\n",
              "[6000 rows x 5 columns]"
            ]
          },
          "metadata": {},
          "execution_count": 59
        }
      ]
    },
    {
      "cell_type": "markdown",
      "metadata": {
        "id": "I8ItBxfPGfYo"
      },
      "source": [
        "## 데이터 분할"
      ]
    },
    {
      "cell_type": "code",
      "metadata": {
        "id": "iITuJcRfGB_7"
      },
      "source": [
        "# 데이터 분할\n",
        "X = df1.drop(['Close'], 1)\n",
        "y = df1['Close']"
      ],
      "execution_count": 60,
      "outputs": []
    },
    {
      "cell_type": "code",
      "metadata": {
        "colab": {
          "base_uri": "https://localhost:8080/",
          "height": 418
        },
        "id": "9jm57ulbGSNn",
        "outputId": "abb59795-491c-440f-b44c-facd701f090b"
      },
      "source": [
        "# 시계열 데이터를 분할할 때는 shuffle를 False로 하면 순서대로 자료가 분할됨.\n",
        "from sklearn.model_selection import train_test_split\n",
        "x_train, x_test, y_train, y_test = train_test_split(X, y, test_size=0.2, random_state=777, shuffle=False)\n",
        "x_train"
      ],
      "execution_count": 62,
      "outputs": [
        {
          "output_type": "execute_result",
          "data": {
            "text/html": [
              "<div>\n",
              "<style scoped>\n",
              "    .dataframe tbody tr th:only-of-type {\n",
              "        vertical-align: middle;\n",
              "    }\n",
              "\n",
              "    .dataframe tbody tr th {\n",
              "        vertical-align: top;\n",
              "    }\n",
              "\n",
              "    .dataframe thead th {\n",
              "        text-align: right;\n",
              "    }\n",
              "</style>\n",
              "<table border=\"1\" class=\"dataframe\">\n",
              "  <thead>\n",
              "    <tr style=\"text-align: right;\">\n",
              "      <th></th>\n",
              "      <th>Open</th>\n",
              "      <th>High</th>\n",
              "      <th>Low</th>\n",
              "      <th>Volume</th>\n",
              "    </tr>\n",
              "  </thead>\n",
              "  <tbody>\n",
              "    <tr>\n",
              "      <th>0</th>\n",
              "      <td>0.013389</td>\n",
              "      <td>0.012552</td>\n",
              "      <td>0.013318</td>\n",
              "      <td>0.000732</td>\n",
              "    </tr>\n",
              "    <tr>\n",
              "      <th>1</th>\n",
              "      <td>0.013134</td>\n",
              "      <td>0.012531</td>\n",
              "      <td>0.013017</td>\n",
              "      <td>0.001040</td>\n",
              "    </tr>\n",
              "    <tr>\n",
              "      <th>2</th>\n",
              "      <td>0.013212</td>\n",
              "      <td>0.012324</td>\n",
              "      <td>0.013073</td>\n",
              "      <td>0.000780</td>\n",
              "    </tr>\n",
              "    <tr>\n",
              "      <th>3</th>\n",
              "      <td>0.012957</td>\n",
              "      <td>0.012180</td>\n",
              "      <td>0.012972</td>\n",
              "      <td>0.000781</td>\n",
              "    </tr>\n",
              "    <tr>\n",
              "      <th>4</th>\n",
              "      <td>0.012957</td>\n",
              "      <td>0.012087</td>\n",
              "      <td>0.012872</td>\n",
              "      <td>0.000937</td>\n",
              "    </tr>\n",
              "    <tr>\n",
              "      <th>...</th>\n",
              "      <td>...</td>\n",
              "      <td>...</td>\n",
              "      <td>...</td>\n",
              "      <td>...</td>\n",
              "    </tr>\n",
              "    <tr>\n",
              "      <th>4795</th>\n",
              "      <td>0.346622</td>\n",
              "      <td>0.331808</td>\n",
              "      <td>0.349721</td>\n",
              "      <td>0.001812</td>\n",
              "    </tr>\n",
              "    <tr>\n",
              "      <th>4796</th>\n",
              "      <td>0.355925</td>\n",
              "      <td>0.339876</td>\n",
              "      <td>0.357542</td>\n",
              "      <td>0.002160</td>\n",
              "    </tr>\n",
              "    <tr>\n",
              "      <th>4797</th>\n",
              "      <td>0.367885</td>\n",
              "      <td>0.343182</td>\n",
              "      <td>0.363352</td>\n",
              "      <td>0.002806</td>\n",
              "    </tr>\n",
              "    <tr>\n",
              "      <th>4798</th>\n",
              "      <td>0.365227</td>\n",
              "      <td>0.341322</td>\n",
              "      <td>0.364916</td>\n",
              "      <td>0.001718</td>\n",
              "    </tr>\n",
              "    <tr>\n",
              "      <th>4799</th>\n",
              "      <td>0.363455</td>\n",
              "      <td>0.341322</td>\n",
              "      <td>0.364916</td>\n",
              "      <td>0.001390</td>\n",
              "    </tr>\n",
              "  </tbody>\n",
              "</table>\n",
              "<p>4800 rows × 4 columns</p>\n",
              "</div>"
            ],
            "text/plain": [
              "          Open      High       Low    Volume\n",
              "0     0.013389  0.012552  0.013318  0.000732\n",
              "1     0.013134  0.012531  0.013017  0.001040\n",
              "2     0.013212  0.012324  0.013073  0.000780\n",
              "3     0.012957  0.012180  0.012972  0.000781\n",
              "4     0.012957  0.012087  0.012872  0.000937\n",
              "...        ...       ...       ...       ...\n",
              "4795  0.346622  0.331808  0.349721  0.001812\n",
              "4796  0.355925  0.339876  0.357542  0.002160\n",
              "4797  0.367885  0.343182  0.363352  0.002806\n",
              "4798  0.365227  0.341322  0.364916  0.001718\n",
              "4799  0.363455  0.341322  0.364916  0.001390\n",
              "\n",
              "[4800 rows x 4 columns]"
            ]
          },
          "metadata": {},
          "execution_count": 62
        }
      ]
    },
    {
      "cell_type": "code",
      "metadata": {
        "colab": {
          "base_uri": "https://localhost:8080/",
          "height": 418
        },
        "id": "YqeEnbb8GtgN",
        "outputId": "66dade01-3ea1-48bd-a918-10fd55214531"
      },
      "source": [
        "x_test"
      ],
      "execution_count": 65,
      "outputs": [
        {
          "output_type": "execute_result",
          "data": {
            "text/html": [
              "<div>\n",
              "<style scoped>\n",
              "    .dataframe tbody tr th:only-of-type {\n",
              "        vertical-align: middle;\n",
              "    }\n",
              "\n",
              "    .dataframe tbody tr th {\n",
              "        vertical-align: top;\n",
              "    }\n",
              "\n",
              "    .dataframe thead th {\n",
              "        text-align: right;\n",
              "    }\n",
              "</style>\n",
              "<table border=\"1\" class=\"dataframe\">\n",
              "  <thead>\n",
              "    <tr style=\"text-align: right;\">\n",
              "      <th></th>\n",
              "      <th>Open</th>\n",
              "      <th>High</th>\n",
              "      <th>Low</th>\n",
              "      <th>Volume</th>\n",
              "    </tr>\n",
              "  </thead>\n",
              "  <tbody>\n",
              "    <tr>\n",
              "      <th>4800</th>\n",
              "      <td>0.365449</td>\n",
              "      <td>0.347314</td>\n",
              "      <td>0.366480</td>\n",
              "      <td>0.002944</td>\n",
              "    </tr>\n",
              "    <tr>\n",
              "      <th>4801</th>\n",
              "      <td>0.374308</td>\n",
              "      <td>0.350826</td>\n",
              "      <td>0.372961</td>\n",
              "      <td>0.004004</td>\n",
              "    </tr>\n",
              "    <tr>\n",
              "      <th>4802</th>\n",
              "      <td>0.371429</td>\n",
              "      <td>0.360950</td>\n",
              "      <td>0.374749</td>\n",
              "      <td>0.006320</td>\n",
              "    </tr>\n",
              "    <tr>\n",
              "      <th>4803</th>\n",
              "      <td>0.385382</td>\n",
              "      <td>0.362190</td>\n",
              "      <td>0.387263</td>\n",
              "      <td>0.003441</td>\n",
              "    </tr>\n",
              "    <tr>\n",
              "      <th>4804</th>\n",
              "      <td>0.381838</td>\n",
              "      <td>0.359091</td>\n",
              "      <td>0.381453</td>\n",
              "      <td>0.003400</td>\n",
              "    </tr>\n",
              "    <tr>\n",
              "      <th>...</th>\n",
              "      <td>...</td>\n",
              "      <td>...</td>\n",
              "      <td>...</td>\n",
              "      <td>...</td>\n",
              "    </tr>\n",
              "    <tr>\n",
              "      <th>5995</th>\n",
              "      <td>0.782946</td>\n",
              "      <td>0.732438</td>\n",
              "      <td>0.767598</td>\n",
              "      <td>0.343293</td>\n",
              "    </tr>\n",
              "    <tr>\n",
              "      <th>5996</th>\n",
              "      <td>0.760797</td>\n",
              "      <td>0.719008</td>\n",
              "      <td>0.763128</td>\n",
              "      <td>0.267667</td>\n",
              "    </tr>\n",
              "    <tr>\n",
              "      <th>5997</th>\n",
              "      <td>0.764120</td>\n",
              "      <td>0.721074</td>\n",
              "      <td>0.768715</td>\n",
              "      <td>0.216161</td>\n",
              "    </tr>\n",
              "    <tr>\n",
              "      <th>5998</th>\n",
              "      <td>0.777409</td>\n",
              "      <td>0.733471</td>\n",
              "      <td>0.782123</td>\n",
              "      <td>0.199893</td>\n",
              "    </tr>\n",
              "    <tr>\n",
              "      <th>5999</th>\n",
              "      <td>0.777409</td>\n",
              "      <td>0.726240</td>\n",
              "      <td>0.773184</td>\n",
              "      <td>0.138712</td>\n",
              "    </tr>\n",
              "  </tbody>\n",
              "</table>\n",
              "<p>1200 rows × 4 columns</p>\n",
              "</div>"
            ],
            "text/plain": [
              "          Open      High       Low    Volume\n",
              "4800  0.365449  0.347314  0.366480  0.002944\n",
              "4801  0.374308  0.350826  0.372961  0.004004\n",
              "4802  0.371429  0.360950  0.374749  0.006320\n",
              "4803  0.385382  0.362190  0.387263  0.003441\n",
              "4804  0.381838  0.359091  0.381453  0.003400\n",
              "...        ...       ...       ...       ...\n",
              "5995  0.782946  0.732438  0.767598  0.343293\n",
              "5996  0.760797  0.719008  0.763128  0.267667\n",
              "5997  0.764120  0.721074  0.768715  0.216161\n",
              "5998  0.777409  0.733471  0.782123  0.199893\n",
              "5999  0.777409  0.726240  0.773184  0.138712\n",
              "\n",
              "[1200 rows x 4 columns]"
            ]
          },
          "metadata": {},
          "execution_count": 65
        }
      ]
    },
    {
      "cell_type": "code",
      "metadata": {
        "colab": {
          "base_uri": "https://localhost:8080/"
        },
        "id": "dwfinOqAG8WV",
        "outputId": "cb1c3e5b-3053-48c1-9ea5-4a7e564e0831"
      },
      "source": [
        "x_train.shape, x_test.shape, y_train.shape, y_test.shape"
      ],
      "execution_count": 66,
      "outputs": [
        {
          "output_type": "execute_result",
          "data": {
            "text/plain": [
              "((4800, 4), (1200, 4), (4800,), (1200,))"
            ]
          },
          "metadata": {},
          "execution_count": 66
        }
      ]
    },
    {
      "cell_type": "code",
      "metadata": {
        "id": "jQQPyohRHP3N"
      },
      "source": [
        "# 슬라이싱 하면서 자료 일정량 잘라서 갖고옴\n",
        "# 슬라이싱 하는 이유: w,b를 배치사이즈로 업데이트하기 때문에 여러번 업데이트하여 정확도를 높이기 위함\n",
        "import tensorflow as tf\n",
        "def windowed_dataset(series, window_size, batch_size, shuffle):\n",
        "    series = tf.expand_dims(series, axis=-1)\n",
        "    ds = tf.data.Dataset.from_tensor_slices(series)\n",
        "    ds = ds.window(window_size + 1, shift=1, drop_remainder=True)\n",
        "    ds = ds.flat_map(lambda w: w.batch(window_size + 1))\n",
        "    if shuffle:\n",
        "        ds = ds.shuffle(1000)\n",
        "    ds = ds.map(lambda w: (w[:-1], w[-1]))\n",
        "    return ds.batch(batch_size).prefetch(1)"
      ],
      "execution_count": 67,
      "outputs": []
    },
    {
      "cell_type": "code",
      "metadata": {
        "id": "C8W5tq2tKJjm"
      },
      "source": [
        "WINDOW_SIZE=20\n",
        "BATCH_SIZE=32\n",
        "\n",
        "# trian_data는 학습용 데이터셋, test_data는 검증용 데이터\n",
        "# WINDOW_SIZE와 BATCH_SIZE를 각 데이터셋에 적용\n",
        "train_data = windowed_dataset(y_train, WINDOW_SIZE, BATCH_SIZE, True)\n",
        "test_data = windowed_dataset(y_test, WINDOW_SIZE, BATCH_SIZE, False)"
      ],
      "execution_count": 68,
      "outputs": []
    },
    {
      "cell_type": "code",
      "metadata": {
        "colab": {
          "base_uri": "https://localhost:8080/"
        },
        "id": "nuW4dwwHKNjB",
        "outputId": "a46e35ce-4c53-44bb-becc-804f6e6aabf1"
      },
      "source": [
        "# X: (batch_size, window_size, feature)\n",
        "# Y: (batch_size, feature)\n",
        "for data in train_data.take(1):\n",
        "    print(f'데이터셋(X) 구성(batch_size, window_size, feature갯수): {data[0].shape}')\n",
        "    print(f'데이터셋(Y) 구성(batch_size, window_size, feature갯수): {data[1].shape}')"
      ],
      "execution_count": 69,
      "outputs": [
        {
          "output_type": "stream",
          "name": "stdout",
          "text": [
            "데이터셋(X) 구성(batch_size, window_size, feature갯수): (32, 20, 1)\n",
            "데이터셋(Y) 구성(batch_size, window_size, feature갯수): (32, 1)\n"
          ]
        }
      ]
    },
    {
      "cell_type": "markdown",
      "metadata": {
        "id": "rqBKepk1LSSi"
      },
      "source": [
        "## 모델 구축"
      ]
    },
    {
      "cell_type": "code",
      "metadata": {
        "id": "ajQk1gJaKQHB"
      },
      "source": [
        "from tensorflow.keras.models import Sequential\n",
        "from tensorflow.keras.layers import Dense, LSTM, Conv1D, Lambda\n",
        "from tensorflow.keras.losses import Huber\n",
        "from tensorflow.keras.optimizers import Adam\n",
        "from tensorflow.keras.callbacks import EarlyStopping, ModelCheckpoint"
      ],
      "execution_count": 70,
      "outputs": []
    },
    {
      "cell_type": "code",
      "metadata": {
        "id": "l61zFyhHKVhe"
      },
      "source": [
        "model = Sequential([\n",
        "    # 1차원 feature map 생성. filters는 32로, kernel_size는 5로 지정.\n",
        "    Conv1D(filters=32, kernel_size=5,\n",
        "           padding=\"causal\",\n",
        "           activation=\"relu\",\n",
        "           input_shape=[WINDOW_SIZE, 1]),\n",
        "    # LSTM과 Dense 레이러를 사용. 활성함수는 각각 tanh와 relu로 지정.\n",
        "    LSTM(16, activation='relu'),\n",
        "    Dense(16, activation=\"relu\"),\n",
        "    Dense(1),\n",
        "])"
      ],
      "execution_count": 71,
      "outputs": []
    },
    {
      "cell_type": "code",
      "metadata": {
        "id": "u6FSH6z8KYTh"
      },
      "source": [
        "# Sequence 학습에 비교적 좋은 퍼포먼스를 내는 Huber()를 사용\n",
        "loss = Huber()\n",
        "optimizer = Adam(0.0005)\n",
        "model.compile(loss=Huber(), optimizer=optimizer, metrics=['mse'])"
      ],
      "execution_count": 72,
      "outputs": []
    },
    {
      "cell_type": "code",
      "metadata": {
        "id": "3IaXBlmgKamS"
      },
      "source": [
        "# earlystopping은 10번 epoch통안 val_loss 개선이 없다면 학습을 멈춥니다.\n",
        "earlystopping = EarlyStopping(monitor='val_loss', patience=10)\n",
        "# val_loss 기준 체크포인터도 생성\n",
        "filename = os.path.join('tmp', 'ckeckpointer.ckpt')\n",
        "checkpoint = ModelCheckpoint(filename, \n",
        "                             save_weights_only=True, \n",
        "                             save_best_only=True, \n",
        "                             monitor='val_loss', \n",
        "                             verbose=1)"
      ],
      "execution_count": 73,
      "outputs": []
    },
    {
      "cell_type": "markdown",
      "metadata": {
        "id": "CZttZAICLVdf"
      },
      "source": [
        "## 모델 학습"
      ]
    },
    {
      "cell_type": "code",
      "metadata": {
        "colab": {
          "base_uri": "https://localhost:8080/"
        },
        "id": "uSDrQDghKc0m",
        "outputId": "8b49e85d-cd46-40ca-e99d-168932247a6c"
      },
      "source": [
        "# callbacks로 앞에서 구현한 earlystopping과 checkpoint를 지정\n",
        "history = model.fit(train_data, \n",
        "                    validation_data=(test_data), \n",
        "                    epochs=50, \n",
        "                    callbacks=[checkpoint, earlystopping])"
      ],
      "execution_count": 74,
      "outputs": [
        {
          "output_type": "stream",
          "name": "stdout",
          "text": [
            "Epoch 1/50\n",
            "150/150 [==============================] - 4s 14ms/step - loss: 1.3441e-04 - mse: 2.6883e-04 - val_loss: 0.0093 - val_mse: 0.0185\n",
            "\n",
            "Epoch 00001: val_loss improved from inf to 0.00927, saving model to tmp/ckeckpointer.ckpt\n",
            "Epoch 2/50\n",
            "150/150 [==============================] - 2s 13ms/step - loss: 1.9762e-05 - mse: 3.9524e-05 - val_loss: 0.0060 - val_mse: 0.0120\n",
            "\n",
            "Epoch 00002: val_loss improved from 0.00927 to 0.00600, saving model to tmp/ckeckpointer.ckpt\n",
            "Epoch 3/50\n",
            "150/150 [==============================] - 2s 12ms/step - loss: 2.0098e-05 - mse: 4.0196e-05 - val_loss: 0.0079 - val_mse: 0.0158\n",
            "\n",
            "Epoch 00003: val_loss did not improve from 0.00600\n",
            "Epoch 4/50\n",
            "150/150 [==============================] - 2s 12ms/step - loss: 1.9619e-05 - mse: 3.9237e-05 - val_loss: 0.0061 - val_mse: 0.0122\n",
            "\n",
            "Epoch 00004: val_loss did not improve from 0.00600\n",
            "Epoch 5/50\n",
            "150/150 [==============================] - 2s 12ms/step - loss: 1.8341e-05 - mse: 3.6682e-05 - val_loss: 0.0036 - val_mse: 0.0071\n",
            "\n",
            "Epoch 00005: val_loss improved from 0.00600 to 0.00356, saving model to tmp/ckeckpointer.ckpt\n",
            "Epoch 6/50\n",
            "150/150 [==============================] - 2s 12ms/step - loss: 1.7864e-05 - mse: 3.5729e-05 - val_loss: 0.0036 - val_mse: 0.0073\n",
            "\n",
            "Epoch 00006: val_loss did not improve from 0.00356\n",
            "Epoch 7/50\n",
            "150/150 [==============================] - 2s 11ms/step - loss: 1.6302e-05 - mse: 3.2603e-05 - val_loss: 0.0037 - val_mse: 0.0073\n",
            "\n",
            "Epoch 00007: val_loss did not improve from 0.00356\n",
            "Epoch 8/50\n",
            "150/150 [==============================] - 2s 12ms/step - loss: 1.7274e-05 - mse: 3.4548e-05 - val_loss: 0.0024 - val_mse: 0.0048\n",
            "\n",
            "Epoch 00008: val_loss improved from 0.00356 to 0.00242, saving model to tmp/ckeckpointer.ckpt\n",
            "Epoch 9/50\n",
            "150/150 [==============================] - 2s 12ms/step - loss: 1.6310e-05 - mse: 3.2621e-05 - val_loss: 0.0021 - val_mse: 0.0041\n",
            "\n",
            "Epoch 00009: val_loss improved from 0.00242 to 0.00207, saving model to tmp/ckeckpointer.ckpt\n",
            "Epoch 10/50\n",
            "150/150 [==============================] - 2s 12ms/step - loss: 1.5855e-05 - mse: 3.1710e-05 - val_loss: 0.0016 - val_mse: 0.0031\n",
            "\n",
            "Epoch 00010: val_loss improved from 0.00207 to 0.00156, saving model to tmp/ckeckpointer.ckpt\n",
            "Epoch 11/50\n",
            "150/150 [==============================] - 2s 12ms/step - loss: 1.5454e-05 - mse: 3.0908e-05 - val_loss: 0.0014 - val_mse: 0.0028\n",
            "\n",
            "Epoch 00011: val_loss improved from 0.00156 to 0.00138, saving model to tmp/ckeckpointer.ckpt\n",
            "Epoch 12/50\n",
            "150/150 [==============================] - 2s 11ms/step - loss: 1.5280e-05 - mse: 3.0560e-05 - val_loss: 0.0016 - val_mse: 0.0031\n",
            "\n",
            "Epoch 00012: val_loss did not improve from 0.00138\n",
            "Epoch 13/50\n",
            "150/150 [==============================] - 2s 12ms/step - loss: 1.4137e-05 - mse: 2.8274e-05 - val_loss: 0.0025 - val_mse: 0.0049\n",
            "\n",
            "Epoch 00013: val_loss did not improve from 0.00138\n",
            "Epoch 14/50\n",
            "150/150 [==============================] - 2s 12ms/step - loss: 1.4432e-05 - mse: 2.8864e-05 - val_loss: 0.0025 - val_mse: 0.0050\n",
            "\n",
            "Epoch 00014: val_loss did not improve from 0.00138\n",
            "Epoch 15/50\n",
            "150/150 [==============================] - 2s 11ms/step - loss: 1.3461e-05 - mse: 2.6922e-05 - val_loss: 0.0032 - val_mse: 0.0065\n",
            "\n",
            "Epoch 00015: val_loss did not improve from 0.00138\n",
            "Epoch 16/50\n",
            "150/150 [==============================] - 2s 12ms/step - loss: 1.3988e-05 - mse: 2.7975e-05 - val_loss: 0.0038 - val_mse: 0.0075\n",
            "\n",
            "Epoch 00016: val_loss did not improve from 0.00138\n",
            "Epoch 17/50\n",
            "150/150 [==============================] - 2s 12ms/step - loss: 1.3271e-05 - mse: 2.6543e-05 - val_loss: 0.0051 - val_mse: 0.0101\n",
            "\n",
            "Epoch 00017: val_loss did not improve from 0.00138\n",
            "Epoch 18/50\n",
            "150/150 [==============================] - 2s 12ms/step - loss: 1.2963e-05 - mse: 2.5926e-05 - val_loss: 0.0037 - val_mse: 0.0075\n",
            "\n",
            "Epoch 00018: val_loss did not improve from 0.00138\n",
            "Epoch 19/50\n",
            "150/150 [==============================] - 2s 11ms/step - loss: 1.2067e-05 - mse: 2.4134e-05 - val_loss: 0.0046 - val_mse: 0.0092\n",
            "\n",
            "Epoch 00019: val_loss did not improve from 0.00138\n",
            "Epoch 20/50\n",
            "150/150 [==============================] - 2s 12ms/step - loss: 1.2208e-05 - mse: 2.4417e-05 - val_loss: 0.0036 - val_mse: 0.0073\n",
            "\n",
            "Epoch 00020: val_loss did not improve from 0.00138\n",
            "Epoch 21/50\n",
            "150/150 [==============================] - 2s 12ms/step - loss: 1.1155e-05 - mse: 2.2309e-05 - val_loss: 0.0042 - val_mse: 0.0084\n",
            "\n",
            "Epoch 00021: val_loss did not improve from 0.00138\n"
          ]
        }
      ]
    },
    {
      "cell_type": "markdown",
      "metadata": {
        "id": "0yICAmmpLZkG"
      },
      "source": [
        "## 모델 예측"
      ]
    },
    {
      "cell_type": "code",
      "metadata": {
        "colab": {
          "base_uri": "https://localhost:8080/"
        },
        "id": "jQMkqhJWKecu",
        "outputId": "32c967d9-72fb-4114-ded9-6fd726781be7"
      },
      "source": [
        "pred = model.predict(test_data)\n",
        "pred.shape"
      ],
      "execution_count": 75,
      "outputs": [
        {
          "output_type": "execute_result",
          "data": {
            "text/plain": [
              "(1180, 1)"
            ]
          },
          "metadata": {},
          "execution_count": 75
        }
      ]
    },
    {
      "cell_type": "code",
      "metadata": {
        "colab": {
          "base_uri": "https://localhost:8080/",
          "height": 537
        },
        "id": "M_DNRs_sKiRL",
        "outputId": "a32b1b21-6857-494b-b189-8fea3a1f6ff9"
      },
      "source": [
        "# 20일치의 데이터로 21일치를 예측하므로 test_data 사용시 이전 20일은 예측하지 않습니다.\n",
        "# 따라서 y_test 데이터에 [20:]로 슬라이싱\n",
        "plt.figure(figsize=(12, 9))\n",
        "plt.plot(np.asarray(y_test)[20:], label='actual')\n",
        "plt.plot(pred, label='prediction')\n",
        "plt.legend()\n",
        "plt.show()\n"
      ],
      "execution_count": 76,
      "outputs": [
        {
          "output_type": "display_data",
          "data": {
            "image/png": "[encoded data removed]",
            "text/plain": [
              "<Figure size 864x648 with 1 Axes>"
            ]
          },
          "metadata": {
            "needs_background": "light"
          }
        }
      ]
    }
  ]
}