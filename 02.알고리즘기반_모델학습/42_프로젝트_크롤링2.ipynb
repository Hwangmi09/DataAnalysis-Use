{
 "cells": [
  {
   "cell_type": "code",
   "execution_count": 87,
   "metadata": {},
   "outputs": [],
   "source": [
    "import requests\n",
    "import pandas as pd\n",
    "from selenium import webdriver\n",
    "from bs4 import BeautifulSoup\n",
    "import time # selenium을 사용할 때 time 반드시 import"
   ]
  },
  {
   "cell_type": "code",
   "execution_count": null,
   "metadata": {},
   "outputs": [],
   "source": [
    "url = 'http://consensus.hankyung.com/apps.analysis/analysis.list?&sdate=2018-10-22&edate=2021-10-22&report_type=IN&order_type=&now_page=1'\n",
    "req = requests.get(url)\n",
    "html = req.text"
   ]
  },
  {
   "cell_type": "code",
   "execution_count": 89,
   "metadata": {},
   "outputs": [],
   "source": [
    "driver = webdriver.Chrome('/Users/Hwangmi/Downloads/chromedriver')\n",
    "driver.get(url)"
   ]
  },
  {
   "cell_type": "code",
   "execution_count": 90,
   "metadata": {},
   "outputs": [],
   "source": [
    "# BeautifulSoup 이용\n",
    "html = driver.page_source\n",
    "soup = BeautifulSoup(html, 'html.parser')"
   ]
  },
  {
   "cell_type": "code",
   "execution_count": 91,
   "metadata": {},
   "outputs": [
    {
     "data": {
      "text/plain": [
       "20"
      ]
     },
     "execution_count": 91,
     "metadata": {},
     "output_type": "execute_result"
    }
   ],
   "source": [
    "divs = soup.select('div.layerPop') # 복수 개의 요소 찾기\n",
    "len(divs)"
   ]
  },
  {
   "cell_type": "code",
   "execution_count": 94,
   "metadata": {},
   "outputs": [
    {
     "data": {
      "text/plain": [
       "'자동차 - Tesla 3Q21 리뷰: 이어지는 놀라운 실적  3Q21 실적 서프라이즈: EPS $1.86 기록 (Non-GAAP 기준)Berlin, Austin Gigafactory 연내가동 확정, 당분간 가파른 판매증가세 기대'"
      ]
     },
     "execution_count": 94,
     "metadata": {},
     "output_type": "execute_result"
    }
   ],
   "source": [
    "div = divs[0]\n",
    "title = div.select_one('.pop01.disNone').text # 하나의 요소 찾기\n",
    "title = ' '.join(i for i in title.strip().split('\\n'))\n",
    "title"
   ]
  },
  {
   "cell_type": "code",
   "execution_count": 95,
   "metadata": {},
   "outputs": [
    {
     "data": {
      "text/plain": [
       "'2021-10-22'"
      ]
     },
     "execution_count": 95,
     "metadata": {},
     "output_type": "execute_result"
    }
   ],
   "source": [
    "soup.select('td.first.txt_number')[0].text"
   ]
  },
  {
   "cell_type": "code",
   "execution_count": 96,
   "metadata": {},
   "outputs": [
    {
     "name": "stderr",
     "output_type": "stream",
     "text": [
      "100%|██████████| 1027/1027 [1:25:28<00:00,  4.99s/it]\n"
     ]
    }
   ],
   "source": [
    "from tqdm import tqdm\n",
    "title_list = []\n",
    "date_list = []\n",
    "\n",
    "for page in tqdm(range(1,1028)):\n",
    "    url = f'http://consensus.hankyung.com/apps.analysis/analysis.list?&sdate=2018-10-22&edate=2021-10-22&report_type=IN&order_type=&now_page={page}'\n",
    "    driver.get(url)\n",
    "    time.sleep(3) # for문을 사용하기 때문에 반드시 사용하기, page를 읽어올 수 있는 충분한 시간 주기\n",
    "    html = driver.page_source\n",
    "    soup = BeautifulSoup(html, 'html.parser')\n",
    "\n",
    "    divs = soup.select('div.layerPop') # 복수 개의 요소 찾기\n",
    "    dates = soup.select('td.first.txt_number')\n",
    "    for k in range(len(divs)):\n",
    "        div = divs[k]\n",
    "        title = div.select_one('.pop01.disNone').text # 하나의 요소 찾기\n",
    "        title_list.append(' '.join(i for i in title.strip().split('\\n')))\n",
    "        date_list.append(dates[k].text)"
   ]
  },
  {
   "cell_type": "code",
   "execution_count": 97,
   "metadata": {},
   "outputs": [
    {
     "data": {
      "text/plain": [
       "['자동차 - Tesla 3Q21 리뷰: 이어지는 놀라운 실적  3Q21 실적 서프라이즈: EPS $1.86 기록 (Non-GAAP 기준)Berlin, Austin Gigafactory 연내가동 확정, 당분간 가파른 판매증가세 기대',\n",
       " '자동차 - 수소차 정부, 2030년 수소차 88만대 보급 목표  2030 년 수소차 보급 목표 88 만대 발표수소차/ 전기차 부문 탄소감축 목표 달성에 정책 지원 우선 예상',\n",
       " \"항공 - Space Industry 한국형 우주 발사체 누리호, 미완의 성공  한국형 우주 발사체 '누리호' 발사 부분 성공발사 기술력은 검증 완료\",\n",
       " '통신 - 3Q21 Preview : 넘버스에 더해진 내러티브  통신서비스 3사 합산 영업이익은 컨센서스를 2% 상회 전망마케팅비용 자산 상각 규모 축소 영향이 나타난 LG유플러스 실적 양호',\n",
       " '조선 - meritz 조선/기계 Daily  국내외 주요 뉴스 및 코멘트']"
      ]
     },
     "execution_count": 97,
     "metadata": {},
     "output_type": "execute_result"
    }
   ],
   "source": [
    "title_list[:5]"
   ]
  },
  {
   "cell_type": "code",
   "execution_count": 98,
   "metadata": {},
   "outputs": [
    {
     "data": {
      "text/plain": [
       "['2018-10-22', '2018-10-22', '2018-10-22', '2018-10-22', '2018-10-22']"
      ]
     },
     "execution_count": 98,
     "metadata": {},
     "output_type": "execute_result"
    }
   ],
   "source": [
    "date_list[-5:]"
   ]
  },
  {
   "cell_type": "code",
   "execution_count": 104,
   "metadata": {},
   "outputs": [
    {
     "data": {
      "text/plain": [
       "(20535, 20535)"
      ]
     },
     "execution_count": 104,
     "metadata": {},
     "output_type": "execute_result"
    }
   ],
   "source": [
    "len(title_list), len(date_list)"
   ]
  },
  {
   "cell_type": "code",
   "execution_count": 99,
   "metadata": {},
   "outputs": [],
   "source": [
    "driver.close()"
   ]
  },
  {
   "cell_type": "code",
   "execution_count": 131,
   "metadata": {},
   "outputs": [
    {
     "data": {
      "text/html": [
       "<div>\n",
       "<style scoped>\n",
       "    .dataframe tbody tr th:only-of-type {\n",
       "        vertical-align: middle;\n",
       "    }\n",
       "\n",
       "    .dataframe tbody tr th {\n",
       "        vertical-align: top;\n",
       "    }\n",
       "\n",
       "    .dataframe thead th {\n",
       "        text-align: right;\n",
       "    }\n",
       "</style>\n",
       "<table border=\"1\" class=\"dataframe\">\n",
       "  <thead>\n",
       "    <tr style=\"text-align: right;\">\n",
       "      <th></th>\n",
       "      <th>date</th>\n",
       "      <th>title</th>\n",
       "    </tr>\n",
       "  </thead>\n",
       "  <tbody>\n",
       "    <tr>\n",
       "      <th>0</th>\n",
       "      <td>2021-10-22</td>\n",
       "      <td>자동차 - Tesla 3Q21 리뷰: 이어지는 놀라운 실적  3Q21 실적 서프라이...</td>\n",
       "    </tr>\n",
       "    <tr>\n",
       "      <th>1</th>\n",
       "      <td>2021-10-22</td>\n",
       "      <td>자동차 - 수소차 정부, 2030년 수소차 88만대 보급 목표  2030 년 수소차...</td>\n",
       "    </tr>\n",
       "    <tr>\n",
       "      <th>2</th>\n",
       "      <td>2021-10-22</td>\n",
       "      <td>항공 - Space Industry 한국형 우주 발사체 누리호, 미완의 성공  한국...</td>\n",
       "    </tr>\n",
       "    <tr>\n",
       "      <th>3</th>\n",
       "      <td>2021-10-22</td>\n",
       "      <td>통신 - 3Q21 Preview : 넘버스에 더해진 내러티브  통신서비스 3사 합산...</td>\n",
       "    </tr>\n",
       "    <tr>\n",
       "      <th>4</th>\n",
       "      <td>2021-10-22</td>\n",
       "      <td>조선 - meritz 조선/기계 Daily  국내외 주요 뉴스 및 코멘트</td>\n",
       "    </tr>\n",
       "  </tbody>\n",
       "</table>\n",
       "</div>"
      ],
      "text/plain": [
       "         date                                              title\n",
       "0  2021-10-22  자동차 - Tesla 3Q21 리뷰: 이어지는 놀라운 실적  3Q21 실적 서프라이...\n",
       "1  2021-10-22  자동차 - 수소차 정부, 2030년 수소차 88만대 보급 목표  2030 년 수소차...\n",
       "2  2021-10-22  항공 - Space Industry 한국형 우주 발사체 누리호, 미완의 성공  한국...\n",
       "3  2021-10-22  통신 - 3Q21 Preview : 넘버스에 더해진 내러티브  통신서비스 3사 합산...\n",
       "4  2021-10-22           조선 - meritz 조선/기계 Daily  국내외 주요 뉴스 및 코멘트"
      ]
     },
     "execution_count": 131,
     "metadata": {},
     "output_type": "execute_result"
    }
   ],
   "source": [
    "news = pd.DataFrame({'date':date_list, 'title': title_list})\n",
    "news.head()"
   ]
  },
  {
   "cell_type": "code",
   "execution_count": 128,
   "metadata": {},
   "outputs": [],
   "source": [
    "news.to_csv('hankyung_news.csv', index=False)"
   ]
  }
 ],
 "metadata": {
  "interpreter": {
   "hash": "d279b99af0f33638fdf09218aa92c162172468f9a92e33e126428ac8a4b3671e"
  },
  "kernelspec": {
   "display_name": "Python 3.8.10 64-bit ('base': conda)",
   "name": "python3"
  },
  "language_info": {
   "codemirror_mode": {
    "name": "ipython",
    "version": 3
   },
   "file_extension": ".py",
   "mimetype": "text/x-python",
   "name": "python",
   "nbconvert_exporter": "python",
   "pygments_lexer": "ipython3",
   "version": "3.8.10"
  },
  "orig_nbformat": 4
 },
 "nbformat": 4,
 "nbformat_minor": 2
}
