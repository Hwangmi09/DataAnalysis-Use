{
  "nbformat": 4,
  "nbformat_minor": 0,
  "metadata": {
    "colab": {
      "name": "12_전이학습기초.ipynb",
      "provenance": [],
      "collapsed_sections": []
    },
    "kernelspec": {
      "name": "python3",
      "display_name": "Python 3"
    },
    "language_info": {
      "name": "python"
    }
  },
  "cells": [
    {
      "cell_type": "markdown",
      "metadata": {
        "id": "OBeJSVeqQwzU"
      },
      "source": [
        "# 전이학습 기초"
      ]
    },
    {
      "cell_type": "code",
      "metadata": {
        "colab": {
          "base_uri": "https://localhost:8080/"
        },
        "id": "TNMle6bUAdFT",
        "outputId": "f5da3b4c-d2bd-424c-cbb5-501735ebc197"
      },
      "source": [
        "from tensorflow.keras.preprocessing.image import load_img\n",
        "from tensorflow.keras.preprocessing.image import img_to_array\n",
        "from tensorflow.keras.applications.vgg16 import preprocess_input\n",
        "from tensorflow.keras.applications.vgg16 import decode_predictions\n",
        "from tensorflow.keras.applications.vgg16 import VGG16\n",
        "\n",
        "# 사전 학습된 모델 불러오기\n",
        "# input_tensor = Input(shape=(150,150,3))\n",
        "\n",
        "\n",
        "# include_top : 신경망 FC 층 존재 유무 ( False : 제거 / True : 유지 )\n",
        "# weights : 가중치 모델 지정 ( None : 초기화된 가중치, 'imagenet' : 사전 학습된 가중치 )\n",
        "# input_tensor : 입력 텐서 크기 ( Input(shape = (w, h, ch))\n",
        "\n",
        "#model = VGG16(weights='imagenet', include_top=False, input_tensor = input_tensor)  \n",
        "\n",
        "model = VGG16()"
      ],
      "execution_count": 8,
      "outputs": [
        {
          "output_type": "stream",
          "name": "stdout",
          "text": [
            "Downloading data from https://storage.googleapis.com/tensorflow/keras-applications/vgg16/vgg16_weights_tf_dim_ordering_tf_kernels.h5\n",
            "553467904/553467096 [==============================] - 4s 0us/step\n",
            "553476096/553467096 [==============================] - 4s 0us/step\n"
          ]
        }
      ]
    },
    {
      "cell_type": "code",
      "metadata": {
        "colab": {
          "base_uri": "https://localhost:8080/"
        },
        "id": "DFe6vfnOJLxF",
        "outputId": "74b72b3b-b4f0-417b-fa0a-c08bbc436fe1"
      },
      "source": [
        "cd /content/drive/MyDrive/데이터/텐서플로우/"
      ],
      "execution_count": 9,
      "outputs": [
        {
          "output_type": "stream",
          "name": "stdout",
          "text": [
            "/content/drive/MyDrive/데이터/텐서플로우\n"
          ]
        }
      ]
    },
    {
      "cell_type": "code",
      "metadata": {
        "colab": {
          "base_uri": "https://localhost:8080/"
        },
        "id": "tRWl8zk4A5YI",
        "outputId": "efcd7783-96f7-422f-fdd2-f8c2e851ebe4"
      },
      "source": [
        "#fileName=input image \n",
        "import numpy as np\n",
        "fileName = '자동차.jpg'\n",
        "image = load_img(fileName, target_size=(224, 224))\n",
        "image = img_to_array(image)\n",
        "print(np.shape(image))\n",
        "image = image.reshape(1, image.shape[0], image.shape[1], image.shape[2]) # (주의) model학습 및 예측을 위해 4차원으로 reshape"
      ],
      "execution_count": 20,
      "outputs": [
        {
          "output_type": "stream",
          "name": "stdout",
          "text": [
            "(224, 224, 3)\n"
          ]
        }
      ]
    },
    {
      "cell_type": "code",
      "metadata": {
        "colab": {
          "base_uri": "https://localhost:8080/"
        },
        "id": "dW8L3igIIIXa",
        "outputId": "961a9c57-1d16-458a-8ddb-db74c505ce27"
      },
      "source": [
        "image = preprocess_input(image) # vgg16제공 전처리(예: 스케일링, 흑백변경 등)\n",
        "yhat = model.predict(image)  #yhat, imagenet에서 제공하는 카테고리가 1000개임.\n",
        "print(np.shape(yhat))\n",
        "print(len(yhat[0]))"
      ],
      "execution_count": 21,
      "outputs": [
        {
          "output_type": "stream",
          "name": "stdout",
          "text": [
            "(1, 1000)\n",
            "1000\n"
          ]
        }
      ]
    },
    {
      "cell_type": "code",
      "metadata": {
        "colab": {
          "base_uri": "https://localhost:8080/"
        },
        "id": "PgA8RLOeI3uM",
        "outputId": "4bcc3fc4-0c7e-4bdc-f835-143459bb2421"
      },
      "source": [
        "label = decode_predictions(yhat) # 상위 5개 출력 [코드넘버, class_name, 1중에서 얼마나 가중치가 있는가]\n",
        "label"
      ],
      "execution_count": 22,
      "outputs": [
        {
          "output_type": "execute_result",
          "data": {
            "text/plain": [
              "[[('n04285008', 'sports_car', 0.4710322),\n",
              "  ('n03459775', 'grille', 0.24736133),\n",
              "  ('n03100240', 'convertible', 0.11644953),\n",
              "  ('n02814533', 'beach_wagon', 0.048029795),\n",
              "  ('n02974003', 'car_wheel', 0.027772235)]]"
            ]
          },
          "metadata": {},
          "execution_count": 22
        }
      ]
    },
    {
      "cell_type": "code",
      "metadata": {
        "colab": {
          "base_uri": "https://localhost:8080/"
        },
        "id": "wsDKezCaJoUq",
        "outputId": "dcd176c7-cb4f-4588-d8f1-5ad8ceb80300"
      },
      "source": [
        "label = label[0][0]\n",
        "print('%s (%.2f%%)'%(label[1], label[2]*100)) # class_name, 가중치 출력"
      ],
      "execution_count": 23,
      "outputs": [
        {
          "output_type": "stream",
          "name": "stdout",
          "text": [
            "sports_car (47.10%)\n"
          ]
        }
      ]
    },
    {
      "cell_type": "code",
      "metadata": {
        "colab": {
          "base_uri": "https://localhost:8080/",
          "height": 288
        },
        "id": "H9zKC6ifTSuS",
        "outputId": "3c01ea49-bbad-4378-e7f4-43a5ad5d2cee"
      },
      "source": [
        "import matplotlib.pyplot as plt\n",
        "\n",
        "plt.imshow(image.reshape(224,224,3))\n",
        "plt.show()"
      ],
      "execution_count": 26,
      "outputs": [
        {
          "output_type": "stream",
          "name": "stderr",
          "text": [
            "Clipping input data to the valid range for imshow with RGB data ([0..1] for floats or [0..255] for integers).\n"
          ]
        },
        {
          "output_type": "display_data",
          "data": {
            "image/png": "[encoded data removed]",
            "text/plain": [
              "<Figure size 432x288 with 1 Axes>"
            ]
          },
          "metadata": {
            "needs_background": "light"
          }
        }
      ]
    },
    {
      "cell_type": "code",
      "metadata": {
        "colab": {
          "base_uri": "https://localhost:8080/"
        },
        "id": "HHmlBbJrJ4hb",
        "outputId": "bb3145d7-140e-4c02-d643-95ddfd829f36"
      },
      "source": [
        "# for를 넣어서 자료를 여러개 인지\n",
        "fileNameList = ['자동차.jpg', '코끼리.jpg']\n",
        "\n",
        "for fileName in fileNameList:\n",
        "    image = load_img(fileName, target_size=(224, 224))\n",
        "    image = img_to_array(image)\n",
        "    image = image.reshape(1, image.shape[0], image.shape[1], image.shape[2])\n",
        "    image = preprocess_input(image) # vgg16제공 전처리(예: 스케일링, 흑백변경 등), 전처리는 한번만 적용하기(여러번 적용하면 계속 값이 바뀜.)\n",
        "    yhat = model.predict(image)  #yhat, imagenet에서 제공하는 카테고리가 1000개임.\n",
        "    label = decode_predictions(yhat) # 상위 5개 출력 [코드넘버, class_name, 1중에서 얼마나 가중치가 있는가]\n",
        "    label = label[0][0]\n",
        "    print('%s (%.2f%%)'%(label[1], label[2]*100)) # class_name, 가중치 출력"
      ],
      "execution_count": 19,
      "outputs": [
        {
          "output_type": "stream",
          "name": "stdout",
          "text": [
            "sports_car (47.10%)\n",
            "African_elephant (82.79%)\n"
          ]
        }
      ]
    }
  ]
}