{
  "nbformat": 4,
  "nbformat_minor": 0,
  "metadata": {
    "colab": {
      "name": "16_오토인코더_화질개선.ipynb",
      "provenance": [],
      "collapsed_sections": []
    },
    "kernelspec": {
      "name": "python3",
      "display_name": "Python 3"
    },
    "language_info": {
      "name": "python"
    },
    "accelerator": "GPU"
  },
  "cells": [
    {
      "cell_type": "markdown",
      "metadata": {
        "id": "ZCIjAfoJ8145"
      },
      "source": [
        "# AutoEncoder\n",
        "- https://www.tensorflow.org/tutorials/generative/autoencoder?hl=ko"
      ]
    },
    {
      "cell_type": "code",
      "metadata": {
        "id": "3G2tBhavzEty"
      },
      "source": [
        "import matplotlib.pyplot as plt\n",
        "import numpy as np\n",
        "import pandas as pd\n",
        "import tensorflow as tf\n",
        "\n",
        "from sklearn.metrics import accuracy_score, precision_score, recall_score\n",
        "from sklearn.model_selection import train_test_split\n",
        "from tensorflow.keras import layers, losses\n",
        "from tensorflow.keras.datasets import fashion_mnist\n",
        "from tensorflow.keras.models import Model"
      ],
      "execution_count": 1,
      "outputs": []
    },
    {
      "cell_type": "code",
      "metadata": {
        "colab": {
          "base_uri": "https://localhost:8080/"
        },
        "id": "kgAjf_ZOzF6q",
        "outputId": "496bdf1b-d04f-4250-9706-603a9a0f16d9"
      },
      "source": [
        "(x_train, _), (x_test, _) = fashion_mnist.load_data()\n",
        "\n",
        "x_train = x_train.astype('float32') / 255.\n",
        "x_test = x_test.astype('float32') / 255.\n",
        "\n",
        "print (x_train.shape)\n",
        "print (x_test.shape)"
      ],
      "execution_count": 10,
      "outputs": [
        {
          "output_type": "stream",
          "name": "stdout",
          "text": [
            "(60000, 28, 28)\n",
            "(10000, 28, 28)\n"
          ]
        }
      ]
    },
    {
      "cell_type": "code",
      "metadata": {
        "colab": {
          "base_uri": "https://localhost:8080/"
        },
        "id": "x38-bfNr0FUG",
        "outputId": "bae175bb-3b2a-4a16-a248-4acb7a218463"
      },
      "source": [
        "x_train.min(), x_train.max() # 스케일링 되어 있음"
      ],
      "execution_count": 11,
      "outputs": [
        {
          "output_type": "execute_result",
          "data": {
            "text/plain": [
              "(0.0, 1.0)"
            ]
          },
          "metadata": {},
          "execution_count": 11
        }
      ]
    },
    {
      "cell_type": "code",
      "metadata": {
        "colab": {
          "base_uri": "https://localhost:8080/"
        },
        "id": "5h391jUg1A7F",
        "outputId": "6b846a3c-d4d5-4527-c0be-8e3ef3910427"
      },
      "source": [
        "np.shape(tf.random.normal(shape=x_train.shape))"
      ],
      "execution_count": 12,
      "outputs": [
        {
          "output_type": "execute_result",
          "data": {
            "text/plain": [
              "TensorShape([60000, 28, 28])"
            ]
          },
          "metadata": {},
          "execution_count": 12
        }
      ]
    },
    {
      "cell_type": "code",
      "metadata": {
        "id": "1RaneI2N0n_f"
      },
      "source": [
        "# 흑백이미지를 컬러로 변경(1채널을 3채널로 변경)\n",
        "# 내 자료 갖고 할 때 컬러이미지를 사용하기 위해서 하는 작업\n",
        "# 노이즈 추가하기 전에 작업\n",
        "# from skimage import color\n",
        "# x_train_color = [color.gray2rgb(x) for x in x_train]\n",
        "# x_test_color = [color.gray2rgb(x) for x in x_test]\n",
        "\n",
        "# # np.shape(color.gray2rgb(x_train[0])) # (28, 28, 3)\n",
        "# plt.imshow(x_train_color[0])\n",
        "# plt.show()"
      ],
      "execution_count": 13,
      "outputs": []
    },
    {
      "cell_type": "code",
      "metadata": {
        "id": "FK1PXM0-23-h"
      },
      "source": [
        "# np.shape(x_train_color)"
      ],
      "execution_count": 14,
      "outputs": []
    },
    {
      "cell_type": "code",
      "metadata": {
        "id": "nc8hL_YP2_2v"
      },
      "source": [
        "# np.shape(x_train)"
      ],
      "execution_count": 15,
      "outputs": []
    },
    {
      "cell_type": "code",
      "metadata": {
        "id": "goOXPxiWzp4C"
      },
      "source": [
        "# noise는 오디오할 때 백색잡음(생활잡음) 이라고 해서 중요한 요소\n",
        "# gray scale일 때는 shape = x_train.shape 해도 28*28이지만\n",
        "# 컬러일 땐 28*28*3\n",
        "noise_factor = 0.2\n",
        "x_train_noisy = x_train + noise_factor * tf.random.normal(shape=x_train.shape) \n",
        "x_test_noisy = x_test + noise_factor * tf.random.normal(shape=x_test.shape) \n",
        "\n",
        "x_train_noisy = tf.clip_by_value(x_train_noisy, clip_value_min=0., clip_value_max=1.)\n",
        "x_test_noisy = tf.clip_by_value(x_test_noisy, clip_value_min=0., clip_value_max=1.)"
      ],
      "execution_count": 16,
      "outputs": []
    },
    {
      "cell_type": "code",
      "metadata": {
        "colab": {
          "base_uri": "https://localhost:8080/",
          "height": 158
        },
        "id": "upL26SbVzWdG",
        "outputId": "d9110662-2e6d-41a9-a4b9-30aabdffe451"
      },
      "source": [
        "n = 10\n",
        "plt.figure(figsize=(20, 2))\n",
        "for i in range(n):\n",
        "    ax = plt.subplot(1, n, i + 1)\n",
        "    plt.title(\"original + noise\")\n",
        "    plt.imshow(tf.squeeze(x_test_noisy[i]))\n",
        "    plt.gray()\n",
        "plt.show()"
      ],
      "execution_count": 17,
      "outputs": [
        {
          "output_type": "display_data",
          "data": {
            "image/png": "[encoded data removed]",
            "text/plain": [
              "<Figure size 1440x144 with 10 Axes>"
            ]
          },
          "metadata": {
            "needs_background": "light"
          }
        }
      ]
    },
    {
      "cell_type": "code",
      "metadata": {
        "colab": {
          "base_uri": "https://localhost:8080/",
          "height": 216
        },
        "id": "ORg-vJ5mz66H",
        "outputId": "6dd387f2-37c4-4d4b-da25-c75a0f760e09"
      },
      "source": [
        "plt.imshow (np.concatenate( [x_train[0], x_train_noisy[0] ], axis = 1 ) ) \n",
        "plt.show()"
      ],
      "execution_count": 18,
      "outputs": [
        {
          "output_type": "display_data",
          "data": {
            "image/png": "[encoded data removed]",
            "text/plain": [
              "<Figure size 432x288 with 1 Axes>"
            ]
          },
          "metadata": {
            "needs_background": "light"
          }
        }
      ]
    },
    {
      "cell_type": "code",
      "metadata": {
        "id": "r5arOVtk4Dd7"
      },
      "source": [
        "from keras.layers import Dense, Input, Conv2D, Conv2DTranspose, Flatten, Reshape\n",
        "from keras.models import Model\n",
        "\n",
        "inputs = Input(shape=(28, 28,1))\n",
        "x = Conv2D(32, 3, 2, activation='relu', padding='same')(inputs)\n",
        "x = Conv2D(64, 3, 2, activation='relu', padding='same')(x)\n",
        "x = Flatten()(x)\n",
        "latent = Dense(10)(x)\n",
        "x = Dense(7 * 7 * 64)(latent)\n",
        "\n",
        "x = Reshape((7, 7, 64))(x)\n",
        "\n",
        "x = Conv2DTranspose(64, 3, 2, activation='relu', padding='same')(x)\n",
        "x = Conv2DTranspose(32, 3, 2, activation='relu', padding='same')(x)\n",
        "x = Conv2DTranspose(1, 3, activation='sigmoid', padding='same')(x) # color일 때: Conv2DTranspose(3, 3, activation='sigmoid', padding='same')(x)\n",
        "\n",
        "model = Model(inputs, x)"
      ],
      "execution_count": 19,
      "outputs": []
    },
    {
      "cell_type": "code",
      "metadata": {
        "colab": {
          "base_uri": "https://localhost:8080/"
        },
        "id": "SgtejaRx4fUH",
        "outputId": "f2ebc83a-d459-4c2b-e479-f685e29dfc6f"
      },
      "source": [
        "model.summary()"
      ],
      "execution_count": 21,
      "outputs": [
        {
          "output_type": "stream",
          "name": "stdout",
          "text": [
            "Model: \"model\"\n",
            "_________________________________________________________________\n",
            "Layer (type)                 Output Shape              Param #   \n",
            "=================================================================\n",
            "input_1 (InputLayer)         [(None, 28, 28, 1)]       0         \n",
            "_________________________________________________________________\n",
            "conv2d (Conv2D)              (None, 14, 14, 32)        320       \n",
            "_________________________________________________________________\n",
            "conv2d_1 (Conv2D)            (None, 7, 7, 64)          18496     \n",
            "_________________________________________________________________\n",
            "flatten (Flatten)            (None, 3136)              0         \n",
            "_________________________________________________________________\n",
            "dense (Dense)                (None, 10)                31370     \n",
            "_________________________________________________________________\n",
            "dense_1 (Dense)              (None, 3136)              34496     \n",
            "_________________________________________________________________\n",
            "reshape (Reshape)            (None, 7, 7, 64)          0         \n",
            "_________________________________________________________________\n",
            "conv2d_transpose (Conv2DTran (None, 14, 14, 64)        36928     \n",
            "_________________________________________________________________\n",
            "conv2d_transpose_1 (Conv2DTr (None, 28, 28, 32)        18464     \n",
            "_________________________________________________________________\n",
            "conv2d_transpose_2 (Conv2DTr (None, 28, 28, 1)         289       \n",
            "=================================================================\n",
            "Total params: 140,363\n",
            "Trainable params: 140,363\n",
            "Non-trainable params: 0\n",
            "_________________________________________________________________\n"
          ]
        }
      ]
    },
    {
      "cell_type": "code",
      "metadata": {
        "colab": {
          "base_uri": "https://localhost:8080/"
        },
        "id": "URas7xhH4WAP",
        "outputId": "3b1e2270-2865-4da1-8832-064ed7125202"
      },
      "source": [
        "model.compile(loss='mse', optimizer='adam', metrics=['accuracy'])\n",
        "hist = model.fit(x_train_noisy, x_train, validation_data=(x_test_noisy, x_test), epochs=5, verbose=2)"
      ],
      "execution_count": 20,
      "outputs": [
        {
          "output_type": "stream",
          "name": "stdout",
          "text": [
            "Epoch 1/5\n",
            "1875/1875 - 41s - loss: 0.0236 - accuracy: 0.5044 - val_loss: 0.0164 - val_accuracy: 0.5040\n",
            "Epoch 2/5\n",
            "1875/1875 - 10s - loss: 0.0154 - accuracy: 0.5069 - val_loss: 0.0148 - val_accuracy: 0.5051\n",
            "Epoch 3/5\n",
            "1875/1875 - 10s - loss: 0.0143 - accuracy: 0.5073 - val_loss: 0.0141 - val_accuracy: 0.5051\n",
            "Epoch 4/5\n",
            "1875/1875 - 10s - loss: 0.0137 - accuracy: 0.5075 - val_loss: 0.0138 - val_accuracy: 0.5052\n",
            "Epoch 5/5\n",
            "1875/1875 - 10s - loss: 0.0133 - accuracy: 0.5077 - val_loss: 0.0134 - val_accuracy: 0.5054\n"
          ]
        }
      ]
    },
    {
      "cell_type": "code",
      "metadata": {
        "colab": {
          "base_uri": "https://localhost:8080/",
          "height": 350
        },
        "id": "9eLsL_HA59Ue",
        "outputId": "fe511326-61b8-42f0-d366-9bb552839a30"
      },
      "source": [
        "his_dict = hist.history\n",
        "loss = his_dict['loss']\n",
        "val_loss = his_dict['val_loss'] \n",
        "\n",
        "epochs = range(1, len(loss) + 1)\n",
        "fig = plt.figure(figsize = (10, 5))\n",
        "\n",
        "# 훈련 및 검증 손실 그리기\n",
        "ax1 = fig.add_subplot(1, 2, 1)\n",
        "ax1.plot(epochs, loss, color = 'blue', label = 'train_loss')\n",
        "ax1.plot(epochs, val_loss, color = 'orange', label = 'val_loss')\n",
        "ax1.set_title('train and val loss')\n",
        "ax1.set_xlabel('epochs')\n",
        "ax1.set_ylabel('loss')\n",
        "ax1.legend()\n",
        "\n",
        "acc = his_dict['accuracy']\n",
        "val_acc = his_dict['val_accuracy']\n",
        "\n",
        "# 훈련 및 검증 정확도 그리기\n",
        "ax2 = fig.add_subplot(1, 2, 2)\n",
        "ax2.plot(epochs, acc, color = 'blue', label = 'train_acc')\n",
        "ax2.plot(epochs, val_acc, color = 'orange', label = 'val_acc')\n",
        "ax2.set_title('train and val acc')\n",
        "ax2.set_xlabel('epochs')\n",
        "ax2.set_ylabel('acc')\n",
        "ax2.legend()\n",
        "\n",
        "plt.show()"
      ],
      "execution_count": 34,
      "outputs": [
        {
          "output_type": "display_data",
          "data": {
            "image/png": "[encoded data removed]",
            "text/plain": [
              "<Figure size 720x360 with 2 Axes>"
            ]
          },
          "metadata": {
            "needs_background": "light"
          }
        }
      ]
    },
    {
      "cell_type": "code",
      "metadata": {
        "colab": {
          "base_uri": "https://localhost:8080/",
          "height": 181
        },
        "id": "SiIZyMVT597C",
        "outputId": "7392bae9-baf1-4c1a-b569-a5ad79868500"
      },
      "source": [
        "# test로 데이터 결과를 확인\n",
        "res = model.predict(x_test_noisy[0:1])\n",
        "plt.imshow(np.hstack([x_test[0], x_test_noisy[0], res[0].reshape(28,28)]))\n",
        "plt.show()\n",
        "print('y값     x값     예측값')"
      ],
      "execution_count": 29,
      "outputs": [
        {
          "output_type": "display_data",
          "data": {
            "image/png": "[encoded data removed]",
            "text/plain": [
              "<Figure size 432x288 with 1 Axes>"
            ]
          },
          "metadata": {
            "needs_background": "light"
          }
        },
        {
          "output_type": "stream",
          "name": "stdout",
          "text": [
            "y값     x값     예측값\n"
          ]
        }
      ]
    },
    {
      "cell_type": "code",
      "metadata": {
        "id": "Y5CvWozY7WuP"
      },
      "source": [
        "model.save('Auto_mnist_noisy_model.h5')"
      ],
      "execution_count": 31,
      "outputs": []
    },
    {
      "cell_type": "code",
      "metadata": {
        "colab": {
          "base_uri": "https://localhost:8080/",
          "height": 17
        },
        "id": "-wtaH2s36Y1b",
        "outputId": "64cf57a5-905c-4b18-fd71-e9592d956b64"
      },
      "source": [
        "from google.colab import files\n",
        "files.download('Auto_mnist_noisy_model.h5')"
      ],
      "execution_count": 32,
      "outputs": [
        {
          "output_type": "display_data",
          "data": {
            "application/javascript": [
              "\n",
              "    async function download(id, filename, size) {\n",
              "      if (!google.colab.kernel.accessAllowed) {\n",
              "        return;\n",
              "      }\n",
              "      const div = document.createElement('div');\n",
              "      const label = document.createElement('label');\n",
              "      label.textContent = `Downloading \"${filename}\": `;\n",
              "      div.appendChild(label);\n",
              "      const progress = document.createElement('progress');\n",
              "      progress.max = size;\n",
              "      div.appendChild(progress);\n",
              "      document.body.appendChild(div);\n",
              "\n",
              "      const buffers = [];\n",
              "      let downloaded = 0;\n",
              "\n",
              "      const channel = await google.colab.kernel.comms.open(id);\n",
              "      // Send a message to notify the kernel that we're ready.\n",
              "      channel.send({})\n",
              "\n",
              "      for await (const message of channel.messages) {\n",
              "        // Send a message to notify the kernel that we're ready.\n",
              "        channel.send({})\n",
              "        if (message.buffers) {\n",
              "          for (const buffer of message.buffers) {\n",
              "            buffers.push(buffer);\n",
              "            downloaded += buffer.byteLength;\n",
              "            progress.value = downloaded;\n",
              "          }\n",
              "        }\n",
              "      }\n",
              "      const blob = new Blob(buffers, {type: 'application/binary'});\n",
              "      const a = document.createElement('a');\n",
              "      a.href = window.URL.createObjectURL(blob);\n",
              "      a.download = filename;\n",
              "      div.appendChild(a);\n",
              "      a.click();\n",
              "      div.remove();\n",
              "    }\n",
              "  "
            ],
            "text/plain": [
              "<IPython.core.display.Javascript object>"
            ]
          },
          "metadata": {}
        },
        {
          "output_type": "display_data",
          "data": {
            "application/javascript": [
              "download(\"download_3a501cd7-d302-40a3-9cf8-3445b91a7e08\", \"Auto_mnist_noisy_model.h5\", 1753248)"
            ],
            "text/plain": [
              "<IPython.core.display.Javascript object>"
            ]
          },
          "metadata": {}
        }
      ]
    }
  ]
}