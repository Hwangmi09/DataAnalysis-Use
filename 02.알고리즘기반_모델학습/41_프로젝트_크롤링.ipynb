{
 "cells": [
  {
   "cell_type": "code",
   "execution_count": 1,
   "metadata": {},
   "outputs": [],
   "source": [
    "import requests\n",
    "import pandas as pd"
   ]
  },
  {
   "cell_type": "code",
   "execution_count": 2,
   "metadata": {},
   "outputs": [],
   "source": [
    "from bs4 import BeautifulSoup\n",
    "from urllib.request import urlopen"
   ]
  },
  {
   "cell_type": "code",
   "execution_count": 5,
   "metadata": {},
   "outputs": [],
   "source": [
    "url = 'https://news.daum.net/ranking/popular'\n",
    "req = requests.get(url)\n",
    "html = req.text"
   ]
  },
  {
   "cell_type": "code",
   "execution_count": 11,
   "metadata": {},
   "outputs": [],
   "source": [
    "from datetime import datetime, timedelta\n",
    "soup = BeautifulSoup(html, 'html.parser')\n",
    "cnt = 0\n",
    "title = []\n",
    "date = []\n",
    "search_url = 'https://news.daum.net/ranking/popular?regDate='\n",
    "now = datetime.now()\n",
    "\n",
    "for i in range(1300):  \n",
    "    html = urlopen(f'{search_url}{now.strftime(\"%Y%m%d\")}')\n",
    "    soup = BeautifulSoup(html, 'html.parser')\n",
    "    cnt = 0\n",
    "\n",
    "    for link in soup.select('div > strong > a.link_txt'):\n",
    "        title.append(link.text.strip())\n",
    "        date.append(now.strftime(\"%Y-%m-%d\"))\n",
    "        cnt += 1\n",
    "        if cnt == 20:\n",
    "            break;\n",
    "\n",
    "    now = now + timedelta(days=-1)"
   ]
  },
  {
   "cell_type": "code",
   "execution_count": 10,
   "metadata": {},
   "outputs": [
    {
     "data": {
      "text/plain": [
       "['이준석은 깜짝 놀라 호남갔는데..최고위원은 또 전두환 칭송',\n",
       " '\"학생 때 친구들 괴롭혀\" 임오경 폭로에 정청래 \"왜 이래\" 당혹',\n",
       " '사고 어선 선장 부인 \"시신서 수술 자국 확인 중..가슴 아파\"(종합)',\n",
       " \"[영상] '한국형 발사체' 누리호 우주로..발사 순간 현장 영상\",\n",
       " \"[MBN 여론조사] 국힘 40.4% vs 민주 25.6%..정당 지지도 격차 '역대급'\"]"
      ]
     },
     "execution_count": 10,
     "metadata": {},
     "output_type": "execute_result"
    }
   ],
   "source": [
    "title[:5]"
   ]
  },
  {
   "cell_type": "code",
   "execution_count": 11,
   "metadata": {},
   "outputs": [
    {
     "data": {
      "text/plain": [
       "['2021-10-21', '2021-10-21', '2021-10-21', '2021-10-21', '2021-10-21']"
      ]
     },
     "execution_count": 11,
     "metadata": {},
     "output_type": "execute_result"
    }
   ],
   "source": [
    "date[:5]"
   ]
  },
  {
   "cell_type": "code",
   "execution_count": 14,
   "metadata": {},
   "outputs": [
    {
     "data": {
      "text/plain": [
       "['2018-04-01', '2018-04-01', '2018-04-01', '2018-04-01', '2018-04-01']"
      ]
     },
     "execution_count": 14,
     "metadata": {},
     "output_type": "execute_result"
    }
   ],
   "source": [
    "date[-5:]"
   ]
  },
  {
   "cell_type": "code",
   "execution_count": 15,
   "metadata": {},
   "outputs": [],
   "source": [
    "news = pd.DataFrame({'title':title, 'date': date})"
   ]
  },
  {
   "cell_type": "code",
   "execution_count": null,
   "metadata": {},
   "outputs": [],
   "source": [
    "news"
   ]
  },
  {
   "cell_type": "code",
   "execution_count": 16,
   "metadata": {},
   "outputs": [],
   "source": [
    "news.to_csv('news.csv', index=False)"
   ]
  }
 ],
 "metadata": {
  "interpreter": {
   "hash": "d279b99af0f33638fdf09218aa92c162172468f9a92e33e126428ac8a4b3671e"
  },
  "kernelspec": {
   "display_name": "Python 3.8.10 64-bit ('base': conda)",
   "name": "python3"
  },
  "language_info": {
   "codemirror_mode": {
    "name": "ipython",
    "version": 3
   },
   "file_extension": ".py",
   "mimetype": "text/x-python",
   "name": "python",
   "nbconvert_exporter": "python",
   "pygments_lexer": "ipython3",
   "version": "3.8.10"
  },
  "orig_nbformat": 4
 },
 "nbformat": 4,
 "nbformat_minor": 2
}
