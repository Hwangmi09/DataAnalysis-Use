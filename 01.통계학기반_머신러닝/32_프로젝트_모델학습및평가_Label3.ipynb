{
 "cells": [
  {
   "cell_type": "markdown",
   "source": [
    "## 모델 학습"
   ],
   "metadata": {
    "id": "RFzxIEDlCPHc"
   }
  },
  {
   "cell_type": "code",
   "execution_count": 1,
   "source": [
    "import warnings\r\n",
    "warnings.filterwarnings('ignore')"
   ],
   "outputs": [],
   "metadata": {
    "id": "50u1jVD-CzCJ"
   }
  },
  {
   "cell_type": "code",
   "execution_count": 2,
   "source": [
    "from google.colab import drive\r\n",
    "drive.mount('/content/mnt/')"
   ],
   "outputs": [
    {
     "output_type": "stream",
     "name": "stdout",
     "text": [
      "Mounted at /content/mnt/\n"
     ]
    }
   ],
   "metadata": {
    "colab": {
     "base_uri": "https://localhost:8080/"
    },
    "id": "5_XTW3gKC1BG",
    "outputId": "cfd0688e-9412-4495-fde2-a0e64d848825"
   }
  },
  {
   "cell_type": "code",
   "execution_count": 2,
   "source": [
    "import time\r\n",
    "import numpy as np\r\n",
    "import pandas as pd\r\n",
    "import matplotlib.pyplot as plt\r\n",
    "import seaborn as sns"
   ],
   "outputs": [],
   "metadata": {
    "id": "QII-1dM0C_ot"
   }
  },
  {
   "cell_type": "code",
   "execution_count": 39,
   "source": [
    "train = pd.read_csv('/content/mnt/MyDrive/Project/data/train_preprocessing.csv')\r\n",
    "test = pd.read_csv('/content/mnt/MyDrive/Project/data/test_preprocessing.csv')"
   ],
   "outputs": [],
   "metadata": {
    "id": "sWOZ7LeZB7XI"
   }
  },
  {
   "cell_type": "code",
   "execution_count": 3,
   "source": [
    "train = pd.read_csv('./train_preprocessing.csv', encoding = 'utf-8')\r\n",
    "test = pd.read_csv('./test_preprocessing.csv', encoding = 'utf-8')"
   ],
   "outputs": [],
   "metadata": {}
  },
  {
   "cell_type": "code",
   "execution_count": 4,
   "source": [
    "train.info()"
   ],
   "outputs": [
    {
     "output_type": "stream",
     "name": "stdout",
     "text": [
      "<class 'pandas.core.frame.DataFrame'>\n",
      "RangeIndex: 26088 entries, 0 to 26087\n",
      "Data columns (total 23 columns):\n",
      " #   Column              Non-Null Count  Dtype  \n",
      "---  ------              --------------  -----  \n",
      " 0   gender              26088 non-null  int64  \n",
      " 1   car                 26088 non-null  int64  \n",
      " 2   reality             26088 non-null  int64  \n",
      " 3   child_num           26088 non-null  int64  \n",
      " 4   income_total        26088 non-null  float64\n",
      " 5   income_type         26088 non-null  int64  \n",
      " 6   edu_type            26088 non-null  int64  \n",
      " 7   family_type         26088 non-null  int64  \n",
      " 8   house_type          26088 non-null  int64  \n",
      " 9   DAYS_BIRTH          26088 non-null  int64  \n",
      " 10  DAYS_EMPLOYED       26088 non-null  int64  \n",
      " 11  family_size         26088 non-null  float64\n",
      " 12  begin_month         26088 non-null  float64\n",
      " 13  credit              26088 non-null  float64\n",
      " 14  before_EMPLOYED     26088 non-null  int64  \n",
      " 15  before_EMPLOYED_ct  26088 non-null  int64  \n",
      " 16  Age                 26088 non-null  int64  \n",
      " 17  DAYS_BIRTH_ct       26088 non-null  int64  \n",
      " 18  EMPLOYED            26088 non-null  int64  \n",
      " 19  DAYS_EMPLOYED_ct    26088 non-null  int64  \n",
      " 20  ability             26088 non-null  float64\n",
      " 21  income_mean         26088 non-null  float64\n",
      " 22  ID                  26088 non-null  int64  \n",
      "dtypes: float64(6), int64(17)\n",
      "memory usage: 4.6 MB\n"
     ]
    }
   ],
   "metadata": {
    "colab": {
     "base_uri": "https://localhost:8080/"
    },
    "id": "ekaKoUXtJWRX",
    "outputId": "080dc425-3348-4aeb-be71-09c661a9d53c"
   }
  },
  {
   "cell_type": "code",
   "execution_count": 5,
   "source": [
    "train.std()"
   ],
   "outputs": [
    {
     "output_type": "execute_result",
     "data": {
      "text/plain": [
       "gender                    0.470387\n",
       "car                       0.484914\n",
       "reality                   0.469144\n",
       "child_num                 0.646875\n",
       "income_total              0.480361\n",
       "income_type               1.736034\n",
       "edu_type                  1.342818\n",
       "family_type               0.876207\n",
       "house_type                0.945997\n",
       "DAYS_BIRTH             4214.144872\n",
       "DAYS_EMPLOYED          2376.389786\n",
       "family_size               0.832739\n",
       "begin_month              16.557938\n",
       "credit                    0.702609\n",
       "before_EMPLOYED        4878.256800\n",
       "before_EMPLOYED_ct        2.629000\n",
       "Age                      11.548545\n",
       "DAYS_BIRTH_ct             2.658179\n",
       "EMPLOYED                  6.442884\n",
       "DAYS_EMPLOYED_ct          1.444662\n",
       "ability                   6.770441\n",
       "income_mean           73239.270648\n",
       "ID                     2163.107624\n",
       "dtype: float64"
      ]
     },
     "metadata": {},
     "execution_count": 5
    }
   ],
   "metadata": {
    "colab": {
     "base_uri": "https://localhost:8080/"
    },
    "id": "0ug99MZhCl7a",
    "outputId": "3d92772b-889a-4a47-8fc8-646b59d98d33"
   }
  },
  {
   "cell_type": "code",
   "execution_count": 6,
   "source": [
    "train['credit'].unique()"
   ],
   "outputs": [
    {
     "output_type": "execute_result",
     "data": {
      "text/plain": [
       "array([1., 2., 0.])"
      ]
     },
     "metadata": {},
     "execution_count": 6
    }
   ],
   "metadata": {}
  },
  {
   "cell_type": "code",
   "execution_count": 7,
   "source": [
    "train['credit'] = train['credit'].apply(lambda x: int(x))\r\n",
    "# train['credit'] = train['credit'].apply(lambda x: float(1) if x == float(0) else x)\r\n",
    "# train['credit'].unique()"
   ],
   "outputs": [],
   "metadata": {}
  },
  {
   "cell_type": "code",
   "execution_count": 8,
   "source": [
    "from sklearn.preprocessing import StandardScaler\r\n",
    "numerical_feats = train.dtypes[train.dtypes != \"object\"].index.tolist()\r\n",
    "numerical_feats.remove('credit')\r\n",
    "numerical_feats.remove('income_total') # 이미 로그변환을 진행한 income_total을 제외한 나머지 numeric 컬럼 정규화\r\n",
    "scaler = StandardScaler()\r\n",
    "train[numerical_feats] = scaler.fit_transform(train[numerical_feats])\r\n",
    "test[numerical_feats] = scaler.transform(test[numerical_feats])"
   ],
   "outputs": [],
   "metadata": {
    "id": "umLntAqCK6il"
   }
  },
  {
   "cell_type": "markdown",
   "source": [
    "- 데이터 분리"
   ],
   "metadata": {
    "id": "sqqRGWwOORTx"
   }
  },
  {
   "cell_type": "code",
   "execution_count": 9,
   "source": [
    "from sklearn.model_selection import train_test_split\r\n",
    "X = train.drop('credit', axis=1)\r\n",
    "y = train.credit\r\n",
    "X_train, X_test, y_train, y_test = train_test_split(X, y, stratify=y, test_size=0.3, random_state=2021)"
   ],
   "outputs": [],
   "metadata": {
    "id": "bbOIrpbMNrGY"
   }
  },
  {
   "cell_type": "code",
   "execution_count": 10,
   "source": [
    "X_train.shape, X_test.shape, y_train.shape, y_test.shape"
   ],
   "outputs": [
    {
     "output_type": "execute_result",
     "data": {
      "text/plain": [
       "((18261, 22), (7827, 22), (18261,), (7827,))"
      ]
     },
     "metadata": {},
     "execution_count": 10
    }
   ],
   "metadata": {
    "colab": {
     "base_uri": "https://localhost:8080/"
    },
    "id": "VHgnNnQwOzsS",
    "outputId": "a6fed358-04cc-4be0-d1e4-8d8045f8574d"
   }
  },
  {
   "cell_type": "markdown",
   "source": [
    "### 로지스틱 회귀"
   ],
   "metadata": {
    "id": "av8gjKErQfgI"
   }
  },
  {
   "cell_type": "code",
   "execution_count": 24,
   "source": [
    "from sklearn.linear_model import LogisticRegression\r\n",
    "model_logit = LogisticRegression(random_state=42)\r\n",
    "model_logit.fit(X_train, y_train)"
   ],
   "outputs": [
    {
     "output_type": "execute_result",
     "data": {
      "text/plain": [
       "LogisticRegression(random_state=42)"
      ]
     },
     "metadata": {},
     "execution_count": 24
    }
   ],
   "metadata": {
    "colab": {
     "base_uri": "https://localhost:8080/"
    },
    "id": "QEPv3kl9QVTr",
    "outputId": "5521b8b8-9b74-4d45-abdc-f3a434d9cb32"
   }
  },
  {
   "cell_type": "code",
   "execution_count": 25,
   "source": [
    "model_logit.score(X_train, y_train), model_logit.score(X_test, y_test) "
   ],
   "outputs": [
    {
     "output_type": "execute_result",
     "data": {
      "text/plain": [
       "(0.6419692240293522, 0.6422639580937779)"
      ]
     },
     "metadata": {},
     "execution_count": 25
    }
   ],
   "metadata": {
    "colab": {
     "base_uri": "https://localhost:8080/"
    },
    "id": "YCY9bC2iQyAk",
    "outputId": "5115d7d2-9f45-444b-f5b0-86b9cecbce37"
   }
  },
  {
   "cell_type": "code",
   "execution_count": 26,
   "source": [
    "# 예측\r\n",
    "y_pred = model_logit.predict(X_test)"
   ],
   "outputs": [],
   "metadata": {
    "id": "CZ_SK5Z8Uzxa"
   }
  },
  {
   "cell_type": "code",
   "execution_count": 27,
   "source": [
    "# 혼합행렬\r\n",
    "from sklearn.metrics import confusion_matrix\r\n",
    "print(confusion_matrix(y_test, y_pred))\r\n",
    "\r\n",
    "sns.heatmap(confusion_matrix(y_test, y_pred), annot=True)\r\n",
    "plt.ylabel('Actual')\r\n",
    "plt.xlabel('Predicted')\r\n",
    "plt.show()"
   ],
   "outputs": [
    {
     "output_type": "stream",
     "name": "stdout",
     "text": [
      "[[   0    1  954]\n",
      " [   0    7 1844]\n",
      " [   0    1 5020]]\n"
     ]
    },
    {
     "output_type": "display_data",
     "data": {
      "image/png": "[encoded data removed]",
      "text/plain": [
       "<Figure size 432x288 with 2 Axes>"
      ]
     },
     "metadata": {
      "needs_background": "light"
     }
    }
   ],
   "metadata": {
    "colab": {
     "base_uri": "https://localhost:8080/",
     "height": 338
    },
    "id": "FFpi0ZhvVGk-",
    "outputId": "3edb41e8-c6a3-4b5b-8840-d24d68e748f4"
   }
  },
  {
   "cell_type": "code",
   "execution_count": 28,
   "source": [
    "# 모형 성능 평가 - 평가지표 계산\r\n",
    "from sklearn.metrics import classification_report\r\n",
    "print(classification_report(y_test, y_pred))"
   ],
   "outputs": [
    {
     "output_type": "stream",
     "name": "stdout",
     "text": [
      "              precision    recall  f1-score   support\n",
      "\n",
      "           0       0.00      0.00      0.00       955\n",
      "           1       0.78      0.00      0.01      1851\n",
      "           2       0.64      1.00      0.78      5021\n",
      "\n",
      "    accuracy                           0.64      7827\n",
      "   macro avg       0.47      0.33      0.26      7827\n",
      "weighted avg       0.60      0.64      0.50      7827\n",
      "\n"
     ]
    }
   ],
   "metadata": {
    "colab": {
     "base_uri": "https://localhost:8080/"
    },
    "id": "zqvzHCc2V2H-",
    "outputId": "2a881e68-cc77-4fbb-bf02-aaa5a5a1e66e"
   }
  },
  {
   "cell_type": "markdown",
   "source": [
    "### KNN"
   ],
   "metadata": {
    "id": "U0SqbT03WbeA"
   }
  },
  {
   "cell_type": "code",
   "execution_count": 67,
   "source": [
    "from sklearn.neighbors import KNeighborsClassifier\r\n",
    "from sklearn.model_selection import GridSearchCV\r\n",
    "\r\n",
    "knn = KNeighborsClassifier()\r\n",
    "model_knn = GridSearchCV(knn, {'n_neighbors': [5, 10, 30, 100]}, n_jobs=4, cv=3, scoring='accuracy')"
   ],
   "outputs": [],
   "metadata": {
    "id": "x01g0gPPWaXH"
   }
  },
  {
   "cell_type": "code",
   "execution_count": 68,
   "source": [
    "model_knn.fit(X_train, y_train)"
   ],
   "outputs": [
    {
     "output_type": "execute_result",
     "data": {
      "text/plain": [
       "GridSearchCV(cv=3, estimator=KNeighborsClassifier(), n_jobs=4,\n",
       "             param_grid={'n_neighbors': [5, 10, 30, 100]}, scoring='accuracy')"
      ]
     },
     "metadata": {},
     "execution_count": 68
    }
   ],
   "metadata": {
    "colab": {
     "base_uri": "https://localhost:8080/"
    },
    "id": "2pLRfP7_XB4U",
    "outputId": "a5bed779-6b04-4764-d062-e35ed9dbf173"
   }
  },
  {
   "cell_type": "code",
   "execution_count": 69,
   "source": [
    "model_knn.best_params_"
   ],
   "outputs": [
    {
     "output_type": "execute_result",
     "data": {
      "text/plain": [
       "{'n_neighbors': 30}"
      ]
     },
     "metadata": {},
     "execution_count": 69
    }
   ],
   "metadata": {
    "colab": {
     "base_uri": "https://localhost:8080/"
    },
    "id": "HjXP3UKAXMet",
    "outputId": "33d0d685-853e-487e-d693-5d69d91caf01"
   }
  },
  {
   "cell_type": "code",
   "execution_count": 70,
   "source": [
    "knn_best = model_knn.best_estimator_"
   ],
   "outputs": [],
   "metadata": {
    "id": "eiNo_YsNXc74"
   }
  },
  {
   "cell_type": "code",
   "execution_count": 71,
   "source": [
    "y_pred = knn_best.predict(X_test)"
   ],
   "outputs": [],
   "metadata": {
    "id": "i-KISDMAX1a7"
   }
  },
  {
   "cell_type": "code",
   "execution_count": 72,
   "source": [
    "# 혼합행렬\r\n",
    "from sklearn.metrics import confusion_matrix\r\n",
    "print(confusion_matrix(y_test, y_pred))\r\n",
    "\r\n",
    "sns.heatmap(confusion_matrix(y_test, y_pred), annot=True)\r\n",
    "plt.ylabel('Actual')\r\n",
    "plt.xlabel('Predicted')\r\n",
    "plt.show()"
   ],
   "outputs": [
    {
     "output_type": "stream",
     "name": "stdout",
     "text": [
      "[[   7   46  902]\n",
      " [   6  145 1700]\n",
      " [  16  146 4859]]\n"
     ]
    },
    {
     "output_type": "display_data",
     "data": {
      "image/png": "[encoded data removed]",
      "text/plain": [
       "<Figure size 432x288 with 2 Axes>"
      ]
     },
     "metadata": {
      "needs_background": "light"
     }
    }
   ],
   "metadata": {
    "colab": {
     "base_uri": "https://localhost:8080/",
     "height": 336
    },
    "id": "uvAE6ht0X3xs",
    "outputId": "9dbd38a5-77b8-44f5-b7ee-e633aa45f21b"
   }
  },
  {
   "cell_type": "code",
   "execution_count": 73,
   "source": [
    "print(classification_report(y_test, y_pred))"
   ],
   "outputs": [
    {
     "output_type": "stream",
     "name": "stdout",
     "text": [
      "              precision    recall  f1-score   support\n",
      "\n",
      "           0       0.24      0.01      0.01       955\n",
      "           1       0.43      0.08      0.13      1851\n",
      "           2       0.65      0.97      0.78      5021\n",
      "\n",
      "    accuracy                           0.64      7827\n",
      "   macro avg       0.44      0.35      0.31      7827\n",
      "weighted avg       0.55      0.64      0.53      7827\n",
      "\n"
     ]
    }
   ],
   "metadata": {
    "colab": {
     "base_uri": "https://localhost:8080/"
    },
    "id": "9t7gWXJNX57A",
    "outputId": "f5ffd2da-73af-444a-b8e8-14dc3c9013f3"
   }
  },
  {
   "cell_type": "markdown",
   "source": [
    "### SVM"
   ],
   "metadata": {
    "id": "_gjeHmDxYJCi"
   }
  },
  {
   "cell_type": "code",
   "execution_count": 74,
   "source": [
    "from sklearn import svm\r\n",
    "\r\n",
    "svm_model = svm.SVC(kernel='rbf', random_state=42)"
   ],
   "outputs": [],
   "metadata": {
    "id": "F6dmE6r5ZEuD"
   }
  },
  {
   "cell_type": "code",
   "execution_count": 75,
   "source": [
    "from sklearn.model_selection import GridSearchCV\r\n",
    "\r\n",
    "model_svm = GridSearchCV(svm_model, \r\n",
    "                           {'C': [1, 5, 9, 15], 'gamma':[0.01, 0.05, 0.1]}, \r\n",
    "                           n_jobs=-1, cv=7, scoring='accuracy')"
   ],
   "outputs": [],
   "metadata": {
    "id": "JaX2k7hsYDY1"
   }
  },
  {
   "cell_type": "code",
   "execution_count": 76,
   "source": [
    "start = time.time()\r\n",
    "model_svm.fit(X_train, y_train)\r\n",
    "print(f'{np.round(time.time()-start, 3)}초') # 걸린시간"
   ],
   "outputs": [
    {
     "output_type": "execute_result",
     "data": {
      "text/plain": [
       "GridSearchCV(cv=7, estimator=SVC(random_state=42), n_jobs=-1,\n",
       "             param_grid={'C': [1, 5, 9, 15], 'gamma': [0.01, 0.05, 0.1]},\n",
       "             scoring='accuracy')"
      ]
     },
     "metadata": {},
     "execution_count": 76
    }
   ],
   "metadata": {
    "colab": {
     "base_uri": "https://localhost:8080/"
    },
    "id": "2DphnJ32ZDdd",
    "outputId": "cf621b10-5f64-498e-e5c0-1cdbbfd7672b"
   }
  },
  {
   "cell_type": "code",
   "execution_count": 81,
   "source": [
    "model_svm.best_params_"
   ],
   "outputs": [
    {
     "output_type": "execute_result",
     "data": {
      "text/plain": [
       "{'C': 9, 'gamma': 0.05}"
      ]
     },
     "metadata": {},
     "execution_count": 81
    }
   ],
   "metadata": {
    "colab": {
     "base_uri": "https://localhost:8080/"
    },
    "id": "yhKDvgu_Zhtk",
    "outputId": "d6587d3c-acac-490c-bb12-00a6de1faa70"
   }
  },
  {
   "cell_type": "code",
   "execution_count": 77,
   "source": [
    "svm_best = model_svm.best_estimator_"
   ],
   "outputs": [],
   "metadata": {
    "id": "gYM9OggnXg1F"
   }
  },
  {
   "cell_type": "code",
   "execution_count": 78,
   "source": [
    "y_pred = svm_best.predict(X_test)"
   ],
   "outputs": [],
   "metadata": {
    "id": "6smuxv9dXg1F"
   }
  },
  {
   "cell_type": "code",
   "execution_count": 79,
   "source": [
    "confusion_matrix(y_test, y_pred)\r\n",
    "\r\n",
    "sns.heatmap(confusion_matrix(y_test, y_pred), annot=True)\r\n",
    "plt.ylabel('Actual')\r\n",
    "plt.xlabel('Predicted')\r\n",
    "plt.show()"
   ],
   "outputs": [
    {
     "output_type": "display_data",
     "data": {
      "image/png": "[encoded data removed]",
      "text/plain": [
       "<Figure size 432x288 with 2 Axes>"
      ]
     },
     "metadata": {
      "needs_background": "light"
     }
    }
   ],
   "metadata": {
    "colab": {
     "base_uri": "https://localhost:8080/",
     "height": 279
    },
    "id": "Q9swnFUFXg1F",
    "outputId": "7b0be43a-2bd5-4c9f-cde5-7a44cb21b6b5"
   }
  },
  {
   "cell_type": "code",
   "execution_count": 80,
   "source": [
    "print(classification_report(y_test, y_pred))"
   ],
   "outputs": [
    {
     "output_type": "stream",
     "name": "stdout",
     "text": [
      "              precision    recall  f1-score   support\n",
      "\n",
      "           0       0.43      0.06      0.10       955\n",
      "           1       0.60      0.27      0.37      1851\n",
      "           2       0.69      0.95      0.80      5021\n",
      "\n",
      "    accuracy                           0.68      7827\n",
      "   macro avg       0.58      0.42      0.42      7827\n",
      "weighted avg       0.64      0.68      0.61      7827\n",
      "\n"
     ]
    }
   ],
   "metadata": {
    "colab": {
     "base_uri": "https://localhost:8080/"
    },
    "id": "lp1vhq4vXg1G",
    "outputId": "5fb586b1-12eb-4fb9-d077-eb815a438162"
   }
  },
  {
   "cell_type": "markdown",
   "source": [
    "### 결정트리"
   ],
   "metadata": {
    "id": "K7WG2cHxfu1b"
   }
  },
  {
   "cell_type": "code",
   "execution_count": 137,
   "source": [
    "from sklearn.tree import DecisionTreeClassifier\r\n",
    "start = time.time()\r\n",
    "\r\n",
    "dt = DecisionTreeClassifier(random_state=42, max_depth=10)\r\n",
    "dt.fit(X_train, y_train)\r\n",
    "print(dt.feature_importances_)\r\n",
    "\r\n",
    "print(f'{np.round(time.time()-start, 3)}초') # 걸린시간"
   ],
   "outputs": [
    {
     "output_type": "stream",
     "name": "stdout",
     "text": [
      "[0.00954251 0.00660736 0.00590397 0.         0.01506942 0.00261458\n",
      " 0.00899157 0.0030566  0.00619    0.04438264 0.06706586 0.00571455\n",
      " 0.59201632 0.04434912 0.0040245  0.00585568 0.01428179 0.01276572\n",
      " 0.00544315 0.05628843 0.03039407 0.05944216]\n",
      "0.111초\n"
     ]
    }
   ],
   "metadata": {
    "colab": {
     "base_uri": "https://localhost:8080/"
    },
    "id": "8pTJbacjeypR",
    "outputId": "2a935c56-973b-4291-d64d-a9a29f987d85"
   }
  },
  {
   "cell_type": "code",
   "execution_count": 138,
   "source": [
    "# 예측\r\n",
    "y_pred = dt.predict(X_test)"
   ],
   "outputs": [],
   "metadata": {
    "id": "zRGCX_BFg5iI"
   }
  },
  {
   "cell_type": "code",
   "execution_count": 139,
   "source": [
    "from sklearn.metrics import confusion_matrix\r\n",
    "print(confusion_matrix(y_test, y_pred))\r\n",
    "\r\n",
    "sns.heatmap(confusion_matrix(y_test, y_pred), annot=True)\r\n",
    "plt.ylabel('Actual')\r\n",
    "plt.xlabel('Predicted')\r\n",
    "plt.show()"
   ],
   "outputs": [
    {
     "output_type": "stream",
     "name": "stdout",
     "text": [
      "[[  26  115  814]\n",
      " [  51  451 1349]\n",
      " [  19   96 4906]]\n"
     ]
    },
    {
     "output_type": "display_data",
     "data": {
      "image/png": "[encoded data removed]",
      "text/plain": [
       "<Figure size 432x288 with 2 Axes>"
      ]
     },
     "metadata": {
      "needs_background": "light"
     }
    }
   ],
   "metadata": {
    "colab": {
     "base_uri": "https://localhost:8080/",
     "height": 336
    },
    "id": "iEx13sGbg-pk",
    "outputId": "fd36dbae-d73b-4036-d256-ea69e852470f"
   }
  },
  {
   "cell_type": "code",
   "execution_count": 140,
   "source": [
    "print(classification_report(y_test, y_pred))"
   ],
   "outputs": [
    {
     "output_type": "stream",
     "name": "stdout",
     "text": [
      "              precision    recall  f1-score   support\n",
      "\n",
      "           0       0.27      0.03      0.05       955\n",
      "           1       0.68      0.24      0.36      1851\n",
      "           2       0.69      0.98      0.81      5021\n",
      "\n",
      "    accuracy                           0.69      7827\n",
      "   macro avg       0.55      0.42      0.41      7827\n",
      "weighted avg       0.64      0.69      0.61      7827\n",
      "\n"
     ]
    }
   ],
   "metadata": {
    "colab": {
     "base_uri": "https://localhost:8080/"
    },
    "id": "Oi98IuurhGU9",
    "outputId": "323a6165-1bf6-4f35-e754-4f8227c676dc"
   }
  },
  {
   "cell_type": "code",
   "execution_count": 90,
   "source": [
    "import matplotlib.pyplot as plt\r\n",
    "from sklearn.tree import plot_tree\r\n",
    "\r\n",
    "start = time.time()\r\n",
    "\r\n",
    "plt.figure(figsize=(30,20))\r\n",
    "plot_tree(dt, filled=True)\r\n",
    "\r\n",
    "plt.show()\r\n",
    "\r\n",
    "print(f'{np.round(time.time()-start, 3)}초') # 걸린시간"
   ],
   "outputs": [
    {
     "output_type": "stream",
     "name": "stdout",
     "text": [
      "0.0초\n"
     ]
    }
   ],
   "metadata": {
    "id": "_WovRHBti28h"
   }
  },
  {
   "cell_type": "code",
   "execution_count": 108,
   "source": [
    "#print(dt.feature_importances_)\r\n",
    "dt.set_params"
   ],
   "outputs": [
    {
     "output_type": "execute_result",
     "data": {
      "text/plain": [
       "<bound method BaseEstimator.set_params of DecisionTreeClassifier(max_depth=10, random_state=42)>"
      ]
     },
     "metadata": {},
     "execution_count": 108
    }
   ],
   "metadata": {
    "colab": {
     "base_uri": "https://localhost:8080/"
    },
    "id": "KVmMGlr4jYOT",
    "outputId": "daa103c4-922d-4d10-abd2-ee592fa0ad29"
   }
  },
  {
   "cell_type": "code",
   "execution_count": 125,
   "source": [
    "# feature 별 feature importance 매핑\r\n",
    "feature_names = X.columns.tolist()\r\n",
    "feature_value = dt.feature_importances_\r\n",
    "dict_feature = {n:v for n, v in zip(feature_names, feature_value)}\r\n",
    "dict_feature = sorted(dict_feature.items(), reverse=True, key=lambda x: x[1])"
   ],
   "outputs": [],
   "metadata": {}
  },
  {
   "cell_type": "code",
   "execution_count": 128,
   "source": [
    "tmp_value = []\r\n",
    "tmp_name = []\r\n",
    "for i in dict_feature:\r\n",
    "    tmp_name.append(i[0])\r\n",
    "    tmp_value.append(i[1])\r\n",
    "# print(tmp_name, tmp_value)"
   ],
   "outputs": [
    {
     "output_type": "stream",
     "name": "stdout",
     "text": [
      "['begin_month', 'DAYS_EMPLOYED', 'ID', 'ability', 'DAYS_BIRTH', 'before_EMPLOYED', 'income_mean', 'income_total', 'DAYS_BIRTH_ct', 'EMPLOYED', 'gender', 'edu_type', 'car', 'house_type', 'reality', 'Age', 'family_size', 'DAYS_EMPLOYED_ct', 'before_EMPLOYED_ct', 'family_type', 'income_type', 'child_num'] [0.5920163190521134, 0.0670658596470715, 0.059442160018513795, 0.05628843309193677, 0.044382638190586715, 0.04434912004890066, 0.030394065595370497, 0.015069419039178687, 0.0142817929114624, 0.012765715517489166, 0.009542513294931346, 0.008991566448305214, 0.006607358957170586, 0.006189998586934981, 0.005903974708301012, 0.005855680857244654, 0.0057145540705923455, 0.005443145384664442, 0.004024497500719282, 0.0030566029257512984, 0.002614584152761225, 0.0]\n"
     ]
    }
   ],
   "metadata": {}
  },
  {
   "cell_type": "code",
   "execution_count": 130,
   "source": [
    "# feature importance 시각화\r\n",
    "sns.barplot(x=tmp_value, y=tmp_name)\r\n",
    "plt.savefig('./img/dt_feature_importance.png', dpi = 150)\r\n",
    "plt.show()"
   ],
   "outputs": [
    {
     "output_type": "display_data",
     "data": {
      "image/png": "[encoded data removed]",
      "text/plain": [
       "<Figure size 432x288 with 1 Axes>"
      ]
     },
     "metadata": {
      "needs_background": "light"
     }
    }
   ],
   "metadata": {
    "colab": {
     "base_uri": "https://localhost:8080/",
     "height": 763
    },
    "id": "BiKXcnQmlFus",
    "outputId": "5545ae3f-68c9-4913-9098-a0fc21cf486b"
   }
  },
  {
   "cell_type": "markdown",
   "source": [
    "### 랜덤 포레스트"
   ],
   "metadata": {
    "id": "YSpsvgjnr3s3"
   }
  },
  {
   "cell_type": "code",
   "execution_count": 44,
   "source": [
    "import time\r\n",
    "from sklearn.ensemble import RandomForestClassifier\r\n",
    "from sklearn.model_selection import GridSearchCV\r\n",
    "start = time.time() # 시작 시간\r\n",
    "\r\n",
    "# 랜덤 포레스트의 parameter 범위 정의\r\n",
    "RF_params = {\r\n",
    "    'n_estimators' : [1000],\r\n",
    "    'max_features' : ['auto'],\r\n",
    "    'max_depth' : [15],\r\n",
    "    'min_samples_leaf' : [5],\r\n",
    "    'min_samples_split' : [2, 4]   # min_samples_split 1보다 크거나 또는 (0, 1.0]\r\n",
    "}\r\n",
    "\r\n",
    "# GridSearchCV를 이용\r\n",
    "model_RF = GridSearchCV(RandomForestClassifier(random_state=42,), param_grid=RF_params, n_jobs=8)\r\n",
    "model_RF.fit(X_train, y_train)\r\n",
    "print(model_RF.best_params_)\r\n",
    "\r\n",
    "RF_best = model_RF.best_estimator_\r\n",
    "\r\n",
    "y_pred = RF_best.predict(X_test)\r\n",
    "\r\n",
    "print(f\"걸린시간 : {np.round(time.time() - start,3)}초\") # 현재시간 – 시작시간(단위 초)"
   ],
   "outputs": [
    {
     "output_type": "stream",
     "name": "stdout",
     "text": [
      "{'max_depth': 15, 'max_features': 'auto', 'min_samples_leaf': 5, 'min_samples_split': 2, 'n_estimators': 1000}\n",
      "걸린시간 : 49.483초\n"
     ]
    }
   ],
   "metadata": {
    "id": "oD25huDgceYK"
   }
  },
  {
   "cell_type": "code",
   "execution_count": 45,
   "source": [
    "from sklearn.metrics import confusion_matrix\r\n",
    "confusion_matrix(y_test, y_pred)\r\n",
    "\r\n",
    "sns.heatmap(confusion_matrix(y_test, y_pred), annot=True)\r\n",
    "plt.ylabel('Actual')\r\n",
    "plt.xlabel('Predicted')\r\n",
    "plt.show()"
   ],
   "outputs": [
    {
     "output_type": "display_data",
     "data": {
      "image/png": "[encoded data removed]",
      "text/plain": [
       "<Figure size 432x288 with 2 Axes>"
      ]
     },
     "metadata": {
      "needs_background": "light"
     }
    }
   ],
   "metadata": {}
  },
  {
   "cell_type": "code",
   "execution_count": 46,
   "source": [
    "from sklearn.metrics import classification_report\r\n",
    "print(classification_report(y_test, y_pred))"
   ],
   "outputs": [
    {
     "output_type": "stream",
     "name": "stdout",
     "text": [
      "              precision    recall  f1-score   support\n",
      "\n",
      "           0       0.66      0.02      0.04       955\n",
      "           1       0.76      0.28      0.41      1851\n",
      "           2       0.70      0.99      0.82      5021\n",
      "\n",
      "    accuracy                           0.70      7827\n",
      "   macro avg       0.70      0.43      0.42      7827\n",
      "weighted avg       0.71      0.70      0.63      7827\n",
      "\n"
     ]
    }
   ],
   "metadata": {
    "id": "2aRReywrwyPo"
   }
  },
  {
   "cell_type": "markdown",
   "source": [
    "### XGBoost"
   ],
   "metadata": {
    "id": "AIUTc7kKtNdj"
   }
  },
  {
   "cell_type": "code",
   "execution_count": 30,
   "source": [
    "from xgboost import XGBClassifier"
   ],
   "outputs": [],
   "metadata": {}
  },
  {
   "cell_type": "code",
   "execution_count": 47,
   "source": [
    "start = time.time()\r\n",
    "\r\n",
    "XGB_params = {\r\n",
    "    'min_child_weight': [3, 5],\r\n",
    "    'gamma': [1],\r\n",
    "    'subsample': [1],\r\n",
    "    'colsample_bytree': [0.6],\r\n",
    "    'max_depth': [10]}\r\n",
    "\r\n",
    "model_xgb = GridSearchCV(XGBClassifier(random_state=42), param_grid=XGB_params, n_jobs=8)\r\n",
    "\r\n",
    "model_xgb.fit(X_train, y_train)\r\n",
    "\r\n",
    "print(model_xgb.best_params_)\r\n",
    "\r\n",
    "xgb_best = model_xgb.best_estimator_\r\n",
    "y_pred = xgb_best.predict(X_test)\r\n",
    "\r\n",
    "print(f'{np.round(time.time()-start, 3)}초') # 걸린시간"
   ],
   "outputs": [
    {
     "output_type": "stream",
     "name": "stdout",
     "text": [
      "[10:40:27] WARNING: C:/Users/Administrator/workspace/xgboost-win64_release_1.4.0/src/learner.cc:1095: Starting in XGBoost 1.3.0, the default evaluation metric used with the objective 'multi:softprob' was changed from 'merror' to 'mlogloss'. Explicitly set eval_metric if you'd like to restore the old behavior.\n",
      "{'colsample_bytree': 0.6, 'gamma': 1, 'max_depth': 10, 'min_child_weight': 3, 'subsample': 1}\n",
      "7.714초\n"
     ]
    }
   ],
   "metadata": {
    "id": "583J95EBr2PN"
   }
  },
  {
   "cell_type": "code",
   "execution_count": 48,
   "source": [
    "confusion_matrix(y_test, y_pred)\r\n",
    "\r\n",
    "sns.heatmap(confusion_matrix(y_test, y_pred), annot=True)\r\n",
    "plt.ylabel('Actual')\r\n",
    "plt.xlabel('Predicted')\r\n",
    "plt.show()"
   ],
   "outputs": [
    {
     "output_type": "display_data",
     "data": {
      "image/png": "[encoded data removed]",
      "text/plain": [
       "<Figure size 432x288 with 2 Axes>"
      ]
     },
     "metadata": {
      "needs_background": "light"
     }
    }
   ],
   "metadata": {
    "id": "tYTb7lILELp4"
   }
  },
  {
   "cell_type": "code",
   "execution_count": 49,
   "source": [
    "print(classification_report(y_test, y_pred))"
   ],
   "outputs": [
    {
     "output_type": "stream",
     "name": "stdout",
     "text": [
      "              precision    recall  f1-score   support\n",
      "\n",
      "           0       0.55      0.16      0.24       955\n",
      "           1       0.69      0.38      0.49      1851\n",
      "           2       0.73      0.94      0.82      5021\n",
      "\n",
      "    accuracy                           0.72      7827\n",
      "   macro avg       0.66      0.50      0.52      7827\n",
      "weighted avg       0.70      0.72      0.67      7827\n",
      "\n"
     ]
    }
   ],
   "metadata": {
    "id": "IQLncVDNENKf"
   }
  },
  {
   "cell_type": "markdown",
   "source": [
    "## 변수축소 - 모델학습 및 평가"
   ],
   "metadata": {
    "id": "ZXemCgePcaWS"
   }
  },
  {
   "cell_type": "code",
   "execution_count": 51,
   "source": [
    "# 변수축소\r\n",
    "X_train = X_train[['begin_month', 'DAYS_EMPLOYED', 'ID', 'ability', 'DAYS_BIRTH', 'before_EMPLOYED', 'income_mean']]\r\n",
    "X_test = X_test[['begin_month', 'DAYS_EMPLOYED', 'ID', 'ability', 'DAYS_BIRTH', 'before_EMPLOYED', 'income_mean']]"
   ],
   "outputs": [],
   "metadata": {
    "id": "g757q2WbcgFw"
   }
  },
  {
   "cell_type": "markdown",
   "source": [
    "### 로지스틱 회귀"
   ],
   "metadata": {
    "id": "tfaTNyRjep4A"
   }
  },
  {
   "cell_type": "code",
   "execution_count": 52,
   "source": [
    "from sklearn.linear_model import LogisticRegression\r\n",
    "model_logit = LogisticRegression()\r\n",
    "model_logit.fit(X_train, y_train)"
   ],
   "outputs": [
    {
     "output_type": "execute_result",
     "data": {
      "text/plain": [
       "LogisticRegression()"
      ]
     },
     "metadata": {},
     "execution_count": 52
    }
   ],
   "metadata": {
    "colab": {
     "base_uri": "https://localhost:8080/"
    },
    "id": "GeVLWTdjep4B",
    "outputId": "5521b8b8-9b74-4d45-abdc-f3a434d9cb32"
   }
  },
  {
   "cell_type": "code",
   "execution_count": 53,
   "source": [
    "model_logit.score(X_train, y_train), model_logit.score(X_test, y_test) "
   ],
   "outputs": [
    {
     "output_type": "execute_result",
     "data": {
      "text/plain": [
       "(0.641476370406878, 0.6414973808611217)"
      ]
     },
     "metadata": {},
     "execution_count": 53
    }
   ],
   "metadata": {
    "colab": {
     "base_uri": "https://localhost:8080/"
    },
    "id": "blxMq0b_ep4E",
    "outputId": "5115d7d2-9f45-444b-f5b0-86b9cecbce37"
   }
  },
  {
   "cell_type": "code",
   "execution_count": 54,
   "source": [
    "# 예측\r\n",
    "y_pred = model_logit.predict(X_test)"
   ],
   "outputs": [],
   "metadata": {
    "id": "hLCCDGFbep4F"
   }
  },
  {
   "cell_type": "code",
   "execution_count": 55,
   "source": [
    "# 혼합행렬\r\n",
    "from sklearn.metrics import confusion_matrix\r\n",
    "print(confusion_matrix(y_test, y_pred))\r\n",
    "\r\n",
    "sns.heatmap(confusion_matrix(y_test, y_pred), annot=True)\r\n",
    "plt.ylabel('Actual')\r\n",
    "plt.xlabel('Predicted')\r\n",
    "plt.show()"
   ],
   "outputs": [
    {
     "output_type": "stream",
     "name": "stdout",
     "text": [
      "[[   0    0  955]\n",
      " [   0    0 1851]\n",
      " [   0    0 5021]]\n"
     ]
    },
    {
     "output_type": "display_data",
     "data": {
      "image/png": "[encoded data removed]",
      "text/plain": [
       "<Figure size 432x288 with 2 Axes>"
      ]
     },
     "metadata": {
      "needs_background": "light"
     }
    }
   ],
   "metadata": {
    "colab": {
     "base_uri": "https://localhost:8080/",
     "height": 338
    },
    "id": "IxPnzhHNep4G",
    "outputId": "3edb41e8-c6a3-4b5b-8840-d24d68e748f4"
   }
  },
  {
   "cell_type": "code",
   "execution_count": 56,
   "source": [
    "# 모형 성능 평가 - 평가지표 계산\r\n",
    "from sklearn.metrics import classification_report\r\n",
    "print(classification_report(y_test, y_pred))"
   ],
   "outputs": [
    {
     "output_type": "stream",
     "name": "stdout",
     "text": [
      "              precision    recall  f1-score   support\n",
      "\n",
      "           0       0.00      0.00      0.00       955\n",
      "           1       0.00      0.00      0.00      1851\n",
      "           2       0.64      1.00      0.78      5021\n",
      "\n",
      "    accuracy                           0.64      7827\n",
      "   macro avg       0.21      0.33      0.26      7827\n",
      "weighted avg       0.41      0.64      0.50      7827\n",
      "\n"
     ]
    }
   ],
   "metadata": {
    "colab": {
     "base_uri": "https://localhost:8080/"
    },
    "id": "_yxpnc58ep4H",
    "outputId": "2a881e68-cc77-4fbb-bf02-aaa5a5a1e66e"
   }
  },
  {
   "cell_type": "markdown",
   "source": [
    "### KNN"
   ],
   "metadata": {
    "id": "2dv7W6Itep4H"
   }
  },
  {
   "cell_type": "code",
   "execution_count": 58,
   "source": [
    "from sklearn.neighbors import KNeighborsClassifier\r\n",
    "from sklearn.model_selection import GridSearchCV\r\n",
    "\r\n",
    "knn = KNeighborsClassifier()\r\n",
    "model_knn = GridSearchCV(knn, {'n_neighbors': [10,30]}, n_jobs=-1, cv=7, scoring='accuracy')"
   ],
   "outputs": [],
   "metadata": {
    "id": "Y7pXzwRgep4I"
   }
  },
  {
   "cell_type": "code",
   "execution_count": 59,
   "source": [
    "model_knn.fit(X_train, y_train)"
   ],
   "outputs": [
    {
     "output_type": "execute_result",
     "data": {
      "text/plain": [
       "GridSearchCV(cv=7, estimator=KNeighborsClassifier(), n_jobs=-1,\n",
       "             param_grid={'n_neighbors': [10, 30]}, scoring='accuracy')"
      ]
     },
     "metadata": {},
     "execution_count": 59
    }
   ],
   "metadata": {
    "colab": {
     "base_uri": "https://localhost:8080/"
    },
    "id": "hymJmaXtep4I",
    "outputId": "a5bed779-6b04-4764-d062-e35ed9dbf173"
   }
  },
  {
   "cell_type": "code",
   "execution_count": 60,
   "source": [
    "model_knn.best_params_"
   ],
   "outputs": [
    {
     "output_type": "execute_result",
     "data": {
      "text/plain": [
       "{'n_neighbors': 30}"
      ]
     },
     "metadata": {},
     "execution_count": 60
    }
   ],
   "metadata": {
    "colab": {
     "base_uri": "https://localhost:8080/"
    },
    "id": "onAo_3bGep4I",
    "outputId": "33d0d685-853e-487e-d693-5d69d91caf01"
   }
  },
  {
   "cell_type": "code",
   "execution_count": 61,
   "source": [
    "knn_best = model_knn.best_estimator_"
   ],
   "outputs": [],
   "metadata": {
    "id": "RrVUqnwLep4J"
   }
  },
  {
   "cell_type": "code",
   "execution_count": 62,
   "source": [
    "y_pred = knn_best.predict(X_test)"
   ],
   "outputs": [],
   "metadata": {
    "id": "8m6nTC7Wep4J"
   }
  },
  {
   "cell_type": "code",
   "execution_count": 63,
   "source": [
    "# 혼합행렬\r\n",
    "from sklearn.metrics import confusion_matrix\r\n",
    "print(confusion_matrix(y_test, y_pred))\r\n",
    "\r\n",
    "sns.heatmap(confusion_matrix(y_test, y_pred), annot=True)\r\n",
    "plt.ylabel('Actual')\r\n",
    "plt.xlabel('Predicted')\r\n",
    "plt.show()"
   ],
   "outputs": [
    {
     "output_type": "stream",
     "name": "stdout",
     "text": [
      "[[   5   97  853]\n",
      " [   7  305 1539]\n",
      " [  10  110 4901]]\n"
     ]
    },
    {
     "output_type": "display_data",
     "data": {
      "image/png": "[encoded data removed]",
      "text/plain": [
       "<Figure size 432x288 with 2 Axes>"
      ]
     },
     "metadata": {
      "needs_background": "light"
     }
    }
   ],
   "metadata": {
    "colab": {
     "base_uri": "https://localhost:8080/",
     "height": 336
    },
    "id": "WVkrpzXsep4J",
    "outputId": "9dbd38a5-77b8-44f5-b7ee-e633aa45f21b"
   }
  },
  {
   "cell_type": "code",
   "execution_count": 64,
   "source": [
    "print(classification_report(y_test, y_pred))"
   ],
   "outputs": [
    {
     "output_type": "stream",
     "name": "stdout",
     "text": [
      "              precision    recall  f1-score   support\n",
      "\n",
      "           0       0.23      0.01      0.01       955\n",
      "           1       0.60      0.16      0.26      1851\n",
      "           2       0.67      0.98      0.80      5021\n",
      "\n",
      "    accuracy                           0.67      7827\n",
      "   macro avg       0.50      0.38      0.35      7827\n",
      "weighted avg       0.60      0.67      0.57      7827\n",
      "\n"
     ]
    }
   ],
   "metadata": {
    "colab": {
     "base_uri": "https://localhost:8080/"
    },
    "id": "44iAHxisep4K",
    "outputId": "f5ffd2da-73af-444a-b8e8-14dc3c9013f3"
   }
  },
  {
   "cell_type": "markdown",
   "source": [
    "### SVM"
   ],
   "metadata": {
    "id": "A5ixrjaMep4K"
   }
  },
  {
   "cell_type": "code",
   "execution_count": 65,
   "source": [
    "from sklearn import svm\r\n",
    "\r\n",
    "svm_model = svm.SVC(kernel='rbf')"
   ],
   "outputs": [],
   "metadata": {
    "id": "dOxgugUBep4K"
   }
  },
  {
   "cell_type": "code",
   "execution_count": 66,
   "source": [
    "from sklearn.model_selection import GridSearchCV\r\n",
    "\r\n",
    "model_svm = GridSearchCV(svm_model, \r\n",
    "                           {'C': [1, 9, 15], 'gamma':[0.05]}, \r\n",
    "                           n_jobs=-1, cv=7, scoring='accuracy')"
   ],
   "outputs": [],
   "metadata": {
    "id": "ZZH2Mlokep4K"
   }
  },
  {
   "cell_type": "code",
   "execution_count": 67,
   "source": [
    "model_svm.fit(X_train, y_train)"
   ],
   "outputs": [
    {
     "output_type": "execute_result",
     "data": {
      "text/plain": [
       "GridSearchCV(cv=7, estimator=SVC(), n_jobs=-1,\n",
       "             param_grid={'C': [1, 9, 15], 'gamma': [0.05]}, scoring='accuracy')"
      ]
     },
     "metadata": {},
     "execution_count": 67
    }
   ],
   "metadata": {
    "colab": {
     "base_uri": "https://localhost:8080/"
    },
    "id": "OFDquZSeep4L",
    "outputId": "cf621b10-5f64-498e-e5c0-1cdbbfd7672b"
   }
  },
  {
   "cell_type": "code",
   "execution_count": 68,
   "source": [
    "model_svm.best_params_"
   ],
   "outputs": [
    {
     "output_type": "execute_result",
     "data": {
      "text/plain": [
       "{'C': 15, 'gamma': 0.05}"
      ]
     },
     "metadata": {},
     "execution_count": 68
    }
   ],
   "metadata": {
    "colab": {
     "base_uri": "https://localhost:8080/"
    },
    "id": "iuyMXd0yep4L",
    "outputId": "d6587d3c-acac-490c-bb12-00a6de1faa70"
   }
  },
  {
   "cell_type": "code",
   "execution_count": 69,
   "source": [
    "svm_best = model_svm.best_estimator_"
   ],
   "outputs": [],
   "metadata": {
    "id": "WYboXuZoep4L"
   }
  },
  {
   "cell_type": "code",
   "execution_count": 70,
   "source": [
    "y_pred = svm_best.predict(X_test)"
   ],
   "outputs": [],
   "metadata": {
    "id": "L0WUrhrXep4L"
   }
  },
  {
   "cell_type": "code",
   "execution_count": 71,
   "source": [
    "confusion_matrix(y_test, y_pred)\r\n",
    "\r\n",
    "sns.heatmap(confusion_matrix(y_test, y_pred), annot=True)\r\n",
    "plt.ylabel('Actual')\r\n",
    "plt.xlabel('Predicted')\r\n",
    "plt.show()"
   ],
   "outputs": [
    {
     "output_type": "display_data",
     "data": {
      "image/png": "[encoded data removed]",
      "text/plain": [
       "<Figure size 432x288 with 2 Axes>"
      ]
     },
     "metadata": {
      "needs_background": "light"
     }
    }
   ],
   "metadata": {
    "colab": {
     "base_uri": "https://localhost:8080/",
     "height": 279
    },
    "id": "BxTTjU4Xep4M",
    "outputId": "7b0be43a-2bd5-4c9f-cde5-7a44cb21b6b5"
   }
  },
  {
   "cell_type": "code",
   "execution_count": 72,
   "source": [
    "print(classification_report(y_test, y_pred))"
   ],
   "outputs": [
    {
     "output_type": "stream",
     "name": "stdout",
     "text": [
      "              precision    recall  f1-score   support\n",
      "\n",
      "           0       0.00      0.00      0.00       955\n",
      "           1       0.65      0.25      0.36      1851\n",
      "           2       0.69      0.98      0.81      5021\n",
      "\n",
      "    accuracy                           0.69      7827\n",
      "   macro avg       0.45      0.41      0.39      7827\n",
      "weighted avg       0.60      0.69      0.60      7827\n",
      "\n"
     ]
    }
   ],
   "metadata": {
    "colab": {
     "base_uri": "https://localhost:8080/"
    },
    "id": "XTbYGbYBep4M",
    "outputId": "5fb586b1-12eb-4fb9-d077-eb815a438162"
   }
  },
  {
   "cell_type": "markdown",
   "source": [
    "### 결정트리"
   ],
   "metadata": {
    "id": "cJNzkWu0ep4M"
   }
  },
  {
   "cell_type": "code",
   "execution_count": 73,
   "source": [
    "import matplotlib.pyplot as plt\r\n",
    "from sklearn.tree import plot_tree\r\n",
    "from sklearn.tree import DecisionTreeClassifier\r\n"
   ],
   "outputs": [],
   "metadata": {
    "colab": {
     "base_uri": "https://localhost:8080/"
    },
    "id": "CBJH4kQXep4T",
    "outputId": "5c3a4d99-b847-4664-cc60-8be8998eafd7"
   }
  },
  {
   "cell_type": "code",
   "execution_count": 74,
   "source": [
    "# 가지치기\r\n",
    "dt = DecisionTreeClassifier(max_depth=10, random_state=42) \r\n",
    "dt.fit(X_train, y_train)\r\n",
    "print(dt.feature_importances_)"
   ],
   "outputs": [
    {
     "output_type": "stream",
     "name": "stdout",
     "text": [
      "[0.61695779 0.06787029 0.06703282 0.0872128  0.06302769 0.06233207\n",
      " 0.03556654]\n"
     ]
    }
   ],
   "metadata": {}
  },
  {
   "cell_type": "code",
   "execution_count": 75,
   "source": [
    "plt.figure(figsize=(10,7))\r\n",
    "plot_tree(dt, filled=True)\r\n",
    "plt.show()"
   ],
   "outputs": [
    {
     "output_type": "display_data",
     "data": {
      "image/png": "[encoded data removed]",
      "text/plain": [
       "<Figure size 720x504 with 1 Axes>"
      ]
     },
     "metadata": {
      "needs_background": "light"
     }
    }
   ],
   "metadata": {
    "colab": {
     "base_uri": "https://localhost:8080/",
     "height": 411
    },
    "id": "nVDp_UGlep4T",
    "outputId": "5334398e-0d75-4d77-fded-b7cea894dc67"
   }
  },
  {
   "cell_type": "code",
   "execution_count": 76,
   "source": [
    "print(dt.feature_importances_)"
   ],
   "outputs": [
    {
     "output_type": "stream",
     "name": "stdout",
     "text": [
      "[0.61695779 0.06787029 0.06703282 0.0872128  0.06302769 0.06233207\n",
      " 0.03556654]\n"
     ]
    }
   ],
   "metadata": {
    "colab": {
     "base_uri": "https://localhost:8080/"
    },
    "id": "p0a15nlvep4U",
    "outputId": "daa103c4-922d-4d10-abd2-ee592fa0ad29"
   }
  },
  {
   "cell_type": "code",
   "execution_count": 84,
   "source": [
    "# feature 별 feature importance 매핑\r\n",
    "feature_names = X_train.columns.tolist()\r\n",
    "feature_value = dt.feature_importances_\r\n",
    "dict_feature = {n:v for n, v in zip(feature_names, feature_value)}\r\n",
    "dict_feature = sorted(dict_feature.items(), reverse=True, key=lambda x: x[1])\r\n",
    "\r\n",
    "\r\n",
    "tmp_value = []\r\n",
    "tmp_name = []\r\n",
    "for i in dict_feature:\r\n",
    "    tmp_name.append(i[0])\r\n",
    "    tmp_value.append(i[1])\r\n",
    "# print(tmp_name, tmp_value)"
   ],
   "outputs": [],
   "metadata": {}
  },
  {
   "cell_type": "code",
   "execution_count": 85,
   "source": [
    "# feature importance 시각화\r\n",
    "sns.barplot(x=tmp_value, y=tmp_name)\r\n",
    "plt.show()"
   ],
   "outputs": [
    {
     "output_type": "display_data",
     "data": {
      "image/png": "[encoded data removed]",
      "text/plain": [
       "<Figure size 432x288 with 1 Axes>"
      ]
     },
     "metadata": {
      "needs_background": "light"
     }
    }
   ],
   "metadata": {
    "colab": {
     "base_uri": "https://localhost:8080/",
     "height": 763
    },
    "id": "Quk5QQc9ep4U",
    "outputId": "5545ae3f-68c9-4913-9098-a0fc21cf486b"
   }
  },
  {
   "cell_type": "code",
   "execution_count": 86,
   "source": [
    "y_pred = dt.predict(X_test)"
   ],
   "outputs": [],
   "metadata": {
    "id": "ucFaN-GYep4V"
   }
  },
  {
   "cell_type": "code",
   "execution_count": 80,
   "source": [
    "from sklearn.metrics import confusion_matrix\r\n",
    "print(confusion_matrix(y_test, y_pred))\r\n",
    "\r\n",
    "sns.heatmap(confusion_matrix(y_test, y_pred), annot=True)\r\n",
    "plt.ylabel('Actual')\r\n",
    "plt.xlabel('Predicted')\r\n",
    "plt.show()"
   ],
   "outputs": [
    {
     "output_type": "stream",
     "name": "stdout",
     "text": [
      "[[  29  116  810]\n",
      " [  54  422 1375]\n",
      " [  31   76 4914]]\n"
     ]
    },
    {
     "output_type": "display_data",
     "data": {
      "image/png": "[encoded data removed]",
      "text/plain": [
       "<Figure size 432x288 with 2 Axes>"
      ]
     },
     "metadata": {
      "needs_background": "light"
     }
    }
   ],
   "metadata": {
    "colab": {
     "base_uri": "https://localhost:8080/",
     "height": 340
    },
    "id": "2jOgzlDpep4V",
    "outputId": "c72e27fe-7a27-4753-f1b7-1bb5392bf8bc"
   }
  },
  {
   "cell_type": "code",
   "execution_count": 81,
   "source": [
    "print(classification_report(y_test, y_pred))"
   ],
   "outputs": [
    {
     "output_type": "stream",
     "name": "stdout",
     "text": [
      "              precision    recall  f1-score   support\n",
      "\n",
      "           0       0.25      0.03      0.05       955\n",
      "           1       0.69      0.23      0.34      1851\n",
      "           2       0.69      0.98      0.81      5021\n",
      "\n",
      "    accuracy                           0.69      7827\n",
      "   macro avg       0.54      0.41      0.40      7827\n",
      "weighted avg       0.64      0.69      0.61      7827\n",
      "\n"
     ]
    }
   ],
   "metadata": {
    "colab": {
     "base_uri": "https://localhost:8080/"
    },
    "id": "r3Ac2y4oep4W",
    "outputId": "188a95e1-b73d-4807-f530-b8a4dc0f5e2d"
   }
  },
  {
   "cell_type": "markdown",
   "source": [
    "### 랜덤 포레스트"
   ],
   "metadata": {
    "id": "PVBy1Jz2ep4X"
   }
  },
  {
   "cell_type": "code",
   "execution_count": 87,
   "source": [
    "import time\r\n",
    "from sklearn.ensemble import RandomForestClassifier\r\n",
    "from sklearn.model_selection import GridSearchCV\r\n",
    "start = time.time() # 시작 시간\r\n",
    "\r\n",
    "# 랜덤 포레스트의 parameter 범위 정의\r\n",
    "RF_params = {\r\n",
    "    'n_estimators' : [1000],\r\n",
    "    'max_features' : ['auto'],\r\n",
    "    'max_depth' : [15],\r\n",
    "    'min_samples_leaf' : [5],\r\n",
    "    'min_samples_split' : [2, 4]   # min_samples_split 1보다 크거나 또는 (0, 1.0]\r\n",
    "}\r\n",
    "\r\n",
    "# GridSearchCV를 이용\r\n",
    "model_RF = GridSearchCV(RandomForestClassifier(random_state=42,), param_grid=RF_params, n_jobs=8)\r\n",
    "model_RF.fit(X_train, y_train)\r\n",
    "print(model_RF.best_params_)\r\n",
    "\r\n",
    "RF_best = model_RF.best_estimator_\r\n",
    "\r\n",
    "y_pred = RF_best.predict(X_test)\r\n",
    "\r\n",
    "print(f\"걸린시간 : {np.round(time.time() - start,3)}초\") # 현재시간 – 시작시간(단위 초)"
   ],
   "outputs": [
    {
     "output_type": "stream",
     "name": "stdout",
     "text": [
      "{'max_depth': 15, 'max_features': 'auto', 'min_samples_leaf': 5, 'min_samples_split': 2, 'n_estimators': 1000}\n",
      "걸린시간 : 49.806초\n"
     ]
    }
   ],
   "metadata": {
    "id": "YlQG2i0bep4Y"
   }
  },
  {
   "cell_type": "code",
   "execution_count": 88,
   "source": [
    "confusion_matrix(y_test, y_pred)\r\n",
    "\r\n",
    "sns.heatmap(confusion_matrix(y_test, y_pred), annot=True)\r\n",
    "plt.ylabel('Actual')\r\n",
    "plt.xlabel('Predicted')\r\n",
    "plt.show()"
   ],
   "outputs": [
    {
     "output_type": "display_data",
     "data": {
      "image/png": "[encoded data removed]",
      "text/plain": [
       "<Figure size 432x288 with 2 Axes>"
      ]
     },
     "metadata": {
      "needs_background": "light"
     }
    }
   ],
   "metadata": {
    "id": "dRwxP9wYep4Y"
   }
  },
  {
   "cell_type": "code",
   "execution_count": 89,
   "source": [
    "print(classification_report(y_test, y_pred))"
   ],
   "outputs": [
    {
     "output_type": "stream",
     "name": "stdout",
     "text": [
      "              precision    recall  f1-score   support\n",
      "\n",
      "           0       0.73      0.02      0.03       955\n",
      "           1       0.74      0.26      0.38      1851\n",
      "           2       0.69      0.99      0.82      5021\n",
      "\n",
      "    accuracy                           0.70      7827\n",
      "   macro avg       0.72      0.42      0.41      7827\n",
      "weighted avg       0.71      0.70      0.62      7827\n",
      "\n"
     ]
    }
   ],
   "metadata": {
    "id": "9ypwMp5Dep4Y",
    "scrolled": true
   }
  },
  {
   "cell_type": "markdown",
   "source": [
    "### XGBoost"
   ],
   "metadata": {
    "id": "np4DcLiLep4Y"
   }
  },
  {
   "cell_type": "code",
   "execution_count": 90,
   "source": [
    "from xgboost import XGBClassifier\r\n",
    "start = time.time()\r\n",
    "\r\n",
    "XGB_params = {\r\n",
    "    'min_child_weight': [3, 5],\r\n",
    "    'gamma': [1],\r\n",
    "    'subsample': [1],\r\n",
    "    'colsample_bytree': [0.6],\r\n",
    "    'max_depth': [10]}\r\n",
    "\r\n",
    "model_xgb = GridSearchCV(XGBClassifier(random_state=42), param_grid=XGB_params, n_jobs=8)\r\n",
    "\r\n",
    "model_xgb.fit(X_train, y_train)\r\n",
    "\r\n",
    "print(model_xgb.best_params_)\r\n",
    "\r\n",
    "xgb_best = model_xgb.best_estimator_\r\n",
    "y_pred = xgb_best.predict(X_test)\r\n",
    "\r\n",
    "print(f'{np.round(time.time()-start, 3)}초') # 걸린시간"
   ],
   "outputs": [
    {
     "output_type": "stream",
     "name": "stdout",
     "text": [
      "[10:48:27] WARNING: C:/Users/Administrator/workspace/xgboost-win64_release_1.4.0/src/learner.cc:1095: Starting in XGBoost 1.3.0, the default evaluation metric used with the objective 'multi:softprob' was changed from 'merror' to 'mlogloss'. Explicitly set eval_metric if you'd like to restore the old behavior.\n",
      "{'colsample_bytree': 0.6, 'gamma': 1, 'max_depth': 10, 'min_child_weight': 5, 'subsample': 1}\n",
      "6.395초\n"
     ]
    }
   ],
   "metadata": {
    "id": "ms9SyPtBep4Z"
   }
  },
  {
   "cell_type": "code",
   "execution_count": 91,
   "source": [
    "confusion_matrix(y_test, y_pred)\r\n",
    "\r\n",
    "sns.heatmap(confusion_matrix(y_test, y_pred), annot=True)\r\n",
    "plt.ylabel('Actual')\r\n",
    "plt.xlabel('Predicted')\r\n",
    "plt.show()"
   ],
   "outputs": [
    {
     "output_type": "display_data",
     "data": {
      "image/png": "[encoded data removed]",
      "text/plain": [
       "<Figure size 432x288 with 2 Axes>"
      ]
     },
     "metadata": {
      "needs_background": "light"
     }
    }
   ],
   "metadata": {
    "id": "8t2kWf_oep4Z"
   }
  },
  {
   "cell_type": "code",
   "execution_count": 92,
   "source": [
    "print(classification_report(y_test, y_pred))"
   ],
   "outputs": [
    {
     "output_type": "stream",
     "name": "stdout",
     "text": [
      "              precision    recall  f1-score   support\n",
      "\n",
      "           0       0.54      0.13      0.20       955\n",
      "           1       0.69      0.37      0.49      1851\n",
      "           2       0.72      0.95      0.82      5021\n",
      "\n",
      "    accuracy                           0.71      7827\n",
      "   macro avg       0.65      0.48      0.50      7827\n",
      "weighted avg       0.69      0.71      0.67      7827\n",
      "\n"
     ]
    }
   ],
   "metadata": {
    "id": "nT5l2WCzep4Z"
   }
  }
 ],
 "metadata": {
  "colab": {
   "collapsed_sections": [],
   "name": "32_프로젝트_모델학습및평가.ipynb",
   "provenance": []
  },
  "kernelspec": {
   "display_name": "Python 3",
   "language": "python",
   "name": "python3"
  },
  "language_info": {
   "codemirror_mode": {
    "name": "ipython",
    "version": 3
   },
   "file_extension": ".py",
   "mimetype": "text/x-python",
   "name": "python",
   "nbconvert_exporter": "python",
   "pygments_lexer": "ipython3",
   "version": "3.8.8"
  }
 },
 "nbformat": 4,
 "nbformat_minor": 4
}