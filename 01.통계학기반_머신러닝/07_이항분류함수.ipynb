{
  "nbformat": 4,
  "nbformat_minor": 0,
  "metadata": {
    "colab": {
      "name": "07_이항분류함수.ipynb",
      "provenance": [],
      "collapsed_sections": []
    },
    "kernelspec": {
      "name": "python3",
      "display_name": "Python 3"
    },
    "language_info": {
      "name": "python"
    }
  },
  "cells": [
    {
      "cell_type": "markdown",
      "metadata": {
        "id": "bnHkbrkJiGjk"
      },
      "source": [
        "# 이항분류함수\n",
        "- 머신러닝, 딥러닝은 y값에 따라 예측, 분류를 실행함\n",
        "- 예측 : y레이블(종속변수)의 결과가 한가지의 무한대의 숫자값\n",
        "- 분류(이항, 다항분류) : y레이블이 범주형 데이터인 경우 사용됨\n",
        "    - 이항분류 : y레이블(종속변수)의 결과가 두 가지의 분류 결과만 나옴\n",
        "    - 다항분류 : y레이블(종속변수)의 결과가 세 가지 이상의 분류가 나옴<br>\n",
        "<br>\n",
        "\n",
        "- 사이킷런 ML에서 참고\n",
        "    - 로지스틱(로짓)회귀분석에서 결과값이 0 또는 1로 나오게 하면 분류\n",
        "    - 로지스틱(로짓)회귀분석에서 결과값이 0~1사이로 나오게 하면 회귀\n",
        "\n",
        "- 로지스틱 회귀분석 모형<br>\n",
        "$ ln(\\frac{P}{1-P}) = a+bX $<br>\n",
        "<br>\n",
        "$\\frac{p}{1-P} = e^{a+bX}$<br>\n",
        "<br>\n",
        "$P = \\frac{e^{a+bX}}{1+e^{a+bX}}$"
      ]
    },
    {
      "cell_type": "code",
      "metadata": {
        "id": "tsPlcssciyzj"
      },
      "source": [
        "import pandas as pd\n",
        "import numpy as np\n",
        "import warnings\n",
        "warnings.filterwarnings('ignore')"
      ],
      "execution_count": 1,
      "outputs": []
    },
    {
      "cell_type": "code",
      "metadata": {
        "colab": {
          "base_uri": "https://localhost:8080/"
        },
        "id": "lRsnCk6xhYa3",
        "outputId": "be1a2942-d1ec-4f0a-9bad-4ee2d28bfef2"
      },
      "source": [
        "x = [12, 3, 4, 3]\n",
        "y = ['생존', '생존', '사망', '생존'] # y값을 숫자로 변환해야 함, unique명령을 사용하여 결과가 두 가지 경우만 나오는지 확인\n",
        "\n",
        "# 레벨인코딩 함수로 작업해도 됨, 단 레벨인코딩은 ㄱ,ㄴ,ㄷ 순서대로 0,1,..가 부여됨\n",
        "y_label = []\n",
        "for i in y:\n",
        "    if i=='생존':\n",
        "        y_label.append(1)\n",
        "    else:\n",
        "        y_label.append(0)\n",
        "print('\\n--테스트-실제값--- ')\n",
        "print(y_label)\n",
        "\n",
        "x = np.array(x)\n",
        "\n",
        "# x값을 넣었을 때 수식계산의 결과가 0과1사이에 나올 수 있도록 하는 여러가지 함수에서 골라서 사용함.\n",
        "\n",
        "y_hat = 1/(1+np.exp(-x)) # 시그모이드 함수 사용, w,b값을 계산하고, 0~1사이값이 나올 수 있는 계산식이어야 함(딥러닝)\n",
        "# 만약에 y_hat이 최종값이면 이 값을 0과 1로 제작해야만 실제 y값하고 비교가 가능 => 임계구역(사용자가 정의)이상인지 아닌지에 따라 0과 1로 다시 값을 부여\n",
        "y_hat_result = []\n",
        "for i in y_hat:\n",
        "    if i>0.5: # 0.5를 임계구역이라고 함. 임계구역은 사용자가 정함\n",
        "        y_hat_result.append(1)\n",
        "    else:\n",
        "        y_hat_result.append(0)\n",
        "print('---테스트-예측값--- ')\n",
        "y_hat_result"
      ],
      "execution_count": 2,
      "outputs": [
        {
          "output_type": "stream",
          "name": "stdout",
          "text": [
            "\n",
            "--테스트-실제값--- \n",
            "[1, 1, 0, 1]\n",
            "---테스트-예측값--- \n"
          ]
        },
        {
          "output_type": "execute_result",
          "data": {
            "text/plain": [
              "[1, 1, 1, 1]"
            ]
          },
          "metadata": {},
          "execution_count": 2
        }
      ]
    },
    {
      "cell_type": "markdown",
      "metadata": {
        "id": "T_VhxyNrkIx0"
      },
      "source": [
        "- 이항분류에서는 미리 자료값을 같은 범위로 만드는 스케일링을 진행하고 작업하는것을 권장함.\n",
        "- 이항분류에서는 실제값하고 예측값하고의 일치율을 계산함.(4가지 경우를 계산)\n",
        "    - y값이 1, y예측값이 1\n",
        "    - y값이 1, y예측값이 0\n",
        "    - y값이 0, y예측값이 1\n",
        "    - y값이 0, y예측값이 0\n",
        "\n",
        "- 이원분류표\n",
        "\n",
        "|||y예측(Predicted)||\n",
        "|------|---|---||\n",
        "|||1(True)|0(False)|\n",
        "|y(Observed)|1(True)|TT(TP)|TF(FN)|\n",
        "||0(False)|FT(FP)|FF(TN)|\n"
      ]
    },
    {
      "cell_type": "code",
      "metadata": {
        "colab": {
          "base_uri": "https://localhost:8080/"
        },
        "id": "AgHqAAmGqsnG",
        "outputId": "9a56b1a3-772b-416d-9aaf-7768edde26e3"
      },
      "source": [
        "def sigmoid(x):\n",
        "    return 1/(1+np.exp(-x))\n",
        "\n",
        "x = [12,3,4,3]\n",
        "sigmoid(np.array(x))"
      ],
      "execution_count": 6,
      "outputs": [
        {
          "output_type": "execute_result",
          "data": {
            "text/plain": [
              "array([0.99999386, 0.95257413, 0.98201379, 0.95257413])"
            ]
          },
          "metadata": {},
          "execution_count": 6
        }
      ]
    },
    {
      "cell_type": "code",
      "metadata": {
        "colab": {
          "base_uri": "https://localhost:8080/",
          "height": 35
        },
        "id": "H6g3R5D3rGcy",
        "outputId": "72770488-063c-46cf-8c62-1c49da3cdcbc"
      },
      "source": [
        "# 참고\n",
        "# argmax : 자료 중 가장 큰 값이 있는 위치값 리턴\n",
        "# 예를들어서 y_hat이 선호색상에 대한 거라면\n",
        "\n",
        "a=[0.00003, 0.000007, 0.00002, 0.99999, 0.00002]\n",
        "y_hat_label=['빨강','파랑','초록','검정','흰색']\n",
        "y_hat_label[np.argmax(a)]"
      ],
      "execution_count": 9,
      "outputs": [
        {
          "output_type": "execute_result",
          "data": {
            "application/vnd.google.colaboratory.intrinsic+json": {
              "type": "string"
            },
            "text/plain": [
              "'검정'"
            ]
          },
          "metadata": {},
          "execution_count": 9
        }
      ]
    },
    {
      "cell_type": "markdown",
      "metadata": {
        "id": "vJKR0UMmvRjA"
      },
      "source": [
        "## 로지스틱 회귀분석\n",
        "- https://wikidocs.net/41256"
      ]
    },
    {
      "cell_type": "code",
      "metadata": {
        "id": "PoSwZg19rPp8"
      },
      "source": [
        "from sklearn.model_selection import train_test_split\n",
        "from sklearn.linear_model import LogisticRegression\n",
        "from sklearn.metrics import accuracy_score\n",
        "\n",
        "# 데이터 로드\n",
        "x_data = np.array([\n",
        "    [2, 1],\n",
        "    [3, 2],\n",
        "    [3, 4],\n",
        "    [5, 5],\n",
        "    [7, 5],\n",
        "    [2, 5],\n",
        "    [8, 9],\n",
        "    [9, 10],\n",
        "    [6, 12],\n",
        "    [9, 2],\n",
        "    [6, 10],\n",
        "    [2, 4]\n",
        "])\n",
        "y_data = np.array([0, 0, 0, 1, 1, 0, 1, 1, 1, 1, 1, 0])\n",
        "\n",
        "labels = ['fail', 'pass']"
      ],
      "execution_count": 6,
      "outputs": []
    },
    {
      "cell_type": "markdown",
      "metadata": {
        "id": "kcmsOc16v92a"
      },
      "source": [
        "- 모델 분석"
      ]
    },
    {
      "cell_type": "code",
      "metadata": {
        "id": "iU2t_-HfvujU"
      },
      "source": [
        "# 데이터 전처리\n",
        "x_train, x_test, y_train, y_test = train_test_split(\n",
        "    x_data, y_data, test_size=0.3, random_state=777, stratify=y_data)"
      ],
      "execution_count": 7,
      "outputs": []
    },
    {
      "cell_type": "code",
      "metadata": {
        "colab": {
          "base_uri": "https://localhost:8080/"
        },
        "id": "KC1Imauhv7BO",
        "outputId": "c51288a6-c78a-4446-a06f-cd1bcc74a178"
      },
      "source": [
        "# 모델 생성\n",
        "model = LogisticRegression()\n",
        "\n",
        "# 모델 학습\n",
        "model.fit(x_train,y_train)\n",
        "\n",
        "# 모델 예측 및 검증\n",
        "y_predict = model.predict(x_test)\n",
        "\n",
        "print('---테스트-예측값--- ')\n",
        "print(y_predict)  \n",
        "\n",
        "\n",
        "print('\\n--테스트-실제값--- ')\n",
        "print(y_test)  \n",
        "\n",
        "\n",
        "print('\\n--테스트데이터 정확도--- ')\n",
        "print(accuracy_score(y_test, y_predict))"
      ],
      "execution_count": 9,
      "outputs": [
        {
          "output_type": "stream",
          "name": "stdout",
          "text": [
            "---테스트-예측값--- \n",
            "[1 1 0 0]\n",
            "\n",
            "--테스트-실제값--- \n",
            "[1 1 0 0]\n",
            "\n",
            "--테스트데이터 정확도--- \n",
            "1.0\n"
          ]
        }
      ]
    },
    {
      "cell_type": "code",
      "metadata": {
        "colab": {
          "base_uri": "https://localhost:8080/"
        },
        "id": "GdYvq6oxxuRy",
        "outputId": "acb6256c-08ef-4187-d3eb-1935f24167ab"
      },
      "source": [
        "y_predict = model.predict_proba(x_test) # predict_proba() 함수 : 데이터의 class가 아닌 예측된 확률을 얻고자 할 때 사용\n",
        "print(y_predict) # fail일 확률과 pass일 확률을 출력\n",
        "\n",
        "print('\\n\\n--xtest값--')\n",
        "print(x_test)\n",
        "\n",
        "print('\\n\\n--- 각 테스트값별 예측확률 ---')\n",
        "for i in y_predict:\n",
        "    confidence = i[i.argmax()]\n",
        "    print(labels[i.argmax()], confidence)"
      ],
      "execution_count": 10,
      "outputs": [
        {
          "output_type": "stream",
          "name": "stdout",
          "text": [
            "[[0.05673462 0.94326538]\n",
            " [0.00178778 0.99821222]\n",
            " [0.7669244  0.2330756 ]\n",
            " [0.72356384 0.27643616]]\n",
            "\n",
            "\n",
            "--xtest값--\n",
            "[[ 9  2]\n",
            " [ 6 12]\n",
            " [ 2  5]\n",
            " [ 3  4]]\n",
            "\n",
            "\n",
            "--- 각 테스트값별 예측확률 ---\n",
            "pass 0.9432653818069607\n",
            "pass 0.9982122197312248\n",
            "fail 0.7669243991624365\n",
            "fail 0.7235638361674344\n"
          ]
        }
      ]
    },
    {
      "cell_type": "code",
      "metadata": {
        "id": "8f8uKIqT4E-A"
      },
      "source": [
        "from sklearn import metrics\n",
        "#print(metrics.SCORERS)"
      ],
      "execution_count": null,
      "outputs": []
    },
    {
      "cell_type": "markdown",
      "metadata": {
        "id": "ICk5eN0B9E89"
      },
      "source": [
        "## 이항분류의 평가분류지표 : 혼합 행렬(혼돈 행렬)\n",
        "- https://wikidocs.net/45729\n",
        "- 혼합행렬은 다항분류도 가능함\n",
        "- 아래의 왼쪽이미지는 이 작업에서 표현한 히트맵이며 이 히트맵을 기준으로 아래의 정확도, 재현율이 계산되었음.\n",
        "- 하지만 직접 계산하지 않아도됨, 사이킷런 패키지에서 제공하는 모듈이 있음(분류분석 보고서)\n",
        "    - True Positive(TP) : 실제 True인 정답을 True라고 예측 (정답)\n",
        "    - False Positive(FP) : 실제 False인 정답을 True라고 예측 (오답)\n",
        "    - False Negative(FN) : 실제 True인 정답을 False라고 예측 (오답)\n",
        "    - True Negative(TN) : 실제 False인 정답을 False라고 예측 (정답)\n",
        "![제목 없음.png](data:image/png;base64,iVBORw0KGgoAAAANSUhEUgAAA50AAAFoCAIAAABbjgieAAAAAXNSR0IArs4c6QAAAARnQU1BAACxjwv8YQUAAAAJcEhZcwAAFiUAABYlAUlSJPAAAP+lSURBVHhe7J0FYNbG38cfd6u7G4Xi7g5jwIDBmDFjwsZ8/wnvhBnbmG9MGDPc3d2dUqWl1N3lcc+T5/1dkpZSWigMqN2HNNxdLpdL7pJ8755f7thOp5OFwWAwGAwGg8G0cTjM/xgMBoPBYDAYTFsG61oMBoPBYDAYTHsA61oMBoPBYDAYTHsA61oMBoPBYDAYTHsA61oMBoPBYDAYTHsA61oMBoPBYDAYTHsAj/PVXHQmu1ldrrVK3bwVbhIuhGiqKyu0VhZLqPRw9ZKjkDp0JrO+rNrI+FAUTxeJitpLp9erK9FuDBKZ0GSAVCO9xEwIBoPBYDAYDObWwbq2uVSVJax+/elVxc//euCl/hIuKNe8pc9O+f48i9V/3p5lczoJmHgslrqqolwd99f0T88p6ECbLuyN7YsfCpVwq8oKqnJ3f/ny6mwJ1VNOmmqGPzn++Ir9Qz/f887oEPeriWAwGAwGg8Fgbglsh9AsdHrt+e9nLMl+7jdK1KIga+yy78+LXd3krPOHTharTQ4qIkunrkpZ+/qEhxbEPv/X6VMnYNl74K/ZHjLYR11Zeuz7kQ++us5j/lZm07pP7vcd+dm6T0bvf+XdtXmVtYlgMBgMBoPBYG6Ve91fqzPZ9BXmMhvlEfBCPEWuzK/zxtJSwkAF14XravSZVSQdxpIJIkQE8soEvX3RT/Y1FbpcjdPNXRbsyq0o0RYaWG7uAlaVrZranWcx1e1Lx6HddEwaNyWnWkvWzwadpkwljvK8putUffmf5yf95P7dkT8e9KBDKg+82+/FveO/Wxj6+WuLw9/YsmRuT+oQdLj762tjX4+hY9LAiResenLywozJP+1f9ACTSB0Xvu/18G9jFp1dMNkLd9liMBgMBoPB3A73VNeCttOVlRxcmfVTIYtlMV6RuG+b33OCv0RXo7uSdunDhTUlXmLQhmZ3xZ75vV31hqyzF4eusHRyFbJYhK5HUFKvco9PalgToq1vRkNqWRt3d/nL+v4nUz4exD3845b797KenxvK+j3nryj/1E871SQkP7/WgnYsN018dvS8UTIFz6ErMx5YdXR+hsJNBFvMD0/wWra+KN/d6/TCAX1cuZC93A0H+m12PvfywN/uc6fzDOhM1vyVTz7wi9c3e398KIBS4bqaY5/0ff3ARAgJ3th/5q/qBxYn/zxeCjFjv+r83OqxXx7/7VEqZh06U+H6J0d8eeXFtRfeGkD3+NZDF/fz8IcWhX50bPMzAUwQBoPBYDCYdsHMmTOzsrK6desmFApjY2P79u0Lgfn5+RUVFdu3b09OTl6xYkVmZmbPnj1JkiwtLe3Tp8+cOXMCArAkuGXusR2C/sL6AuWzI5P+HnPyf25eeeVTV+fWmKyas7FDP63I7huyaxHatHykhMeyZm89OfR3Q+jUaBR5Ud/vI0Dd3oS/VpWcDVHG+Ep4+ekvFfvSO34dw/7r95O7y0Evl/678OhLyaL3/0dlYEFIp8jey8dzWXnl/8ZT33GZS7efsSliAt4Z5kKlV0fFuYMXWb0H9XZj/ETB5uXbWNIR4/q7saKGP+nKYu3Yd6EcWRFU5KTB9gD/2phXIQpy4lms3gGejP9aokfMkLLiswtqsCkCBoPBYDDti4SEhMWLFy9btuypp57S6XTvvffekiVLPv30U5C5IF4nTpwIklcgEPzzzz9Lly7dvXt3cXHx/PnzmZ0xt8I91bUKidvAx7q412hOJFcncqX3Q1CRsYZVtXeblsUSfTY7OpjqyBw4PsbVnrN5i40lcvlzRhC944PjQ1ESN8RnXHTcktFx/xfjGtppaQ8lOkoWSxjAZ7FsZZUs+6XsL/JYypERc3uioyj8Yx7sye3S3ytIxPrnVFapyWGMz/wijzd9ZACdjXqUF4EkrUVnshadPAABkYGy4tSUVNJ7IIRu33FaTSAb2gzwWK12Kmp9dBVVsDZYaROM6/Dy78ViFRZqGC8Gg8FgMJj2QGJi4uOPP96/f39wJycnK5XK0FAkaXx9fbt3705FQX23dW4ul9uvX79z587RXswtcU91bXVJ9dZ/j49dcOG9P5Pf+7NsPxNsqimHtdBVTnspDNZiWHsJXGlv83gmJhDWOpOxLD7pzbdPvPAbHCV5wRlGYxqowbW6qiS0lyEy4ttePNaZivMmy/lTOpWn19NDVMymqwiE9fNmzNh5MF7u35k4s+irLz796ot1Bd3C3Vk7Vm7PJ1i+nUYoWKzL5zOujvHF4BoV7YGabKk112tewGbVg7YX8RgvBoPBYDCY9kCPHj0++eQT2g0at06/BgQE/P7777Qb9G5dOFBdXS0W49E/b4d7qmvVp8+9eZblOjz87K8jd/2f9xgm2C2yK2TDeDrLDB6dyZKbo7W7uPVygfaLIUGNVKDOZLiSY2AJOEjmqu0lJgeEVJbXflLWkIK1X1WcYonnzx+2/5u+iwYwWtElWOHPYp1Kr8jVot/6dZXqK5UOhcRt5DQ3f5Zu96Eru89yJj8ecb3xK4vlFw1qVafRUYrUeOGvvxNZA15btmPbFnpZteanxzxZiQePFNhd+tw/NUCR8PeKnYmFFmpfyLwu7VK5nRU14oUoT9bOlStPplXUDp6gLU/M1CGXvSA7kaUIDw1s5OgYDAaDuYvMnDmzZ8+eTz/99Jw5c3r16gVr4L777gN3YWHh7t27H374YXA/++yzzzzzDIR/+OGHRUVFzM4YzK2QlJQEMpfxgAjjIBlWUFBQVVVVX9fGxcUNHz6c8WBuhXuqa/mu8ggJK8rh3BdbHnem8hgTrOwzymtQkPPbbekQfia14K/16WpWwOBpbn18DH9vLqAC07/dXsjy8Zjlw2Gdq9iQWnUmNft4bFOmqGL/INCyvIqSa6NF+L3fRRmRXPTX+SqU5sG49ZlM+Ns+nBX/5q9wlU/ppqSCrgG0b58xo5RJB47l2XWaspN7drNY3p3Dr3brKiTRg6crWUkHtqcZVMNeeW9Gv+6p33+84ujRE2dhibu47efvjmpZrPBHf3iuTz/rzhd/3nGB2XT034/XIcMFe96lKyzl8E5+dIIYDAaDuWckJiYuWbLklmwfQdoyO2MwzQaaQ5WVlfX1Kw2IXVjXhf/4449qtfqNN96gvZhbglvXN34P4HjLI2uMFwqNZ1KryR4+D+jY2hCXB3u7BUUFPhhiPncRhZ9JNRa7o8DOPUPGqjQ7L+qoQLs22v35geGdVJpEHTsDhQimzBSV6ERD+wX09OJUF1ZlElLaLeSrwiG1MkeDaAP8XcOHqSJr9JsTILz6TCmvLr4Lkf17vLPTQ11+HNLgizEGtoxfc3zjWWuPoZFlJ3ZV8f0ffXx2Vx/+1VYBadRerqypcun9eN+AyGEzBvtojx44FHcxllqyLZ2H3Dcg2FPi2fuhGV14sYcP0uGxcamV/N5jx0XyLi/7YXH50Ndfuy9CcU9bGhgMBtPBAVHL5/Mff/xxcINmTU1NnTdvHridTmdmZuakSZPAvWrVKm9v78mTJ4Obw+GUlpZu3rz5lVdeAS8G03xOnTq1d+/e+fPni0QiJohi48aN6RQrV65cvXq1v7//Z599BmtmM+ZWwPONITuBpCXHx8RKt343/H7fJs0ACg9+//Jnp7q/+ulT47qEq+6YtYDOpM47veWXeRs1byza+EQkE4rBYDCYe86LL75os9n+/fdf2kuSJP0z8YABA5588sm5c+fS4QsWLABdm5CQQHsxmGby5ZdfHj169ODBg4y/lhkzZoSFhX399deMH/Mf6NC9gzp1zckTJQcvpv95UTh2evgNRC0QMPZ/n7/omr/ncLaJCblDVCasPmN95P9+nB7GBGAwGAymJWi+7eOIESMYDwbTbBp8HEbjdDobVDzMf6Fj/+ptqTp2IG/FAbtueqdd09FYCjem++P/rFj25vgbyt9bRSGJfGrZPyveGe6PvxjDYDCYluOWbB/ffPNN2ovBNJ9G9WtiYiJIW6xr7xQdWtcqfCI/WjBoOywP3lzUYjAYDKYdk5ycDOtGda1YLH7nnXcefvjhqVOnEgSxdu3awED81sDcGhcuXLDb7dfXHAiHNT2iLea/07H7azEYDAaDoUhMTAwJCVGpGg5hDuH333//4sWL169fv23bNhC4Pj4+zDbMneCHH34YOHDgc88916i3fXD8+PFffvlFoVCcPHkyPT2dCWWxtm7dunTpUghfvXo1E4T5b+DvxjAYDAaDYT3yyCP+/v7fffcd46eAV2RkZORnn3326KOPMkHtl6NHj/7+++8bN26kvbt3716xYkVmZmbPnj3BW1BQ0LVr11dffRXUPx3hDjJq1KipU6e+9tprdd6wsDCRSARakA7BYJoJ1rX3gtPn6s3D2xieXl6xF84b9DoOhwv/AIIgJBJJl5hu3btEMJH+AzfNgIeHZ0rKJY26RiqVRnXq3KMrMzLDkr+WyeRysVhsMpl69OgVE93efii56ZUZPKDXlu17SdJhRVhIB6lQqlxdXeCKdY+5A+NX3GLRRPfoGkWHQ9FIIEgqba9Fg8HcY6Kjoz/44INZs2YxfoqEhISHHnpo586dsJUJaqeAGBg3btw333xDq1iaBQsWwLmfP3+e9s6fPz8+Pn7Xrl20904B77uoqKh//vmH/hqvzrtmzZqxY8fC9aejYTDNAevae8Frb7xts1k8PL0UcgVB2E+dPNG1W3dPTy/YdPHiBXDMeuLpNatXHDl08PLl1Psm3O/r52+1WM0Wk7u7x8RJUyaM+68f3kIGzCajt4+Pq6tbeXnZpeSkIUOHQclDazjlUjJkbPqMmXt271y9eoW7q2ufvgM+/uwLdxWawe/xJ54qKy0Fh39A4NPPPDdy2AAqvfbDe//3kVar9vLyVqlcnCzn4YMHoGgUCiWfz8/Pz+PxeJ989uVPP3ybEH/x7NnTAwYMcnV19/H1lctlpaWlE+6fdP/4UUxCtwtdNF7egE9RUSEUzeix41jUTYnqhofXY7OehKJZu2alq4tLtx69Pvzo0wBfN9gKRaPTaivKyzt17tIuiwaDuZfExsY++uij//7777Bhw5ggiiVLlnz77bepqalCoZAJaqd899130HYHZc/4KZ5//nk2m/3nn3/S3j179rz22msnTpzw9fWlQ+4IoJVBvF64cMHNDT3c6rx6vX7q1KmJiYl0NAymOWD72ntBTk6WWCzp27f/4KHDg0NCQaaIROJhw0fC4unlXZCf16dnlx+++3rCxEl2u+35OXMXfvPDj4t+A8WTl5f78Uf/V1BSySTUBL/8xjx0mqKosMDXzw8yMHT4SPBCBoJDwgYNGjJ0+AgHSVZXV/Xr3fWNt94JDwsfMmz49u2bL8YiM3bgt8V/T35gqo+P3/sfzm+XysnhIDgcbt9+A+DKREREwZWBxt6gwUOHDhsREhqWmZGukvE/mf9+dOeYyooKKJqffvn9qy8+nfzAgzqdDoomLTOfSagJblo0ebk5UDS9+/QbMWoMSFvIAGSjrm6kp6fRRRPducuQYSO2bNqwe9cOekcominTpvMFgvZaNBjMPeP48eOLFi3q4LaPe/fuvf/++xlPLcnJyd26dWM8LBa052Ht4eFBe+8USUlJAQEBtKit7w0ODo6OjgYxTYdjMM0B69q7jsZgz8pMnzL1wQcmjhvUr4dcLodA/4AA0LKwvPPu/yUnJUIcCKT7zqFxDFoKFog8bdqM2Avnzp05gxJqmvfeudGIM5B4YWH+s8+/+MCk8X16dKYDIRsjhg3o2zNmxsyHL8ai35jgiBaLZdDgYQEBgT9+/3VSKpplGALDIyLdPdyjwtrnx79VlZXTHpwxacIYuDJsNgqBUhgxtP+Avt0fefTxhPi464sGHF07hz008xFQ/xs3rEX7NM1rr8yhU2gU2JSYEPfscy9Oe2BCTKfQ8AhkcwJHqasb0LCBOPRBhw4bGRkV9dsvP506GwdeCORxeR6enu21aNoZR48erf9z6u7dux9++OFevXo9++yzzzzzzH333ffhhx8WFhYym+8EkOzrr7/OeJqgOXGaYu3ata+++irjaeMMHz585cqV8fHxH3zwQVQUY+oDTJs27dy5cxA+e/ZsJqidEhcXx+fz61sgAPTAvfV1LTQAHnjgAYhJe/ft2/fEE0+8+eabU6dOpT/qp9mwYcPMmTPffffdwYMHf/vtt0woi/XHH39AtX/77beh5gMQjQ4HIVt/GIr63okTJzZT1xYXFxfVo87LbMZ0GLCuveuA/ujXf2B0dBfGz0Lqydvbm/ZIpbJu3XvSwoWmvmWIxWqBtU6no71NIZVKGVdjGA2GHj17KxRKxn8tffr0B+VKu0HXWq3Wt96el3Ip+a8lvxeWVtPhpMNBO9ofXt7effvVdXZSwrYWKJqBg4Y0VTT5+Xmwrq6qor23ByTevUdPhbLxooEMjB4zls4Ah8MBvQtFU1NT/e03X2bk4Id1WwJqzpdffvn+++8zfuptDXJBIBD8888/S5cuBZkLr+H58+czm+8E8JDp06cP42mC5sRpikcffRQeF5s2bWL8mLZMo/MFgL6ENR1eXl7+0UcfCYXCOkMFEKxbtmyB9sCPP/4YGBgI7Rw6/P/+7/8yMzNBs37zzTega7t27UqHv/LKK1qtdv369d999917770H77XevXvTmxr0Ctf3QhzQ3LT7xjz55JOguYHJkyfDetKkSbD+4osvmM2YDgPWtfeCN99618sdddNeD6iWDz/+jPHUI7+46sTp2J3bt0Z1ih45agwT2hgag91mszGexiAcjrkvv1Zfn9XHx0Px/oef0G6z2Wy1WkaPGffIY7M2rFu9Y/tWOtxBtltd+8ijs5q6MhD+wfxPGU89Siu1CZfS9+zaEREZ+dQzNxqJ5gY9tXV8tmDhDTIw+7kXabeAz2ezWXTR7N+7e8P6NRDIpsQuHQHTmvn+++9HjBjRoDMsPz+/Tklwudx+/fqdO3eO9t4RvvrqqyeeeILxNEFz4twAUOqff/4548G0ZUC21vW21AG61t/fH4QsSMbx48ePGTPmr7/+oq0FTp06tWzZsp9//pmOWV1dHRQUBA5ooUE1rtO+CxcuvO+++8Dx559/Zmdng5ylwx0Oh6ura1gYmmUT9i0oKKgTsg28kKvKyptY4tEcPnw4niIhIaFuvXjxYmYzpsOAvxu71+zae2jy/WN37jkwacJYJqiWee9/9PVXC3746Vcuj1deVqZRqzlcTq9efZ556jEmRmOAeAJtWlqpa0oeNYA+ys49BydNaCiXO0V3fuvt91549qmk1MxXXnoOni8//vy7w0Fs37ZlyeJfmUjtF7po3p334ddfNXxVv/d/H32zcMHvS/4JCQk1GAyFhQVlJSWga5+b/SQTozGgaFzkghqdzUXerKLZtffg5PvHNVo0Tz41e+Yjj0E4XTQlJSW///FPTU311s0baY2Lac2MHj36u+++a6BrBwwYAHJh7ty5tHfBggVbtmyBNzHtbSs88sgjcBbX22Vi2hZvvvkmtKwajGU2Y8YMkJ5ff/01uJ955hlQotBCozc9/vjjUVFR8+fPz8zM3Lp1a2pq6m+//SaTyUD+Tpo06XoDFVC3EydOrAv/8MMP4f1Ci84jR4688MILdV/mNfACnTt3Pnr0qJcX+tL67rF58+bi4mLG097x8/ObPn0642l34P7aVofdbtdptTw+r3uPnm/+771GRe2nn3351dfff//jokW/Llm7egWHw1n00/dffvXtwm9++Pb7n0EZM/FuEavVAgs4uneJeO//PrSYzT98txASh7Y1HaGD4yAIuD58Pj80NPz1t95uVNT+/e+K735Y9PW3P3658LtffkLvgF9+vgNFU2fQhopm3odOkoSiEVDQ4ZhWS6OWi4WFhVVVVfV/+YVow4cPB3EwbNgwEA1Op/OTTz4B98cff8zEuNacsW7oJWDDteaMdCKQGrOZxfr3339Bl7zxxhtjx4793//+ByEQByLQwyrVAdHg0K+88gqsL1++TAfSMefMmQPuTz/9dOjQobSbBkRMM80faWPH62E2Y1oUqKINfveDGphUb9JXqFpQ/eiOMKvVCtVPrVZ/9tlnEAiVavny5SBqLRZLdnY26GN6lzpAwmZlZdWfJ/bQoUP1jRA6depUp2IbeAHIWN0D8AZA65E224V7rW790ksvMZsxHQeopph7yc49B+Gy79xzgPHXA6QkbNqxu5FNDXj73fc/+OjTzxZ8BWrp+x9/CY+IfHfeh+9/+PFHH3/+yWdfLvjyayZeY9BHgWww/np4+/iA9mI8Tuenn3+lVKq+/+nXZ559gQlq19BFA1eS8dcDAptZNIt+WwLXbf4nC97/6JP3/u8j/4DAd+d90MyigVrRVNG8+NIrO3dfDaeL5uvvfnpm9vNMEKa1AmIRFCfjqWXHjh1hYWF6vZ72/vDDD6Ad8/LywP3cc8/9/vvvTz75ZHp6OijRzZs303G++eab559nivvVV18FdUu7582bt2DBAtr9zjvv7N27FxwQE/alA/fv3//II4/Q7i1btvzxxx+0+4UXXqhLBHj66achG7QbpCroV9oNgCaGs4AslZSUxMbGQs5BhdOb0tLSBgwYQLtvzKhRo0BqAKBvaAfw4osvMpsxLcp33323cOFCxkMRHx8PBQ3lS3vPnTsHXhCd4E5MTAQ3tM3oTYDBYIB1fn4+hEO9pQPrgETq9gW+//578EL6tBcqHtRh2g008JaVlUVFRTGeGwJtJMgSQDvqvMxmTIcB69p7zR3RtfVR622DBg+FNeO/GTfQtSqVy+dfXBVeaZn5902Y2KNnb6xrm69r60MXTY3Oyvhvxg107Wuv/29HPV1bVzQvvPgyE4RprXz11Vd1erGOzz//PCYmBlTdzJkzp0yZApoVJCO9aciQIaAj7XY77aU5efJkly5dTCYT7X3sscd+/PFHcOzatWvEiBF0IOBwOGgHqNKVK1fS7iVLlkycOLFBgsCwYcPq4vz888/gpd0ALURyc3NpL2Tp5ZdfphPPycmBTZmZmfQmtVoNXtqNabusWrWqriFEA+0fKFmrlXl8gQO80OICt9Fo7Nu377p168BdWVm5YsWK9957j4rlHDRo0D///AMOEJTQ3Pr777/BDTUH9qXd0ECiJTJJkmgHpxOaN0uXLqXdQAMvaOj6NRODuSnYvvbecS4WfVualZXxxGMzV67Z0LVbD2hV0HNWJV/OgoJYu3rl1199/uvvf/bu03dA36s/2dyUwUOGnT51gvE0DT10F32UFas3dOsOGWB1j0FjSyWnorfUgL7d//fO/01/6OGetZNaHTxy6oVnnxw5euy/fy+hQ9olTNFkZjzx+Mx353302Cz0JU3dTG9w3dasWvnNwtssmt37Dt/U9Ll+3agtmtq6gYqG9dOP33Tu0nXM2PENimbylAcX/XTNtJ+Y1sZbb70FIuAGlov1KSoqAp0KyqC+FQFwvTnjr7/+KpfLx40bN3ny5AbmjCCRQdfu2LEDpDB4QYWADgZtAWIaRENdHJAL27dvp+OMHj0atC9kld564sSJ2bNnx8bGuri40Fn67bffxo8fD5v279//zjvvJCcn0zGBe2P+uGjRIsbVrulPwXjuIXl5eQ899BCUOO2FOrZw4UJoC0HVglYWHfjEE09AxZs7d+5zzz13/vx5aK3l5+cHBAQ8/fTTUHnoOMeOHYOaCbUrMjISqhDUMTocdDM0otzd3aHyFBQUfPLJJ5AIJAVtp+nTp8MNMm3atPvuuw9aTXBr1Hlhx59++gnaTp9+2sgnvBhMo7Rt+9rtu/b//MsfjOc6NAZ7bHzKP8tWvf3u/735v3d/XPQbhCz+89+klAwmBhXnyImzi35b8tbb8z75/KvDx05DyFtvM99s3llOnjh24vjR/Py84SNGwRrcJ04cozcVFuQfOXTAYNDHxHSLi7u4eRMzqt+dBR3x+FEWywkZKKAycPIEeBEFBfkHD+yFo5eWlmzeuJ4OBMaOGjLryWdkMhnjb6fULxo221l7oRBQH44ePmg0GmK63sWioTNQkJ9fVzR1dQOKBrwWiyUhPm7TxnV0IABFM+elV+pboWFaJzwe73rLxcTExPrmhnXExcXB7dZA1DZqzgiitilzxosXL4rFYlqwAlKpFPQraAUQLnVWufXjgAoBgQIR6E0A6BvQKyBqwU1niRa1AOzY4Ii3Z/5Ig80fWwnBwcGhoaEHD6LfrACQlVBV4uPj60QtAMIUQkCPghvE9/r168+dO7dx48Y6UQtAE2jTpk1nzpxZtmxZnagFZs2aBS2i1atXQ7V/4IEHIB36i8mQkBBwL1myhFaxkIf6XmD37t34q0TMLdG2+2tnPvxYcnLiqbNx9KSv9Smr1G3atGH/vt1BgcHuHu5cLu/okUMT7p/0+68///L7n/T35gUl1du2bDx65HB4RIRSqYL3RGVFuclk/vGHb9R6WzOHF2g+Bw430qU6bjS68y9n5OXl5tjg9WWjzAlYzkcfmkZHaA7+/gFFRTcf0f1GGUjPzcnOstsJq83a4OiwqaioaNzooYy/PXKDKwPsPXAUlYzVRjrJ2yialCs5N61LNy4aKFyj0Uj/IPjozKtHzy0oz8rKGDuqPRdNO+D7778nCKJuhCMgISFhxowZu3btio6OZoJq+fjjj0FigiZg/BRJSUnTp08/evQoaE06BOoDqNWCgoKRI0fu3bs3MpIZgpoGEsnNzV2xYgW4NRqNSqWiw2fPng0p0F1fECcvLw/0MbgzMzMnTJgA6URQM4MAIKxB0Dz99NPgbpClyZMnT5o0qe7TsYqKCpAvV65cob03AB4jtIMNbcd67x1/f3/GhWlR1q1bd+rUqV9/bUVD3xw6dOiPP/7AYyRjbg2kotom5+Mu9e3XXyKRnj7HfMFQn0W/LgkKDnnnvfePnjhbpTFDyNr1W59/AfUN1NkvLvjym7CwiJ9+WRyXxJjG79l/5IEpD0Kc5purtga++vp7xoVpZeCiwaxcufJ6y8XQ0FCLxcL46zFx4kTacLY+9c0Zq6qq6pszDhw48HpzRtCd3377LbXdOXfu3MuXL9Puxx9/HIQs7a4fBxgyZAj9wRnw008/gaKl3UD9LIGKDQsLO3nyJO0FQHNj88d2w8svv7x+/XrG09LY7XZotkEFY/wYTPNow3YIR48cio7u4iAdB/fvY4JquZiY+svP3/v4+L7+xtsjhg5wU4og8JGZUx9+9HE+nxkXadPWXUv++K1f/wGvv/Jir26d6MAJ40bOeuIp2t2GmPcuYxWHaW3gosEMHjz41KlTjIeyXFy6dKlCoVi9ejUTVItery8pKbnePkEikfzyyy9btmwZMGDAiy++6OrqunDhQnrTl19+uWfPnkGDBn344YdDhw599tlnIZHi4uKUlJQdO3ZABJFI9Oabb7711lszZ84cNWrUk0+iwenoOKmpqdu3b6eSQXNHgVwGWfPYY48JhULQx3R4gyydPXsWcg66Nicnhw45cuRIg8HCMG2Xjz76CFpB5eXljL9F+eKLLx566KH685Dde+Cu6dWrFzTz5syZAw5YA/fddx+4oSV5D2bDvh446KOPPlqXGWDGjBngPXPmzK5du2g3tJyZ2JT1CIQ8//zzcL8zQe0eRt+2Qe6fOHnnnkNDhg7v229AaaWOCaVY/Oe/cGqffv4V46+lssbYb8BAur/26dnPQ5yt25kuijpyCsogvG3112IwmNYMvB0PHLi1wTTaCqNHjz537hzjwWDaFxEREXT1Pn36dFhYWHZ2NrghpG5suwULFvTv3592EwQBCrj+bx13ifnz50NrmfE4nTqdDvJG//7zwQcfvPTSS1OnTqU30QwfPjy+dlS1jkBb7a9Nzy5KTEjo3afvA1OmpVxKio+/yGygSE5KhPXAQUNobx3uLpKP5n8WGRmlMdgT49GU05FRzNfldYQEeP386x/XG0TGJV6+eP2SULd0mJZQYzS8LPRSe3FiO/bFwWCmTZtW1zPanjh06JBKpWqR7/cxmLtNYmLiY489Rlfv5ORkpVIZGhoKbl9f37oZVfL/22zYKRSMp9nk5eX16tWL8bBYcrn89ddfp78hLiwsBGF96dKlul9UQOdVVVXVDYTSEWiruvbM6ZNdu3Xz8VAMHjLMarMdOnCNKUIx9RFVUFAw7a3PpAljIsPQtxeVlRWw9vDwpIKv4bWXr86mU0dpWUlpafHVpYRal9UtJUy8Dsk1V6Zuqbs4pR1lckIMplEeeeQRWG/YcFcG02gpCIL48ssv60+HhsG0J3r06PHJJ5/QbtC4dfo1ICDg999/p92gd+vPGlhdXS0WN/yK/Qb89ddf9Y2UmklSUlKdrqXHWqkb6Q8ULWhraG3u37+fDqmf8w5CWx0PYcrU6QaDfvTY8WKRaNmyfzgs9oHDJzxcpfTWxx5/cu2aledik/v36UqH1PHtD4v69Ok3ctiAocNGnDp5vNFxD5b8tXTO81cHN6HJzL1GnMF1Y7PZjIciIsSPcdXj0NFT27ZuZjxtn65du895Hn0i3YAGFwcuD1Qtxkldq8jQRj55/u7HX/JymTYlpq3z66IfGRemMcrLyxcvXvzSSy/d7XFe7xmffvqpp6dnyw7UNXPmzKysrG7dugmFwtjYWHqosvz8/IqKiu3bt4PmWLFiRWZmZs+ePUmSLC0t7dOnz5w5c+qGlbgb7N69e9WqVenp6XXjpoHWycnJ+fXXX9Vq9fX5efHFF/GIEK2fgQMHPvroo6+99hrjpygoKBg1atTy5csHDx5Mh0ybNi04OPjHH5v7MHz99dejo6OhDjD+ZpCRkXH//fdv2bKFtjyGDBw5coTeBPfCvHnzNm3a9Pbbb4N727ZtELhs2bLKysp33nmHjtMRaJO6Niklc+Sw/g/NfFQilQYGBkGZ/fj9Nzv3HBgzkjE8eOOtd3/+8dvf//jnpTmz6ZA6evTq/fvivwf17/nSy6//8fuic7FJ/ftcY5ZeWqkbNXzg2QuJd2ScrxOnY1MuXR3AvK3j4+s77YEJjKfZaA2EUsZjPPVYt2FbTU0148G0cR6b9eQduWUwmOYTGRm5cuXK/v37nzlz5sknnzxw4EBoaOj58+ffeOONs2fPQoQvvvhi586d9E/DDoeDHnt16dKlaOe7xscff3z48OG6fji9Xg9CNjU1FcT39fmBV3CDYd0wrY2mZkuBonzzzTcTExPpId5BzkJrCmRuUFAQHeGm3Iau3bBhw/vvvz969GhwFxcXQ9vy33/RB0XA5s2boS0HDc5Dhw5Bmvv37w8LC4McTpgwYdy4cXScjkCb1LWffv7l6dMnF379A7hB2mrUalCir7/5zldfMFOSnI1NemjapG49ev6zdKWPh5IOBI6dPD/76cfPnE/wdpfTcWY+8tgP310z5c+K1Rt+++XH8+fQM7E+y1auRb2QTdN/4MDoiIaWD+XVBsbVXvBya2SOhptcHDbr6SeumWyJpv1dnI5MoxUDg7l7gJ7Ytm0b/UvxH3/88ddff8XFoa8mCgsLv/zyy8WLF4P7hRdeYLPZS5Yw0yVC4KJFi9LS0mjvjaENH2NiYmhv83nqqaeUSmX9CdJ++eUX+pfi6/Pz888/N2f0X0wLsmfPntdee+3ixYt1Q0HTLFiwYP369UOGDKmpqbFarYMHD541a5aPjw+zuWlAlarVanCYTCaxWEz/9gvNM7rS3pgPPvggOzt73To0Rw+0iAwGwyuvvEJvmj9/fvfu3adPnw5ucIC0femll+BYa9asaTc/EzWHtqdr45PSXn35hSnTZrz7v9fpkMoa46gRgyUSyf5Dx+t6jLbt3PfF5x+PHTdh6rTp/Xoja4TUKzkffvBe/wGD5r3z5tU4Cz6ZNGnKo48/Qf9QfvZC4nPPPPHZFwunT706gQpNbPxNjLt9/fz8vND0PB2Qm16cvr1u+d2AwWAwzQRe4Tabra7jiiRJDgd9PTJgwIAnn3ySntoKACGyZcuW+Ph42ntjbqMvjaZHjx5vvPHG09SsFpArgYAZXBK4Pj+bN29OSEigvZjWCTSTjh49WjcZWx1NzYZ9U+rmKPn222+hjk2aNIn2NsciBSIPHDgQ1C24ofJ4e3vXWUE88MADP/zwQ3h4OLjffffdrKwsuCOmTJly/PhxOkIHoY19N/bpgq/en/d2ZWXl+bNnTp9nnk0Lv1oAjWOSdHz2yUf/e2ceHTh18n2ff/E1xPzqy8/fenve/ZMeePGF2ePHT3jk0Vl0BADizP/48/j4i++98+ZTzzwHcd54be7Ts58fOqyR4RhBmd14adOitv7cwrdBg0tx/cLE+29oDXZYa6h1x0Sjv2Y6VgwGQ5OUlFR/3F9a1BYUFFRVVdX/aCYuLq7BT8l3nIyMDIPBUPdZT918sECj+Wn9o/9m/TyYzR78cxbtYM/Zy4TX0Vh4U3HbJA0+DqNxUpOSXD/adHMA/UrTqPcGmEymK1eudO3KfDg0ffr0OlFrtVpBLtOiFhg3bhxkOy0t7fqct3vaWH/tidOxNTU1PB5PIOBHREaFBKCu9UNHT1Mb4URQZ/6YkUwxA7HxqeXlpUKhSK2ugW2Dhwzz9brmdwQA0oSt8Bw0m81NxbnbnLmQ8NP332q1GnCLxGIBX6DTaZUq1cSJk59q7Bf8W2X8fcz82qPHjHv37Tdo9/j7JnamZofPzs56Zvbzt2E4e0d44613r/0A7xpmPPTI5dRLmzaup70+vr6lJWjoiZCQ0JmPPDZq+CA6/L/AZICpPg2Z+8obx44cpDMQEBD4xv/ejemEhnrZf/D4vn27qShoUtM///iNdt8Gp87FrVm1Qg9FrtOSDodYIpGI0T+RSAJbf/rhm7/+WV53BTp3ibmcinrHof5PnzFz5LCBdPhtA4lfvtz4QGzuHp4fzHv7rf+9m0odsf/AQZ99/CG96ePPvtBpteAoKioc0H/Q/95ivsbFYO49d8n88fb6a29g/thoflasWBEYGEhHaGlAjEa8cYbxMLywJ7Pzgog3WD9lnp64G21+YY9zybXvCnq3a8MbC6PYO4d9/5+Mm2EQpP06I8daJVANPvjgg1mzrnaKAQkJCQ899BCUKWxlgm6dW61jZ8+efeKJJw4ePBgSEsIE1XL+/PnFixfXt9UGzT116lSoXbNnN/zQqJ0DuhbT4uQWlu/YffChhx+DElnw5Tc7dx/cvG33dz/+8sDUB1+c+4pab2XiNcGe/UcZVxNAahs27+jbt7+vn9/+Q8frApcuXzNw0OCtO/Zm5ZXQgfcYjd4WGdXprbffW7V246Gjp6BRoXJxAcfhY2fWrt86YuTonXsOxienQVa7dEEt1L37j4J75eoNn3z6RbfuPTdt2aU22Jm0miAlDY2k3RRoQAyVy/UZgMYSnYGDR07FJ6Vt3roLji6Vyl59/S36iJk5RRDnhRdf/mzBwgOHT9CpNcWlG+Yht6D8wOGTvfv043K5W7bv2bH7wJ79R6CYPvjoU8gb5BCuwCYqA3AR4MrAFVi2Yt1zL7zUvQe6AkwqtwskDmnWnvhpcMOaPrXRY8ZDBAiB6zNo8FBPT68//lxKn/7JsxfhKg0ZOnz7rv3nLyZTKWHuKpk/oUYcCIXmsOcFiAtygfG2c3bv3h0WFqZWqxl/LZ9//nlMTAyIhpkzZ06ZMuWbb74pKbn5g27UqFE9KaKiomAN4gDWkAiz+WaAqH344Ydp99KlS3/55RfaDdxefloAqvrUVTWq5qHKdG0VpCI1CorRaHWld7m2XtIRm1uxWwDQi1C7jh9n3pt1/PHHH3WzIdw2K1euXLVqFeNpBlCd4KBWayOSADZ9+OGHjIfi3XffhcgXL15k/B0GrGtbEe/9H+oMo6dDAwpKqud/skChUJyLvckE2Q9Of4hxNQ2ktnTZak8v78mTp5aUa+jAorIaELsgLmnvvUets4lEokuXs0srdTU6K6gruALggE1lVXqQbn/8tZSOSW+is1qttWTlFo8dd9+48RPoyE2h1tu/++FnxtMYpZVauUKRmp574wzQBgATJz3g5u6+YvXV+dPfnffhhk07GE8TQB6+vWEeAI3eTh+6/kR36VmFIKwLS6vBDeGwFeJATPBWacxJqZmBgUHUFbhR8e3ae+j3P/5mPE0DKUPdqH/0hOQrnbvE0G5o/5w4c7Fb9x5BQcGgaOlAiAy69sbXH3NLNK4UGBlwnVBgBMG1MNs7lq794osvxowZw3jqMX36dHi1M55mU1jLa6+9tnjx4qKiItrLbL4ZEydOXLBgAe3etGnTqVOnaDdwe/lpAZqla29MY3Gb2L81V9Zjx47NmjULGjZQpleuXGFCnc4tW7b0798fwv/55x8m6O4DB+3Vqxcc9O+/Gz7SN2/e3Lt37xkzZuzcuZMJcjoPHz4Mke32m3T9tD/a6rwM7RgoFdoR4OMKwkWn0yUno+nTbkBWVibjahq9Tjd67Pi33n7v5MljK1cww9xIpTLCQShbcHgmNgvauzHRod7uchc583UF/XGol5ts2PCRZ89cM2Y1NMRg7aoQhgX7+gcEnD51orTkxpM+OCsq0AQcTZF2+fKgQUM6RwY3noFhI+pn4LMFX/fo2fuHb79OTs1iglgsDvemN5Gz8oZ5AOrGQaNLX2OwgxiNDPPv3qNn7Pnz9CYa+gq4KUXdOodLpNKbXgE4dF5eLuO5IVDZaMeJM7Hvvf9RcEhobk52nTWzn6/fq6//r7KyYsnvv9KBKhmfw+HQ1wpzR5iwhHoqN3j/3/gn2mvVxw3ZOwdKq3Hath3knTV/ZEwda40d/fz86ntvzA3MH287P60b2o62FlSP6JDr7BmA8Ej0pcWfC36++vhE0Rcgs4SYyFZpiDB8+PCVK1fGx8d/8MEHUfVmJ502bdq5c+cg/F7+xA8HjYuLg4M+++yzTFAtDz744MWLFzdu3Fj3CRowatQoiMzjNTLIZvsG69pWBzwSGBeLlZgQLxQKe/bszfgbA0SGwaBnPE2j02tlMvnDjzz+8COzfvrh28PHaKNkNIYi7WgRQBt99Q0ar61RXN3chg0byXgo6l+clEvJnbvEQBzG3xjU4Oc3mgrOaDLW/5SwAS7XZqBX904fzv8Udvnrz99pbQfC7qYX8KZ5qA99gtnZ2Yt++h4cyNjg2vkP60b8SL6cmZ+Xd9MrAEB7nXHdEKhpdOKXkhLTr6SBe+uOvXWHq6gon3D/pKeefnbnjq0b1q2iA7lcLu3A3AVSMuq//u8UjfeLNTSCbFs0qhcTExPhxO6xjoScwLpO19anRfJze2RlIHv6ZtS/OiNaCmhZ/Xk/e07m66dpDxOpHqjhtueFM29EwHOuFiaBtl0DMa0KrGtbHSCDdu89vGX7ng/mfxobe+6dd98PDkEfKjUFKA+D/uYDwWp1WnjYBPt7vPn2uwFBQb/+8lONzgrhDqIldS0w64mnaEdd1yDkk3b06NFz/ATmizea2PPn4eKsWb/lhRdfBpk+9+XXvN0VzLbGAN2Zk53NeBqjZ89eY8czHyxfnwHYWj8DEKFbtx7PPPvC6lXL9+zeCSGQfl3kprhpHurz+68/zXt//pznniKpZGM6hYYGetObaPYeOLZ73+G/l6587+03h48Y+dviv73d5cy2RmGzDPqbN3sAeMV89sXC9+Z98M3CL+iQ8WOufoVTUVHh56V64613o6I7f/v1Vxeokd2wrr0r7P32jTODBg06s2E3Eha1HWKNdYBhWKwLFy5Ay+36T68gHNb0hP63R9++fekPvJoPPYCun18jc0/+9/zcK7J2b0BVjal/DEiMNqyCdMQXpjKSNHziTNCyf267cd9/7Y8S9cCaFnNHwbq2FcHhIJUQG3t+y5aN+/ftUSiUPy5a/OwLL7mrGs43DQKrblHrbXq9Htb1A5l49TDqDYQDhUeFBbzy6hvHjx5evhQZBjkcjkbj3zP8vV1pR13XILzDaYefl0uD0dMO7N+7ceO62PPnunbt/t0Pi8bd13CYYaD+dYBGQk52Vv0QWJh4FPUPcdMMQARXhfDRx54YPHjYTz98m5ZZwOU2rmvrH+6meaiPl5c3vBTH3zfBzc2dCboWqBibNq5PTbk095XXv/nu50bHULvmQE6WBqgf0gRwIl6eXn7+gSNHjfXyvEZMA5WV5bCODPOHylNUVPjHb79AlQNdC2dHR8DcIfbOuf/PQT8tP738J9YbT/2cxQqnur+aY2fQATl+/Pgvv/yiUChOnjyZnp7OhLJYW7duXbp0KYSvXr2aCbp1ZlEwnmZQd9CVK1cyQbXckfzcI1CzivXCTz/VNqxortrXXqWBkGVkbueMRuwQbmADU592Mi4YpmVpk/ONtVc+/+Lr+R/OW7N+S9du3eEWl0plwf4ezLZr+ea7n6qqKqurqqqq4V/VmdMnBw0e6ubu7u4G/wCPusG86li+at3gIcPCg33BXVqp/fij97dv3fzv8jVvvjY3I6O1zHYzZOjw06dOgGCqk5h10JtS03NBiPP5fJlMVieI65OUmr5z2/aqGvjHXJy4i7FDhw8Hmejm5gEXyM3d463XX2ZiX0dTGdAa7Cq5oO5mOX7qwjNPPTZ27H0+vr7Rnbs8PGMKHU6TlJq5c9vWG+bB/a3XmRli6qAPXVBcxWKz1Gr1oH4965uXgB51kQugBP/8ZzmJroDA3cPDTSliNtcj8dKVfXv3ms1Gk8lssZo1ak1uTnZAQKBCCW9VlVwhj4np9uCUa3rBATg6rNdu2ALrfXt3Jycm/rLoqn3IshVry8pK5737FrjLKnXzP/q/9WtXffr5woMH9q5et/n6wsLcLtQgSC/UDo6EfCm1YyBdN3ASHUC762C2U+mAFLnGNrfRQAymPnWVhBrUC43u9ToLVbSmxvm6thZe3XZdda3lmg24SmLuBlRPAKZV8N0PaN7FHbsPMP6mycwtTsvIv3Q5KyH5yoW4SxKpFNbghhAIh61MvHr8/OsfsfEpjIdKoVevPn369g8JCWOCWgHXjwlQBy28qrU3GVSlosaQkV10OT03OTUzPintXGySf0DgxYTUxEvpKWk5VzILbjyiWVMZoMdDYDzUcASffbFQLle8894H6zZuY0JrqagxNshDQODN80CfID28AKzPXkigw2kgS7AVstfoxakPXIHMnOL0rIK0jDxoBixftX7i5AeSUjJS0rIhJD27sLAEDbDQAEgZKgOdeEFJdXp2AR1OsxTaP/97j/E4nVm5JVB5PDw8Jz8w7ab5wTQXujcMXvj1ufpleqObb4nGh1ugQL1xmA4PXUNqKwNd4wb9tAf9jwJvpQo2FpcOaxxcAzF3DGyH0IqQSNA4/Ox6n0Y1RXiwb6eIwJjosB5do/r2ipHL5LAGN4RAON0p2wC9TqehJqSmgTgvvvxaYmK8w0EwQa0bkQj1TXKoaYRugIeLNCLULzoyuGvn8J7dOkV1ig4Pj+jdo3P3mMgunUKiwgPCgm4+efdNcVOKnnr62X79B/zz1x9MUD08XCQN8hAWFn7TPNAnSJe+i1wwoG/j35fctHMUrkB4iG9kWECniKDOkcGQHI/H79YlokunUAiJDPX392mknxuorq6iq16Aj2tkaAAVdpXKKmSHQBMW7PPm2+9qNJpLl24yUgfmFqANDhp0b1HWiA27vOqzt+kfeNEUUfW5atlYq1jqpATuL8OwWFkRnV8AKVpbGcJfX/7ToBdmNmLrVZ+s5k8sVmtS04AbtLcwmNsA69pWwaatuzZv21NCzaR19MihFas20OHNRCa/4ZdDLNaqNRuLi4tWrly6ZfseJojFmjR5yqRJk1vJpz/rN23/+9+VGg1S3n/8/suGzds3bkEfZgHgWLl6g1QqBffnn81f+M2PdHgzCQ1r1ht7/6ETv/7+Fz1wweLfFm3csqNuyIhDR0/9sfhXcCz6fcm+A8fowEBf9zlzX6mpqaa9NyYsPIJxNQYcaOPmHfQJfv3V5x/M/xTqA72J5uCRkxvWrQEHvD9ef/MduBp0eHO46XANcPT1G7dCylWVlQs++3jRrw2VOpx+QlzsudOnl65YW3f648ZNeOW1NwsLCmgv5o5Dy4V6RLwRs6cRidvIZzgAlgqYWyc8/PUl19QwEKJLXr/hw6tJGmulXVenaRpOP4bB/Dewrm0VCASCrKyMwKDgb77/OTq6S07Ozcejrc+NP9rVGuynT58aMXL0ffdN2r9/L3jpcB8Pxfc//jbpgam0twWBLBUXFbi5u70374NFvy0xGAzpV67EXjhHb72UnEg4iHH33f/tDz/36tlHo6mhw5uJq2vj3ZP1gQwUFuT7+vp+9PGCr7/9EdTqwQP7zGYzvXXn9q0gTP9eutLP13/1quV0IDBixOhvvvvJ27vhJ1bX4+JyozxYLBajyTTuvolQ+t269RCLxEbDNQNcnDp5gsvjffvDoocfeax79x51V+aOsGb1SjjThx9+7ONPv+jZq09VVSWzoZaffvh28LARoLYVCkXdNfF0k735v3dfeHEuNq69C6D3P22DeJVMahCl6/vFGu+vxVIB01pp3I4B/2KAuWPg78ZaBZVqk91m4/K4aNB9Npuw2/28rxkH4MZMnjxl587tjKcxCoqrxJSRg8lkCvK75kP7ojK1/60c6y5RUqHl89Hw0U7SicZbZbNI0hlA/WIOOaQ3AWw2x2azNvrFWKNoDPaFX3628MvPGX/TlFXpqK5rtsPhIAg7rCUSqYcLumgFJVViMTjQnWI0GIMDPKk9EOVVeh6f3+j3W3XcNA9Q+iRJ9ao6WWwOB44OOfFyu9oHf80VYLEtVkugb+OjJVzP8pXrzpw+ueSP3xj/deQVVYopEwgAjg71sEHdy84vVSiUKHPUnBCerqhfmaaVVJ52R+Nf01ChSBVc0wnWrC9v6F1vSsO0MRiA+tKrqe/G6K0NP1+s45rIN4x6szqMwTQXrGvbAyC8mi90OholFRpfTxXjaSFaMA8VNcbrpSqmdcO8/xvTBNdJz2bpWgymvZK759stpUOffXZACz/kMXcci0YjUt1OsWJdi8FgMK2ORvq2Gu1OvWFXbKN7YDAYTDsG61oMBoPBYDAYTHsAfzeGwWAwGAwGg2kPYF2LwWAwGAwGg2kPYF2LwWAwGAwGg2kPYF2LwWAwGAwGg2kPYF2LwWAwGAwGg2kPYF2LwWAwGAwGg2kPYF2LwWAwGAwGg2kPYF2LwWAwGAwGg2kPYF2LwWAwGAwGg2kPYF2LwWAwGAwGg2kPYF2LwWAwGAwGg2kPYF2LwWAwGAwGg2kPYF2LwWAwGAwGg2kPYF2LwWAwGAwGg2kPYF2LwWAwGAwGg2kPYF2LwWAwGAwGg2kPYF2LwWAwGAwGg2kPYF2LwWAwGAwGg2kPYF2LwWAwGAwGg2kPYF2LwWAwGAwGg2kPYF2LwWAwGAwGg2kPYF2LwWAwGAwGg2kPYF2LwWAwGAwGg2kPYF2LwWAwGAwGg2kPYF2LwWAwGAwGg2kPYF2LwWAwGAwGg2kPYF2LwWAwGAwGg2kPYF2LwWAwGAwGg2kPYF2LwWAwGAwGg2kPYF2LwWAwGAwGg2kPYF2LwWAwGAwGg2kPYF2LwWAwGAwGg2kPYF2LwWAwGAwGg2kPYF2LwWAwGAwGg2kPsEmSZJwYDAaDgccim824MBgMBtOmwP21GAwGg8FgMJj2ANa1GAwGg8FgMJj2ANa1GAwGg8FgMJj2ANa1GAwGg8FgMJj2ANa1GAwGg8FgMJj2ANa1GAwGg8FgMJj2ANa1GAwGg8FgMJj2ANa1GAwGg8FgMJj2ANa1GAwGg8FgMJj2ANa1GAwGg8FgMJj2ANa1GAwGg8FgMJj2ANa1GAwGg8FgMJj2ANa1GAwGg8FgMJj2AJskScaJwWAwN4PNZjMuCqfTybiu3VQX3mhgK6fBOWIwGAymrYD7azEYzC0A2hQaww6Ho9EmMb0J4tDSENbgbioyBoPBYDB3Ftxfi8Fgmgs8LtLS0vbv36/X6z09PUeOHBkdHU33woKELS4u3rdvX25ubteuXSdMmKBQKAwGw7Fjx86ePRsYGDhmzJiwsLA20WWL+2sxGAymjYL7azG3Cbz7Ma0KpmDuGEyy9XE4HDqdDtYuLi7Z2dlr1qypqamhN5nNZpCw8fHxAoHgzJkzBw8ehCTOnz+/a9cumUx2+fLlvXv3WiwWiEmnjsFgMBjMHYf78ccfM04M5pZwYloRTKHcUWijAlgD4KUlKSjagQMHDhkyBLynT5/u2rWrh4cHuDMzM0HXDh06dM6cOXl5ecnJyd26dTty5AiXy/3oo49gnZqa6unp6e3t3fqlLRbfGAwG00ZpQ3YIbBZpI816J6ttfHrSjqHf+nsOnD547DybAz4sAloS0kHKZNIX5zwZGOjfbIELdxPhsOhAuoLzeqBUjWbruYSU1NQ0m82qVCoHDRrUuXNnkKd0BDjQhg0bDh8+/OGHHwYGBkIISNi9e/c+/vjjPXr02Lhx49mzZ2fMmHHy5Ek3N7fnnnvu0qVLW7du7d69+5QpU+jdqWRaKbhKYzAYTBul7ehaNpu0mR3aEnglMiGYFoLDQeYr//f5b98t+pfFAqGDRUDLQsiVbocPberbp0dz9SKb7SRshK6ERdjBzQTWg81iWxzOy/nVeXl5drtdJpN17do1ODi4TtcmJCSsXr06IiJi9uzZfD4fQvZTvPDCC506ddq+ffvp06dHjx4N0fz9/WfNmpWeng5iNzIycubMmRAZ61oMBoPB3A3amn0tvG/w0joWSuLw2Vw+h4eXllygFAR8/q1LMeqXD9CXjS1O0iEWifv37//www+DKp06dWpYWBi0Z2g9mp+fv23bNi8vLxCptKgFhEIhVAmz2Qxuq9Vqs9lcXFwgV0ajkQ5xOBxisZiKi8FgMBjMXQF/N4a5TSghBStMC0MXAlMqzQcEqoO4weIk7CTpoFUuDewEByooKFi2bBlBEPfff79SqQS1Cm6SJAMCAhQKRUpKSnV1dVFRkUQiCQ8Pl8vlOTk5Wq02IyMDlG5ERAR9cAwGg8Fg7gZY12IwHRUn6SSbWhyo4/ZaQNTa7fbTp0/v2LEjPz9/69atq1atSkpKOnv2bGZmZlBQUI8ePS5cuPDll1+WlpaOGjXK1dW1d+/eoHq/+OKLEydOREZGhoaGQjq0RMZgMBgM5o7TdsZDYLOdDsJpNTBeTMtB9w4ePXnx1NlENgd9OEaHY1oEkKESiWTWrBm+vt5M0E2BIiMJ0qCBNeUHoXnt4iSRhYlExWZfbfpCQTscDnCEhITExMS4ubl5enp6eXnx+Xy5XO7i4uLh4aFQKMA9YMCA/v37Q7i7uztE4HA4IHmHDBmiVCrbhKjFVRqDwWDaKG3tuzFd6fXdSJh7DP3d2Edf/rHwh2UcHheLgJbFQRDu7m57967t07t7c1UjtBLtFqIy12m3Io17PU6SI5JxPULZbC6ldBluUNZw6AZbGw1hXK0bXKUxGAymjYJ1LeaWwbq2VXGbutZmISqyQd02qWvFcq5neANd20FoVVXabLHo9EaLxcq0E+i8oZKGcqE8dSFU6VPhGEwrwMlic9hc6jc9yr6JRFW0Fd1bDeGw4eWG3m6QVcgvHdg2oG96NlvA58tlEplUQp9IxwTrWswtg3Vtq+J2da2ZKM+8UX+tWMH1isC6tsUpLa/MziusrtFApqhBSOi8MYUCOpd2UP56JdXhCg3TKqG/a2WxqWZXa6+UKKPUvQ8CvM3dQeirCAcpFYuDA32DA/3qRqrpgHRcRY/BdHSgTUsSLNLR6OKkTGkxLY7JbK6sqqmsrjEYjGaT2WDQw2I2W9BYalY7bDUYEdRIaiSlyeGpzoaXMulEr2e84KVFFiQL0ZemhFqtK6+q1huMEAghVM1sGLnFF/qWMZmtldXqymqNxWKjbj52g2itc6EvNdz+Gp0BLrVGp6ceBR0X3F+LuWVwf22r4jb7a60me0ma025i1fsy7Cqov1bJ8+3M5vI64B3Xqqp0Zk5+SlqWxWrxdHORiISgZiFQKBTy+HwWybLaLXarHTIsEotEYrGAL+RwOSxqdLbr+2zxoxNzz+CyOVAVdXpDUUmp0WT2cHP19fYSCPiEw9EKO255XC4oxIrqmpKycg6b7efj7e7mAuGQWzpCawYyzOVxTSZLQVEJNHFDgvy6do6SiEXM5o4H1rWYWwbr2lbF7eva4lSnrWldK1Hx/LpgXdvigK69kpkLGQoO8FXIpTabDUpZIBDCbUgQhMlktFgssFWIZK1EIBDwePCO5nKoPzRcCSVnaZmLn52YewaXAy8HbpVak5GVo9XrA3x9wkKCxEKhjSBaYUWE28ZBkoUlpdm5BXDTRISG+Pp4wpMAbjEmRisGdC2fz9MbjRlZeZVVVf6+XjHRkR1Z1zb2SsNgMB0Bp+OGCxZBrQcnh8MFLSuTyRVKlUKhBAnLoyaZAwUOfyAUQO8aDHqtVqPTak0mE2G3oU9f6J8pKUe98kQaFy94udsL/NEw7USmDl6N0HoW+ENr6j9EPVebWOAP/Y+hwP21mFsG99e2Km63v9ZoL0y+UX+tWMUL7I77a1scqr82h8vhRYQFe3m609+VAwRB2GxWm9Vqs9vATdgRoGF5PL5EIpVIQPgKYHeIDWvUiUv148LJobcgBZU8BnNX4EJTjMut0WizcvJ0BoOft1dIUIBIKLS3yv5aPo8H91RRaXlufiGHww4LDvLx9oCbpa301/L4PIPRlJWTX11Tg/tr262u5Y+awk5JZTyYa3HGdLEf2c54bp07omuvCI3hBi3jwVxLlkzZySplPDfjNnWtxWAvSAR127iuJUmOzIUX1Avr2hanvq719HCD0nBQFoqUuEXfjQB2u81itqBuWsIO8lUslgoFQlCwNpsNxC68p0UisQhZKfBBbCBJ2/HKFHOPwbr2noF1bQPara4VeIbrdTrGg7kWuUJhq8hiPLfOHdG1hL0EF1BTQAHx+L6M52bcvq7Ni29a1zo4MjdeSG+sa1ucOl0bHhoEuhakLD3rGwD5pLOK+m6toGwtoGu5HC4fmShwQOyaTGicBIiCdK1ILBAKuFw+qA0atC8slMylCrnDFTTm7oF17T0D69oGNPZKw2AwHQAn6XCSRJOLE4/z1QagFQI0NQVCkUwmVypVcoVSLJHyBQIIpIaZZ0Mcm9VqMBi0Go1Op7WYTfC2ZrQs8x9KiVpj7ir0aK5UuVBNktr2U1PhrRCUP7peIZhADKYVgXUtBnMLyO8CTNL3GFAzaEKdphdK9TCRMa0SSpQiOwRwc7lcoRANigB/fD6fx+MJhEKJRCqTKcRiCYfLtdttZpPJbDZZbVY7eGxWi8VkNBpMJpMNjR3mRFqFAnXiYu4sdOOBw+PwpUKJXCqTSyViMZ/LZTvZcJfVhkPLRCoRiXgcOry13X6QUTaXzxNJxTJAIhPzhTzqxzv8nMC0JrCuxWA6KvDedDS9tLq3KuYmMD2v1BqEbO34CUqFQgkCF8QuBIJsZbPZJOkAVWvQ67QajV6vBbELSpfWxyiRtl30VD8inCYt0hvCpjtE7zX0IZ0OJ2GxW80Wal4NK0GSTjaaWPZquMlitdkcTjq8tTUvkNQmCYfNYjMDVouVsJNUXcHtIExrAutaDKaj4iTrjep1/YJUDqatQPXd1n1M5gSlgbpsBQJqWFuJVCqTyxWwgEMoFIG2AyEL6spoNBgNaAFgbTYhgQu7gwDkUoPgIiUI+qpN9OAiQY5GqOeJJCK5XAanC8hQJyhakFMul0rlYoGEz+FRr757pd8hV8ji2WksM+Sfzji3+cTBHYfPJSYW6ssJPsHisU0lxvyT6Wc3Hzu46/D55KQiQ7mNb2dxuWwWGn+45YEKANXAyWMbCV1eScqZiwcP7T9w/khiUUaFyUx1N7dIYwGDaRSsazGYjomT5SButJDYvrbNQ3e8gjYVCOvGvlWA0uXy+FTXJQJUrNVmpca+Vet0WrPJSFB9t0gmU1xNqJWD5DdIewdhs9hMJtDsFAZmQcLdaDBbjFbCCq02iHvPzFjhUFwB6FpSn6dJ3Rq386dNqxav3nnsaIa6wCa0sQUcXbYmZdOF7d+vX7F41c7jRzPVBWahzckD8X0LuhZJS6pEkeOOnhpKDqSrU8DW2GtSck7t2L9y1bIVe9YezbhYZDCQLJ6ARx0Tg2kVYF2LwXRIQKiAcnU40LqppS2IGUxTUKIUdd+Cm8vlgrQViUSwoqxv+QKBEPXiyuRisYTL4dhtIAWRuS3quKVUIChdo0FvNptsdhukRSkmqu+2Nf7qjHLF4bK4fJtdX1yeFHtp354Tu7fv3bNt+/bNWzZu2Lxxw6aN6zdt3rxp34ntCUUXK0gDyZcLuRI+Opd7UM3RuCJoEBK1uTyl6HJcUtyZ+MtZWZVmDcklWFy2udxYcC4rNvH08WMn41JTS4yVVq4djSjQnDc0lX0Oj8MTC8QyVKRSkUTABU0M53bnTg1K3sllWxzGsuq81PS4uNiLVxKzKos0Vis0EfAg5pjWBNa1GEzHhDKjRKYITS+NgTpmamGCKJigelwfSMfEtAh0zyu95nI5IHJlMoVSpZIr0IdlAr4AZBSIYFtt361aXaNRq/U6naXW+hbVFyoltGpdQNVic/hOrsBsqcnKO777xD//rF/857JlK5evWbNuw/r1G9ZtWLNyw6p/V2zY9Pf+2O2XKjJqbHaSDacMtfJe1Ev6mqGDcZD+5vKQiUfdoTl8rkAqlLBkchGoUhGfUaXoHqUj3AgqDdJBOqx2K/ou0GyxWewkspBntt1R4DbmULM0w4o2VmY2YDCthQ6sa7N/H6NgGPN7NhN4Pc2Mdqepd9hroPNAb70uPyj4XmbyrnMrFx/Fff0A48E0B1CuqF8W1o0tTfz0TBBETU1NZWWlwWBggihA+mg0GggHKioqdDodSCiLxVJVVQVeoEF8zL0Edd3Wt75lsynrWzR+goQaNEGmUMCCRk7gcKAoUd+twQB/1C/5dN+tAQ0QZrOBXoI4SNdQIGHTKrQNmw16kWcnTBU12akZZ+LiTmZeuqKvsYuFnl6uvj6eKokbq9pREp8Zd/jQqdM7E/POlVqqLCw+my24F0as1N0EQpov5ov4YolUIhIKeWyOA92GbHmAInJ811HTJ0x5ZPLwfv2D5b5CuwBuNSeLvImwBZXJY0OJWKusJYmZFw8cPbx/7+mkC7naYgOHcCLrgTt4cmg8BA6fJxCJoNJIRGIhj8+lyr4Z6huDuWd0VF0LIqjnlgcT4OWr0yUsZM3r2bgiama0u0DY3EPUUdFx+7H6LaTzoNMdmhvGxGCxLsyb055EbEOaffFp9dtz3gXGj2kmDYTs9ct1gIgpLS1dvHjxO++8s3LlSloh0eHV1dWbN2/+/vvvv/nmm1dffXXJkiU2m+3UqVMQE0Ig/MSJExCNjo9pDUDxwRo0qpAZ+9ZFrlBIxBI+X4B640C4cjkghqEcqR5cNPat2WymrW/r2d+C0G0duobu3WSD7IYciZ2sQFevIX3GPvzQiy8/++qrc5576vkZI6bGSKLNiRUXD+w6Frc9uSqjmoDz5/OQRke2qXQFpakT7XTiCBRKm7DWo0GcWmqTqAU8zFAMVyPDtSPQiqMMc42Z0W/qW488+dKsycNHRroESawCNkHAXUidEvXZFpPQVVBqyHIXXHxTqTnneNKBFevXrFi64+S+1JpsHc/O4oF05l4VtqgF0kQ6TIxraCQu7qDFtAE6qK49sGgea+ESRiKGzV2ysN/SbxqRiM2M1jL069evXSvb5l787N/nQMQE3aZnmIB7y8aZ6K3QgJhP6SmcUz+NYUIYYmJmbmwlszvD6/TG8zKQJBpZ8zq4XG54eLhcLs/IyAB1QwdCYhAyYMCAKVOmDB48GLxqtZrH4+Xk5ECrBAIffPDBLl26QDhA74JpWaiiQPoU9Eud9S3qhkNDk8plcoVcoZTLFWKxGMSM3W43m2q/wWK6b1EPrtlsApkLqTGqB6m2FpU90M4CQS4Q8IQKAc/bxb1TRNcBfYf2H9qnz/CxY0ZOGDOiX6f+MotbdmrJyaSE2ILscoOBy3OKpQIxNXasVIpEPSwSiRj5RFIhjwe6EEl3DofH56NwuZQeaQGQSeUSoUQAupi6V1DVpv7YXDZXyBdJJVI6nlQuZsnlYqlE0GBsWtrYhyPxkgV2C+8xqG+/fv27R3XxkboL7HyWAxoPaDuXtlJAo94yQAZkMolYKOJzILs8gUTMJXjGwqrcuOTEuItXCrPULBOaTRmKUyDksqF1go4FzRSeWChGY2MwZ6CAZGSo55jL5rHRCdBngIbTYPN4QrEQtkIcyL9cAFGFEjFcEPSRGBMVg2mNdExde2D30n4Pjr/a8Rk2/sF+F9Kv00zNjNZSPLgEpNyFeYva52/vzb74qGe7fi92qyY1dePMGPbMjYy3hXFe+5VYg8VJwqsNXmC0IgfQHk6nl5cX6NT+/fvDO7NO1wKgAkC5Dhw4MDAw0M/Pb8SIEaBrIYK7u3u3bt0gflBQEJ0IppVBiRlKp9T23cqUShcXlatS5YKkLRJHApCLUJq09a1Oq1Gra7RaNTjrenApodxK+m5RRUPai0WSDjTrMMFiOQRitm+oS3B0mItXpMnqnl9G5JXV6ExqFml22giryWoywrlYHA4CFovVajSZTVazzUHAGaGOS3S/OKxmOH+TvhaDyWC2WwiqccBMZ0HdMaBsSbvDZrKYUBtArzfqzSy93mI026wE3FoNx6Z1knbS6rBYWGYby2KxmWwOO4lkJhwWLWh0WziMwWTUo8QAnUFvMJoskJqTgAThQBYztRfqZuexHCy72Wq0QLvDarHbQByjywEZJFmUDS6kw6BDHwmabVB+bBINvcCcAYoOl85utcM1gSNB/vU2vcFgNVmMNoeNGijlmhPAYFoTHVLXZmelsrqE11dCYeFdWKlZDURTM6M1lwOv33Hzz3GvLezHWjqjPVqV3uGL30xus4y6fJJCv9RrSfm4C7MJeGgDEwrhKZ88BFs2fsr057YoIEEoI9rGFxAEhLampqy8vLS0tKKiwmQy0buhvj2BAMQCnA8dQkN7Qd9cvHgRXua9e/cGr0KhyM3N/fTTT7/55pu4uLgGu2BaCahuQsld23crEovpsW+R+a1cIZOjkRNAMNrtNjRwAm16i6izvkUCF1LjNLC+RVLv3gPS0eEkbWiyAyOaONhEOC0iN76Ln4fM1ZfLUzkJ0H9ONpuwqk0lF/Nit546sPnI+QuJpRX5FeUFFy8k7Tl85GjS6fTqYr2TIxWIXdgsc0ll3ImErRv2rF2zfu2qtWvXrd1+aNOpzAsFZh3JFYv5AgGXxRGwoGnAsgr0WTXpx88e2rplA0Res2bV1nXrj+07mZVcbq5y8gj0zRUISTYbDZPAduoLNJn7kw8v27t97c6jF87n6UosAhtLIBDJRGKp0FFNFJ/IPrfh4I6169atBdasXrVh09YD5y8nlehLy7LLL+9NPH/oSGJxarXAyRFILMXalIPnd27eseXo/nM56TWEXiBlC8Qyp55TfSkvfv+BHRvXrV29DpJZs3rzjj3HkvOyDAIzT87n8YQcqAAcvozH5ZmM+anZB/ec2LB22/o169asXLtp86qDsbsvVWRVg9Rni3lQusy1xmBaFR1T16Y3Zol5XWdgM6PR0Dae11FPJY37OSHqGxR2B7/son6eb5fK9pYufjNpmTKqT5cuH29Y/wno842bWoM1AppXjBrq67qF42SZDIbDh4/8+uuv33///d9//52amgpalpIpSLzSCVxPSUkJ6OCwsDA3NzfwDh48eN68edOmTYNd9u3bB1vpFDCtFdTwoJsf9JrqwRUiuwQFGvsWpC1lfcujlStlfWvV65H1bd28ZbREpqQyEsx0mi0BktSop5WG5eQ47aTVagNhLuQ5vJXCAE+FSi41Vdoy918+tHj76t/WbNu+NyHpfGLC+R3bdv+7ZuXGkzvjSnM0oDAdHFaNOjshZee2g/8u37xy1foNazdsXLN6w/ZVO87uvZCfWWE0QWOQEvRcNskyluhzzySf2Lxl09p/V61ZvXbthrWbNq7ft/tIyvlcQ6GJZ3FyeZSu5VC6ltTmqFO2xO78acPKP9fsOXEsU1NgFtnYAj6Xw7KbzKWJxRfXn9vz18YNq1eu3bhu/foNa5Zt2rRu75mkC3na/OKc0sv7k88fPBKXm1ziMFkdbE1OZdLBszu37Nh67OCF/HS13cDlOkkrS51Rdfng2YMb1q9ft3zNepDIG1Yt3bhh7a5j58/lqAsMLAtJmVSjz++MNl1O4bnDZ1et2v7PsrVr1q5dv3rdpi2rdh/fFpuTWqa3Op3IKBnfy5hWSQe1r73zXP3O6xp+HsdsRzBx3k3veeeUE6NsW4/ZbyumpcroWrp07sy4WhakN+oN6XXt4iQJkVDQq1fPadMenDlz5sSJE4ODg0Eb0FqHRwFvcD6fD154MQNUoqzMzEy4fAMGDKC9QUFBo0aNGjp0aN++fbVabW5uLgTWRca0QpAUZXpvEVBcVEGjkRNA1EqpIW/loHIVSvgfAqE07TYbNXMZPXiC3lC7WCwmgiAgTVpY3stydzrZTidINJFALJXIhHIOR8rjivTl5rKsvOriXC5p8fNUhgS6qRRym95ZmV6ZG5t26cKFM6dOHdh3dO/2fQf37j5x7kBsVlKxpsZhtuiLK+LOJe44fmJ/WkKmRc1VKAK8PQPkCrLKcvli2tFTx89kXMg1VFmcIr5NbC+tyY+/cO7UzjOXDmfqc21KgcozwEfi52LiWrUVRfayYrbFjEbbhYVNvYGdlhpTeUpRWtKlxPOJV3Jzqy06NocEgawvUKcdSz269cSRI6dTC/PMUkLp7+rp7e8h9JRbOKRRayS1Nglb6KZQubjIxTIB9ZUYT8yXuSjc3d09XF1VChmcuK2aqEzOSj5y7NTJo8kFGTqxTerv5u7pr2RJTXklKcfOnzx0NjE9W+PQ8cQkiyAqMyqSjiUfP34uNiutnDBIPGR+fu6uKpWjhl2VrtEWV5AOPYfnZLKPwbQuOmS1DIvqx7jq0y+qgY1mM6PdMuN+RsppCWvOnRFOlLJtdx+Q3a2L30zucBnVZ+PGjSxW5871DBVajOvkbN3iJB18Hi84LKJ3r579+vXr3r27h4cHrUvsdnt5eXlFRUV1dXVZWZnJhEwILRYLbHU4HGlpaRChV69edMyqqqqSkhKIX1BQAMrG1dWVOjCmDYFaMlR7xsnhcoUiMchZNOyti4tS6SJDH5ZJ+AIBh8MlnU5m7FuNWoOsbzV6vZ4e+5bWygCd4j2AzUYmBqTDYrMYjCZCz2IZKkvU6SkFmZfT9YYKFzdFSGBIgLeXXMR3sjhODk8oBuluVasLLsalxiVkGIxqNzeBu8pVzpZwazTZiZe27z+xIzmuzNXeeVK/h5+f/dbrL785+5nx0WMkxbykYycPnt8TW5pVbWURNaya5OzkM3vPZR4qlGn8hneb9Pwjs+e+8crMl2f3HdfH08fJc1Y4HGYSfTsG9xNzSThsDjQUWVweH7UXuRw+j8Vy6LV5F9KPrz+w99C+S7Z88cCwUU8++Oyrz7348mtzn3x+1vgxvQKDlFKpS2fP7jMHjZ4+dWhU/yCeVMRzukX5Dpg+5vHZs56ZNH1M527uLFVVmubSwRNHju2MrUwnIwOGPjb12bfmvDT3f889+OiwoABLSu7JTUePnzpfYCixc6ymGvXl85ePHz2XWpQlDpMPmjby8RefevX1OU/PemF4+ARfgwevusZJVJEcAi4dXGr6DDCYVkPH1LXXWWpeb80JNDMazc1/467jwOtoS8/0d68dtev2CZv7LvqAbM7vLMhxO+GWLn4zuWtllPrJtcMe1A6HcB2pGz+NQR+NPfTQQ0xIC0IZIRBNLk4H4bTbkJypBfaBkwOd+vfffx8+fDg5Ofmvv/46c+bMqVOnMjIyYCsoXZC2Xbt2hWsHXoIgzp07t3Dhwq+++io1NXXgwIERERHowPdQ32D+O1ThI5MCKH7QXNSot5T5LQL14ILQZfpuORyb3Wakhk6APzT8LZq9lu67NTN9t0i3Ub93360eXHipcbk8O09QblDHpZzetXfN6g0rV65auWbVmh0H4guL5JFeg8YOGthjYKjST4o+liLZfL4QTkXiYItqrFKrKiJoyLjxD099aNKAMVFSf6K4MuXChXPxceVWdUivwPseGvXA1Gk9B4/sOfn+4V2HhRCeprTS5KRLl/KzKvSl6tLSnLj0pKSUTLOGExLUbciwseNGjB7We+DwASMGDOwT1jVQ4iNzCDkOsv5IemikAhFfxINMwCLicUROI0eXU5J+/mxs3IEMaxKnh6DT/YOGjX5gTK/RIwYNHDl+6LAx/btGxPhKfT3d3IJ6h0T16hHuHerGFfG5LJmPKrRn5wH9Bw6O6Rbh4Sc12HIv5Zy8cP542eVCH5Hf0KETJz84s+eEsSP6Thpz38BOoXKztiDlYnLaueyywopyU0VGfkri6YS88wZZdXi/wGFjR44ced+APqOGDR0zsNeQLsHhHgoxh03CI6LFLEwwmBvRMX9GCIvqd2HL/quiKXv/lgvPTKz/czRFM6NRNOc3bkZXfRNFjcl6zab/yLif6aERdjP+dsCtXPxm0kJlVG8ksJiZn4DifWjDhtYga9HH4g3HQKhbQPKit24j7y03N7fJkyd/8MEHX3/99ZQpUzp37gxCNiAgAHSPXC6fOnUqBEI08AoEgp49e86aNeuxxx6bPXs2vB35fD6SR5g2ClV2UILwH1o7naBQhSIxlLtSycxbdq31rdNqtejR8AkanQ5JW7vdTjpA0gFoDRHohO8oHBabwwNdyy83ahIvn9t3YP2aLatWr920c8PR1ES1izzm/uH3T79/cEwfX56HCOXCTrKchB0acg6xKztscOCoJ+5/9IWXZz/28ozB90eIfXQ5lVmpV7SaMi+lqGuAd5hKDqIOHcioJ1gOJUcoNfP1ZbaK0gqNOqus7MrlrPyMKqtRGeAR2jfSJ8ZfKEPWOgIH21/l5R8ZJQ4LIaUSJzQe4Q677vzZLDTPAotnriErrhTnZSWUEunCLmTk2NCuvbv7SIKFLJ6DtBBKGy9ApfIOdBd4y1l8NlxXwu4gqW856Y8+HdCIQMqTpbfbykpy86/EVxRmidiOID9Xz0AXu4TFshB2lt5iInlOnphwcst1luyi8sqCTFNRan5BcUINL18Vxu/UOTDYO1BMKtGzgMP1DHMN6+PvFeLL4SkcNrbTiaaVYHKOwbQWOqiunfvuM1d/uacHQH2tVsIceL32p+cbRrtlDrxOdf/dqU7aBlDKdunSpYy37dPMMrqz3GYZNRwP4ZrhEOrTpctDG1KcrUHVUlxnfnDt0sgLC05OJpN169Zt4MCBgwcP7t69u6+vr5+fn4uLC2wVi8UgcD09PSEaeEHZwKZ+FCB/oblAh2PaLqh6A5Qyhf+hrQYSViAUgrql+24Z41tq7FuRSAQR7La68RPQQpvegsNisdRa397xvluUNScp4PIUUqW7m5enp5enl3+IT1TfqN6jBg4YOrxHVI8AhbfUKeRARUffTyKd7SBEMpVvZLcu/Uf26T+wX9fwHlG+YSqHoCZHU55TTViMQpvVdKX40q7j21asWrb0339Xr9t7+khWWabWotdq7bpKvbm6pKIqN72mLNtJWjz9XP2ifeWBKoLrtGlNLL1NxhXL3Tx4rm5OoQBy2OgdBpocvZRJo85amV9ZVlpm4hDKUK+w7uHBQb4ylpgw2M1GnZltIqRcvlQh4chBMJNmaD9YbCBtqTRJgrRbbRa71WxmOdRWY3llVXVhuVlnJjhEjakwLuXQut1rVi5ftnTlmj3rD6cm5qjVJjvLSpTVaKtLi/VluVVVNZV2Idvd3yc40M9DrnBanGabxWqzCV14LgFymbuKzRU7HVfNKDCY1kTH1LWU/eSmLvPQt0EKBZrU6qqOObB76TPv1vqajnbrQFp3sov2Oihl255oZhndSe5KGV0zztcGNM5XawG9Whto2WuXxmBO5Trqb6JjAoy/FiYU016gyxQkLrhQ361QJJcpVEoXlYurUqmSyeqsb0E/OkB6GfQ6jRqo0WrQ2Lcgbe2EHTTlHa0eIO4chF1gt/kr3Af3GfPozJdeev61V156+dW5c1958qEHxnX3i5DZxE6L3YF6agE21HUSLXIxP9RTGeohlwpYaIuTBXrRZKq22vROUL/Gan3mubRjmw5sW7t69do1azbvOBx3Os9WTHrw5G4uKp5caGOBlqx2mGqEhE3G50kkIo5IQHLYqBe19maA/5uWg2jsWKTvHXab1WyyWcwgz+UivqdUpBIKuGyOA/KJLlRtcpSr8eQgHdjusDotJpudMHOdTqmRYGUVZR4/tWPT9hWrNqzbsGLb8e2nc7IqCKFELnFXukj4XBJaIUY4ax6HpRILPaRiuUAAacFxUa6px8KNzwCDaXE6qq4FQMMw1FerSDJd82t349HuIejX84aHbiyMyWoL5fLu0MwyokBx72rDof0Bbynayq/RBb00MZibQMmren23tea3VAcumr1MrlDU9d3abDaziTK9BVDnbW3frbmB9S3idntwkdhzOHgOQiWShQR06t1z8KCBffoNHTpk6OBBvWOiwt3FSo6ZZbfYQNfW1nG0D4sl5HJcJTylkM12sAwmh9Fkt4JIZvPZyDaALRCJVZ7e3kHBvv4BPp5ePl4+/iFdI3qNHTxh2uTpY+8b0aWbn8Kd5xTySDb6GM3hIB12BzJDrT0InBAaGoteagMbQodTw5Px4GqwuGyCTVqdIP+RtkSzNaDNHGSSC5vZLC4VQBUCbK/XFqUPS8d0woF5TomC6+Wj8g8I9PMN9vX29fF19w3zi+zbc9ikiZOnPj5+4JRu3jEeAhGfa3eyHWwWwXLYSNTsuPokQKnRBdP0CWAwLU0H1rWNcmB36n8wNcDcC3AZ3RFQn8t1WrbBgsE0G1BW9LoOUKigbtHwCUoVrMUisYDP51IjxIE6Ip0k6sHVocnL9Kjvlpq3jLG+RUAKdMq3Aa28nE7QlXaCIO1odA5IHtzgg6Rr5SO1rgMCYRt9ZEqrO3kCiVTlK5F68Nh8oczLp/vYgVPmzJz9yotzEXNemDPnuWeeffbhR2dNGD+8V3c/n0ClxNOHq/CxcoRqo0Vboyd0Fp6D5PJAoHII1I9sc9rt6N5qXLNTx4X/4cKJlC5ShVLA5hh1+tLKmjKt3kKQLOrqcdkkGovXYUfSHFqg9PnCH4uNck71+iL5CbKYL+WKVVKRUMXn8IUuPO9eoYOmTZr1/LNzX33xpbkvvfQSnMKzs599+uHpz4zvO6O3b69gV6WrG1coZRGkVqMvqdLWGM0OSAkNV8thk3bSbiHgkkI20eEwmNYI1rXXMu7ndtXf2S7BZXSnQB+HEQ2/GKu/YDC3AlKCQK0qBaXF5fJQBy7dd0vNW6ZQKEHngswVoh5cFmV9i7puTWj42/rWt7U9uBS33ndLzzdmt9ssFpPJjGaPRZgtFqvdAfoQib/rgDyDrIaFPg0QbzyxXOIVoHL3VrJ4nGq7uVrCEUeG9O4xaPDAgYMHDhvcf8iA4C7hKoFMbiWVIrbSz9UlMFjh5utg8csrdWWF1Xa1mcsT8qQillxUZdVVFOZaiwo4JhPSnJQl7XVQ9x1brhB4+bmq3LysdlFuQU1KRkF+RTkhsKKGgtRNYJbbiwza0ly1rdDItqEBHbhCIZ/F4YKbYIFHIpbyZDIRi+Umkni5uUl9PI1yQaXNajLzvSShgzv16TN40IBhQ/oPHdx3QIRvpMTmwzcrVBKhr6/I299NqvDQWzlZZeqM8mq11SYRcQVciVjI1ZWYilPKqwvKSULP5ePxazGtE1wtMZiOCT0eQtPLf+gtw2AA0IbwR6tEELggyUDXqlQuKpWrUqWSy+Qgd9Hks1wO6GALNXKCRl2jrqnRaTQGNPYtSFs7LZEBJtGbQwlrWp+iXZnQpqH6SGt3qN0D3R1I2oolfA9/j8CwME8PV4268mRs4sFTyZfL81gsPTQMjUXW8ivpWZfPJBbEXdFW6TgypZdvcLh/sJuLUmc15hblF+bkmsorrHZziaE8szAn/3KmMaeIZTCBrK7f41kvDw476WTZxUqnW6CnT2iMi0sXk9ol51L1lZTLBWVXtI4Kjd5UdkWTey4rJy2hxJSt41hI0LFSidJdolCI+GwOYbQbtXqNUaO22AiOjeWmDPQN6ioL8S4R1ZzNTT578mL2hRxnlQmdqFGjKb6ckBt/Ov3KlSw9USb25niGhPj4dxMLQquqeGlZFVl5edW6cpKsrq6syE0rSE/MLysoI+x6NscBwrbR9gEG06JwP/74Y8bZymGz0YCaVgPjvRncbxfZ/u//GA/mWoRffeV45zXGc+vQfSdHT148dTaR+rnrdp5s80l9WywgoVDIuBi6PPTJJ3NHeDK+BniOmPvJJzf9UsxmszGuWqCAPuPKGc/NgLe4RCKZNWuGr683E3RToMgsJkdeMstiBg+8VRsuJMmWqXjB3VlcHrNLR+L2qvRdokatrapRc9gcVxeVVCqhtCKUUBsC5RYuKYfDQfPU8fnUdHU8Dpc2puXz+DzYBDLSbrdbrVa73eYgCKTxUOcp6UB2qsgkBnXbUgYMkNR1BQReNldAcrkmfWFW4bnEy3ElOaSC4xMe1js4KspVJeBxbQT9+VYdbK6QzWGTujx93umMy0lJuY5KfqBrZL/w8PAAJVfFs3Hg3uJwWDw+l83mk4StRluVV1JZmletzysqSr8cH5+QcCkusyyt3KlzyF1dXALcxe5KEZfHs1o0Vn2BVltRozVXl5dW56bkpWUkxeenpmbnlWQW1lRU20m2e5R3VJ/wMD9fIUusSarKOpWcUpxa7jApO/t06h0eHugj4yjZbKGTK7DpONZSs6msQleVX5CbmxyXfuFwYnJichWvXBShcHUPlDndpA6b3VJZWlxZVKjT6Uxmm7akorqoXGPhWIVysYorFjn59jKrprCioiq/VFOcm1WcHnc5KS4uISE9p7jCKrApfSUevkqVQsZySAkT16g3V6p1VdUGc1mNoSgnPSXjUlJ2VmpWXkFOXk1RBafG6Sn1De0U5d8lSOEq5pPUWAz1Ly+UExSW2WKtUWusNptCJnNRKaHcoUyZGK0JqFiQfZ3BqNHqoHa5onaXFOpI68xtAyDDcDfZ7HZ4VpjNZoVc5unhBvcZs7njgXVtRwTr2tsGNOgdh0m6HvdC11pNjtxEltmI3JRWumYhCbZUxQvpgXVti9P2dS1D/asKpwDvYlA5AoSQy+FR1RDOC4Wj76WQmYzDboOXNZK54IU3N50CRKNi1gfC2Vw+yeZYjGVF5SnZ+TnGaruXPKpTVJ/gyHAXJahom+M6XcuH3UhDsaksuSA/L1fNtqk6+0b3iwoPCVBwlFwb5Ihw8p0ciUQud/MUSwQ2m6ZcU5lfXpmfm52akZKamKVJUytZqrAeXYL6RLl4KvlcgZwlchHz7XKyyKErLi+rKsjJKsxMS0vVXM7gGAi7zEfNk2utLKXIPSaoc5/IMF8fISnWp6uLLmXlFxRZXDne3UK69IoI8PER893d3BT+PkoVIXYUGKpz8woLM9Iysi9fSkm5fKVYrxMHuQR3jfD18JeRMqnAzuKSBrWzusBcU1pZUZ2bXlJarDcK5GJ/X48gfzeln5eIkBClRk15cXFVYU5WQcal1MTYjPwSjSRQEj0sODI6zFXszuMK2Fy5i1CqZDtsWm1lUUVFXmFR1pVLyTl5BRWk0CL04lqEfDPHKfFRwj7R/p395SoRl0S2HdeUCta19wzIMNa19cG6tiOCdW0r557oWqMjN4lloXQt00lbbyEdqL82FOvalqfd6FoapEmp/KOXMYeLem55XC68likPErlCkUAoAD9ICjvChrpsKeMCgiBopUtC/UQjvTLdt3TK8IqAm4EwE4SNz1X4uEVGR/aJ7tLFJ8BTIoHYILyoyn0VNgflhjChSQz4LkL3aL/IvrBDpL+7p9gp5qDBEggnz8kSCKVSuatMKpeIxCKpXCpzUcrk8E8hcQlU+HSKjozo18Uzwksk4DjtTqGTLxUL+UoJRyyWCcTuEikyKJbKAhSuocGRPtE93QNCAr28Y4LDe0dHRYZ5K1z5Dj6hs5MsQugt8+seHN2nc1REiLvCTcCRKRUidxe5ki+XsAVCMVfsIhHLlXK5VOWu8gkLjurROTI83FPqKiS5PL6DjQZUkwkFMrlSrHSXSlzdPHz8QgICQn28Pd2UEg8XiUAm4QslKqHETS5TqhRSiVjs4unr26VfWNc+4X5uvgJSTDpYbL5AIRWpIPMioVgsVcmkSogqdfPw8gyLCQjtGuIVEOTjGxARFd4lskuYZ5CrWMyDtzMUEXNdabCuvWegWwnr2nq0jWJDsNmkzezQlcKTiAm5IQLPcL1Ox3gw1yJXKGwVWYzn1oGnFaw/+vKPhT8s4/C4tycCCHsJLqCmgALi8X0Zz82Al7K7u9vevWv79O5OK4abAxJAU2E9vNSpqWxcuTrsHJ8w4ZjZLIGomXdce+L2qvRdIjMn/0pmDpfDCw8NgtcV+nne0U4+6au7zlBvKfNWqGmoTxV98GWzwhvaYkZf30MELmWBQEfmUKOJiUVioUgMOgkSoWsom+Nksx0E7KPRG/Q2C8nnSECTiWUyPh8ORI0zcA30V08ghM0ak1FvsDjtXJlQhhoPYj6bz4xgy4FcUsNt2exmg75Gq9OZTHbSjoYtYJMcMVuIvoLzUAmlaI4Hp8MJz0MOx2EkzdVosF6jw2CFE4McijgcqVjKlsqsLNJqtXCcHJlIDscSiTgsLqG3mSDTkDKXFMjFEC4SiXhIqMJJkRatRVOt0xm0ZtKKOp3RHcnh8WF3uVIlEwuFaLAFNPkXaTHYDGqD0ai3OE1WDpsnFisUCjeFHJQ2nIVNbTNUafVGjclpQScAF93B5QuFSg+5i7tcxBez7NRvN2wOD87EbIZzrTEYzFYr6SScTpDOAplCKBQKCLvTarWxBU6RVAaZFSFDDXQ9rgUKDEqtRqPNysnTGQx+3l4hQQEiodBOQGLXlUVLw6cEd1FpeW5+IbSVwoKDfLw9oIrQHy+2cqAJwePzDEZTVk5+dU2Nv69XTHSkRCxiNnc82q+ujejF0mLZ1ARKhS0znnHfOndE12qclTLqjYW5HgOPr2LDU7VZ3L6uPfgvrJvWteHCcc9iXdvitGNdWwd9wWFNO0gnSSBbW5uNMre1E+gfQdgIAs3bimxy+QIR6tYV8QWUtS7V7cvmcNErHtxCPo/P5rJJp81mt8L+cM1ArV1fppRdAofH4UE6IM5YHLi0NgsaDowEVYsUJL0P2hkN7cDnC+E46DBoR9iKPvZCebPZHXY0aS21AQ7E4XMgE3yuAAliOhTes6jcHA4eyCZkZwE72uDsQOWxnBwBhy8S8GE3eCVfDSfRkBKgMgVcdJ6QUfShNzoMpIlshWwoJuFA86WhmBwQu1wBnDybB1kAoet0QM7Q9SNI9JEaV8jjo63oTCkBi9KB6kSlQzhIlBOUWQilO8/5yBYaskSdEzpXNAobKFw4AQ7X6WCh3nPYGc2rQRdcfbCuvWdgXduAdqtrMXePO6JrMXeK29W15db9/9xI1/qGC8c/j3Vti9MRdC1AX3N6DdWYBl5PSM/aLBazBf5AcUIgPH8gGgAOJGKZiSDE4AY5hx5PPNCgoD5hf8JBD4kLVbjxIgXJxgXlCDtwQcCxHE7Cjj5Ug8NcswO4KWVLjeLK9BsjkMUOHABEISNrkTJkozRRgpALdKtR4fCehdOBPMHekEWQkLAPaFIH5M0JQpQaIZaLTCnQmLvoizknCHN0QdBvzJAaOrKTyROdBTgmdWRIAr3G6ZhUFiEmpWvh8sERACQ8kYJHuYJItemg8wK1SsBVdkDk2mDqsOiS0L3kzBnAuSJV60QyChZwwKHRuaOwa64WBToQ1rX3BKxrG1DvDsVgMB0KaoTOppdW9+7BtGNA6wCgLWjxRAkrZG+AFKtYKpXK6PkdqOl55aBkYRcbNXuZsXbgW71epzdoDTqNUacx6/UWk9Vmd4LcRJLuOtVVC9UP6bARNpPVYrJYrFbQeKjbssEOcC9ANLvdakHmEVexmK122KVW1ALUjnBYwgppWiwmJqIZ9rOhHmibxYbCzRZwox1RZygV32K31oaDXqVmFmNEPlLnFhtkD5IxoQQtkDbJZfGFAolULBaJUFcuaFK4coQD0qdimtDKxgzWSyXEIgnSTh2FyhAFSg0ukx2UcZ3WpS4KywkHtdogP3VnAOdqg7ioE92KmhlWiw0EOPWYaHC1MJgWBetaDKYjAq8jSkc0scDrqo38kINpl6DKCXWQ+jmRx2PGvlWqXFQuLvAfSFuxWAKql8PhOkgHiCwQtVqNWqOu0WqpsW8tyDCXlsgAnWZ7gJa6DqvDojPrtTqtVmcwm+ygxZE+btfyEnVHU13XjQIb6G58JnYLgzILULlF/0HWmS0NoWPWnQATivlPYF2LwXRUHPVmYWh0wWBaDlqSAvDq56J5ywRCBGVzIJaAtJUrFLAGL6gDq42eUcxoNhthTfXf6qh5yywOh4NKgZI/FK1G/twiyNBAgHqYdXmajIPJx1Yf2LvtwNnkxGJThU1AsOD0kOFsewNaJaDZQfcJxEKJDE1aJ79ugUCpUCri8Slp2JINGXRsqG0CnlAmkkG2ZAqZRC7ii3hI2qLeBCYeE5PDFfJEMjHElIkkIh4P8n9NJMztgHUtBtMxQeZyaCrdphasazGtA5C21IoBQng8nlgslsuVqO9WrgCdy2e+IONxOFySJC1mE9WDS/XdWi0E+nLqKnQibQ7UYckXslmkQ51Rlbzp3PafNqz+d/3Bc6fzjCUWIehaPhviMJHbD3BGSMsTDqvRYtDqtRo16pdX11TXVDOLulqtVesteouDQAqYXTtyRktA62rCajfrTDqtTqNV64waM2EikFgFaXu1fKiYJGGxm3RGrVanNRlMyCDkhmYzmGaBde09hc1mC6hPeQVCITyF22q3QTvCYSccdrPDDk/ENvB9wJ0EnrJ1/bKNLtgQAdNqoBVtnSpF/a/UYLd03y1tfQsal5K5cpEQWd8iK1ATGvPKaNAb9DpkfXtdD26b67ulJZvTXG0uv1ycnnk5JfFyTnGhxqZ3cBwsOJn2p4hQRy2Hx3KYK9XZ59NPbjm2Z8O2LevXr1u9bvWKNatWrFq5fBWwac/6w6mnM7VVNo5QzBcJudRlolO4l6BPENlsu7UmtyzpUPz+NXt3bFp36MLWS1XJ1Wybkyvls/kcKl/QRuFxoZJaqtKL4w+c27V738640wnlxQa7HQ2igYoZi4PbBuvaewc8QK02W15h8aWUK6lp6RVV1fCMxtK2BXE6WW4ert179Owc00WpUsIbk9nQQWggZBsujV8NqLF1MEEUTFA9rg+kY2Iw/5E6mQvu2r5byvpW5apUqKQyGYQg61s2mtzBYjaDotWoa2jrWzS6qwUN5kVLZIBKEipnW6ifTGa5bJ6AJ2AJhEIBH/34TsmgttkLfSNQoaAxxfgswlhalXo4YffSHav+XrFy7aoNWzbv2LF9545d2zfv2rp2w6bNy7ce23wyIzFfo7aSDrgeLdB1jR5xXD6XzbFZKq8UnN9yeuNv61f8uXjdjn8PXzqWpakwkfS4FihrdEyWxVSWnHt646E1a9atOrn/dFGuzm4V8Vlo9r02UR1bKS2sa1HxXguzoT0CZ1ddozl0/PTG7Xs2bN29bc+hkrIKbCneUjgIwsPd9bFHHnzxxSdffunpKQ/cJxKJal9yHQE407qhDxpbUIRGrobJZEpNTb1w4UJeXh4TROFwOAoLC2MpkpOTq6urocLTgefPn798+bJer2/fNzjmXkJLUgAqVT3rW2R/K5Yg61uFQglrCIVabLVaTSZkd2tGJriA3mDQGw0Gi8Vc23eLPt2haQO1lMNFY+4K2XCuIgEfSan2e2PBuYFMJW16c1VOaXrylaSMjDyDmuUi8Y/wC4+KCPaN8uSo7AUl6WePnTi542TKqStVJTo7C5Q/rwWuCqhw9G4xVuuK04syUtOSL6adPRZ/4lDSpZT0GlulU+Jg8/loODo6JmE3lGsLr+SlpKalFOYU6bQ2h4OyksYPyv9Ci+laeHYANputpKQkh6KsrAza0G3gmXK7kCQpEgr79uz25CPTpk0aX1pekZ6ZQxAEPEmZGJh7BbwOoQp269a5a/fOK1duPHLsTO/e3cLDg6As0KaOAJK1aDz3phdQt0zcOuD2LC8vX7Nmzeeff75ixQpaVdDhZrN569atX3755cqVK3fu3Emr3uzs7OXLl//9999//fXXyZMn6+JjMHcK6oaFFQOE8Lg8kLZoWDBq5ARor1ITDKAFbnB4DptNZr1Oq9Wq6ZET6L7bOuhEWhS4SyCn1Nf0VwE/0q/NuH8gEkRldqulUcVOdR2iz/HroPR9IxFRgtfEa25m/jOoeFE2IQNsjoTN9nTx6hkzfPqEp19+Yu5rL7/4/KvPTH1sZEhPVakp6/Sxw2f2nM5JLTaYIXfoI6x73utJVx642Hwh1EKRSMa3lEuLTlVfPpOYUZ5a4dTZOVwepWmpmGwOj8MX8IVCgRD+gxKG/OLvxv4rLaaooJVcWlq6d+9eeEfCmw9YvXr1oUOH4K3Z4J5CFZoK4grEPGSS0oZRKeWdo8LDw8PCggMEfIHZYnGQ5L2+8TDokeJUKORBQf5VldXxCSmxF5O0Gm23mGh4/XUgawSyaWlLj6spEEDlZG7A2rtSoVBMnDixf//+Op0O7mI6EIAWmtVqhfD58+e/9tprMTExsPXYsWNwR8+bNy86Ovrs2bPQiGViYzB3DkrQ1rO+RUKN6sEVg76lR05AGhcWuUwOwbAH3YNrNBqQ9S0aO0ELi9FgsF7twW1cCd5tqJl7eVyBSCiTyRQyOSzUJ/8KmVQuEYoE1IgHTT6i0AYnkkoioVgqhQSoFNBaBiKLjywzUBy0oD80f4RIKIKIKA61gFsoEnK5oAghChoNEB4BXFBpArGMupR0ajKZWCjio3FzmaPebaBQoVnCE/P5SplLgG9YTKde3Xr1jO4xaFjMsDGDB/YYFsoPc2Qb0xNTEzPTCrXlVo6FjX7ObwmJQzUV+CKeyFMkDvCUCr05Rdb8pORTlxOTKqotBEuCzGyp2S4gJg9iIjtxNHceKPfaWTAw/4GW0bXwsKiqqlq6dOn+/fulUmm3bt26d+8Oj6Fdu3Zt3LjRZDLVf5rYbLaCgoL4hITEuNjyiir02Lrnz5o7BeQccFitCSlpIGp9fTxFIiE8iZnNmHuIGJCIqqvV8PKCl5xWZ1C5KOFNdm+e0q0A0K/XDoBQfyFJm9VakJ2dkJR08eLFS5cuwQ1LiQenm5tbv379goKC4IYFL5MYBaiK6urqwsJCuJ5CobCyshK8YRS9evWCa3v58mWI1nbvX0ybgK6oUBvBzePxRBLG+hYW0LdIkoko61uq79ZiQda3agqdTgNKF6Qt0cD6Fmrsvai06CjwBOKyCdJmNGtqNJXVVRVVlZVoqajWVGnNeguLgBw1lRdkV8rhOO1Oq96sq6mBvWH3iurKyppqtUFvtttAp8LzDu2PJDuX7WA7zFaTVl0DcVDkigp1dbXRYKa+ooWsoPxATCfLbrYZavSQYhWVZnV1jc6stzptJJLZ90xGUOWAHlxogmCL00aw7CSPJQ6QeEV0DvLo40oEWqsckD+NscrGNqO8oU7llgBVG9IhZbN9XD2C/ANVIntVcWxC8rmU9HJdlZNLoE7blutWbO+02IWFFx685J566qnZs2dPmTLlgQcemDNnzuTJk69cuaLT6ZhIqB4jzREXFwd6d8eO7bm5BaiDs82+F+ERAfm/lJZx9OT5bl06RYQEX310Yu4hcMnR3JMkmmsevQ3Q4xsZg3agkoA3HJx/Ewub5bSazRfj4jZt2rRu3bodO3bk5ubC9aJvPVjToqE+ICDc3d3Ly8v//fffP//8Mzk52Wg0QkwXFxfYCs1XiKDRaOjIGMxdhX6uAnBnc3l81HdLI0LNWSk1eoKU6btlQRPObKYHvqWMb6nBb40G/VXrW2QTANy9Hlz04KFm0xVKJGwpT20tSrhyaPv+VcvXr1y+Yvm/K1euXLZp/7pjV85l62usTg4f8nJtNpDY5bB4Ei5PILZXk8XnrpzevHX9yn+WLl2+fPXKVTu37Io9e6WymODaRSIOGg1NwOMJ5DyzyJhVkHR4//Z1q1b8s2L5qn/+2r1hY1Ls5Wo1i+2UCjgCPl8s4fNJovpKycXtZ3Yu27hq6bJ//lq9buOWUylnCu0VViFcExH3XioJKFV6LjQTlI/J7jRyFByZu7erPFDGdSNIvokkHU6SyyJbUjaiAnU44OUidXMPCA4J9pCT2rJLsckJR65UpVQ6rQ421WlLR8bcYVrsusITRi6XZ2ZmgpCl7WvT0tIKCgqgMc3n85lIVBWWSCQjR4589dVXn3vuuc6dI0GIXP9ObRPAAxHkVG5+4aETZ0KC/EYO6a9SKUlHmzyXtg6UhdFg0usNXp7u8KpSyGWuri7l5ZUk9RpjIrV7kMlBgzEQmIV0EGKRaNTIka+8/PKbb7757LPPdu7cGW49uB9hP3pdHwgB6TBp0qQvvvji5ZdfBmGwdetWu90O7zz6boUIcGHBS8fHYO4NqK7Cn5OZRw9CoH0F7xTaMkEul4movlva+pZ+uZjMJh2yvtWAtEV9t4Qd1C0AdwVsRQneeeCZQ7WuSRtprdSVp6ZdOHx48+Ztqzds27xl586tO3bu2LTzyLZjKeczq9AP2ehLMdQRefVRRfXBsp0Op1Vnq8mtzLqQeObAvr07tm7fvH3bpo2rNm5YuXf3wUvxeboyC9vG4kBznkMYSE1ORcbpM8d2rd20ZdX6TVu37ti+9ciefUnnL5UXaG1m1Pvr5LAsZnVByaXj8fvX79+yZsu2LZu2btm5Z+/B00kXs6oKtYTFQffsMhm5F9CPEjS2AOr15DmtpM1oMFs1Nr6J68KXurnIJC5ip4iLChweci0CqnIOO/wvUfj4BHYNCfN0dyktr0o4FZ92LrWyQks4uTxonNzLy9ZxaLHXjK+v75QpU06dOvXnn3/+S/H777+Dxr3//vvpDp46oO6qVCpfHx/fgAC5VNp26wE09svKK9Zt2XUlI9tFqSwuLS8tq6C6n5kImHsGXHOT0ZCdnadyUU6YMHrsuBFSmSQp+bLdTnQgXUu98htfSBKqq8rNzcfb28/Pz9vbWyqVMntRygDapaAGAPDCFQMg0MvLKyAgoFOnTj4+PkVFRSKRCN4+5eXlEEetVlssFohAJYDB3DsoWYvsEtBSz/oWDX0rhnpNm98i61upTCYQCEEIUbOXUda3RtR3y4x9i3pw787Yt2wQOBwRy8gz5ZVcOX3kyOGNhxIOpRuKnW7KgLCorjGRUZGBrjJXh15grnE47ASLMmutA7LBBQlKsjXZxryzaVmZFyqE5fxQn+DIHt3CIsOUbs5qU0pCyp4zp/alJqXV1NjtXK7GXp2WHndi37Gze5LLUy0qp0dkWGR4924eQQEsq0GTk64uLTbZzBpzSWLu+QNnD587k6jON7kI/CIDY7qGBwUE83WymiuayqICk6PKwSPROTDZuYughxNceAFfKBXLhTIJSyrgCMlKojo3Pa80rsaZI/Mi/f3dXWWePKeEhX5/ayFZi3CSNniSsmV+0oB+kTGd+oWbA4hzVSkHExIuXa6yVji5Dhafj1oOmDsM9+OPP2ac9xZ4C4aFhQ0YMCAoKAjedrAeNmzYAw88EBUVBdUWnj5MvDrYbNJmdVj0jLetQT8Bi0rKEpMvQ8u/Rq3JLSiUSiQ+Xh48Hr+R823F0Ody9OTFU2cTUbdBGxSCkGe45BqNjsfjjhs3QqVU7N9/NC4+Gb322trpwNtaIpHMmjXD19ebCbopcPomPZF8imXQoZ8vaS1bf3EQbKUHL2YQi8dH3nrA2z45Ofnw4cOZmZmBgYFwubRaLUmSNpvt8uXL+fn5GRkZsbGxIHDHjx9fVlaWmJgIN/vZs2f5fP7EiRNBSrT+2t6q6kCNWltVo+awOa4uKqlUQpVPW3pctE7oawgPLx7US0rjUh23Qg76Uh1KH64ydR84HDa7zWI2WyxmG2V0i0w2ax96dCLg/m8VBlQpn8NyiKwl5qIL508e3rz/0qFMrtGrT7cxEyZPGT1x/Ig+PXpG+3hEuAiCfV3cPcQ8c74mNz4jsyDPoHR6dg2K7hkW5ObNtUhqkmoKL12q4mQLe7lHDB07tO+EMb27d/Hzc+o4hQWlWeoyvZjt6ukbIvaVVBqzzp48cnTDmaKz+gBZzPix4ybNmjjg/nHhnaJUbJJnUnOkQr6LoMaYfSTx4N7jpwuuWMJkve4bMn3GhAljRnSN6u1CeHG0hJBvkHrwBCI5m+Rf+95G3c8cjtlihZed1WZTyGQuKiU8CugfcJoHXFU0YACbQ1rVReqc5NzMwrwagVUZ6Bnm7+/rLuOyBJp8sjghNeH8obiCc1pXU3DfzgN7Denk0dmVJ3Q67Y7mdtdCMwVyrzMYNVodlKarSiWXQUu+EYOrpkHVgMvnkoTJVJZRnpGala0utXsKw/oG9+rWyZ/j58hklV1Rl+mMDqXILcTFy13GMjorUksy0tJzbJXOINfw8Oge3v5eUiFBcgiU82ZmHo4L9RbqJzwrzGazQi7z9HDj83nM5o5Hi+laACo9NJa9vb1B1IaEhPj6+oIXSqjxpzaEOwin1cB42yBwXkq5vE/PrsMH9+vXu3vvHjEBfj6CekYXbQUoI1i3aV0LQPWz2+3Z2XknT50/dvR0ekYWQbTJztrb1LVGHZF4kmVsQtfCpVB58LsPRbq2HnB9QKpu27YtOzvbQiESiSoqKuBiCoXCkydPnjhxIj09HW7nqVOnuru7u7q6guo9fvw4yNmxY8dGREQ0fne3MlpVNcC69u5B9d0iQG8B4IGajLwgCrhoPkjQtXZosdlshB1ZI4DKIUn4HwEOiACRYRdw0DDp3hIgSuAtQFoc1ZdLLh09dSz2aJKlQhQdPnTsmAnDRvaN6ubv4evj46mQeiqErh6uYgmfpc3R5MVnZjG6NrBTjzB/dy++TWSvsRBOozRUFtg3JsZ/SISnu6ufX4CPD1ngKE3Ny68oNKu4/sEhnVyDJVWW7Iunz8btvWysdoZ7dhsxbsSQKf18vN0C/P1lAief6xC4uojk/Gp1+qnU0yfjLleUicM9+o0dcN/QIZFunfz9vFVsNwHpECudUlcxjy/nImPS+vXyTuvaYnVOSkFOXoGW0JAcm01jrMjOv5yYFnsq8fyJs6lFSQZvMmhw90H9x/QJ6eUr9RCgN6692TfKnde1malZOTVlNk9eUPfQntFdOikDRDpuWVF1elVZId/M8pN7e3i7EkJjRsmVtCuZVqxr7yAt2QUO1QiA5wIy5xcKwUGHMJvbIwIB383VxcPNFRZ450vE4tt8FGLuEEaTuby0vLKiymKxdriygHsNntpNLY3diXB7QkP0+eef/+677xYvXvzCCy/0799/0KBBoaGhIGGnTZv29ttvv/fee08//TRIWzry448/To/81adPHyYVDKZ1QL1wELSRAtz/ILwkEqlCrkRT8qKxb8V8gQDJXD5tfeswm02U8a3GoDdYrRZoDNfKXAQkRSXc/CcJJYa4IJ6M1RWFOanZBZl6p8M7IixmUJ+IruEucp7DarWbTVaWRCb1D1R6+Ur5Qh7p4MCxanUPOgEHNbyXa5g8dEBkWHg3N6u7TVepNhmsZE2VycBiC/zYcn9CIDHb7BaDmWUihCy+BF5ACraTZagiSrIr8jMyy/Rm0qLVC1Tu7tHdvQJDFQKhgM0RC8VCkdjgJPJrKrILsipzK1lVWrOJ72n27ubuExQu43nz7dA4dkCLi8rP3YHqKOc5eTyjVZ9TeOlk7P6tB7dv3rJj38YjKRdLRcLwkaPGT3lyZM9JEfJAOctOkta7nKFmgOaAcxIWKB6ua6AienRE99E9vP3cy0pLTscmnEtLq9BWsjgOOC1Oi0qxdkfLX0x0T9bCBLVf4BzhOWiHP4pbaQti7gpcLocLbyw+j9PRPmmC2+3GC7w3G7sjBQKBu7s7CFbAw8NDRiESiUAQqFQqLwq5XE43EmANW318fED18vltzN4G0xGg3jwASFKkSun+Wsr6Fs1bJgVtq6hvfYvGtrPZLGaT0YTGvjUYKNNbyvrWYLVY6A9PqT7cZv6QheJweHYWS6erqirOUFfk89gOHz/vwKhglwB3rsBpNxuMZrOF4HA5EjlfIkRfS11zH4EbjXnK4QpEUpFUSFir09PPbd+74c/lfy3+/ZfFf/69bu3hpOMF1mKHyClg8TmEw8mxilUcVx9PmWuw3awsTdUn7ju3b/XaVWv//HP35m2XLpeYHW4KsQrua7mLwtXL21Wh4pp1BVlxh05sXr7t37/Xbtq2/HzRgUp5DcfVQ8LzELJ47Lv9hRakDkUELW4BT+ii9Ar0DYsMi4wK79Q1vNug7v1GjBg8YFzvyAEhrkEKnpiLTGtbyyfZDhua3JKj4LnEhHQd2G9Ap0h/m6kq6VxS/OG04pRKm510SvlskLZ39/p1JHAjAYPpqNCdVE0sSNo29qSlRECzuD4ynQIG02qhKyrd40D13UrkcqVK5QILGhpMKhOLGTNcB913q9Np1DWwMGPf1vbg0ulAIqBubyhw6eYf6FoLYbFZtGyrTkQSEj6IVJ5TwCUpuzxqd0gNLZS+Q/460JiuaOgC0uLU5WkzTl44sGXtqvXLVm3evH3Hrt1b9+7bd+DU5bMZ1ny10O7gCDgkZJ6QuvM8wwJ8I3p7evRU2F3NV4rjdx9Yv3z5H8tWrNqz/UjKhWxNsdVJcOVuvkGBnboERcW4uyh51ZklZzYe3bB42YqVv23Yv/bUlYv52hozCFraEoPJ0N0Bzpx0EBzCppC4dI0aMm38k3OfeOnVl15+Ze5Lc2c//MDUvkHdPBxStsVsp3pq0VWld2xpUAk6CQvL6ZC7BkZEj+jRbYSHt09pednFU3Ep5y6VlmrsDmgXtNRIu+0RrGsxmI4KvI9ok4OmFgym44FkCAWHw+GhsW+FAqEIFroHl+7AlclkAqEQ4tisFrPJhBb4M9GjJ+jgf4vVQpIODgfZmNbRmPSjNCr6Jp7HRfP/snkiB5tDUFa8Tgc1lTUVg0qHx+FwKbl2jbDlgvblc8xOU2FZeuzFQ8eP706Mj9NWmVWywPDgmC6R0dFRwV4hHjxXsYPLBm0Ioo9NsBU8l+iQXqNHTZ0687FJD4zu1tOTEFcklaYdS0g8fejguSN7L6HJsUgRP6Rr4IBJQyY/MW3y5IeGhvfzMpI1WUnxsalH9iecPHAu4XJsganYyHU40RRad1mZOZ0OtsMh5Is93QI6hXXv1q1HdO8+vfr06dk9OjzcS+omJNDX5QRpb32PLofNSRI8rkuIS0z/rgMiB3Yy+tvjKpJPxZ6/Ep9nLDDyrciOBNoHTHzMfwHrWgymQwKvRlCu6Oe6Jpa7/LMiBtPKodUt1XuLvhIDcQkyVyKVyhWNWN+C5AQpCtpWp9VQY98arFYr3XdLU2t926BjE91lJClksRRildItQKDyMbH5lWp9dYnaVm1kO5xcoRB90uZ0OAiz1W5Fv6ZQnbw0bDTJLehattFhyMq9FH/yaHpSEukU9Ogx4pHpz78893+vv/zS089M7DM+WhyqtPA5Dhvc9ARJ6G1Ou1Aa3itixqzxr77x5PPPzH5wzAMDA/uGOVXs0uL4pIs7LyZdzC0y26rE/hyfIT2GPvLEU7PffPHRZ2aOHjUwJsRdyNekkGmHLyclnc42ZGrYhJMt4N79LkfUNw0FQs/L4LDYWRazzWK2muFa2x12h5Ok+7/pyK0IJzQo4JFq4boRis7BUd1H9fQZ6ab2LUksv3Q5Ptd4RcszOtCgGHiA7zsCvooYTMfkZp212GwA0+GhhW0dHGR9i2YvQ323YtR3Sw19i2bolUplfD5tfWul5i2jZi3T6/Q6tIDfinpwyboe3Fp1S+laB4/FkilVbr5BSndvm50szCjJu5irza3hsPgCqVyqVAhIo74mp7iyoMJosTl4XOdVCYle4lyWjbRW1ZQU5+WqS40Srm90WN8Rg4f1GhAc2qObZ6BCwNazzWon6aDGXgAFWJFpzEsoNRorvEIloWExvUaPmzZ18kP3jx8Y2U1s4dcUlF7OKykrqTKWZ+ZrrqSz7aRveHSXoH4PDJvw4IxJo6cPDOjtouNWZRYWFGZXWSrNbBINKUDn524D15iaR9dqsVrs9KgsVqvNRoBcb80PLcg2aXdwHTwXl9BunfsN6hscEGXSi4pL1WpLlY1jc2JDhDsG1rUYTIeDeaPCa4D+WqaJhYqFwWAYkLZF3beg4tBEJGKJRCFXqChA4IK0BbmLrG85HAdBmFHfrVajqYFFp9NS0pbpwaXSgfuL7rtlo1FxWUKJ0sc7KCIk3NvL3WLQ5yVdvnIxKSevoNJkqKgoK8hIy0yMy8zIKteY7SSXjaw2HciowEGiMVqRgSZXAkpb5SqSefFYKsJkV6uLq8zOkqrsSynphSkZlqIylsUK+eaynQTbUGguicvLiI9PKY7PdhbVaE0CN0FQN0/PSH+eyo8l8/SRqzzYXIe6Oisr41xiSmzSlRJ1jc1RRXh4efn0iXQPD/aWuHqJZQoXCU/KQybAd++BwbQB4Mqj04U/9HxCR0PXj36YIeq7WwQqO3RWqWqCuulRbpkL42Q5CQvb6eC6BcmiRoVGD+nh6xsh5kihssA/ODP6pDD/GaxrMZgOCTxB6/fOXr/gZywGcx1IkFKAeAVpyxcIBQIR1YEroj4yQ9a3UpkcjZxAOkHIXrW+NRrpwRPQ52WW+ta3bLjd2KA3lUEuEUN7DxkxYXBQV2WZNmnf4fX/rln+979//710+aqVO45uv5ifWGbTEiwOm3DajVYjCxI0mIxmu9PCknAkwQGhET26uYf56+zqC/GHV29e9u/v/+77d2/G2Xythm1w8oxmNJCDzc7ishWuPKmEXZ1eeXLFiVXfL//7ryWrd2w6mHI8mSi1Bvl07z1gYs+evYL9pRJfrkZiSb5ycduqZX//8OvSv9fs3HHofHK+TqeMdus2rnevngNCZEEKksty2kGXMRfpTgJKEV0oEP92s82kNxnhYtosdqcDttCXj4JyNmrBfI+olwd4tNpJu8lqMhj1JpPFbifZTmQZDY0RAhU2z43v0iUkpu+AQdGdo1Q8ts1qgIphsVpJ1OXcwuK8PYB1LQbTUUH9PE0vIG0xGEwTMPK21voWZA2Pj6xv0bBgdN+tWMTnC/gCtIDcIRwEbX0Li9Got1qsdmquBwdBOOwWB0nYRV78gIExgydPmzB8Rk+3aGeOJvnQqQO7Nm/esXP3kVMpuelWjkYoYyF7XpFA4iZzFbp7eLgrJTIhl8MWc2WhftE9+w7p3C9G6uPMq7506PSBAxv3XTmQxq2WegX19O7S28PXVyEXcEQCkdArWhbSz0/B9yw/WX1h/ZHd2zas37ljd+zpLGeVZ8/w+0eNntGvf/fIEKVP12BlTLSdtF05e2TvzvUbduzYuflw/Ik8ltFjYOehD4wf2m9omDxITnLZpA11ozIX5w5CXWIni83niZVSV09XdzdXF6lCzBOwnWjWBLTtamOD2aeFQOPIICtqNpsvFkhdFW4ebh6urgqxhM/mOkHbol/B4M9u5pCE3C0wNGp4z05Du/qF+EnlKlcXiUImEHLZyKQD899oyfnGbo22P99Yu4FuE7f1+cbaDfCovNX5xqDInAYdceGo06Bt/FMFh4Pj5sXvN6rBfGMdhFZVpfF8Y20F1FnHRcPLoiFwOWjN5/GFQjSSAmhRqFYOB0hZNHw56GCQOA4QtDarzWaz22xQpmyeGKSbSqV0UcpEQolIKHNRqrw8PdzcPdy9fL2DI8M6R8dEBYZ5CBRcwskSsmVBrsG9Ijr36hwREugmVQkEMjFPKJPwZS4yhbu7i6uXt5+Ld6RvYGiXCM/oME9v/wivwK4RncI6hXt5u6ukXKGQsHDsFpIv4Si85UpPT89An6Aunfr26TuyS8/uPj4ysZhgyQQkR8gykhyLQyyXKb28Pd28/H3Ce0T1GtKnZ49eIS4BclLEQUMQIPHJXAkEvBjgevz3+cagvoP0t1utTiePK/OW+3cK7tw5unNgiJdcznFwCAIiwaGpX/1Ryrd38/73+cboAkXf20JWbHYHW8RXBXtFdovsGhUR6uGjEEght6TDTkBLBp0VHxo7EiEpdRWqgvwDImO6RnXvERgWonKT8HlUMs2/ySHDeL6x+tzSNHEtCjRjbGaHrhSqDxOCaSHgaQXrj778Y+EPyzg8aGC2IhHQAYGHvru72969a/v07t5MxQNF5igrNC/6iCwvbFy52m3cTj0kry1giSQd8I5rVVU6Myf/SmYOl8MLDw2C1xVJOuEFzmzDtDLqag7Vb4e65yAIvARhs1jQiGBWqxU2ISFC9QjArcVGprpckUgsksiEsOaB/rWYjAat3myyglBC7RgWm+PkiXhCqUQqkQvZfKeFsBhMZqvVwXXypUKJVCQUCDgsPstG2k0mk1lvslmsIDU5JFfCFYilIoeYayVspJUQcvgisUwsFKH5Xp1mrdWgNZhtJgcHNCGbzWOjzlypTCmWyfg8yDlBcJ0gu01ag0mrt9kJ9N0bZJkjEAolSolUJhVyBGwCckgPSVYfUIog72s02qycPJ3B4OftFRIUIBIKQdc38zFFXyKDwVBZVU5YLQqJiHSQJeVqm5PnE+Ank0v06hqSsLu5ucGBqquroc3g6urm4uICO97qPcKnBHdRaXlufiEcNiw4yMfbA84UGiFMjKaBo8Ph1Oqamhq1SCx0dXGxGLXlxUUOB0fm4kWwuSarSSGTeLq5QKnUqGsEQrGbq4vdalJXl0It4QnkGq1FqzUqVIrAYD8XlRzVnluZVQIuE4/PMxhNWTn51TU1/r5eMdGRErGI2dzxwP21mFuGfnbj/tpWwm321+p19nOHnXotvKTQi/PaxUkQHHcvQf/RLNTP1OFoVVUa99e2RUBagdzh8kCy8uA/8KG+XGSQCwqKD2IW9UHa7Tabjeq+pYSMw476b+1Ogi0SK9w8vb1BoPj4ePv4ent7e/l4uHoohFK+kw3/uBK+3FPl7unh4e4ml0h4Tp4TfXTk4AjZQqVM6eHp5Vm7l8JLJZZLlCKph8IF2r9ypZQvYJEgWJ0sDlesFLv6uHnDQbzh6eHj4+nt4+LuIhTzoGVLkHakDQm2kCNUqlw8IYIfpAn58fHyguNKBRIuwSYh98hq6Xr+e38tn6KwsPD4seM5eQVuPsFSV4/s3IyqsgIfNyW0vc+eOZOenqlQKuFKnj17Ju1yqlQm9/f3FwgEt6prb7u/FiILhUI4XGpKysmTJ0Dcuri6V2oMcZfSSR43MirEYqi5eOaEprrKxcW1uKTk9KmTWq3G1dUlv6js9Ll4u5MXFRlFEMYraRctRrW/t7ebiyvc382/SgDkAffX1gfb12IwHRP0U9cNFyYeBtOaYKM5ChjJyOWiL4qYDXcCSJyLbAlqE7/tBg6IJAQtWJH1LVJptPUtPa0DNXICAsLp/kVkfavT6nVqo15jMugMBqPOYNFTi9FoMZktZhvBfJvldJB2i81iNUMgGuIKVC3VXep0sAib3QbaxmIyWU0m2MtmttohyG6zoCkkzFarzUEwv3GDELY7UCooHRSZWswWuw2UNiQIFwOuiBN0Kwhw2BflgYpDHReSdMBx0QW6S61AuCxQDgaDIT39Suql5MqyEnVVRUrypbj4hLLyKo3OkJGVmZaWWqOu0et1GekZKSmXqqoqocxgLyaJuw99OFiXV1RcupSclZVlMOirKsqTEy6mQX4qqopLyhKTL2Vl58CJQPZSU1Nzc5G7sqIs5VJiZnpaVXVlXm7+hQtxqalXDCYTrwNO6n6nwZcPg+mQUN1+1JcMjS7wh3sFMa0NthPUDlfIF0slMqlcJpKKeHyQn0ijMTFuF9gf9WBy+GJIXCqDfxKxgMdnO+l5+28jeXQHXYXqweXx+QJkbysWS6mxb9HgtwqlCjx8gQBuOWr8BIPJoNVpamqqKisrK2Clrq7S6XSgKe0gN+GVjcQ26XTYCCRVrTY7ATqVmY8Abl0SdfpCODWqK9qMJiwAPUyAvAUJDJoVTTjmRIIdbnM0wQFoVhSTBiVJ9SCj5GjNCmkSBOyM0mQiwR8cF82DcDefEXDVQO6LREJvbx8fX28oDy6brVIq3dw9BdAqEIk8Pb1gg1QiFYlEXt5efn7+cFXpvZgk7j7U4dDTUiGX+/n7e3p5CoVCqUTk7emhUirYyGRD7OXj6+bhCeUO2fP183V394A4CrnMz8fLVaWEqwy1wt3dy8XNg8sTQDMIVRfMfwDbIWBuGboTA9shtBJu1w5Baz9zuMnvxgiC4+EjGDSGje0QWpr/ZIfAhv2QoOJyYQ2eNn+romGSQKKZTSaD0WCymW0kgb4//+8lBvtD2g6SMNvMoCyNRrPFSpAOFgelTm2+M0BuUYczh8+nPykTw0pADZhQux2VL0hLEKdU/6rFbodTRCa5dSeJKgDth5DWWqb/3Q4BoKo6W6VSBgeH+AcEKlBLQBkYGOjv70+5VZQ7QC6Xq1SqoOCggIBAmUwGe90zOwQaOBxfwPf09AwNDfX29pbJpO7u7sFBIZ5eXpTbIyQkGFS4VCr18PCEc4GY0Hjy8PQMDgmBEHDT+3p5eUPFgINSJ95cIMPYDqE++LsxzC1DP4Lxd2OthNv8bqykwPDN/5GlBY1a0DptVn6XXtJ3v2aL8XdjLcxtfjcGpQa6gifkCYRQwnwOiwsNIMJutdutNurD8TZ21yI1yGXbOKRWV174/+29B2Act53vP3X7LrnsvXdSvdhqLpEty72dHcdVsh23xMk5l8slvrxznHv3Li//u1ycckneJXEct7iXKLasYnWJogopUex9uVyWJbfXqf8fZlYyJZEyVbkU8RG0xGAwGMwAA3yBwQD9rbZuR3SMTbPkFZQWphWm6Q0MJSkfWZ0bJI2eAingCA019vd1dzuloL4wqbCmIC83w0RZKA72TjiK9NyADIbymPIfkgoSlEPTIqARA2jCBDTslhMEHtIJvIAWBAWsgXRUBi2wDFq2V333DUHBI4/ihf7E13N6/t+NqRcINwfuCVjUSwbFD4cft/MQ0jh3iWFYOClsnu3dOJ/vxtTTCWjEtACVI8QH9YQLytRvp9pluHxQ/GCH04ki8k/TyA5+oF5V4w9hnlX8UYD4u7Fx4HEIGMysBIpNSSaEyc0FrMYxlx6oJElC4kOc3+lzDo8MjQyMuIY8IV8YvYYmz6vgRxITRKbyGRTNgH6BSju266IBMUbdfyJLuMJDDe3bP/r09bdee3v7x/ttrc4wR4IuRbE412hA0BqKYuXQSKh7S+vnv/vbW7996+NNWxoHO/1sSIJd5IVdJBZUCwLkDBp9C+IVjb41Gkzq6Ftl3TIdCNkTo29BXYVCQb/P6/N6g8EAFz0+962COmoIXf7FT4dLiXqT4PLRohc6nfrSQenkPmE/xV1/DqLw/FFPB8pYr9dDNCAy8GxAxFQ7PCQn7BA9/UnusdXpQM7q9eCuA7ty0bjsPS+wrsVgZivSmcxkJatafarEnBRiTuM43VH1ibnogE5jNSQt8a6ukYZPD3/6yl8/eOvVj3e8t6frcH/AL8gMEkvnkB4oU6BX4BTL6Ax6k9FkMhj1rFbtOrzolTGcRKKIqBAa9Qz02Do627ocPcMBd1gQkYw/v9yl6GZCCPM+u9ve0dvR3dFrs7uCPp7iCRT0Ba8pVflyHPQSDIQOCzIHxI7BoIy+TUhIPD76Vnk3HUUDE4JAIOD3+33KR2Ygc4PgDtIW0gACUdL1snrQUMGhXJpqAc5sjx02DUwcscncgXF2lAFiNsx5g3UtBjMbgap03FdiExjUm3uaUoFi1+12b9y48fXXX9+/f7/qov6GQqG6urp33nnn7bffBks0GgXHzs5O2ATA/ejRo+ACKCFhLh7oJjOMTAoej+1w0/a3N775m9dfefl3r/71tU8adrc4h8OixDKk8rnVWSaGktaEKAuhqM/lHnEOD7uc7pA/ivqA4bSqp4sJ+m4MqWpV/ek1Og3NKIr2vEU1HI/6sUlay2hZnZ5C/WosTZMyGVPzFxfQtqBckTwlSJbVGIyo7zYhwQraFhQuCF19rG+PFgRe7bv1uF0ejxssISRto8q4BTTbF6A8Z4hLkigXF/WK0M05zhnssWOmiXGRmdg+3s8Z7JjzBOtaDGZ2gpTrKVr2ZKPoIyRX1L8xPB4PKNq//OUv7733HpTFMVeC8Hq9TU1Nzc3N9fX1sGvv3r3guGfPnt/97nctLS0dHR1jY2PgggvuiwxIGRqkmFbwkd5eR2/zviNN2w/1HqxvtB1sbD/c1tPjHAwIfgJkL0rVs1E9KGSKlFkqIPg67fVb93z4wXvvbf1oT2eDPRAQZZpF4xovvowiSYqhWQ2r1Wg1rIah0GxcsV3nDdK1LM3qNFodBM7SFNzKi39FMY7LGvTmXe27BSGL0OkMBoPZgj6UMhqVmRNifbcxkMz1+/w+XygYAHcQSJAOEAgCJQkido6ZyfE78+V2QN289MROH4vAxPaY7Yx2zPmDdS0GM0sB5XrK2IPxhoTKcdw0kCeqxtTU1K997Wtr1qwBF3HcB0xQ9a5evfo73/nOd7/7Xb1ev3nzZqX2jVZUVPzTP/3T888/f/XVV+OC+6IDyUSzoGup4CA/dKzf1n/MyQ5TCWZrSoKeNwYGAyNDdi/njNKChPTvaYIHnE6MnR0PONAUhTowdUyICHQ6Dn224+2333j9s3d2dB52hIMErdGz6lhb9N5VOR62GTQJQyxohBq4OjIXeT5ZNY7bOw7weKF0GeRZZZBjLOTjoEVvp6L9Jrw5EJwiH2N+VI77PMkrbJ58N4DTA0S+YAc0LAFl9C1BgpY1GE1mSwIYkLagdE+MvoWTq6NvfT4vGLBwHJqpSxl5i1AFE0RwKleIwVwGYF2LwcxWJDSPOzGRoWQqHAzv2737jb/85eWXX37nnXc6OjqgioUK0mQylZaWJiYmQv0bC0fpb1Dn3zGbzUajUanqY3V9W1vbG2+8sX37dp8PTaCj+sdcNEC5sYRM8oEB3+DRIbt9LJBgSZtbM6eyolivp4ecrgHbWGQ0QIoSCfp3XIIo/UZIkDGMVq+DVLQYITFVYzHqjWgZAS3NgqaiDHRY9DhGuro6Ox09wxGvqNGgjkStXgMCkaYYZS1Wk9Fi0Bm1NJp0VMkhKHCKoTTgajRB+KDNaIJCS8kqO9FeltLodUjBGS3qqS3gT6vT0CwFddV5NYrg7DJBk4xWozcazEbTiaszGc1GnUEL51ZuxsQnUSJJUgStZbVGg+H4sUogRoNGy5A0WscAeVN8o2thNHq0EIN6LcinzqBjkdCHi0VXDD7R924M3CTwB96U0EwGnR6uVxn/oL6ahgDhaQLFC+pWp/TdHp/6Fo1SgEPV0beRSCQEqjZwYvCtB8ncIJK5EAg8esojOSX9jsHMaLCuxWBmJVC3ioQ0iZFFkufEsbGx3t6+np6e/v5+qCvV2hEOFUXUjaQGcwK1AuY4buPGjcPDw2qHbmVl5bx587q7uz/88MOPP/44GAziavWiAneXZkDA8X7X8HBvj9MRoOjM4srFy1YtWDAvOUnv9Qz12zqdg45QmJcIEFlfJAf6cIqhCYaICgGXd2hwyGbvt9lttn6bbaDPMeoYDfiDAS7k8brcg87AWIQUkcYitbIv6nIMDQwMeLxjATRVlRjxBtzDQ0PD/U73sI8LcChnIFEFDSkhzAfGPE7YOez0BAIcwctQB4HWQ5+eUWJIDDhdIwNw3t4+OLWjv394aMTnDQscamqd2tc5ZVDvKRzN0JCtA2H3yKh9YACFD5cGp3LYhj0jXj6E5oxCficAVCscTYgU74t4B0cG7X19yNhsg/YB54grFBBkAZp5qDcW3UaaIhg5IoRcYyOD/f32Ppu9r9dhs42NjIXDgizRcL2A0kssRni/0zcyMATeeiE+dvvw2IifDwqUJKNJGNTowMOFWpXooUOjb42gbC0J0LYEaQsKF3Q26F1odkCgPC+EQgGv1+PxuNHoW78PxG40GlF7cJUBRrjvFnOZg9dlwJw1apmI12WIE6C2O4d1GSSfN/r5FsnrhVo41s00zkg8r8/Nq/r608uvuvrqq6664oorMjMz1Q5aOBaqxsbGRlC91157LXprqmQAFKYk7du3b8uWLYsWLVq7di3sSk9Pv+aaa1avXg2y+MiRI7m5ueAS/xkmrmJ4NusyoMeRMZCy4Pa0HuzYVX+wRR421hStXHDlkpQU0e1tHXTaKIHMsKZYc3O0iQmsDFJHlOA4mdLQLGvS8ww3ONracHT7ztpde2vrDx08dKC+sflgl7drTKBELxNo62g69Nm2+n0NfXYvF0bdqAHB1TXm6O9zEy5BrydDtLu1u+ng9oMt+3r8dk5Ha3RWA2vQsoQYIXy2sZ7DRw7tP9DU2+MjeX2yVqvTsxSrNdAyp/F1ujr3Hdi/Z9POur11B48eaTnS2N87Eo3oTdrkRL2W1cphVnS5Hb29x7rb+yNOTWZiUWlVWUZZptHIUpIw4SweoOMYgtJodaSRDXDOjp662gPbdtXur6s7fOjw4UOHmnsbbOERwaQzaM2ygx9q6Ops7RiS/cbS1NKFJcWFOWYqQUtBFBnBSzmP2pr27NhTu2VX3aHD9UeOdDS1jQwHSTkxwZBo1IE0l0GtsgY6qovah7vq9+3Zu23nzgMHDtft7zpyxOMKU9p0kzlZz5AUy2pplpC8vaPNO5v3b9tTe2DX3v2HjzS2DgUdopXUWxO1pIlB63mdsqYXUsQAGrCAxiygNyPKQmagd8EFrlcUBTQZLs+LaN0wBXBSviqDm6HqaeBi53LUOXze6zJcMuCWwGN1zusyTC8QYUhTvC7DCbCuxZw1anmIdW2ccO66duukupYQRDojy7BmLa2ByjJWe544FuzNzc2ga6+77roTjvDb0NCwYcOG8vLyBx54QH03CgdqtVr4tdvt3d3dZWVlOTk56iHxTFxl6SnrWogzDcKK1YQ4f4/9wMEju3sahq2h4kXlV89fXG7OCAyHG3uHOnyeqEGfnpxdnmJNMTCiDAaJJUhVKSRzAyM9DYe37fj8kz37Dh5r7e/ttnV32xwtDtEZopINoQS5p6OlefOetuae0aAoSaQgRd2hkb4xt2+USKMs6bl6Dzu4p27HZ29uPbqpVwLpmZ6SVJqiBdUnRryks9HWsGnTps821dtsQooeRcKcxIpaghP8gyFHY9exA7vqGnYfamntaOvp7G5tsNkGwmFNgjYl2WTUmqkIS7jd9p6es9C1yqURIiW6I572zoZ9uz7ZsWPrgfq2js6B3t7e7nabq2OU5DQpmZkJGdpRYbihuw10reQ7rmtzzVQiwxN8iHP1uPsON9Yf2Lb/WN3Rlu6ejq7m7rbGwSEPISUk65MSIQ56mqDlKBmw+WyHavft/mDrgW11R7u7e21dLlu/EGFNllyrNcWkIwkNwfHBkeHmvc07/rZ31949x7rrW7v6+geGg1RIm2ZKSEo2USYtGqVxiq6NAZlAAaygc9E3ZhotqEZ4OtX98JCqjy08hjxaBZcT0SoGsjISAflRjwVgW0XdvFBgXXvJgAhjXTsePA4Bg5mVKLN4yaAEJjdQpkPVhypPBTgIClCn0/n6669/+OGHW7du/fOf/1xfX3/w4EGbzTY0NPTb3/4WNAtI2D/+8Y+7d++GEnbfvn2/+tWvfvOb32zevDk9Pb2kpEQ9OeYigEavQrJSgVF+sG3A3t3sDg/rrfqcgtTs4mRrfm5aUkmelGHulfwNQ0PddhfnCmsEiabQ0gqEXvYQntaOw9s3bNz61o62PUNM0FqSP2fBkmXLFsybU5FuyqSCGkkgjWmpBUVVZTmlGeZEpKKMTEJeavGcijlz5pTlFiWzyUxIDo6MDIDo6x7pG+oZC7sjIA3QTAoUIRGcP+q2D9s6unt6+obdrgjJgfzhg+RIw1jnvkPdzvpQlpS2YN7ihatW1MwpS0wThwP1h+r/um/3lrbmXreXJCQNGrEwVQmGxg/QLMnpeYe37+De7Zvf3rjv4yNjHUKqsaB6ztKlS668ck5pQbFJThJdtBAS0Njy8WGTpPKpFxkcEvr39XXU77eLHUSZtXDhsmULl11ZWpbJmEa7HTv21X50oHafvc8dFekgGeqyN+/Zum3nh/t7DnhNXPrc4ppFK5eXLV2ckGiMOrpdvR2+oC/IuToGGzYfAH+1gy0uK5VVU3LF8vmLFs3L0OdFu0Vnu90bsEeZiITmZDhlBEbsgVSATZCPoBdB2KLRt0ajGU19m5iojr41GGGXKIrRqDL6Njb1rRf+ggu4I0mkKH90VxXUU2AwMxesazGY2YiMuiImNyIJunZCOI5zuVx5eXmLFy8GC9SSygC+KLjX1NSsWbMG/AwMDPh8PqgvoeIcHR0dHh4uLy+//fbbk5OTT1TGmAsM+uKLJghJGHX4Oo/12Xq6RTmamZ5VnJefmpmky0jNSCuYY86uDGpMNqfP3jUYHnQRokihaQtIgQ72+br37N+y6f2Nx7baDeHK6+bf+/j9T37zm99+7pknHnvy9uV3Lcwozcq25i9dePX1X7t9+S0Lsgu0WpJM1+ZfPe+mR7/68LpHblt+fWVCgUVmGFZGSy8ZCD36kgxN/wXRg0aUorwpVqfVGw1oaSZlIi2ogoSQ5OryOvt6Ikm+3Jvn3fjkM8/+/Q++/+1vfP2O+6/NnqcdCByoq9/UcLRlZJiXIywDahMOmpL+Al0LZxB88ugx26EtGzds/3Cfs4kpT1791RvWPf3EN7/9jWe//fTD96xfXXVdsS7LIMmSzIsool8AcQcTdgmjbSOjYz1UGV3ztTX3ffO7//idf/yHp5544Orb5muzvW392/cf2NHWMegPyT7J19Z1dM+GHUc/6SBcKcvm3fLEA098+59+8PBzz61cvTzVFOZ89mA04A8ONfXt//TA9toDvawn/drqW564/+//+Zlv/f2Tty67vUDMIwYC0dAwR0YkNGj3zBcLDxQ0QQFQpaBuY3Pfgq5VRt8ajSZIC3CH55HneZC2Xq8HtG0kHBJOLFp22ty3saAxmBkI1rUYzGwEveBE34dNbkDXnqY/odrLysp65plnfvKTn/zsZz979tlnVyoUFxfn5OR84xvfePHFF3/wgx/8y7/8y9q1a3U6Hez6ocLjjz9eUlICh8cCwlxwQDSiCaKEoHvI2dM1YPd4xSRzVnFJeX5xHpGaZDLmFBbPKc8rTWMN3IBnrHnQ2++KipKs19CkHPE5O/ubD7Ycbu3tlwlraemy5YuvXjZ/XlVZbl51VdWC+RXz55Tk5eYlJGZkpGWW5KfnpxjNaLy1gTZnJueVF5eXlqVZcqwagwa9EyWV2VcJltGAclU0UizhQaTRrDo1K8hpODGalINiZWOGMaOqsGzeonlzrlySW1FYlJk+b9GVy65enjW/LGQi+kYH+u1D3rEwEZHVQd5qcGcG9UJSNMGHRp29RzobDrc0Do+FkpPLFsy7ZuWiKxfPKS4qKyiYO6dq0YKK6rKcNIuBlWRQ+nDkF9lUkXoSY6ASCqy5cyuqFlyxqPjKRbl5mXA3Vq5cPn/lFebSrFHZ3ztoH3K4woEIJ4RdPtdg75DL45KjVHJKdkXF/NKM7Kr8wvlL5hXOKbLmJGu0jBj2uTyO3hFHz2jQG9EnmvPmFJelzy/JK1mycG5NaWlOSrqRMZAihWJw+oN4Kko0ka8TfbescpPR8GWDQZk+Ac2coPbdchy0QtFcYAC0SEHpQusU9eCeNHMC3GKsbjEzEqxrMZjZCNSBqB4E8TqJgQpuwooNKjw03vY4UAWewgl38Ay/UJUCYMGdQBcTdHNpSiDkgM/tHOh3Ood4MazTy5SGGw2O+Qfsw15n1MMl8XQ6J2jGnJ6engH74FiAEwiWkCT/yICtu8k21Cfq2Lw5lTXLFuaV5+o1Ah8JR4OhCGFMMGTlmpNT9OA3HAqFo2FeElAGEmWR4yOhcCgSJogoGsCpxEaJ05cjS6j5pDEx6dXJhQvKshIK6UFxeMQx7BlxB229Hg8lkpmkLl1ktFGOFyAiHIeOm0JWAh8gamWaiQYDTjTwocUZ9CVkZVRcsaB8cXVqupmMhqLhUJQjKDYlw5yZazKZNbJMobE36kUAqCMUDUk1pelyFmQXVlYmS+nRYbfdOTQWGHKO2ZzBsFHW5BDaZJ4go+GoGOQ1AmPSG8xWLUtFvNRQ11jHkdY2+6DP6/JEeMmYX55eUpVkSdBTtEGHlsuVGWow4Grta29paeHbh0MuHzFsLmcyKgoSzflaUU/CfZ5kiO1EKPpW7b5V5r5FPbhaown14FqUvltl5gQto/SVg8doNAKq1od6cNV1y2IzJ8CxSiGBnncVNXwMJv7BuhaDmaXIEnlGM3EvkVpxToXTPashYC4CaAQmQ4YpweVzuwbsfudIIOQZHOvcd+SzN/76yq9f+eP/++1rG17b2Ly3ze90R6XB4UBL23DPgCMY9REiJ/v9w2OD7YGxAR1DZmWnZxbnmNMTSErkQLJyHCcxLGUwsVotDUmKvrUXeFA+6LyguQRR4HjwJBICepOvRGeqoGlaGYY1GChWcA637979t1ff+tOvf/frX/3ypV/9zyvvv7Wrs3aIHJW0NAP6TxZFkNWxI78MpGtJSqCoQDQ4NtLjHuyUwt6kREtOUU5KQbrGrBEFNOMr6HOZ0OppvZ6Ga0SHnXQBMlSRJKHVakw6UfL3dBz69LN3/+fV//nVf//il7/+5e9efmfrx0dGj/k0IYrR0AIJ94Y1SYmZCdaMfJLKc/XR7dubt//lw7/8+be/eeflP+3ccWjQSWvoRANrAI2ZmJ6empxmkmXvQFvdgU/e+NvLv3zzzy//YdOBt9r55ohVp9Vl6Ag9iM8p9NeOR33WVOCC1Lal0nerV2beRX238KvT6WGf2n0bjUSUZcuUnlufF/6CIyhjkLOoRXp89O1U2hMYzLSDdS0GM0sB8Qo11xdjak82sBdXYjME5YsxEB3RUd7dMeoY6ndSfipBl0jSfP9Q4976LRt3bN36yc6GbUeHHQEq0ajNkNza/uaR7u6O0bAD1JjEy5zAB2gurJVlHUvTGkpiKFHRSKDWQOyBflUWCQDghMrvpGIL7VW8QQ5SFZHqjoRmTCONc5CIqJsbPGo7uHHT++++8tqHb77/6Wefb9m2bdP23bV7jjiO2YmxkAbkGass1nVWmZIkIRNzksBxIZkLsCKnp0gNhMNSoNhAz5JoyC+6JLUNd/oFofiRhEgEHcGe2mPbP/7gL+++8sbH7/3tsy3bNm/bsXXHviO1LZ7OETbEMTRaYZgQdSY5uSAlp3p+XvGKbHO5wS0O7Kvf9PZ7L//xz396562P92491N8yKng5rTE5K6e8pmTekoKi0mQ6LHRsO7bxj+++/sffvPbBy5/Wbmm0d49FQiKlzF+ARPq5ghJD6b5V+m61WrRsmdliMqGOW7RcGU2zrIZFo29pdfStz+cFdQuaX+24FeGPMgxXuUt49C1mBoB1LQYzK1Gkx5lMzB8m/gH5xcIv7+339R2wdbf3BYxi7pKya9ZedeOaq1cuW7Fo4eJFi+ctXbVoxeq1X7nq9lWlSwpEDd9rd/R1DQWHfYwoaXR6VmuSWb0AQlARM4QoKrJPCR7UKM1Q6lTFqEcTTe+PemYn6DxVdoEGFuFQhiZYOEyZKxUFQzMsw2gZmoFQKBnNwCWyhC/iaus8tHfPJ7V7t9r6bBraWlq4+IoFK5YvWTx/UXlaWTqZqBMgYHS+sxRUskzJoDYZDWugNEaJ1nCSxIuCJIgQGhphrl6bMnAG2ZRj0I8CWmGBoaK0OOzuP3Jk5+6dfzt8aJ/L6UtOyKupXLFs0YqVS+ZVLCiy5CeJejR7FXrxL8p6WZebWrZ86U133r3uvvu+ev318zIKyUHBUdfbuX/f3v1b/npo747uvjGOTy1Mmrd60doHb7v7gYdvW3nr/IRs7Zijr6Ondlfzrk/q62r3tjtbXERIQIJeHaN8riDljuTt8b5bRqNhGBbNg0EzoG6NJrR+mdFogj0gZZVvQKOgZcGgUQpoBTMf6sGNchAIhIB6cJX0jAWPwcQZWNdiMLMU1P8yuSEkXG/NDJA0Y0GE8aGR/qFjR3tabYMRq7Zk1byb7rtj3RMPP/7k419/8omvP/n1rz/1xGPrn3jorvtvWbJiTkKy3usZddj6vUMjpCCZE9IS0wrZxLSASAwPu8dsY5wrRBMUC3pXw5Ayz0UDYTSAFDQtRRMgcuG0qjYk6dgYanAGwQOiB1QiSTKCRIQ4IsiJAmhL8AMylueC4ZA7HA0JhAw+GZoSWNkTGmttOtiwd/dA70BiUu61q25b9+A3n/3Gc08/+dDt964qviKHSNNGQZvxImpuTRnwCgKbliSjRp+QlG1MyRO0pjF/eLh/zO/wEGEe1B2r1dEUIfHhSDTICTzEeJxaQ3OEUQwZZnjHSN+xA3ub6uq83lBR0bzb1t7/xOPPfesb33ri0buvvXVBSnUyb6J5QSZESRaCYcEboSyZKVffuPixZ+564qn1999135qFqxcklqT4o/3tzZsO1u9s6XWODlEmn6EqveLGm+544OknHn7ykTvuXLtiUUVOIjlitO12NO6rbR0+OiL7eBLp2lMm+jpH0P1DCheJcLhWGRJKq9UpsjZBkbZo3TKtVsuyoHrh1knRiDr61gv/Q6EgF42i5R6gZYBH32LiGKxrMZjZCKrhRHJyQyFpi5kBoB5UWiOQdCDgHBtsHBto5gN+i96am11SUlqSVV5aWFZRXlFRWlmeW1Fekj2numROZUVeeiEtMiPOwV5n/3AkShiTM9OzCxKSUkC89B3r7zvY47d5CFav0RsNJgMVHXM5O2zO/pGgIAoaA6EzsASj5SSGJ0lay+pNBqPBSBA6DU3pNbReZ2DYxCBvsLnkHlfEJ3FGFiLKMp6xnoGuQ46RHp8kyQzLkJREExE+ODo6MGwfCnuoZGPxnLJFy64syalIzSrP1RoFIjAsB71IkR1fcGCKoAwuySDO9Dq9NSM7JTOX1epHHGNdh7qHGx1CQCDNJr3RZGAkztvnGOq0ezxBniIldVE9FAL8wDkFUvSHPMOOfqfDTUQSctNqFs9ZsnRZWnpZRnJhEkX4ZN+wzIUJkoHLoWSPI9p7YHiw28akBLLTc/LKF1y/du09d6697splmfo037C3xz5kd7hCg7bh4cajgcFBfXJmdnrp8qKv3LF27Y1fXV3zlWIqmRsYHbD1jviHQwQnos7aCyYbkar9AnSBJ0bfolWRjWaLBTSu0WQGdQtqFSQsaFll9G04GAyCxAUTDARjo2/Vvlt1ZAmWtpi4AetaDGZWgj6yJiWJOoOJ+cTELyAmQIeBfHOLwd4R+0B7B987bAlTSXqj3kJzICejHB8MhAOBSNDPB0JRntCFDelJCelFLJno6nd1Hevs7hsMUrK1IKOkpqwiMzMl7Hd1Hm44Wneotb29zzXa293VVl/ffOBAZ2eP0y/IojaBMaVaE5MyLGwiExL8w86BXlufzeYODgUkP53AJGbmpKWWGciMMQfXdKznWOOx7t4ul72zq6+9tb+7w+kcCXAcLxGSKFMioWW0aA2B1AydMUPitJ6xkZ5+x4Db39jc1FTfOtzayzvdMupLJdXuWjQKQkLrwvI8iGwRzV8wCWisBLTQNLqkpOzygvLS4kK9jh7q6WqurTt6pLFnYMDmHO5oaW45cAAt2DvoCvFwOyk4RBBR4HBOiCEjkUadwZqSYk7JZNkULiiOjPR12bx25+DBhuaOhjZvt13yBZDwRr2XvEd0tTl7Dhw7erj2oLe+e8w5FvUn5GpTylPYjByNNTczJbPQZDFw3HC/veFI0979h+s7utzu/iGKoxJKshMrijKsWfkmaGckGJJ1BAsNzIs4KAipW0kZOQ1x12i1JhMoWwv86nR6NGcCjeZkY9kv5r5FMycE/KB0BUFQluc9MfoWxVHRt1jgYqYZvI4u5qxRSy68jm6cAPXSOayjK3q8gb99Lrp9xETr6MqCyGZnmm5eTWpQT9tsI66y9JnW0SUpktaQhMiEbf7u2iO7dm6u7d8XSI2WLa64omZZVWJhAk1GeZ5TvwAC/SJJGoaPhkO2jtHWI9193QNRTkxISc7KS0lNTtAZEo2Ulom6ve5+m93Z1eLqPtJ6tG5fXcOOw472MZpNSc0rTkuymCkuSrsHIx673efuc42NDrR7h2z9bmlUSqCNiRZatnBuwT047HQ63M4xX9/IUF/rYUfbscGxEYc74rD7XaOkRZ87t7BiXmG6MVmO6MLOYGhsMOQf9o16HW3DvZ0N7aNHO4dHhzo9owNDXipsKsyorCyvSssx+fneY50HjjW0+WxEuqmorLo8syLbZNZQIkjl4zfmOGgwMBpAqzHo9DqzAfRwcHB4ZKC7291zzNF+uP5w3Y79bfvbAy4mNa0wPdM4Jthr248cOdonjWoKkkoXl1WU5phpK++hwk530O0I+Ufddl9/S2+X7UD7aEev3evsGhsbGw5bqPSy/DklpYWWJDrIjQ44OprbD+9rPrS//tjR+qaOhoND7W2klFRWuubKK2+cU1WYmBb1koNdjr6jh1obdh88cujg0ZYjhzo7u7pDxkD6FQXzrl45v3RxgTnNQDBQ9aFEj13SxYJEX6jRtLr+XKxUh1zHsKBvNTTDQK5Dal8QYA94Az+QpaJKby44oryoDFQ+8ewoY1LwOrqXAogwXkd3PFjXYs4ateTCujZOOB9dK7l9UJXFXMcjiEx2pvkWrGunnzPqWlAiLCnzlKff39fU3tHT6KNHsipTl165dHHpFTnGLB2a/lSIdWmiDkVQLWI0EvUM+tz9rqA7qtEZ0gpS8ytSM7PTk1ILMsxZFlIOeUftA66BXveQzdbd3W0f648YpJTCvLL8ioKkJJOe4mQ9HaJov5sLjLjG3I5en9fnJpOIxMLklMwckzbdwFF00CuHR1Ef35Bv0GXrlLw+XVKeIb1MI+hpnklPLZhbVjUnP82cpmVT9FGKCnpBNTpHvIO9w6PBTo81SFuyUsMZyRGZSaasFXlVlVUVSVnGiDhsH+p1Dng10eSi7MqKueUZpekGA01Jwmm6Ft0sSaa0sj45wZqSl2ZIYKLBUeeorc8z2Dds7+nu7usZ5UeZ9ISiioqyjDyDRx7rGBgYHAobyLQ5eVULy0tKsi2GNK1s0YUFMTDm87qGB7zD9v4xsjeYzBi1+RmBRLPMMTmGzPLSOSVlFXmpiVZ92M31Hh5oqmtu72ps7+vqdPTZiQBdkrti+VX3LF22vCTXaMqiI4makZGxrrrGlkP1zbburr6+PptbCCXPy1p0y6rlV15dbi21khoKJd/kfdIXFiXbQ/ZSAFUKclaj0WqU78zQQyHLoGfVFR9gk4tCCykIQooXeNhEHo4fDnZVJUeiWNdedNDdxrp2HFjXYs4atfzCujZOOFdd6/Nv2Ca6/QSNpog6xUBdqvbXUljXTjeqrqUpOjkp0YR0LSK2T3n1jd7n81FBIHhdiiGvunD+osWLqpYUpRRZGAN1+pyyqPcPqkHWYk3MKsgrrS4pryrKL8hIsiQZjYlmo8lo1hsSLJakrIzM3NzczKyc7PzigrKqqurympKMvCS9gaIIkWS0GjYhQWfNSErNysnMLCgsySsqK8jLy02xpBhoo1HLmBP0adnJ2eCUXZBVkJVVXFxSVLmwoLgqPyO7ODe3uqqiqjw/K8OkMWsYvUGnsSQarOkpKXC+rJy8ksy8itLi/Dll6cVFeRl5NfmlNZUVeYWZpgSGoESG0iYn5JQW1tTMrSmqzE1MM7Gschtil/gF4CITFEswep3BmGCB+2cxGK0pSam5OdnZOblZ2Xm5ReWlVdU1VUXl2eYUrUyRGtKUY81dUFS9pKairCjTmqyjjRpGZzJoLMnmpMyM9IxcODCvPKegrLI0u6YsI7+gJCN/bkl5RWVpRm5aolmn18gSK4uM1qhLhsjlZWfn5xdWlc1fuHjVnEWLcvKSjQaRghaHBul7rUBbLJaUPIhPXkFucU35/GULFixcWJpZlEiaGBGST4hNS3GpgawFoJ5Z1A+L/oK6RSuYaXUgbeHGKp214SgXFUX0JkAdlCBCNU0gTYw+JWSwrr0UQISxrh3PzEg2BElKXFj0DaImOGZagTILfv/X//ntT372J4r54sUTZlqA6iQlJfnTT99cvGjeF4rnjECSRbv7HU/9L667f8IeWTnKGa6cl/W7f6NNSEjFXGcNcZWlO7r7Wju6QVSUFOalpaVAaojqWq9qukBUwSLxEo9W5IqIhEhpaI1GxzBaWhl7q5gvQP4lWeQEThmgIJEyrWO0eha9bEYTuxICh9YriMBuRSfCf5IiGA3NgqBhtQzFoMdfRk0fkYtGuUhU4EFTk3CwjtUatBp0XobgRQiHAwPZU5RFUiIYmmZ1aPUDVQDBEVpQSSwESMqUrPgHiaRMSyCTtExpGZbRsSJDgGdSkFma1Wi0NAMhCRwfhahDqDSFhn8yGoaklNswCSSUWTT8wFn4KFosDa4NjSlVdkKQDFwYqFGaJeHyIdYcLxISydIaJOAYimRIuACQDRwcyHECUnGkhmC0WpbUMjxUorxAySQLWh9iQ8Pt4SNiJIhUH1qrAjUU0YwVNJxDqzeA2IOGgUSBXpV4kH3BsDLYGHlCSyEzGr1Gp9dpGJaEI1H9POllXRLUZwFulgpqSqGRzjLciHA4BAZuF3JXdoA6hFugNxh1cKlaLVwqiNrO7j5/MJidkV6Yn6vTaiG3KP7jC1YR3PbB4Z6+fooiiwvyMzNS4aJQTo17KJKEhyUQDMGtHnO5crLSayrLDHpdbPfsA+tazFmDdW1ccc661v7EmXXt/Jz/+d9Y1047qq4FJVmUn5OenkrTaKTjCVB5SIIwBHmIPvDRsQQjS5IAgpOPgPKD0h3pjXEg/0gOMhotpDwDDmie0gioNUFG6pNiWJ2G1WrA0xdlLYnCBAEjgCBEoxqQAgMZCLIUxCkUCCCVQVojrQzh8KDZKBZ17YHAZtBKaEocJZDjPA9KjWbgJDQBkeSiER4iCYITPKLzIv8QNoRGSrwoglpnJQrCIigQyuA9CpoIRLZWo4OLhStVFsuC0wro67EzJhpEgSJQrFg9SEb1LMrVoanKJB40K5LUEkMwOlDPWjijBLodlDaEjbqnSWgrsOi2sOqwHfRFGi+AbJVZAiQ9I5MiqG0IBEQviZoBEEUWeVa/vlROJyBBDlcMsYUIoTCRKtdp0N0AUHQgPeE2QXOAh8gQ0LCIk4yoPhHoV7GBbEDf7aHxtmiaWwA0vCpwdTqtwWACXUvDVcmyy+Ox2QejvJCTmVGQl4N17cUA69pTUB86DAYz+4AKeDKjdDLFvGGmFVVSiCJo1Ug0HOY5tG6CqgygPkOrHlDo0z9S5EEPRcKRYCQa4kBcwnGwB019inwg0KAhxQLCRJBAPIUhvAhoKPTBVcwz6joVeBROKDTOgE8UJugsdEJkQOyJUYGLhGFvMAp+QBpzoG5Rs5ekCJFAOk/ZG4qqv5GIIoRAzsJREeRfBJGK4hPzDzJXOR2KVSjCgwdeiCJxCZ7hugVZUhffkuFKw1ElVqCzkfg76TJPR90FZwGpeOIsx41yrigEjm4nSHtOBB9wvRFQ0SBAlRgqPcqSgGIC0YsdFeVBrglCBHU0w/VEBV5EjX50l0H2CnABcCZ07crlg1FULzxWSmwouNWEAOIe9Y7D3mAsZOW8oPWRgkTpGx9AZkKohYIyfBa1EAwGNCtYotWSkGAymfV6g16vdtNC00uCuxhAk4IFolE0/TCFxjPEQotblEtEgCXmNJNQkwiDdS0GM1sBlTJ+4dzTDFa2cQTqxeNA9wSDAX84GOA50AoSTdOoBxINZER9fhSprPUFmhcJPZpmaHUfw9CKUUAusAd8gJhFi6OCQFY8qzvRCxiQccrsTyg01aAwkc5CYcZCQOuIQQZR9krHw0Ee0F5llTHUPFL3otGXsSBA1IFH5I60Q+y8tLL0wMn+UbMLgB+IJwocjlTOrkQedWyCZ0WOq2HEYjWhUfdDrFAntHp2JUKKRTmX+jW/chtBborozsApQCocP1a9LXBSFD3lYNSXisSnGm3l4tTLUWJII3e4Lcq1xE53/CwQVUi2k8JEfuTjtxGdV4m1knzqJcSFgRijJg26Shr1Xms1OjTrrcFkMiUkJCYlJQMgc41GI8uykIBwr0QBWgyxNha6JMRJYcaNQRGDy0OZLpaSMccZYtAP3GTIPhiovdBDPQPA4xDiBvXhweMQ4oRzHIfQ1W97/IVol33icQgRzrh8Xt7LP6aVD5VirrOGuMrSXb39zW1doGiTEy0Wo0GVT1qdTq8zaLRapC5RDxouFTGXFOUJQcoegXQ9Qn1yQMJzqFs8HI2GvV6/0+0DMZyVlZmTlaFjNWgcwjSPGZ4AaIyAFnKMOPvtDmhtFOTkpKclwwUK4kwYh0Ao4xBCoZ4+u8fjzctOr8bja2PWOAfr2rgB69q44tx0baSrv+/RH02ma6UIZ14xL//lFyccX3sixaeya3z2mGL0pp24ytI9NntTa+eoy61Hw15ZuIegEtBnXhr0ZZX6MM6UG4u5HEGPC/xXnhowqP9ZQMs1cPATjfKRKEdSlMloNJmMDEWjnun4y62U8pIiGAr7/QG4mASzyWDQg7ukdKDHOXDToX0LbYkxN1qar6Qwt6q8RKfTxnbPPrCuxZw1WNfGFeesa3vXv3gGXWtaPq/wlR+drmvHJ/cZdgGw9/S8McUYTi9xlaV7bANNrR3OUZcGiVlWKQBRBJXhl7A/jqKKmb0o2RByJeqLjf1DT7qINC4aDo6GVEAzjETyEXmNN+BZkglBBDmOOmjhWaNpWlHpM6C8AqBEgPscCkd0Wk1ZcT7oWq1WE9s3+8C6FnPWYF0bV5yzru1e92K0c2BSXbtyXvErL5yia+FAh8Pxzjvv2Gy2K6644p577gEX1QNY+vv7N2zY0N3dPXfu3Ntuuy0hISEQCGzevHn37t35+flr164tKyuL01rtZOIqS3f39Te3dQaCkaTEBJPJCPdPGRiqAvtnwP3EzDLQAwTVBBCNcm6Pl+M5i1mZv5amQXLEYZZFlZos+/wBl8cL4ttqTbAYjaBrxRnRXwt3m6SiHAetX1C3RfnZ1RWluL92JgDVJx8hgsO4GJ92UBFAED/48a9+8rPfEwQ0arGunVZkIdGasmnTW0sWz1eVzpcC1U6k09617sXI5LrWvGpu2asvkoYvBmlB4HAgKNr3339/3759mZmZ//Ef/8EoC2yCezAYBPfDhw9nZ2cPDg4uXboUVO/WrVs/+OCD0tJSUMN5eXmPPvqo0QjKLN6f4bjSteo8X1BzFRbkpiYngaRF89fGbuFMaCVgZh/w/KjLObh9vu4eWygcysvJKinM0+k0aHLg+Mu2DIvG1/bbBzt7bKARy0ryszPT4TKUSS7iHZIiWYb2B0Ltnb3DzlE8z9dM0rViNMS5Bwh5hkT48kXVtS/+9Pf/8YvXcH/ttKP01yZt2PD6ooVzp65rw132rofPpGtNK+cWv/xD0qiDIgL8QxUF6Q6WaDTq9Xr/+te/dnZ2vvjiixqNRtW1x44de/vttxcvXnzTTTf9z//8T1dX13PPPffuu++63e4XXnhh06ZNu3btuuuuuxYuXAjhx7m0jassrepaltGUlxamp6VCciBdi8HEN8rMCcyY293a3hUIBkHUVpWXQBES2x2X9PU7jrV2MhRVU12WnZEWc50hRDn+WHN7v2MwIz11blU51rUzAKhpWlva/uv/eykSiai6CjNdoLFTBFGYl5Wbk6Hok7jWKJc9siTp9PobbrstNS39LHRtp73j4RejXRPrWoITiLmF9kevauzpCAeCVqv1K1/5yrx58xgGrc0IhcZrr73W2tr6ox/9CHStesTWrVs//fTThx9+eO7cuSBn9+7dCyp2z549KSkpjz32GKje999/f86cOXfeeSd4xrp26qi6lqHZkqL89LQUSVL6azGY+EadEWzM7eno6g4EQ0UFuRWlRVoNi5Zri7/Hn2VoSSZ6+vpb2rsh5tUVJXk5meCO1t6Ie0AR0RQZCIWbWzsHBoezMlLnYF0bs8YxajWzddvu61bfQ8gB9O4bM52gR/3f/uUfn3/hG4QgEDNhBNLlDPpUgyY0iTKlmeILPlXXtj34r+GuAWoiXStHBc3iEu77d9rGRrhwxGQygSQtKChQu2wFQXj99dfb2trG69qNGzdu2rTpiSeeqKio+Pjjj3fv3g1SuKGhITc394EHHmhvb3/77bfLysruvfdeFD7WtVPmi3V0i/LTUpOxrsXMCFRd6/J4O7p6gqFQYX5OeUmhXqfl+Lhcb4xlQQv12uytHT0Q88ry4rzsTIIk1M/I4hwolkGX+wLBlrYux9AI1rUzSdfu2Lnv1lsf8vsDtLrsIGaaUPPMvz7/1PPfWad+66q6Y6YJmSBpJiGTZHVT17WhTnvrg/873DmxrpUiXOKqedVv/4jQfrFXTWg4Fiyga1tbW3/84x+feHmyc+fODRs2gGxdvHjxX/7yl9ra2gcffPDzzz8HTfzMM88cOXLkww8/XLJkyU033QSesa6dOljXYmYiWNdeMrCuPQX8Qh+DmaWAHIb6ZTKDvk8S+JjXcUoUSv9QKBRGC7BGgsGgMlElD465ubkWi6WpqWl0dNThcJjN5uLiYnDp6+vzeDxtbW3gs7S0VA0Eg8FgMJiLAda1GMysBMSrBD/U5AapXuRRQTkGdWQODAz88pe//Mtf/rJp06b/+q//2rFjx/bt21taWkDXLly4cPfu3f/0T/9ks9muu+46q9W6ZMmSaDT63e9+d/PmzeXl5YWFhWqAamgYDAaDwVxYsK7FYGYjMpqGnJRQv+zEBolP8HQaBoNh3rx5jz322Pe+9z0QspmZmVlZWQkJCQzDrFy58oEHHgBF+7WvfW358uXgee7cuevXr7/22mvvu+++tWvXqpOCqeFgMBgMBnPBwboWg5mNgGKVQNee0cS8jgNUaXJy8o033nj//fc/+OCDt9xyS1VVVXV1dU5ODuyyWCzXXHMNiNorrriCZdGKr/ALIhjE7urVq1NSUrCoxWAwGMxFBetaDGY2Isuos1ac3EgTddYCp2hT2FRR7aojMJkLBoPBYDAXj8t2PoRWbbAk4I1tYBQ6TQkVUWNs4zy4IPMhsF+5nTzWFNvAHEeuqeY//yi2MVXOZT6EYMfAkft/Eph8PgTrqjkL3vwBY9bPQj2K50PAYM4TPB/CJQPPh3AKl62uFXiH3+eLbWAUzBYLw2bFNs6DC6JrNWklOIFOB9KIG+mMbUyVc9G1gY6B+vt/Epxc1yatmrMQ69o4AOtazEwE69pLBta1p4DHIWAwsxSoW9CkB5MaDAaDwWBmGFjXYjCzFBCvEvp6bGKDdS0Gg8FgZhxY12IwsxGQrSLSrydNgHDCiMovlrYYDAaDmVlgXYvBzEpIQiIJcXIDezEYDAaDmVlgXYvBzFJOHk07gYn5w2AuH0iCpCmaZVgNoEU/44BtLcuyNEORuGq81JAUSTM03H4Nq52C0bA0TZEkSUFqnvEohmUo6mIWZiTkKDgJROnUUyOjYZkvspPiE5w0x2M1SbzgssAnQwNx9RHrDAE/vHGH+byJBYTBnJFTBtSeYvAgBMzlBeRoaKyRBMggjU6n1xuNExuDDlQHaA5lST7MpQJJOZpkyKmKEvDPQAsFtVKIMx6FlC8oS1CHFyc5IUeBCCVoZJsA0KVwehpJWEUAUyiqYFdjFfM0DiWScG3wj4QLZOAKlZBxXpw6eJ6vuOP8hanf74/ZTgbP8xX/XLJ5vnydA3vv/6m/0zHhPF9ihEtbVbPijX9i8Txf0w2e5+sCgdKUlAVZ5IAIJ3A8lGQiIUuoCEN5HDzAbdZq9KB5dToNTcsSFHawC0uKc2Dq83wpj5ssCZwQDkTCoTAvcxIJPijUgwvBKG0MSCYRkgut8C3JIAA0Gp3eYNbqNDLBhflINCpIvASeIE2PJxk6XEtr9Qa93qQHG0pMFMBEnNs8XxBxuBZJiAqRMEQhyou8CNGL7YWYIoGqNWqNZr2e1cBVCEEeXSHBSVqtXmc0sxoGruykNWuUMCURLogTJIohtVrQv4zSBzlx1GEXnufrZGa7ru367+sWtH3P99Ka2PbpIB/fr1OsS39Sv+WZYsV6EcG69hS+PI0UpujtAjIua5yEmk9O3Tu13HPpdG2HY/eDX6JrV73xPdaEde00g3XtBQEEBqQrFRkVxtr7uruOdI91D4dA35ISaBFJAC0kUzJhZHVZmeVVVVdUlRenppACGw2DEhIUTYw5K6ama9GNVfotpbCrZ+TYnrbGxqbBsD2s4yVKy7KMVsdqGS0tEtAaCfNRjgPdyHEWWcrJqahevLq4OCskddXbGls6nNHBEBmJcJIAAhgqKZGgGMmUrc+aU1VTuXJOWlECiEOZB7Gonvlkzl7XokICBKUsh4OOtoGmg23tPRCHkTAFZ0fDDmRZjIZBVVuLFxYvuXZOVUa+Jko76voa6w82cgNcadbcmmXX5BYm6ShQwiCHlXIcwqQpguf8rvaOkb6hgDFZW1qVkpaQShN6AgImJpTlWNeewhS7/C9DQHZYLJYJdckXIG3y/l31PkT9T4jvL/j2ptiei88790ImP5WaF9UlupperFG2731H2TyFDx6xWJb+e2tsa+YypTSasrcLTvEzW5ScgfLGUqRbY1tfyNcv3JTcc91/d8V2xAWolJzczDoxi7m8oRj04loIymOtg42bd2589+33P3rv0+1b9h7ef/jI0cbDxxr31+3e9vmHn276cPuOPa3HbJ7hkBiFKpKavbXkJQG9nwckPhBydg+2HWqprzt0+PDBQ4cO7N+5e8tHn733l3feeP+d9zZ/um3v3kMHDx4+eKCu4UBdR3Pb6LA/EggOOdu2N3z6+oa/vPmXdz/9eMvenQcO1R0+dPjgvsP7Nm/f/Ld3Nmx9a2vDzubB/hDPiUhxXrixtqg3maS4sLPNfnDDoa3vb9m+Y8u+Q/sOHjp86BDE9EDd/oMHDza29/a6oj6ZEgkhMtJpr9ty4OMPN/11+6f7O/Y5AjaeEFDWVGOlDFWgkcj39nX07d/fcqSlyxUalSmBVEcyYKbEbH1iu/77ye8TIDreXR9zmJBNvwBPv4uplOJnfveTpS//NL6kyTv3TqxsLwemlkZT9TbNKLmn7v3P4ib3yOp8CMpsXxMakLYYzGUEqAKSkEWCC0Q8g6ND/cPeSNBYmFR17cKVN9540/U33bxsxbz0fHk4WLf78Aebd2xuaOh1DUt0VOlOxNr2oiHLkixJMq21WvLmFy9du/y6W2+66aZbb1l73ao5i7KJpPCwtz/iDWUnlVx5xY03rbn5lltuue7WW5ZcvTy/JM1g4EOce2jM4Rjo83vCScbCxTWrb7rm5ptuvvHqm1cWLcoIEkMHandufWvjoU8OObpdERmNcAWJeAGR+KA77B7iCMZYtLhs5U1Xr4Gz33DzjWtvvOXWtWvXXr1k7pwsU7pGZgkuHCRDHlIj+gxaW3+w97N25x5b1B+V0SBhCg29OI4ohINhtzvgCwQ5kcO9DGfJbH1aUVfbl74V3vS3l5fedcMXnopvuGtpXdulVCbVPzomn8SxF6pju4Dqati4fJXtlNJoyt6mneKSauLS5p4vA81TS5LSZAb3DmAuK2JveglaQzGsVqtNSM/Nmr964Y2P3PnA1x/7+te//sS6R+67/s7l6WWM3X14Z93ne/c3O7r9REBCn91fWCmEOQ5KFEkEZMaYkVpz/cLbnrxr/beffubpb33jyccfuv3vri67IteaaczLyLlqyZqvffWpZ77+1De/+ey6Z5+9+at31izIS7DKBCsztCZBo8tJz1u64Lp7bn30qXVPPfX00088/dh9j9xYfVWmi+nfV7dtz8adHUcH/D6ZUtLzgpVusoyG7dJaQ1JBTfV199740FPrnnzq6aeeBPPMN7/15JNP3n/rtdeUJhZoZA0hRqUkRl9UXFOyaFViUoKvp6H76OFBp5eTlO/fxqkxCk2woNNptBoWfReHy+KzA7dCJ6ers4moLhkvmJA0aeo8R2my6duWCz2K4Z633r7n8u6zvcRchDQ6AcpOS8vjSX+r9bzyO7HBYC470Jfo6Ft0ima0er0lJTEtOz07Kc2alZRYVV5ZveTKwqoqWs/0D9pb23qG+ka4QIRAulb5oB5z8SBprcZoNidarUmJiWazxZyYnZOemWxK1Gu0jF6rT05MzcpKSEg3m63WhMRkk9nAahmWRSkKCcpSNPhJTEjJTM8255jN5qRic8WV1XPnrSg2zmEctK25r6W73eF3RMgw6B4SMkHsvOcPSFuSojUGszklMy3HnJNmNidYLdaklGRkkhJMFj3LQizRF2YUQZssxQU5C8oKdXTq0TbhUNugOzJGEDyBupFPCDLIolTsmzksas8arGsnp6ttogGbk3S5qWM8T2OcSlrzUn35T5HbhRxlec/birJ9MTbsFnMmpimNFDZ9e8H369Z/L676ldWhCJMZ2DsZynC4GDGnkx1VTndUfWIw0w0ayIg+gOUjXNgXDAihqMzxNKlJTq/ILViYlJLHy6Tb5wv6fCLHIb94PtuLDeq2FSReJE582BUMhIIRgUPTG0iyFOEiwSBBRNV9sWa3hF4rKUULib6B5/hIMOQjAupOIpNNKarMT12SLOfzPsrl9fqjHgGFACXRBUxPtVwD1SoJvMARnLI5HtgFv8p/niBFKSFTnzOnJj11FTmSPNzZ3DvW6JX8IkHT6KMxzPmD7+IF4otviE7ipK/zY36+17bgAionRdk2/eirWNl+KZc+jeq+j4JB/F3TT+ov5VwNXwrUC1DOntlM1mUbDAaHhoacTmckEjmhVnmed7lc4A44HA632y3LcjgcVl0AuK2qTwwmPkDzKUmiIAoCz0s8TxK0zpBgNCVptAaRZniGIRlaQ6L5Qyd/GDAXjBPJgeb7kAlBQDMboGmz4B9SjZBOIB0J2CGiOSyQn/FztaAZwNCQBoE4PoUBS+vMiUZdspYxCgzLMSxFshokeuCoC5iealAkqQwe0BAaZXM8sSISnRXNBSHICbQht6IiZ/kVrNE8tv9Y/56jY2MhnqDQmwTVL+Z8wDdxcorLl8Zs4zn/V8lrXkLK6XfEkxMLp/GzdDX9SJ324DjHp0M4CaxsLzxfkkZT5Yv5EOJxCPApHbSnm9OBPAj589133/3+97//4osvbt++XZIkNW+OjIy89tpr4Pgv//Iv69evf+mllziO27Zt2zPPPPPDH/7whRde2LJli+ozFhYGM71AXkQLXGnRVKh6Wq8HKRXwDY2N9YV8Li1DW1OTLWkpGoOeRKoK/scOw8QnKDlpRsNqCW3MJSQERgbHvD1BZlSXRidnpFmNaVpCB/LyZEV8nlA0GgHLBz1uW1tvU9+x1r6+ns7ers62tt72jqH+QZ87AmIb/JEEykoEH6ZkwZxcnltyfVlGiRx2NPQ0Hut2BrwSKSqvyXAReZ5gXTs5p4+mPX3E7Qm+/B33CTZ9G+1Bc61eKLGDle2UmNY0ijegVB8/+8EpBkphmSQZhgGfihaNAZsHDx7cuXPnnXfeWV5e/umnnw4MDCjhEVarde3atY8//vjtt9+emJjI8zzLsv39/TRNP/HEE6Bur7jiCvCG5QEmDlB0Depg07Jao05PaGhQHVExNDTQ2N1R5xnpS2LpgsxUa1YqadQjUTsT5nmfvSg6FY2yZbQ6nZHQx1ztIUfbkc6hfW6mNyWbKs5JSzKlkrJW8X6h0hNKRVqjoygq4Ohs//ytjS//4g+/eunnv/j5z3/xy//8z1d++cstH27qbndFwiBWlS/D0KoLaLZklkjJNJUurCpgFzP7Dc49jfaxI2NEEOlf/JHi+YJ17RkoLj95Zqauz96vW3/zxO+Sp/KOO6arflqudOJN5aX0qfMhnDQdwniwsp0CFyeNZi4gMNXxBqcbqPN5QRx1OkG22mw2+A0E0KC1UCjU1dWVmpp6ww03rF69Wq/XHzlyRBBQYWwwGMrKyhYtWpSUlJSRkfGVr3wFFC24m0ym9PT0oqKirKwLsCYIBnMBAOVA0TIXjozZRrqPdTR1tHYe7ejcW3uwfvshZ+tQkjZxYWX5/Kq85EyTqKcF0EGTLFOFiQeggSJTdIQLj4zaWjsbext7envaanv2bKk71HRgWDOYXJ28eE7lopy8VIMJGuxQkyql3wUCzk5Dk58Lejz97b3N9ceO1Nc3gDly+FDLkSO2LpvXExFEELTKp4fIyDxkqBBpEYzlpflZayuiJUS/vaG/qSnijUC8KBIPsz0/8O07jU3fPv7qufiZ762v+/6TsffQ6jyp3zpnpbPp20r338XqAJxVyvaLNLqwXOQ0ijPO8N0YQVOhcHDb9u2/+d1vX3rppZdffrm5uVmSJNC1wWAwLS2NoiiQ/wkJCcPDw+ryV0plQYD96NGjkUhk4cKFsAkehoaGfv7zn//qV786cOAA+FE7fTGYaYSiWYphpcCop3nb0U9+/96ff/3rX/zql7/4/f+8X/uR3eAsXTn/jutvuXne4iJrMikwggCiFhp7mLgETS4Micmy7sBofdPnb/31dy/9/qWXfvZfv/7Zb95+a8+gzbCo7Oq77rnxyjsXpBYnMeTxhXYvHLIk8FCy6ZMys+asXLj6lutuuvXWW8DcfPvt195887wr5qVnmTQaENLKaZUzo5VzQepKNGPKrSxZsDiXTmJqbf4DXb5gBApTiSVJGY9GOHewrj2VTX97+YvP1te85Hu3OvbtD1p47HzkDoR1cbv/7nnhR9WgbF+8/Cf9OimNLiQXPY3iCqVfdmIjypJGr1u6dOnXvnrfww8/fPfdd5eUlIAkFdCXG5I6PgHNQUNRIGTHS9WBgQGHw1FUVGS1WmHzqquu+vGPf/zQQw+Bzw0bNtjtdnDE0hYzvZBo1SlK5iNRt320r6mr9cjR+mMNh3u6RulQ3vz8m9Zce9+VX7kqtyRVr+MkmVPXOMXEJ6gwIWmZoqJ8xOmyd/YcO9J05EjD0faGrsAInZ+/8PrbbrzhoeVlq/P06XqCF0FQXsjEBEUr8FEoFY0ZRcVX37X6/qce/vqTTz351FNPPvGNZ7/2xBPX3HRtYbFVq4McJKjfugEQZ5ngleOTSvWlN+RmlJeFRyh7e/OgvytKRGRShwbGKB4wZ89s17Xo+6CTlAySTCcNNVC/IELEfR9e9QtvgbJ9595HPow5XB58eRopnObtEoJGOJyaPSZyiyOQeJ3cCLJMs5rCwsLq6up58+ZVVlYmJSWBHjUYDDqdzul0gk4Nh8PwVCQnJ7NoEskYHR0d4Lh8+XJ1Mysra8mSJQsXLgSJDP57e3tVdwxmGpElUYb2mN5szJlTsGj1ldfeuOaGm9auvfWWm268+5ZVa6+unFuWmmrR6ii0PAkeghDfQOrIkkCKolFvLsqbs2LJ9bdcf+stt9x252133Xfbrbfdcc3C66qsFWk0y6A5a48rywuJOvia1ugN1rTkTENmitFoSjRZEpKsFmuiMcGsNbDKNAcnnRi9AlAG+SYxppKCyvQFizjR7Py8y7O7XwiEJYOGZOnxK5BhzgLcX3sym/7WdB5DDaYdVdl+8MEHse3LkhmeRvHDGcYhIEPIHIemYpSPA3aLxZKfnz88PHzgwIHa2tpgMFheXu7xeMACqpfn+fb2drCAFAbPsDk4OAgu3d3doHe1Wm1aWho6MQYzrUgiJwkcbUxOLF9Vs+bh27729ccef+Lr8HP/HY+smfOVEnMqJUb80XAETaUq49cLcQ0aJCLwNM9ZjclzK666+8Z1Tz/y9NPPPPONZ55+cv3f3XDz/PRyi0SjydwkTkCF2AVPTvUFlCTyfDgY9hN+pdQEI0rKvGWCyKsDH045MWzKitYV9anlaeU3ZCYVR0b6G9u6Ox2uaJDQSiReaewcwbr2ZNa8NMNHViJlWxGzX6bM+DSKF1BX1BkNKnPHoUrbRYsWVVdX/+lPf9q7d++KFSsSEhJA43Z2dsIudc7ampoakL+wKQjCoUOHfvWrX/385z8HD8uWLSssLFQU8ikBYzCXGGU+BJpljFZTUkZKujUjIy01PT0rIzUz2WQ10BpSFtGIG5xTZwaQTrLM0KzJaE1NydRn6PVmi9loNltMBpOO1TGoa1RQpsK9iEC5hqbPJdCcXpIgQ/GniGkRctFk5wV3lMcYMinXVDq3Ip1bGN1ucu7udPrbgoawyLAUHo1wLmBdG7fc8/YZ5j+ofuHYZHurX6hDoybqfnCZy1vMeYFK1DOaCYtiKKEzMjIefvjhb3/7288999zNN9+cnp6+YMECVbCCxr3nnnvuvvtu1adGo1m6dOmTCt/4xjdWr14NLmo4GMy0cny9MS7Mhf2hgBAMhiOhkN8f8AcjoSjqYEMdZVhSzBAgMWPrjYWDocCJ9cbQOg+gLnkBKdo4TU/Q2xBPKlU0lFekJaxNG8iLtnT2DDX0RzxRmWYovNDdOYDvGQYzSwHlemYzGVartaqqqqSkxGAwgFRNTU1VO2i1Wi3YQd2qHRQURaWlpVUr5Ofn63S6yTsuMJhLD+RHZYUqEfWtIcAmnrGDDRO/oElpUXIq641BkqIeU0jb2Ipl8QvkNgEkN2NKyc4vLikyk8xIa29va687Eua1NFqELOYRM1WwrsVgZimoX3b8gNrTzIRAKTwh43epPoHY9nFirhjMpYdUgUwpSgLHc1EOfgTUXfbFrhNWdQNzqYjddOW2q39I+AeKVORFnuMikFqgUNG+L/wjP5Caqp9oNBKNcgLq/FS8oL0KaOO4HVA3z5+TgkOfIXKiwEOjCOIYO/fJJ0UdymAB5S3wqPEEUls5OLZbRNmSTC0zlF6XkpRv9fRFbcd6R7z9QTIkomlvFb+YqYJ1bTziPz9ioWAwkwOlKijX8XMgnGKggoh5xWBmPqAM0Lx0IBFAygpR0LURjouCxkAZPbZHBeyxYzCXhPG3PWZXd0AhJPECF4mAZo0izYp2Kz+g9VRZCH5A1wqgatE/nhdlVS+CJ4JCYaLgFC54sh6PMIhVyFGgqXke4iIjF/RfieCJCIAT8i5JIgd5Dl0KiqdikBdU2JIEk6FJnleck7Yg2WWM2tvtwSYH4Y+CBzUwzFS5wCmNwWBmCmhcFxS06HdCg8FcPsSGHBAMoU82pRXnFldUFBeWZCakGUkNicYigCJSUb4Xw426S8f4264C7WrUockYtda8tKKKsprisuLkNAvLKl9+IQ/gHfkhKNakT85LL64qqy4rL87ItmqNiqxBoUgnhXlhkzUWILJAFFJMGSWpmXkZCfoElqDBFQ1++OKkCDSam2JMCZas7KT0lEQdo4fmFBo6ofiRUE+vQOhEOiUrM2PBnMzK6tyE9BytwWpmaSMFV4Rz5FmAxlrHrHGM0twhduzcd+utD/n9AZpB63OeGY/sNAnqxMeYGAGGTSRTYxvngZpn/vX5p57/zjpBQNWB6n5WaEoXEl5fbANzggQL13E4Zp8qMkHSTEImyeqmWPrBAzXa5Xhz3U+dnQ5G88XssycQIlzhypr7X/me1qQ/t/Sd0agFTpzQ0d3X2tFNU0xJUX5aajJUgkieYaaMmpqihCaeIzkvFRoctPe19I0OC4mW3Kq8vPwsM5mklTQsI8rgRwA1wjCsOivzLMz8Fwqaomiadnm8HV09wVCoMD+nvKRQr9Ny6A7H7ipKGpIUBYHjOHCEe05RFCQB3HiWpYXQyGjnkb7uEYcviUwqzCxLKyxMSFIShud4mSI0LM35B52djX3djqFggmQtSC7KKchLzjCzUGwJPFpRg2EYOAskvRo+OpokQUuqETgBuEO91muzt3b0QMwry4vzsjMJEuWHmI/jkBQFh4M7wDA0zYiBgfbh7jaPbCKzF1hS01JYwczILMMIkgznhdvAQhkrS9GoP+hwBEY8fsZApGdbUxNTtXBWnhMEkqQYViOTlMjxet7Bu/qOto42OjRsRn7V/OLCbLNJllg46yQDheGmsQztCwRb2rocQyNZGalzqsoNel1s9+zjstW1mIvHBdG1mAvHOera19f9dPSMuvYBrGvjAKxrzxNQV1Dxj4yM9PR0Q2bOy82FGsRms4E0ycvPZxlNf38f3FIQuOAR3EFjIbGblaVoLNw5co5MRdfCDQdh63K7Ozs7o9FoXl6eyWSCJAgGg2A3Ggy9vT2hUDg3L0+nN9j7+6PRSF5+nl6n7+3tBf8FBQUaDdvb04OOzS9gWY2tv18UhYL8fJCz4AeSFfxANHp6eiAp8/Pzc3Ky4YzCaU/Q1HUtSFlRkvr7+yGeBoOhoCA/EolAHHQ6PcQhEo3ADr1eD/EPhULgx2g0gh2uCNkNhtzcXH8g0G+3WyyW3Jwcv99vt9vNZnNOzD6QmGDOzsp0uT19NrvRZC4rK0lMTFC7dWMxOA2sa08Bj0PAYGYj6A0YGoqgLKg0scHNFczlgNJJxzpHhnds3/b5tu324TFvUGhqbms8Wh/2jgU9o7V7d23fvs0x6BgZHtm1a+fWLZtBtIAYgqPiqoVz+YEaHBTldrt37Njx6aefdnd3j42N7t2797PPPgMlOub21dU37a475A/6JCHYcLB262ebbL190ETZtXv3pk2b+vpso2PefQeP7j3YEIqERD5UX7dnx9bNA/39Q8PD23fs2LJly8DAwNDQ0LZt2yD8vr4+9YznnKxwoBIA1dXV9cknn+zcuXNkZMw+6Ny+98DhI41hv2eov3fLps/27NnrHB2FS4ALgcsZHR2FS9u4cVPd4Xp/NDo4NAiRPFRb6xob6+zqgojt37/f5XJ1tLd/+ukntQcbXEHePuzcv39P67FDQjjAkCTof1wcTx2sazGYWQooV5GURBJ+TzUCicfXYi4TVC0SiUZBD40MD4YD3qBvzNbX3dXdM+r2+YKRkZFRp3MkEg5Ho1Gn0zk8PBQKhdSjYkFgLhJwl0mC4zhImcHBwWAwGI1yY2NjoETBHgkHhx22vq724cGRMZffPjg8MDwUDIUgmSDBwA8kUyQcGLT39nV1QJtkdMxjGxgaGBwOQlJGIk5I7eHhcDgciUASo/DBv3rGcwYdrXxgGAgEIEDILdFoJOBz23u7Bvpt3kDI4w85hoZBnXPRKFwCRBJELVygYndApINe79iYq8/uGBkbi4K7Eg6IWvDjV+2jw9Ggzzk02N7e2WtzBCO8elbcwJo69AsvvBCzxjFqmvb12d988wNIflzcTC/qW6SvrFq8atl8NOQHM+1AFawzkzQT2/wy4IEKuv1HPtwDvxQ9wageURAT89Lm37lywlEKlz1xVYm43N5Rl5siqSRrotFogIcPj/w5K6C+gDsWCAQj0UhaalppaYnJaAQ5YrUmFReXGMDORZOTU0pLSw0GA9QvycnJpWXl6enpcKwgnPoaGjNFKKVhEI5EXW4Pz/PWREtKkpVlGHUuLBXI1ZCVQXmC7IPbXl5ebrVaQbYmJCQo9sRIJAz2srIys9kCLRPYC3ZwAT9JSUngx2w2Q1ImgXtpmdFoAj8pKSngbjKZwE9qair4N6LkRvaKiorMjAw4ozJn2EnQNA2ZxOP1jbo8EPPUlKQEi5kgY4PuxkNSJPj0er2wKz8/H7ITwzACz+fkZBcVFdFwgaKYk5NTXFwMYSrjW/LAHW4F+Ad7YUEBFC7o2IKCwsJCNcwCBbXYAQ/5+XngAZ7yvDwIvxSuBY1DmPyphwNpiopy/OiY2x8Imk3G9NQUlp1qdXD5gcfXYs4aNc/g8bVxw7mMrx3pGvjTup86uyYeX8tHuKIVNY++8k86PL52usHja88TkBSQoH6/f2xsFPIyaCMQHB6PG24j2CmKdrtdUKaBzAWPbrcbtCzYExMT4Sh8q8+ZqYyvVZMGRK3T6VRuu1Wr1UISgAxV7S6XC2liq5VlWXA/YQd38A/SFjTlCTucDvxAkoEdQgZ3SFbVPjY2prrD4RMmK4QJnqcyvhbOAj4hcDiXRqOBMOHssAkhQOAQQ3BX7dBGAjtcBdjhik6x63Q6yGORSMTj8Yy36/V6EO7hcBjs4B9kOjS34IxnKIfhAvH42vFgXYs5a9Q8g3Vt3HCOuvaP6/7vGXRtCdK138e6dtrBuvaCANlYQvPXkSCl1E34IZWZUtEeZQ5b1R1Q9RY6DHOuTEXXqo8aVChqnTI+CWAHoNpPSRqwn+7/zH5O2CHF4YzgBzbHM3Vdq8YKPMOvGklwhM3T7SgqF8IPRBv8gMtkgAesa8eDkhyDwcw2UK3+ZQaDuWwAdcDQDKCIGxIkF02fsMfcYQtcQeKALXYY5uISU3Vw/9XbriYN2OH3hH28u2o/3f8pduCEn/F29Yyxk58T6uHqieAXTgrBTmi/UH7OM8KzEPz0YjCzFCgspTMaDOaygVR62pSOMNWCOMV+YkuxYy4RsZt+WnLEbOdkP7F5uv1CoYYJXAI75qzAuhaDmaWIyMiTmUmmAMdgZiSy8u4YQP11Z7SLytJjscMwF5/xt/1i22OnPG/UMAEleDQ06ILbwaLaY6fETBmsazGY2YjSWatOYTupwWAwGMyEXGzFiRXtOYN17aUGGmQiHxH5kMijlQNjrpjpgKYpjVar0engl55ouqvLHjRn1KQGg8FgMJgZBta1lw5FKMhms2nu/HlXLl+em58HWkrG879OHx6v/1hT6+H6o82t7T5/YLaNZDqld/YUM1m+VId8nSDmepo7cLqj6hODwWAwmIsEnufr0iGKosGgX3vDV669ZrlOp+3ts7/19sedHd0z7nLUPDOj5/mCHAUxb2rt2LxjNxflIX9Vlpfc8JWr9DrtDLycc5nna6hr4L/X/Tv8TjbPV8WKOd945flT5vmCAyH1BwcH+/r6tFptYWFhUlKSuksQBLvd7nA4wL9er8/NzU1NTQXH/v5+cE9ISMjPz4ffGXF740qCq/N8MTRbWlyQnpYi4Xm+MDMBdZ6vMbenvbM7EAwWF+ZVlBZpWEYdPhrzFDfQNOrj6+6zt7R3Q8yrK0pyszPARTxtBYc4hEJzQRDBcKS5tdPuGMLzfOH+2kuIJGdkpK5YsXTn7tqf/fz/mUzG+fOrdXodrqUuPUrBKqcmW29Zc+1jD90zr6by8NGmoaFhKHPjStNcVCDbqV2zE5rJMiWI2jfeeOPPf/7zH//4xw0bNkSjUdU9HA5/+OGHP/3pT99+++2NGzfabDZw7OzsfOWVV1599VXwvHPnTrjts+f2XljgvkHthbQC/MFg4h41r4KBrKuiakdwAEu8GfUpg2jDL5RQqgU4xVt8GrVMVSzApK/aZg/x1V+L0kRhfHvuhOP+uvrrr7/X7/fPxP5a9YpWrlx66y1r/vDHN1ubW9Y/9mBSUuKbb37osDtodiatVnoZ9NeqQMxpmmZ02tragx9s+OzBe28vK0YLHs60KzqX/trBLvsvzthfW7ly7nff+BGtOelZgzvz0Ucfffzxx88991xHR8fWrVu/8Y1vVFZWQoAej+f3v/89eHjyySdZlmUYBhz/8Ic/NDU1ffe73928eXNvby/sysnJif/be6LMiQc6e2wt7V3wzOVlZ0KJAU2vGfGSDTPLQfqVor3+QL99IByJZGWmF+RmaTUaPi6rDCivZFlyDI302gYokiosyMlISwF3qOBUD/EM3GqGpgOhcHdvv8vtyclKn1NZpsfrjcUDUJfwPB+NRvV6/YnWEgCOAwMDo6OjBw4e+d73/ncoFIEWSmzfzAHuMzw5a66/evHiea+//n5nR/ddd99cVVX2+hsf9HR106wm5m8mcNnoWgAEmMvt/fCTzYNDzqcf/ZrFbJ6Bl3OOuvaldf9nMl0rRPniJeV3/9u6QCQo8LxWqwU9mpaWBq3K1157bWRk5J//+Z/7+/tfeeWV6urqO++8E4Qs6Nrf/va3w8PD9957b0FBQWZm5tDQ0Msvv2w0Gr/1rW8dOnQI1PDy5ctvuOEGCD/Ob3Jc6druPntzW6fH6zebjKiuQt/0zeAnDjNLgIcI4Hg+GAypY/BMRgPU7BLk3vjLwGp3RigcCQRD8PArz5oW3KEZqXqIZ9RbjZbw9foh8iWFuVXlJTodiv/sZNp0LSRDzDYOh8Oxb9++66677sQ4PPAGVennn289cuRoW2vnex9u4XmZVBY/nFnA5cCTc/11q5YtW/zaa++1t3Xfc++tpSWFb7z5QW9PL9a10wJN06FQeMuOPa0d3auvXjG/piK2Y4ZxLrrW0WX/+bp/m1TX8mJOTf7ch65s6WwLBYNJSUnXX3/9woULoXn5+uuvw+HPPPMM2F999VXY9cgjj2g0mkAg8O677+7cudNsNqekpNxyyy0Wi+Wdd94BgQseWltbwV5RUXHPPfdA+HGeZyYsnaaLHpu9qbVz1OXRadDsHeAyYx84zCxCfYZESeI5HrQsyzAaDQtPVnw+++ojD9KQ43jYgKhChMFlRtRuauQFUQwGw1oNW1acD7pWLStmJ9OjayEZQqFQS0sLaNaYk7JAc2Nj4/79+//93/89IyPjRH6CGIbD4Wg0untP3YMPfiMQCM3QcQiyJC9ZMv/+++/80ytvN9Qf+9a3HodL+8tbH42OjNIseoRmCpeHrqWggSuKu2sPNTQ2XbFo/sorF8F1zMyxzueoa382ua5F340tq3nqv58jWQqSG5pkRqNRr9ePjIy88cYbcJeeffZZp9MJujY1NfWhhx4CXQtVgtfrFQQhGAy+/PLLcMj999//8ccfg4f169c3Nze///77VVVVd911F4Qf53lGrSfihK7e/ua2TigCU1OSLGYT3LlpKbQxmLMCDfakqHA44hxzgVy0WhPTkpMYlkZfYsXf00/RqL/W7fGOjLog5mmpyYkJFnCXZsJ3YyQFd5qMRKKDw6ORSKQgL7u6olSP+2svMZDh29vbv/Od70B1mJiYqFZyDMPYbDaID1SW43XtiTpmz76DN669bwbPh8ALGVkZ33r2sTGXu7fXfs01yzZs2LRl8y5JRroh5mkmcBnoWpSlSOLA4cbf/unNgrycq1csTU2yZmWkW8xGyJ26aGgAACxuSURBVHCqn5nDOera/1z3b4OT6FouwtWsnPu91/5Fc3LhCM3R119/va2t7Sc/+UlHR8cf/vCH6667bu3atbBLlb+qt1/84hfQRv3hD3/4zjvvcBz3/PPP7969+9NPP73ppptWrFgBHrCunTrqfAg0xRQX5kF1i+dDwMwI0EdjNO3yeDu7e4OhUGF+TllxAYgtjhfi8PFnWRZKsF7bQFtnD8S8oqwoLzsT6gieF2I+4hgoeFmG9gWCre3djqERPB/CtOna5uZmqO3uv//+hQsXQu6HaOh0urq6us8+++xHP/rReF0LqNXMTJ/nC64RtPviRXP/7u5bk1OS9uw98NFHG0eGnDQ7wy5HzTMzWtdCQRCJRnftPfDhp1uSEhNYlklLSb7+mpX5edlQqM20KzpHXfv/rfvfjs4BdhJdWw269pUf6k2GE3cj9hju2PHaa6+BnLXb7YODg08++SS0Tk0mEzzF0FiNRCKgfTdt2pSVlfX3f//3H3300ZYtW2688caGhgaoOZ5++ukT7dh4Jg51LctoyksK1Xm+BKxrMXEPo+jaMbentaNLneerqrwYStfY7rikt9/R1NoJMa+pKsvOTIu5zhAiHNfU3NHvGMxIT52LdW3MegmBamN4eBgk7Ny5c2tqakDtqe79/f0HDhyAKtNisVx+ulYFHnWj0QC/4TAoq6gysVRs10zhMtC1AESbQ98pcpC7wE7RlE6rZWbkqmPnomsHuuw/Xfevjk77GXTt91/5l/G6FoADfT7fxo0ba2trDQbDmjVrysrKmpqaMjMzU1NTP/nkk5aWFlEUi4qKbrrppvz8fHjMN2zYUF9fDy1V8Lx06dIZkVvUAidOONFfW1pcgPtrMTOFE/217Z3dwVCoqCCnvKRIp43T+RBYZWLdXlts/tqqipKZ1V/L0JQ/GGpp6xwYxP210/fdGJyX53nI9yBq1VoE8joAjiyLRper3lTUzctD18LDI0si0h+QGZW5/WI7Zg6Xh64F4P6j3lnFDlcB1zUzr+Ucde3/Xffjgcn7a2tWzv3BaboWgGOhPRYIBODhNZlM6qb6IIdCIY7jwI9OpwPVq/qPRCLBYFCj0YALeFMd45y4eipP6NqSonysazEzhRO6tqOrRx2HUF5SGPfjEOytHWgcQmV58Uwch9DS1oXHIQDT9lIAcjxUfpCZwA65XM3okDxarXYmSr2pg2b1YxiaZeEOXN5XGv+gxpUQA7RCHJa2FxW42jOYyYC7BA9pcnJyYmIiaFnIxiBYwQUsZrMZ3AGj0ajmbfjV6/UpKSkWi+XEaxkMBoPBYC4S06ZrFSmLiG0rnO6CwWAuEhIhn8HIk4tb9Tn9Uk73qR6OwWAwGMxFYiZ9ho/BYC4UoDLRiBhZmtycqdcWg8FgMJg4BOtaDGaWIn6JwbIWg8FgMDMMrGsxmFmKfNrYg/EGd9diMBgMZsaBdS0GMxsB0QpGmtxgVYvBYDCYGQfWtRjMLEUiJPlMBitbDAaDwcwwsK7FYGYpapftZEZCPxgMBoPBzCSwrsVgZiky6pVVZ0WYwOBpuTAYDAYz48C6FoOZjYBoFQnpDAb312IwGAxmxoF1LQYzSzk+he3EBqtaDAaDwcw4sK7FYGYpoFwnM2g+BPiDwWAwGMyMAutaDGZ2gmaoPYPB4xAwlxUkTbFaVmfUGYxGvc4IVoakSbTnlIxOUuBTp9Eb9AadTsuwNIl84afhUoISi2U1rHYyw9IMSaB0+RKfx5PvQkNSDK1hNaee7gyGZigAHTXeUQPRmyB+JEmzzDhvkFEvxlVcrmBdi8HMRlCnLBpvcMrauV8YZaovDOayQAalQCLBSjMxwEqdJikgx6NMTx33Cf8p5As/CZcWlFjkGdUJCemi6toz+yRPT+QLAZwbBXs2ISv+IQ/GNlUgp00YCAp9nDu6ipgVMwVISZJi1jhGzZk7du679daH/P4AzdCqO2ZaUPPMvz7/1PPfWScIIh6KOd1ApU0zCZkkq0M9rVMAHqi+Tts/PvQD+GU1bMx1HNFIdPHKRf/x+k+MJsMsTF+1wIkTOrr7Wju6aYopKcpPS02GNocoirF9mCmgaARZjIY4vzvo9wU4OUybZEOSxWxO0ZNmBhVnglINKukuidFA1O/x+6JBXksZLOYko9nEwkNCKg09XNhNEZqiaJp2ebwdXT3BUKgwP6e8pFCv03K8cIYiRUkCWeLDUb874PV4g5AKsgD5XXkiZQmqG4I1mA1JGYlJ1gQdwfIBzj8GHr1BPsgRImrAoBdOkqwlqASL1ZqRZUo0s5QkicKZGuosy0K91muzt3b0QMwry4vzsjPhpDwvxHwcR4mhyAfdQdeIxxvwcWRUArFK0jRDoQYTSRMinEzgJfgjy6QoamnGnJBqTUrV6akw73EFfIGAyEQ0iaw5OdmsS9HJGhJijvoS1OBlmeeDnrDX6w1IEcKks1gSk/UGDQ26h5zo3lEUxTK0LxBsaetyDI1kZaTOqSo36HWx3bMPrGsxZw3WtXHGOeraf3joB72dNs2kunbhz17/v1jXTjtY154HKB1pliZIPjzcMXhkV9uRhuZhrkdXLuQvmzt37vUl5jlJ4EUOgnqRFZ9ENOg4Nnhkd8PhwdbRHG3JwoXXlM2tSbFSJB3lwc8MqC/jg7PXtUpiMRRJSOGxzqEjO5sOH67v9fb4qbBAImckJyMgbS15VQXLblm8bOncTDJxrGm4Yeuhgw31faG+AMtJBEPB0yFz0SSCqihbsHD1HdULK60W5MTDWSdLvqnpWlQwwEVJRNDbsb+7dsvho+2No9RwVEuSlFbD0mhgAkWTgiTwXIQXRE6UmUgoVW+qnHftkuXXp2cTXaO1248dbG4OmvuTFidWrbxqXvENBWyKgZQliYNTkSQLx/MuV/uezrq6uiO8g6zJXjJ/xfVFZakGA0hYQYRLOOX2YV17CngcAgYzSxk/mnZCE/N3MlC0jyfmepo7cLqj6hODuYSA5ACFRYjhUU/3gfZ9G3Zv+mDD3/720cat2w40tQwH3LJGojWgZynwibSYLAQGXZ37mnZs2v7p/t37+7tHIyGakhVhhXPwRUZJLIoUQiPujtqug1sajh492uvsGRpzOp1j8DMCDI+BWA5yEYmSKJkPjI61Hek+VNfc2tHmGO13jo2if6OjA31D7Q1tR+r3NvUedIZGIiIk7oUYaqsWY7IkRLig2+8aUWM2Ojro6GlsP7Blz8ZPNm7Ys31Pa3PfoGNs1Dk66hxxj44G/CGeE6Nhd+9g4+f1W9/5bMP7b3/w1w8+27GrsafHJ4bRgAQ04gUZiiLkaMTZZj+8ed8nn332SUNto3MoLPLgrgxHwJnwS8G6FoOZjYBsPWVA7SlG6VM5VdpCoS4IQmNj46uvvvr+++/39PQoehURDAb37t37+uuvv/baa2CJRCLg2NbWBj7BEaivr1d9xsLCYC4NihaQJVHiIzwXCUe5sLOPa96OegR7HK1exiOgr3doJGwVn7Ig8uFoKBQKRsIRgRclGbnjfHvJkEU+woW8BK2xli2ds/ahm+976KGHHnzkoQcefmTdw+sevee2G1fPzStPlC2kwEXlkF/HGIryF9+w6p6H7n74oYcefuSRR9Y9+rWvPHy9vsza1dR07NM9tpahoECjUdPnl4xQKMoi5AeJ0SWXZC+6+crb1t99/7pHH3nokYfvuev6eSvymVSQr4FUQ/ryRWv/7q6H1z/4yCOPPnrHQw8uW31lToFFowlHxFAwHJWCAR/Rd8Rbv7H7yP76gUBfhACZzlCE+iEjeicqckI0FA5CJoxGomgMxcTdDJiJwLoWg5mdoI9hJKjuJzGT9dd2dna++eabTU1NO3fuBGnr8/lUd7C0t7f39vaClv3ggw927doFjvv27fvTn/7U19fncDhUn7NwVANmmoEcJ6NZDmiNXmNMNVhyUgz6DLGHtte2Hm6ua3QNeEVZA3uV2hD5ZBiNUWc0Gc0Go4HVMBSFQsD59tKBSh+KNqRk5y+6dtmtD95x//0PPvjg/Q88AJr14UfW33v7javn5JVbZBMhiAIrkGmJGQuqVt6y5qsP3PPQ/Q/d/yB4f3jdHesfmrdqDkX1dnbubO3u84yJJI8+NjtP0QONfqRrtcnF2YtuAl171/3rHnnw/kce+uo9Ny1bPTerPMmaYinLK7925S333gOxfuD+R9ff+eADy65dkp1v0eoFkmGNmoR0c0JOkpbLCDT4WvfV1XYd6Qx7eDS1gxJBgKJoLauHHGgymfUGHRqdgdtVUwfrWgxmdhITr5ObUyFJUhTFhoYGt9v97LPP3nHHHSBYW1pa1PHWRqPxuuuue+655/7hH/7BZDJ9/vnn4M5xXGVl5Xe/+91//Md/vOqqq7CoxUwfoFgJmTQQZIbJmJmZpjOIw47DR4/uaO4ecPkYStSgyZRAPaAv0SGvg8YAMYHfL0wLqJyAlgjDaPU6I2k0EYreg6YJxSiGZSnQLlSsmAInrUZn0BsJ04nUsmSy5TV5ObnlgUBqV69/yDMQIaFhjRL2AqQohIKmy2Bp1M2PtqH8M+gMGnABccoyrB5NJ0cQDOyj0UnhL4OmPoCiElpJVorOSU5Oy0oRJWd367bDR2r7BvzRKEFKik/lvxJTnAnPCaxrMZhZCZKuaLTBhEYETUrKGo0GPCrFKgLsHo9nZGQkLy8vPT29qKgoNTW1ra1NENCnFRaLJScnx2AwwFHgmWVZ9aimpqbf//73n332mcvlgk10agxmGgAJJEsiI4kWoyUnr7gwM4WNDrQeO1C3p9l+zCX7BVpLEyyuEuOB2CxXUBhJ6qLep6IIWklRjCSJ3trzkWAoQAQkxTPyzxLaIou1oFyUC92jojc4EiWCimS8EIUQFJGCwIucIAmiGpNAIBgJ8ZLyTZwgCuFIKBAgCB68CugiwA8aS6DMGCcJOpJMTsssKi7JtTKB4aaD+/Y17un2dkUI9SM1aGApeh1zjuCHGIOZjcgkcWIo7ekGqotQMLRr5643//Lmyy+//O6773Z0dECJzfM8qFiTySSKIihXrVYbDofVXlj1NxqNfvLJJ6B9165dC4FUV1dfeeWVTqdz48aNH3/8cSAQwNIWM31A5kYaw2CwZmWX5uemm/TOgZGGHY1dO1u9gx6RocjjnbaYaQVa3cpfKC4U5apsnIzi4YT8g+IHtcghcaH8Qn+QgtVQNKuRZUYUoKUuHJ/L4gKlbux8AERC+QMcjxXaGRPYaBfsOx5XsIkiFLCMNTm7oKAsJ0snix1Huxo+PTxQ18f7OeSHOj7MFnNuYF2LwcxSlHG0UPh+Mab2C0OiMjsYDnncHpfL5fF4OA6VuCBkGYYJhUJQ24DGBfR6vSpV4RfE7t69e2tra1esWLFkyRJwXLRo0QsvvPDDH/5w+fLlLS0tnZ2dqk/4xWAuPTLIGzFK6xJNmQvyK+bMKSfT2KP21p376xqb7D6XpBVjcyNgphOSZmiGFcJBV09je+3uPVtqd+3evW/vzh3b923bdrTusL17OBREShHN6ErIFEmx6ogFA0MwDIhGSMAQ4Wt0Dbd2sJQjPUtrtaSzhEERl6q6nT5kSYxCLDQJ+cmFV1bNLaopGGX9u4/W7dx7tLvLI0XAC0UzF0x/z0bw84vBzF7UXoTTjShJOoP+mquvefLJJ//+7/9+/fr1lZWVoEdNJlNiYqLdbo9Go8PDwyMjI0VFRepwBaC+vn7Lli1z58699957WZZV+3R1Oh1N03CgJElwlOoTg5keZJGQBZFNkFJq0ssWrpiftip9IH3486GG7Q0djmYvEZsbIfYeHDMtgKxlGFbHB8YGDm3Z8/av3/zdL3/961/+8le/fOml37/0Xx+//vbRg11uN/ryFc2+BiIGdekqE2R9MbN9YDDc/Hl394GGBIO9ujoxJ61IJ5uVbt1pXkdRlgmJl2WSN+TSOUvK581dM4e5QtPAtn3SdrjuYL/fThARidFQoNZjR2DOFqxrMZhZCSrhzwya7hsAVQqgSkOZvXzevHmw7z/+4z9ee+21pKSkrKysAwcOqDMe/O53v9u0aVN3d/dvfvOb7du3RyKR3bt3/+d//udLL70E7tnZ2WVlZerJMZjpQXkbwZOaqDbdkl89b+mir9SkLZDtzNH9zbubDhzzDfhFWXt8bgTMdAEylURLFQjhYMjn9roBl8sN/zwul9/rj0Z4SURNDzTfMM0Eo4G+geb99dv2bd9du2/vXjCfb939131dh9y0UFaSt6yisCApjZV0iqadZl1LyNC4gihEKJNoyc+pWLxqxbzrC5gSZ6N7z779u7qabFGvQFB6tMBD7AjMWYKfXgxmNoLKd6jhoeqYxMhQ/qNRYScJYNisrKz86le/qtVqS0pK7r333oSEBHVAgiiKixcvvv322w0Gg8fjiUajqiYGSyAQmDt3LuyyWq0nwsFgpgWU8yVRlGU2KStlzqqy+VfPS8lItQ8Nbas/uqu5e8jjZWhBw6ijOrGymA5kSRAEPsoaEzPmrFx8y8N3PLju4YfXr39k/fpH73v08TV33FwxN8+SgOSLRDEirfEExo40b39nwx9++fIvf/mLl/7rFy/97Odv7fif1vSOhDVLFi29e0FqeQqLvieIl8Ux0QBcURAImjVkVuYsXjNvztIahmUbWts/PdhwcMAeiIS1jMzQFJrDA3PWYF2LwcxSRDRVPRT1Exj0Ce9ENQBUCyzLrlq16gc/+ME3v/lN0LhJSUnLli0rLi7Oycl54oknfvjDH373u999/vnn16xZo9Ppli9f/v3vfx88r1u3rqioCCtaTFwg8gQflhgjmTIvo3r1ooWLatIYwn7saF3trubeY27OL5I6hsCdttOFJAqiwDHGhLTq5QtuvP/me+994P77v3rfgw89/HcPP3LtrWvLq3ORriUJtGSuTIqSGOVC/qDX43V73GMuMB7RyKUvz6pec21V6apMNk0ncZIsTHdX7XFArMqEEJZFXtImafNWFS66Yfnc0gLGPXqsdtfexp3dI51BWSRIA4vnRjgX8IOLwcxGoKxEnQYxy4QGfiZFeU8Y60pQ7SqwqQxeQJMuqrvGb2Iw8YFEyKIosKKcZM0om7Ni3oJVaSnpw/bhw583tOxqdg65OYYmNejzI2VmJswlBr3UkaHwoFmtRkfojTFnVJ6gVcMoloECBVJGEgRK4BMM1qrS5besvm/9V9evX/co4uv33fn1GxbdVpNWbGWUwmzCdvo0ooxGkGUBibDs1Mp5S66vmbtUy7Dt9e0HPznYdaDTG4iIWgatyBA7AjNlsK7FYGYjUFiiakEdbziRgb2TFahKpRPjlM3xnL5LORqDiQskXhLCBGPMSJ23uOramoUL5VSmcaB5z77apoZO92CQikhIPeFRjtMACFg0vlYUuHA0KAX8hIi6WkVBEHlB4JSJY5UySpYESuQt+sTy4iVrrrrrnju+9nf33f/Avfc/+ODt19+/LG9VNmmhkf8oH3+Fj1IECyIUwrQ2oyh/5bLF1xXMKx1lPHuP7d+3a39nsyPi4hlBmfUL58GzAutaDGY2ovRgnDSg9nSDlsXHYC5PZEIS0bSmrFVOmZNZsXDlvNSr04bSh/Y7Dh/c3+xscNJjHOosU5aJwkwTqDkMRRGaBVadCRYKJoXYflSQySTqwNXodAY0k5eKulYXTUPajfMcb0DU4LLAosmgcpdUL5hzw1z2Sk0L27qrqe7Yns5gs0cTEmkNXAvOgmcD1rUYzCwFTR0+oUF1B+oOifnDYC5PRDCcxISpNFNG9bzFi66pzJgvjOq6Ox02V5eP9Ag0mkYKS4p4Bn3fd3y9MT/hjylgUeAFnhc4XhKme7raM4IWIFPKWa2sy88sXrTyynmrs/WlY72RNsiF4d4QE5HQUr04E54VWNdiMLMRKEzVF3kTGBL9IisGc7kjiYDEJmUm1awqrllVY00r5KL6aISTiDh8d42ZBKUPF1B0LWqbo25eILY7rlHLYorWZlZlLVpTXbZojkafFQlRvBCVUNsLc7ZgXYvBzFJQLXCij3YCA8UtrtgxMx70sRFFkSB4hAgXDkZC4UhU4AQ0Aaoyl79AimGZMdFpCzIqr1k4b+6CYmuqQebCoYA/FIkIaK5R/OHjpUD5xlTpgUXfVAlRkYtwvMBLpEyir1HVQbfIj5Ic4A05EbLEc0KUg3SSSOTzhCdkGec/dpLzZnyYqh2CRsFLgsRDBguFgtFIVFSm1/3C/3g/0RD4CYejgiCjCCNkGUkxbZYub2XRgquXLyyryTHoiGjUFwgFOY6XIBPisnjqYF2LwcxKlP6MiQ2oWtTTgQtSzOWCIneUHK00177oyANZAVZJEFlZTk7KLJmzau7clcXJWWZJlHheVPwh+XJcpWAuFqryHHebjyfRmVC8K2+X4iCB1Jyl5C4l7hAjNVInX5TqLebn+D4ocQmJYCgmK6uqesmauZVLcvQmDUHwYtxMTjaDwLoWg5mVoFpeLV4nBhW0GMzMBxSqyEsEazFlVeXPWz7/yoUL5+SVpBkTKYkSedgJWV2MilxIpvRJyTVzy669duFVV69Yvmjl8vK5VWnpZoblBRk0riJJMBcHEpU5kiQoJQ+ts5pzajJK5xfmZGQbZSNaekwZW6D4UW3Q+oZmB60zJ+QXZpYUZyZbrLSkVV82iTE/4/2rZ1F+zxl0+PgwY3b0SzOmLGvhwoorrrxiZeW8iuQ0PU2rHmRJiPlmWEt2UtGiiitWXLFi/sLKjBwzbZBkEvUjQMsK8iIhCqw2PS/7yivnrrl+5VeuvvLKhSuWFVYUJiRpKGh4KbIZ8+XQL7zwQswax6DmMkH09dnffPMDjuMoZUlPzHShPlxfWbV41bL58LyqjpjphKQonZmkmdjmlwEP1NiY+/23N7jG3DTzxZrqMUhCEMT8guy7v3qrRqOJOc4m1AInTnC5vaMuN0VSSdZEo9GAa7epA+lIUSRUGX5/IMpJWktGQk5FelFZSXleRVF6uomRwwE+HAJfoG2DAfAjkHoLZUo3WHOKSsquuKJmbk1OqpXWyTwrEyxFQ4j41k8RSnn/Ho5EXW4Pz/PWREtKkpVlGNCcMR/HUZMJ/AQC/nA4hHI3pREYizY5P7ugJCvJpBODYiQEHqG6CYZC4XAYDgGtGPAHI5yot6Ym5uQYE80mhjAzBC2JgUAwHInA2cFPMBhU/bMsC2eZ7NmhFRXq8fpGXR6IeWpKUoLFDCUhhBDzgUajUOAnGo36/X6ILWwKggBxjkY5lIUIjahNTiqorFo8t6IyI9VMGEiRJUkuygX8fo7nSZIWkJ+UlKKa6sWLKiuyMxOZREbSw7UrWZQXIEwa1G1Y1mgScvJL51bPqZpTk1NVnlqQabFoGUpRx7HYjAOujqaoKMePjrn9gaDZZExPTWHZqVYHlx9YIGIwsxT02fDxBcZOM6I6hS0GM3MBscIwjGts7FDdofpjPZwhN61yiSUtwcD60jQR2j/WUn/o4KFDI85Rt2u0oeFg7cEG+xgRpbMk2pyeabniivySAt1Yb3Njba1zcAitCs3MXq1w8QCBCHi93kOHDu3ZvcduHwhybH9QNxRiLDomUfL0HGuora0dcAy6PZ6Ghob9+2uHhgZdY67Dh4/UN3cICVZzVoZrqK+3vtY3NDjmch08fLiurm5kZGQMkv7QoX379g0ODqpniZ3y7FHEN8Jut+/duxei4Xa7h4eHIGKHDx92uwOusKbHx1IpqQuvKMxPk+zNh1obGjwu94BjYO++feDf4wmNhjS9AY0mI2fRlVUFqZSz7XDfsUa/x9Nn69+zb29z41GPx9XV59xxaMAdtSxYtHTx4kKL2UtxA0YxqlXkGpTJuFj+UrCuxWBmKdD4Bwmrvrg7yQDIguagwWBmLiBqWZYdHXXu3r1r586dgyNOj89X31BfV7vXOTI4NjpaW7tv166dIHpGnc7afXt37d41ODwyOuY+eODgwYMHPJ4xtxvc9+zctm3Q4QBVC6GBvomFjrlA0GiuWdLtdu3evXvLli29vX1jLs+Bg4e379g5YLd7XWP7a/dt3brVZrONoiSr/fzzz+32frCDvty2bfvg0LDL467dt2/Htm0OxwDI2d179mzfvt3hcDidzl27dm3evLm/v189yzknn6JrkbTt6enZtGnTnj17IAIQLERm7959o6Nj/XbHth27QFL7A95BR//2z7fu378fhHVfXx9c1P79dS6Xq9fW//n2nQ1HjgaD/oH+vm1btxw6cMDtcnV1d2/ZvBmaWC6Xu7Oza9PmrUeONgaCwf5+2/btWw8erAsG/BB3msaCbUrg24TBzFLQO60zAV5wFY6ZwagiBrIyz/NcNMJHApGAz+v2eLzBUITnRYkXAF4dJAl+BJ6TBU6IBn0+j2vM7fUGg0EuFOGiAg8tPSxoLxrozkJLGiUTx0loQDQXCfoCfk84Eo0IchRNRsuj5raalBwnokHRyB6NoikIoqEwGp3A8ao78q34V5NV8S9eqNIMgoIwId+o4UPgahYS+UjY7/G73T5vyB+MBtFcDgJERo1DzA/E1e/2e9x+X8AXhOwYjUI4aIeohINGF6PgI4FQwOf3+dxu75jL5w+EIf9Bbo7FAPNl4PG1mLMGnlX4xeNr4wjyXMbXvvP2x/A7wfhaghBEIT8/9977btdo8fjaaQaPrz1nIB3hXkWjHEVTOdnZxcXFJpOZpqmM9IzComKzGexMZmZmUVGRyWRiGLBngd1gNDIMnZWVVVhYZDAYaYbJyoJjS6xWK4SmKCTMl3MW42sp9BEr+IH0ys7OLisrg1sNyZSellZaWpqYmEjTdEZGBtgTEhKUZMosKSkBO7iDHdxjSZmVBe5gBz+QfKod/KhhpqQkw1lOP7sKeIPE/ZLxtcqgXlAger2+EDJHUZFOp9Nqtfn5+QUFBWABwAKbWi3s0YEfsGs0GrCD5xN2cM/Ly2NZVq83gLtqNxqNYM/NzdWwrMFgKC4uysnJYRiwg3sxHGLQG6BxNeGzD/cNj68dD0qnmDWOUauZHTv33XrrQ35/YMKaGHPJUPPMvz7/1PPfWScIIq5lpxtoytNMQibJ6qY4JhYeqPb2rnvueqy9rUt7mnKFMKLRyNXXrHjvg5dNZuMsTF+1wIkTOrr7Wju6aYopKcpPS02GliSWVlME0hGIRCJ+v1+WJRC1oLVCoQCUYEajCVRXIBAA9+N28EOAvIBDgkFwJ0wmI4ShuMtwLKgZCBMXd1MElBaIRZfH29HVEwyFCvNzyksK9Totx6NezJgnhfHJBHlbbWMEg0FQumCHQMAO7pA0J+yqO/iHpDzFDkmpJLcMohaChSRW/aspO5ngAWUJu3pt9taOHoh5ZXlxXnYm6FqeF2I+QNcq341BBCB8iCGEDyFD+OAO4YMddkFM4ESqHfyAXfm2LKAqV9UO7uAfrg78qO7j7aCbQ6EQKGCwR6NR1d1isYALnB2IxWYcEAGWoX2BYEtbl2NoJCsjdU5VuUGvi+2efeCOTwxmlgJFJHoFNolRSlBchWNmMCiHSxIIgqSk5OTkFKV3TWO1WmEL7OCO7EnH7UkAsmu1WmRLTtJqVXtySgo6NvZMYC406o1VkikpNTXVYDCoSaPaIQnADkkw3g5tDNX/CTtKYMUOflS7mpRgV8NRzxI75TmhhgBBpaWlwanhpHA6OBHY4UTgDnaI3ng7+AE7ROB0O8jWU+yJiYlgB8kL9oSEBJCzYIdzgR+QwurZY1HBnBGsazGYWYmMvhubzIjKG6+YTwxmJkMqH9zQNI16BdHLcbSl2sHxhLviRfmwSPEDRrUjV8UeCw5zEQDFpt5qQLnraAzDCft498nsk/k/4a6eRT3duaEeDkGND/8Mdjj1hHbghH0y91PsJ86OmQpY12IwsxEoI0VCnsxIym/M62moBa5KzOk4Mddx7rFthZgTBoPBYDAXB6xrMZjZifL9kaTM6HWaQZPbTtI9oMrTE50H49Xq+F2q/RTPGMylR8nmCLCcjz0WHObiMP5WXwx77DTnzfgwL5k9dm7M1MC6FoOZpSjDZ6G8n8CgncicCujUcDj86aefvvDCCz/96U/r6uqg5D0hYXt6en79618///zzf/7zn0dHR8HF7Xa/88474PLSSy81NTWpPjEYDAaDuUjMpPkQtu/Ye8stDwYDAUIZbjJDOVGxX7D246VHnQ/hn5/+539YfxnMhwApMrMvAKJ/9vMhtLV13nLrg50dnRQzwXwIshhZddWqT/72hvJJeAxVwoKWfe211yorK0G5chz3zW9+Mz09HfYGAoH33nuvpaWlqKiou7t7zpw5X/va1z777LNPPvlkwYIFIHlTUlIee+wxk8kU/xkmrvS3Oh8CS7OlJYUZaSking8BMxOgKYqh6TG3p7WjKxgKFRfkVpYXgws8/HFYAlDKI99jG2hu64KY11SW5mShYk2aCbWbGvlwJNrU0tHvGMLzIcyk/lqobCiKhD/0TDbKNwlo6ZNT3GeQOU4sXWY8l8+VnAWotEbXHUvL8SilJNoHjV6ogUBFAaqoBSHb1NREUdTDDz986623BoPBxsZGVWaBlu3o6Fi1atUTTzxRWFh46NChgYGB1tbW1NTURx999Nprr3U6naB61VPCL+asUGtX1JWOmh3YYDMDjPJHybeKklU3VNd4M8eJ2U44nOItTo0aVWRVLbOdmdFfC0BdODzi3L17P88LM7deBDkbjoRbmlvyC/KTk5Nn9LiZmsriqrLCGdGcnQxoYAwPD40MD5eWlml1WnmmrjEho9aeRk+QU22mwhPk8/l37ar1+gLQyIq5jgOqITTTJAey9WgoFEpKSlqzZs3ChQvdbverr74KQvbZZ58dGRkBe1pa2kMPPaTRaLZs2bJx48b169dXV1e///77u3fvvv3222tra9PT09etW9fc3Pzee+9VVVXdfffdavjqieKTuCph2rt7m1o6eF7MzspIsiZCLsXj7TDxj7rqrC8QHHAMhiPRzPTUvOxMjYYVlEZyzFPcwDAMPFZDI06bfQga9vl5WekpydC6F4QZ8G4EdZPRVDAc7ukb8Hp9BXlZc6srZnN/7YzRtcDl0c0TCYd//d+/vuOOO4qLS2JOM5aZ3i6E/HTg4KE9e3avW7c+McEysy/nLKuKqTxNDQ31Nls/z/MGgwEkaV5eHmjZ119/HeqAp556amxsDHRtYmIiyFbQtZ999tmmTZsef/zxysrKjz76aM+ePdddd119fX12dvaDDz7Y1tb2zjvvlJeX33PPPRAy1rVTp6u3v7G5zeX2mYwGvV6n3LmZ/uRhZgPoMeIFIRQKi5IE7WTIv6B043MGQVDhEK1IJBIMhUmCNBohvlqoIaSZ0NkB9xnuNc8LHp+fpqjy4vyayjKdThvbPfuYSeMQ4rwunCL+QKCrq3tszBXbntFAisxoQxChYGB4aEgU+Bl/OWfJVJ6m+fMX3HbbbXffffeNN96Yn58PRadWwev1wt6wgsViUadXBO0LFr/fD/ZgMCgIQmpqKhzi8/lUF2hCm0wmsGPOClAD6akpaalJRoOOodHCQizDYINN3BsasqtBp01NTspMS7GYTVAaoGIHibC4M0p5KBv0urTU5NTUJBCFqFRFg69O9RmHBoCo0jSVaDHDrU5MiJXJs5aZ1F97GQAP9sjIyI9//OOHH3546dKlyrOEmTYgOXbu3Llp06bnnnsuOTkZJ8cpwP2J2ZRyEzZFUXz//fc3b978v/7X/2ppafnoo48ee+yxuXPnMgzT29v76quvZmdn33HHHX/84x89Hs/3vve91157rbu7+4UXXvjkk0+OHj26fv36kpKS+L/P4y982olEooFgKByNfjFOJo5ih8FMgpJb4VFSlh5AHZ+SJKJHPz5zrxIx9YU+bIkiKCNFGs2UZ+343dagxXj1RoMBfYw0W8G69pIC2c7r9X7wwQerVq0qLi7GQmp6geQAcQZ666abbjKbzTg5vhS4Y6Bf//CHPwwMDEDRccUVV8Cta2try8jIqKmpAb377rvvRqNRq9V67733rlixoqGh4c9//rPL5QLhu3r16q9+9avoRSTWtRgMBoO5OGBde0mB+lIQBKjmQUXp9XospKYXSI5QKBQOhxMSEtQFuGM7MJMAd0wUxe7ubmgPQAaeO3eu0Wh0OBwmkykrK8vn8zU2Ng4PD+fl5c2ZM0er1XIcB6q3vb09JSWluroafmfETca6FoPBYGYoWNdeasZXmVhITS8n0gInxNSZTPPBPTxl14QuMVt8M9k1YjAYDCbOwbp2GuA4Dm67RqNRB3djUTUtwG3neR5+IRUYhgEpgxNi6qjK7/Q7dkIRjt81mee4BetaDAaDmaFgXXvpgMoS7nZ9ff0777zjdDpXrVp166234s+VpgVIC5vN9uqrrzY2Ni5fvvzxxx83GAw4ITAqWNdiMBjMDGUmzfN1GTA6OvrXv/4VtOx111135MgR0LigdHElOi2wLFtUVGS1WltbW6PRaMwVg8FgMBjMjAXr2kuEKl5tNpvH41m9evV9991XUFDQ3t4Om6oHzCUmJSXltttuu+qqqwwGA35rgcFgMBjMZQDWtZcOEE+jo6MWiyUhIQFkbnZ2NojaQCAQ2425hMiyzKJ5/oyzfP5qDAaDwWAuJ7CuvXSAlhJFEYSU2nfLKAtS457C6QWPqcVgMBgM5rIB69pLB0VRFoslEAioozndbrfBYNDpdOpezLQArQt1PoTYNgaDwWAwmBkL1rWXDnXsgSAIra2tXV1dHR0dOTk5Vqs1thtzaYGEgKbF6Oio1+t1Op08z8d2YDAYDAaDmZnQL7zwQsyKuciArtXr9eFw+G9/+9umTZuSk5NvvPHGtLQ0/Cr80gNpYbPZ/t//+38bNmxob28HXZuRkZGZmakOEcHMcnA2wGAwmBkKnr/2kgL1ZSAQACEFvwUFBdnZ2TRNY1176YGE8Pv9HR0d6nd7Op2usLAwJSVF3YuZ5WBdi8FgMDMUrGsvNadUmVjUThenaxecFhgVrGsxGAxmhoJ1LWa2AyIGK1rMeLCuxWAwmBkK/m4MM9vBohaDwWAwmMsDrGsxGAwGg8FgMJcDWNdiMBgMBoPBYC4HsK7FYDAYDAaDwVwOYF2LwWAwGAwGg7kcwLoWg8FgMBgMBnM5gHUtBoPBYDAYDOZyAOtaDAaDwWAwGMzlANa1GAwGg8FgMJiZD0H8/yk15vxu51JHAAAAAElFTkSuQmCC)"
      ]
    },
    {
      "cell_type": "code",
      "metadata": {
        "colab": {
          "base_uri": "https://localhost:8080/",
          "height": 320
        },
        "id": "s7GzWQL31JpO",
        "outputId": "bc4a41a1-2738-442d-95e8-d3abdd15570e"
      },
      "source": [
        "# 혼합행렬\n",
        "from sklearn.metrics import confusion_matrix\n",
        "y_predict = model.predict(x_test)\n",
        "cm = confusion_matrix(y_test, y_predict) # 실제 y값, y 예측값\n",
        "print(cm)\n",
        "\n",
        "import matplotlib.pyplot as plt\n",
        "import seaborn as sns\n",
        "sns.heatmap(cm, annot=True) # 세로축 : 관찰값(행), 가로축 : 예측값(열)\n",
        "#sns.heatmap(cm, annot=True, xticklabels=['Negative', 'Positive'], yticklabels=['Negative', 'Positive'])\n",
        "plt.ylabel('Actual')\n",
        "plt.xlabel('Predicted')\n",
        "plt.show()"
      ],
      "execution_count": 20,
      "outputs": [
        {
          "output_type": "stream",
          "name": "stdout",
          "text": [
            "[[2 0]\n",
            " [0 2]]\n"
          ]
        },
        {
          "output_type": "display_data",
          "data": {
            "image/png": "[encoded data removed]",
            "text/plain": [
              "<Figure size 432x288 with 2 Axes>"
            ]
          },
          "metadata": {
            "needs_background": "light"
          }
        }
      ]
    },
    {
      "cell_type": "code",
      "metadata": {
        "colab": {
          "base_uri": "https://localhost:8080/"
        },
        "id": "8x8_JfQ05qmd",
        "outputId": "64a9c5bb-37ed-43aa-c80b-1ec6643c7ae6"
      },
      "source": [
        "# 데이터분석과 관련한 필기 시험 보시는분들은 이 공식 모두 알아야함.\n",
        "# 정확도:    실제데이터와 예측데이터가 같은 갯수 / 전체데이터\n",
        "# cm[0][0] 은 (TN+TP)/(TN+FN+FP+TP)\n",
        "accuracy_score = (cm[0][0] + cm[1][1]) / (cm[0][0] + cm[0][1] + cm[1][0] + cm[1][1]) #정확도\n",
        "print(accuracy_score) #1.0\n",
        "\n",
        "\n",
        "# 재현율: 실제 데이터가 true인 것중에 모델이 true라고 예측한 비율\n",
        "recall_score = (cm[1][1]) / (cm[1][0]+cm[1][1]) \n",
        "print(recall_score) \n",
        "\n",
        "\n",
        "#정밀도\n",
        "precision_score = (cm[1][1]) / (cm[0][1] + cm[1][1])\n",
        "print(precision_score)\n",
        "\n",
        "# F1 Score : 2*(정밀도*재현율)/(정밀도+재현율)\n",
        "f1_score = ((precision_score * recall_score) / (precision_score + recall_score)) * 2\n",
        "print(f1_score)"
      ],
      "execution_count": 15,
      "outputs": [
        {
          "output_type": "stream",
          "name": "stdout",
          "text": [
            "1.0\n",
            "1.0\n",
            "1.0\n",
            "1.0\n"
          ]
        }
      ]
    },
    {
      "cell_type": "code",
      "metadata": {
        "colab": {
          "base_uri": "https://localhost:8080/"
        },
        "id": "jK66t7ya1su-",
        "outputId": "11b8741e-e73f-4e16-d16c-827e48a59061"
      },
      "source": [
        "# https://wikidocs.net/87235\n",
        "# 분류분석 보고서\n",
        "from sklearn.metrics import classification_report\n",
        "\n",
        "print(classification_report(y_test, y_predict)) # 주로 1에대한 정밀도와 재현율을 확인!"
      ],
      "execution_count": 21,
      "outputs": [
        {
          "output_type": "stream",
          "name": "stdout",
          "text": [
            "              precision    recall  f1-score   support\n",
            "\n",
            "           0       1.00      1.00      1.00         2\n",
            "           1       1.00      1.00      1.00         2\n",
            "\n",
            "    accuracy                           1.00         4\n",
            "   macro avg       1.00      1.00      1.00         4\n",
            "weighted avg       1.00      1.00      1.00         4\n",
            "\n"
          ]
        }
      ]
    },
    {
      "cell_type": "markdown",
      "metadata": {
        "id": "Nu-MCj707Sgt"
      },
      "source": [
        "## 값의 연관성 확인\n",
        "- (보통) summary에 보이는 p-value값이 0.05보다 크면 x값에서 제거함.\n",
        "- p-value값이 0.05보다 작아야 유효한 변수\n",
        "- https://wikidocs.net/87222"
      ]
    },
    {
      "cell_type": "code",
      "metadata": {
        "colab": {
          "base_uri": "https://localhost:8080/",
          "height": 298
        },
        "id": "xTOEDAtI6pnn",
        "outputId": "b2963bdd-f80c-48a9-8578-71042d75b6ea"
      },
      "source": [
        "import statsmodels.api as sm\n",
        "logit_mod = sm.Logit(y_train, x_train)\n",
        "results = logit_mod.fit()\n",
        "results.summary()"
      ],
      "execution_count": 22,
      "outputs": [
        {
          "output_type": "stream",
          "name": "stdout",
          "text": [
            "Optimization terminated successfully.\n",
            "         Current function value: 0.483183\n",
            "         Iterations 6\n"
          ]
        },
        {
          "output_type": "execute_result",
          "data": {
            "text/html": [
              "<table class=\"simpletable\">\n",
              "<caption>Logit Regression Results</caption>\n",
              "<tr>\n",
              "  <th>Dep. Variable:</th>           <td>y</td>        <th>  No. Observations:  </th>  <td>     8</td> \n",
              "</tr>\n",
              "<tr>\n",
              "  <th>Model:</th>                 <td>Logit</td>      <th>  Df Residuals:      </th>  <td>     6</td> \n",
              "</tr>\n",
              "<tr>\n",
              "  <th>Method:</th>                 <td>MLE</td>       <th>  Df Model:          </th>  <td>     1</td> \n",
              "</tr>\n",
              "<tr>\n",
              "  <th>Date:</th>            <td>Tue, 14 Sep 2021</td> <th>  Pseudo R-squ.:     </th>  <td>0.2696</td> \n",
              "</tr>\n",
              "<tr>\n",
              "  <th>Time:</th>                <td>16:02:18</td>     <th>  Log-Likelihood:    </th> <td> -3.8655</td>\n",
              "</tr>\n",
              "<tr>\n",
              "  <th>converged:</th>             <td>True</td>       <th>  LL-Null:           </th> <td> -5.2925</td>\n",
              "</tr>\n",
              "<tr>\n",
              "  <th>Covariance Type:</th>     <td>nonrobust</td>    <th>  LLR p-value:       </th>  <td>0.09114</td>\n",
              "</tr>\n",
              "</table>\n",
              "<table class=\"simpletable\">\n",
              "<tr>\n",
              "   <td></td>     <th>coef</th>     <th>std err</th>      <th>z</th>      <th>P>|z|</th>  <th>[0.025</th>    <th>0.975]</th>  \n",
              "</tr>\n",
              "<tr>\n",
              "  <th>x1</th> <td>    0.0800</td> <td>    0.583</td> <td>    0.137</td> <td> 0.891</td> <td>   -1.063</td> <td>    1.223</td>\n",
              "</tr>\n",
              "<tr>\n",
              "  <th>x2</th> <td>    0.1752</td> <td>    0.538</td> <td>    0.326</td> <td> 0.744</td> <td>   -0.879</td> <td>    1.229</td>\n",
              "</tr>\n",
              "</table>"
            ],
            "text/plain": [
              "<class 'statsmodels.iolib.summary.Summary'>\n",
              "\"\"\"\n",
              "                           Logit Regression Results                           \n",
              "==============================================================================\n",
              "Dep. Variable:                      y   No. Observations:                    8\n",
              "Model:                          Logit   Df Residuals:                        6\n",
              "Method:                           MLE   Df Model:                            1\n",
              "Date:                Tue, 14 Sep 2021   Pseudo R-squ.:                  0.2696\n",
              "Time:                        16:02:18   Log-Likelihood:                -3.8655\n",
              "converged:                       True   LL-Null:                       -5.2925\n",
              "Covariance Type:            nonrobust   LLR p-value:                   0.09114\n",
              "==============================================================================\n",
              "                 coef    std err          z      P>|z|      [0.025      0.975]\n",
              "------------------------------------------------------------------------------\n",
              "x1             0.0800      0.583      0.137      0.891      -1.063       1.223\n",
              "x2             0.1752      0.538      0.326      0.744      -0.879       1.229\n",
              "==============================================================================\n",
              "\"\"\""
            ]
          },
          "metadata": {},
          "execution_count": 22
        }
      ]
    },
    {
      "cell_type": "markdown",
      "metadata": {
        "id": "-kUx1UMTEAZn"
      },
      "source": [
        "## ROC 커브곡선\n",
        "- 이항분류에서 일치율을 시각화한 것\n",
        "- ROC의 하단면적을 AUC라고 함. **AUC가 클수록 좋은 결과**임\n",
        "- **이항분류에서만** 가능, 다항분류에서 사용 불가능\n",
        "-  True Positive Rate와 False Positive Rate 두 가지를 이용해서 표현\n",
        "- (참고) https://angeloyeo.github.io/2020/08/05/ROC.html<br>\n",
        "<img src=\"https://raw.githubusercontent.com/angeloyeo/angeloyeo.github.io/master/pics/2020-08-05-ROC/pic1.png\" width=\"300\" height=\"300\"></img>"
      ]
    },
    {
      "cell_type": "markdown",
      "metadata": {
        "id": "pWYTRrrXGdz-"
      },
      "source": [
        "## 로지스틱회귀 실습\n",
        "- y값: admit(합격1, 불합격 0)\n",
        "- x값\n",
        " - gre: 점수\n",
        " - gpa:학점평균\n",
        " - prestige: 출신학교(1이 가장 좋은 학교, 4가 가장 않좋은 학교)\n",
        " - 출신학교의 1,2,3,4는 일종의 카테고리(그룹항목) : 이러한 그룹항목은 범주형자료임 => 더미변수화를 작업해야함, 일부에서는 이 작업을 원핫인코딩이라고 하기도함"
      ]
    },
    {
      "cell_type": "code",
      "metadata": {
        "colab": {
          "base_uri": "https://localhost:8080/"
        },
        "id": "1-SZ0oDc7ZZv",
        "outputId": "27b18d7b-e0d6-4614-f58f-a0622109f3b0"
      },
      "source": [
        "from google.colab import drive\n",
        "drive.mount('/content/mnt')"
      ],
      "execution_count": 23,
      "outputs": [
        {
          "output_type": "stream",
          "name": "stdout",
          "text": [
            "Mounted at /content/mnt\n"
          ]
        }
      ]
    },
    {
      "cell_type": "code",
      "metadata": {
        "id": "TKzhHOk5GnZn"
      },
      "source": [
        "f = '/content/mnt/MyDrive/데이터/판다스데이터분석_실습/로지스틱회귀분석'"
      ],
      "execution_count": 24,
      "outputs": []
    },
    {
      "cell_type": "code",
      "metadata": {
        "colab": {
          "base_uri": "https://localhost:8080/",
          "height": 204
        },
        "id": "Eg8_OEpvHDVI",
        "outputId": "a284fb68-671d-4773-d994-203e4eb20f89"
      },
      "source": [
        "df = pd.read_csv(f'{f}/admissions.csv')\n",
        "df.head()"
      ],
      "execution_count": 26,
      "outputs": [
        {
          "output_type": "execute_result",
          "data": {
            "text/html": [
              "<div>\n",
              "<style scoped>\n",
              "    .dataframe tbody tr th:only-of-type {\n",
              "        vertical-align: middle;\n",
              "    }\n",
              "\n",
              "    .dataframe tbody tr th {\n",
              "        vertical-align: top;\n",
              "    }\n",
              "\n",
              "    .dataframe thead th {\n",
              "        text-align: right;\n",
              "    }\n",
              "</style>\n",
              "<table border=\"1\" class=\"dataframe\">\n",
              "  <thead>\n",
              "    <tr style=\"text-align: right;\">\n",
              "      <th></th>\n",
              "      <th>admit</th>\n",
              "      <th>gre</th>\n",
              "      <th>gpa</th>\n",
              "      <th>prestige</th>\n",
              "    </tr>\n",
              "  </thead>\n",
              "  <tbody>\n",
              "    <tr>\n",
              "      <th>0</th>\n",
              "      <td>0</td>\n",
              "      <td>380</td>\n",
              "      <td>3.61</td>\n",
              "      <td>3</td>\n",
              "    </tr>\n",
              "    <tr>\n",
              "      <th>1</th>\n",
              "      <td>1</td>\n",
              "      <td>660</td>\n",
              "      <td>3.67</td>\n",
              "      <td>3</td>\n",
              "    </tr>\n",
              "    <tr>\n",
              "      <th>2</th>\n",
              "      <td>1</td>\n",
              "      <td>800</td>\n",
              "      <td>4.00</td>\n",
              "      <td>1</td>\n",
              "    </tr>\n",
              "    <tr>\n",
              "      <th>3</th>\n",
              "      <td>1</td>\n",
              "      <td>640</td>\n",
              "      <td>3.19</td>\n",
              "      <td>4</td>\n",
              "    </tr>\n",
              "    <tr>\n",
              "      <th>4</th>\n",
              "      <td>0</td>\n",
              "      <td>520</td>\n",
              "      <td>2.93</td>\n",
              "      <td>4</td>\n",
              "    </tr>\n",
              "  </tbody>\n",
              "</table>\n",
              "</div>"
            ],
            "text/plain": [
              "   admit  gre   gpa  prestige\n",
              "0      0  380  3.61         3\n",
              "1      1  660  3.67         3\n",
              "2      1  800  4.00         1\n",
              "3      1  640  3.19         4\n",
              "4      0  520  2.93         4"
            ]
          },
          "metadata": {},
          "execution_count": 26
        }
      ]
    },
    {
      "cell_type": "code",
      "metadata": {
        "colab": {
          "base_uri": "https://localhost:8080/",
          "height": 204
        },
        "id": "2L4YdyX2Howt",
        "outputId": "06f287d1-42da-41d6-eb24-1ed128c3938a"
      },
      "source": [
        "# 더미변수화\n",
        "df[['prest_1', 'prest_2', 'prest_3', 'prest_4']] = pd.get_dummies(df['prestige'])\n",
        "df.head()"
      ],
      "execution_count": 27,
      "outputs": [
        {
          "output_type": "execute_result",
          "data": {
            "text/html": [
              "<div>\n",
              "<style scoped>\n",
              "    .dataframe tbody tr th:only-of-type {\n",
              "        vertical-align: middle;\n",
              "    }\n",
              "\n",
              "    .dataframe tbody tr th {\n",
              "        vertical-align: top;\n",
              "    }\n",
              "\n",
              "    .dataframe thead th {\n",
              "        text-align: right;\n",
              "    }\n",
              "</style>\n",
              "<table border=\"1\" class=\"dataframe\">\n",
              "  <thead>\n",
              "    <tr style=\"text-align: right;\">\n",
              "      <th></th>\n",
              "      <th>admit</th>\n",
              "      <th>gre</th>\n",
              "      <th>gpa</th>\n",
              "      <th>prestige</th>\n",
              "      <th>prest_1</th>\n",
              "      <th>prest_2</th>\n",
              "      <th>prest_3</th>\n",
              "      <th>prest_4</th>\n",
              "    </tr>\n",
              "  </thead>\n",
              "  <tbody>\n",
              "    <tr>\n",
              "      <th>0</th>\n",
              "      <td>0</td>\n",
              "      <td>380</td>\n",
              "      <td>3.61</td>\n",
              "      <td>3</td>\n",
              "      <td>0</td>\n",
              "      <td>0</td>\n",
              "      <td>1</td>\n",
              "      <td>0</td>\n",
              "    </tr>\n",
              "    <tr>\n",
              "      <th>1</th>\n",
              "      <td>1</td>\n",
              "      <td>660</td>\n",
              "      <td>3.67</td>\n",
              "      <td>3</td>\n",
              "      <td>0</td>\n",
              "      <td>0</td>\n",
              "      <td>1</td>\n",
              "      <td>0</td>\n",
              "    </tr>\n",
              "    <tr>\n",
              "      <th>2</th>\n",
              "      <td>1</td>\n",
              "      <td>800</td>\n",
              "      <td>4.00</td>\n",
              "      <td>1</td>\n",
              "      <td>1</td>\n",
              "      <td>0</td>\n",
              "      <td>0</td>\n",
              "      <td>0</td>\n",
              "    </tr>\n",
              "    <tr>\n",
              "      <th>3</th>\n",
              "      <td>1</td>\n",
              "      <td>640</td>\n",
              "      <td>3.19</td>\n",
              "      <td>4</td>\n",
              "      <td>0</td>\n",
              "      <td>0</td>\n",
              "      <td>0</td>\n",
              "      <td>1</td>\n",
              "    </tr>\n",
              "    <tr>\n",
              "      <th>4</th>\n",
              "      <td>0</td>\n",
              "      <td>520</td>\n",
              "      <td>2.93</td>\n",
              "      <td>4</td>\n",
              "      <td>0</td>\n",
              "      <td>0</td>\n",
              "      <td>0</td>\n",
              "      <td>1</td>\n",
              "    </tr>\n",
              "  </tbody>\n",
              "</table>\n",
              "</div>"
            ],
            "text/plain": [
              "   admit  gre   gpa  prestige  prest_1  prest_2  prest_3  prest_4\n",
              "0      0  380  3.61         3        0        0        1        0\n",
              "1      1  660  3.67         3        0        0        1        0\n",
              "2      1  800  4.00         1        1        0        0        0\n",
              "3      1  640  3.19         4        0        0        0        1\n",
              "4      0  520  2.93         4        0        0        0        1"
            ]
          },
          "metadata": {},
          "execution_count": 27
        }
      ]
    },
    {
      "cell_type": "code",
      "metadata": {
        "colab": {
          "base_uri": "https://localhost:8080/",
          "height": 380
        },
        "id": "4AtftX1tIB6d",
        "outputId": "91be3eae-8ad7-469d-ce0a-67055d842cb9"
      },
      "source": [
        "df['intercept'] = 1\n",
        "# sm.Logit(y,x)\n",
        "logit_mod = sm.Logit(df['admit'], df[['intercept', 'gre', 'gpa', 'prest_2', 'prest_3', 'prest_4']]) # 더미변수는 보통 k-1개 사용\n",
        "result = logit_mod.fit()\n",
        "result.summary()"
      ],
      "execution_count": 28,
      "outputs": [
        {
          "output_type": "stream",
          "name": "stdout",
          "text": [
            "Optimization terminated successfully.\n",
            "         Current function value: 0.573854\n",
            "         Iterations 6\n"
          ]
        },
        {
          "output_type": "execute_result",
          "data": {
            "text/html": [
              "<table class=\"simpletable\">\n",
              "<caption>Logit Regression Results</caption>\n",
              "<tr>\n",
              "  <th>Dep. Variable:</th>         <td>admit</td>      <th>  No. Observations:  </th>  <td>   397</td>  \n",
              "</tr>\n",
              "<tr>\n",
              "  <th>Model:</th>                 <td>Logit</td>      <th>  Df Residuals:      </th>  <td>   391</td>  \n",
              "</tr>\n",
              "<tr>\n",
              "  <th>Method:</th>                 <td>MLE</td>       <th>  Df Model:          </th>  <td>     5</td>  \n",
              "</tr>\n",
              "<tr>\n",
              "  <th>Date:</th>            <td>Tue, 14 Sep 2021</td> <th>  Pseudo R-squ.:     </th>  <td>0.08166</td> \n",
              "</tr>\n",
              "<tr>\n",
              "  <th>Time:</th>                <td>16:27:08</td>     <th>  Log-Likelihood:    </th> <td> -227.82</td> \n",
              "</tr>\n",
              "<tr>\n",
              "  <th>converged:</th>             <td>True</td>       <th>  LL-Null:           </th> <td> -248.08</td> \n",
              "</tr>\n",
              "<tr>\n",
              "  <th>Covariance Type:</th>     <td>nonrobust</td>    <th>  LLR p-value:       </th> <td>1.176e-07</td>\n",
              "</tr>\n",
              "</table>\n",
              "<table class=\"simpletable\">\n",
              "<tr>\n",
              "      <td></td>         <th>coef</th>     <th>std err</th>      <th>z</th>      <th>P>|z|</th>  <th>[0.025</th>    <th>0.975]</th>  \n",
              "</tr>\n",
              "<tr>\n",
              "  <th>intercept</th> <td>   -3.8769</td> <td>    1.142</td> <td>   -3.393</td> <td> 0.001</td> <td>   -6.116</td> <td>   -1.638</td>\n",
              "</tr>\n",
              "<tr>\n",
              "  <th>gre</th>       <td>    0.0022</td> <td>    0.001</td> <td>    2.028</td> <td> 0.043</td> <td> 7.44e-05</td> <td>    0.004</td>\n",
              "</tr>\n",
              "<tr>\n",
              "  <th>gpa</th>       <td>    0.7793</td> <td>    0.333</td> <td>    2.344</td> <td> 0.019</td> <td>    0.128</td> <td>    1.431</td>\n",
              "</tr>\n",
              "<tr>\n",
              "  <th>prest_2</th>   <td>   -0.6801</td> <td>    0.317</td> <td>   -2.146</td> <td> 0.032</td> <td>   -1.301</td> <td>   -0.059</td>\n",
              "</tr>\n",
              "<tr>\n",
              "  <th>prest_3</th>   <td>   -1.3387</td> <td>    0.345</td> <td>   -3.882</td> <td> 0.000</td> <td>   -2.015</td> <td>   -0.663</td>\n",
              "</tr>\n",
              "<tr>\n",
              "  <th>prest_4</th>   <td>   -1.5534</td> <td>    0.417</td> <td>   -3.721</td> <td> 0.000</td> <td>   -2.372</td> <td>   -0.735</td>\n",
              "</tr>\n",
              "</table>"
            ],
            "text/plain": [
              "<class 'statsmodels.iolib.summary.Summary'>\n",
              "\"\"\"\n",
              "                           Logit Regression Results                           \n",
              "==============================================================================\n",
              "Dep. Variable:                  admit   No. Observations:                  397\n",
              "Model:                          Logit   Df Residuals:                      391\n",
              "Method:                           MLE   Df Model:                            5\n",
              "Date:                Tue, 14 Sep 2021   Pseudo R-squ.:                 0.08166\n",
              "Time:                        16:27:08   Log-Likelihood:                -227.82\n",
              "converged:                       True   LL-Null:                       -248.08\n",
              "Covariance Type:            nonrobust   LLR p-value:                 1.176e-07\n",
              "==============================================================================\n",
              "                 coef    std err          z      P>|z|      [0.025      0.975]\n",
              "------------------------------------------------------------------------------\n",
              "intercept     -3.8769      1.142     -3.393      0.001      -6.116      -1.638\n",
              "gre            0.0022      0.001      2.028      0.043    7.44e-05       0.004\n",
              "gpa            0.7793      0.333      2.344      0.019       0.128       1.431\n",
              "prest_2       -0.6801      0.317     -2.146      0.032      -1.301      -0.059\n",
              "prest_3       -1.3387      0.345     -3.882      0.000      -2.015      -0.663\n",
              "prest_4       -1.5534      0.417     -3.721      0.000      -2.372      -0.735\n",
              "==============================================================================\n",
              "\"\"\""
            ]
          },
          "metadata": {},
          "execution_count": 28
        }
      ]
    },
    {
      "cell_type": "code",
      "metadata": {
        "colab": {
          "base_uri": "https://localhost:8080/"
        },
        "id": "kRaIN7-UIi-I",
        "outputId": "01b66434-91d7-496d-8bfb-45d056c50bf9"
      },
      "source": [
        "# gpa의 2.180027 는 gpa가1 증가할때 합격할 오즈가 2.1배 증가한다.\n",
        "# prest_2의 0.506548 는 베이스라인 1등급고등학교에 비해서 합격할 오즈가 0.5배이다.\n",
        "np.exp(result.params)"
      ],
      "execution_count": 31,
      "outputs": [
        {
          "output_type": "execute_result",
          "data": {
            "text/plain": [
              "intercept    0.020716\n",
              "gre          1.002221\n",
              "gpa          2.180027\n",
              "prest_2      0.506548\n",
              "prest_3      0.262192\n",
              "prest_4      0.211525\n",
              "dtype: float64"
            ]
          },
          "metadata": {},
          "execution_count": 31
        }
      ]
    }
  ]
}