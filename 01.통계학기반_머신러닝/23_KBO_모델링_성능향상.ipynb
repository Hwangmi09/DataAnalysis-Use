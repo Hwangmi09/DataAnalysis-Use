{
  "nbformat": 4,
  "nbformat_minor": 0,
  "metadata": {
    "colab": {
      "name": "23_KBO_모델링_성능향상.ipynb",
      "provenance": [],
      "collapsed_sections": []
    },
    "kernelspec": {
      "name": "python3",
      "display_name": "Python 3"
    },
    "language_info": {
      "name": "python"
    }
  },
  "cells": [
    {
      "cell_type": "markdown",
      "metadata": {
        "id": "XkDcgS5RSwJo"
      },
      "source": [
        "# KBO 타자 OPS 예측"
      ]
    },
    {
      "cell_type": "code",
      "metadata": {
        "id": "RGlfs4n8VNy5"
      },
      "source": [
        "# 메모리 변수 모두 제거\n",
        "all = [var for var in globals() if var[0] != \"_\"]\n",
        "for var in all:\n",
        "    del globals()[var]"
      ],
      "execution_count": 3,
      "outputs": []
    },
    {
      "cell_type": "code",
      "metadata": {
        "id": "KHgH2vB7Ufgg"
      },
      "source": [
        "import numpy as np\n",
        "import pandas as pd\n",
        "import matplotlib.pyplot as plt\n",
        "import seaborn as sns"
      ],
      "execution_count": 4,
      "outputs": []
    },
    {
      "cell_type": "code",
      "metadata": {
        "id": "ujTG3yCRzzVJ"
      },
      "source": [
        "import warnings\n",
        "warnings.filterwarnings('ignore')"
      ],
      "execution_count": 19,
      "outputs": []
    },
    {
      "cell_type": "code",
      "metadata": {
        "colab": {
          "base_uri": "https://localhost:8080/"
        },
        "id": "C6AwarbWU9Wa",
        "outputId": "ac5b0dd6-b938-4866-fd73-ebc0daf0e52a"
      },
      "source": [
        "from google.colab import drive\n",
        "drive.mount('/content/mnt')"
      ],
      "execution_count": 2,
      "outputs": [
        {
          "output_type": "stream",
          "name": "stdout",
          "text": [
            "Mounted at /content/mnt\n"
          ]
        }
      ]
    },
    {
      "cell_type": "code",
      "metadata": {
        "id": "29d17CCEVLtB"
      },
      "source": [
        "f = '/content/mnt/MyDrive/데이터/데이콘경진대회/62540_KBO_prediction_data'"
      ],
      "execution_count": 5,
      "outputs": []
    },
    {
      "cell_type": "code",
      "metadata": {
        "id": "iPfYWBieU6ky"
      },
      "source": [
        "sum_hf_yr_OBP = pd.read_csv(f'{f}/sum_hf_yr_OBP.csv')\n",
        "sum_hf_yr_SLG = pd.read_csv(f'{f}/sum_hf_yr_SLG.csv')"
      ],
      "execution_count": 6,
      "outputs": []
    },
    {
      "cell_type": "markdown",
      "metadata": {
        "id": "K0h45o7BSQEe"
      },
      "source": [
        "## 3. 모델구축과 검증"
      ]
    },
    {
      "cell_type": "markdown",
      "metadata": {
        "id": "J0wL89oKSUiQ"
      },
      "source": [
        "### 3.1 데이터 분할"
      ]
    },
    {
      "cell_type": "code",
      "metadata": {
        "colab": {
          "base_uri": "https://localhost:8080/"
        },
        "id": "zqZ0ucl6SHV_",
        "outputId": "75b05e25-3f13-4030-f42f-11017da46fe7"
      },
      "source": [
        "# 30타수 이상의 데이터만 학습\n",
        "sum_hf_yr_OBP= sum_hf_yr_OBP.loc[sum_hf_yr_OBP['AB']>=30] # P.40 참고\n",
        "sum_hf_yr_SLG = sum_hf_yr_SLG.loc[sum_hf_yr_SLG['AB']>=30] \n",
        "\n",
        "# 2018년 데이터를 test 데이터 2018년 이전은 train 데이터로 나눈다.\n",
        "OBP_train = sum_hf_yr_OBP.loc[sum_hf_yr_OBP['year'] != 2018]\n",
        "OBP_test = sum_hf_yr_OBP.loc[sum_hf_yr_OBP['year'] == 2018]\n",
        "\n",
        "SLG_train = sum_hf_yr_SLG.loc[sum_hf_yr_SLG['year'] != 2018]\n",
        "SLG_test = sum_hf_yr_SLG.loc[sum_hf_yr_SLG['year'] == 2018]\n",
        "print(OBP_train.shape, OBP_test.shape, SLG_train.shape, SLG_test.shape)"
      ],
      "execution_count": 7,
      "outputs": [
        {
          "output_type": "stream",
          "name": "stdout",
          "text": [
            "(872, 9) (150, 9) (872, 9) (150, 9)\n"
          ]
        }
      ]
    },
    {
      "cell_type": "code",
      "metadata": {
        "id": "1x26LD-cSZa_"
      },
      "source": [
        "def wrmse(v,w,p):\n",
        "    # v: 실제값\n",
        "    # w: 타수\n",
        "    # p: 예측값\n",
        "    return sum(np.sqrt(((v-p)**2 * w) / sum(w)))"
      ],
      "execution_count": 8,
      "outputs": []
    },
    {
      "cell_type": "markdown",
      "metadata": {
        "id": "liJ5ygI8SbA2"
      },
      "source": [
        "### 3.2 모델 선택"
      ]
    },
    {
      "cell_type": "markdown",
      "metadata": {
        "id": "VmJ9cfeqZ9Wn"
      },
      "source": [
        "- 릿지, 라쏘"
      ]
    },
    {
      "cell_type": "code",
      "metadata": {
        "id": "I0dLecC6Sd06"
      },
      "source": [
        "from sklearn.linear_model import Ridge, Lasso\n",
        "from sklearn.model_selection import GridSearchCV\n",
        "\n",
        "# log 단위(1e+01)로 1.e-04 ~ 1.e+01 사이의 구간에 대해 parameter를 탐색한다.\n",
        "# numpy.logspace(start, stop, num=50, endpoint=True, base=10.0, dtype=None, axis=0) \n",
        "lasso_params = {'alpha':np.logspace(-4, 1, 6)} # 10^(-4)~10을 6개로 나눈 배열\n",
        "ridge_params = {'alpha':np.logspace(-4, 1, 6)} \n",
        "\n",
        "# GridSearchCV를 이용하여 dict에 Lasso, Ridege OBP 모델을 저장한다.\n",
        "OBP_linear_models = {\n",
        "    'Lasso': GridSearchCV(Lasso(), param_grid=lasso_params).fit(    # GridSearchCV(model,param,scoring,...).fit(X,y)\n",
        "        OBP_train.iloc[:,-5:], OBP_train['OBP']).best_estimator_,\n",
        "    'Ridge': GridSearchCV(Ridge(), param_grid=ridge_params).fit(\n",
        "        OBP_train.iloc[:,-5:], OBP_train['OBP']).best_estimator_,}\n",
        "\n",
        "# GridSearchCV를 이용하여 dict에 Lasso, Ridge SLG 모델을 저장한다\n",
        "SLG_linear_models = {\n",
        "    'Lasso': GridSearchCV(Lasso(), param_grid=lasso_params).fit(\n",
        "        SLG_train.iloc[:,-5:], SLG_train['SLG']).best_estimator_,\n",
        "    'Ridge': GridSearchCV(Ridge(),param_grid=ridge_params).fit(\n",
        "        SLG_train.iloc[:,-5:], SLG_train['SLG']).best_estimator_,}"
      ],
      "execution_count": 10,
      "outputs": []
    },
    {
      "cell_type": "markdown",
      "metadata": {
        "id": "2B13x7Q5aBEZ"
      },
      "source": [
        "- 랜덤 포레스트\n",
        "    - n_estimators : 생성할 tree의 개수\n",
        "    - max_features : 최대 선택할 특성의 수\n",
        "        - max_features 값을 크게 하면 random forest의 tree들은 같은 특성을 고려하므로 tree들이 매우 비슷해지고 가장 두드러진 특성을 이용해 데이터에 잘 맞춰집니다.\n",
        "        - max_features를 낮추면 random forest tree들은 많이 달라지고 각 tree는 데이터에 맞추기 위해 tree의 깊이가 깊어집니다."
      ]
    },
    {
      "cell_type": "code",
      "metadata": {
        "colab": {
          "base_uri": "https://localhost:8080/"
        },
        "id": "uYVdldqjX8-j",
        "outputId": "cf5826c3-94d8-4836-b650-125c5f17d7e8"
      },
      "source": [
        "import time\n",
        "from sklearn.ensemble import RandomForestRegressor\n",
        "start = time.time() # 시작 시간\n",
        "\n",
        "# 랜덤 포레스트의 parameter 범위 정의\n",
        "RF_params = {\n",
        "    'n_estimators' : [50, 100, 150, 200, 300, 500, 1000],\n",
        "    'max_features' : ['auot', 'sqrt'],\n",
        "    'max_depth' : [1, 2, 3, 5, 6, 10],\n",
        "    'min_samples_leaf' : [1, 2, 4],\n",
        "    'min_samples_split' : [2, 3, 5, 10]\n",
        "}\n",
        "\n",
        "# GridSearchCV를 이용하여 dict에 OBP Randomforest 모델을 저장한다.\n",
        "OBP_RF_models = {\n",
        "    'RF': GridSearchCV(\n",
        "        RandomForestRegressor(random_state=42), param_grid=RF_params, n_jobs=-1\n",
        "        ).fit(OBP_train.iloc[:,-5:], OBP_train['OBP']).best_estimator_}\n",
        "\n",
        "# GridSearchCV를 이용하여 dict에 SLG Randomforest 모델을 저장한다.\n",
        "SLG_RF_models = {\n",
        "    'RF': GridSearchCV(\n",
        "        RandomForestRegressor(random_state=42), param_grid=RF_params, n_jobs=-1\n",
        "        ).fit(SLG_train.iloc[:,-5:], SLG_train['SLG']).best_estimator_}\n",
        "\n",
        "print(f\"걸린시간 : {np.round(time.time() - start,3)}초\") # 현재시간 – 시작시간(단위 초)"
      ],
      "execution_count": 14,
      "outputs": [
        {
          "output_type": "stream",
          "name": "stdout",
          "text": [
            "걸린시간 : 2736.49초\n"
          ]
        }
      ]
    },
    {
      "cell_type": "markdown",
      "metadata": {
        "id": "VzI4cm9FsbWh"
      },
      "source": [
        "- XGBoost(eXtra Gradient Boost)\n",
        "    - 트리 기반 모델\n",
        "    - 학습을 진행할 때 오분류된 데이터에 가중치를 부여해 성능을 높이고자 하는 모델"
      ]
    },
    {
      "cell_type": "code",
      "metadata": {
        "colab": {
          "base_uri": "https://localhost:8080/"
        },
        "id": "yneU6KBmgRRY",
        "outputId": "20af5142-0ed8-42af-8dda-55d8201a03b3"
      },
      "source": [
        "import xgboost as xgb\n",
        "start = time.time()\n",
        "\n",
        "# xgboost parmeter space를 정의\n",
        "XGB_params = {\n",
        "    'min_child_weight': [1,3, 5,10],\n",
        "    'gamma': [0.3,0.5, 1, 1.5, 2, 5],\n",
        "    'subsample': [0.6, 0.8, 1.0],\n",
        "    'colsample_bytree': [0.6, 0.8, 1.0],\n",
        "    'max_depth': [3, 4, 5,7,10]}\n",
        "\n",
        "# GridSearchCV를 통해 parameter를 탐색하게 정의\n",
        "XGB_OBP_gridsearch = GridSearchCV(xgb.XGBRegressor(random_state=42), param_grid=XGB_params, n_jobs=-1)\n",
        "XGB_SLG_gridsearch = GridSearchCV(xgb.XGBRegressor(random_state=42), param_grid=XGB_params, n_jobs=-1)\n",
        "\n",
        "# 모델 학습\n",
        "XGB_OBP_gridsearch.fit(OBP_train.iloc[:,-5:], OBP_train['OBP'])\n",
        "XGB_SLG_gridsearch.fit(SLG_train.iloc[:,-5:], SLG_train['SLG'])\n",
        "\n",
        "print(f\"걸린시간 : {np.round(time.time() - start,3)}초\") # 현재시간 – 시작시간(단위 초)"
      ],
      "execution_count": 18,
      "outputs": [
        {
          "output_type": "stream",
          "name": "stdout",
          "text": [
            "[16:42:48] WARNING: /workspace/src/objective/regression_obj.cu:152: reg:linear is now deprecated in favor of reg:squarederror.\n",
            "[16:47:51] WARNING: /workspace/src/objective/regression_obj.cu:152: reg:linear is now deprecated in favor of reg:squarederror.\n",
            "걸린시간 : 610.031초\n"
          ]
        }
      ]
    },
    {
      "cell_type": "markdown",
      "metadata": {
        "id": "t2RKU1mn0CPk"
      },
      "source": [
        "- 출루율(OBP) 예측 모델 성능 비교"
      ]
    },
    {
      "cell_type": "code",
      "metadata": {
        "colab": {
          "base_uri": "https://localhost:8080/",
          "height": 308
        },
        "id": "TrIQNZpOtugi",
        "outputId": "8ecf1bdb-3aee-4e3d-fcd2-23e8f8a7e4e9"
      },
      "source": [
        "# 테스트 데이터셋(2018년)의 선수들의 OBP를 예측\n",
        "Lasso_OBP = OBP_linear_models['Lasso'].predict(OBP_test.iloc[:,-5:])\n",
        "Ridge_OBP = OBP_linear_models['Ridge'].predict(OBP_test.iloc[:,-5:])\n",
        "RF_OBP = OBP_RF_models['RF'].predict(OBP_test.iloc[:,-5:])\n",
        "XGB_OBP = XGB_OBP_gridsearch.predict(OBP_test.iloc[:,-5:])\n",
        "\n",
        "# test 데이터의 WRMSE 계산\n",
        "wrmse_score = [wrmse(OBP_test['OBP'], OBP_test['AB'], Lasso_OBP),\n",
        "               wrmse(OBP_test['OBP'], OBP_test['AB'], Ridge_OBP),\n",
        "               wrmse(OBP_test['OBP'], OBP_test['AB'], RF_OBP),\n",
        "               wrmse(OBP_test['OBP'], OBP_test['AB'], XGB_OBP)]\n",
        "\n",
        "x_lab = ['Lasso', 'Ridge', 'RF', 'XGB']\n",
        "plt.bar(x_lab, wrmse_score)\n",
        "plt.title('WRMSE of OBP', fontsize=20)\n",
        "plt.xlabel('model', fontsize=18)\n",
        "plt.ylabel('', fontsize=18)\n",
        "plt.ylim(0, 0.5)\n",
        "\n",
        "for i,v in enumerate(wrmse_score):\n",
        "    plt.text(i-0.1, v+0.01, str(np.round(v,3))) # x 좌표, y 좌표, 텍스트\n",
        "\n",
        "plt.show()"
      ],
      "execution_count": 22,
      "outputs": [
        {
          "output_type": "display_data",
          "data": {
            "image/png": "[encoded data removed]",
            "text/plain": [
              "<Figure size 432x288 with 1 Axes>"
            ]
          },
          "metadata": {
            "needs_background": "light"
          }
        }
      ]
    },
    {
      "cell_type": "markdown",
      "metadata": {
        "id": "J-rZbQp627jC"
      },
      "source": [
        "- 장타율(SLG) 예측 모델 성능 비교"
      ]
    },
    {
      "cell_type": "code",
      "metadata": {
        "colab": {
          "base_uri": "https://localhost:8080/",
          "height": 308
        },
        "id": "3wp_ZJgm2dDz",
        "outputId": "eba72ce8-aa18-4a4d-b863-ec947d9a093d"
      },
      "source": [
        "# 테스트 데이터셋(2018년)의 선수들의 SLG를 예측\n",
        "Lasso_SLG = SLG_linear_models['Lasso'].predict(SLG_test.iloc[:,-5:])\n",
        "Ridge_SLG = SLG_linear_models['Ridge'].predict(SLG_test.iloc[:,-5:])\n",
        "RF_SLG = SLG_RF_models['RF'].predict(SLG_test.iloc[:,-5:])\n",
        "XGB_SLG = XGB_SLG_gridsearch.predict(SLG_test.iloc[:,-5:])\n",
        "\n",
        "# test데이터 WRMSE 계산\n",
        "wrmse_score_SLG = [wrmse(SLG_test['SLG'], SLG_test['AB'], Lasso_SLG),\n",
        "                   wrmse(SLG_test['SLG'], SLG_test['AB'], Ridge_SLG), \n",
        "                   wrmse(SLG_test['SLG'], SLG_test['AB'], RF_SLG),\n",
        "                   wrmse(SLG_test['SLG'], SLG_test['AB'], XGB_SLG)]\n",
        "\n",
        "x_lab = ['Lasso', 'Ridge', 'RF', 'XGB']\n",
        "\n",
        "plt.bar(x_lab, wrmse_score_SLG)\n",
        "plt.title('WRMSE of SLG', fontsize=20)\n",
        "plt.xlabel('model', fontsize=18)\n",
        "plt.ylabel('', fontsize=18)\n",
        "plt.ylim(0, 0.9)\n",
        "\n",
        "# 막대그래프 위에 값을 표시해준다.\n",
        "for i, v in enumerate(wrmse_score_SLG):\n",
        "    plt.text(i-0.1, v + 0.01, str(np.round(v,3))) # x 좌표, y 좌표, 텍스트를 표현한다.\n",
        "plt.show()"
      ],
      "execution_count": 23,
      "outputs": [
        {
          "output_type": "display_data",
          "data": {
            "image/png": "[encoded data removed]",
            "text/plain": [
              "<Figure size 432x288 with 1 Axes>"
            ]
          },
          "metadata": {
            "needs_background": "light"
          }
        }
      ]
    },
    {
      "cell_type": "markdown",
      "metadata": {
        "id": "YPtw5WSK3Evs"
      },
      "source": [
        "### 3.3 결과 해석과 평가"
      ]
    },
    {
      "cell_type": "markdown",
      "metadata": {
        "id": "14yfJb755C2T"
      },
      "source": [
        "- 랜덤 포레스트 모델에서의 변수 중요도"
      ]
    },
    {
      "cell_type": "code",
      "metadata": {
        "colab": {
          "base_uri": "https://localhost:8080/",
          "height": 295
        },
        "id": "95g2wT3h24qb",
        "outputId": "dc575b87-2698-45fe-b779-b7f1b5b9d793"
      },
      "source": [
        "plt.figure(figsize=(15,6))\n",
        "\n",
        "plt.subplot(1,2,1) # 1행 2열의 첫번째(1,1) 그래프\n",
        "plt.barh(OBP_train.iloc[:,-5:].columns, OBP_RF_models['RF'].feature_importances_)\n",
        "plt.title('Feature importance of RF in OBP')\n",
        "\n",
        "plt.subplot(1,2,2)\n",
        "plt.barh(SLG_train.iloc[:,-5:].columns,SLG_RF_models['RF'].feature_importances_)\n",
        "plt.title('Feature importance of RF in SLG')\n",
        "plt.show()"
      ],
      "execution_count": 25,
      "outputs": [
        {
          "output_type": "display_data",
          "data": {
            "image/png": "[encoded data removed]",
            "text/plain": [
              "<Figure size 1080x432 with 2 Axes>"
            ]
          },
          "metadata": {
            "needs_background": "light"
          }
        }
      ]
    },
    {
      "cell_type": "markdown",
      "metadata": {
        "id": "g9hGKlbf5Eea"
      },
      "source": [
        "- 라쏘와 릿지 회귀모델의 변수 중요도"
      ]
    },
    {
      "cell_type": "code",
      "metadata": {
        "colab": {
          "base_uri": "https://localhost:8080/",
          "height": 178
        },
        "id": "vaq76erN4k72",
        "outputId": "b772c3f5-182b-4ffa-c3ec-227fd110fd74"
      },
      "source": [
        "# Lasso에서 GridSearchCV로 탐색한 최적의 alpha값 출력\n",
        "print('Alpha: ', OBP_linear_models['Lasso'].alpha)\n",
        "# Lasso model의 선형 계수 값 출력\n",
        "display(pd.DataFrame(OBP_linear_models['Lasso'].coef_.reshape(-1,5),\n",
        "             columns=OBP_train.iloc[:,-5:].columns, index=['coefficient']))\n",
        "\n",
        "print('Alpha : ', SLG_linear_models['Lasso'].alpha)\n",
        "display(pd.DataFrame(SLG_linear_models['Lasso'].coef_.reshape(-1, 5),\n",
        "                     columns=SLG_train.iloc[:,-5:].columns, index = ['coefficient']))"
      ],
      "execution_count": 26,
      "outputs": [
        {
          "output_type": "stream",
          "name": "stdout",
          "text": [
            "Alpha:  0.0001\n"
          ]
        },
        {
          "output_type": "display_data",
          "data": {
            "text/html": [
              "<div>\n",
              "<style scoped>\n",
              "    .dataframe tbody tr th:only-of-type {\n",
              "        vertical-align: middle;\n",
              "    }\n",
              "\n",
              "    .dataframe tbody tr th {\n",
              "        vertical-align: top;\n",
              "    }\n",
              "\n",
              "    .dataframe thead th {\n",
              "        text-align: right;\n",
              "    }\n",
              "</style>\n",
              "<table border=\"1\" class=\"dataframe\">\n",
              "  <thead>\n",
              "    <tr style=\"text-align: right;\">\n",
              "      <th></th>\n",
              "      <th>age</th>\n",
              "      <th>lag1_OBP</th>\n",
              "      <th>lag2_OBP</th>\n",
              "      <th>lag3_OBP</th>\n",
              "      <th>mean_OBP</th>\n",
              "    </tr>\n",
              "  </thead>\n",
              "  <tbody>\n",
              "    <tr>\n",
              "      <th>coefficient</th>\n",
              "      <td>0.003195</td>\n",
              "      <td>0.018249</td>\n",
              "      <td>0.0</td>\n",
              "      <td>0.0</td>\n",
              "      <td>0.864913</td>\n",
              "    </tr>\n",
              "  </tbody>\n",
              "</table>\n",
              "</div>"
            ],
            "text/plain": [
              "                  age  lag1_OBP  lag2_OBP  lag3_OBP  mean_OBP\n",
              "coefficient  0.003195  0.018249       0.0       0.0  0.864913"
            ]
          },
          "metadata": {}
        },
        {
          "output_type": "stream",
          "name": "stdout",
          "text": [
            "Alpha :  0.0001\n"
          ]
        },
        {
          "output_type": "display_data",
          "data": {
            "text/html": [
              "<div>\n",
              "<style scoped>\n",
              "    .dataframe tbody tr th:only-of-type {\n",
              "        vertical-align: middle;\n",
              "    }\n",
              "\n",
              "    .dataframe tbody tr th {\n",
              "        vertical-align: top;\n",
              "    }\n",
              "\n",
              "    .dataframe thead th {\n",
              "        text-align: right;\n",
              "    }\n",
              "</style>\n",
              "<table border=\"1\" class=\"dataframe\">\n",
              "  <thead>\n",
              "    <tr style=\"text-align: right;\">\n",
              "      <th></th>\n",
              "      <th>age</th>\n",
              "      <th>lag1_SLG</th>\n",
              "      <th>lag2_SLG</th>\n",
              "      <th>lag3_SLG</th>\n",
              "      <th>mean_SLG</th>\n",
              "    </tr>\n",
              "  </thead>\n",
              "  <tbody>\n",
              "    <tr>\n",
              "      <th>coefficient</th>\n",
              "      <td>0.0049</td>\n",
              "      <td>0.081209</td>\n",
              "      <td>0.0</td>\n",
              "      <td>-0.0</td>\n",
              "      <td>0.836453</td>\n",
              "    </tr>\n",
              "  </tbody>\n",
              "</table>\n",
              "</div>"
            ],
            "text/plain": [
              "                age  lag1_SLG  lag2_SLG  lag3_SLG  mean_SLG\n",
              "coefficient  0.0049  0.081209       0.0      -0.0  0.836453"
            ]
          },
          "metadata": {}
        }
      ]
    },
    {
      "cell_type": "markdown",
      "metadata": {
        "id": "63EuSgou6Eiq"
      },
      "source": [
        "- 라쏘 학습과정 시각화"
      ]
    },
    {
      "cell_type": "code",
      "metadata": {
        "colab": {
          "base_uri": "https://localhost:8080/",
          "height": 282
        },
        "id": "RICUPLfQ5wS6",
        "outputId": "95778e86-343d-4b8e-a67c-371297ceb7e9"
      },
      "source": [
        "from sklearn.linear_model import lars_path\n",
        "plt.figure(figsize=(15,4.8)) # 그래프 크기 지정\n",
        "plt.subplot(1,2,1) # 1행 2열의 첫 번째(1행, 1열) 그래프\n",
        "\n",
        "# OBP 모델의 alpha 값의 변화에 따른 계수의 변화를 alpha, coefs에 저장한다.\n",
        "alpha, _, coefs = lars_path(OBP_train.iloc[:,-5:].values, OBP_train['OBP'],\n",
        "                            method='lasso', verbose=True)\n",
        "# 피처별 alpha 값에 따른 선형 모델 계수의 절댓값의 합 \n",
        "xx = np.sum(np.abs(coefs.T), axis=1)\n",
        "# 계수의 절댓값 중 가장 큰 값으로 alpha에 따른 피처의 계수의 합을 나눈다. \n",
        "xx /= xx[-1]\n",
        "\n",
        "plt.plot(xx, coefs.T) # coefs.T: 각 alpha에 대한 선형 모델 계수(6x5)\n",
        "plt.xlabel('|coef| / max|coef|')\n",
        "plt.ylabel('Coefficients')\n",
        "plt.title('OBP LASSO Path')\n",
        "plt.axis('tight')\n",
        "plt.legend(OBP_train.iloc[:,-5:].columns)\n",
        "\n",
        "plt.subplot(1,2,2) # 1행 2열의 두 번째(1행, 2열) 그래프\n",
        "# SLG 모델에서 alpha 값의 변화에 따른 계수의 변화를 alpha, coefs에 저장한다.\n",
        "alphas, _, coefs = lars_path(SLG_train.iloc[:,-5:].values, SLG_train['SLG'],\n",
        "                             method='lasso', verbose=True)\n",
        "xx = np.sum(np.abs(coefs.T), axis=1)\n",
        "xx /= xx[-1]\n",
        "\n",
        "plt.plot(xx, coefs.T)\n",
        "plt.xlabel('|coef| / max|coef|')\n",
        "plt.ylabel('Coefficients')\n",
        "plt.title('SLG LASSO Path')\n",
        "plt.axis('tight')\n",
        "plt.legend(OBP_train.iloc[:,-5:].columns)\n",
        "plt.show()\n",
        "\n",
        "# 왼쪽으로 갈수록 패널티 값이 커져 계수가 0으로 수렴\n",
        "# 0으로 늦게 수렴할수록 중요한 변수"
      ],
      "execution_count": 35,
      "outputs": [
        {
          "output_type": "stream",
          "name": "stdout",
          "text": [
            ".."
          ]
        },
        {
          "output_type": "display_data",
          "data": {
            "image/png": "[encoded data removed]",
            "text/plain": [
              "<Figure size 1080x345.6 with 2 Axes>"
            ]
          },
          "metadata": {
            "needs_background": "light"
          }
        }
      ]
    },
    {
      "cell_type": "markdown",
      "metadata": {
        "id": "3pU4k9249z8n"
      },
      "source": [
        "## 4. 성능 향상을 위한 방법"
      ]
    },
    {
      "cell_type": "markdown",
      "metadata": {
        "id": "LWveR03Z95nC"
      },
      "source": [
        "### 4.1 앙상블\n",
        "- 여러 모델의 결과를 종합해 사용하는 것\n",
        "- 여러 모델의 예측 결과를 더해 평균을 내면 하나의 모델을 사용하는 것보다 더 좋은 결과를 보일 때가 많다.\n",
        "- 보통 **서로 다른 알고리즘**이면서 **비슷한 성능**을 보이는 결과를 결합할 때 좋은 성능을 보인다."
      ]
    },
    {
      "cell_type": "code",
      "metadata": {
        "colab": {
          "base_uri": "https://localhost:8080/"
        },
        "id": "-8tEsTsm-Q1M",
        "outputId": "1970eeb8-2f60-4d47-fd00-af9cb3673121"
      },
      "source": [
        "# 성능이 가장 좋았던 Lasso와 선형회귀 모델이 아니면서 성능이 비슷했던 랜덤 포레스트를 이용하여 앙상블\n",
        "print('OBP model averaging: ', wrmse(OBP_test['OBP'], OBP_test['AB'], (Lasso_OBP+RF_OBP)/2))\n",
        "print('SLG model averaging: ', wrmse(SLG_test['SLG'], OBP_test['AB'], (Lasso_SLG + RF_SLG) / 2))"
      ],
      "execution_count": 41,
      "outputs": [
        {
          "output_type": "stream",
          "name": "stdout",
          "text": [
            "OBP model averaging:  0.332457465201058\n",
            "SLG model averaging:  0.6799104610118815\n"
          ]
        }
      ]
    },
    {
      "cell_type": "markdown",
      "metadata": {
        "id": "kHTcvVw4_ht-"
      },
      "source": [
        "### 4.2 단순화된 모델 생성\n",
        "- age, lag1_OBP, mean_OBP를 사용한 모형과 age, lag1_OBP, mean_OBP, lag1_BB, lag1_TB, lag1_RBI을 사용한 모형을 랜덤 포레스트 모델과 GridSearchCV를 사용하여 학습&예측\n",
        "- WRMSE 결과를 비교했을 때 단순모형이 0.002만큼 더 컸음 => 매우 미세한 차이\n",
        "- 두 모델이 비슷한 성능을 보이고 있다면 분석을 진행할 때 가능한 변수가 적은 모델을 선택해야 함.\n",
        "- 예측을 진행할 때 변수가 많을수록 과적합 이슈가 발생할 수 있기 때문"
      ]
    },
    {
      "cell_type": "markdown",
      "metadata": {
        "id": "SlO1ELz9BxxT"
      },
      "source": [
        "### 4.3 테스트 데이터 정제\n",
        "- test데이터를 2018년 데이터가 아닌 2019년 데이터로 변경하여 예측"
      ]
    },
    {
      "cell_type": "code",
      "metadata": {
        "id": "-lt2xD2eFZvD"
      },
      "source": [
        "regular_season_df = pd.read_csv(f'{f}/regular_season_df.csv')"
      ],
      "execution_count": 56,
      "outputs": []
    },
    {
      "cell_type": "code",
      "metadata": {
        "colab": {
          "base_uri": "https://localhost:8080/",
          "height": 202
        },
        "id": "oEsCzmc38TTb",
        "outputId": "39a2b541-4d9f-42d8-a6bd-3d7333519d35"
      },
      "source": [
        "submission = pd.read_csv(f'{f}/submission.csv')\n",
        "submission['year'] = 2019 # 연도 기입\n",
        "submission.head()"
      ],
      "execution_count": 57,
      "outputs": [
        {
          "output_type": "execute_result",
          "data": {
            "text/html": [
              "<div>\n",
              "<style scoped>\n",
              "    .dataframe tbody tr th:only-of-type {\n",
              "        vertical-align: middle;\n",
              "    }\n",
              "\n",
              "    .dataframe tbody tr th {\n",
              "        vertical-align: top;\n",
              "    }\n",
              "\n",
              "    .dataframe thead th {\n",
              "        text-align: right;\n",
              "    }\n",
              "</style>\n",
              "<table border=\"1\" class=\"dataframe\">\n",
              "  <thead>\n",
              "    <tr style=\"text-align: right;\">\n",
              "      <th></th>\n",
              "      <th>batter_id</th>\n",
              "      <th>batter_name</th>\n",
              "      <th>year</th>\n",
              "    </tr>\n",
              "  </thead>\n",
              "  <tbody>\n",
              "    <tr>\n",
              "      <th>0</th>\n",
              "      <td>1</td>\n",
              "      <td>강경학</td>\n",
              "      <td>2019</td>\n",
              "    </tr>\n",
              "    <tr>\n",
              "      <th>1</th>\n",
              "      <td>2</td>\n",
              "      <td>강구성</td>\n",
              "      <td>2019</td>\n",
              "    </tr>\n",
              "    <tr>\n",
              "      <th>2</th>\n",
              "      <td>3</td>\n",
              "      <td>강민국</td>\n",
              "      <td>2019</td>\n",
              "    </tr>\n",
              "    <tr>\n",
              "      <th>3</th>\n",
              "      <td>4</td>\n",
              "      <td>강민호</td>\n",
              "      <td>2019</td>\n",
              "    </tr>\n",
              "    <tr>\n",
              "      <th>4</th>\n",
              "      <td>5</td>\n",
              "      <td>강백호</td>\n",
              "      <td>2019</td>\n",
              "    </tr>\n",
              "  </tbody>\n",
              "</table>\n",
              "</div>"
            ],
            "text/plain": [
              "   batter_id batter_name  year\n",
              "0          1         강경학  2019\n",
              "1          2         강구성  2019\n",
              "2          3         강민국  2019\n",
              "3          4         강민호  2019\n",
              "4          5         강백호  2019"
            ]
          },
          "metadata": {},
          "execution_count": 57
        }
      ]
    },
    {
      "cell_type": "code",
      "metadata": {
        "colab": {
          "base_uri": "https://localhost:8080/",
          "height": 202
        },
        "id": "wTBMgUYyCeJR",
        "outputId": "2287cd4e-393c-40ef-ee25-df94ec526355"
      },
      "source": [
        "# 2019년의 Age(나이) 계산\n",
        "batter_year_born = regular_season_df[['batter_id', 'batter_name', 'year_born']].copy()\n",
        "# 중복선수 제거\n",
        "batter_year_born = batter_year_born.drop_duplicates().reset_index(drop=True)\n",
        "\n",
        "submission = submission.merge(batter_year_born, how='left', on=['batter_id', 'batter_name'])\n",
        "submission['age'] = submission['year']-submission['year_born'].apply(lambda x: int(x.split('년')[0]))\n",
        "submission.head()"
      ],
      "execution_count": 62,
      "outputs": [
        {
          "output_type": "execute_result",
          "data": {
            "text/html": [
              "<div>\n",
              "<style scoped>\n",
              "    .dataframe tbody tr th:only-of-type {\n",
              "        vertical-align: middle;\n",
              "    }\n",
              "\n",
              "    .dataframe tbody tr th {\n",
              "        vertical-align: top;\n",
              "    }\n",
              "\n",
              "    .dataframe thead th {\n",
              "        text-align: right;\n",
              "    }\n",
              "</style>\n",
              "<table border=\"1\" class=\"dataframe\">\n",
              "  <thead>\n",
              "    <tr style=\"text-align: right;\">\n",
              "      <th></th>\n",
              "      <th>batter_id</th>\n",
              "      <th>batter_name</th>\n",
              "      <th>year</th>\n",
              "      <th>year_born</th>\n",
              "      <th>age</th>\n",
              "    </tr>\n",
              "  </thead>\n",
              "  <tbody>\n",
              "    <tr>\n",
              "      <th>0</th>\n",
              "      <td>1</td>\n",
              "      <td>강경학</td>\n",
              "      <td>2019</td>\n",
              "      <td>1992년 08월 11일</td>\n",
              "      <td>27</td>\n",
              "    </tr>\n",
              "    <tr>\n",
              "      <th>1</th>\n",
              "      <td>2</td>\n",
              "      <td>강구성</td>\n",
              "      <td>2019</td>\n",
              "      <td>1993년 06월 09일</td>\n",
              "      <td>26</td>\n",
              "    </tr>\n",
              "    <tr>\n",
              "      <th>2</th>\n",
              "      <td>3</td>\n",
              "      <td>강민국</td>\n",
              "      <td>2019</td>\n",
              "      <td>1992년 01월 10일</td>\n",
              "      <td>27</td>\n",
              "    </tr>\n",
              "    <tr>\n",
              "      <th>3</th>\n",
              "      <td>4</td>\n",
              "      <td>강민호</td>\n",
              "      <td>2019</td>\n",
              "      <td>1985년 08월 18일</td>\n",
              "      <td>34</td>\n",
              "    </tr>\n",
              "    <tr>\n",
              "      <th>4</th>\n",
              "      <td>5</td>\n",
              "      <td>강백호</td>\n",
              "      <td>2019</td>\n",
              "      <td>1999년 07월 29일</td>\n",
              "      <td>20</td>\n",
              "    </tr>\n",
              "  </tbody>\n",
              "</table>\n",
              "</div>"
            ],
            "text/plain": [
              "   batter_id batter_name  year      year_born  age\n",
              "0          1         강경학  2019  1992년 08월 11일   27\n",
              "1          2         강구성  2019  1993년 06월 09일   26\n",
              "2          3         강민국  2019  1992년 01월 10일   27\n",
              "3          4         강민호  2019  1985년 08월 18일   34\n",
              "4          5         강백호  2019  1999년 07월 29일   20"
            ]
          },
          "metadata": {},
          "execution_count": 62
        }
      ]
    },
    {
      "cell_type": "code",
      "metadata": {
        "id": "_r_DFvzzG_mR"
      },
      "source": [
        "# submission OBP, SLG 파일 2개 만들어 합치기 \n",
        "submission_OBP = submission.copy()\n",
        "submission_SLG = submission.copy()"
      ],
      "execution_count": 63,
      "outputs": []
    },
    {
      "cell_type": "code",
      "metadata": {
        "colab": {
          "base_uri": "https://localhost:8080/",
          "height": 285
        },
        "id": "4X2hIvXmH12L",
        "outputId": "50106b8d-f135-4623-b3ca-722a891bf691"
      },
      "source": [
        "# 앞서 전처리한 데이터를 이용해 평균 성적 기입\n",
        "submission_OBP = submission_OBP.merge(\n",
        "    sum_hf_yr_OBP[['batter_name','mean_OBP']].drop_duplicates().reset_index(drop=True),\n",
        "    how = 'left', on ='batter_name')\n",
        "\n",
        "# 앞서 전처리한 데이터를 이용해 과거 성적 값 채우기\n",
        "for i in [1,2,3]:\n",
        "    temp_lag_df = sum_hf_yr_OBP.loc[\n",
        "        (sum_hf_yr_OBP['year'] == (2019 - i)) &\n",
        "        (sum_hf_yr_OBP['AB']>=30),['batter_name','OBP']].copy()\n",
        "    temp_lag_df.rename(columns={'OBP':'lag'+str(i)+'_OBP'}, inplace=True)\n",
        "    submission_OBP = submission_OBP.merge(temp_lag_df, how='left', on='batter_name')\n",
        "\n",
        "submission_OBP.head()"
      ],
      "execution_count": 65,
      "outputs": [
        {
          "output_type": "execute_result",
          "data": {
            "text/html": [
              "<div>\n",
              "<style scoped>\n",
              "    .dataframe tbody tr th:only-of-type {\n",
              "        vertical-align: middle;\n",
              "    }\n",
              "\n",
              "    .dataframe tbody tr th {\n",
              "        vertical-align: top;\n",
              "    }\n",
              "\n",
              "    .dataframe thead th {\n",
              "        text-align: right;\n",
              "    }\n",
              "</style>\n",
              "<table border=\"1\" class=\"dataframe\">\n",
              "  <thead>\n",
              "    <tr style=\"text-align: right;\">\n",
              "      <th></th>\n",
              "      <th>batter_id</th>\n",
              "      <th>batter_name</th>\n",
              "      <th>year</th>\n",
              "      <th>year_born</th>\n",
              "      <th>age</th>\n",
              "      <th>mean_OBP</th>\n",
              "      <th>lag1_OBP</th>\n",
              "      <th>lag2_OBP</th>\n",
              "      <th>lag3_OBP</th>\n",
              "    </tr>\n",
              "  </thead>\n",
              "  <tbody>\n",
              "    <tr>\n",
              "      <th>0</th>\n",
              "      <td>1</td>\n",
              "      <td>강경학</td>\n",
              "      <td>2019</td>\n",
              "      <td>1992년 08월 11일</td>\n",
              "      <td>27</td>\n",
              "      <td>0.337880</td>\n",
              "      <td>0.423611</td>\n",
              "      <td>0.285714</td>\n",
              "      <td>0.222222</td>\n",
              "    </tr>\n",
              "    <tr>\n",
              "      <th>1</th>\n",
              "      <td>2</td>\n",
              "      <td>강구성</td>\n",
              "      <td>2019</td>\n",
              "      <td>1993년 06월 09일</td>\n",
              "      <td>26</td>\n",
              "      <td>NaN</td>\n",
              "      <td>NaN</td>\n",
              "      <td>NaN</td>\n",
              "      <td>NaN</td>\n",
              "    </tr>\n",
              "    <tr>\n",
              "      <th>2</th>\n",
              "      <td>3</td>\n",
              "      <td>강민국</td>\n",
              "      <td>2019</td>\n",
              "      <td>1992년 01월 10일</td>\n",
              "      <td>27</td>\n",
              "      <td>NaN</td>\n",
              "      <td>NaN</td>\n",
              "      <td>NaN</td>\n",
              "      <td>NaN</td>\n",
              "    </tr>\n",
              "    <tr>\n",
              "      <th>3</th>\n",
              "      <td>4</td>\n",
              "      <td>강민호</td>\n",
              "      <td>2019</td>\n",
              "      <td>1985년 08월 18일</td>\n",
              "      <td>34</td>\n",
              "      <td>0.358187</td>\n",
              "      <td>0.328990</td>\n",
              "      <td>0.386076</td>\n",
              "      <td>0.441860</td>\n",
              "    </tr>\n",
              "    <tr>\n",
              "      <th>4</th>\n",
              "      <td>5</td>\n",
              "      <td>강백호</td>\n",
              "      <td>2019</td>\n",
              "      <td>1999년 07월 29일</td>\n",
              "      <td>20</td>\n",
              "      <td>0.356164</td>\n",
              "      <td>0.355685</td>\n",
              "      <td>NaN</td>\n",
              "      <td>NaN</td>\n",
              "    </tr>\n",
              "  </tbody>\n",
              "</table>\n",
              "</div>"
            ],
            "text/plain": [
              "   batter_id batter_name  year  ...  lag1_OBP  lag2_OBP  lag3_OBP\n",
              "0          1         강경학  2019  ...  0.423611  0.285714  0.222222\n",
              "1          2         강구성  2019  ...       NaN       NaN       NaN\n",
              "2          3         강민국  2019  ...       NaN       NaN       NaN\n",
              "3          4         강민호  2019  ...  0.328990  0.386076  0.441860\n",
              "4          5         강백호  2019  ...  0.355685       NaN       NaN\n",
              "\n",
              "[5 rows x 9 columns]"
            ]
          },
          "metadata": {},
          "execution_count": 65
        }
      ]
    },
    {
      "cell_type": "code",
      "metadata": {
        "id": "2VOCLkYJPx4Y"
      },
      "source": [
        "# 앞서 전처리한 데이터로 평균 SLG 값 기입\n",
        "submission_SLG = submission_SLG.merge(\n",
        "    sum_hf_yr_SLG[['batter_name','mean_SLG']].drop_duplicates().reset_index(drop=True),\n",
        "    how='left', on='batter_name')\n",
        "\n",
        "# 앞서 전처리한 데이터에서 과거 SLG 값 채우기\n",
        "for i in [1,2,3]:\n",
        "    temp_lag_df = sum_hf_yr_SLG.loc[(sum_hf_yr_SLG['year'] == (2019 - i)) &\n",
        "        (sum_hf_yr_SLG['AB']>=30),['batter_name','SLG']].copy()\n",
        "    \n",
        "    temp_lag_df.rename(columns={'SLG':'lag'+str(i)+'_SLG'}, inplace=True)\n",
        "    \n",
        "    submission_SLG = submission_SLG.merge(temp_lag_df, how='left', on='batter_name')"
      ],
      "execution_count": 80,
      "outputs": []
    },
    {
      "cell_type": "markdown",
      "metadata": {
        "id": "l2BOSr7kIg46"
      },
      "source": [
        "- 결측치 처리\n",
        "    - 앞에서는 결측치를 제거하고 모델링했지만 지금은 대회에 제출해야 할 선수의 데이터가 사라지기 때문에 삭제할 수 없음\n",
        "    - 따라서 평균 성적이 결측치인 선수들(4가지 케이스)에 대해 결측치를 처리 "
      ]
    },
    {
      "cell_type": "markdown",
      "metadata": {
        "id": "PgncfcudPjIv"
      },
      "source": [
        "- **OBP**"
      ]
    },
    {
      "cell_type": "code",
      "metadata": {
        "colab": {
          "base_uri": "https://localhost:8080/"
        },
        "id": "uwqa5xxTINmZ",
        "outputId": "a264a322-24e3-43c0-8175-ceb3ac89ac90"
      },
      "source": [
        "submission_OBP['batter_name'].loc[submission_OBP['mean_OBP'].isna()].values"
      ],
      "execution_count": 66,
      "outputs": [
        {
          "output_type": "execute_result",
          "data": {
            "text/plain": [
              "array(['강구성', '강민국', '강상원', '고명성', '김응민', '김종덕', '김주찬', '김철호', '김태연',\n",
              "       '김태진', '김형준', '나원탁', '남태혁', '박광열', '박기혁', '백민기', '샌즈', '신범수',\n",
              "       '신성현', '양종민', '윤정우', '이동훈', '이범호', '이병휘', '이성곤', '이인행', '이종욱',\n",
              "       '이진영', '이창진', '장승현', '장시윤', '전민재', '전병우', '정경운', '정성훈', '조홍석',\n",
              "       '최원제', '홍창기'], dtype=object)"
            ]
          },
          "metadata": {},
          "execution_count": 66
        }
      ]
    },
    {
      "cell_type": "markdown",
      "metadata": {
        "id": "UzIahaP2J8v4"
      },
      "source": [
        "- Case1 : 정규시즌 데이터에는 있으나 일별 데이터에는 기록이 없어 결측치가 생긴 선수들"
      ]
    },
    {
      "cell_type": "code",
      "metadata": {
        "id": "1sDGaVIRKdPB"
      },
      "source": [
        "for batter_name in [\"김주찬\", \"이범호\"]:\n",
        "     # 30타수 이상인 해당선수의 인덱스(Boolean)\n",
        "    cond_regular = (regular_season_df['AB'] >= 30) & \\\n",
        "                   (regular_season_df['batter_name'] == batter_name)\n",
        "    \n",
        "    # 타수를 고려해 평균 OBP 계산\n",
        "    mean_OBP = sum(regular_season_df.loc[cond_regular,'AB'] * \\\n",
        "                   regular_season_df.loc[cond_regular,'OBP']) / \\\n",
        "               sum(regular_season_df.loc[cond_regular,'AB'])\n",
        "    \n",
        "    submission_OBP.loc[(submission_OBP['batter_name'] == batter_name),'mean_OBP'] = \\\n",
        "        mean_OBP\n",
        "    \n",
        "    # regular_season_Batter으로부터 1, 2, 3년 전 성적 구하기\n",
        "    cond_sub = submission_OBP['batter_name'] == batter_name\n",
        "    submission_OBP.loc[cond_sub,'lag1_OBP'] = regular_season_df.loc[\n",
        "        (cond_regular) & (regular_season_df['year']==2018),'OBP'].values\n",
        "    submission_OBP.loc[cond_sub,'lag2_OBP'] = regular_season_df.loc[\n",
        "        (cond_regular) & (regular_season_df['year']==2017),'OBP'].values\n",
        "    submission_OBP.loc[cond_sub,'lag3_OBP'] = regular_season_df.loc[\n",
        "        (cond_regular) & (regular_season_df['year']==2016),'OBP'].values"
      ],
      "execution_count": 67,
      "outputs": []
    },
    {
      "cell_type": "markdown",
      "metadata": {
        "id": "uGbYs-HdKzI6"
      },
      "source": [
        "- Case2 : 1998년 혹은 1999년 출생의 신인급 선수들\n",
        "    - 나이가 어린 경우 이후 성적이 더 높아지는 경향이 있으므로 2018 시즌 성적으로 출루율의 평균 대체"
      ]
    },
    {
      "cell_type": "code",
      "metadata": {
        "id": "kSi7RGIhNZ80"
      },
      "source": [
        "season_OBP_mean = pd.read_csv(f'{f}/season_OBP_mean.csv')"
      ],
      "execution_count": 69,
      "outputs": []
    },
    {
      "cell_type": "code",
      "metadata": {
        "id": "9N0LM1ZZKwqZ"
      },
      "source": [
        "for i in np.where(submission_OBP['batter_name'].isin([\"고명성\",\"전민재\",\"김철호\",\"신범수\",\"이병휘\"])):\n",
        "    #submission_OBP.loc[i,'mean_OBP'] = season_OBP_mean.loc[season_OBP_mean['year']==2018,'mean_OBP'].values\n",
        "    submission_OBP.loc[i,'mean_OBP'] = season_OBP_mean.loc[season_OBP_mean['year']==2018,'mean_OBP']"
      ],
      "execution_count": 70,
      "outputs": []
    },
    {
      "cell_type": "markdown",
      "metadata": {
        "id": "A-Z6ZFT3NhGv"
      },
      "source": [
        "- Case3 : 2018년 하반기의 성적만 있는 경우"
      ]
    },
    {
      "cell_type": "code",
      "metadata": {
        "id": "9UUW1YCvLKGI"
      },
      "source": [
        "for batter_name in [\"전병우\",\"샌즈\"]:\n",
        "    # 30 타수 이상인 해당 선수의 index 추출\n",
        "    cond_regular = (regular_season_df['AB']>=30) & \\\n",
        "                   (regular_season_df['batter_name']==batter_name) \n",
        "\n",
        "# 타수를 고려해 선수의 평균 OBP계산\n",
        "mean_OBP = sum(regular_season_df.loc[cond_regular,'AB'] * \\\n",
        "               regular_season_df.loc[cond_regular,'OBP']) / \\\n",
        "           sum(regular_season_df.loc[cond_regular,'AB'])\n",
        "    \n",
        "submission_OBP.loc[(submission_OBP['batter_name'] == batter_name),'mean_OBP'] = mean_OBP\n",
        "\n",
        "cond_sub = submission_OBP['batter_name'] == batter_name\n",
        "\n",
        "# 2018년 데이터로부터 2019년의 1년 전 성적 기입\n",
        "submission_OBP.loc[cond_sub,'lag1_OBP'] = regular_season_df.loc[\n",
        "    (cond_regular)&(regular_season_df['year']==2018),'OBP'].values"
      ],
      "execution_count": 71,
      "outputs": []
    },
    {
      "cell_type": "markdown",
      "metadata": {
        "id": "Cp_GimYCNvyi"
      },
      "source": [
        "- Case4 : 은퇴를 했거나 1군 수준의 성적을 보여주지 못하는 선수들"
      ]
    },
    {
      "cell_type": "code",
      "metadata": {
        "id": "q-VVCzBdOFOs"
      },
      "source": [
        "player_OBP_mean = pd.read_csv(f'{f}/player_OBP_mean.csv')"
      ],
      "execution_count": 75,
      "outputs": []
    },
    {
      "cell_type": "code",
      "metadata": {
        "id": "oE8sDQMaNtYc"
      },
      "source": [
        "# 평균 성적이 결측치인 선수들에 대해 평균 OBP의 하위 25% 성적 기입\n",
        "submission_OBP.loc[submission_OBP['mean_OBP'].isna(),'mean_OBP'] = \\\n",
        "    np.quantile(player_OBP_mean['mean_OBP'],0.25)"
      ],
      "execution_count": 76,
      "outputs": []
    },
    {
      "cell_type": "code",
      "metadata": {
        "id": "iAE2qVFAN3pw"
      },
      "source": [
        "# 결측치 처리하는 함수 정의\n",
        "def lag_na_fill(data_set, var_name, past, season_var_mean_data):\n",
        "    # data_Set: 이용할 데이터셋\n",
        "    # var_name: 시간 변수를 만들 변수 이름\n",
        "    # past: 몇 년 전 변수를 만들지 결정\n",
        "    # season_var_name_mean_data season별로 var_name의 평균을 구한 데이터\n",
        "  \n",
        "    for i in range(0,len(data_set)):\n",
        "        if np.isnan(data_set[\"lag\"+str(past)+\"_\"+var_name][i]):\n",
        "            data_set.loc[i,[\"lag\"+str(past)+\"_\"+var_name]] = (\n",
        "                data_set[\"mean\" + \"_\" + var_name][i] + season_var_mean_data.loc[\n",
        "                    season_var_mean_data['year'] == (data_set['year'][i] - past),\n",
        "                    \"mean_\" + var_name].iloc[0]\n",
        "                ) / 2\n",
        "    return data_set"
      ],
      "execution_count": 77,
      "outputs": []
    },
    {
      "cell_type": "markdown",
      "metadata": {
        "id": "zwzRkY8IQSzC"
      },
      "source": [
        "- 1,2,3년 전 성적의 결측치 처리"
      ]
    },
    {
      "cell_type": "code",
      "metadata": {
        "colab": {
          "base_uri": "https://localhost:8080/",
          "height": 285
        },
        "id": "KhGKrXIHO4wa",
        "outputId": "f4cb0797-5d8f-4d93-e5ef-2d1fec3fdb18"
      },
      "source": [
        "for i in [1,2,3]: \n",
        "    # i년 전 OBP 결측치 제거\n",
        "    submission_OBP = lag_na_fill(submission_OBP, 'OBP', i, season_OBP_mean)\n",
        "submission_OBP.head()"
      ],
      "execution_count": 78,
      "outputs": [
        {
          "output_type": "execute_result",
          "data": {
            "text/html": [
              "<div>\n",
              "<style scoped>\n",
              "    .dataframe tbody tr th:only-of-type {\n",
              "        vertical-align: middle;\n",
              "    }\n",
              "\n",
              "    .dataframe tbody tr th {\n",
              "        vertical-align: top;\n",
              "    }\n",
              "\n",
              "    .dataframe thead th {\n",
              "        text-align: right;\n",
              "    }\n",
              "</style>\n",
              "<table border=\"1\" class=\"dataframe\">\n",
              "  <thead>\n",
              "    <tr style=\"text-align: right;\">\n",
              "      <th></th>\n",
              "      <th>batter_id</th>\n",
              "      <th>batter_name</th>\n",
              "      <th>year</th>\n",
              "      <th>year_born</th>\n",
              "      <th>age</th>\n",
              "      <th>mean_OBP</th>\n",
              "      <th>lag1_OBP</th>\n",
              "      <th>lag2_OBP</th>\n",
              "      <th>lag3_OBP</th>\n",
              "    </tr>\n",
              "  </thead>\n",
              "  <tbody>\n",
              "    <tr>\n",
              "      <th>0</th>\n",
              "      <td>1</td>\n",
              "      <td>강경학</td>\n",
              "      <td>2019</td>\n",
              "      <td>1992년 08월 11일</td>\n",
              "      <td>27</td>\n",
              "      <td>0.337880</td>\n",
              "      <td>0.423611</td>\n",
              "      <td>0.285714</td>\n",
              "      <td>0.222222</td>\n",
              "    </tr>\n",
              "    <tr>\n",
              "      <th>1</th>\n",
              "      <td>2</td>\n",
              "      <td>강구성</td>\n",
              "      <td>2019</td>\n",
              "      <td>1993년 06월 09일</td>\n",
              "      <td>26</td>\n",
              "      <td>0.304124</td>\n",
              "      <td>0.329991</td>\n",
              "      <td>0.330297</td>\n",
              "      <td>0.336224</td>\n",
              "    </tr>\n",
              "    <tr>\n",
              "      <th>2</th>\n",
              "      <td>3</td>\n",
              "      <td>강민국</td>\n",
              "      <td>2019</td>\n",
              "      <td>1992년 01월 10일</td>\n",
              "      <td>27</td>\n",
              "      <td>0.304124</td>\n",
              "      <td>0.329991</td>\n",
              "      <td>0.330297</td>\n",
              "      <td>0.336224</td>\n",
              "    </tr>\n",
              "    <tr>\n",
              "      <th>3</th>\n",
              "      <td>4</td>\n",
              "      <td>강민호</td>\n",
              "      <td>2019</td>\n",
              "      <td>1985년 08월 18일</td>\n",
              "      <td>34</td>\n",
              "      <td>0.358187</td>\n",
              "      <td>0.328990</td>\n",
              "      <td>0.386076</td>\n",
              "      <td>0.441860</td>\n",
              "    </tr>\n",
              "    <tr>\n",
              "      <th>4</th>\n",
              "      <td>5</td>\n",
              "      <td>강백호</td>\n",
              "      <td>2019</td>\n",
              "      <td>1999년 07월 29일</td>\n",
              "      <td>20</td>\n",
              "      <td>0.356164</td>\n",
              "      <td>0.355685</td>\n",
              "      <td>0.356317</td>\n",
              "      <td>0.362245</td>\n",
              "    </tr>\n",
              "  </tbody>\n",
              "</table>\n",
              "</div>"
            ],
            "text/plain": [
              "   batter_id batter_name  year  ...  lag1_OBP  lag2_OBP  lag3_OBP\n",
              "0          1         강경학  2019  ...  0.423611  0.285714  0.222222\n",
              "1          2         강구성  2019  ...  0.329991  0.330297  0.336224\n",
              "2          3         강민국  2019  ...  0.329991  0.330297  0.336224\n",
              "3          4         강민호  2019  ...  0.328990  0.386076  0.441860\n",
              "4          5         강백호  2019  ...  0.355685  0.356317  0.362245\n",
              "\n",
              "[5 rows x 9 columns]"
            ]
          },
          "metadata": {},
          "execution_count": 78
        }
      ]
    },
    {
      "cell_type": "markdown",
      "metadata": {
        "id": "X6_wY0tuPnZc"
      },
      "source": [
        "- **SLG**"
      ]
    },
    {
      "cell_type": "code",
      "metadata": {
        "colab": {
          "base_uri": "https://localhost:8080/"
        },
        "id": "ZtaikegHP002",
        "outputId": "c86fb39e-6af0-458b-f9bf-390f89e59f23"
      },
      "source": [
        "submission_SLG['batter_name'].loc[submission_SLG['mean_SLG'].isna()].values"
      ],
      "execution_count": 81,
      "outputs": [
        {
          "output_type": "execute_result",
          "data": {
            "text/plain": [
              "array(['강구성', '강민국', '강상원', '고명성', '김응민', '김종덕', '김주찬', '김철호', '김태연',\n",
              "       '김태진', '김형준', '나원탁', '남태혁', '박광열', '박기혁', '백민기', '샌즈', '신범수',\n",
              "       '신성현', '양종민', '윤정우', '이동훈', '이범호', '이병휘', '이성곤', '이인행', '이종욱',\n",
              "       '이진영', '이창진', '장승현', '장시윤', '전민재', '전병우', '정경운', '정성훈', '조홍석',\n",
              "       '최원제', '홍창기'], dtype=object)"
            ]
          },
          "metadata": {},
          "execution_count": 81
        }
      ]
    },
    {
      "cell_type": "markdown",
      "metadata": {
        "id": "5TEN9BLgPpRV"
      },
      "source": [
        "- Case1 : 정규시즌 데이터에는 있으나 일별 데이터에는 기록이 없어 결측치가 생긴 선수들"
      ]
    },
    {
      "cell_type": "code",
      "metadata": {
        "id": "AV31cLwePPKc"
      },
      "source": [
        "for batter_name in [\"김주찬\", \"이범호\"]:\n",
        "     # mean_SLG 계산\n",
        "    cond_regular = (regular_season_df['AB'] >= 30) & \\\n",
        "                   (regular_season_df['batter_name'] == batter_name)\n",
        "    \n",
        "    # 타수를 고려해 선수의 평균 SLG 계산\n",
        "    mean_SLG = sum(regular_season_df.loc[cond_regular,'AB'] * \\\n",
        "                   regular_season_df.loc[cond_regular,'SLG']) / \\\n",
        "               sum(regular_season_df.loc[cond_regular,'AB'])\n",
        "    \n",
        "    submission_SLG.loc[(submission_SLG['batter_name'] == batter_name), 'mean_SLG'] = \\\n",
        "        mean_SLG\n",
        "    \n",
        "    # regular_season_Batter으로부터 1, 2, 3년 전 성적 구하기\n",
        "    cond_sub = submission_SLG['batter_name'] == batter_name\n",
        "    \n",
        "    submission_SLG.loc[cond_sub,'lag1_SLG'] = regular_season_df.loc[\n",
        "        (cond_regular) & (regular_season_df['year'] == 2018),'SLG'].values\n",
        "    submission_SLG.loc[cond_sub,'lag2_SLG'] = regular_season_df.loc[\n",
        "        (cond_regular) & (regular_season_df['year'] == 2017),'SLG'].values\n",
        "    submission_SLG.loc[cond_sub,'lag3_SLG'] = regular_season_df.loc[\n",
        "        (cond_regular) & (regular_season_df['year'] == 2016),'SLG'].values"
      ],
      "execution_count": 82,
      "outputs": []
    },
    {
      "cell_type": "markdown",
      "metadata": {
        "id": "PpJXIPqrP5p8"
      },
      "source": [
        "- Case2 : 1998년 혹은 1999년 출생의 신인급 선수들\n",
        "    - 나이가 어린 경우 이후 성적이 더 높아지는 경향이 있으므로 2018 시즌 성적으로 출루율의 평균 대체"
      ]
    },
    {
      "cell_type": "code",
      "metadata": {
        "id": "DH7BS3M2P_6p"
      },
      "source": [
        "season_SLG_mean = pd.read_csv(f'{f}/season_SLG_mean.csv')"
      ],
      "execution_count": 84,
      "outputs": []
    },
    {
      "cell_type": "code",
      "metadata": {
        "id": "7v9ecyBXP3dX"
      },
      "source": [
        "for i in np.where(submission_SLG['batter_name'].isin(\n",
        "    [\"고명성\",\"전민재\",\"김철호\",\"신범수\",\"이병휘\"])):\n",
        "     # 위의 해당 선수들의 평균 SLG 평균값으로 대체\n",
        "    #submission_SLG.loc[i,'mean_SLG'] = season_SLG_mean.loc[season_SLG_mean['year']==2018,'mean_SLG'].values\n",
        "    submission_SLG.loc[i,'mean_SLG'] = \\\n",
        "        season_SLG_mean.loc[season_SLG_mean['year']==2018,'mean_SLG']"
      ],
      "execution_count": 85,
      "outputs": []
    },
    {
      "cell_type": "markdown",
      "metadata": {
        "id": "DR6WeSCsQEom"
      },
      "source": [
        "- Case3 : 2018년 하반기의 성적만 있는 경우"
      ]
    },
    {
      "cell_type": "code",
      "metadata": {
        "id": "5pbrfjDuP8n9"
      },
      "source": [
        "for batter_name in [\"전병우\",\"샌즈\"]:\n",
        "    \n",
        "    # 30타수 이상인 해당선수의 인덱스(Boolean) \n",
        "    cond_regular = (regular_season_df['AB']>=30)&\\\n",
        "(regular_season_df['batter_name']==batter_name)\n",
        "\n",
        "# 타수를 고려한 평균 SLG 계산\n",
        "mean_SLG = sum(regular_season_df.loc[cond_regular,'AB']*\n",
        "regular_season_df.loc[cond_regular,'SLG']) / sum(regular_season_df.loc[cond_regular,'AB'])\n",
        "\n",
        "# 해당 선수의 평균 SLG 값 기입\n",
        "submission_SLG.loc[(submission_SLG['batter_name'] == batter_name),\n",
        "'mean_SLG'] = mean_SLG\n",
        "\n",
        "# 해당 선수의 1년 전 SLG값 기입\n",
        "cond_sub = submission_SLG['batter_name'] == batter_name\n",
        "submission_SLG.loc[cond_sub,'lag1_SLG'] = regular_season_df.loc[(cond_regular)&\n",
        "(regular_season_df['year']==2018),'SLG'].values"
      ],
      "execution_count": 86,
      "outputs": []
    },
    {
      "cell_type": "markdown",
      "metadata": {
        "id": "DaQkOThHQI-6"
      },
      "source": [
        "- Case4 : 은퇴를 했거나 1군 수준의 성적을 보여주지 못하는 선수들"
      ]
    },
    {
      "cell_type": "code",
      "metadata": {
        "id": "0oWaZAooQG76"
      },
      "source": [
        "player_SLG_mean = pd.read_csv(f'{f}/player_SLG_mean.csv')"
      ],
      "execution_count": 87,
      "outputs": []
    },
    {
      "cell_type": "code",
      "metadata": {
        "id": "aKRv-30fQNcw"
      },
      "source": [
        "# 평균 성적이 결측치인 선수들에 대해 평균 SLG의 하위 25% 성적 기입\n",
        "submission_SLG.loc[submission_SLG['mean_SLG'].isna(),'mean_SLG'] = \\\n",
        "    np.quantile(player_SLG_mean['mean_SLG'],0.25)"
      ],
      "execution_count": 88,
      "outputs": []
    },
    {
      "cell_type": "markdown",
      "metadata": {
        "id": "NfK5o38BQWBu"
      },
      "source": [
        "- 1,2,3년 전 성적의 결측치 처리"
      ]
    },
    {
      "cell_type": "code",
      "metadata": {
        "colab": {
          "base_uri": "https://localhost:8080/",
          "height": 285
        },
        "id": "xxOU69lBQPST",
        "outputId": "19213690-31ea-416f-8e9b-577bd93d2619"
      },
      "source": [
        "for i in [1,2,3]:\n",
        "    # i년 전 SLG 성적 결측치 처리\n",
        "    submission_SLG = lag_na_fill(submission_SLG, 'SLG', i, season_SLG_mean)\n",
        "submission_SLG.head()"
      ],
      "execution_count": 89,
      "outputs": [
        {
          "output_type": "execute_result",
          "data": {
            "text/html": [
              "<div>\n",
              "<style scoped>\n",
              "    .dataframe tbody tr th:only-of-type {\n",
              "        vertical-align: middle;\n",
              "    }\n",
              "\n",
              "    .dataframe tbody tr th {\n",
              "        vertical-align: top;\n",
              "    }\n",
              "\n",
              "    .dataframe thead th {\n",
              "        text-align: right;\n",
              "    }\n",
              "</style>\n",
              "<table border=\"1\" class=\"dataframe\">\n",
              "  <thead>\n",
              "    <tr style=\"text-align: right;\">\n",
              "      <th></th>\n",
              "      <th>batter_id</th>\n",
              "      <th>batter_name</th>\n",
              "      <th>year</th>\n",
              "      <th>year_born</th>\n",
              "      <th>age</th>\n",
              "      <th>mean_SLG</th>\n",
              "      <th>lag1_SLG</th>\n",
              "      <th>lag2_SLG</th>\n",
              "      <th>lag3_SLG</th>\n",
              "    </tr>\n",
              "  </thead>\n",
              "  <tbody>\n",
              "    <tr>\n",
              "      <th>0</th>\n",
              "      <td>1</td>\n",
              "      <td>강경학</td>\n",
              "      <td>2019</td>\n",
              "      <td>1992년 08월 11일</td>\n",
              "      <td>27</td>\n",
              "      <td>0.332527</td>\n",
              "      <td>0.523810</td>\n",
              "      <td>0.256098</td>\n",
              "      <td>0.222222</td>\n",
              "    </tr>\n",
              "    <tr>\n",
              "      <th>1</th>\n",
              "      <td>2</td>\n",
              "      <td>강구성</td>\n",
              "      <td>2019</td>\n",
              "      <td>1993년 06월 09일</td>\n",
              "      <td>26</td>\n",
              "      <td>0.326923</td>\n",
              "      <td>0.391429</td>\n",
              "      <td>0.385754</td>\n",
              "      <td>0.385397</td>\n",
              "    </tr>\n",
              "    <tr>\n",
              "      <th>2</th>\n",
              "      <td>3</td>\n",
              "      <td>강민국</td>\n",
              "      <td>2019</td>\n",
              "      <td>1992년 01월 10일</td>\n",
              "      <td>27</td>\n",
              "      <td>0.326923</td>\n",
              "      <td>0.391429</td>\n",
              "      <td>0.385754</td>\n",
              "      <td>0.385397</td>\n",
              "    </tr>\n",
              "    <tr>\n",
              "      <th>3</th>\n",
              "      <td>4</td>\n",
              "      <td>강민호</td>\n",
              "      <td>2019</td>\n",
              "      <td>1985년 08월 18일</td>\n",
              "      <td>34</td>\n",
              "      <td>0.466540</td>\n",
              "      <td>0.487273</td>\n",
              "      <td>0.548736</td>\n",
              "      <td>0.577689</td>\n",
              "    </tr>\n",
              "    <tr>\n",
              "      <th>4</th>\n",
              "      <td>5</td>\n",
              "      <td>강백호</td>\n",
              "      <td>2019</td>\n",
              "      <td>1999년 07월 29일</td>\n",
              "      <td>20</td>\n",
              "      <td>0.523719</td>\n",
              "      <td>0.532051</td>\n",
              "      <td>0.484152</td>\n",
              "      <td>0.483795</td>\n",
              "    </tr>\n",
              "  </tbody>\n",
              "</table>\n",
              "</div>"
            ],
            "text/plain": [
              "   batter_id batter_name  year  ...  lag1_SLG  lag2_SLG  lag3_SLG\n",
              "0          1         강경학  2019  ...  0.523810  0.256098  0.222222\n",
              "1          2         강구성  2019  ...  0.391429  0.385754  0.385397\n",
              "2          3         강민국  2019  ...  0.391429  0.385754  0.385397\n",
              "3          4         강민호  2019  ...  0.487273  0.548736  0.577689\n",
              "4          5         강백호  2019  ...  0.532051  0.484152  0.483795\n",
              "\n",
              "[5 rows x 9 columns]"
            ]
          },
          "metadata": {},
          "execution_count": 89
        }
      ]
    },
    {
      "cell_type": "markdown",
      "metadata": {
        "id": "LW2zy7rcQs-T"
      },
      "source": [
        "- 2019년 KBO 상반기 타자 OPS 예측 결과 도출"
      ]
    },
    {
      "cell_type": "code",
      "metadata": {
        "id": "yzhQ3dFMQaAu"
      },
      "source": [
        "# 가장 성능이 좋았던 모델 사용(나의 경우 둘 다 Lasso였지만 책의 내용 대로 실행)\n",
        "# Random Forests를 이용해 OBP 예측\n",
        "predict_OBP = OBP_RF_models['RF'].predict(submission_OBP.iloc[:,-5:]) \n",
        "# Lasso를 이용해 SLG 예측\n",
        "predict_SLG = SLG_linear_models ['Lasso'].predict(submission_SLG.iloc[:,-5:])"
      ],
      "execution_count": 91,
      "outputs": []
    },
    {
      "cell_type": "code",
      "metadata": {
        "colab": {
          "base_uri": "https://localhost:8080/",
          "height": 355
        },
        "id": "EEM33txiQiMa",
        "outputId": "0f9d4070-2c2e-4b5b-b530-02f55caa90ea"
      },
      "source": [
        "final_submission = submission[['batter_id','batter_name']]\n",
        "final_submission['OPS'] = predict_SLG + predict_OBP # OBP + SLG = OPS \n",
        "final_submission.head(10) # 최종 데이터 셋"
      ],
      "execution_count": 92,
      "outputs": [
        {
          "output_type": "execute_result",
          "data": {
            "text/html": [
              "<div>\n",
              "<style scoped>\n",
              "    .dataframe tbody tr th:only-of-type {\n",
              "        vertical-align: middle;\n",
              "    }\n",
              "\n",
              "    .dataframe tbody tr th {\n",
              "        vertical-align: top;\n",
              "    }\n",
              "\n",
              "    .dataframe thead th {\n",
              "        text-align: right;\n",
              "    }\n",
              "</style>\n",
              "<table border=\"1\" class=\"dataframe\">\n",
              "  <thead>\n",
              "    <tr style=\"text-align: right;\">\n",
              "      <th></th>\n",
              "      <th>batter_id</th>\n",
              "      <th>batter_name</th>\n",
              "      <th>OPS</th>\n",
              "    </tr>\n",
              "  </thead>\n",
              "  <tbody>\n",
              "    <tr>\n",
              "      <th>0</th>\n",
              "      <td>1</td>\n",
              "      <td>강경학</td>\n",
              "      <td>0.503957</td>\n",
              "    </tr>\n",
              "    <tr>\n",
              "      <th>1</th>\n",
              "      <td>2</td>\n",
              "      <td>강구성</td>\n",
              "      <td>0.687933</td>\n",
              "    </tr>\n",
              "    <tr>\n",
              "      <th>2</th>\n",
              "      <td>3</td>\n",
              "      <td>강민국</td>\n",
              "      <td>0.696609</td>\n",
              "    </tr>\n",
              "    <tr>\n",
              "      <th>3</th>\n",
              "      <td>4</td>\n",
              "      <td>강민호</td>\n",
              "      <td>0.958395</td>\n",
              "    </tr>\n",
              "    <tr>\n",
              "      <th>4</th>\n",
              "      <td>5</td>\n",
              "      <td>강백호</td>\n",
              "      <td>0.751592</td>\n",
              "    </tr>\n",
              "    <tr>\n",
              "      <th>5</th>\n",
              "      <td>8</td>\n",
              "      <td>강상원</td>\n",
              "      <td>0.661807</td>\n",
              "    </tr>\n",
              "    <tr>\n",
              "      <th>6</th>\n",
              "      <td>9</td>\n",
              "      <td>강승호</td>\n",
              "      <td>0.505642</td>\n",
              "    </tr>\n",
              "    <tr>\n",
              "      <th>7</th>\n",
              "      <td>11</td>\n",
              "      <td>강진성</td>\n",
              "      <td>0.656007</td>\n",
              "    </tr>\n",
              "    <tr>\n",
              "      <th>8</th>\n",
              "      <td>12</td>\n",
              "      <td>강한울</td>\n",
              "      <td>0.672859</td>\n",
              "    </tr>\n",
              "    <tr>\n",
              "      <th>9</th>\n",
              "      <td>16</td>\n",
              "      <td>고명성</td>\n",
              "      <td>0.640507</td>\n",
              "    </tr>\n",
              "  </tbody>\n",
              "</table>\n",
              "</div>"
            ],
            "text/plain": [
              "   batter_id batter_name       OPS\n",
              "0          1         강경학  0.503957\n",
              "1          2         강구성  0.687933\n",
              "2          3         강민국  0.696609\n",
              "3          4         강민호  0.958395\n",
              "4          5         강백호  0.751592\n",
              "5          8         강상원  0.661807\n",
              "6          9         강승호  0.505642\n",
              "7         11         강진성  0.656007\n",
              "8         12         강한울  0.672859\n",
              "9         16         고명성  0.640507"
            ]
          },
          "metadata": {},
          "execution_count": 92
        }
      ]
    },
    {
      "cell_type": "markdown",
      "metadata": {
        "id": "a5ae5xqvQ_8G"
      },
      "source": [
        "### 4.4 반발계수의 변화\n",
        "- 2019년이라는 시즌의 특징을 반영하여 KBO 타자의 성적을 더 정확히 예측\n",
        "- 2019년 시즌에는 공인구의 반발계수의 변화가 있음\n",
        "- 반발계수란 물체가 충돌했을 때 충돌 전후 속도의 비\n",
        "- 동일한 힘으로 공을 쳤을 때, 공이 이전 공(반발계수를 낮추기 전의 공)보다 더 조금 날아간다.\n",
        "- 따라서 선수의 역량이 같더라도 어느 정도의 성적 하락 현상이 발생할 수 있다.\n",
        "- 공인구 반발계수를 똑같이 조정한 적이 있는 일본에서는 홈런이 이전 시즌보다 약 절반으로 줄었다."
      ]
    },
    {
      "cell_type": "code",
      "metadata": {
        "colab": {
          "base_uri": "https://localhost:8080/",
          "height": 202
        },
        "id": "qZHT6asfQ65E",
        "outputId": "6881b494-09e6-4e5a-dcbb-3a9bf0705b69"
      },
      "source": [
        "# 시즌별 전체 OBP 계산(30타수 이상인 선수들의 기록만 이용)\n",
        "season_OBP = \\\n",
        "    regular_season_df.loc[regular_season_df['AB'] >= 30].groupby('year').agg(\n",
        "        {'AB':'sum', 'H':'sum', 'BB':'sum', 'HBP':'sum', 'SF':'sum'}).reset_index()\n",
        "\n",
        "season_OBP['OBP'] = season_OBP[['H','BB','HBP']].sum(axis=1) / \\\n",
        "                    season_OBP[['AB','BB','HBP','SF']].sum(axis=1)\n",
        "\n",
        "# 시즌별 전체 SLG 계산(30타수 이상인 선수들의 기록만 이용)\n",
        "season_SLG = \\\n",
        "    regular_season_df.loc[regular_season_df['AB']>=30].groupby('year').agg(\n",
        "        {'AB':'sum', 'H':'sum', '2B':'sum', '3B':'sum', 'HR':'sum'}).reset_index()\n",
        "\n",
        "season_SLG['SLG'] = ((season_SLG['H'] - season_SLG[['2B','3B','HR']].sum(axis=1)) + \\\n",
        "                     season_SLG['2B']*2+season_SLG['3B']*3+ season_SLG['HR']*4) / \\\n",
        "                    season_SLG['AB']\n",
        "\n",
        "# season_OBP와 season_SLG를 병합 후 season_OPS를 생성해 OPS 계산\n",
        "season_OPS = pd.merge(season_OBP[['year','OBP']],season_SLG[['year', 'SLG']], on = 'year')\n",
        "season_OPS['OPS'] = season_OPS['OBP'] + season_OPS['SLG']\n",
        "\n",
        "# 시즌별 전체 홈런 수와 한 선수당 평균 홈런 수 계산\n",
        "season_HR = regular_season_df.loc[regular_season_df['AB']>=30].groupby('year').agg(\n",
        "    {'HR':['sum','mean','count']}).reset_index()\n",
        "season_HR.columns = ['year', 'sum_HR', 'mean_HR', 'count']\n",
        "\n",
        "# 기존의 OPS 데이터셋과 병합\n",
        "season_OPS = season_OPS.merge(season_HR,on ='year' ,how='left')\n",
        "display(season_OPS.tail())"
      ],
      "execution_count": 94,
      "outputs": [
        {
          "output_type": "display_data",
          "data": {
            "text/html": [
              "<div>\n",
              "<style scoped>\n",
              "    .dataframe tbody tr th:only-of-type {\n",
              "        vertical-align: middle;\n",
              "    }\n",
              "\n",
              "    .dataframe tbody tr th {\n",
              "        vertical-align: top;\n",
              "    }\n",
              "\n",
              "    .dataframe thead th {\n",
              "        text-align: right;\n",
              "    }\n",
              "</style>\n",
              "<table border=\"1\" class=\"dataframe\">\n",
              "  <thead>\n",
              "    <tr style=\"text-align: right;\">\n",
              "      <th></th>\n",
              "      <th>year</th>\n",
              "      <th>OBP</th>\n",
              "      <th>SLG</th>\n",
              "      <th>OPS</th>\n",
              "      <th>sum_HR</th>\n",
              "      <th>mean_HR</th>\n",
              "      <th>count</th>\n",
              "    </tr>\n",
              "  </thead>\n",
              "  <tbody>\n",
              "    <tr>\n",
              "      <th>21</th>\n",
              "      <td>2014</td>\n",
              "      <td>0.368970</td>\n",
              "      <td>0.446302</td>\n",
              "      <td>0.815272</td>\n",
              "      <td>1013</td>\n",
              "      <td>7.235714</td>\n",
              "      <td>140</td>\n",
              "    </tr>\n",
              "    <tr>\n",
              "      <th>22</th>\n",
              "      <td>2015</td>\n",
              "      <td>0.362742</td>\n",
              "      <td>0.434129</td>\n",
              "      <td>0.796871</td>\n",
              "      <td>1222</td>\n",
              "      <td>7.685535</td>\n",
              "      <td>159</td>\n",
              "    </tr>\n",
              "    <tr>\n",
              "      <th>23</th>\n",
              "      <td>2016</td>\n",
              "      <td>0.368325</td>\n",
              "      <td>0.443871</td>\n",
              "      <td>0.812196</td>\n",
              "      <td>1267</td>\n",
              "      <td>7.918750</td>\n",
              "      <td>160</td>\n",
              "    </tr>\n",
              "    <tr>\n",
              "      <th>24</th>\n",
              "      <td>2017</td>\n",
              "      <td>0.356469</td>\n",
              "      <td>0.444584</td>\n",
              "      <td>0.801053</td>\n",
              "      <td>1450</td>\n",
              "      <td>8.285714</td>\n",
              "      <td>175</td>\n",
              "    </tr>\n",
              "    <tr>\n",
              "      <th>25</th>\n",
              "      <td>2018</td>\n",
              "      <td>0.355858</td>\n",
              "      <td>0.455936</td>\n",
              "      <td>0.811794</td>\n",
              "      <td>1726</td>\n",
              "      <td>9.806818</td>\n",
              "      <td>176</td>\n",
              "    </tr>\n",
              "  </tbody>\n",
              "</table>\n",
              "</div>"
            ],
            "text/plain": [
              "    year       OBP       SLG       OPS  sum_HR   mean_HR  count\n",
              "21  2014  0.368970  0.446302  0.815272    1013  7.235714    140\n",
              "22  2015  0.362742  0.434129  0.796871    1222  7.685535    159\n",
              "23  2016  0.368325  0.443871  0.812196    1267  7.918750    160\n",
              "24  2017  0.356469  0.444584  0.801053    1450  8.285714    175\n",
              "25  2018  0.355858  0.455936  0.811794    1726  9.806818    176"
            ]
          },
          "metadata": {}
        }
      ]
    },
    {
      "cell_type": "code",
      "metadata": {
        "colab": {
          "base_uri": "https://localhost:8080/",
          "height": 417
        },
        "id": "X_LbeBWLS-fK",
        "outputId": "68fc554e-ad18-441d-9055-4a1985c06e23"
      },
      "source": [
        "#2018년의 평균 홈런 개수를 시즌별 평균 홈런 수에서 뺀다(HR_diff)\n",
        "season_OPS['HR_diff'] = season_OPS['mean_HR'] - season_OPS['mean_HR'].iloc[-1]\n",
        "difference = season_OPS.sort_values(by = 'HR_diff')[['year','OPS','HR_diff']]\n",
        "display(difference.reset_index(drop=True).head(12))"
      ],
      "execution_count": 99,
      "outputs": [
        {
          "output_type": "display_data",
          "data": {
            "text/html": [
              "<div>\n",
              "<style scoped>\n",
              "    .dataframe tbody tr th:only-of-type {\n",
              "        vertical-align: middle;\n",
              "    }\n",
              "\n",
              "    .dataframe tbody tr th {\n",
              "        vertical-align: top;\n",
              "    }\n",
              "\n",
              "    .dataframe thead th {\n",
              "        text-align: right;\n",
              "    }\n",
              "</style>\n",
              "<table border=\"1\" class=\"dataframe\">\n",
              "  <thead>\n",
              "    <tr style=\"text-align: right;\">\n",
              "      <th></th>\n",
              "      <th>year</th>\n",
              "      <th>OPS</th>\n",
              "      <th>HR_diff</th>\n",
              "    </tr>\n",
              "  </thead>\n",
              "  <tbody>\n",
              "    <tr>\n",
              "      <th>0</th>\n",
              "      <td>2012</td>\n",
              "      <td>0.703301</td>\n",
              "      <td>-5.799242</td>\n",
              "    </tr>\n",
              "    <tr>\n",
              "      <th>1</th>\n",
              "      <td>2013</td>\n",
              "      <td>0.748820</td>\n",
              "      <td>-4.891325</td>\n",
              "    </tr>\n",
              "    <tr>\n",
              "      <th>2</th>\n",
              "      <td>2006</td>\n",
              "      <td>0.709301</td>\n",
              "      <td>-4.806818</td>\n",
              "    </tr>\n",
              "    <tr>\n",
              "      <th>3</th>\n",
              "      <td>2008</td>\n",
              "      <td>0.741542</td>\n",
              "      <td>-4.671987</td>\n",
              "    </tr>\n",
              "    <tr>\n",
              "      <th>4</th>\n",
              "      <td>2011</td>\n",
              "      <td>0.735087</td>\n",
              "      <td>-4.564883</td>\n",
              "    </tr>\n",
              "    <tr>\n",
              "      <th>5</th>\n",
              "      <td>2007</td>\n",
              "      <td>0.730715</td>\n",
              "      <td>-4.451555</td>\n",
              "    </tr>\n",
              "    <tr>\n",
              "      <th>6</th>\n",
              "      <td>2005</td>\n",
              "      <td>0.740615</td>\n",
              "      <td>-3.543660</td>\n",
              "    </tr>\n",
              "    <tr>\n",
              "      <th>7</th>\n",
              "      <td>2010</td>\n",
              "      <td>0.770265</td>\n",
              "      <td>-2.623332</td>\n",
              "    </tr>\n",
              "    <tr>\n",
              "      <th>8</th>\n",
              "      <td>2014</td>\n",
              "      <td>0.815272</td>\n",
              "      <td>-2.571104</td>\n",
              "    </tr>\n",
              "    <tr>\n",
              "      <th>9</th>\n",
              "      <td>2004</td>\n",
              "      <td>0.751737</td>\n",
              "      <td>-2.500696</td>\n",
              "    </tr>\n",
              "    <tr>\n",
              "      <th>10</th>\n",
              "      <td>2001</td>\n",
              "      <td>0.821178</td>\n",
              "      <td>-2.152972</td>\n",
              "    </tr>\n",
              "    <tr>\n",
              "      <th>11</th>\n",
              "      <td>2015</td>\n",
              "      <td>0.796871</td>\n",
              "      <td>-2.121284</td>\n",
              "    </tr>\n",
              "  </tbody>\n",
              "</table>\n",
              "</div>"
            ],
            "text/plain": [
              "    year       OPS   HR_diff\n",
              "0   2012  0.703301 -5.799242\n",
              "1   2013  0.748820 -4.891325\n",
              "2   2006  0.709301 -4.806818\n",
              "3   2008  0.741542 -4.671987\n",
              "4   2011  0.735087 -4.564883\n",
              "5   2007  0.730715 -4.451555\n",
              "6   2005  0.740615 -3.543660\n",
              "7   2010  0.770265 -2.623332\n",
              "8   2014  0.815272 -2.571104\n",
              "9   2004  0.751737 -2.500696\n",
              "10  2001  0.821178 -2.152972\n",
              "11  2015  0.796871 -2.121284"
            ]
          },
          "metadata": {}
        }
      ]
    },
    {
      "cell_type": "code",
      "metadata": {
        "colab": {
          "base_uri": "https://localhost:8080/",
          "height": 600
        },
        "id": "nIX364aaTXQQ",
        "outputId": "9d1ebabe-0d81-4c66-cb16-f3c67cfc627a"
      },
      "source": [
        "# 2000년도 이전의 데이터 수가 충분치 않아 고려하지 않는다.\n",
        "season_OPS.loc[season_OPS['year']>2000]"
      ],
      "execution_count": 100,
      "outputs": [
        {
          "output_type": "execute_result",
          "data": {
            "text/html": [
              "<div>\n",
              "<style scoped>\n",
              "    .dataframe tbody tr th:only-of-type {\n",
              "        vertical-align: middle;\n",
              "    }\n",
              "\n",
              "    .dataframe tbody tr th {\n",
              "        vertical-align: top;\n",
              "    }\n",
              "\n",
              "    .dataframe thead th {\n",
              "        text-align: right;\n",
              "    }\n",
              "</style>\n",
              "<table border=\"1\" class=\"dataframe\">\n",
              "  <thead>\n",
              "    <tr style=\"text-align: right;\">\n",
              "      <th></th>\n",
              "      <th>year</th>\n",
              "      <th>OBP</th>\n",
              "      <th>SLG</th>\n",
              "      <th>OPS</th>\n",
              "      <th>sum_HR</th>\n",
              "      <th>mean_HR</th>\n",
              "      <th>count</th>\n",
              "      <th>HR_diff</th>\n",
              "    </tr>\n",
              "  </thead>\n",
              "  <tbody>\n",
              "    <tr>\n",
              "      <th>8</th>\n",
              "      <td>2001</td>\n",
              "      <td>0.366585</td>\n",
              "      <td>0.454593</td>\n",
              "      <td>0.821178</td>\n",
              "      <td>199</td>\n",
              "      <td>7.653846</td>\n",
              "      <td>26</td>\n",
              "      <td>-2.152972</td>\n",
              "    </tr>\n",
              "    <tr>\n",
              "      <th>9</th>\n",
              "      <td>2002</td>\n",
              "      <td>0.343798</td>\n",
              "      <td>0.424739</td>\n",
              "      <td>0.768536</td>\n",
              "      <td>274</td>\n",
              "      <td>8.838710</td>\n",
              "      <td>31</td>\n",
              "      <td>-0.968109</td>\n",
              "    </tr>\n",
              "    <tr>\n",
              "      <th>10</th>\n",
              "      <td>2003</td>\n",
              "      <td>0.353936</td>\n",
              "      <td>0.427291</td>\n",
              "      <td>0.781227</td>\n",
              "      <td>301</td>\n",
              "      <td>7.717949</td>\n",
              "      <td>39</td>\n",
              "      <td>-2.088869</td>\n",
              "    </tr>\n",
              "    <tr>\n",
              "      <th>11</th>\n",
              "      <td>2004</td>\n",
              "      <td>0.344181</td>\n",
              "      <td>0.407556</td>\n",
              "      <td>0.751737</td>\n",
              "      <td>358</td>\n",
              "      <td>7.306122</td>\n",
              "      <td>49</td>\n",
              "      <td>-2.500696</td>\n",
              "    </tr>\n",
              "    <tr>\n",
              "      <th>12</th>\n",
              "      <td>2005</td>\n",
              "      <td>0.344851</td>\n",
              "      <td>0.395764</td>\n",
              "      <td>0.740615</td>\n",
              "      <td>357</td>\n",
              "      <td>6.263158</td>\n",
              "      <td>57</td>\n",
              "      <td>-3.543660</td>\n",
              "    </tr>\n",
              "    <tr>\n",
              "      <th>13</th>\n",
              "      <td>2006</td>\n",
              "      <td>0.334390</td>\n",
              "      <td>0.374912</td>\n",
              "      <td>0.709301</td>\n",
              "      <td>345</td>\n",
              "      <td>5.000000</td>\n",
              "      <td>69</td>\n",
              "      <td>-4.806818</td>\n",
              "    </tr>\n",
              "    <tr>\n",
              "      <th>14</th>\n",
              "      <td>2007</td>\n",
              "      <td>0.346222</td>\n",
              "      <td>0.384493</td>\n",
              "      <td>0.730715</td>\n",
              "      <td>407</td>\n",
              "      <td>5.355263</td>\n",
              "      <td>76</td>\n",
              "      <td>-4.451555</td>\n",
              "    </tr>\n",
              "    <tr>\n",
              "      <th>15</th>\n",
              "      <td>2008</td>\n",
              "      <td>0.350637</td>\n",
              "      <td>0.390905</td>\n",
              "      <td>0.741542</td>\n",
              "      <td>457</td>\n",
              "      <td>5.134831</td>\n",
              "      <td>89</td>\n",
              "      <td>-4.671987</td>\n",
              "    </tr>\n",
              "    <tr>\n",
              "      <th>16</th>\n",
              "      <td>2009</td>\n",
              "      <td>0.359326</td>\n",
              "      <td>0.429237</td>\n",
              "      <td>0.788563</td>\n",
              "      <td>806</td>\n",
              "      <td>8.141414</td>\n",
              "      <td>99</td>\n",
              "      <td>-1.665404</td>\n",
              "    </tr>\n",
              "    <tr>\n",
              "      <th>17</th>\n",
              "      <td>2010</td>\n",
              "      <td>0.356988</td>\n",
              "      <td>0.413278</td>\n",
              "      <td>0.770265</td>\n",
              "      <td>783</td>\n",
              "      <td>7.183486</td>\n",
              "      <td>109</td>\n",
              "      <td>-2.623332</td>\n",
              "    </tr>\n",
              "    <tr>\n",
              "      <th>18</th>\n",
              "      <td>2011</td>\n",
              "      <td>0.348382</td>\n",
              "      <td>0.386705</td>\n",
              "      <td>0.735087</td>\n",
              "      <td>650</td>\n",
              "      <td>5.241935</td>\n",
              "      <td>124</td>\n",
              "      <td>-4.564883</td>\n",
              "    </tr>\n",
              "    <tr>\n",
              "      <th>19</th>\n",
              "      <td>2012</td>\n",
              "      <td>0.337141</td>\n",
              "      <td>0.366160</td>\n",
              "      <td>0.703301</td>\n",
              "      <td>529</td>\n",
              "      <td>4.007576</td>\n",
              "      <td>132</td>\n",
              "      <td>-5.799242</td>\n",
              "    </tr>\n",
              "    <tr>\n",
              "      <th>20</th>\n",
              "      <td>2013</td>\n",
              "      <td>0.355484</td>\n",
              "      <td>0.393335</td>\n",
              "      <td>0.748820</td>\n",
              "      <td>698</td>\n",
              "      <td>4.915493</td>\n",
              "      <td>142</td>\n",
              "      <td>-4.891325</td>\n",
              "    </tr>\n",
              "    <tr>\n",
              "      <th>21</th>\n",
              "      <td>2014</td>\n",
              "      <td>0.368970</td>\n",
              "      <td>0.446302</td>\n",
              "      <td>0.815272</td>\n",
              "      <td>1013</td>\n",
              "      <td>7.235714</td>\n",
              "      <td>140</td>\n",
              "      <td>-2.571104</td>\n",
              "    </tr>\n",
              "    <tr>\n",
              "      <th>22</th>\n",
              "      <td>2015</td>\n",
              "      <td>0.362742</td>\n",
              "      <td>0.434129</td>\n",
              "      <td>0.796871</td>\n",
              "      <td>1222</td>\n",
              "      <td>7.685535</td>\n",
              "      <td>159</td>\n",
              "      <td>-2.121284</td>\n",
              "    </tr>\n",
              "    <tr>\n",
              "      <th>23</th>\n",
              "      <td>2016</td>\n",
              "      <td>0.368325</td>\n",
              "      <td>0.443871</td>\n",
              "      <td>0.812196</td>\n",
              "      <td>1267</td>\n",
              "      <td>7.918750</td>\n",
              "      <td>160</td>\n",
              "      <td>-1.888068</td>\n",
              "    </tr>\n",
              "    <tr>\n",
              "      <th>24</th>\n",
              "      <td>2017</td>\n",
              "      <td>0.356469</td>\n",
              "      <td>0.444584</td>\n",
              "      <td>0.801053</td>\n",
              "      <td>1450</td>\n",
              "      <td>8.285714</td>\n",
              "      <td>175</td>\n",
              "      <td>-1.521104</td>\n",
              "    </tr>\n",
              "    <tr>\n",
              "      <th>25</th>\n",
              "      <td>2018</td>\n",
              "      <td>0.355858</td>\n",
              "      <td>0.455936</td>\n",
              "      <td>0.811794</td>\n",
              "      <td>1726</td>\n",
              "      <td>9.806818</td>\n",
              "      <td>176</td>\n",
              "      <td>0.000000</td>\n",
              "    </tr>\n",
              "  </tbody>\n",
              "</table>\n",
              "</div>"
            ],
            "text/plain": [
              "    year       OBP       SLG       OPS  sum_HR   mean_HR  count   HR_diff\n",
              "8   2001  0.366585  0.454593  0.821178     199  7.653846     26 -2.152972\n",
              "9   2002  0.343798  0.424739  0.768536     274  8.838710     31 -0.968109\n",
              "10  2003  0.353936  0.427291  0.781227     301  7.717949     39 -2.088869\n",
              "11  2004  0.344181  0.407556  0.751737     358  7.306122     49 -2.500696\n",
              "12  2005  0.344851  0.395764  0.740615     357  6.263158     57 -3.543660\n",
              "13  2006  0.334390  0.374912  0.709301     345  5.000000     69 -4.806818\n",
              "14  2007  0.346222  0.384493  0.730715     407  5.355263     76 -4.451555\n",
              "15  2008  0.350637  0.390905  0.741542     457  5.134831     89 -4.671987\n",
              "16  2009  0.359326  0.429237  0.788563     806  8.141414     99 -1.665404\n",
              "17  2010  0.356988  0.413278  0.770265     783  7.183486    109 -2.623332\n",
              "18  2011  0.348382  0.386705  0.735087     650  5.241935    124 -4.564883\n",
              "19  2012  0.337141  0.366160  0.703301     529  4.007576    132 -5.799242\n",
              "20  2013  0.355484  0.393335  0.748820     698  4.915493    142 -4.891325\n",
              "21  2014  0.368970  0.446302  0.815272    1013  7.235714    140 -2.571104\n",
              "22  2015  0.362742  0.434129  0.796871    1222  7.685535    159 -2.121284\n",
              "23  2016  0.368325  0.443871  0.812196    1267  7.918750    160 -1.888068\n",
              "24  2017  0.356469  0.444584  0.801053    1450  8.285714    175 -1.521104\n",
              "25  2018  0.355858  0.455936  0.811794    1726  9.806818    176  0.000000"
            ]
          },
          "metadata": {},
          "execution_count": 100
        }
      ]
    },
    {
      "cell_type": "code",
      "metadata": {
        "colab": {
          "base_uri": "https://localhost:8080/",
          "height": 355
        },
        "id": "kHJJPB8ZTfJl",
        "outputId": "3a2ce583-70dc-4c1b-a318-4c9aaba19327"
      },
      "source": [
        "final_submission['OPS'] = final_submission['OPS'] - 0.038\n",
        "display(final_submission.head(10))\n",
        "final_submission.to_csv(f'{f}/final_submission.csv', index=False) # 최종 제출파일 생성"
      ],
      "execution_count": 101,
      "outputs": [
        {
          "output_type": "display_data",
          "data": {
            "text/html": [
              "<div>\n",
              "<style scoped>\n",
              "    .dataframe tbody tr th:only-of-type {\n",
              "        vertical-align: middle;\n",
              "    }\n",
              "\n",
              "    .dataframe tbody tr th {\n",
              "        vertical-align: top;\n",
              "    }\n",
              "\n",
              "    .dataframe thead th {\n",
              "        text-align: right;\n",
              "    }\n",
              "</style>\n",
              "<table border=\"1\" class=\"dataframe\">\n",
              "  <thead>\n",
              "    <tr style=\"text-align: right;\">\n",
              "      <th></th>\n",
              "      <th>batter_id</th>\n",
              "      <th>batter_name</th>\n",
              "      <th>OPS</th>\n",
              "    </tr>\n",
              "  </thead>\n",
              "  <tbody>\n",
              "    <tr>\n",
              "      <th>0</th>\n",
              "      <td>1</td>\n",
              "      <td>강경학</td>\n",
              "      <td>0.465957</td>\n",
              "    </tr>\n",
              "    <tr>\n",
              "      <th>1</th>\n",
              "      <td>2</td>\n",
              "      <td>강구성</td>\n",
              "      <td>0.649933</td>\n",
              "    </tr>\n",
              "    <tr>\n",
              "      <th>2</th>\n",
              "      <td>3</td>\n",
              "      <td>강민국</td>\n",
              "      <td>0.658609</td>\n",
              "    </tr>\n",
              "    <tr>\n",
              "      <th>3</th>\n",
              "      <td>4</td>\n",
              "      <td>강민호</td>\n",
              "      <td>0.920395</td>\n",
              "    </tr>\n",
              "    <tr>\n",
              "      <th>4</th>\n",
              "      <td>5</td>\n",
              "      <td>강백호</td>\n",
              "      <td>0.713592</td>\n",
              "    </tr>\n",
              "    <tr>\n",
              "      <th>5</th>\n",
              "      <td>8</td>\n",
              "      <td>강상원</td>\n",
              "      <td>0.623807</td>\n",
              "    </tr>\n",
              "    <tr>\n",
              "      <th>6</th>\n",
              "      <td>9</td>\n",
              "      <td>강승호</td>\n",
              "      <td>0.467642</td>\n",
              "    </tr>\n",
              "    <tr>\n",
              "      <th>7</th>\n",
              "      <td>11</td>\n",
              "      <td>강진성</td>\n",
              "      <td>0.618007</td>\n",
              "    </tr>\n",
              "    <tr>\n",
              "      <th>8</th>\n",
              "      <td>12</td>\n",
              "      <td>강한울</td>\n",
              "      <td>0.634859</td>\n",
              "    </tr>\n",
              "    <tr>\n",
              "      <th>9</th>\n",
              "      <td>16</td>\n",
              "      <td>고명성</td>\n",
              "      <td>0.602507</td>\n",
              "    </tr>\n",
              "  </tbody>\n",
              "</table>\n",
              "</div>"
            ],
            "text/plain": [
              "   batter_id batter_name       OPS\n",
              "0          1         강경학  0.465957\n",
              "1          2         강구성  0.649933\n",
              "2          3         강민국  0.658609\n",
              "3          4         강민호  0.920395\n",
              "4          5         강백호  0.713592\n",
              "5          8         강상원  0.623807\n",
              "6          9         강승호  0.467642\n",
              "7         11         강진성  0.618007\n",
              "8         12         강한울  0.634859\n",
              "9         16         고명성  0.602507"
            ]
          },
          "metadata": {}
        }
      ]
    }
  ]
}