{
  "nbformat": 4,
  "nbformat_minor": 0,
  "metadata": {
    "colab": {
      "name": "08_API_코로나_수정필요.ipynb",
      "provenance": [],
      "collapsed_sections": []
    },
    "kernelspec": {
      "name": "python3",
      "display_name": "Python 3"
    },
    "language_info": {
      "name": "python"
    }
  },
  "cells": [
    {
      "cell_type": "markdown",
      "metadata": {
        "id": "FnVm73JA9GQ6"
      },
      "source": [
        "# API의 코로나 데이터 EDA(탐색적 데이터 분석, Exploratory Data Analysis)"
      ]
    },
    {
      "cell_type": "code",
      "metadata": {
        "id": "t_VK53gr00fn"
      },
      "source": [
        "!sudo apt-get install -y fonts-nanum > /dev/null\n",
        "!sudo fc-cache -fv > /dev/null\n",
        "!rm ~/.cache/matplotlib -rf > /dev/null"
      ],
      "execution_count": 2,
      "outputs": []
    },
    {
      "cell_type": "code",
      "metadata": {
        "id": "WeEKpgO-_nxM"
      },
      "source": [
        "import warnings\n",
        "warnings.filterwarnings('ignore')"
      ],
      "execution_count": 1,
      "outputs": []
    },
    {
      "cell_type": "code",
      "metadata": {
        "id": "Zx7Gsg5z11lH"
      },
      "source": [
        "import matplotlib.pyplot as plt\n",
        "plt.rc('font', family='NanumBarunGothic') "
      ],
      "execution_count": 2,
      "outputs": []
    },
    {
      "cell_type": "code",
      "metadata": {
        "id": "hHVTTfbm2-Tm"
      },
      "source": [
        "# url을 가져와서 문서로 만드는 작업\n",
        "import requests\n",
        "from bs4 import BeautifulSoup as bs\n",
        "import pandas as pd"
      ],
      "execution_count": 3,
      "outputs": []
    },
    {
      "cell_type": "code",
      "metadata": {
        "colab": {
          "resources": {
            "http://localhost:8080/nbextensions/google.colab/files.js": {
              "data": "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",
              "ok": true,
              "headers": [
                [
                  "content-type",
                  "application/javascript"
                ]
              ],
              "status": 200,
              "status_text": ""
            }
          },
          "base_uri": "https://localhost:8080/",
          "height": 77
        },
        "id": "ukFnjYFJo-7S",
        "outputId": "2daa398f-c6b6-4853-dcc7-5aa7e35f17fb"
      },
      "source": [
        "from google.colab import files\n",
        "uploaded = files.upload()\n",
        "filename = list(uploaded.keys())[0]"
      ],
      "execution_count": 4,
      "outputs": [
        {
          "output_type": "display_data",
          "data": {
            "text/html": [
              "\n",
              "     <input type=\"file\" id=\"files-4d33b800-ddd0-49af-8b62-fdc8af518e9e\" name=\"files[]\" multiple disabled\n",
              "        style=\"border:none\" />\n",
              "     <output id=\"result-4d33b800-ddd0-49af-8b62-fdc8af518e9e\">\n",
              "      Upload widget is only available when the cell has been executed in the\n",
              "      current browser session. Please rerun this cell to enable.\n",
              "      </output>\n",
              "      <script src=\"/nbextensions/google.colab/files.js\"></script> "
            ],
            "text/plain": [
              "<IPython.core.display.HTML object>"
            ]
          },
          "metadata": {}
        },
        {
          "output_type": "stream",
          "name": "stdout",
          "text": [
            "Saving 강사님_인증키.txt to 강사님_인증키.txt\n"
          ]
        }
      ]
    },
    {
      "cell_type": "code",
      "metadata": {
        "id": "KuFTN7vYpxMz"
      },
      "source": [
        "with open(filename) as f:\n",
        "    key = f.read()"
      ],
      "execution_count": 5,
      "outputs": []
    },
    {
      "cell_type": "code",
      "metadata": {
        "colab": {
          "base_uri": "https://localhost:8080/"
        },
        "id": "TXCqbdl92-yB",
        "outputId": "d9a0859f-013e-4d02-bd32-df71fd7cf2af"
      },
      "source": [
        "# 공공데이터 키는 신청 후 1일정도 소요됨 => 본인키로 추후에 변경하기\n",
        "numRows=10\n",
        "staD=str(20200410)\n",
        "endD=str(20210831)\n",
        "numRows=30\n",
        "\n",
        "url1='http://openapi.data.go.kr/openapi/service/rest/Covid19/getCovid19SidoInfStateJson?serviceKey='+ key\n",
        "url2='&pageNo=1&numOfRows='+str(numRows)\n",
        "url3='&startCreateDt='+staD+'&endCreateDt='+endD\n",
        "url=url1+url2+url3   \n",
        "\n",
        "print(url)"
      ],
      "execution_count": 6,
      "outputs": [
        {
          "output_type": "stream",
          "name": "stdout",
          "text": [
            "http://openapi.data.go.kr/openapi/service/rest/Covid19/getCovid19SidoInfStateJson?serviceKey=S5FgzVMaI4VnSdDKqpL5KZxsUmhhyDuYp5uEtbgdkcjiNs15Aw4199t39wANmq%2BTUjhIm999jORaRGsMwuUDrQ%3D%3D&pageNo=1&numOfRows=30&startCreateDt=20200410&endCreateDt=20210831\n"
          ]
        }
      ]
    },
    {
      "cell_type": "code",
      "metadata": {
        "id": "jvyMso7v3V-u"
      },
      "source": [
        "xml=requests.get(url)\n",
        "soup=bs(xml.text,'html.parser')\n",
        "#soup"
      ],
      "execution_count": 7,
      "outputs": []
    },
    {
      "cell_type": "code",
      "metadata": {
        "id": "SnTvDH2Y3e9w"
      },
      "source": [
        "data=soup.find_all('item')\n",
        "con_lst=[]\n",
        "\n",
        "for item in data:\n",
        "    DEF_CNT = item.find('defcnt').text # 확진자수'\n",
        "    Deat_CNT = item.find('deathcnt').text # 사망자수\n",
        "    GUBUN = item.find('gubun').text # 지역'\n",
        "    INC_DEC = item.find('incdec').text #전일대비 증감'\n",
        "    STD_DAY = item.find('stdday').text # 기준일'\n",
        "    ISOL_ING_CNT = item.find('isolingcnt').text#격리자수'\n",
        "    OVER_FLOW_CNT = item.find('overflowcnt').text #해외유입'\n",
        "    LOCAL_OCC_CNT = item.find('localocccnt').text #지역감염'\n",
        "    con_lst.append({'stdday':STD_DAY,'ji':GUBUN,'isolingcnt':ISOL_ING_CNT,\n",
        "                    'defcnt':DEF_CNT,'incdec':INC_DEC,'deathcnt':Deat_CNT,\n",
        "                    'local':LOCAL_OCC_CNT,'overflow':OVER_FLOW_CNT})"
      ],
      "execution_count": 8,
      "outputs": []
    },
    {
      "cell_type": "code",
      "metadata": {
        "id": "3DDudf_j4LQx"
      },
      "source": [
        "# con_lst"
      ],
      "execution_count": null,
      "outputs": []
    },
    {
      "cell_type": "code",
      "metadata": {
        "colab": {
          "base_uri": "https://localhost:8080/",
          "height": 204
        },
        "id": "jxIaB2Kc-i8o",
        "outputId": "ff2ef33c-8371-4d4d-cd3f-5ba48ae7a5fb"
      },
      "source": [
        "# 아래와 같이 해도 됨. 그러면 con_lst 순서대로 나오고 columns를 하면 내가 순서를 변경할 수 있음.\n",
        "df = pd.DataFrame(con_lst)\n",
        "\n",
        "df = pd.DataFrame(con_lst, columns = ['stdday','ji','deathcnt','defcnt','isolingcnt','incdec','local','overflow'])\n",
        "\n",
        "# df=pd.read_csv('....csv')\n",
        "df.head()"
      ],
      "execution_count": 14,
      "outputs": [
        {
          "output_type": "execute_result",
          "data": {
            "text/html": [
              "<div>\n",
              "<style scoped>\n",
              "    .dataframe tbody tr th:only-of-type {\n",
              "        vertical-align: middle;\n",
              "    }\n",
              "\n",
              "    .dataframe tbody tr th {\n",
              "        vertical-align: top;\n",
              "    }\n",
              "\n",
              "    .dataframe thead th {\n",
              "        text-align: right;\n",
              "    }\n",
              "</style>\n",
              "<table border=\"1\" class=\"dataframe\">\n",
              "  <thead>\n",
              "    <tr style=\"text-align: right;\">\n",
              "      <th></th>\n",
              "      <th>stdday</th>\n",
              "      <th>ji</th>\n",
              "      <th>deathcnt</th>\n",
              "      <th>defcnt</th>\n",
              "      <th>isolingcnt</th>\n",
              "      <th>incdec</th>\n",
              "      <th>local</th>\n",
              "      <th>overflow</th>\n",
              "    </tr>\n",
              "  </thead>\n",
              "  <tbody>\n",
              "    <tr>\n",
              "      <th>0</th>\n",
              "      <td>2021년 08월 31일 00시</td>\n",
              "      <td>검역</td>\n",
              "      <td>13</td>\n",
              "      <td>5836</td>\n",
              "      <td>511</td>\n",
              "      <td>13</td>\n",
              "      <td>0</td>\n",
              "      <td>13</td>\n",
              "    </tr>\n",
              "    <tr>\n",
              "      <th>1</th>\n",
              "      <td>2021년 08월 31일 00시</td>\n",
              "      <td>제주</td>\n",
              "      <td>2</td>\n",
              "      <td>2602</td>\n",
              "      <td>270</td>\n",
              "      <td>9</td>\n",
              "      <td>8</td>\n",
              "      <td>1</td>\n",
              "    </tr>\n",
              "    <tr>\n",
              "      <th>2</th>\n",
              "      <td>2021년 08월 31일 00시</td>\n",
              "      <td>경남</td>\n",
              "      <td>31</td>\n",
              "      <td>9980</td>\n",
              "      <td>858</td>\n",
              "      <td>56</td>\n",
              "      <td>56</td>\n",
              "      <td>0</td>\n",
              "    </tr>\n",
              "    <tr>\n",
              "      <th>3</th>\n",
              "      <td>2021년 08월 31일 00시</td>\n",
              "      <td>경북</td>\n",
              "      <td>88</td>\n",
              "      <td>7100</td>\n",
              "      <td>618</td>\n",
              "      <td>27</td>\n",
              "      <td>27</td>\n",
              "      <td>0</td>\n",
              "    </tr>\n",
              "    <tr>\n",
              "      <th>4</th>\n",
              "      <td>2021년 08월 31일 00시</td>\n",
              "      <td>전남</td>\n",
              "      <td>19</td>\n",
              "      <td>2600</td>\n",
              "      <td>206</td>\n",
              "      <td>14</td>\n",
              "      <td>13</td>\n",
              "      <td>1</td>\n",
              "    </tr>\n",
              "  </tbody>\n",
              "</table>\n",
              "</div>"
            ],
            "text/plain": [
              "              stdday  ji deathcnt defcnt isolingcnt incdec local overflow\n",
              "0  2021년 08월 31일 00시  검역       13   5836        511     13     0       13\n",
              "1  2021년 08월 31일 00시  제주        2   2602        270      9     8        1\n",
              "2  2021년 08월 31일 00시  경남       31   9980        858     56    56        0\n",
              "3  2021년 08월 31일 00시  경북       88   7100        618     27    27        0\n",
              "4  2021년 08월 31일 00시  전남       19   2600        206     14    13        1"
            ]
          },
          "metadata": {},
          "execution_count": 14
        }
      ]
    },
    {
      "cell_type": "code",
      "metadata": {
        "colab": {
          "base_uri": "https://localhost:8080/"
        },
        "id": "zIqzFEcr3jE5",
        "outputId": "5e87847f-989d-4fe8-ad0c-7df281a9e0ef"
      },
      "source": [
        "df.info()"
      ],
      "execution_count": 10,
      "outputs": [
        {
          "output_type": "stream",
          "name": "stdout",
          "text": [
            "<class 'pandas.core.frame.DataFrame'>\n",
            "RangeIndex: 516 entries, 0 to 515\n",
            "Data columns (total 8 columns):\n",
            " #   Column      Non-Null Count  Dtype \n",
            "---  ------      --------------  ----- \n",
            " 0   stdday      516 non-null    object\n",
            " 1   ji          516 non-null    object\n",
            " 2   deathcnt    516 non-null    object\n",
            " 3   defcnt      516 non-null    object\n",
            " 4   isolingcnt  516 non-null    object\n",
            " 5   incdec      516 non-null    object\n",
            " 6   local       516 non-null    object\n",
            " 7   overflow    516 non-null    object\n",
            "dtypes: object(8)\n",
            "memory usage: 32.4+ KB\n"
          ]
        }
      ]
    },
    {
      "cell_type": "code",
      "metadata": {
        "colab": {
          "base_uri": "https://localhost:8080/"
        },
        "id": "ulVVtXeh4o7b",
        "outputId": "a18acef7-323c-4549-c617-3fe24de394a8"
      },
      "source": [
        "df.isna().sum() # 결측치 확인"
      ],
      "execution_count": 11,
      "outputs": [
        {
          "output_type": "execute_result",
          "data": {
            "text/plain": [
              "stdday        0\n",
              "ji            0\n",
              "deathcnt      0\n",
              "defcnt        0\n",
              "isolingcnt    0\n",
              "incdec        0\n",
              "local         0\n",
              "overflow      0\n",
              "dtype: int64"
            ]
          },
          "metadata": {},
          "execution_count": 11
        }
      ]
    },
    {
      "cell_type": "markdown",
      "metadata": {
        "id": "TrrcRkKN5Cz1"
      },
      "source": [
        "## 형변환"
      ]
    },
    {
      "cell_type": "code",
      "metadata": {
        "id": "xuI1SZ1N5A7h"
      },
      "source": [
        "# 방법1\n",
        "df['deathcnt'] = df['deathcnt'].astype(int)\n",
        "df['defcnt'] = df['defcnt'].astype(int)\n",
        "df['isolingcnt'] = df['isolingcnt'].astype(int)\n",
        "df['incdec'] = df['incdec'].astype(int)\n",
        "df['local'] = df['local'].astype(int)\n",
        "df['overflow'] = df['overflow'].astype(int)"
      ],
      "execution_count": 12,
      "outputs": []
    },
    {
      "cell_type": "code",
      "metadata": {
        "id": "XyVLPW_r6Sep"
      },
      "source": [
        "# 방법2\n",
        "col = ['deathcnt','defcnt','isolingcnt','incdec','local','overflow']\n",
        "for i in col:\n",
        "    df[col] = df[col].astype(int)"
      ],
      "execution_count": null,
      "outputs": []
    },
    {
      "cell_type": "code",
      "metadata": {
        "id": "dQ2sr_TW5XpW"
      },
      "source": [
        "# 방법3(권장)\n",
        "for col in df.columns[2:]:\n",
        "    df[col] = df[col].astype(int)"
      ],
      "execution_count": 15,
      "outputs": []
    },
    {
      "cell_type": "code",
      "metadata": {
        "colab": {
          "base_uri": "https://localhost:8080/"
        },
        "id": "f2ZLtjPP5d5K",
        "outputId": "ab719f73-b8cf-445b-c206-284885c2a07d"
      },
      "source": [
        "df.info()"
      ],
      "execution_count": 16,
      "outputs": [
        {
          "output_type": "stream",
          "name": "stdout",
          "text": [
            "<class 'pandas.core.frame.DataFrame'>\n",
            "RangeIndex: 516 entries, 0 to 515\n",
            "Data columns (total 8 columns):\n",
            " #   Column      Non-Null Count  Dtype \n",
            "---  ------      --------------  ----- \n",
            " 0   stdday      516 non-null    object\n",
            " 1   ji          516 non-null    object\n",
            " 2   deathcnt    516 non-null    int64 \n",
            " 3   defcnt      516 non-null    int64 \n",
            " 4   isolingcnt  516 non-null    int64 \n",
            " 5   incdec      516 non-null    int64 \n",
            " 6   local       516 non-null    int64 \n",
            " 7   overflow    516 non-null    int64 \n",
            "dtypes: int64(6), object(2)\n",
            "memory usage: 32.4+ KB\n"
          ]
        }
      ]
    },
    {
      "cell_type": "markdown",
      "metadata": {
        "id": "dFv8Ui8Q6dKG"
      },
      "source": [
        "## 자료기술통계"
      ]
    },
    {
      "cell_type": "code",
      "metadata": {
        "colab": {
          "base_uri": "https://localhost:8080/",
          "height": 297
        },
        "id": "62jEpebK53QQ",
        "outputId": "70ecac60-b165-4778-a7e1-67314dc410e1"
      },
      "source": [
        "df.describe() # defcnt의 편차가 상대적으로 큼, 75%가 10628이하."
      ],
      "execution_count": 17,
      "outputs": [
        {
          "output_type": "execute_result",
          "data": {
            "text/html": [
              "<div>\n",
              "<style scoped>\n",
              "    .dataframe tbody tr th:only-of-type {\n",
              "        vertical-align: middle;\n",
              "    }\n",
              "\n",
              "    .dataframe tbody tr th {\n",
              "        vertical-align: top;\n",
              "    }\n",
              "\n",
              "    .dataframe thead th {\n",
              "        text-align: right;\n",
              "    }\n",
              "</style>\n",
              "<table border=\"1\" class=\"dataframe\">\n",
              "  <thead>\n",
              "    <tr style=\"text-align: right;\">\n",
              "      <th></th>\n",
              "      <th>deathcnt</th>\n",
              "      <th>defcnt</th>\n",
              "      <th>isolingcnt</th>\n",
              "      <th>incdec</th>\n",
              "      <th>local</th>\n",
              "      <th>overflow</th>\n",
              "    </tr>\n",
              "  </thead>\n",
              "  <tbody>\n",
              "    <tr>\n",
              "      <th>count</th>\n",
              "      <td>516.000000</td>\n",
              "      <td>516.000000</td>\n",
              "      <td>516.000000</td>\n",
              "      <td>516.000000</td>\n",
              "      <td>516.00000</td>\n",
              "      <td>516.000000</td>\n",
              "    </tr>\n",
              "    <tr>\n",
              "      <th>mean</th>\n",
              "      <td>216.153101</td>\n",
              "      <td>22719.133721</td>\n",
              "      <td>2626.494186</td>\n",
              "      <td>173.676357</td>\n",
              "      <td>168.50000</td>\n",
              "      <td>5.186047</td>\n",
              "    </tr>\n",
              "    <tr>\n",
              "      <th>std</th>\n",
              "      <td>475.594796</td>\n",
              "      <td>50167.372319</td>\n",
              "      <td>5870.341145</td>\n",
              "      <td>382.427085</td>\n",
              "      <td>372.40069</td>\n",
              "      <td>11.778550</td>\n",
              "    </tr>\n",
              "    <tr>\n",
              "      <th>min</th>\n",
              "      <td>1.000000</td>\n",
              "      <td>763.000000</td>\n",
              "      <td>70.000000</td>\n",
              "      <td>1.000000</td>\n",
              "      <td>0.00000</td>\n",
              "      <td>0.000000</td>\n",
              "    </tr>\n",
              "    <tr>\n",
              "      <th>25%</th>\n",
              "      <td>24.000000</td>\n",
              "      <td>3621.250000</td>\n",
              "      <td>332.000000</td>\n",
              "      <td>25.000000</td>\n",
              "      <td>23.00000</td>\n",
              "      <td>0.000000</td>\n",
              "    </tr>\n",
              "    <tr>\n",
              "      <th>50%</th>\n",
              "      <td>57.000000</td>\n",
              "      <td>5560.500000</td>\n",
              "      <td>602.000000</td>\n",
              "      <td>46.500000</td>\n",
              "      <td>46.00000</td>\n",
              "      <td>1.000000</td>\n",
              "    </tr>\n",
              "    <tr>\n",
              "      <th>75%</th>\n",
              "      <td>128.000000</td>\n",
              "      <td>10628.000000</td>\n",
              "      <td>1168.500000</td>\n",
              "      <td>90.000000</td>\n",
              "      <td>89.00000</td>\n",
              "      <td>3.000000</td>\n",
              "    </tr>\n",
              "    <tr>\n",
              "      <th>max</th>\n",
              "      <td>2285.000000</td>\n",
              "      <td>251415.000000</td>\n",
              "      <td>28214.000000</td>\n",
              "      <td>2221.000000</td>\n",
              "      <td>2144.00000</td>\n",
              "      <td>77.000000</td>\n",
              "    </tr>\n",
              "  </tbody>\n",
              "</table>\n",
              "</div>"
            ],
            "text/plain": [
              "          deathcnt         defcnt  ...       local    overflow\n",
              "count   516.000000     516.000000  ...   516.00000  516.000000\n",
              "mean    216.153101   22719.133721  ...   168.50000    5.186047\n",
              "std     475.594796   50167.372319  ...   372.40069   11.778550\n",
              "min       1.000000     763.000000  ...     0.00000    0.000000\n",
              "25%      24.000000    3621.250000  ...    23.00000    0.000000\n",
              "50%      57.000000    5560.500000  ...    46.00000    1.000000\n",
              "75%     128.000000   10628.000000  ...    89.00000    3.000000\n",
              "max    2285.000000  251415.000000  ...  2144.00000   77.000000\n",
              "\n",
              "[8 rows x 6 columns]"
            ]
          },
          "metadata": {},
          "execution_count": 17
        }
      ]
    },
    {
      "cell_type": "code",
      "metadata": {
        "colab": {
          "base_uri": "https://localhost:8080/",
          "height": 793
        },
        "id": "P3fjsXpG6hwV",
        "outputId": "12787353-1b18-42c0-9778-cb5ff0f1c782"
      },
      "source": [
        "df[df['defcnt']>100000]"
      ],
      "execution_count": 18,
      "outputs": [
        {
          "output_type": "execute_result",
          "data": {
            "text/html": [
              "<div>\n",
              "<style scoped>\n",
              "    .dataframe tbody tr th:only-of-type {\n",
              "        vertical-align: middle;\n",
              "    }\n",
              "\n",
              "    .dataframe tbody tr th {\n",
              "        vertical-align: top;\n",
              "    }\n",
              "\n",
              "    .dataframe thead th {\n",
              "        text-align: right;\n",
              "    }\n",
              "</style>\n",
              "<table border=\"1\" class=\"dataframe\">\n",
              "  <thead>\n",
              "    <tr style=\"text-align: right;\">\n",
              "      <th></th>\n",
              "      <th>stdday</th>\n",
              "      <th>ji</th>\n",
              "      <th>deathcnt</th>\n",
              "      <th>defcnt</th>\n",
              "      <th>isolingcnt</th>\n",
              "      <th>incdec</th>\n",
              "      <th>local</th>\n",
              "      <th>overflow</th>\n",
              "    </tr>\n",
              "  </thead>\n",
              "  <tbody>\n",
              "    <tr>\n",
              "      <th>18</th>\n",
              "      <td>2021년 08월 31일 00시</td>\n",
              "      <td>합계</td>\n",
              "      <td>2285</td>\n",
              "      <td>251415</td>\n",
              "      <td>27429</td>\n",
              "      <td>1370</td>\n",
              "      <td>1331</td>\n",
              "      <td>39</td>\n",
              "    </tr>\n",
              "    <tr>\n",
              "      <th>37</th>\n",
              "      <td>2021년 08월 30일 00시</td>\n",
              "      <td>합계</td>\n",
              "      <td>2284</td>\n",
              "      <td>250045</td>\n",
              "      <td>27403</td>\n",
              "      <td>1485</td>\n",
              "      <td>1424</td>\n",
              "      <td>61</td>\n",
              "    </tr>\n",
              "    <tr>\n",
              "      <th>56</th>\n",
              "      <td>2021년 08월 29일 00시</td>\n",
              "      <td>합계</td>\n",
              "      <td>2279</td>\n",
              "      <td>248560</td>\n",
              "      <td>27555</td>\n",
              "      <td>1619</td>\n",
              "      <td>1576</td>\n",
              "      <td>43</td>\n",
              "    </tr>\n",
              "    <tr>\n",
              "      <th>75</th>\n",
              "      <td>2021년 08월 28일 00시</td>\n",
              "      <td>합계</td>\n",
              "      <td>2276</td>\n",
              "      <td>246943</td>\n",
              "      <td>27678</td>\n",
              "      <td>1791</td>\n",
              "      <td>1736</td>\n",
              "      <td>55</td>\n",
              "    </tr>\n",
              "    <tr>\n",
              "      <th>94</th>\n",
              "      <td>2021년 08월 27일 00시</td>\n",
              "      <td>합계</td>\n",
              "      <td>2265</td>\n",
              "      <td>245152</td>\n",
              "      <td>28214</td>\n",
              "      <td>1838</td>\n",
              "      <td>1808</td>\n",
              "      <td>30</td>\n",
              "    </tr>\n",
              "    <tr>\n",
              "      <th>113</th>\n",
              "      <td>2021년 08월 26일 00시</td>\n",
              "      <td>합계</td>\n",
              "      <td>2257</td>\n",
              "      <td>243314</td>\n",
              "      <td>28186</td>\n",
              "      <td>1882</td>\n",
              "      <td>1829</td>\n",
              "      <td>53</td>\n",
              "    </tr>\n",
              "    <tr>\n",
              "      <th>132</th>\n",
              "      <td>2021년 08월 25일 00시</td>\n",
              "      <td>합계</td>\n",
              "      <td>2237</td>\n",
              "      <td>241433</td>\n",
              "      <td>28019</td>\n",
              "      <td>2154</td>\n",
              "      <td>2113</td>\n",
              "      <td>41</td>\n",
              "    </tr>\n",
              "    <tr>\n",
              "      <th>151</th>\n",
              "      <td>2021년 08월 24일 00시</td>\n",
              "      <td>합계</td>\n",
              "      <td>2228</td>\n",
              "      <td>239280</td>\n",
              "      <td>27859</td>\n",
              "      <td>1506</td>\n",
              "      <td>1468</td>\n",
              "      <td>38</td>\n",
              "    </tr>\n",
              "    <tr>\n",
              "      <th>170</th>\n",
              "      <td>2021년 08월 23일 00시</td>\n",
              "      <td>합계</td>\n",
              "      <td>2222</td>\n",
              "      <td>237772</td>\n",
              "      <td>27949</td>\n",
              "      <td>1416</td>\n",
              "      <td>1369</td>\n",
              "      <td>47</td>\n",
              "    </tr>\n",
              "    <tr>\n",
              "      <th>189</th>\n",
              "      <td>2021년 08월 22일 00시</td>\n",
              "      <td>합계</td>\n",
              "      <td>2215</td>\n",
              "      <td>236355</td>\n",
              "      <td>27864</td>\n",
              "      <td>1626</td>\n",
              "      <td>1588</td>\n",
              "      <td>38</td>\n",
              "    </tr>\n",
              "    <tr>\n",
              "      <th>208</th>\n",
              "      <td>2021년 08월 21일 00시</td>\n",
              "      <td>합계</td>\n",
              "      <td>2202</td>\n",
              "      <td>234729</td>\n",
              "      <td>28009</td>\n",
              "      <td>1876</td>\n",
              "      <td>1812</td>\n",
              "      <td>65</td>\n",
              "    </tr>\n",
              "    <tr>\n",
              "      <th>227</th>\n",
              "      <td>2021년 08월 20일 00시</td>\n",
              "      <td>합계</td>\n",
              "      <td>2197</td>\n",
              "      <td>232852</td>\n",
              "      <td>27880</td>\n",
              "      <td>2050</td>\n",
              "      <td>2000</td>\n",
              "      <td>50</td>\n",
              "    </tr>\n",
              "    <tr>\n",
              "      <th>246</th>\n",
              "      <td>2021년 08월 19일 00시</td>\n",
              "      <td>합계</td>\n",
              "      <td>2191</td>\n",
              "      <td>230802</td>\n",
              "      <td>27376</td>\n",
              "      <td>2152</td>\n",
              "      <td>2114</td>\n",
              "      <td>38</td>\n",
              "    </tr>\n",
              "    <tr>\n",
              "      <th>265</th>\n",
              "      <td>2021년 08월 18일 00시</td>\n",
              "      <td>합계</td>\n",
              "      <td>2178</td>\n",
              "      <td>228650</td>\n",
              "      <td>26890</td>\n",
              "      <td>1803</td>\n",
              "      <td>1766</td>\n",
              "      <td>37</td>\n",
              "    </tr>\n",
              "    <tr>\n",
              "      <th>284</th>\n",
              "      <td>2021년 08월 17일 00시</td>\n",
              "      <td>합계</td>\n",
              "      <td>2173</td>\n",
              "      <td>226848</td>\n",
              "      <td>27451</td>\n",
              "      <td>1372</td>\n",
              "      <td>1322</td>\n",
              "      <td>50</td>\n",
              "    </tr>\n",
              "    <tr>\n",
              "      <th>303</th>\n",
              "      <td>2021년 08월 16일 00시</td>\n",
              "      <td>합계</td>\n",
              "      <td>2167</td>\n",
              "      <td>225476</td>\n",
              "      <td>27111</td>\n",
              "      <td>1555</td>\n",
              "      <td>1492</td>\n",
              "      <td>63</td>\n",
              "    </tr>\n",
              "    <tr>\n",
              "      <th>322</th>\n",
              "      <td>2021년 08월 15일 00시</td>\n",
              "      <td>합계</td>\n",
              "      <td>2156</td>\n",
              "      <td>223921</td>\n",
              "      <td>26662</td>\n",
              "      <td>1816</td>\n",
              "      <td>1748</td>\n",
              "      <td>68</td>\n",
              "    </tr>\n",
              "    <tr>\n",
              "      <th>341</th>\n",
              "      <td>2021년 08월 14일 00시</td>\n",
              "      <td>합계</td>\n",
              "      <td>2148</td>\n",
              "      <td>222105</td>\n",
              "      <td>26179</td>\n",
              "      <td>1928</td>\n",
              "      <td>1858</td>\n",
              "      <td>70</td>\n",
              "    </tr>\n",
              "    <tr>\n",
              "      <th>360</th>\n",
              "      <td>2021년 08월 13일 00시</td>\n",
              "      <td>합계</td>\n",
              "      <td>2144</td>\n",
              "      <td>220177</td>\n",
              "      <td>25786</td>\n",
              "      <td>1989</td>\n",
              "      <td>1913</td>\n",
              "      <td>76</td>\n",
              "    </tr>\n",
              "    <tr>\n",
              "      <th>379</th>\n",
              "      <td>2021년 08월 12일 00시</td>\n",
              "      <td>합계</td>\n",
              "      <td>2138</td>\n",
              "      <td>218189</td>\n",
              "      <td>25516</td>\n",
              "      <td>1987</td>\n",
              "      <td>1947</td>\n",
              "      <td>40</td>\n",
              "    </tr>\n",
              "    <tr>\n",
              "      <th>398</th>\n",
              "      <td>2021년 08월 11일 00시</td>\n",
              "      <td>합계</td>\n",
              "      <td>2135</td>\n",
              "      <td>216202</td>\n",
              "      <td>24561</td>\n",
              "      <td>2221</td>\n",
              "      <td>2144</td>\n",
              "      <td>77</td>\n",
              "    </tr>\n",
              "    <tr>\n",
              "      <th>417</th>\n",
              "      <td>2021년 08월 10일 00시</td>\n",
              "      <td>합계</td>\n",
              "      <td>2134</td>\n",
              "      <td>213981</td>\n",
              "      <td>24324</td>\n",
              "      <td>1536</td>\n",
              "      <td>1474</td>\n",
              "      <td>63</td>\n",
              "    </tr>\n",
              "    <tr>\n",
              "      <th>436</th>\n",
              "      <td>2021년 08월 09일 00시</td>\n",
              "      <td>합계</td>\n",
              "      <td>2125</td>\n",
              "      <td>212444</td>\n",
              "      <td>24077</td>\n",
              "      <td>1490</td>\n",
              "      <td>1455</td>\n",
              "      <td>36</td>\n",
              "    </tr>\n",
              "    <tr>\n",
              "      <th>455</th>\n",
              "      <td>2021년 08월 08일 00시</td>\n",
              "      <td>합계</td>\n",
              "      <td>2121</td>\n",
              "      <td>210953</td>\n",
              "      <td>23829</td>\n",
              "      <td>1728</td>\n",
              "      <td>1669</td>\n",
              "      <td>59</td>\n",
              "    </tr>\n",
              "  </tbody>\n",
              "</table>\n",
              "</div>"
            ],
            "text/plain": [
              "                stdday  ji  deathcnt  ...  incdec  local  overflow\n",
              "18   2021년 08월 31일 00시  합계      2285  ...    1370   1331        39\n",
              "37   2021년 08월 30일 00시  합계      2284  ...    1485   1424        61\n",
              "56   2021년 08월 29일 00시  합계      2279  ...    1619   1576        43\n",
              "75   2021년 08월 28일 00시  합계      2276  ...    1791   1736        55\n",
              "94   2021년 08월 27일 00시  합계      2265  ...    1838   1808        30\n",
              "113  2021년 08월 26일 00시  합계      2257  ...    1882   1829        53\n",
              "132  2021년 08월 25일 00시  합계      2237  ...    2154   2113        41\n",
              "151  2021년 08월 24일 00시  합계      2228  ...    1506   1468        38\n",
              "170  2021년 08월 23일 00시  합계      2222  ...    1416   1369        47\n",
              "189  2021년 08월 22일 00시  합계      2215  ...    1626   1588        38\n",
              "208  2021년 08월 21일 00시  합계      2202  ...    1876   1812        65\n",
              "227  2021년 08월 20일 00시  합계      2197  ...    2050   2000        50\n",
              "246  2021년 08월 19일 00시  합계      2191  ...    2152   2114        38\n",
              "265  2021년 08월 18일 00시  합계      2178  ...    1803   1766        37\n",
              "284  2021년 08월 17일 00시  합계      2173  ...    1372   1322        50\n",
              "303  2021년 08월 16일 00시  합계      2167  ...    1555   1492        63\n",
              "322  2021년 08월 15일 00시  합계      2156  ...    1816   1748        68\n",
              "341  2021년 08월 14일 00시  합계      2148  ...    1928   1858        70\n",
              "360  2021년 08월 13일 00시  합계      2144  ...    1989   1913        76\n",
              "379  2021년 08월 12일 00시  합계      2138  ...    1987   1947        40\n",
              "398  2021년 08월 11일 00시  합계      2135  ...    2221   2144        77\n",
              "417  2021년 08월 10일 00시  합계      2134  ...    1536   1474        63\n",
              "436  2021년 08월 09일 00시  합계      2125  ...    1490   1455        36\n",
              "455  2021년 08월 08일 00시  합계      2121  ...    1728   1669        59\n",
              "\n",
              "[24 rows x 8 columns]"
            ]
          },
          "metadata": {},
          "execution_count": 18
        }
      ]
    },
    {
      "cell_type": "code",
      "metadata": {
        "colab": {
          "base_uri": "https://localhost:8080/",
          "height": 793
        },
        "id": "ZNIkqheY7TlH",
        "outputId": "42561209-cd83-4e54-c3b6-3291e1ac93eb"
      },
      "source": [
        "df[df['ji']=='합계'] # 이상치 데이터"
      ],
      "execution_count": 19,
      "outputs": [
        {
          "output_type": "execute_result",
          "data": {
            "text/html": [
              "<div>\n",
              "<style scoped>\n",
              "    .dataframe tbody tr th:only-of-type {\n",
              "        vertical-align: middle;\n",
              "    }\n",
              "\n",
              "    .dataframe tbody tr th {\n",
              "        vertical-align: top;\n",
              "    }\n",
              "\n",
              "    .dataframe thead th {\n",
              "        text-align: right;\n",
              "    }\n",
              "</style>\n",
              "<table border=\"1\" class=\"dataframe\">\n",
              "  <thead>\n",
              "    <tr style=\"text-align: right;\">\n",
              "      <th></th>\n",
              "      <th>stdday</th>\n",
              "      <th>ji</th>\n",
              "      <th>deathcnt</th>\n",
              "      <th>defcnt</th>\n",
              "      <th>isolingcnt</th>\n",
              "      <th>incdec</th>\n",
              "      <th>local</th>\n",
              "      <th>overflow</th>\n",
              "    </tr>\n",
              "  </thead>\n",
              "  <tbody>\n",
              "    <tr>\n",
              "      <th>18</th>\n",
              "      <td>2021년 08월 31일 00시</td>\n",
              "      <td>합계</td>\n",
              "      <td>2285</td>\n",
              "      <td>251415</td>\n",
              "      <td>27429</td>\n",
              "      <td>1370</td>\n",
              "      <td>1331</td>\n",
              "      <td>39</td>\n",
              "    </tr>\n",
              "    <tr>\n",
              "      <th>37</th>\n",
              "      <td>2021년 08월 30일 00시</td>\n",
              "      <td>합계</td>\n",
              "      <td>2284</td>\n",
              "      <td>250045</td>\n",
              "      <td>27403</td>\n",
              "      <td>1485</td>\n",
              "      <td>1424</td>\n",
              "      <td>61</td>\n",
              "    </tr>\n",
              "    <tr>\n",
              "      <th>56</th>\n",
              "      <td>2021년 08월 29일 00시</td>\n",
              "      <td>합계</td>\n",
              "      <td>2279</td>\n",
              "      <td>248560</td>\n",
              "      <td>27555</td>\n",
              "      <td>1619</td>\n",
              "      <td>1576</td>\n",
              "      <td>43</td>\n",
              "    </tr>\n",
              "    <tr>\n",
              "      <th>75</th>\n",
              "      <td>2021년 08월 28일 00시</td>\n",
              "      <td>합계</td>\n",
              "      <td>2276</td>\n",
              "      <td>246943</td>\n",
              "      <td>27678</td>\n",
              "      <td>1791</td>\n",
              "      <td>1736</td>\n",
              "      <td>55</td>\n",
              "    </tr>\n",
              "    <tr>\n",
              "      <th>94</th>\n",
              "      <td>2021년 08월 27일 00시</td>\n",
              "      <td>합계</td>\n",
              "      <td>2265</td>\n",
              "      <td>245152</td>\n",
              "      <td>28214</td>\n",
              "      <td>1838</td>\n",
              "      <td>1808</td>\n",
              "      <td>30</td>\n",
              "    </tr>\n",
              "    <tr>\n",
              "      <th>113</th>\n",
              "      <td>2021년 08월 26일 00시</td>\n",
              "      <td>합계</td>\n",
              "      <td>2257</td>\n",
              "      <td>243314</td>\n",
              "      <td>28186</td>\n",
              "      <td>1882</td>\n",
              "      <td>1829</td>\n",
              "      <td>53</td>\n",
              "    </tr>\n",
              "    <tr>\n",
              "      <th>132</th>\n",
              "      <td>2021년 08월 25일 00시</td>\n",
              "      <td>합계</td>\n",
              "      <td>2237</td>\n",
              "      <td>241433</td>\n",
              "      <td>28019</td>\n",
              "      <td>2154</td>\n",
              "      <td>2113</td>\n",
              "      <td>41</td>\n",
              "    </tr>\n",
              "    <tr>\n",
              "      <th>151</th>\n",
              "      <td>2021년 08월 24일 00시</td>\n",
              "      <td>합계</td>\n",
              "      <td>2228</td>\n",
              "      <td>239280</td>\n",
              "      <td>27859</td>\n",
              "      <td>1506</td>\n",
              "      <td>1468</td>\n",
              "      <td>38</td>\n",
              "    </tr>\n",
              "    <tr>\n",
              "      <th>170</th>\n",
              "      <td>2021년 08월 23일 00시</td>\n",
              "      <td>합계</td>\n",
              "      <td>2222</td>\n",
              "      <td>237772</td>\n",
              "      <td>27949</td>\n",
              "      <td>1416</td>\n",
              "      <td>1369</td>\n",
              "      <td>47</td>\n",
              "    </tr>\n",
              "    <tr>\n",
              "      <th>189</th>\n",
              "      <td>2021년 08월 22일 00시</td>\n",
              "      <td>합계</td>\n",
              "      <td>2215</td>\n",
              "      <td>236355</td>\n",
              "      <td>27864</td>\n",
              "      <td>1626</td>\n",
              "      <td>1588</td>\n",
              "      <td>38</td>\n",
              "    </tr>\n",
              "    <tr>\n",
              "      <th>208</th>\n",
              "      <td>2021년 08월 21일 00시</td>\n",
              "      <td>합계</td>\n",
              "      <td>2202</td>\n",
              "      <td>234729</td>\n",
              "      <td>28009</td>\n",
              "      <td>1876</td>\n",
              "      <td>1812</td>\n",
              "      <td>65</td>\n",
              "    </tr>\n",
              "    <tr>\n",
              "      <th>227</th>\n",
              "      <td>2021년 08월 20일 00시</td>\n",
              "      <td>합계</td>\n",
              "      <td>2197</td>\n",
              "      <td>232852</td>\n",
              "      <td>27880</td>\n",
              "      <td>2050</td>\n",
              "      <td>2000</td>\n",
              "      <td>50</td>\n",
              "    </tr>\n",
              "    <tr>\n",
              "      <th>246</th>\n",
              "      <td>2021년 08월 19일 00시</td>\n",
              "      <td>합계</td>\n",
              "      <td>2191</td>\n",
              "      <td>230802</td>\n",
              "      <td>27376</td>\n",
              "      <td>2152</td>\n",
              "      <td>2114</td>\n",
              "      <td>38</td>\n",
              "    </tr>\n",
              "    <tr>\n",
              "      <th>265</th>\n",
              "      <td>2021년 08월 18일 00시</td>\n",
              "      <td>합계</td>\n",
              "      <td>2178</td>\n",
              "      <td>228650</td>\n",
              "      <td>26890</td>\n",
              "      <td>1803</td>\n",
              "      <td>1766</td>\n",
              "      <td>37</td>\n",
              "    </tr>\n",
              "    <tr>\n",
              "      <th>284</th>\n",
              "      <td>2021년 08월 17일 00시</td>\n",
              "      <td>합계</td>\n",
              "      <td>2173</td>\n",
              "      <td>226848</td>\n",
              "      <td>27451</td>\n",
              "      <td>1372</td>\n",
              "      <td>1322</td>\n",
              "      <td>50</td>\n",
              "    </tr>\n",
              "    <tr>\n",
              "      <th>303</th>\n",
              "      <td>2021년 08월 16일 00시</td>\n",
              "      <td>합계</td>\n",
              "      <td>2167</td>\n",
              "      <td>225476</td>\n",
              "      <td>27111</td>\n",
              "      <td>1555</td>\n",
              "      <td>1492</td>\n",
              "      <td>63</td>\n",
              "    </tr>\n",
              "    <tr>\n",
              "      <th>322</th>\n",
              "      <td>2021년 08월 15일 00시</td>\n",
              "      <td>합계</td>\n",
              "      <td>2156</td>\n",
              "      <td>223921</td>\n",
              "      <td>26662</td>\n",
              "      <td>1816</td>\n",
              "      <td>1748</td>\n",
              "      <td>68</td>\n",
              "    </tr>\n",
              "    <tr>\n",
              "      <th>341</th>\n",
              "      <td>2021년 08월 14일 00시</td>\n",
              "      <td>합계</td>\n",
              "      <td>2148</td>\n",
              "      <td>222105</td>\n",
              "      <td>26179</td>\n",
              "      <td>1928</td>\n",
              "      <td>1858</td>\n",
              "      <td>70</td>\n",
              "    </tr>\n",
              "    <tr>\n",
              "      <th>360</th>\n",
              "      <td>2021년 08월 13일 00시</td>\n",
              "      <td>합계</td>\n",
              "      <td>2144</td>\n",
              "      <td>220177</td>\n",
              "      <td>25786</td>\n",
              "      <td>1989</td>\n",
              "      <td>1913</td>\n",
              "      <td>76</td>\n",
              "    </tr>\n",
              "    <tr>\n",
              "      <th>379</th>\n",
              "      <td>2021년 08월 12일 00시</td>\n",
              "      <td>합계</td>\n",
              "      <td>2138</td>\n",
              "      <td>218189</td>\n",
              "      <td>25516</td>\n",
              "      <td>1987</td>\n",
              "      <td>1947</td>\n",
              "      <td>40</td>\n",
              "    </tr>\n",
              "    <tr>\n",
              "      <th>398</th>\n",
              "      <td>2021년 08월 11일 00시</td>\n",
              "      <td>합계</td>\n",
              "      <td>2135</td>\n",
              "      <td>216202</td>\n",
              "      <td>24561</td>\n",
              "      <td>2221</td>\n",
              "      <td>2144</td>\n",
              "      <td>77</td>\n",
              "    </tr>\n",
              "    <tr>\n",
              "      <th>417</th>\n",
              "      <td>2021년 08월 10일 00시</td>\n",
              "      <td>합계</td>\n",
              "      <td>2134</td>\n",
              "      <td>213981</td>\n",
              "      <td>24324</td>\n",
              "      <td>1536</td>\n",
              "      <td>1474</td>\n",
              "      <td>63</td>\n",
              "    </tr>\n",
              "    <tr>\n",
              "      <th>436</th>\n",
              "      <td>2021년 08월 09일 00시</td>\n",
              "      <td>합계</td>\n",
              "      <td>2125</td>\n",
              "      <td>212444</td>\n",
              "      <td>24077</td>\n",
              "      <td>1490</td>\n",
              "      <td>1455</td>\n",
              "      <td>36</td>\n",
              "    </tr>\n",
              "    <tr>\n",
              "      <th>455</th>\n",
              "      <td>2021년 08월 08일 00시</td>\n",
              "      <td>합계</td>\n",
              "      <td>2121</td>\n",
              "      <td>210953</td>\n",
              "      <td>23829</td>\n",
              "      <td>1728</td>\n",
              "      <td>1669</td>\n",
              "      <td>59</td>\n",
              "    </tr>\n",
              "  </tbody>\n",
              "</table>\n",
              "</div>"
            ],
            "text/plain": [
              "                stdday  ji  deathcnt  ...  incdec  local  overflow\n",
              "18   2021년 08월 31일 00시  합계      2285  ...    1370   1331        39\n",
              "37   2021년 08월 30일 00시  합계      2284  ...    1485   1424        61\n",
              "56   2021년 08월 29일 00시  합계      2279  ...    1619   1576        43\n",
              "75   2021년 08월 28일 00시  합계      2276  ...    1791   1736        55\n",
              "94   2021년 08월 27일 00시  합계      2265  ...    1838   1808        30\n",
              "113  2021년 08월 26일 00시  합계      2257  ...    1882   1829        53\n",
              "132  2021년 08월 25일 00시  합계      2237  ...    2154   2113        41\n",
              "151  2021년 08월 24일 00시  합계      2228  ...    1506   1468        38\n",
              "170  2021년 08월 23일 00시  합계      2222  ...    1416   1369        47\n",
              "189  2021년 08월 22일 00시  합계      2215  ...    1626   1588        38\n",
              "208  2021년 08월 21일 00시  합계      2202  ...    1876   1812        65\n",
              "227  2021년 08월 20일 00시  합계      2197  ...    2050   2000        50\n",
              "246  2021년 08월 19일 00시  합계      2191  ...    2152   2114        38\n",
              "265  2021년 08월 18일 00시  합계      2178  ...    1803   1766        37\n",
              "284  2021년 08월 17일 00시  합계      2173  ...    1372   1322        50\n",
              "303  2021년 08월 16일 00시  합계      2167  ...    1555   1492        63\n",
              "322  2021년 08월 15일 00시  합계      2156  ...    1816   1748        68\n",
              "341  2021년 08월 14일 00시  합계      2148  ...    1928   1858        70\n",
              "360  2021년 08월 13일 00시  합계      2144  ...    1989   1913        76\n",
              "379  2021년 08월 12일 00시  합계      2138  ...    1987   1947        40\n",
              "398  2021년 08월 11일 00시  합계      2135  ...    2221   2144        77\n",
              "417  2021년 08월 10일 00시  합계      2134  ...    1536   1474        63\n",
              "436  2021년 08월 09일 00시  합계      2125  ...    1490   1455        36\n",
              "455  2021년 08월 08일 00시  합계      2121  ...    1728   1669        59\n",
              "\n",
              "[24 rows x 8 columns]"
            ]
          },
          "metadata": {},
          "execution_count": 19
        }
      ]
    },
    {
      "cell_type": "code",
      "metadata": {
        "colab": {
          "base_uri": "https://localhost:8080/",
          "height": 638
        },
        "id": "qJsg24nC8MTD",
        "outputId": "998159ff-b740-4410-b42a-0a3910031136"
      },
      "source": [
        "df[df['stdday']=='2021년 08월 31일 00시']"
      ],
      "execution_count": 20,
      "outputs": [
        {
          "output_type": "execute_result",
          "data": {
            "text/html": [
              "<div>\n",
              "<style scoped>\n",
              "    .dataframe tbody tr th:only-of-type {\n",
              "        vertical-align: middle;\n",
              "    }\n",
              "\n",
              "    .dataframe tbody tr th {\n",
              "        vertical-align: top;\n",
              "    }\n",
              "\n",
              "    .dataframe thead th {\n",
              "        text-align: right;\n",
              "    }\n",
              "</style>\n",
              "<table border=\"1\" class=\"dataframe\">\n",
              "  <thead>\n",
              "    <tr style=\"text-align: right;\">\n",
              "      <th></th>\n",
              "      <th>stdday</th>\n",
              "      <th>ji</th>\n",
              "      <th>deathcnt</th>\n",
              "      <th>defcnt</th>\n",
              "      <th>isolingcnt</th>\n",
              "      <th>incdec</th>\n",
              "      <th>local</th>\n",
              "      <th>overflow</th>\n",
              "    </tr>\n",
              "  </thead>\n",
              "  <tbody>\n",
              "    <tr>\n",
              "      <th>0</th>\n",
              "      <td>2021년 08월 31일 00시</td>\n",
              "      <td>검역</td>\n",
              "      <td>13</td>\n",
              "      <td>5836</td>\n",
              "      <td>511</td>\n",
              "      <td>13</td>\n",
              "      <td>0</td>\n",
              "      <td>13</td>\n",
              "    </tr>\n",
              "    <tr>\n",
              "      <th>1</th>\n",
              "      <td>2021년 08월 31일 00시</td>\n",
              "      <td>제주</td>\n",
              "      <td>2</td>\n",
              "      <td>2602</td>\n",
              "      <td>270</td>\n",
              "      <td>9</td>\n",
              "      <td>8</td>\n",
              "      <td>1</td>\n",
              "    </tr>\n",
              "    <tr>\n",
              "      <th>2</th>\n",
              "      <td>2021년 08월 31일 00시</td>\n",
              "      <td>경남</td>\n",
              "      <td>31</td>\n",
              "      <td>9980</td>\n",
              "      <td>858</td>\n",
              "      <td>56</td>\n",
              "      <td>56</td>\n",
              "      <td>0</td>\n",
              "    </tr>\n",
              "    <tr>\n",
              "      <th>3</th>\n",
              "      <td>2021년 08월 31일 00시</td>\n",
              "      <td>경북</td>\n",
              "      <td>88</td>\n",
              "      <td>7100</td>\n",
              "      <td>618</td>\n",
              "      <td>27</td>\n",
              "      <td>27</td>\n",
              "      <td>0</td>\n",
              "    </tr>\n",
              "    <tr>\n",
              "      <th>4</th>\n",
              "      <td>2021년 08월 31일 00시</td>\n",
              "      <td>전남</td>\n",
              "      <td>19</td>\n",
              "      <td>2600</td>\n",
              "      <td>206</td>\n",
              "      <td>14</td>\n",
              "      <td>13</td>\n",
              "      <td>1</td>\n",
              "    </tr>\n",
              "    <tr>\n",
              "      <th>5</th>\n",
              "      <td>2021년 08월 31일 00시</td>\n",
              "      <td>전북</td>\n",
              "      <td>60</td>\n",
              "      <td>3588</td>\n",
              "      <td>354</td>\n",
              "      <td>26</td>\n",
              "      <td>26</td>\n",
              "      <td>0</td>\n",
              "    </tr>\n",
              "    <tr>\n",
              "      <th>6</th>\n",
              "      <td>2021년 08월 31일 00시</td>\n",
              "      <td>충남</td>\n",
              "      <td>55</td>\n",
              "      <td>6937</td>\n",
              "      <td>1098</td>\n",
              "      <td>38</td>\n",
              "      <td>37</td>\n",
              "      <td>1</td>\n",
              "    </tr>\n",
              "    <tr>\n",
              "      <th>7</th>\n",
              "      <td>2021년 08월 31일 00시</td>\n",
              "      <td>충북</td>\n",
              "      <td>73</td>\n",
              "      <td>5152</td>\n",
              "      <td>455</td>\n",
              "      <td>15</td>\n",
              "      <td>15</td>\n",
              "      <td>0</td>\n",
              "    </tr>\n",
              "    <tr>\n",
              "      <th>8</th>\n",
              "      <td>2021년 08월 31일 00시</td>\n",
              "      <td>강원</td>\n",
              "      <td>59</td>\n",
              "      <td>5460</td>\n",
              "      <td>396</td>\n",
              "      <td>30</td>\n",
              "      <td>29</td>\n",
              "      <td>1</td>\n",
              "    </tr>\n",
              "    <tr>\n",
              "      <th>9</th>\n",
              "      <td>2021년 08월 31일 00시</td>\n",
              "      <td>경기</td>\n",
              "      <td>747</td>\n",
              "      <td>71081</td>\n",
              "      <td>8733</td>\n",
              "      <td>433</td>\n",
              "      <td>419</td>\n",
              "      <td>14</td>\n",
              "    </tr>\n",
              "    <tr>\n",
              "      <th>10</th>\n",
              "      <td>2021년 08월 31일 00시</td>\n",
              "      <td>세종</td>\n",
              "      <td>1</td>\n",
              "      <td>993</td>\n",
              "      <td>101</td>\n",
              "      <td>8</td>\n",
              "      <td>8</td>\n",
              "      <td>0</td>\n",
              "    </tr>\n",
              "    <tr>\n",
              "      <th>11</th>\n",
              "      <td>2021년 08월 31일 00시</td>\n",
              "      <td>울산</td>\n",
              "      <td>41</td>\n",
              "      <td>4175</td>\n",
              "      <td>340</td>\n",
              "      <td>24</td>\n",
              "      <td>24</td>\n",
              "      <td>0</td>\n",
              "    </tr>\n",
              "    <tr>\n",
              "      <th>12</th>\n",
              "      <td>2021년 08월 31일 00시</td>\n",
              "      <td>대전</td>\n",
              "      <td>36</td>\n",
              "      <td>5647</td>\n",
              "      <td>874</td>\n",
              "      <td>34</td>\n",
              "      <td>34</td>\n",
              "      <td>0</td>\n",
              "    </tr>\n",
              "    <tr>\n",
              "      <th>13</th>\n",
              "      <td>2021년 08월 31일 00시</td>\n",
              "      <td>광주</td>\n",
              "      <td>25</td>\n",
              "      <td>4053</td>\n",
              "      <td>233</td>\n",
              "      <td>19</td>\n",
              "      <td>17</td>\n",
              "      <td>2</td>\n",
              "    </tr>\n",
              "    <tr>\n",
              "      <th>14</th>\n",
              "      <td>2021년 08월 31일 00시</td>\n",
              "      <td>인천</td>\n",
              "      <td>77</td>\n",
              "      <td>11827</td>\n",
              "      <td>1258</td>\n",
              "      <td>73</td>\n",
              "      <td>72</td>\n",
              "      <td>1</td>\n",
              "    </tr>\n",
              "    <tr>\n",
              "      <th>15</th>\n",
              "      <td>2021년 08월 31일 00시</td>\n",
              "      <td>대구</td>\n",
              "      <td>227</td>\n",
              "      <td>13646</td>\n",
              "      <td>790</td>\n",
              "      <td>51</td>\n",
              "      <td>50</td>\n",
              "      <td>1</td>\n",
              "    </tr>\n",
              "    <tr>\n",
              "      <th>16</th>\n",
              "      <td>2021년 08월 31일 00시</td>\n",
              "      <td>부산</td>\n",
              "      <td>148</td>\n",
              "      <td>11386</td>\n",
              "      <td>966</td>\n",
              "      <td>44</td>\n",
              "      <td>44</td>\n",
              "      <td>0</td>\n",
              "    </tr>\n",
              "    <tr>\n",
              "      <th>17</th>\n",
              "      <td>2021년 08월 31일 00시</td>\n",
              "      <td>서울</td>\n",
              "      <td>583</td>\n",
              "      <td>79352</td>\n",
              "      <td>9368</td>\n",
              "      <td>456</td>\n",
              "      <td>452</td>\n",
              "      <td>4</td>\n",
              "    </tr>\n",
              "    <tr>\n",
              "      <th>18</th>\n",
              "      <td>2021년 08월 31일 00시</td>\n",
              "      <td>합계</td>\n",
              "      <td>2285</td>\n",
              "      <td>251415</td>\n",
              "      <td>27429</td>\n",
              "      <td>1370</td>\n",
              "      <td>1331</td>\n",
              "      <td>39</td>\n",
              "    </tr>\n",
              "  </tbody>\n",
              "</table>\n",
              "</div>"
            ],
            "text/plain": [
              "               stdday  ji  deathcnt  ...  incdec  local  overflow\n",
              "0   2021년 08월 31일 00시  검역        13  ...      13      0        13\n",
              "1   2021년 08월 31일 00시  제주         2  ...       9      8         1\n",
              "2   2021년 08월 31일 00시  경남        31  ...      56     56         0\n",
              "3   2021년 08월 31일 00시  경북        88  ...      27     27         0\n",
              "4   2021년 08월 31일 00시  전남        19  ...      14     13         1\n",
              "5   2021년 08월 31일 00시  전북        60  ...      26     26         0\n",
              "6   2021년 08월 31일 00시  충남        55  ...      38     37         1\n",
              "7   2021년 08월 31일 00시  충북        73  ...      15     15         0\n",
              "8   2021년 08월 31일 00시  강원        59  ...      30     29         1\n",
              "9   2021년 08월 31일 00시  경기       747  ...     433    419        14\n",
              "10  2021년 08월 31일 00시  세종         1  ...       8      8         0\n",
              "11  2021년 08월 31일 00시  울산        41  ...      24     24         0\n",
              "12  2021년 08월 31일 00시  대전        36  ...      34     34         0\n",
              "13  2021년 08월 31일 00시  광주        25  ...      19     17         2\n",
              "14  2021년 08월 31일 00시  인천        77  ...      73     72         1\n",
              "15  2021년 08월 31일 00시  대구       227  ...      51     50         1\n",
              "16  2021년 08월 31일 00시  부산       148  ...      44     44         0\n",
              "17  2021년 08월 31일 00시  서울       583  ...     456    452         4\n",
              "18  2021년 08월 31일 00시  합계      2285  ...    1370   1331        39\n",
              "\n",
              "[19 rows x 8 columns]"
            ]
          },
          "metadata": {},
          "execution_count": 20
        }
      ]
    },
    {
      "cell_type": "code",
      "metadata": {
        "colab": {
          "base_uri": "https://localhost:8080/"
        },
        "id": "RIBZcr7W7WVv",
        "outputId": "2e72600f-fa06-4c08-d1c6-724e642fafc9"
      },
      "source": [
        "df['defcnt'].groupby(df['ji']).sum()"
      ],
      "execution_count": 21,
      "outputs": [
        {
          "output_type": "execute_result",
          "data": {
            "text/plain": [
              "ji\n",
              "강원     126546\n",
              "검역     157110\n",
              "경기    1682105\n",
              "경남     249346\n",
              "경북     178238\n",
              "광주     104962\n",
              "대구     357147\n",
              "대전     142351\n",
              "부산     275498\n",
              "서울    1965322\n",
              "세종      23212\n",
              "울산     104332\n",
              "인천     296572\n",
              "전남      65681\n",
              "전북      89329\n",
              "제주      61652\n",
              "충남     169354\n",
              "충북     116718\n",
              "합계    5557598\n",
              "Name: defcnt, dtype: int64"
            ]
          },
          "metadata": {},
          "execution_count": 21
        }
      ]
    },
    {
      "cell_type": "markdown",
      "metadata": {
        "id": "Oq7ET1Da8V9w"
      },
      "source": [
        "## 전처리\n",
        "- 합계와 검역자료를 제거\n",
        "- 날짜데이터를 형식을 날짜형식으로 변경해서 년, 월, 일 단위로 쪼갬"
      ]
    },
    {
      "cell_type": "code",
      "metadata": {
        "colab": {
          "base_uri": "https://localhost:8080/"
        },
        "id": "LyNY_lXe76uA",
        "outputId": "5579e293-04b9-4959-cf48-e9d5826798a3"
      },
      "source": [
        "# 조건에 맞는 데이터 제거하고 새로운 데이터 프레임 제작\n",
        "# 방법1)\n",
        "newDf=df[(df['ji']!='검역')&(df['ji']!='합계')]\n",
        "newDf['defcnt'].groupby(df['ji']).sum()\n",
        "# 방법2) newDf=df를 하고 조건에 맞는 자료만 drop(행단위로 axis=0)\n",
        "# 방법3) newDf=df를 하고 조건에 맞는 자료를 nan으로 변경한 뒤 dropna로 제거"
      ],
      "execution_count": 22,
      "outputs": [
        {
          "output_type": "execute_result",
          "data": {
            "text/plain": [
              "ji\n",
              "강원     126546\n",
              "경기    1682105\n",
              "경남     249346\n",
              "경북     178238\n",
              "광주     104962\n",
              "대구     357147\n",
              "대전     142351\n",
              "부산     275498\n",
              "서울    1965322\n",
              "세종      23212\n",
              "울산     104332\n",
              "인천     296572\n",
              "전남      65681\n",
              "전북      89329\n",
              "제주      61652\n",
              "충남     169354\n",
              "충북     116718\n",
              "Name: defcnt, dtype: int64"
            ]
          },
          "metadata": {},
          "execution_count": 22
        }
      ]
    },
    {
      "cell_type": "markdown",
      "metadata": {
        "id": "xgbjJaOZ-R-q"
      },
      "source": [
        "- 상관도"
      ]
    },
    {
      "cell_type": "code",
      "metadata": {
        "colab": {
          "base_uri": "https://localhost:8080/",
          "height": 235
        },
        "id": "Y3MAQuMX8e7I",
        "outputId": "b1aecf77-e5ea-4378-b142-d9fe4f9732b4"
      },
      "source": [
        "newDf.corr()"
      ],
      "execution_count": 23,
      "outputs": [
        {
          "output_type": "execute_result",
          "data": {
            "text/html": [
              "<div>\n",
              "<style scoped>\n",
              "    .dataframe tbody tr th:only-of-type {\n",
              "        vertical-align: middle;\n",
              "    }\n",
              "\n",
              "    .dataframe tbody tr th {\n",
              "        vertical-align: top;\n",
              "    }\n",
              "\n",
              "    .dataframe thead th {\n",
              "        text-align: right;\n",
              "    }\n",
              "</style>\n",
              "<table border=\"1\" class=\"dataframe\">\n",
              "  <thead>\n",
              "    <tr style=\"text-align: right;\">\n",
              "      <th></th>\n",
              "      <th>deathcnt</th>\n",
              "      <th>defcnt</th>\n",
              "      <th>isolingcnt</th>\n",
              "      <th>incdec</th>\n",
              "      <th>local</th>\n",
              "      <th>overflow</th>\n",
              "    </tr>\n",
              "  </thead>\n",
              "  <tbody>\n",
              "    <tr>\n",
              "      <th>deathcnt</th>\n",
              "      <td>1.000000</td>\n",
              "      <td>0.962850</td>\n",
              "      <td>0.942039</td>\n",
              "      <td>0.942731</td>\n",
              "      <td>0.941928</td>\n",
              "      <td>0.752914</td>\n",
              "    </tr>\n",
              "    <tr>\n",
              "      <th>defcnt</th>\n",
              "      <td>0.962850</td>\n",
              "      <td>1.000000</td>\n",
              "      <td>0.993543</td>\n",
              "      <td>0.968791</td>\n",
              "      <td>0.968815</td>\n",
              "      <td>0.731520</td>\n",
              "    </tr>\n",
              "    <tr>\n",
              "      <th>isolingcnt</th>\n",
              "      <td>0.942039</td>\n",
              "      <td>0.993543</td>\n",
              "      <td>1.000000</td>\n",
              "      <td>0.969242</td>\n",
              "      <td>0.969495</td>\n",
              "      <td>0.720412</td>\n",
              "    </tr>\n",
              "    <tr>\n",
              "      <th>incdec</th>\n",
              "      <td>0.942731</td>\n",
              "      <td>0.968791</td>\n",
              "      <td>0.969242</td>\n",
              "      <td>1.000000</td>\n",
              "      <td>0.999914</td>\n",
              "      <td>0.760173</td>\n",
              "    </tr>\n",
              "    <tr>\n",
              "      <th>local</th>\n",
              "      <td>0.941928</td>\n",
              "      <td>0.968815</td>\n",
              "      <td>0.969495</td>\n",
              "      <td>0.999914</td>\n",
              "      <td>1.000000</td>\n",
              "      <td>0.751582</td>\n",
              "    </tr>\n",
              "    <tr>\n",
              "      <th>overflow</th>\n",
              "      <td>0.752914</td>\n",
              "      <td>0.731520</td>\n",
              "      <td>0.720412</td>\n",
              "      <td>0.760173</td>\n",
              "      <td>0.751582</td>\n",
              "      <td>1.000000</td>\n",
              "    </tr>\n",
              "  </tbody>\n",
              "</table>\n",
              "</div>"
            ],
            "text/plain": [
              "            deathcnt    defcnt  isolingcnt    incdec     local  overflow\n",
              "deathcnt    1.000000  0.962850    0.942039  0.942731  0.941928  0.752914\n",
              "defcnt      0.962850  1.000000    0.993543  0.968791  0.968815  0.731520\n",
              "isolingcnt  0.942039  0.993543    1.000000  0.969242  0.969495  0.720412\n",
              "incdec      0.942731  0.968791    0.969242  1.000000  0.999914  0.760173\n",
              "local       0.941928  0.968815    0.969495  0.999914  1.000000  0.751582\n",
              "overflow    0.752914  0.731520    0.720412  0.760173  0.751582  1.000000"
            ]
          },
          "metadata": {},
          "execution_count": 23
        }
      ]
    },
    {
      "cell_type": "code",
      "metadata": {
        "colab": {
          "base_uri": "https://localhost:8080/",
          "height": 269
        },
        "id": "eBdCSZb_9YJj",
        "outputId": "5747e31f-02ec-445f-f8f1-24376da5b2b9"
      },
      "source": [
        "import seaborn as sns\n",
        "sns.heatmap(newDf.corr(), annot=True)\n",
        "plt.show()"
      ],
      "execution_count": 24,
      "outputs": [
        {
          "output_type": "display_data",
          "data": {
            "image/png": "[encoded data removed]",
            "text/plain": [
              "<Figure size 432x288 with 2 Axes>"
            ]
          },
          "metadata": {
            "needs_background": "light"
          }
        }
      ]
    },
    {
      "cell_type": "code",
      "metadata": {
        "colab": {
          "base_uri": "https://localhost:8080/",
          "height": 729
        },
        "id": "aRD3lKjK9n23",
        "outputId": "786d3014-523d-4933-cc31-9b54a22df3de"
      },
      "source": [
        "sns.clustermap(newDf.corr(), annot=True) # 연관성있는 변수들을 이어줌(의사결정트리)\n",
        "plt.show()"
      ],
      "execution_count": 25,
      "outputs": [
        {
          "output_type": "display_data",
          "data": {
            "image/png": "[encoded data removed]",
            "text/plain": [
              "<Figure size 720x720 with 4 Axes>"
            ]
          },
          "metadata": {
            "needs_background": "light"
          }
        }
      ]
    },
    {
      "cell_type": "markdown",
      "metadata": {
        "id": "fwlQFORT-UbX"
      },
      "source": [
        "- 날짜 형식 바꾸기"
      ]
    },
    {
      "cell_type": "code",
      "metadata": {
        "colab": {
          "base_uri": "https://localhost:8080/",
          "height": 419
        },
        "id": "gLe9Ml3e-BlI",
        "outputId": "961f942a-f7d6-4ec9-cdaa-8aca622e2439"
      },
      "source": [
        "# 날짜 형식은 년-월-일\n",
        "# 방법1) 속도가 오래걸림\n",
        "newDf['Date'] = newDf['stdday'].str.split('일').str[0]\n",
        "newDf['Date'] = newDf['Date'].str.replace('년','-')\n",
        "newDf['Date'] = newDf['Date'].str.replace('월','-')\n",
        "newDf['Date'] = newDf['Date'].str.replace(' ','')\n",
        "newDf"
      ],
      "execution_count": 26,
      "outputs": [
        {
          "output_type": "execute_result",
          "data": {
            "text/html": [
              "<div>\n",
              "<style scoped>\n",
              "    .dataframe tbody tr th:only-of-type {\n",
              "        vertical-align: middle;\n",
              "    }\n",
              "\n",
              "    .dataframe tbody tr th {\n",
              "        vertical-align: top;\n",
              "    }\n",
              "\n",
              "    .dataframe thead th {\n",
              "        text-align: right;\n",
              "    }\n",
              "</style>\n",
              "<table border=\"1\" class=\"dataframe\">\n",
              "  <thead>\n",
              "    <tr style=\"text-align: right;\">\n",
              "      <th></th>\n",
              "      <th>stdday</th>\n",
              "      <th>ji</th>\n",
              "      <th>deathcnt</th>\n",
              "      <th>defcnt</th>\n",
              "      <th>isolingcnt</th>\n",
              "      <th>incdec</th>\n",
              "      <th>local</th>\n",
              "      <th>overflow</th>\n",
              "      <th>Date</th>\n",
              "    </tr>\n",
              "  </thead>\n",
              "  <tbody>\n",
              "    <tr>\n",
              "      <th>1</th>\n",
              "      <td>2021년 08월 31일 00시</td>\n",
              "      <td>제주</td>\n",
              "      <td>2</td>\n",
              "      <td>2602</td>\n",
              "      <td>270</td>\n",
              "      <td>9</td>\n",
              "      <td>8</td>\n",
              "      <td>1</td>\n",
              "      <td>2021-08-31</td>\n",
              "    </tr>\n",
              "    <tr>\n",
              "      <th>2</th>\n",
              "      <td>2021년 08월 31일 00시</td>\n",
              "      <td>경남</td>\n",
              "      <td>31</td>\n",
              "      <td>9980</td>\n",
              "      <td>858</td>\n",
              "      <td>56</td>\n",
              "      <td>56</td>\n",
              "      <td>0</td>\n",
              "      <td>2021-08-31</td>\n",
              "    </tr>\n",
              "    <tr>\n",
              "      <th>3</th>\n",
              "      <td>2021년 08월 31일 00시</td>\n",
              "      <td>경북</td>\n",
              "      <td>88</td>\n",
              "      <td>7100</td>\n",
              "      <td>618</td>\n",
              "      <td>27</td>\n",
              "      <td>27</td>\n",
              "      <td>0</td>\n",
              "      <td>2021-08-31</td>\n",
              "    </tr>\n",
              "    <tr>\n",
              "      <th>4</th>\n",
              "      <td>2021년 08월 31일 00시</td>\n",
              "      <td>전남</td>\n",
              "      <td>19</td>\n",
              "      <td>2600</td>\n",
              "      <td>206</td>\n",
              "      <td>14</td>\n",
              "      <td>13</td>\n",
              "      <td>1</td>\n",
              "      <td>2021-08-31</td>\n",
              "    </tr>\n",
              "    <tr>\n",
              "      <th>5</th>\n",
              "      <td>2021년 08월 31일 00시</td>\n",
              "      <td>전북</td>\n",
              "      <td>60</td>\n",
              "      <td>3588</td>\n",
              "      <td>354</td>\n",
              "      <td>26</td>\n",
              "      <td>26</td>\n",
              "      <td>0</td>\n",
              "      <td>2021-08-31</td>\n",
              "    </tr>\n",
              "    <tr>\n",
              "      <th>...</th>\n",
              "      <td>...</td>\n",
              "      <td>...</td>\n",
              "      <td>...</td>\n",
              "      <td>...</td>\n",
              "      <td>...</td>\n",
              "      <td>...</td>\n",
              "      <td>...</td>\n",
              "      <td>...</td>\n",
              "      <td>...</td>\n",
              "    </tr>\n",
              "    <tr>\n",
              "      <th>511</th>\n",
              "      <td>2021년 08월 04일 00시</td>\n",
              "      <td>울산</td>\n",
              "      <td>41</td>\n",
              "      <td>3262</td>\n",
              "      <td>145</td>\n",
              "      <td>15</td>\n",
              "      <td>14</td>\n",
              "      <td>1</td>\n",
              "      <td>2021-08-04</td>\n",
              "    </tr>\n",
              "    <tr>\n",
              "      <th>512</th>\n",
              "      <td>2021년 08월 04일 00시</td>\n",
              "      <td>대전</td>\n",
              "      <td>30</td>\n",
              "      <td>4459</td>\n",
              "      <td>1121</td>\n",
              "      <td>59</td>\n",
              "      <td>59</td>\n",
              "      <td>0</td>\n",
              "      <td>2021-08-04</td>\n",
              "    </tr>\n",
              "    <tr>\n",
              "      <th>513</th>\n",
              "      <td>2021년 08월 04일 00시</td>\n",
              "      <td>광주</td>\n",
              "      <td>24</td>\n",
              "      <td>3464</td>\n",
              "      <td>215</td>\n",
              "      <td>16</td>\n",
              "      <td>15</td>\n",
              "      <td>1</td>\n",
              "      <td>2021-08-04</td>\n",
              "    </tr>\n",
              "    <tr>\n",
              "      <th>514</th>\n",
              "      <td>2021년 08월 04일 00시</td>\n",
              "      <td>인천</td>\n",
              "      <td>66</td>\n",
              "      <td>9342</td>\n",
              "      <td>1144</td>\n",
              "      <td>83</td>\n",
              "      <td>83</td>\n",
              "      <td>0</td>\n",
              "      <td>2021-08-04</td>\n",
              "    </tr>\n",
              "    <tr>\n",
              "      <th>515</th>\n",
              "      <td>2021년 08월 04일 00시</td>\n",
              "      <td>대구</td>\n",
              "      <td>222</td>\n",
              "      <td>11830</td>\n",
              "      <td>558</td>\n",
              "      <td>75</td>\n",
              "      <td>75</td>\n",
              "      <td>0</td>\n",
              "      <td>2021-08-04</td>\n",
              "    </tr>\n",
              "  </tbody>\n",
              "</table>\n",
              "<p>464 rows × 9 columns</p>\n",
              "</div>"
            ],
            "text/plain": [
              "                stdday  ji  deathcnt  ...  local  overflow        Date\n",
              "1    2021년 08월 31일 00시  제주         2  ...      8         1  2021-08-31\n",
              "2    2021년 08월 31일 00시  경남        31  ...     56         0  2021-08-31\n",
              "3    2021년 08월 31일 00시  경북        88  ...     27         0  2021-08-31\n",
              "4    2021년 08월 31일 00시  전남        19  ...     13         1  2021-08-31\n",
              "5    2021년 08월 31일 00시  전북        60  ...     26         0  2021-08-31\n",
              "..                 ...  ..       ...  ...    ...       ...         ...\n",
              "511  2021년 08월 04일 00시  울산        41  ...     14         1  2021-08-04\n",
              "512  2021년 08월 04일 00시  대전        30  ...     59         0  2021-08-04\n",
              "513  2021년 08월 04일 00시  광주        24  ...     15         1  2021-08-04\n",
              "514  2021년 08월 04일 00시  인천        66  ...     83         0  2021-08-04\n",
              "515  2021년 08월 04일 00시  대구       222  ...     75         0  2021-08-04\n",
              "\n",
              "[464 rows x 9 columns]"
            ]
          },
          "metadata": {},
          "execution_count": 26
        }
      ]
    },
    {
      "cell_type": "code",
      "metadata": {
        "id": "PW0rgB90-g3b",
        "colab": {
          "base_uri": "https://localhost:8080/",
          "height": 204
        },
        "outputId": "3a5c6c04-699e-4db3-c5fa-4baecf9a30e4"
      },
      "source": [
        "# 방법2) 훨씬 속도가 빠름\n",
        "date_list = []\n",
        "for i in newDf['stdday']:\n",
        "    date = i.split('일')[0]\n",
        "    date = date.replace('년','-')\n",
        "    date = date.replace('월','-')\n",
        "    date = date.replace(' ','')\n",
        "    date_list.append(date)\n",
        "newDf['Date'] = date_list\n",
        "newDf.head()"
      ],
      "execution_count": 35,
      "outputs": [
        {
          "output_type": "execute_result",
          "data": {
            "text/html": [
              "<div>\n",
              "<style scoped>\n",
              "    .dataframe tbody tr th:only-of-type {\n",
              "        vertical-align: middle;\n",
              "    }\n",
              "\n",
              "    .dataframe tbody tr th {\n",
              "        vertical-align: top;\n",
              "    }\n",
              "\n",
              "    .dataframe thead th {\n",
              "        text-align: right;\n",
              "    }\n",
              "</style>\n",
              "<table border=\"1\" class=\"dataframe\">\n",
              "  <thead>\n",
              "    <tr style=\"text-align: right;\">\n",
              "      <th></th>\n",
              "      <th>stdday</th>\n",
              "      <th>ji</th>\n",
              "      <th>deathcnt</th>\n",
              "      <th>defcnt</th>\n",
              "      <th>isolingcnt</th>\n",
              "      <th>incdec</th>\n",
              "      <th>local</th>\n",
              "      <th>overflow</th>\n",
              "      <th>Date</th>\n",
              "    </tr>\n",
              "  </thead>\n",
              "  <tbody>\n",
              "    <tr>\n",
              "      <th>1</th>\n",
              "      <td>2021년 08월 31일 00시</td>\n",
              "      <td>제주</td>\n",
              "      <td>2</td>\n",
              "      <td>2602</td>\n",
              "      <td>270</td>\n",
              "      <td>9</td>\n",
              "      <td>8</td>\n",
              "      <td>1</td>\n",
              "      <td>2021-08-31</td>\n",
              "    </tr>\n",
              "    <tr>\n",
              "      <th>2</th>\n",
              "      <td>2021년 08월 31일 00시</td>\n",
              "      <td>경남</td>\n",
              "      <td>31</td>\n",
              "      <td>9980</td>\n",
              "      <td>858</td>\n",
              "      <td>56</td>\n",
              "      <td>56</td>\n",
              "      <td>0</td>\n",
              "      <td>2021-08-31</td>\n",
              "    </tr>\n",
              "    <tr>\n",
              "      <th>3</th>\n",
              "      <td>2021년 08월 31일 00시</td>\n",
              "      <td>경북</td>\n",
              "      <td>88</td>\n",
              "      <td>7100</td>\n",
              "      <td>618</td>\n",
              "      <td>27</td>\n",
              "      <td>27</td>\n",
              "      <td>0</td>\n",
              "      <td>2021-08-31</td>\n",
              "    </tr>\n",
              "    <tr>\n",
              "      <th>4</th>\n",
              "      <td>2021년 08월 31일 00시</td>\n",
              "      <td>전남</td>\n",
              "      <td>19</td>\n",
              "      <td>2600</td>\n",
              "      <td>206</td>\n",
              "      <td>14</td>\n",
              "      <td>13</td>\n",
              "      <td>1</td>\n",
              "      <td>2021-08-31</td>\n",
              "    </tr>\n",
              "    <tr>\n",
              "      <th>5</th>\n",
              "      <td>2021년 08월 31일 00시</td>\n",
              "      <td>전북</td>\n",
              "      <td>60</td>\n",
              "      <td>3588</td>\n",
              "      <td>354</td>\n",
              "      <td>26</td>\n",
              "      <td>26</td>\n",
              "      <td>0</td>\n",
              "      <td>2021-08-31</td>\n",
              "    </tr>\n",
              "  </tbody>\n",
              "</table>\n",
              "</div>"
            ],
            "text/plain": [
              "              stdday  ji  deathcnt  defcnt  ...  incdec  local  overflow        Date\n",
              "1  2021년 08월 31일 00시  제주         2    2602  ...       9      8         1  2021-08-31\n",
              "2  2021년 08월 31일 00시  경남        31    9980  ...      56     56         0  2021-08-31\n",
              "3  2021년 08월 31일 00시  경북        88    7100  ...      27     27         0  2021-08-31\n",
              "4  2021년 08월 31일 00시  전남        19    2600  ...      14     13         1  2021-08-31\n",
              "5  2021년 08월 31일 00시  전북        60    3588  ...      26     26         0  2021-08-31\n",
              "\n",
              "[5 rows x 9 columns]"
            ]
          },
          "metadata": {},
          "execution_count": 35
        }
      ]
    },
    {
      "cell_type": "code",
      "metadata": {
        "colab": {
          "base_uri": "https://localhost:8080/"
        },
        "id": "eLXyU0VC_uw7",
        "outputId": "5e5d97a6-f5f0-49d3-d532-f75d29bbe5aa"
      },
      "source": [
        "newDf.info() # 아직 Date의 Dtyepe이 object"
      ],
      "execution_count": 36,
      "outputs": [
        {
          "output_type": "stream",
          "name": "stdout",
          "text": [
            "<class 'pandas.core.frame.DataFrame'>\n",
            "Int64Index: 464 entries, 1 to 515\n",
            "Data columns (total 9 columns):\n",
            " #   Column      Non-Null Count  Dtype \n",
            "---  ------      --------------  ----- \n",
            " 0   stdday      464 non-null    object\n",
            " 1   ji          464 non-null    object\n",
            " 2   deathcnt    464 non-null    int64 \n",
            " 3   defcnt      464 non-null    int64 \n",
            " 4   isolingcnt  464 non-null    int64 \n",
            " 5   incdec      464 non-null    int64 \n",
            " 6   local       464 non-null    int64 \n",
            " 7   overflow    464 non-null    int64 \n",
            " 8   Date        464 non-null    object\n",
            "dtypes: int64(6), object(3)\n",
            "memory usage: 56.2+ KB\n"
          ]
        }
      ]
    },
    {
      "cell_type": "code",
      "metadata": {
        "colab": {
          "base_uri": "https://localhost:8080/"
        },
        "id": "VKHtez0f_wEC",
        "outputId": "34ca2ab2-c981-431e-a728-c84e68fe8105"
      },
      "source": [
        "from datetime import datetime, timedelta\n",
        "newDf['Date'] = pd.to_datetime(newDf['Date']) # 날짜형으로 자료형을 바꿈\n",
        "newDf.info()"
      ],
      "execution_count": 37,
      "outputs": [
        {
          "output_type": "stream",
          "name": "stdout",
          "text": [
            "<class 'pandas.core.frame.DataFrame'>\n",
            "Int64Index: 464 entries, 1 to 515\n",
            "Data columns (total 9 columns):\n",
            " #   Column      Non-Null Count  Dtype         \n",
            "---  ------      --------------  -----         \n",
            " 0   stdday      464 non-null    object        \n",
            " 1   ji          464 non-null    object        \n",
            " 2   deathcnt    464 non-null    int64         \n",
            " 3   defcnt      464 non-null    int64         \n",
            " 4   isolingcnt  464 non-null    int64         \n",
            " 5   incdec      464 non-null    int64         \n",
            " 6   local       464 non-null    int64         \n",
            " 7   overflow    464 non-null    int64         \n",
            " 8   Date        464 non-null    datetime64[ns]\n",
            "dtypes: datetime64[ns](1), int64(6), object(2)\n",
            "memory usage: 56.2+ KB\n"
          ]
        }
      ]
    },
    {
      "cell_type": "code",
      "metadata": {
        "colab": {
          "base_uri": "https://localhost:8080/"
        },
        "id": "_nQ8WUdXAIAB",
        "outputId": "14ee8a9f-e3a2-4e48-c8f1-8f3c4a2ada1d"
      },
      "source": [
        "newDf['Date'].dt.year\n",
        "newDf['Date'].dt.month\n",
        "newDf['Date'].dt.day\n",
        "newDf['Date'].dt.day_name()"
      ],
      "execution_count": 38,
      "outputs": [
        {
          "output_type": "execute_result",
          "data": {
            "text/plain": [
              "1        Tuesday\n",
              "2        Tuesday\n",
              "3        Tuesday\n",
              "4        Tuesday\n",
              "5        Tuesday\n",
              "         ...    \n",
              "511    Wednesday\n",
              "512    Wednesday\n",
              "513    Wednesday\n",
              "514    Wednesday\n",
              "515    Wednesday\n",
              "Name: Date, Length: 464, dtype: object"
            ]
          },
          "metadata": {},
          "execution_count": 38
        }
      ]
    },
    {
      "cell_type": "code",
      "metadata": {
        "colab": {
          "base_uri": "https://localhost:8080/",
          "height": 419
        },
        "id": "EPXuKmspAS6d",
        "outputId": "6f06ed01-f861-4e05-feaf-079aa3aa5162"
      },
      "source": [
        "# 연도별, 월별 등 날짜별로 그룹화하기 위함\n",
        "newDf['year'] = newDf['Date'].dt.year\n",
        "newDf['month'] = newDf['Date'].dt.month\n",
        "newDf['dayName'] = newDf['Date'].dt.day_name()\n",
        "newDf"
      ],
      "execution_count": 39,
      "outputs": [
        {
          "output_type": "execute_result",
          "data": {
            "text/html": [
              "<div>\n",
              "<style scoped>\n",
              "    .dataframe tbody tr th:only-of-type {\n",
              "        vertical-align: middle;\n",
              "    }\n",
              "\n",
              "    .dataframe tbody tr th {\n",
              "        vertical-align: top;\n",
              "    }\n",
              "\n",
              "    .dataframe thead th {\n",
              "        text-align: right;\n",
              "    }\n",
              "</style>\n",
              "<table border=\"1\" class=\"dataframe\">\n",
              "  <thead>\n",
              "    <tr style=\"text-align: right;\">\n",
              "      <th></th>\n",
              "      <th>stdday</th>\n",
              "      <th>ji</th>\n",
              "      <th>deathcnt</th>\n",
              "      <th>defcnt</th>\n",
              "      <th>isolingcnt</th>\n",
              "      <th>incdec</th>\n",
              "      <th>local</th>\n",
              "      <th>overflow</th>\n",
              "      <th>Date</th>\n",
              "      <th>year</th>\n",
              "      <th>month</th>\n",
              "      <th>dayName</th>\n",
              "    </tr>\n",
              "  </thead>\n",
              "  <tbody>\n",
              "    <tr>\n",
              "      <th>1</th>\n",
              "      <td>2021년 08월 31일 00시</td>\n",
              "      <td>제주</td>\n",
              "      <td>2</td>\n",
              "      <td>2602</td>\n",
              "      <td>270</td>\n",
              "      <td>9</td>\n",
              "      <td>8</td>\n",
              "      <td>1</td>\n",
              "      <td>2021-08-31</td>\n",
              "      <td>2021</td>\n",
              "      <td>8</td>\n",
              "      <td>Tuesday</td>\n",
              "    </tr>\n",
              "    <tr>\n",
              "      <th>2</th>\n",
              "      <td>2021년 08월 31일 00시</td>\n",
              "      <td>경남</td>\n",
              "      <td>31</td>\n",
              "      <td>9980</td>\n",
              "      <td>858</td>\n",
              "      <td>56</td>\n",
              "      <td>56</td>\n",
              "      <td>0</td>\n",
              "      <td>2021-08-31</td>\n",
              "      <td>2021</td>\n",
              "      <td>8</td>\n",
              "      <td>Tuesday</td>\n",
              "    </tr>\n",
              "    <tr>\n",
              "      <th>3</th>\n",
              "      <td>2021년 08월 31일 00시</td>\n",
              "      <td>경북</td>\n",
              "      <td>88</td>\n",
              "      <td>7100</td>\n",
              "      <td>618</td>\n",
              "      <td>27</td>\n",
              "      <td>27</td>\n",
              "      <td>0</td>\n",
              "      <td>2021-08-31</td>\n",
              "      <td>2021</td>\n",
              "      <td>8</td>\n",
              "      <td>Tuesday</td>\n",
              "    </tr>\n",
              "    <tr>\n",
              "      <th>4</th>\n",
              "      <td>2021년 08월 31일 00시</td>\n",
              "      <td>전남</td>\n",
              "      <td>19</td>\n",
              "      <td>2600</td>\n",
              "      <td>206</td>\n",
              "      <td>14</td>\n",
              "      <td>13</td>\n",
              "      <td>1</td>\n",
              "      <td>2021-08-31</td>\n",
              "      <td>2021</td>\n",
              "      <td>8</td>\n",
              "      <td>Tuesday</td>\n",
              "    </tr>\n",
              "    <tr>\n",
              "      <th>5</th>\n",
              "      <td>2021년 08월 31일 00시</td>\n",
              "      <td>전북</td>\n",
              "      <td>60</td>\n",
              "      <td>3588</td>\n",
              "      <td>354</td>\n",
              "      <td>26</td>\n",
              "      <td>26</td>\n",
              "      <td>0</td>\n",
              "      <td>2021-08-31</td>\n",
              "      <td>2021</td>\n",
              "      <td>8</td>\n",
              "      <td>Tuesday</td>\n",
              "    </tr>\n",
              "    <tr>\n",
              "      <th>...</th>\n",
              "      <td>...</td>\n",
              "      <td>...</td>\n",
              "      <td>...</td>\n",
              "      <td>...</td>\n",
              "      <td>...</td>\n",
              "      <td>...</td>\n",
              "      <td>...</td>\n",
              "      <td>...</td>\n",
              "      <td>...</td>\n",
              "      <td>...</td>\n",
              "      <td>...</td>\n",
              "      <td>...</td>\n",
              "    </tr>\n",
              "    <tr>\n",
              "      <th>511</th>\n",
              "      <td>2021년 08월 04일 00시</td>\n",
              "      <td>울산</td>\n",
              "      <td>41</td>\n",
              "      <td>3262</td>\n",
              "      <td>145</td>\n",
              "      <td>15</td>\n",
              "      <td>14</td>\n",
              "      <td>1</td>\n",
              "      <td>2021-08-04</td>\n",
              "      <td>2021</td>\n",
              "      <td>8</td>\n",
              "      <td>Wednesday</td>\n",
              "    </tr>\n",
              "    <tr>\n",
              "      <th>512</th>\n",
              "      <td>2021년 08월 04일 00시</td>\n",
              "      <td>대전</td>\n",
              "      <td>30</td>\n",
              "      <td>4459</td>\n",
              "      <td>1121</td>\n",
              "      <td>59</td>\n",
              "      <td>59</td>\n",
              "      <td>0</td>\n",
              "      <td>2021-08-04</td>\n",
              "      <td>2021</td>\n",
              "      <td>8</td>\n",
              "      <td>Wednesday</td>\n",
              "    </tr>\n",
              "    <tr>\n",
              "      <th>513</th>\n",
              "      <td>2021년 08월 04일 00시</td>\n",
              "      <td>광주</td>\n",
              "      <td>24</td>\n",
              "      <td>3464</td>\n",
              "      <td>215</td>\n",
              "      <td>16</td>\n",
              "      <td>15</td>\n",
              "      <td>1</td>\n",
              "      <td>2021-08-04</td>\n",
              "      <td>2021</td>\n",
              "      <td>8</td>\n",
              "      <td>Wednesday</td>\n",
              "    </tr>\n",
              "    <tr>\n",
              "      <th>514</th>\n",
              "      <td>2021년 08월 04일 00시</td>\n",
              "      <td>인천</td>\n",
              "      <td>66</td>\n",
              "      <td>9342</td>\n",
              "      <td>1144</td>\n",
              "      <td>83</td>\n",
              "      <td>83</td>\n",
              "      <td>0</td>\n",
              "      <td>2021-08-04</td>\n",
              "      <td>2021</td>\n",
              "      <td>8</td>\n",
              "      <td>Wednesday</td>\n",
              "    </tr>\n",
              "    <tr>\n",
              "      <th>515</th>\n",
              "      <td>2021년 08월 04일 00시</td>\n",
              "      <td>대구</td>\n",
              "      <td>222</td>\n",
              "      <td>11830</td>\n",
              "      <td>558</td>\n",
              "      <td>75</td>\n",
              "      <td>75</td>\n",
              "      <td>0</td>\n",
              "      <td>2021-08-04</td>\n",
              "      <td>2021</td>\n",
              "      <td>8</td>\n",
              "      <td>Wednesday</td>\n",
              "    </tr>\n",
              "  </tbody>\n",
              "</table>\n",
              "<p>464 rows × 12 columns</p>\n",
              "</div>"
            ],
            "text/plain": [
              "                stdday  ji  deathcnt  defcnt  ...       Date  year  month    dayName\n",
              "1    2021년 08월 31일 00시  제주         2    2602  ... 2021-08-31  2021      8    Tuesday\n",
              "2    2021년 08월 31일 00시  경남        31    9980  ... 2021-08-31  2021      8    Tuesday\n",
              "3    2021년 08월 31일 00시  경북        88    7100  ... 2021-08-31  2021      8    Tuesday\n",
              "4    2021년 08월 31일 00시  전남        19    2600  ... 2021-08-31  2021      8    Tuesday\n",
              "5    2021년 08월 31일 00시  전북        60    3588  ... 2021-08-31  2021      8    Tuesday\n",
              "..                 ...  ..       ...     ...  ...        ...   ...    ...        ...\n",
              "511  2021년 08월 04일 00시  울산        41    3262  ... 2021-08-04  2021      8  Wednesday\n",
              "512  2021년 08월 04일 00시  대전        30    4459  ... 2021-08-04  2021      8  Wednesday\n",
              "513  2021년 08월 04일 00시  광주        24    3464  ... 2021-08-04  2021      8  Wednesday\n",
              "514  2021년 08월 04일 00시  인천        66    9342  ... 2021-08-04  2021      8  Wednesday\n",
              "515  2021년 08월 04일 00시  대구       222   11830  ... 2021-08-04  2021      8  Wednesday\n",
              "\n",
              "[464 rows x 12 columns]"
            ]
          },
          "metadata": {},
          "execution_count": 39
        }
      ]
    },
    {
      "cell_type": "code",
      "metadata": {
        "colab": {
          "base_uri": "https://localhost:8080/",
          "height": 294
        },
        "id": "-y1cMBJjA7yV",
        "outputId": "1feeae09-d9d3-475c-fcbc-7e3816998743"
      },
      "source": [
        "List = newDf['ji'].unique()\n",
        "i = List[0]\n",
        "tmp = newDf[newDf['ji']==i]\n",
        "sns.boxplot(x='dayName', y='defcnt', data=tmp)\n",
        "plt.title(f'{i}지역 요일별 상자그림')\n",
        "plt.show()"
      ],
      "execution_count": 40,
      "outputs": [
        {
          "output_type": "display_data",
          "data": {
            "image/png": "[encoded data removed]",
            "text/plain": [
              "<Figure size 432x288 with 1 Axes>"
            ]
          },
          "metadata": {
            "needs_background": "light"
          }
        }
      ]
    },
    {
      "cell_type": "code",
      "metadata": {
        "colab": {
          "base_uri": "https://localhost:8080/",
          "height": 1000
        },
        "id": "HMpHjRSDBWYb",
        "outputId": "19715092-b5f3-47ea-8787-519b1392c465"
      },
      "source": [
        "List = newDf['ji'].unique()\n",
        "for i in List:\n",
        "    tmp = newDf[newDf['ji']==i]\n",
        "    sns.boxplot(x='dayName', y='defcnt', data=tmp)\n",
        "    # sns.boxplot(x='month', y='defcnt', hue='dayName', data=tmp) # month가 다양한 경우\n",
        "    plt.title(f'{i}지역 요일별 상자그림', fontsize=17)\n",
        "    plt.show()"
      ],
      "execution_count": 41,
      "outputs": [
        {
          "output_type": "display_data",
          "data": {
            "image/png": "[encoded data removed]",
            "text/plain": [
              "<Figure size 432x288 with 1 Axes>"
            ]
          },
          "metadata": {
            "needs_background": "light"
          }
        },
        {
          "output_type": "display_data",
          "data": {
            "image/png": "[encoded data removed]",
            "text/plain": [
              "<Figure size 432x288 with 1 Axes>"
            ]
          },
          "metadata": {
            "needs_background": "light"
          }
        },
        {
          "output_type": "display_data",
          "data": {
            "image/png": "[encoded data removed]",
            "text/plain": [
              "<Figure size 432x288 with 1 Axes>"
            ]
          },
          "metadata": {
            "needs_background": "light"
          }
        },
        {
          "output_type": "display_data",
          "data": {
            "image/png": "[encoded data removed]",
            "text/plain": [
              "<Figure size 432x288 with 1 Axes>"
            ]
          },
          "metadata": {
            "needs_background": "light"
          }
        },
        {
          "output_type": "display_data",
          "data": {
            "image/png": "[encoded data removed]",
            "text/plain": [
              "<Figure size 432x288 with 1 Axes>"
            ]
          },
          "metadata": {
            "needs_background": "light"
          }
        },
        {
          "output_type": "display_data",
          "data": {
            "image/png": "[encoded data removed]",
            "text/plain": [
              "<Figure size 432x288 with 1 Axes>"
            ]
          },
          "metadata": {
            "needs_background": "light"
          }
        },
        {
          "output_type": "display_data",
          "data": {
            "image/png": "[encoded data removed]",
            "text/plain": [
              "<Figure size 432x288 with 1 Axes>"
            ]
          },
          "metadata": {
            "needs_background": "light"
          }
        },
        {
          "output_type": "display_data",
          "data": {
            "image/png": "[encoded data removed]",
            "text/plain": [
              "<Figure size 432x288 with 1 Axes>"
            ]
          },
          "metadata": {
            "needs_background": "light"
          }
        },
        {
          "output_type": "display_data",
          "data": {
            "image/png": "[encoded data removed]",
            "text/plain": [
              "<Figure size 432x288 with 1 Axes>"
            ]
          },
          "metadata": {
            "needs_background": "light"
          }
        },
        {
          "output_type": "display_data",
          "data": {
            "image/png": "[encoded data removed]",
            "text/plain": [
              "<Figure size 432x288 with 1 Axes>"
            ]
          },
          "metadata": {
            "needs_background": "light"
          }
        },
        {
          "output_type": "display_data",
          "data": {
            "image/png": "[encoded data removed]",
            "text/plain": [
              "<Figure size 432x288 with 1 Axes>"
            ]
          },
          "metadata": {
            "needs_background": "light"
          }
        },
        {
          "output_type": "display_data",
          "data": {
            "image/png": "[encoded data removed]",
            "text/plain": [
              "<Figure size 432x288 with 1 Axes>"
            ]
          },
          "metadata": {
            "needs_background": "light"
          }
        },
        {
          "output_type": "display_data",
          "data": {
            "image/png": "[encoded data removed]",
            "text/plain": [
              "<Figure size 432x288 with 1 Axes>"
            ]
          },
          "metadata": {
            "needs_background": "light"
          }
        },
        {
          "output_type": "display_data",
          "data": {
            "image/png": "[encoded data removed]",
            "text/plain": [
              "<Figure size 432x288 with 1 Axes>"
            ]
          },
          "metadata": {
            "needs_background": "light"
          }
        },
        {
          "output_type": "display_data",
          "data": {
            "image/png": "[encoded data removed]",
            "text/plain": [
              "<Figure size 432x288 with 1 Axes>"
            ]
          },
          "metadata": {
            "needs_background": "light"
          }
        },
        {
          "output_type": "display_data",
          "data": {
            "image/png": "[encoded data removed]",
            "text/plain": [
              "<Figure size 432x288 with 1 Axes>"
            ]
          },
          "metadata": {
            "needs_background": "light"
          }
        },
        {
          "output_type": "display_data",
          "data": {
            "image/png": "[encoded data removed]",
            "text/plain": [
              "<Figure size 432x288 with 1 Axes>"
            ]
          },
          "metadata": {
            "needs_background": "light"
          }
        }
      ]
    }
  ]
}