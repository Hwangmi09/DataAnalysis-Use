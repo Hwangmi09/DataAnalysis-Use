{
  "nbformat": 4,
  "nbformat_minor": 2,
  "metadata": {
    "colab": {
      "name": "32_프로젝트_모델학습및평가.ipynb",
      "provenance": [],
      "collapsed_sections": []
    },
    "kernelspec": {
      "display_name": "Python 3",
      "language": "python",
      "name": "python3"
    },
    "language_info": {
      "codemirror_mode": {
        "name": "ipython",
        "version": 3
      },
      "file_extension": ".py",
      "mimetype": "text/x-python",
      "name": "python",
      "nbconvert_exporter": "python",
      "pygments_lexer": "ipython3",
      "version": "3.8.8"
    }
  },
  "cells": [
    {
      "cell_type": "markdown",
      "source": [
        "## 모델 학습"
      ],
      "metadata": {
        "id": "RFzxIEDlCPHc"
      }
    },
    {
      "cell_type": "code",
      "execution_count": null,
      "source": [
        "# 한글 폰트 설정\r\n",
        "# !sudo apt-get install -y fonts-nanum > /dev/null\r\n",
        "# !sudo fc-cache -fv > /dev/null\r\n",
        "# !rm ~/.cache/matplotlib -rf > /dev/null\r\n",
        "\r\n",
        "# 런타임 재시작"
      ],
      "outputs": [],
      "metadata": {
        "id": "l1HwdaqMCoi9"
      }
    },
    {
      "cell_type": "code",
      "execution_count": null,
      "source": [
        "import warnings\r\n",
        "warnings.filterwarnings('ignore')"
      ],
      "outputs": [],
      "metadata": {
        "id": "50u1jVD-CzCJ"
      }
    },
    {
      "cell_type": "code",
      "execution_count": null,
      "source": [
        "from google.colab import drive\r\n",
        "drive.mount('/content/mnt/')"
      ],
      "outputs": [
        {
          "output_type": "stream",
          "name": "stdout",
          "text": [
            "Mounted at /content/mnt/\n"
          ]
        }
      ],
      "metadata": {
        "colab": {
          "base_uri": "https://localhost:8080/"
        },
        "id": "5_XTW3gKC1BG",
        "outputId": "2e4d33f3-da5f-4af4-ec5c-32db041dad3f"
      }
    },
    {
      "cell_type": "code",
      "execution_count": null,
      "source": [
        "import numpy as np\r\n",
        "import pandas as pd\r\n",
        "import matplotlib.pyplot as plt\r\n",
        "import seaborn as sns\r\n",
        "from lightgbm import LGBMClassifier\r\n",
        "from sklearn.preprocessing import OneHotEncoder, OrdinalEncoder\r\n",
        "from sklearn.model_selection import cross_validate"
      ],
      "outputs": [],
      "metadata": {
        "id": "QII-1dM0C_ot"
      }
    },
    {
      "cell_type": "code",
      "execution_count": null,
      "source": [
        "# train = pd.read_csv('/content/mnt/MyDrive/Project/data/prep_train.csv', encoding='utf-8')\r\n",
        "# test = pd.read_csv('/content/mnt/MyDrive/Project/data/prep_test.csv', encoding='utf-8')\r\n",
        "train = pd.read_csv('./prep_train.csv', encoding = 'utf-8')\r\n",
        "test = pd.read_csv('./prep_test.csv', encoding = 'utf-8')"
      ],
      "outputs": [],
      "metadata": {
        "id": "sWOZ7LeZB7XI"
      }
    },
    {
      "cell_type": "code",
      "execution_count": null,
      "source": [
        "train.info()"
      ],
      "outputs": [
        {
          "output_type": "stream",
          "name": "stdout",
          "text": [
            "<class 'pandas.core.frame.DataFrame'>\n",
            "RangeIndex: 26457 entries, 0 to 26456\n",
            "Data columns (total 27 columns):\n",
            " #   Column                        Non-Null Count  Dtype  \n",
            "---  ------                        --------------  -----  \n",
            " 0   gender                        26457 non-null  int64  \n",
            " 1   car                           26457 non-null  int64  \n",
            " 2   reality                       26457 non-null  int64  \n",
            " 3   child_num                     26457 non-null  int64  \n",
            " 4   income_total                  26457 non-null  float64\n",
            " 5   income_type                   26457 non-null  int64  \n",
            " 6   edu_type                      26457 non-null  int64  \n",
            " 7   family_type                   26457 non-null  int64  \n",
            " 8   house_type                    26457 non-null  int64  \n",
            " 9   DAYS_BIRTH                    26457 non-null  int64  \n",
            " 10  DAYS_EMPLOYED                 26457 non-null  int64  \n",
            " 11  family_size                   26457 non-null  float64\n",
            " 12  begin_month                   26457 non-null  float64\n",
            " 13  credit                        26457 non-null  float64\n",
            " 14  before_EMPLOYED               26457 non-null  int64  \n",
            " 15  income_total_befofeEMP_ratio  26457 non-null  float64\n",
            " 16  before_EMPLOYED_m             26457 non-null  float64\n",
            " 17  before_EMPLOYED_w             26457 non-null  float64\n",
            " 18  Age                           26457 non-null  int64  \n",
            " 19  DAYS_BIRTH_m                  26457 non-null  float64\n",
            " 20  DAYS_BIRTH_w                  26457 non-null  float64\n",
            " 21  EMPLOYED                      26457 non-null  int64  \n",
            " 22  DAYS_EMPLOYED_m               26457 non-null  float64\n",
            " 23  DAYS_EMPLOYED_w               26457 non-null  float64\n",
            " 24  ability                       26457 non-null  float64\n",
            " 25  income_mean                   26457 non-null  float64\n",
            " 26  ID                            26457 non-null  int64  \n",
            "dtypes: float64(13), int64(14)\n",
            "memory usage: 5.5 MB\n"
          ]
        }
      ],
      "metadata": {
        "id": "ekaKoUXtJWRX",
        "outputId": "ba57c524-d682-40b2-f5d8-f3225501132f"
      }
    },
    {
      "cell_type": "code",
      "execution_count": null,
      "source": [
        "train.std()"
      ],
      "outputs": [
        {
          "output_type": "execute_result",
          "data": {
            "text/plain": [
              "gender                              0.470619\n",
              "car                                 0.485333\n",
              "reality                             0.468784\n",
              "child_num                           0.711671\n",
              "income_total                        0.480820\n",
              "income_type                         0.978260\n",
              "edu_type                            0.558390\n",
              "family_type                         0.872751\n",
              "house_type                          0.587750\n",
              "DAYS_BIRTH                       4201.589022\n",
              "DAYS_EMPLOYED                    2370.140530\n",
              "family_size                         0.916717\n",
              "begin_month                        16.559550\n",
              "credit                              0.702283\n",
              "before_EMPLOYED                  4865.604165\n",
              "income_total_befofeEMP_ratio       10.349769\n",
              "before_EMPLOYED_m                   3.404029\n",
              "before_EMPLOYED_w                   1.119270\n",
              "Age                                11.512586\n",
              "DAYS_BIRTH_m                        3.447657\n",
              "DAYS_BIRTH_w                        1.113816\n",
              "EMPLOYED                            6.581320\n",
              "DAYS_EMPLOYED_m                     3.755738\n",
              "DAYS_EMPLOYED_w                     1.154893\n",
              "ability                             6.766690\n",
              "income_mean                     73184.330046\n",
              "ID                               2304.817899\n",
              "dtype: float64"
            ]
          },
          "metadata": {},
          "execution_count": 5
        }
      ],
      "metadata": {
        "id": "0ug99MZhCl7a",
        "outputId": "fe8f3518-db80-4ded-91d8-1f705af2a847"
      }
    },
    {
      "cell_type": "code",
      "execution_count": null,
      "source": [
        "from sklearn.preprocessing import StandardScaler\r\n",
        "numerical_feats = train.dtypes[train.dtypes != \"object\"].index.tolist()\r\n",
        "numerical_feats.remove('credit')\r\n",
        "numerical_feats.remove('income_total') # 이미 로그변환을 진행한 income_total을 제외한 나머지 numeric 컬럼 정규화\r\n",
        "scaler = StandardScaler()\r\n",
        "train[numerical_feats] = scaler.fit_transform(train[numerical_feats])\r\n",
        "test[numerical_feats] = scaler.transform(test[numerical_feats])"
      ],
      "outputs": [],
      "metadata": {
        "id": "umLntAqCK6il"
      }
    },
    {
      "cell_type": "markdown",
      "source": [
        "- 데이터 분리"
      ],
      "metadata": {
        "id": "sqqRGWwOORTx"
      }
    },
    {
      "cell_type": "code",
      "execution_count": null,
      "source": [
        "from sklearn.model_selection import train_test_split\r\n",
        "X = train.drop('credit', axis=1)\r\n",
        "y = train.credit\r\n",
        "X_train, X_test, y_train, y_test = train_test_split(X, y, stratify=y, test_size=0.3, random_state=2021)"
      ],
      "outputs": [],
      "metadata": {
        "id": "bbOIrpbMNrGY"
      }
    },
    {
      "cell_type": "code",
      "execution_count": null,
      "source": [
        "X_train.shape, X_test.shape, y_train.shape, y_test.shape"
      ],
      "outputs": [
        {
          "output_type": "execute_result",
          "data": {
            "text/plain": [
              "((18519, 26), (7938, 26), (18519,), (7938,))"
            ]
          },
          "metadata": {},
          "execution_count": 8
        }
      ],
      "metadata": {
        "id": "VHgnNnQwOzsS",
        "outputId": "239ae48d-07d3-43ea-b985-43dd56fe5856"
      }
    },
    {
      "cell_type": "markdown",
      "source": [
        "### 로지스틱 회귀"
      ],
      "metadata": {
        "id": "av8gjKErQfgI"
      }
    },
    {
      "cell_type": "code",
      "execution_count": null,
      "source": [
        "from sklearn.linear_model import LogisticRegression\r\n",
        "model_logit = LogisticRegression() # random_state=42\r\n",
        "model_logit.fit(X_train, y_train)"
      ],
      "outputs": [
        {
          "output_type": "execute_result",
          "data": {
            "text/plain": [
              "LogisticRegression()"
            ]
          },
          "metadata": {},
          "execution_count": 9
        }
      ],
      "metadata": {
        "id": "QEPv3kl9QVTr",
        "outputId": "de18b50f-62fd-4c32-87f7-e35fb33f26e1"
      }
    },
    {
      "cell_type": "code",
      "execution_count": null,
      "source": [
        "model_logit.score(X_train, y_train), model_logit.score(X_test, y_test) "
      ],
      "outputs": [
        {
          "output_type": "execute_result",
          "data": {
            "text/plain": [
              "(0.6446892380798099, 0.6436130007558579)"
            ]
          },
          "metadata": {},
          "execution_count": 10
        }
      ],
      "metadata": {
        "id": "YCY9bC2iQyAk",
        "outputId": "852b2fca-17fe-4328-b153-5811ed918ad3"
      }
    },
    {
      "cell_type": "code",
      "execution_count": null,
      "source": [
        "# 예측\r\n",
        "y_pred = model_logit.predict(X_test)"
      ],
      "outputs": [],
      "metadata": {
        "id": "CZ_SK5Z8Uzxa"
      }
    },
    {
      "cell_type": "code",
      "execution_count": null,
      "source": [
        "# 혼합행렬\r\n",
        "from sklearn.metrics import confusion_matrix\r\n",
        "print(confusion_matrix(y_test, y_pred_lr))\r\n",
        "\r\n",
        "sns.heatmap(confusion_matrix(y_test, y_pred), annot=True)\r\n",
        "plt.ylabel('Actual')\r\n",
        "plt.xlabel('Predicted')\r\n",
        "plt.show()"
      ],
      "outputs": [
        {
          "output_type": "stream",
          "name": "stdout",
          "text": [
            "[[   0    9  958]\n",
            " [   0   25 1855]\n",
            " [   0    7 5084]]\n"
          ]
        },
        {
          "output_type": "display_data",
          "data": {
            "image/png": "[encoded data removed]",
            "text/plain": [
              "<Figure size 432x288 with 2 Axes>"
            ]
          },
          "metadata": {
            "needs_background": "light"
          }
        }
      ],
      "metadata": {
        "id": "FFpi0ZhvVGk-",
        "outputId": "dd34670d-3141-4e89-e6c9-2ecf6896b3fd"
      }
    },
    {
      "cell_type": "code",
      "execution_count": null,
      "source": [
        "# 모형 성능 평가 - 평가지표 계산\r\n",
        "from sklearn.metrics import classification_report\r\n",
        "print(classification_report(y_test, y_pred))"
      ],
      "outputs": [
        {
          "output_type": "stream",
          "name": "stdout",
          "text": [
            "              precision    recall  f1-score   support\n",
            "\n",
            "         0.0       0.00      0.00      0.00       967\n",
            "         1.0       0.61      0.01      0.03      1880\n",
            "         2.0       0.64      1.00      0.78      5091\n",
            "\n",
            "    accuracy                           0.64      7938\n",
            "   macro avg       0.42      0.34      0.27      7938\n",
            "weighted avg       0.56      0.64      0.51      7938\n",
            "\n"
          ]
        }
      ],
      "metadata": {
        "id": "zqvzHCc2V2H-",
        "outputId": "93547a51-8f94-4a3a-ae11-3bf82419cf86"
      }
    },
    {
      "cell_type": "markdown",
      "source": [
        "### KNN"
      ],
      "metadata": {
        "id": "U0SqbT03WbeA"
      }
    },
    {
      "cell_type": "code",
      "execution_count": null,
      "source": [
        "from sklearn.neighbors import KNeighborsClassifier\r\n",
        "from sklearn.model_selection import GridSearchCV\r\n",
        "\r\n",
        "knn = KNeighborsClassifier()\r\n",
        "grid_search = GridSearchCV(knn, {'n_neighbors': [1,3,5,7]}, n_jobs=-1, cv=7, scoring='accuracy')"
      ],
      "outputs": [],
      "metadata": {
        "id": "x01g0gPPWaXH"
      }
    },
    {
      "cell_type": "code",
      "execution_count": null,
      "source": [
        "grid_search.fit(X_train, y_train)"
      ],
      "outputs": [
        {
          "output_type": "execute_result",
          "data": {
            "text/plain": [
              "GridSearchCV(cv=7, estimator=KNeighborsClassifier(), n_jobs=-1,\n",
              "             param_grid={'n_neighbors': [1, 3, 5, 7]}, scoring='accuracy')"
            ]
          },
          "metadata": {},
          "execution_count": 15
        }
      ],
      "metadata": {
        "id": "2pLRfP7_XB4U",
        "outputId": "24b057cf-93d1-4a26-d00c-f149772b94a4"
      }
    },
    {
      "cell_type": "code",
      "execution_count": null,
      "source": [
        "grid_search.best_params_"
      ],
      "outputs": [
        {
          "output_type": "execute_result",
          "data": {
            "text/plain": [
              "{'n_neighbors': 7}"
            ]
          },
          "metadata": {},
          "execution_count": 16
        }
      ],
      "metadata": {
        "id": "HjXP3UKAXMet",
        "outputId": "a99d15ff-e041-4231-a1b4-3efcd8cf6ea3"
      }
    },
    {
      "cell_type": "code",
      "execution_count": null,
      "source": [
        "knn_best = grid_search.best_estimator_"
      ],
      "outputs": [],
      "metadata": {
        "id": "eiNo_YsNXc74"
      }
    },
    {
      "cell_type": "code",
      "execution_count": null,
      "source": [
        "y_pred = knn_best.predict(X_test)"
      ],
      "outputs": [],
      "metadata": {
        "id": "i-KISDMAX1a7"
      }
    },
    {
      "cell_type": "code",
      "execution_count": null,
      "source": [
        "# 혼합행렬\r\n",
        "from sklearn.metrics import confusion_matrix\r\n",
        "print(confusion_matrix(y_test, y_pred))\r\n",
        "\r\n",
        "sns.heatmap(confusion_matrix(y_test, y_pred), annot=True)\r\n",
        "plt.ylabel('Actual')\r\n",
        "plt.xlabel('Predicted')\r\n",
        "plt.show()"
      ],
      "outputs": [
        {
          "output_type": "stream",
          "name": "stdout",
          "text": [
            "[[ 179  151  637]\n",
            " [  91  610 1179]\n",
            " [ 249  590 4252]]\n"
          ]
        },
        {
          "output_type": "display_data",
          "data": {
            "image/png": "[encoded data removed]",
            "text/plain": [
              "<Figure size 432x288 with 2 Axes>"
            ]
          },
          "metadata": {
            "needs_background": "light"
          }
        }
      ],
      "metadata": {
        "id": "uvAE6ht0X3xs",
        "outputId": "720bdcb8-89e4-47c3-f470-34f991d51659"
      }
    },
    {
      "cell_type": "code",
      "execution_count": null,
      "source": [
        "print(classification_report(y_test, y_pred))"
      ],
      "outputs": [
        {
          "output_type": "stream",
          "name": "stdout",
          "text": [
            "              precision    recall  f1-score   support\n",
            "\n",
            "         0.0       0.34      0.19      0.24       967\n",
            "         1.0       0.45      0.32      0.38      1880\n",
            "         2.0       0.70      0.84      0.76      5091\n",
            "\n",
            "    accuracy                           0.64      7938\n",
            "   macro avg       0.50      0.45      0.46      7938\n",
            "weighted avg       0.60      0.64      0.61      7938\n",
            "\n"
          ]
        }
      ],
      "metadata": {
        "id": "9t7gWXJNX57A",
        "outputId": "12696d37-d8c9-468c-8d78-2bce3b6040ad"
      }
    },
    {
      "cell_type": "markdown",
      "source": [
        "### SVM"
      ],
      "metadata": {
        "id": "_gjeHmDxYJCi"
      }
    },
    {
      "cell_type": "code",
      "execution_count": null,
      "source": [
        "from sklearn import svm\r\n",
        "\r\n",
        "svm_model = svm.SVC(kernel='rbf') # random_state=42"
      ],
      "outputs": [],
      "metadata": {
        "id": "F6dmE6r5ZEuD"
      }
    },
    {
      "cell_type": "code",
      "execution_count": null,
      "source": [
        "from sklearn.model_selection import GridSearchCV\r\n",
        "\r\n",
        "grid_search = GridSearchCV(svm_model, {'C': [1,2,3,4,5]}, n_jobs=-1, cv=7, scoring='accuracy')"
      ],
      "outputs": [],
      "metadata": {
        "id": "JaX2k7hsYDY1"
      }
    },
    {
      "cell_type": "code",
      "execution_count": null,
      "source": [
        "grid_search.fit(X_train, y_train)"
      ],
      "outputs": [
        {
          "output_type": "execute_result",
          "data": {
            "text/plain": [
              "GridSearchCV(cv=7, estimator=SVC(), n_jobs=-1,\n",
              "             param_grid={'C': [1, 2, 3, 4, 5]}, scoring='accuracy')"
            ]
          },
          "metadata": {},
          "execution_count": 23
        }
      ],
      "metadata": {
        "id": "2DphnJ32ZDdd",
        "outputId": "75d82e37-c162-4848-b021-b9e84ceccd7a"
      }
    },
    {
      "cell_type": "code",
      "execution_count": null,
      "source": [
        "grid_search.best_params_"
      ],
      "outputs": [
        {
          "output_type": "execute_result",
          "data": {
            "text/plain": [
              "{'C': 5}"
            ]
          },
          "metadata": {},
          "execution_count": 24
        }
      ],
      "metadata": {
        "id": "yhKDvgu_Zhtk",
        "outputId": "6453ca51-cad0-4e25-f982-30af2792c499"
      }
    },
    {
      "cell_type": "code",
      "execution_count": null,
      "source": [
        "svm_best = grid_search.best_estimator_"
      ],
      "outputs": [],
      "metadata": {
        "id": "gYM9OggnXg1F"
      }
    },
    {
      "cell_type": "code",
      "execution_count": null,
      "source": [
        "y_pred = svm_best.predict(X_test)"
      ],
      "outputs": [],
      "metadata": {
        "id": "6smuxv9dXg1F"
      }
    },
    {
      "cell_type": "code",
      "execution_count": null,
      "source": [
        "confusion_matrix(y_test, y_pred)\r\n",
        "\r\n",
        "sns.heatmap(confusion_matrix(y_test, y_pred), annot=True)\r\n",
        "plt.ylabel('Actual')\r\n",
        "plt.xlabel('Predicted')\r\n",
        "plt.show()"
      ],
      "outputs": [
        {
          "output_type": "display_data",
          "data": {
            "image/png": "[encoded data removed]",
            "text/plain": [
              "<Figure size 432x288 with 2 Axes>"
            ]
          },
          "metadata": {
            "needs_background": "light"
          }
        }
      ],
      "metadata": {
        "id": "Q9swnFUFXg1F",
        "outputId": "ca174fa9-bfe8-4ca4-df67-af90aa9427a1"
      }
    },
    {
      "cell_type": "code",
      "execution_count": null,
      "source": [
        "print(classification_report(y_test, y_pred))"
      ],
      "outputs": [
        {
          "output_type": "stream",
          "name": "stdout",
          "text": [
            "              precision    recall  f1-score   support\n",
            "\n",
            "         0.0       0.00      0.00      0.00       967\n",
            "         1.0       1.00      0.00      0.00      1880\n",
            "         2.0       0.64      1.00      0.78      5091\n",
            "\n",
            "    accuracy                           0.64      7938\n",
            "   macro avg       0.55      0.33      0.26      7938\n",
            "weighted avg       0.65      0.64      0.50      7938\n",
            "\n"
          ]
        }
      ],
      "metadata": {
        "id": "lp1vhq4vXg1G",
        "outputId": "f554fde4-a604-425f-ec3d-5ab05fd6d483"
      }
    },
    {
      "cell_type": "markdown",
      "source": [
        "### 결정트리"
      ],
      "metadata": {
        "id": "K7WG2cHxfu1b"
      }
    },
    {
      "cell_type": "code",
      "execution_count": null,
      "source": [
        "from sklearn.tree import DecisionTreeClassifier\r\n",
        "\r\n",
        "dt = DecisionTreeClassifier(random_state=42)\r\n",
        "dt.fit(X_train, y_train)"
      ],
      "outputs": [
        {
          "output_type": "execute_result",
          "data": {
            "text/plain": [
              "DecisionTreeClassifier(random_state=42)"
            ]
          },
          "metadata": {},
          "execution_count": 29
        }
      ],
      "metadata": {
        "id": "8pTJbacjeypR",
        "outputId": "009874fe-3b18-490e-b9f4-c3e84e499ffc"
      }
    },
    {
      "cell_type": "code",
      "execution_count": null,
      "source": [
        "# 예측\r\n",
        "y_pred = model_logit.predict(X_test)"
      ],
      "outputs": [],
      "metadata": {
        "id": "zRGCX_BFg5iI"
      }
    },
    {
      "cell_type": "code",
      "execution_count": null,
      "source": [
        "from sklearn.metrics import confusion_matrix\r\n",
        "print(confusion_matrix(y_test, y_pred))\r\n",
        "\r\n",
        "sns.heatmap(confusion_matrix(y_test, y_pred), annot=True)\r\n",
        "plt.ylabel('Actual')\r\n",
        "plt.xlabel('Predicted')\r\n",
        "plt.show()"
      ],
      "outputs": [
        {
          "output_type": "stream",
          "name": "stdout",
          "text": [
            "[[   0    9  958]\n",
            " [   0   25 1855]\n",
            " [   0    7 5084]]\n"
          ]
        },
        {
          "output_type": "display_data",
          "data": {
            "image/png": "[encoded data removed]",
            "text/plain": [
              "<Figure size 432x288 with 2 Axes>"
            ]
          },
          "metadata": {
            "needs_background": "light"
          }
        }
      ],
      "metadata": {
        "id": "iEx13sGbg-pk",
        "outputId": "25ba644e-c72a-4681-87e3-f65b5fbc9e08"
      }
    },
    {
      "cell_type": "code",
      "execution_count": null,
      "source": [
        "print(classification_report(y_test, y_pred))"
      ],
      "outputs": [
        {
          "output_type": "stream",
          "name": "stdout",
          "text": [
            "              precision    recall  f1-score   support\n",
            "\n",
            "         0.0       0.00      0.00      0.00       967\n",
            "         1.0       0.61      0.01      0.03      1880\n",
            "         2.0       0.64      1.00      0.78      5091\n",
            "\n",
            "    accuracy                           0.64      7938\n",
            "   macro avg       0.42      0.34      0.27      7938\n",
            "weighted avg       0.56      0.64      0.51      7938\n",
            "\n"
          ]
        }
      ],
      "metadata": {
        "id": "Oi98IuurhGU9",
        "outputId": "63f332d2-36c0-4cb5-9761-a3776b5180ce"
      }
    },
    {
      "cell_type": "code",
      "execution_count": null,
      "source": [
        "import matplotlib.pyplot as plt\r\n",
        "from sklearn.tree import plot_tree\r\n",
        "\r\n",
        "# plt.figure(figsize=(10,7))\r\n",
        "# plot_tree(dt)\r\n",
        "# plt.show()"
      ],
      "outputs": [],
      "metadata": {
        "id": "_WovRHBti28h"
      }
    },
    {
      "cell_type": "code",
      "execution_count": null,
      "source": [
        "# 가지치기\r\n",
        "dt = DecisionTreeClassifier(max_depth=3, random_state=42) \r\n",
        "dt.fit(X_train, y_train)"
      ],
      "outputs": [
        {
          "output_type": "execute_result",
          "data": {
            "text/plain": [
              "DecisionTreeClassifier(max_depth=3, random_state=42)"
            ]
          },
          "metadata": {},
          "execution_count": 34
        }
      ],
      "metadata": {
        "id": "PnuoKc4Uh27y",
        "outputId": "6c361ae7-0ac8-4dfe-faa9-50d7173160cd"
      }
    },
    {
      "cell_type": "code",
      "execution_count": null,
      "source": [
        "plt.figure(figsize=(10,7))\r\n",
        "plot_tree(dt, filled=True)\r\n",
        "plt.show()"
      ],
      "outputs": [
        {
          "output_type": "display_data",
          "data": {
            "image/png": "[encoded data removed]",
            "text/plain": [
              "<Figure size 720x504 with 1 Axes>"
            ]
          },
          "metadata": {
            "needs_background": "light"
          }
        }
      ],
      "metadata": {
        "id": "PZ1fMkCMi5pq",
        "outputId": "9105f0c7-e0f5-4da4-931f-dc790484e01a"
      }
    },
    {
      "cell_type": "code",
      "execution_count": null,
      "source": [
        "print(dt.feature_importances_)"
      ],
      "outputs": [
        {
          "output_type": "stream",
          "name": "stdout",
          "text": [
            "[0.         0.         0.         0.         0.         0.\n",
            " 0.         0.         0.         0.01502085 0.         0.\n",
            " 0.97369328 0.         0.         0.00298041 0.         0.\n",
            " 0.         0.         0.         0.         0.         0.\n",
            " 0.         0.00830546]\n"
          ]
        }
      ],
      "metadata": {
        "id": "KVmMGlr4jYOT",
        "outputId": "ed9c7dd2-f245-44ef-b356-8ed4c97cbbb6"
      }
    },
    {
      "cell_type": "code",
      "execution_count": null,
      "source": [
        "# feature 별 feature importance 매핑\r\n",
        "feature_names = X.columns.tolist()\r\n",
        "\r\n",
        "# feature 별 feature importance 매핑\r\n",
        "for name, value in zip(feature_names, dt.feature_importances_):\r\n",
        "    print('{0}: {1:.3f}'.format(name, value))\r\n",
        "\r\n",
        "# feature importance 시각화\r\n",
        "sns.barplot(x=dt.feature_importances_, y=feature_names)\r\n",
        "plt.show()"
      ],
      "outputs": [
        {
          "output_type": "stream",
          "name": "stdout",
          "text": [
            "gender: 0.000\n",
            "car: 0.000\n",
            "reality: 0.000\n",
            "child_num: 0.000\n",
            "income_total: 0.000\n",
            "income_type: 0.000\n",
            "edu_type: 0.000\n",
            "family_type: 0.000\n",
            "house_type: 0.000\n",
            "DAYS_BIRTH: 0.015\n",
            "DAYS_EMPLOYED: 0.000\n",
            "family_size: 0.000\n",
            "begin_month: 0.974\n",
            "before_EMPLOYED: 0.000\n",
            "income_total_befofeEMP_ratio: 0.000\n",
            "before_EMPLOYED_m: 0.003\n",
            "before_EMPLOYED_w: 0.000\n",
            "Age: 0.000\n",
            "DAYS_BIRTH_m: 0.000\n",
            "DAYS_BIRTH_w: 0.000\n",
            "EMPLOYED: 0.000\n",
            "DAYS_EMPLOYED_m: 0.000\n",
            "DAYS_EMPLOYED_w: 0.000\n",
            "ability: 0.000\n",
            "income_mean: 0.000\n",
            "ID: 0.008\n"
          ]
        },
        {
          "output_type": "display_data",
          "data": {
            "image/png": "[encoded data removed]",
            "text/plain": [
              "<Figure size 432x288 with 1 Axes>"
            ]
          },
          "metadata": {
            "needs_background": "light"
          }
        }
      ],
      "metadata": {
        "id": "BiKXcnQmlFus",
        "outputId": "0147eaa1-e481-4ebc-925c-26964676e6c4"
      }
    },
    {
      "cell_type": "code",
      "execution_count": null,
      "source": [
        "y_pred = dt.predict(X_test)"
      ],
      "outputs": [],
      "metadata": {
        "id": "-Grlnoz0k9C1"
      }
    },
    {
      "cell_type": "code",
      "execution_count": null,
      "source": [
        "from sklearn.metrics import confusion_matrix\r\n",
        "print(confusion_matrix(y_test, y_pred))\r\n",
        "\r\n",
        "sns.heatmap(confusion_matrix(y_test, y_pred), annot=True)\r\n",
        "plt.ylabel('Actual')\r\n",
        "plt.xlabel('Predicted')\r\n",
        "plt.show()"
      ],
      "outputs": [
        {
          "output_type": "stream",
          "name": "stdout",
          "text": [
            "[[   1  135  831]\n",
            " [   1  462 1417]\n",
            " [   0   92 4999]]\n"
          ]
        },
        {
          "output_type": "display_data",
          "data": {
            "image/png": "[encoded data removed]",
            "text/plain": [
              "<Figure size 432x288 with 2 Axes>"
            ]
          },
          "metadata": {
            "needs_background": "light"
          }
        }
      ],
      "metadata": {
        "id": "YtOzuqn7kOST",
        "outputId": "5eae8e6c-e814-4a69-d12a-62f5cc2d66dd"
      }
    },
    {
      "cell_type": "code",
      "execution_count": null,
      "source": [
        "print(classification_report(y_test, y_pred))"
      ],
      "outputs": [
        {
          "output_type": "stream",
          "name": "stdout",
          "text": [
            "              precision    recall  f1-score   support\n",
            "\n",
            "         0.0       0.50      0.00      0.00       967\n",
            "         1.0       0.67      0.25      0.36      1880\n",
            "         2.0       0.69      0.98      0.81      5091\n",
            "\n",
            "    accuracy                           0.69      7938\n",
            "   macro avg       0.62      0.41      0.39      7938\n",
            "weighted avg       0.66      0.69      0.61      7938\n",
            "\n"
          ]
        }
      ],
      "metadata": {
        "id": "UvIN2eBtnikx",
        "outputId": "79f9829d-3417-4d19-c0b1-314a1e83c66d"
      }
    },
    {
      "cell_type": "markdown",
      "source": [
        "### 랜덤 포레스트"
      ],
      "metadata": {
        "id": "YSpsvgjnr3s3"
      }
    },
    {
      "cell_type": "code",
      "execution_count": null,
      "source": [
        "import time\r\n",
        "from sklearn.ensemble import RandomForestRegressor\r\n",
        "start = time.time() # 시작 시간\r\n",
        "\r\n",
        "# 랜덤 포레스트의 parameter 범위 정의\r\n",
        "RF_params = {\r\n",
        "    'n_estimators' : [50, 100, 200, 300, 1000],#[50, 100, 150, 200, 300, 500, 1000],\r\n",
        "    'max_features' : ['auot', 'sqrt'],\r\n",
        "    'max_depth' : [1, 2, 3, 5, 6, 10],\r\n",
        "    'min_samples_leaf' : [1, 2, 4],\r\n",
        "    'min_samples_split' : [2, 3, 5, 10]\r\n",
        "}\r\n",
        "\r\n",
        "# GridSearchCV를 이용\r\n",
        "model_RF = GridSearchCV(RandomForestRegressor(random_state=42), param_grid=RF_params, n_jobs=-1)\r\n",
        "model_RF.fit(X_train, y_train)\r\n",
        "print(model_RF.best_params_)\r\n",
        "RF_best = grid_search.best_estimator_\r\n",
        "y_pred = RF_best.predict(X_test)\r\n",
        "\r\n",
        "print(f\"걸린시간 : {np.round(time.time() - start,3)}초\") # 현재시간 – 시작시간(단위 초)"
      ],
      "outputs": [
        {
          "output_type": "stream",
          "name": "stdout",
          "text": [
            "{'max_depth': 10, 'max_features': 'sqrt', 'min_samples_leaf': 1, 'min_samples_split': 2, 'n_estimators': 1000}\n",
            "걸린시간 : 216.433초\n"
          ]
        }
      ],
      "metadata": {
        "id": "TAwgDu0Eti8G",
        "outputId": "3e28fb20-ea55-4da1-fec8-e47b8938da1d"
      }
    },
    {
      "cell_type": "code",
      "execution_count": null,
      "source": [
        "confusion_matrix(y_test, y_pred)\r\n",
        "\r\n",
        "sns.heatmap(confusion_matrix(y_test, y_pred), annot=True)\r\n",
        "plt.ylabel('Actual')\r\n",
        "plt.xlabel('Predicted')\r\n",
        "plt.show()"
      ],
      "outputs": [
        {
          "output_type": "display_data",
          "data": {
            "image/png": "[encoded data removed]",
            "text/plain": [
              "<Figure size 432x288 with 2 Axes>"
            ]
          },
          "metadata": {
            "needs_background": "light"
          }
        }
      ],
      "metadata": {
        "id": "qRib9aa5wGNq",
        "outputId": "c7813da2-6836-4409-cc8d-de34c40ea046"
      }
    },
    {
      "cell_type": "code",
      "execution_count": null,
      "source": [
        "print(classification_report(y_test, y_pred))"
      ],
      "outputs": [
        {
          "output_type": "stream",
          "name": "stdout",
          "text": [
            "              precision    recall  f1-score   support\n",
            "\n",
            "         0.0       0.00      0.00      0.00       967\n",
            "         1.0       1.00      0.00      0.00      1880\n",
            "         2.0       0.64      1.00      0.78      5091\n",
            "\n",
            "    accuracy                           0.64      7938\n",
            "   macro avg       0.55      0.33      0.26      7938\n",
            "weighted avg       0.65      0.64      0.50      7938\n",
            "\n"
          ]
        }
      ],
      "metadata": {
        "id": "2aRReywrwyPo",
        "outputId": "a02ced83-4e9a-48da-96da-5c253e492fa3"
      }
    },
    {
      "cell_type": "markdown",
      "source": [
        "### XGBoost"
      ],
      "metadata": {
        "id": "AIUTc7kKtNdj"
      }
    },
    {
      "cell_type": "code",
      "execution_count": null,
      "source": [
        "from xgboost import XGBClassifier\r\n",
        "start = time.time()\r\n",
        "\r\n",
        "XGB_params = {\r\n",
        "    'min_child_weight': [1,3, 5,10],\r\n",
        "    'gamma': [0.3,0.5, 1, 1.5, 2, 5],\r\n",
        "    'subsample': [0.6, 0.8, 1.0],\r\n",
        "    'colsample_bytree': [0.6, 0.8, 1.0],\r\n",
        "    'max_depth': [3, 4, 5,7,10]}\r\n",
        "\r\n",
        "model_xgb = GridSearchCV(XGBClassifier(random_state=42), param_grid=XGB_params, n_jobs=-1)\r\n",
        "model_xgb.fit(X_train, y_train)\r\n",
        "model_RF.fit(X_train, y_train)\r\n",
        "print(model_xgb.best_params_)\r\n",
        "xgb_best = grid_search.best_estimator_\r\n",
        "y_pred = xgb_best.predict(X_test)\r\n",
        "\r\n",
        "print(f'{np.round(time.time()-start, 3)}초') # 걸린시간"
      ],
      "outputs": [
        {
          "output_type": "stream",
          "name": "stdout",
          "text": [
            "[10:17:40] WARNING: C:/Users/Administrator/workspace/xgboost-win64_release_1.4.0/src/learner.cc:1095: Starting in XGBoost 1.3.0, the default evaluation metric used with the objective 'multi:softprob' was changed from 'merror' to 'mlogloss'. Explicitly set eval_metric if you'd like to restore the old behavior.\n",
            "{'colsample_bytree': 0.6, 'gamma': 1.5, 'max_depth': 10, 'min_child_weight': 5, 'subsample': 1.0}\n",
            "2118.497초\n"
          ]
        }
      ],
      "metadata": {
        "id": "583J95EBr2PN",
        "outputId": "7b4eb027-6ebb-44c5-f419-d812321f4524"
      }
    },
    {
      "cell_type": "code",
      "execution_count": null,
      "source": [
        "confusion_matrix(y_test, y_pred)\r\n",
        "\r\n",
        "sns.heatmap(confusion_matrix(y_test, y_pred), annot=True)\r\n",
        "plt.ylabel('Actual')\r\n",
        "plt.xlabel('Predicted')\r\n",
        "plt.show()"
      ],
      "outputs": [
        {
          "output_type": "display_data",
          "data": {
            "image/png": "[encoded data removed]",
            "text/plain": [
              "<Figure size 432x288 with 2 Axes>"
            ]
          },
          "metadata": {
            "needs_background": "light"
          }
        }
      ],
      "metadata": {
        "id": "tYTb7lILELp4",
        "outputId": "0613ed7f-7a05-42ee-c4da-0bd4e34e0622"
      }
    },
    {
      "cell_type": "code",
      "execution_count": null,
      "source": [
        "print(classification_report(y_test, y_pred))"
      ],
      "outputs": [
        {
          "output_type": "stream",
          "name": "stdout",
          "text": [
            "              precision    recall  f1-score   support\n",
            "\n",
            "         0.0       0.00      0.00      0.00       967\n",
            "         1.0       1.00      0.00      0.00      1880\n",
            "         2.0       0.64      1.00      0.78      5091\n",
            "\n",
            "    accuracy                           0.64      7938\n",
            "   macro avg       0.55      0.33      0.26      7938\n",
            "weighted avg       0.65      0.64      0.50      7938\n",
            "\n"
          ]
        }
      ],
      "metadata": {
        "id": "IQLncVDNENKf",
        "outputId": "de7a1d27-b26e-414c-9d58-071d2dbc4558"
      }
    },
    {
      "cell_type": "markdown",
      "source": [
        "## 변수축소 - 모델학습 및 평가"
      ],
      "metadata": {
        "id": "ZXemCgePcaWS"
      }
    },
    {
      "cell_type": "code",
      "execution_count": null,
      "source": [
        "# 변수축소\r\n",
        "X_train = X_train[['DAYS_BIRTH', 'begin_month', 'before_EMPLOYED_w', 'ability', 'ID']]\r\n",
        "X_test = X_test[['DAYS_BIRTH', 'begin_month', 'before_EMPLOYED_w', 'ability', 'ID']]"
      ],
      "outputs": [],
      "metadata": {
        "id": "g757q2WbcgFw"
      }
    },
    {
      "cell_type": "markdown",
      "source": [
        "### 로지스틱 회귀"
      ],
      "metadata": {
        "id": "tfaTNyRjep4A"
      }
    },
    {
      "cell_type": "code",
      "execution_count": null,
      "source": [
        "from sklearn.linear_model import LogisticRegression\r\n",
        "model_logit = LogisticRegression() # random_state=42\r\n",
        "model_logit.fit(X_train, y_train)"
      ],
      "outputs": [],
      "metadata": {
        "id": "HVSIRXvkAgE-"
      }
    },
    {
      "cell_type": "code",
      "execution_count": null,
      "source": [
        "model_logit.score(X_train, y_train), model_logit.score(X_test, y_test) "
      ],
      "outputs": [],
      "metadata": {
        "id": "8UN-pC4WAice"
      }
    },
    {
      "cell_type": "code",
      "execution_count": null,
      "source": [
        "# 예측\r\n",
        "y_pred = model_logit.predict(X_test)"
      ],
      "outputs": [],
      "metadata": {
        "id": "hLCCDGFbep4F"
      }
    },
    {
      "cell_type": "code",
      "execution_count": null,
      "source": [
        "# 혼합행렬\r\n",
        "from sklearn.metrics import confusion_matrix\r\n",
        "print(confusion_matrix(y_test, y_pred))\r\n",
        "\r\n",
        "sns.heatmap(confusion_matrix(y_test, y_pred), annot=True)\r\n",
        "plt.ylabel('Actual')\r\n",
        "plt.xlabel('Predicted')\r\n",
        "plt.show()"
      ],
      "outputs": [],
      "metadata": {
        "id": "4Hv_8hM2AkYJ"
      }
    },
    {
      "cell_type": "code",
      "execution_count": null,
      "source": [
        "# 모형 성능 평가 - 평가지표 계산\r\n",
        "from sklearn.metrics import classification_report\r\n",
        "print(classification_report(y_test, y_pred))"
      ],
      "outputs": [],
      "metadata": {
        "id": "zUl4xL0jAltA"
      }
    },
    {
      "cell_type": "markdown",
      "source": [
        "### KNN"
      ],
      "metadata": {
        "id": "2dv7W6Itep4H"
      }
    },
    {
      "cell_type": "code",
      "execution_count": null,
      "source": [
        "from sklearn.neighbors import KNeighborsClassifier\r\n",
        "from sklearn.model_selection import GridSearchCV\r\n",
        "\r\n",
        "knn = KNeighborsClassifier()\r\n",
        "grid_search = GridSearchCV(knn, {'n_neighbors': [1,3,5,7]}, n_jobs=-1, cv=7, scoring='accuracy')"
      ],
      "outputs": [],
      "metadata": {
        "id": "Y7pXzwRgep4I"
      }
    },
    {
      "cell_type": "code",
      "execution_count": null,
      "source": [
        "grid_search.fit(X_train, y_train)"
      ],
      "outputs": [],
      "metadata": {
        "id": "RkUiuNP1AomR"
      }
    },
    {
      "cell_type": "code",
      "execution_count": null,
      "source": [
        "grid_search.best_params_"
      ],
      "outputs": [],
      "metadata": {
        "id": "Ekeyvdv4Aqvx"
      }
    },
    {
      "cell_type": "code",
      "execution_count": null,
      "source": [
        "knn_best = grid_search.best_estimator_"
      ],
      "outputs": [],
      "metadata": {
        "id": "RrVUqnwLep4J"
      }
    },
    {
      "cell_type": "code",
      "execution_count": null,
      "source": [
        "y_pred = knn_best.predict(X_test)"
      ],
      "outputs": [],
      "metadata": {
        "id": "8m6nTC7Wep4J"
      }
    },
    {
      "cell_type": "code",
      "execution_count": null,
      "source": [
        "# 혼합행렬\r\n",
        "from sklearn.metrics import confusion_matrix\r\n",
        "print(confusion_matrix(y_test, y_pred))\r\n",
        "\r\n",
        "sns.heatmap(confusion_matrix(y_test, y_pred), annot=True)\r\n",
        "plt.ylabel('Actual')\r\n",
        "plt.xlabel('Predicted')\r\n",
        "plt.show()"
      ],
      "outputs": [],
      "metadata": {
        "id": "x_JTORNTAshr"
      }
    },
    {
      "cell_type": "code",
      "execution_count": null,
      "source": [
        "print(classification_report(y_test, y_pred))"
      ],
      "outputs": [],
      "metadata": {
        "id": "9nQvYqZ7At2x"
      }
    },
    {
      "cell_type": "markdown",
      "source": [
        "### SVM"
      ],
      "metadata": {
        "id": "A5ixrjaMep4K"
      }
    },
    {
      "cell_type": "code",
      "execution_count": null,
      "source": [
        "from sklearn import svm\r\n",
        "\r\n",
        "svm_model = svm.SVC(kernel='rbf') # random_state=42"
      ],
      "outputs": [],
      "metadata": {
        "id": "dOxgugUBep4K"
      }
    },
    {
      "cell_type": "code",
      "execution_count": null,
      "source": [
        "from sklearn.model_selection import GridSearchCV\r\n",
        "\r\n",
        "grid_search = GridSearchCV(svm_model, {'C': [1,2,3,4,5]}, n_jobs=-1, cv=7, scoring='accuracy')"
      ],
      "outputs": [],
      "metadata": {
        "id": "ZZH2Mlokep4K"
      }
    },
    {
      "cell_type": "code",
      "execution_count": null,
      "source": [
        "grid_search.fit(X_train, y_train)"
      ],
      "outputs": [],
      "metadata": {
        "id": "9pUBngCDAwGM"
      }
    },
    {
      "cell_type": "code",
      "execution_count": null,
      "source": [
        "grid_search.best_params_"
      ],
      "outputs": [],
      "metadata": {
        "id": "5VhTIFQ2Axae"
      }
    },
    {
      "cell_type": "code",
      "execution_count": null,
      "source": [
        "svm_best = grid_search.best_estimator_"
      ],
      "outputs": [],
      "metadata": {
        "id": "WYboXuZoep4L"
      }
    },
    {
      "cell_type": "code",
      "execution_count": null,
      "source": [
        "y_pred = svm_best.predict(X_test)"
      ],
      "outputs": [],
      "metadata": {
        "id": "L0WUrhrXep4L"
      }
    },
    {
      "cell_type": "code",
      "execution_count": null,
      "source": [
        "confusion_matrix(y_test, y_pred)\r\n",
        "\r\n",
        "sns.heatmap(confusion_matrix(y_test, y_pred), annot=True)\r\n",
        "plt.ylabel('Actual')\r\n",
        "plt.xlabel('Predicted')\r\n",
        "plt.show()"
      ],
      "outputs": [],
      "metadata": {
        "id": "tUtH2SjIAy6A"
      }
    },
    {
      "cell_type": "code",
      "execution_count": null,
      "source": [
        "print(classification_report(y_test, y_pred))"
      ],
      "outputs": [],
      "metadata": {
        "id": "Hk0mGhUpAyzq"
      }
    },
    {
      "cell_type": "markdown",
      "source": [
        "### 결정트리"
      ],
      "metadata": {
        "id": "cJNzkWu0ep4M"
      }
    },
    {
      "cell_type": "code",
      "execution_count": null,
      "source": [
        "import matplotlib.pyplot as plt\r\n",
        "from sklearn.tree import plot_tree\r\n",
        "from sklearn.tree import DecisionTreeClassifier\r\n",
        "\r\n",
        "# 가지치기\r\n",
        "dt = DecisionTreeClassifier(max_depth=3, random_state=42) \r\n",
        "dt.fit(X_train, y_train)\r\n",
        "print(dt.feature_importances_)"
      ],
      "outputs": [],
      "metadata": {
        "id": "7-mvlu4OBCBi"
      }
    },
    {
      "cell_type": "code",
      "execution_count": null,
      "source": [
        "plt.figure(figsize=(10,7))\r\n",
        "plot_tree(dt, filled=True)\r\n",
        "plt.show()"
      ],
      "outputs": [],
      "metadata": {
        "id": "eIjP3aPWBDam"
      }
    },
    {
      "cell_type": "code",
      "execution_count": null,
      "source": [
        "print(dt.feature_importances_)"
      ],
      "outputs": [],
      "metadata": {
        "id": "DBBiXzcQBE2O"
      }
    },
    {
      "cell_type": "code",
      "execution_count": null,
      "source": [
        "# feature 별 feature importance 매핑\r\n",
        "feature_names = X.columns.tolist()\r\n",
        "\r\n",
        "# feature 별 feature importance 매핑\r\n",
        "for name, value in zip(feature_names, dt.feature_importances_):\r\n",
        "    print('{0}: {1:.3f}'.format(name, value))\r\n",
        "\r\n",
        "# feature importance 시각화\r\n",
        "sns.barplot(x=dt.feature_importances_, y=feature_names)\r\n",
        "plt.show()"
      ],
      "outputs": [],
      "metadata": {
        "id": "lb0LnznGBGNU"
      }
    },
    {
      "cell_type": "code",
      "execution_count": null,
      "source": [
        "y_pred = dt.predict(X_test)"
      ],
      "outputs": [],
      "metadata": {
        "id": "ucFaN-GYep4V"
      }
    },
    {
      "cell_type": "code",
      "execution_count": null,
      "source": [
        "from sklearn.metrics import confusion_matrix\r\n",
        "print(confusion_matrix(y_test, y_pred))\r\n",
        "\r\n",
        "sns.heatmap(confusion_matrix(y_test, y_pred), annot=True)\r\n",
        "plt.ylabel('Actual')\r\n",
        "plt.xlabel('Predicted')\r\n",
        "plt.show()"
      ],
      "outputs": [],
      "metadata": {
        "id": "876WtP5BBHyU"
      }
    },
    {
      "cell_type": "code",
      "execution_count": null,
      "source": [
        "print(classification_report(y_test, y_pred))"
      ],
      "outputs": [],
      "metadata": {
        "id": "7-MlL62LBJKA"
      }
    },
    {
      "cell_type": "markdown",
      "source": [
        "### 랜덤 포레스트"
      ],
      "metadata": {
        "id": "PVBy1Jz2ep4X"
      }
    },
    {
      "cell_type": "code",
      "execution_count": null,
      "source": [
        "import time\r\n",
        "from sklearn.ensemble import RandomForestRegressor\r\n",
        "from sklearn.model_selection import GridSearchCV\r\n",
        "start = time.time() # 시작 시간\r\n",
        "\r\n",
        "# 랜덤 포레스트의 parameter 범위 정의\r\n",
        "RF_params = {\r\n",
        "    'n_estimators' : [50, 100, 150, 200, 300, 500, 1000],\r\n",
        "    'max_features' : ['auot', 'sqrt'],\r\n",
        "    'max_depth' : [1, 2, 3, 5, 6, 10],\r\n",
        "    'min_samples_leaf' : [1, 2, 4],\r\n",
        "    'min_samples_split' : [2, 3, 5, 10]\r\n",
        "}\r\n",
        "\r\n",
        "# GridSearchCV를 이용\r\n",
        "model_RF = GridSearchCV(RandomForestRegressor(random_state=42), param_grid=RF_params, n_jobs=-1)\r\n",
        "model_RF.fit(X_train, y_train)\r\n",
        "print(model_RF.best_params_)\r\n",
        "RF_best = grid_search.best_estimator_\r\n",
        "y_pred = RF_best.predict(X_test)\r\n",
        "\r\n",
        "print(f\"걸린시간 : {np.round(time.time() - start,3)}초\") # 현재시간 – 시작시간(단위 초)"
      ],
      "outputs": [],
      "metadata": {
        "id": "YlQG2i0bep4Y"
      }
    },
    {
      "cell_type": "code",
      "execution_count": null,
      "source": [
        "confusion_matrix(y_test, y_pred)\r\n",
        "\r\n",
        "sns.heatmap(confusion_matrix(y_test, y_pred), annot=True)\r\n",
        "plt.ylabel('Actual')\r\n",
        "plt.xlabel('Predicted')\r\n",
        "plt.show()"
      ],
      "outputs": [],
      "metadata": {
        "id": "dRwxP9wYep4Y"
      }
    },
    {
      "cell_type": "code",
      "execution_count": null,
      "source": [
        "print(classification_report(y_test, y_pred))"
      ],
      "outputs": [],
      "metadata": {
        "id": "9ypwMp5Dep4Y"
      }
    },
    {
      "cell_type": "markdown",
      "source": [
        "### XGBoost"
      ],
      "metadata": {
        "id": "np4DcLiLep4Y"
      }
    },
    {
      "cell_type": "code",
      "execution_count": null,
      "source": [
        "from xgboost import XGBClassifier\r\n",
        "start = time.time()\r\n",
        "\r\n",
        "XGB_params = {\r\n",
        "    'min_child_weight': [1,3, 5,10],\r\n",
        "    'gamma': [0.3,0.5, 1, 1.5, 2, 5],\r\n",
        "    'subsample': [0.6, 0.8, 1.0],\r\n",
        "    'colsample_bytree': [0.6, 0.8, 1.0],\r\n",
        "    'max_depth': [3, 4, 5,7,10]}\r\n",
        "\r\n",
        "model_xgb = GridSearchCV(XGBClassifier(random_state=42), param_grid=XGB_params, n_jobs=-1)\r\n",
        "model_xgb.fit(X_train, y_train)\r\n",
        "model_RF.fit(X_train, y_train)\r\n",
        "print(model_xgb.best_params_)\r\n",
        "xgb_best = grid_search.best_estimator_\r\n",
        "y_pred = xgb_best.predict(X_test)\r\n",
        "\r\n",
        "print(f'{np.round(time.time()-start, 3)}초') # 걸린시간"
      ],
      "outputs": [],
      "metadata": {
        "id": "ms9SyPtBep4Z"
      }
    },
    {
      "cell_type": "code",
      "execution_count": null,
      "source": [
        "confusion_matrix(y_test, y_pred)\r\n",
        "\r\n",
        "sns.heatmap(confusion_matrix(y_test, y_pred), annot=True)\r\n",
        "plt.ylabel('Actual')\r\n",
        "plt.xlabel('Predicted')\r\n",
        "plt.show()"
      ],
      "outputs": [],
      "metadata": {
        "id": "8t2kWf_oep4Z"
      }
    },
    {
      "cell_type": "code",
      "execution_count": null,
      "source": [
        "print(classification_report(y_test, y_pred))"
      ],
      "outputs": [],
      "metadata": {
        "id": "nT5l2WCzep4Z"
      }
    }
  ]
}