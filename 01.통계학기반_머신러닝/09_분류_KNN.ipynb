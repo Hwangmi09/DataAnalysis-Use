{
  "nbformat": 4,
  "nbformat_minor": 0,
  "metadata": {
    "colab": {
      "name": "09_분류_KNN.ipynb",
      "provenance": [],
      "collapsed_sections": []
    },
    "kernelspec": {
      "name": "python3",
      "display_name": "Python 3"
    },
    "language_info": {
      "name": "python"
    }
  },
  "cells": [
    {
      "cell_type": "markdown",
      "metadata": {
        "id": "ETWg8Dn9YhLV"
      },
      "source": [
        "# KNN(K-Nearest Neighbor: 최근접 이웃 알고리즘)\n",
        "- 지도학습 : y레이블 있음\n",
        "- 비지도학습 : y레이블 없음\n",
        "- KNN은 지도학습에 해당\n",
        "- P.308~318"
      ]
    },
    {
      "cell_type": "code",
      "metadata": {
        "id": "eI6Qfyz0Np3I"
      },
      "source": [
        "import numpy as np\n",
        "import pandas as pd\n",
        "import seaborn as sns\n",
        "import matplotlib.pyplot as plt"
      ],
      "execution_count": null,
      "outputs": []
    },
    {
      "cell_type": "markdown",
      "metadata": {
        "id": "-pFGtCYhOxha"
      },
      "source": [
        "## 1. 데이터 준비"
      ]
    },
    {
      "cell_type": "code",
      "metadata": {
        "colab": {
          "base_uri": "https://localhost:8080/"
        },
        "id": "YTRf0S_FOTOh",
        "outputId": "de730298-0ff8-421e-bee1-ee007d48b0d5"
      },
      "source": [
        "df = sns.load_dataset('titanic')\n",
        "print(df.head())   "
      ],
      "execution_count": null,
      "outputs": [
        {
          "output_type": "stream",
          "name": "stdout",
          "text": [
            "   survived  pclass     sex   age  ...  deck  embark_town  alive  alone\n",
            "0         0       3    male  22.0  ...   NaN  Southampton     no  False\n",
            "1         1       1  female  38.0  ...     C    Cherbourg    yes  False\n",
            "2         1       3  female  26.0  ...   NaN  Southampton    yes   True\n",
            "3         1       1  female  35.0  ...     C  Southampton    yes  False\n",
            "4         0       3    male  35.0  ...   NaN  Southampton     no   True\n",
            "\n",
            "[5 rows x 15 columns]\n"
          ]
        }
      ]
    },
    {
      "cell_type": "markdown",
      "metadata": {
        "id": "EixAa6U-PQI0"
      },
      "source": [
        "## 2. 데이터 탐색"
      ]
    },
    {
      "cell_type": "code",
      "metadata": {
        "colab": {
          "base_uri": "https://localhost:8080/"
        },
        "id": "Q5dJ18exNyTr",
        "outputId": "348c5b4b-3c77-4174-f55f-9ea988496daa"
      },
      "source": [
        "df.info()"
      ],
      "execution_count": null,
      "outputs": [
        {
          "output_type": "stream",
          "name": "stdout",
          "text": [
            "<class 'pandas.core.frame.DataFrame'>\n",
            "RangeIndex: 891 entries, 0 to 890\n",
            "Data columns (total 15 columns):\n",
            " #   Column       Non-Null Count  Dtype   \n",
            "---  ------       --------------  -----   \n",
            " 0   survived     891 non-null    int64   \n",
            " 1   pclass       891 non-null    int64   \n",
            " 2   sex          891 non-null    object  \n",
            " 3   age          714 non-null    float64 \n",
            " 4   sibsp        891 non-null    int64   \n",
            " 5   parch        891 non-null    int64   \n",
            " 6   fare         891 non-null    float64 \n",
            " 7   embarked     889 non-null    object  \n",
            " 8   class        891 non-null    category\n",
            " 9   who          891 non-null    object  \n",
            " 10  adult_male   891 non-null    bool    \n",
            " 11  deck         203 non-null    category\n",
            " 12  embark_town  889 non-null    object  \n",
            " 13  alive        891 non-null    object  \n",
            " 14  alone        891 non-null    bool    \n",
            "dtypes: bool(2), category(2), float64(2), int64(4), object(5)\n",
            "memory usage: 80.6+ KB\n"
          ]
        }
      ]
    },
    {
      "cell_type": "code",
      "metadata": {
        "colab": {
          "base_uri": "https://localhost:8080/"
        },
        "id": "9gIynFXGN0R9",
        "outputId": "518f59ff-b03a-4558-b150-a27170867f2d"
      },
      "source": [
        "df.isna().sum()"
      ],
      "execution_count": null,
      "outputs": [
        {
          "output_type": "execute_result",
          "data": {
            "text/plain": [
              "survived         0\n",
              "pclass           0\n",
              "sex              0\n",
              "age            177\n",
              "sibsp            0\n",
              "parch            0\n",
              "fare             0\n",
              "embarked         2\n",
              "class            0\n",
              "who              0\n",
              "adult_male       0\n",
              "deck           688\n",
              "embark_town      2\n",
              "alive            0\n",
              "alone            0\n",
              "dtype: int64"
            ]
          },
          "metadata": {},
          "execution_count": 4
        }
      ]
    },
    {
      "cell_type": "code",
      "metadata": {
        "colab": {
          "base_uri": "https://localhost:8080/"
        },
        "id": "BQAXCD1lN3Yo",
        "outputId": "d6249360-83d2-44c8-f2c8-9a01d7dc865d"
      },
      "source": [
        "# NaN값이 많은 deck 열을 삭제, embarked와 내용이 겹치는 embark_town 열을 삭제\n",
        "rdf = df.drop(['deck', 'embark_town'], axis=1)  \n",
        "print(rdf.columns.values)"
      ],
      "execution_count": null,
      "outputs": [
        {
          "output_type": "stream",
          "name": "stdout",
          "text": [
            "['survived' 'pclass' 'sex' 'age' 'sibsp' 'parch' 'fare' 'embarked' 'class'\n",
            " 'who' 'adult_male' 'alive' 'alone']\n"
          ]
        }
      ]
    },
    {
      "cell_type": "code",
      "metadata": {
        "colab": {
          "base_uri": "https://localhost:8080/"
        },
        "id": "8ZGt1POaOL2S",
        "outputId": "f94b2da2-44ec-4d11-e455-38354e35b25d"
      },
      "source": [
        "rdf.isna().sum() "
      ],
      "execution_count": null,
      "outputs": [
        {
          "output_type": "execute_result",
          "data": {
            "text/plain": [
              "survived        0\n",
              "pclass          0\n",
              "sex             0\n",
              "age           177\n",
              "sibsp           0\n",
              "parch           0\n",
              "fare            0\n",
              "embarked        2\n",
              "class           0\n",
              "who             0\n",
              "adult_male      0\n",
              "alive           0\n",
              "alone           0\n",
              "dtype: int64"
            ]
          },
          "metadata": {},
          "execution_count": 7
        }
      ]
    },
    {
      "cell_type": "code",
      "metadata": {
        "colab": {
          "base_uri": "https://localhost:8080/"
        },
        "id": "35R8aKVkOYEs",
        "outputId": "4198be85-ee04-4aea-9b46-aa6c8200aaf9"
      },
      "source": [
        "# age 열에 나이 데이터가 없는 모든 행을 삭제 - age 열(891개 중 177개의 NaN 값)\n",
        "rdf = rdf.dropna(subset=['age'], how='any', axis=0)  \n",
        "print(len(rdf))"
      ],
      "execution_count": null,
      "outputs": [
        {
          "output_type": "stream",
          "name": "stdout",
          "text": [
            "714\n"
          ]
        }
      ]
    },
    {
      "cell_type": "code",
      "metadata": {
        "colab": {
          "base_uri": "https://localhost:8080/",
          "height": 297
        },
        "id": "A8Lv_JuHOp2K",
        "outputId": "d77756b8-f9d7-4d27-aee5-6bb5f37b70a0"
      },
      "source": [
        "# survived : 생존이 1, 사망이 0\n",
        "# 나이가 어릴수록 생존율이 높음. -값 나옴\n",
        "rdf.corr() # 다양한 이유로(성별, 나이 등) survived와 age의 상관계수가 낮게 나옴"
      ],
      "execution_count": null,
      "outputs": [
        {
          "output_type": "execute_result",
          "data": {
            "text/html": [
              "<div>\n",
              "<style scoped>\n",
              "    .dataframe tbody tr th:only-of-type {\n",
              "        vertical-align: middle;\n",
              "    }\n",
              "\n",
              "    .dataframe tbody tr th {\n",
              "        vertical-align: top;\n",
              "    }\n",
              "\n",
              "    .dataframe thead th {\n",
              "        text-align: right;\n",
              "    }\n",
              "</style>\n",
              "<table border=\"1\" class=\"dataframe\">\n",
              "  <thead>\n",
              "    <tr style=\"text-align: right;\">\n",
              "      <th></th>\n",
              "      <th>survived</th>\n",
              "      <th>pclass</th>\n",
              "      <th>age</th>\n",
              "      <th>sibsp</th>\n",
              "      <th>parch</th>\n",
              "      <th>fare</th>\n",
              "      <th>adult_male</th>\n",
              "      <th>alone</th>\n",
              "    </tr>\n",
              "  </thead>\n",
              "  <tbody>\n",
              "    <tr>\n",
              "      <th>survived</th>\n",
              "      <td>1.000000</td>\n",
              "      <td>-0.359653</td>\n",
              "      <td>-0.077221</td>\n",
              "      <td>-0.017358</td>\n",
              "      <td>0.093317</td>\n",
              "      <td>0.268189</td>\n",
              "      <td>-0.552936</td>\n",
              "      <td>-0.196140</td>\n",
              "    </tr>\n",
              "    <tr>\n",
              "      <th>pclass</th>\n",
              "      <td>-0.359653</td>\n",
              "      <td>1.000000</td>\n",
              "      <td>-0.369226</td>\n",
              "      <td>0.067247</td>\n",
              "      <td>0.025683</td>\n",
              "      <td>-0.554182</td>\n",
              "      <td>0.099021</td>\n",
              "      <td>0.146320</td>\n",
              "    </tr>\n",
              "    <tr>\n",
              "      <th>age</th>\n",
              "      <td>-0.077221</td>\n",
              "      <td>-0.369226</td>\n",
              "      <td>1.000000</td>\n",
              "      <td>-0.308247</td>\n",
              "      <td>-0.189119</td>\n",
              "      <td>0.096067</td>\n",
              "      <td>0.280328</td>\n",
              "      <td>0.198270</td>\n",
              "    </tr>\n",
              "    <tr>\n",
              "      <th>sibsp</th>\n",
              "      <td>-0.017358</td>\n",
              "      <td>0.067247</td>\n",
              "      <td>-0.308247</td>\n",
              "      <td>1.000000</td>\n",
              "      <td>0.383820</td>\n",
              "      <td>0.138329</td>\n",
              "      <td>-0.310463</td>\n",
              "      <td>-0.629818</td>\n",
              "    </tr>\n",
              "    <tr>\n",
              "      <th>parch</th>\n",
              "      <td>0.093317</td>\n",
              "      <td>0.025683</td>\n",
              "      <td>-0.189119</td>\n",
              "      <td>0.383820</td>\n",
              "      <td>1.000000</td>\n",
              "      <td>0.205119</td>\n",
              "      <td>-0.363079</td>\n",
              "      <td>-0.577524</td>\n",
              "    </tr>\n",
              "    <tr>\n",
              "      <th>fare</th>\n",
              "      <td>0.268189</td>\n",
              "      <td>-0.554182</td>\n",
              "      <td>0.096067</td>\n",
              "      <td>0.138329</td>\n",
              "      <td>0.205119</td>\n",
              "      <td>1.000000</td>\n",
              "      <td>-0.179740</td>\n",
              "      <td>-0.260136</td>\n",
              "    </tr>\n",
              "    <tr>\n",
              "      <th>adult_male</th>\n",
              "      <td>-0.552936</td>\n",
              "      <td>0.099021</td>\n",
              "      <td>0.280328</td>\n",
              "      <td>-0.310463</td>\n",
              "      <td>-0.363079</td>\n",
              "      <td>-0.179740</td>\n",
              "      <td>1.000000</td>\n",
              "      <td>0.396632</td>\n",
              "    </tr>\n",
              "    <tr>\n",
              "      <th>alone</th>\n",
              "      <td>-0.196140</td>\n",
              "      <td>0.146320</td>\n",
              "      <td>0.198270</td>\n",
              "      <td>-0.629818</td>\n",
              "      <td>-0.577524</td>\n",
              "      <td>-0.260136</td>\n",
              "      <td>0.396632</td>\n",
              "      <td>1.000000</td>\n",
              "    </tr>\n",
              "  </tbody>\n",
              "</table>\n",
              "</div>"
            ],
            "text/plain": [
              "            survived    pclass       age  ...      fare  adult_male     alone\n",
              "survived    1.000000 -0.359653 -0.077221  ...  0.268189   -0.552936 -0.196140\n",
              "pclass     -0.359653  1.000000 -0.369226  ... -0.554182    0.099021  0.146320\n",
              "age        -0.077221 -0.369226  1.000000  ...  0.096067    0.280328  0.198270\n",
              "sibsp      -0.017358  0.067247 -0.308247  ...  0.138329   -0.310463 -0.629818\n",
              "parch       0.093317  0.025683 -0.189119  ...  0.205119   -0.363079 -0.577524\n",
              "fare        0.268189 -0.554182  0.096067  ...  1.000000   -0.179740 -0.260136\n",
              "adult_male -0.552936  0.099021  0.280328  ... -0.179740    1.000000  0.396632\n",
              "alone      -0.196140  0.146320  0.198270  ... -0.260136    0.396632  1.000000\n",
              "\n",
              "[8 rows x 8 columns]"
            ]
          },
          "metadata": {},
          "execution_count": 10
        }
      ]
    },
    {
      "cell_type": "code",
      "metadata": {
        "colab": {
          "base_uri": "https://localhost:8080/",
          "height": 297
        },
        "id": "zEOfUbCHPEsJ",
        "outputId": "a0ec9765-d59c-475e-d5c9-c15e5cb3463e"
      },
      "source": [
        "rdf[rdf.sex=='male'].corr() # 고령자가 있어서 survived와 age의 상관계수가 낮게 나옴"
      ],
      "execution_count": null,
      "outputs": [
        {
          "output_type": "execute_result",
          "data": {
            "text/html": [
              "<div>\n",
              "<style scoped>\n",
              "    .dataframe tbody tr th:only-of-type {\n",
              "        vertical-align: middle;\n",
              "    }\n",
              "\n",
              "    .dataframe tbody tr th {\n",
              "        vertical-align: top;\n",
              "    }\n",
              "\n",
              "    .dataframe thead th {\n",
              "        text-align: right;\n",
              "    }\n",
              "</style>\n",
              "<table border=\"1\" class=\"dataframe\">\n",
              "  <thead>\n",
              "    <tr style=\"text-align: right;\">\n",
              "      <th></th>\n",
              "      <th>survived</th>\n",
              "      <th>pclass</th>\n",
              "      <th>age</th>\n",
              "      <th>sibsp</th>\n",
              "      <th>parch</th>\n",
              "      <th>fare</th>\n",
              "      <th>adult_male</th>\n",
              "      <th>alone</th>\n",
              "    </tr>\n",
              "  </thead>\n",
              "  <tbody>\n",
              "    <tr>\n",
              "      <th>survived</th>\n",
              "      <td>1.000000</td>\n",
              "      <td>-0.221893</td>\n",
              "      <td>-0.119618</td>\n",
              "      <td>-0.016908</td>\n",
              "      <td>0.098726</td>\n",
              "      <td>0.183421</td>\n",
              "      <td>-0.246323</td>\n",
              "      <td>-0.132735</td>\n",
              "    </tr>\n",
              "    <tr>\n",
              "      <th>pclass</th>\n",
              "      <td>-0.221893</td>\n",
              "      <td>1.000000</td>\n",
              "      <td>-0.392754</td>\n",
              "      <td>0.056253</td>\n",
              "      <td>-0.042630</td>\n",
              "      <td>-0.486482</td>\n",
              "      <td>-0.110147</td>\n",
              "      <td>0.178073</td>\n",
              "    </tr>\n",
              "    <tr>\n",
              "      <th>age</th>\n",
              "      <td>-0.119618</td>\n",
              "      <td>-0.392754</td>\n",
              "      <td>1.000000</td>\n",
              "      <td>-0.334982</td>\n",
              "      <td>-0.232419</td>\n",
              "      <td>0.077331</td>\n",
              "      <td>0.536159</td>\n",
              "      <td>0.211858</td>\n",
              "    </tr>\n",
              "    <tr>\n",
              "      <th>sibsp</th>\n",
              "      <td>-0.016908</td>\n",
              "      <td>0.056253</td>\n",
              "      <td>-0.334982</td>\n",
              "      <td>1.000000</td>\n",
              "      <td>0.478161</td>\n",
              "      <td>0.163829</td>\n",
              "      <td>-0.602361</td>\n",
              "      <td>-0.680127</td>\n",
              "    </tr>\n",
              "    <tr>\n",
              "      <th>parch</th>\n",
              "      <td>0.098726</td>\n",
              "      <td>-0.042630</td>\n",
              "      <td>-0.232419</td>\n",
              "      <td>0.478161</td>\n",
              "      <td>1.000000</td>\n",
              "      <td>0.311899</td>\n",
              "      <td>-0.516077</td>\n",
              "      <td>-0.596347</td>\n",
              "    </tr>\n",
              "    <tr>\n",
              "      <th>fare</th>\n",
              "      <td>0.183421</td>\n",
              "      <td>-0.486482</td>\n",
              "      <td>0.077331</td>\n",
              "      <td>0.163829</td>\n",
              "      <td>0.311899</td>\n",
              "      <td>1.000000</td>\n",
              "      <td>-0.048333</td>\n",
              "      <td>-0.335899</td>\n",
              "    </tr>\n",
              "    <tr>\n",
              "      <th>adult_male</th>\n",
              "      <td>-0.246323</td>\n",
              "      <td>-0.110147</td>\n",
              "      <td>0.536159</td>\n",
              "      <td>-0.602361</td>\n",
              "      <td>-0.516077</td>\n",
              "      <td>-0.048333</td>\n",
              "      <td>1.000000</td>\n",
              "      <td>0.427967</td>\n",
              "    </tr>\n",
              "    <tr>\n",
              "      <th>alone</th>\n",
              "      <td>-0.132735</td>\n",
              "      <td>0.178073</td>\n",
              "      <td>0.211858</td>\n",
              "      <td>-0.680127</td>\n",
              "      <td>-0.596347</td>\n",
              "      <td>-0.335899</td>\n",
              "      <td>0.427967</td>\n",
              "      <td>1.000000</td>\n",
              "    </tr>\n",
              "  </tbody>\n",
              "</table>\n",
              "</div>"
            ],
            "text/plain": [
              "            survived    pclass       age  ...      fare  adult_male     alone\n",
              "survived    1.000000 -0.221893 -0.119618  ...  0.183421   -0.246323 -0.132735\n",
              "pclass     -0.221893  1.000000 -0.392754  ... -0.486482   -0.110147  0.178073\n",
              "age        -0.119618 -0.392754  1.000000  ...  0.077331    0.536159  0.211858\n",
              "sibsp      -0.016908  0.056253 -0.334982  ...  0.163829   -0.602361 -0.680127\n",
              "parch       0.098726 -0.042630 -0.232419  ...  0.311899   -0.516077 -0.596347\n",
              "fare        0.183421 -0.486482  0.077331  ...  1.000000   -0.048333 -0.335899\n",
              "adult_male -0.246323 -0.110147  0.536159  ... -0.048333    1.000000  0.427967\n",
              "alone      -0.132735  0.178073  0.211858  ... -0.335899    0.427967  1.000000\n",
              "\n",
              "[8 rows x 8 columns]"
            ]
          },
          "metadata": {},
          "execution_count": 12
        }
      ]
    },
    {
      "cell_type": "code",
      "metadata": {
        "colab": {
          "base_uri": "https://localhost:8080/",
          "height": 297
        },
        "id": "gB4xMSybPTLa",
        "outputId": "848b9cc2-19f6-418f-a4f9-092019a092e0"
      },
      "source": [
        "rdf[(rdf.sex=='male') & (rdf['age']<30)].corr() "
      ],
      "execution_count": null,
      "outputs": [
        {
          "output_type": "execute_result",
          "data": {
            "text/html": [
              "<div>\n",
              "<style scoped>\n",
              "    .dataframe tbody tr th:only-of-type {\n",
              "        vertical-align: middle;\n",
              "    }\n",
              "\n",
              "    .dataframe tbody tr th {\n",
              "        vertical-align: top;\n",
              "    }\n",
              "\n",
              "    .dataframe thead th {\n",
              "        text-align: right;\n",
              "    }\n",
              "</style>\n",
              "<table border=\"1\" class=\"dataframe\">\n",
              "  <thead>\n",
              "    <tr style=\"text-align: right;\">\n",
              "      <th></th>\n",
              "      <th>survived</th>\n",
              "      <th>pclass</th>\n",
              "      <th>age</th>\n",
              "      <th>sibsp</th>\n",
              "      <th>parch</th>\n",
              "      <th>fare</th>\n",
              "      <th>adult_male</th>\n",
              "      <th>alone</th>\n",
              "    </tr>\n",
              "  </thead>\n",
              "  <tbody>\n",
              "    <tr>\n",
              "      <th>survived</th>\n",
              "      <td>1.000000</td>\n",
              "      <td>-0.230821</td>\n",
              "      <td>-0.283040</td>\n",
              "      <td>-0.050946</td>\n",
              "      <td>0.236309</td>\n",
              "      <td>0.101925</td>\n",
              "      <td>-0.339703</td>\n",
              "      <td>-0.218943</td>\n",
              "    </tr>\n",
              "    <tr>\n",
              "      <th>pclass</th>\n",
              "      <td>-0.230821</td>\n",
              "      <td>1.000000</td>\n",
              "      <td>-0.070599</td>\n",
              "      <td>0.078312</td>\n",
              "      <td>-0.131498</td>\n",
              "      <td>-0.637715</td>\n",
              "      <td>-0.022959</td>\n",
              "      <td>0.200252</td>\n",
              "    </tr>\n",
              "    <tr>\n",
              "      <th>age</th>\n",
              "      <td>-0.283040</td>\n",
              "      <td>-0.070599</td>\n",
              "      <td>1.000000</td>\n",
              "      <td>-0.522689</td>\n",
              "      <td>-0.650397</td>\n",
              "      <td>-0.108302</td>\n",
              "      <td>0.853835</td>\n",
              "      <td>0.489356</td>\n",
              "    </tr>\n",
              "    <tr>\n",
              "      <th>sibsp</th>\n",
              "      <td>-0.050946</td>\n",
              "      <td>0.078312</td>\n",
              "      <td>-0.522689</td>\n",
              "      <td>1.000000</td>\n",
              "      <td>0.591787</td>\n",
              "      <td>0.231176</td>\n",
              "      <td>-0.628145</td>\n",
              "      <td>-0.681062</td>\n",
              "    </tr>\n",
              "    <tr>\n",
              "      <th>parch</th>\n",
              "      <td>0.236309</td>\n",
              "      <td>-0.131498</td>\n",
              "      <td>-0.650397</td>\n",
              "      <td>0.591787</td>\n",
              "      <td>1.000000</td>\n",
              "      <td>0.429656</td>\n",
              "      <td>-0.702921</td>\n",
              "      <td>-0.671577</td>\n",
              "    </tr>\n",
              "    <tr>\n",
              "      <th>fare</th>\n",
              "      <td>0.101925</td>\n",
              "      <td>-0.637715</td>\n",
              "      <td>-0.108302</td>\n",
              "      <td>0.231176</td>\n",
              "      <td>0.429656</td>\n",
              "      <td>1.000000</td>\n",
              "      <td>-0.143227</td>\n",
              "      <td>-0.387947</td>\n",
              "    </tr>\n",
              "    <tr>\n",
              "      <th>adult_male</th>\n",
              "      <td>-0.339703</td>\n",
              "      <td>-0.022959</td>\n",
              "      <td>0.853835</td>\n",
              "      <td>-0.628145</td>\n",
              "      <td>-0.702921</td>\n",
              "      <td>-0.143227</td>\n",
              "      <td>1.000000</td>\n",
              "      <td>0.568303</td>\n",
              "    </tr>\n",
              "    <tr>\n",
              "      <th>alone</th>\n",
              "      <td>-0.218943</td>\n",
              "      <td>0.200252</td>\n",
              "      <td>0.489356</td>\n",
              "      <td>-0.681062</td>\n",
              "      <td>-0.671577</td>\n",
              "      <td>-0.387947</td>\n",
              "      <td>0.568303</td>\n",
              "      <td>1.000000</td>\n",
              "    </tr>\n",
              "  </tbody>\n",
              "</table>\n",
              "</div>"
            ],
            "text/plain": [
              "            survived    pclass       age  ...      fare  adult_male     alone\n",
              "survived    1.000000 -0.230821 -0.283040  ...  0.101925   -0.339703 -0.218943\n",
              "pclass     -0.230821  1.000000 -0.070599  ... -0.637715   -0.022959  0.200252\n",
              "age        -0.283040 -0.070599  1.000000  ... -0.108302    0.853835  0.489356\n",
              "sibsp      -0.050946  0.078312 -0.522689  ...  0.231176   -0.628145 -0.681062\n",
              "parch       0.236309 -0.131498 -0.650397  ...  0.429656   -0.702921 -0.671577\n",
              "fare        0.101925 -0.637715 -0.108302  ...  1.000000   -0.143227 -0.387947\n",
              "adult_male -0.339703 -0.022959  0.853835  ... -0.143227    1.000000  0.568303\n",
              "alone      -0.218943  0.200252  0.489356  ... -0.387947    0.568303  1.000000\n",
              "\n",
              "[8 rows x 8 columns]"
            ]
          },
          "metadata": {},
          "execution_count": 13
        }
      ]
    },
    {
      "cell_type": "code",
      "metadata": {
        "colab": {
          "base_uri": "https://localhost:8080/",
          "height": 297
        },
        "id": "akKSP6WLRApz",
        "outputId": "e67a3d36-8b8d-4828-a2e8-3ecbc550f34d"
      },
      "source": [
        "tmp = rdf[(rdf.pclass==3)] # 객실 등급에 따라 survived와 age의 상관계수가 다름\n",
        "tmp[(tmp.sex=='male') & (tmp.age<30)].corr() "
      ],
      "execution_count": null,
      "outputs": [
        {
          "output_type": "execute_result",
          "data": {
            "text/html": [
              "<div>\n",
              "<style scoped>\n",
              "    .dataframe tbody tr th:only-of-type {\n",
              "        vertical-align: middle;\n",
              "    }\n",
              "\n",
              "    .dataframe tbody tr th {\n",
              "        vertical-align: top;\n",
              "    }\n",
              "\n",
              "    .dataframe thead th {\n",
              "        text-align: right;\n",
              "    }\n",
              "</style>\n",
              "<table border=\"1\" class=\"dataframe\">\n",
              "  <thead>\n",
              "    <tr style=\"text-align: right;\">\n",
              "      <th></th>\n",
              "      <th>survived</th>\n",
              "      <th>pclass</th>\n",
              "      <th>age</th>\n",
              "      <th>sibsp</th>\n",
              "      <th>parch</th>\n",
              "      <th>fare</th>\n",
              "      <th>adult_male</th>\n",
              "      <th>alone</th>\n",
              "    </tr>\n",
              "  </thead>\n",
              "  <tbody>\n",
              "    <tr>\n",
              "      <th>survived</th>\n",
              "      <td>1.000000</td>\n",
              "      <td>NaN</td>\n",
              "      <td>-0.125632</td>\n",
              "      <td>-0.083791</td>\n",
              "      <td>0.099899</td>\n",
              "      <td>-0.015207</td>\n",
              "      <td>-0.182742</td>\n",
              "      <td>-0.110370</td>\n",
              "    </tr>\n",
              "    <tr>\n",
              "      <th>pclass</th>\n",
              "      <td>NaN</td>\n",
              "      <td>NaN</td>\n",
              "      <td>NaN</td>\n",
              "      <td>NaN</td>\n",
              "      <td>NaN</td>\n",
              "      <td>NaN</td>\n",
              "      <td>NaN</td>\n",
              "      <td>NaN</td>\n",
              "    </tr>\n",
              "    <tr>\n",
              "      <th>age</th>\n",
              "      <td>-0.125632</td>\n",
              "      <td>NaN</td>\n",
              "      <td>1.000000</td>\n",
              "      <td>-0.633480</td>\n",
              "      <td>-0.690664</td>\n",
              "      <td>-0.494427</td>\n",
              "      <td>0.835118</td>\n",
              "      <td>0.551316</td>\n",
              "    </tr>\n",
              "    <tr>\n",
              "      <th>sibsp</th>\n",
              "      <td>-0.083791</td>\n",
              "      <td>NaN</td>\n",
              "      <td>-0.633480</td>\n",
              "      <td>1.000000</td>\n",
              "      <td>0.728975</td>\n",
              "      <td>0.776830</td>\n",
              "      <td>-0.737404</td>\n",
              "      <td>-0.752813</td>\n",
              "    </tr>\n",
              "    <tr>\n",
              "      <th>parch</th>\n",
              "      <td>0.099899</td>\n",
              "      <td>NaN</td>\n",
              "      <td>-0.690664</td>\n",
              "      <td>0.728975</td>\n",
              "      <td>1.000000</td>\n",
              "      <td>0.680097</td>\n",
              "      <td>-0.747831</td>\n",
              "      <td>-0.688372</td>\n",
              "    </tr>\n",
              "    <tr>\n",
              "      <th>fare</th>\n",
              "      <td>-0.015207</td>\n",
              "      <td>NaN</td>\n",
              "      <td>-0.494427</td>\n",
              "      <td>0.776830</td>\n",
              "      <td>0.680097</td>\n",
              "      <td>1.000000</td>\n",
              "      <td>-0.615092</td>\n",
              "      <td>-0.532739</td>\n",
              "    </tr>\n",
              "    <tr>\n",
              "      <th>adult_male</th>\n",
              "      <td>-0.182742</td>\n",
              "      <td>NaN</td>\n",
              "      <td>0.835118</td>\n",
              "      <td>-0.737404</td>\n",
              "      <td>-0.747831</td>\n",
              "      <td>-0.615092</td>\n",
              "      <td>1.000000</td>\n",
              "      <td>0.631679</td>\n",
              "    </tr>\n",
              "    <tr>\n",
              "      <th>alone</th>\n",
              "      <td>-0.110370</td>\n",
              "      <td>NaN</td>\n",
              "      <td>0.551316</td>\n",
              "      <td>-0.752813</td>\n",
              "      <td>-0.688372</td>\n",
              "      <td>-0.532739</td>\n",
              "      <td>0.631679</td>\n",
              "      <td>1.000000</td>\n",
              "    </tr>\n",
              "  </tbody>\n",
              "</table>\n",
              "</div>"
            ],
            "text/plain": [
              "            survived  pclass       age  ...      fare  adult_male     alone\n",
              "survived    1.000000     NaN -0.125632  ... -0.015207   -0.182742 -0.110370\n",
              "pclass           NaN     NaN       NaN  ...       NaN         NaN       NaN\n",
              "age        -0.125632     NaN  1.000000  ... -0.494427    0.835118  0.551316\n",
              "sibsp      -0.083791     NaN -0.633480  ...  0.776830   -0.737404 -0.752813\n",
              "parch       0.099899     NaN -0.690664  ...  0.680097   -0.747831 -0.688372\n",
              "fare       -0.015207     NaN -0.494427  ...  1.000000   -0.615092 -0.532739\n",
              "adult_male -0.182742     NaN  0.835118  ... -0.615092    1.000000  0.631679\n",
              "alone      -0.110370     NaN  0.551316  ... -0.532739    0.631679  1.000000\n",
              "\n",
              "[8 rows x 8 columns]"
            ]
          },
          "metadata": {},
          "execution_count": 21
        }
      ]
    },
    {
      "cell_type": "code",
      "metadata": {
        "colab": {
          "base_uri": "https://localhost:8080/",
          "height": 297
        },
        "id": "xPhIgPZQPn7g",
        "outputId": "c2b46c16-4c4b-4872-8776-b3dc4c0a6089"
      },
      "source": [
        "tmp = rdf[(rdf.pclass==2)] \n",
        "tmp[(tmp.sex=='male') & (tmp.age<30)].corr() "
      ],
      "execution_count": null,
      "outputs": [
        {
          "output_type": "execute_result",
          "data": {
            "text/html": [
              "<div>\n",
              "<style scoped>\n",
              "    .dataframe tbody tr th:only-of-type {\n",
              "        vertical-align: middle;\n",
              "    }\n",
              "\n",
              "    .dataframe tbody tr th {\n",
              "        vertical-align: top;\n",
              "    }\n",
              "\n",
              "    .dataframe thead th {\n",
              "        text-align: right;\n",
              "    }\n",
              "</style>\n",
              "<table border=\"1\" class=\"dataframe\">\n",
              "  <thead>\n",
              "    <tr style=\"text-align: right;\">\n",
              "      <th></th>\n",
              "      <th>survived</th>\n",
              "      <th>pclass</th>\n",
              "      <th>age</th>\n",
              "      <th>sibsp</th>\n",
              "      <th>parch</th>\n",
              "      <th>fare</th>\n",
              "      <th>adult_male</th>\n",
              "      <th>alone</th>\n",
              "    </tr>\n",
              "  </thead>\n",
              "  <tbody>\n",
              "    <tr>\n",
              "      <th>survived</th>\n",
              "      <td>1.000000</td>\n",
              "      <td>NaN</td>\n",
              "      <td>-0.883493</td>\n",
              "      <td>0.302318</td>\n",
              "      <td>0.665392</td>\n",
              "      <td>0.069790</td>\n",
              "      <td>-0.936117</td>\n",
              "      <td>-0.525169</td>\n",
              "    </tr>\n",
              "    <tr>\n",
              "      <th>pclass</th>\n",
              "      <td>NaN</td>\n",
              "      <td>NaN</td>\n",
              "      <td>NaN</td>\n",
              "      <td>NaN</td>\n",
              "      <td>NaN</td>\n",
              "      <td>NaN</td>\n",
              "      <td>NaN</td>\n",
              "      <td>NaN</td>\n",
              "    </tr>\n",
              "    <tr>\n",
              "      <th>age</th>\n",
              "      <td>-0.883493</td>\n",
              "      <td>NaN</td>\n",
              "      <td>1.000000</td>\n",
              "      <td>-0.298291</td>\n",
              "      <td>-0.659491</td>\n",
              "      <td>-0.144806</td>\n",
              "      <td>0.917501</td>\n",
              "      <td>0.487331</td>\n",
              "    </tr>\n",
              "    <tr>\n",
              "      <th>sibsp</th>\n",
              "      <td>0.302318</td>\n",
              "      <td>NaN</td>\n",
              "      <td>-0.298291</td>\n",
              "      <td>1.000000</td>\n",
              "      <td>0.344711</td>\n",
              "      <td>0.438113</td>\n",
              "      <td>-0.350183</td>\n",
              "      <td>-0.802203</td>\n",
              "    </tr>\n",
              "    <tr>\n",
              "      <th>parch</th>\n",
              "      <td>0.665392</td>\n",
              "      <td>NaN</td>\n",
              "      <td>-0.659491</td>\n",
              "      <td>0.344711</td>\n",
              "      <td>1.000000</td>\n",
              "      <td>0.210574</td>\n",
              "      <td>-0.723113</td>\n",
              "      <td>-0.696358</td>\n",
              "    </tr>\n",
              "    <tr>\n",
              "      <th>fare</th>\n",
              "      <td>0.069790</td>\n",
              "      <td>NaN</td>\n",
              "      <td>-0.144806</td>\n",
              "      <td>0.438113</td>\n",
              "      <td>0.210574</td>\n",
              "      <td>1.000000</td>\n",
              "      <td>-0.111388</td>\n",
              "      <td>-0.391154</td>\n",
              "    </tr>\n",
              "    <tr>\n",
              "      <th>adult_male</th>\n",
              "      <td>-0.936117</td>\n",
              "      <td>NaN</td>\n",
              "      <td>0.917501</td>\n",
              "      <td>-0.350183</td>\n",
              "      <td>-0.723113</td>\n",
              "      <td>-0.111388</td>\n",
              "      <td>1.000000</td>\n",
              "      <td>0.590788</td>\n",
              "    </tr>\n",
              "    <tr>\n",
              "      <th>alone</th>\n",
              "      <td>-0.525169</td>\n",
              "      <td>NaN</td>\n",
              "      <td>0.487331</td>\n",
              "      <td>-0.802203</td>\n",
              "      <td>-0.696358</td>\n",
              "      <td>-0.391154</td>\n",
              "      <td>0.590788</td>\n",
              "      <td>1.000000</td>\n",
              "    </tr>\n",
              "  </tbody>\n",
              "</table>\n",
              "</div>"
            ],
            "text/plain": [
              "            survived  pclass       age  ...      fare  adult_male     alone\n",
              "survived    1.000000     NaN -0.883493  ...  0.069790   -0.936117 -0.525169\n",
              "pclass           NaN     NaN       NaN  ...       NaN         NaN       NaN\n",
              "age        -0.883493     NaN  1.000000  ... -0.144806    0.917501  0.487331\n",
              "sibsp       0.302318     NaN -0.298291  ...  0.438113   -0.350183 -0.802203\n",
              "parch       0.665392     NaN -0.659491  ...  0.210574   -0.723113 -0.696358\n",
              "fare        0.069790     NaN -0.144806  ...  1.000000   -0.111388 -0.391154\n",
              "adult_male -0.936117     NaN  0.917501  ... -0.111388    1.000000  0.590788\n",
              "alone      -0.525169     NaN  0.487331  ... -0.391154    0.590788  1.000000\n",
              "\n",
              "[8 rows x 8 columns]"
            ]
          },
          "metadata": {},
          "execution_count": 26
        }
      ]
    },
    {
      "cell_type": "markdown",
      "metadata": {
        "id": "UarTl-XYRfht"
      },
      "source": [
        "- 객실 등급별 성별별 데이터 분포 다양하게 확인해야 함"
      ]
    },
    {
      "cell_type": "code",
      "metadata": {
        "colab": {
          "base_uri": "https://localhost:8080/",
          "height": 297
        },
        "id": "Fe1h8QIgP7B5",
        "outputId": "af016b72-3611-4440-a003-55472b8f7f23"
      },
      "source": [
        "tmp = rdf[(rdf.pclass==3) & (rdf.sex=='male')] \n",
        "tmp.describe()"
      ],
      "execution_count": null,
      "outputs": [
        {
          "output_type": "execute_result",
          "data": {
            "text/html": [
              "<div>\n",
              "<style scoped>\n",
              "    .dataframe tbody tr th:only-of-type {\n",
              "        vertical-align: middle;\n",
              "    }\n",
              "\n",
              "    .dataframe tbody tr th {\n",
              "        vertical-align: top;\n",
              "    }\n",
              "\n",
              "    .dataframe thead th {\n",
              "        text-align: right;\n",
              "    }\n",
              "</style>\n",
              "<table border=\"1\" class=\"dataframe\">\n",
              "  <thead>\n",
              "    <tr style=\"text-align: right;\">\n",
              "      <th></th>\n",
              "      <th>survived</th>\n",
              "      <th>pclass</th>\n",
              "      <th>age</th>\n",
              "      <th>sibsp</th>\n",
              "      <th>parch</th>\n",
              "      <th>fare</th>\n",
              "    </tr>\n",
              "  </thead>\n",
              "  <tbody>\n",
              "    <tr>\n",
              "      <th>count</th>\n",
              "      <td>253.000000</td>\n",
              "      <td>253.0</td>\n",
              "      <td>253.000000</td>\n",
              "      <td>253.000000</td>\n",
              "      <td>253.000000</td>\n",
              "      <td>253.000000</td>\n",
              "    </tr>\n",
              "    <tr>\n",
              "      <th>mean</th>\n",
              "      <td>0.150198</td>\n",
              "      <td>3.0</td>\n",
              "      <td>26.507589</td>\n",
              "      <td>0.490119</td>\n",
              "      <td>0.256917</td>\n",
              "      <td>12.162695</td>\n",
              "    </tr>\n",
              "    <tr>\n",
              "      <th>std</th>\n",
              "      <td>0.357973</td>\n",
              "      <td>0.0</td>\n",
              "      <td>12.159514</td>\n",
              "      <td>1.121976</td>\n",
              "      <td>0.667560</td>\n",
              "      <td>10.129882</td>\n",
              "    </tr>\n",
              "    <tr>\n",
              "      <th>min</th>\n",
              "      <td>0.000000</td>\n",
              "      <td>3.0</td>\n",
              "      <td>0.420000</td>\n",
              "      <td>0.000000</td>\n",
              "      <td>0.000000</td>\n",
              "      <td>0.000000</td>\n",
              "    </tr>\n",
              "    <tr>\n",
              "      <th>25%</th>\n",
              "      <td>0.000000</td>\n",
              "      <td>3.0</td>\n",
              "      <td>20.000000</td>\n",
              "      <td>0.000000</td>\n",
              "      <td>0.000000</td>\n",
              "      <td>7.750000</td>\n",
              "    </tr>\n",
              "    <tr>\n",
              "      <th>50%</th>\n",
              "      <td>0.000000</td>\n",
              "      <td>3.0</td>\n",
              "      <td>25.000000</td>\n",
              "      <td>0.000000</td>\n",
              "      <td>0.000000</td>\n",
              "      <td>7.925000</td>\n",
              "    </tr>\n",
              "    <tr>\n",
              "      <th>75%</th>\n",
              "      <td>0.000000</td>\n",
              "      <td>3.0</td>\n",
              "      <td>33.000000</td>\n",
              "      <td>0.000000</td>\n",
              "      <td>0.000000</td>\n",
              "      <td>9.500000</td>\n",
              "    </tr>\n",
              "    <tr>\n",
              "      <th>max</th>\n",
              "      <td>1.000000</td>\n",
              "      <td>3.0</td>\n",
              "      <td>74.000000</td>\n",
              "      <td>5.000000</td>\n",
              "      <td>5.000000</td>\n",
              "      <td>56.495800</td>\n",
              "    </tr>\n",
              "  </tbody>\n",
              "</table>\n",
              "</div>"
            ],
            "text/plain": [
              "         survived  pclass         age       sibsp       parch        fare\n",
              "count  253.000000   253.0  253.000000  253.000000  253.000000  253.000000\n",
              "mean     0.150198     3.0   26.507589    0.490119    0.256917   12.162695\n",
              "std      0.357973     0.0   12.159514    1.121976    0.667560   10.129882\n",
              "min      0.000000     3.0    0.420000    0.000000    0.000000    0.000000\n",
              "25%      0.000000     3.0   20.000000    0.000000    0.000000    7.750000\n",
              "50%      0.000000     3.0   25.000000    0.000000    0.000000    7.925000\n",
              "75%      0.000000     3.0   33.000000    0.000000    0.000000    9.500000\n",
              "max      1.000000     3.0   74.000000    5.000000    5.000000   56.495800"
            ]
          },
          "metadata": {},
          "execution_count": 27
        }
      ]
    },
    {
      "cell_type": "code",
      "metadata": {
        "colab": {
          "base_uri": "https://localhost:8080/",
          "height": 297
        },
        "id": "2CIzCTb3Q4jl",
        "outputId": "5004b0cb-4ecf-4e2a-9868-3ebe87bc1bf5"
      },
      "source": [
        "tmp = rdf[(rdf.pclass==1) & (rdf.sex=='male')] \n",
        "tmp.describe()"
      ],
      "execution_count": null,
      "outputs": [
        {
          "output_type": "execute_result",
          "data": {
            "text/html": [
              "<div>\n",
              "<style scoped>\n",
              "    .dataframe tbody tr th:only-of-type {\n",
              "        vertical-align: middle;\n",
              "    }\n",
              "\n",
              "    .dataframe tbody tr th {\n",
              "        vertical-align: top;\n",
              "    }\n",
              "\n",
              "    .dataframe thead th {\n",
              "        text-align: right;\n",
              "    }\n",
              "</style>\n",
              "<table border=\"1\" class=\"dataframe\">\n",
              "  <thead>\n",
              "    <tr style=\"text-align: right;\">\n",
              "      <th></th>\n",
              "      <th>survived</th>\n",
              "      <th>pclass</th>\n",
              "      <th>age</th>\n",
              "      <th>sibsp</th>\n",
              "      <th>parch</th>\n",
              "      <th>fare</th>\n",
              "    </tr>\n",
              "  </thead>\n",
              "  <tbody>\n",
              "    <tr>\n",
              "      <th>count</th>\n",
              "      <td>101.000000</td>\n",
              "      <td>101.0</td>\n",
              "      <td>101.000000</td>\n",
              "      <td>101.000000</td>\n",
              "      <td>101.000000</td>\n",
              "      <td>101.000000</td>\n",
              "    </tr>\n",
              "    <tr>\n",
              "      <th>mean</th>\n",
              "      <td>0.396040</td>\n",
              "      <td>1.0</td>\n",
              "      <td>41.281386</td>\n",
              "      <td>0.376238</td>\n",
              "      <td>0.336634</td>\n",
              "      <td>71.142781</td>\n",
              "    </tr>\n",
              "    <tr>\n",
              "      <th>std</th>\n",
              "      <td>0.491512</td>\n",
              "      <td>0.0</td>\n",
              "      <td>15.139570</td>\n",
              "      <td>0.580543</td>\n",
              "      <td>0.711017</td>\n",
              "      <td>80.430599</td>\n",
              "    </tr>\n",
              "    <tr>\n",
              "      <th>min</th>\n",
              "      <td>0.000000</td>\n",
              "      <td>1.0</td>\n",
              "      <td>0.920000</td>\n",
              "      <td>0.000000</td>\n",
              "      <td>0.000000</td>\n",
              "      <td>0.000000</td>\n",
              "    </tr>\n",
              "    <tr>\n",
              "      <th>25%</th>\n",
              "      <td>0.000000</td>\n",
              "      <td>1.0</td>\n",
              "      <td>30.000000</td>\n",
              "      <td>0.000000</td>\n",
              "      <td>0.000000</td>\n",
              "      <td>29.700000</td>\n",
              "    </tr>\n",
              "    <tr>\n",
              "      <th>50%</th>\n",
              "      <td>0.000000</td>\n",
              "      <td>1.0</td>\n",
              "      <td>40.000000</td>\n",
              "      <td>0.000000</td>\n",
              "      <td>0.000000</td>\n",
              "      <td>52.000000</td>\n",
              "    </tr>\n",
              "    <tr>\n",
              "      <th>75%</th>\n",
              "      <td>1.000000</td>\n",
              "      <td>1.0</td>\n",
              "      <td>51.000000</td>\n",
              "      <td>1.000000</td>\n",
              "      <td>0.000000</td>\n",
              "      <td>79.200000</td>\n",
              "    </tr>\n",
              "    <tr>\n",
              "      <th>max</th>\n",
              "      <td>1.000000</td>\n",
              "      <td>1.0</td>\n",
              "      <td>80.000000</td>\n",
              "      <td>3.000000</td>\n",
              "      <td>4.000000</td>\n",
              "      <td>512.329200</td>\n",
              "    </tr>\n",
              "  </tbody>\n",
              "</table>\n",
              "</div>"
            ],
            "text/plain": [
              "         survived  pclass         age       sibsp       parch        fare\n",
              "count  101.000000   101.0  101.000000  101.000000  101.000000  101.000000\n",
              "mean     0.396040     1.0   41.281386    0.376238    0.336634   71.142781\n",
              "std      0.491512     0.0   15.139570    0.580543    0.711017   80.430599\n",
              "min      0.000000     1.0    0.920000    0.000000    0.000000    0.000000\n",
              "25%      0.000000     1.0   30.000000    0.000000    0.000000   29.700000\n",
              "50%      0.000000     1.0   40.000000    0.000000    0.000000   52.000000\n",
              "75%      1.000000     1.0   51.000000    1.000000    0.000000   79.200000\n",
              "max      1.000000     1.0   80.000000    3.000000    4.000000  512.329200"
            ]
          },
          "metadata": {},
          "execution_count": 29
        }
      ]
    },
    {
      "cell_type": "code",
      "metadata": {
        "colab": {
          "base_uri": "https://localhost:8080/"
        },
        "id": "k5DPeJ15RZOl",
        "outputId": "43d03bce-b823-4534-aa33-c7dd84fbb2b0"
      },
      "source": [
        "# embarked 열의 NaN값을 승선도시 중에서 가장 많이 출현한 값으로 치환하기\n",
        "most_freq = rdf['embarked'].value_counts(dropna=True).idxmax()   \n",
        "print(most_freq)\n",
        "print('\\n')\n",
        "\n",
        "print(rdf.describe(include='all'))\n",
        "print('\\n')\n",
        "\n",
        "rdf['embarked'].fillna(most_freq, inplace=True)"
      ],
      "execution_count": null,
      "outputs": [
        {
          "output_type": "stream",
          "name": "stdout",
          "text": [
            "S\n",
            "\n",
            "\n",
            "          survived      pclass   sex         age  ...  who  adult_male  alive alone\n",
            "count   714.000000  714.000000   714  714.000000  ...  714         714    714   714\n",
            "unique         NaN         NaN     2         NaN  ...    3           2      2     2\n",
            "top            NaN         NaN  male         NaN  ...  man        True     no  True\n",
            "freq           NaN         NaN   453         NaN  ...  413         413    424   404\n",
            "mean      0.406162    2.236695   NaN   29.699118  ...  NaN         NaN    NaN   NaN\n",
            "std       0.491460    0.838250   NaN   14.526497  ...  NaN         NaN    NaN   NaN\n",
            "min       0.000000    1.000000   NaN    0.420000  ...  NaN         NaN    NaN   NaN\n",
            "25%       0.000000    1.000000   NaN   20.125000  ...  NaN         NaN    NaN   NaN\n",
            "50%       0.000000    2.000000   NaN   28.000000  ...  NaN         NaN    NaN   NaN\n",
            "75%       1.000000    3.000000   NaN   38.000000  ...  NaN         NaN    NaN   NaN\n",
            "max       1.000000    3.000000   NaN   80.000000  ...  NaN         NaN    NaN   NaN\n",
            "\n",
            "[11 rows x 13 columns]\n",
            "\n",
            "\n"
          ]
        }
      ]
    },
    {
      "cell_type": "markdown",
      "metadata": {
        "id": "wORpupRQYv3o"
      },
      "source": [
        "## 3. 분석에 사용할 속성을 선택"
      ]
    },
    {
      "cell_type": "code",
      "metadata": {
        "colab": {
          "base_uri": "https://localhost:8080/",
          "height": 204
        },
        "id": "e96RJ5bnR3Ef",
        "outputId": "01f10df1-a817-41c0-909a-1ee89acf4744"
      },
      "source": [
        "# 분석에 활용할 열(속성)을 선택 \n",
        "ndf = rdf[['survived', 'pclass', 'sex', 'age', 'sibsp', 'parch', 'embarked']]\n",
        "ndf.head()   "
      ],
      "execution_count": null,
      "outputs": [
        {
          "output_type": "execute_result",
          "data": {
            "text/html": [
              "<div>\n",
              "<style scoped>\n",
              "    .dataframe tbody tr th:only-of-type {\n",
              "        vertical-align: middle;\n",
              "    }\n",
              "\n",
              "    .dataframe tbody tr th {\n",
              "        vertical-align: top;\n",
              "    }\n",
              "\n",
              "    .dataframe thead th {\n",
              "        text-align: right;\n",
              "    }\n",
              "</style>\n",
              "<table border=\"1\" class=\"dataframe\">\n",
              "  <thead>\n",
              "    <tr style=\"text-align: right;\">\n",
              "      <th></th>\n",
              "      <th>survived</th>\n",
              "      <th>pclass</th>\n",
              "      <th>sex</th>\n",
              "      <th>age</th>\n",
              "      <th>sibsp</th>\n",
              "      <th>parch</th>\n",
              "      <th>embarked</th>\n",
              "    </tr>\n",
              "  </thead>\n",
              "  <tbody>\n",
              "    <tr>\n",
              "      <th>0</th>\n",
              "      <td>0</td>\n",
              "      <td>3</td>\n",
              "      <td>male</td>\n",
              "      <td>22.0</td>\n",
              "      <td>1</td>\n",
              "      <td>0</td>\n",
              "      <td>S</td>\n",
              "    </tr>\n",
              "    <tr>\n",
              "      <th>1</th>\n",
              "      <td>1</td>\n",
              "      <td>1</td>\n",
              "      <td>female</td>\n",
              "      <td>38.0</td>\n",
              "      <td>1</td>\n",
              "      <td>0</td>\n",
              "      <td>C</td>\n",
              "    </tr>\n",
              "    <tr>\n",
              "      <th>2</th>\n",
              "      <td>1</td>\n",
              "      <td>3</td>\n",
              "      <td>female</td>\n",
              "      <td>26.0</td>\n",
              "      <td>0</td>\n",
              "      <td>0</td>\n",
              "      <td>S</td>\n",
              "    </tr>\n",
              "    <tr>\n",
              "      <th>3</th>\n",
              "      <td>1</td>\n",
              "      <td>1</td>\n",
              "      <td>female</td>\n",
              "      <td>35.0</td>\n",
              "      <td>1</td>\n",
              "      <td>0</td>\n",
              "      <td>S</td>\n",
              "    </tr>\n",
              "    <tr>\n",
              "      <th>4</th>\n",
              "      <td>0</td>\n",
              "      <td>3</td>\n",
              "      <td>male</td>\n",
              "      <td>35.0</td>\n",
              "      <td>0</td>\n",
              "      <td>0</td>\n",
              "      <td>S</td>\n",
              "    </tr>\n",
              "  </tbody>\n",
              "</table>\n",
              "</div>"
            ],
            "text/plain": [
              "   survived  pclass     sex   age  sibsp  parch embarked\n",
              "0         0       3    male  22.0      1      0        S\n",
              "1         1       1  female  38.0      1      0        C\n",
              "2         1       3  female  26.0      0      0        S\n",
              "3         1       1  female  35.0      1      0        S\n",
              "4         0       3    male  35.0      0      0        S"
            ]
          },
          "metadata": {},
          "execution_count": 36
        }
      ]
    },
    {
      "cell_type": "code",
      "metadata": {
        "id": "GYXQA2Y-SGci"
      },
      "source": [
        "# 원핫인코딩 - 범주형 데이터를 모형이 인식할 수 있도록 숫자형으로 변환(pclass는 더미변수화를 하지 않은 경우이다.)\n",
        "onehot_sex = pd.get_dummies(ndf['sex'])\n",
        "ndf = pd.concat([ndf, onehot_sex], axis=1)\n",
        "\n",
        "onehot_embarked = pd.get_dummies(ndf['embarked'], prefix='town')\n",
        "ndf = pd.concat([ndf, onehot_embarked], axis=1)"
      ],
      "execution_count": null,
      "outputs": []
    },
    {
      "cell_type": "code",
      "metadata": {
        "colab": {
          "base_uri": "https://localhost:8080/"
        },
        "id": "N3gfzotOSJrX",
        "outputId": "b678d629-56d4-4c43-9dd5-6ac4296cbe00"
      },
      "source": [
        "ndf.drop(['sex', 'embarked'], axis=1, inplace=True)\n",
        "print(ndf.head()) "
      ],
      "execution_count": null,
      "outputs": [
        {
          "output_type": "stream",
          "name": "stdout",
          "text": [
            "   survived  pclass   age  sibsp  parch  female  male  town_C  town_Q  town_S\n",
            "0         0       3  22.0      1      0       0     1       0       0       1\n",
            "1         1       1  38.0      1      0       1     0       1       0       0\n",
            "2         1       3  26.0      0      0       1     0       0       0       1\n",
            "3         1       1  35.0      1      0       1     0       0       0       1\n",
            "4         0       3  35.0      0      0       0     1       0       0       1\n",
            "\n",
            "\n"
          ]
        }
      ]
    },
    {
      "cell_type": "markdown",
      "metadata": {
        "id": "-hYMO0QJY0G5"
      },
      "source": [
        "## 4. 데이터셋 구분 - 훈련용(train data)/ 검증용(test data)"
      ]
    },
    {
      "cell_type": "code",
      "metadata": {
        "id": "zr5Cj4MFSjSK"
      },
      "source": [
        "# 속성(변수) 선택\n",
        "X=ndf[['pclass', 'age', 'sibsp', 'parch', 'female', 'male', \n",
        "       'town_C', 'town_Q', 'town_S']]  #독립 변수 X\n",
        "y=ndf['survived']                      #종속 변수 Y"
      ],
      "execution_count": null,
      "outputs": []
    },
    {
      "cell_type": "code",
      "metadata": {
        "colab": {
          "base_uri": "https://localhost:8080/",
          "height": 297
        },
        "id": "TUw1QjQYSwLG",
        "outputId": "e44933e3-c001-472b-872d-4ced79921adf"
      },
      "source": [
        "X.describe()"
      ],
      "execution_count": null,
      "outputs": [
        {
          "output_type": "execute_result",
          "data": {
            "text/html": [
              "<div>\n",
              "<style scoped>\n",
              "    .dataframe tbody tr th:only-of-type {\n",
              "        vertical-align: middle;\n",
              "    }\n",
              "\n",
              "    .dataframe tbody tr th {\n",
              "        vertical-align: top;\n",
              "    }\n",
              "\n",
              "    .dataframe thead th {\n",
              "        text-align: right;\n",
              "    }\n",
              "</style>\n",
              "<table border=\"1\" class=\"dataframe\">\n",
              "  <thead>\n",
              "    <tr style=\"text-align: right;\">\n",
              "      <th></th>\n",
              "      <th>pclass</th>\n",
              "      <th>age</th>\n",
              "      <th>sibsp</th>\n",
              "      <th>parch</th>\n",
              "      <th>female</th>\n",
              "      <th>male</th>\n",
              "      <th>town_C</th>\n",
              "      <th>town_Q</th>\n",
              "      <th>town_S</th>\n",
              "    </tr>\n",
              "  </thead>\n",
              "  <tbody>\n",
              "    <tr>\n",
              "      <th>count</th>\n",
              "      <td>714.000000</td>\n",
              "      <td>714.000000</td>\n",
              "      <td>714.000000</td>\n",
              "      <td>714.000000</td>\n",
              "      <td>714.000000</td>\n",
              "      <td>714.000000</td>\n",
              "      <td>714.000000</td>\n",
              "      <td>714.000000</td>\n",
              "      <td>714.000000</td>\n",
              "    </tr>\n",
              "    <tr>\n",
              "      <th>mean</th>\n",
              "      <td>2.236695</td>\n",
              "      <td>29.699118</td>\n",
              "      <td>0.512605</td>\n",
              "      <td>0.431373</td>\n",
              "      <td>0.365546</td>\n",
              "      <td>0.634454</td>\n",
              "      <td>0.182073</td>\n",
              "      <td>0.039216</td>\n",
              "      <td>0.778711</td>\n",
              "    </tr>\n",
              "    <tr>\n",
              "      <th>std</th>\n",
              "      <td>0.838250</td>\n",
              "      <td>14.526497</td>\n",
              "      <td>0.929783</td>\n",
              "      <td>0.853289</td>\n",
              "      <td>0.481921</td>\n",
              "      <td>0.481921</td>\n",
              "      <td>0.386175</td>\n",
              "      <td>0.194244</td>\n",
              "      <td>0.415405</td>\n",
              "    </tr>\n",
              "    <tr>\n",
              "      <th>min</th>\n",
              "      <td>1.000000</td>\n",
              "      <td>0.420000</td>\n",
              "      <td>0.000000</td>\n",
              "      <td>0.000000</td>\n",
              "      <td>0.000000</td>\n",
              "      <td>0.000000</td>\n",
              "      <td>0.000000</td>\n",
              "      <td>0.000000</td>\n",
              "      <td>0.000000</td>\n",
              "    </tr>\n",
              "    <tr>\n",
              "      <th>25%</th>\n",
              "      <td>1.000000</td>\n",
              "      <td>20.125000</td>\n",
              "      <td>0.000000</td>\n",
              "      <td>0.000000</td>\n",
              "      <td>0.000000</td>\n",
              "      <td>0.000000</td>\n",
              "      <td>0.000000</td>\n",
              "      <td>0.000000</td>\n",
              "      <td>1.000000</td>\n",
              "    </tr>\n",
              "    <tr>\n",
              "      <th>50%</th>\n",
              "      <td>2.000000</td>\n",
              "      <td>28.000000</td>\n",
              "      <td>0.000000</td>\n",
              "      <td>0.000000</td>\n",
              "      <td>0.000000</td>\n",
              "      <td>1.000000</td>\n",
              "      <td>0.000000</td>\n",
              "      <td>0.000000</td>\n",
              "      <td>1.000000</td>\n",
              "    </tr>\n",
              "    <tr>\n",
              "      <th>75%</th>\n",
              "      <td>3.000000</td>\n",
              "      <td>38.000000</td>\n",
              "      <td>1.000000</td>\n",
              "      <td>1.000000</td>\n",
              "      <td>1.000000</td>\n",
              "      <td>1.000000</td>\n",
              "      <td>0.000000</td>\n",
              "      <td>0.000000</td>\n",
              "      <td>1.000000</td>\n",
              "    </tr>\n",
              "    <tr>\n",
              "      <th>max</th>\n",
              "      <td>3.000000</td>\n",
              "      <td>80.000000</td>\n",
              "      <td>5.000000</td>\n",
              "      <td>6.000000</td>\n",
              "      <td>1.000000</td>\n",
              "      <td>1.000000</td>\n",
              "      <td>1.000000</td>\n",
              "      <td>1.000000</td>\n",
              "      <td>1.000000</td>\n",
              "    </tr>\n",
              "  </tbody>\n",
              "</table>\n",
              "</div>"
            ],
            "text/plain": [
              "           pclass         age       sibsp  ...      town_C      town_Q      town_S\n",
              "count  714.000000  714.000000  714.000000  ...  714.000000  714.000000  714.000000\n",
              "mean     2.236695   29.699118    0.512605  ...    0.182073    0.039216    0.778711\n",
              "std      0.838250   14.526497    0.929783  ...    0.386175    0.194244    0.415405\n",
              "min      1.000000    0.420000    0.000000  ...    0.000000    0.000000    0.000000\n",
              "25%      1.000000   20.125000    0.000000  ...    0.000000    0.000000    1.000000\n",
              "50%      2.000000   28.000000    0.000000  ...    0.000000    0.000000    1.000000\n",
              "75%      3.000000   38.000000    1.000000  ...    0.000000    0.000000    1.000000\n",
              "max      3.000000   80.000000    5.000000  ...    1.000000    1.000000    1.000000\n",
              "\n",
              "[8 rows x 9 columns]"
            ]
          },
          "metadata": {},
          "execution_count": 42
        }
      ]
    },
    {
      "cell_type": "code",
      "metadata": {
        "id": "xG6fSZOoSnMQ"
      },
      "source": [
        "# 설명 변수 데이터를 정규화(normalization)\n",
        "from sklearn import preprocessing\n",
        "X = preprocessing.StandardScaler().fit(X).transform(X) # 평균을 0으로 분산을 1로 만드는 표준화(정규화) 작업"
      ],
      "execution_count": null,
      "outputs": []
    },
    {
      "cell_type": "code",
      "metadata": {
        "colab": {
          "base_uri": "https://localhost:8080/"
        },
        "id": "NbOqRuzjSuMY",
        "outputId": "aace3a21-2c57-45cf-e1cc-ba6a3014b95a"
      },
      "source": [
        "type(X)\n",
        "X[0] # 1번 자료의 9개 필드\n",
        "X[0][0] # 1번 자료의 pclass"
      ],
      "execution_count": null,
      "outputs": [
        {
          "output_type": "execute_result",
          "data": {
            "text/plain": [
              "0.9112323732939666"
            ]
          },
          "metadata": {},
          "execution_count": 48
        }
      ]
    },
    {
      "cell_type": "code",
      "metadata": {
        "colab": {
          "base_uri": "https://localhost:8080/"
        },
        "id": "3TTy3HwiS2_q",
        "outputId": "e37119b4-aeec-4e6f-85fa-65d93cae5907"
      },
      "source": [
        "X[:][0] # X[0]와 동일"
      ],
      "execution_count": null,
      "outputs": [
        {
          "output_type": "execute_result",
          "data": {
            "text/plain": [
              "array([ 0.91123237, -0.53037664,  0.52457013, -0.50589515, -0.75905134,\n",
              "        0.75905134, -0.47180795, -0.20203051,  0.53307848])"
            ]
          },
          "metadata": {},
          "execution_count": 49
        }
      ]
    },
    {
      "cell_type": "code",
      "metadata": {
        "colab": {
          "base_uri": "https://localhost:8080/"
        },
        "id": "Ki-xC_7STZs6",
        "outputId": "fbdb012a-594f-4b56-81d7-5ac4ab2c936d"
      },
      "source": [
        "ageList=[]\n",
        "\n",
        "for i in X:\n",
        "    ageList.append(i[1])\n",
        "\n",
        "np.min(ageList), np.max(ageList), np.mean(ageList), np.var(ageList) # 평균이 0, 분산이 1에 수렴"
      ],
      "execution_count": null,
      "outputs": [
        {
          "output_type": "execute_result",
          "data": {
            "text/plain": [
              "(-2.0169791879680417, 3.4651260350566906, 2.338621049070358e-16, 1.0)"
            ]
          },
          "metadata": {},
          "execution_count": 56
        }
      ]
    },
    {
      "cell_type": "code",
      "metadata": {
        "colab": {
          "base_uri": "https://localhost:8080/"
        },
        "id": "S50tCip3ToYd",
        "outputId": "6a9140d7-d166-4ce1-c0e6-d251a60d5f83"
      },
      "source": [
        "# train data 와 test data로 구분(7:3 비율)\n",
        "from sklearn.model_selection import train_test_split\n",
        "X_train, X_test, y_train, y_test = train_test_split(X, y, test_size=0.3, random_state=10) \n",
        "\n",
        "print('train data 개수: ', X_train.shape)\n",
        "print('test data 개수: ', X_test.shape)"
      ],
      "execution_count": null,
      "outputs": [
        {
          "output_type": "stream",
          "name": "stdout",
          "text": [
            "train data 개수:  (499, 9)\n",
            "test data 개수:  (215, 9)\n"
          ]
        }
      ]
    },
    {
      "cell_type": "markdown",
      "metadata": {
        "id": "nhi_MW4bY5d8"
      },
      "source": [
        "##  5. KNN 분류 모형 - sklearn 사용"
      ]
    },
    {
      "cell_type": "code",
      "metadata": {
        "colab": {
          "base_uri": "https://localhost:8080/"
        },
        "id": "FgCc02_QUx2h",
        "outputId": "1d3b52c3-ec59-4b47-d81c-5173faff4d78"
      },
      "source": [
        "# sklearn 라이브러리에서 KNN 분류 모형 가져오기\n",
        "from sklearn.neighbors import KNeighborsClassifier\n",
        "\n",
        "# 모형 객체 생성 (k=5로 설정)\n",
        "knn = KNeighborsClassifier(n_neighbors=5) # 중요한 이슈 : n_neighbors(주변의 갯수, 이웃)의 수\n",
        "\n",
        "# train data를 가지고 모형 학습\n",
        "knn.fit(X_train, y_train)   "
      ],
      "execution_count": null,
      "outputs": [
        {
          "output_type": "execute_result",
          "data": {
            "text/plain": [
              "KNeighborsClassifier(algorithm='auto', leaf_size=30, metric='minkowski',\n",
              "                     metric_params=None, n_jobs=None, n_neighbors=5, p=2,\n",
              "                     weights='uniform')"
            ]
          },
          "metadata": {},
          "execution_count": 58
        }
      ]
    },
    {
      "cell_type": "code",
      "metadata": {
        "colab": {
          "base_uri": "https://localhost:8080/"
        },
        "id": "Al58r5uiU8ZM",
        "outputId": "34268acc-6a9c-49db-bbb7-67f17426d7f8"
      },
      "source": [
        "# test data를 가지고 y_hat을 예측 (분류) \n",
        "y_hat = knn.predict(X_test)\n",
        "\n",
        "# print(y_hat[0:10])\n",
        "# print(y_test.values[0:10])\n",
        "tmp = y_hat-y_test.values # 같은 값이면 0, 다른 값이면 0이 아닌 자료가 나옴\n",
        "\n",
        "cnt = 0\n",
        "for i in tmp:\n",
        "    if i!=0:\n",
        "        cnt+=1\n",
        "\n",
        "errRate = cnt/len(tmp)*100 # 오류율\n",
        "cnt, errRate, 100-errRate # 오류 개수, 오류율, 성공률"
      ],
      "execution_count": null,
      "outputs": [
        {
          "output_type": "execute_result",
          "data": {
            "text/plain": [
              "(41, 19.069767441860467, 80.93023255813954)"
            ]
          },
          "metadata": {},
          "execution_count": 66
        }
      ]
    },
    {
      "cell_type": "code",
      "metadata": {
        "colab": {
          "base_uri": "https://localhost:8080/"
        },
        "id": "wHn9VSmOU7qF",
        "outputId": "7dd41bff-2aba-4522-e7bf-0c405409b40c"
      },
      "source": [
        "# 모형 성능 평가 - Confusion Matrix 계산\n",
        "from sklearn import metrics \n",
        "knn_matrix = metrics.confusion_matrix(y_test, y_hat)  \n",
        "print(knn_matrix)"
      ],
      "execution_count": null,
      "outputs": [
        {
          "output_type": "stream",
          "name": "stdout",
          "text": [
            "[[109  16]\n",
            " [ 25  65]]\n"
          ]
        }
      ]
    },
    {
      "cell_type": "code",
      "metadata": {
        "colab": {
          "base_uri": "https://localhost:8080/",
          "height": 279
        },
        "id": "jKPwWG02VtrR",
        "outputId": "4f683028-fc44-4929-e980-47441c083a68"
      },
      "source": [
        "# 혼동행렬 시각화\n",
        "sns.heatmap(knn_matrix, annot=True)\n",
        "plt.ylabel('Actual')\n",
        "plt.xlabel('Predicted')\n",
        "plt.show()"
      ],
      "execution_count": null,
      "outputs": [
        {
          "output_type": "display_data",
          "data": {
            "image/png": "[encoded data removed]",
            "text/plain": [
              "<Figure size 432x288 with 2 Axes>"
            ]
          },
          "metadata": {
            "needs_background": "light"
          }
        }
      ]
    },
    {
      "cell_type": "code",
      "metadata": {
        "colab": {
          "base_uri": "https://localhost:8080/"
        },
        "id": "P_GpqvolV0v8",
        "outputId": "db397166-1af6-4491-cc26-20d0ad752932"
      },
      "source": [
        "# 모형 성능 평가 - 평가지표 계산\n",
        "knn_report = metrics.classification_report(y_test, y_hat)            \n",
        "print(knn_report)"
      ],
      "execution_count": null,
      "outputs": [
        {
          "output_type": "stream",
          "name": "stdout",
          "text": [
            "              precision    recall  f1-score   support\n",
            "\n",
            "           0       0.81      0.87      0.84       125\n",
            "           1       0.80      0.72      0.76        90\n",
            "\n",
            "    accuracy                           0.81       215\n",
            "   macro avg       0.81      0.80      0.80       215\n",
            "weighted avg       0.81      0.81      0.81       215\n",
            "\n"
          ]
        }
      ]
    },
    {
      "cell_type": "code",
      "metadata": {
        "colab": {
          "base_uri": "https://localhost:8080/"
        },
        "id": "wnJAMztvV1eM",
        "outputId": "42e85196-f0e6-4465-fe84-3be0c5c67baa"
      },
      "source": [
        "# sklearn 라이브러리에서 KNN 분류 모형 가져오기\n",
        "from sklearn.neighbors import KNeighborsClassifier\n",
        "from sklearn import metrics \n",
        "\n",
        "n = [7,5,3,2]\n",
        "\n",
        "for i in n: # for를 사용하지 않고 gridSearch로 작업함.\n",
        "    knn = KNeighborsClassifier(n_neighbors=i) \n",
        "    knn.fit(X_train, y_train)   \n",
        "    y_hat = knn.predict(X_test)\n",
        "    knn_report = metrics.classification_report(y_test, y_hat)   \n",
        "    print(f'{i}-----------------')\n",
        "    print(knn_report) # accuracy 확인"
      ],
      "execution_count": null,
      "outputs": [
        {
          "output_type": "stream",
          "name": "stdout",
          "text": [
            "7-----------------\n",
            "              precision    recall  f1-score   support\n",
            "\n",
            "           0       0.79      0.90      0.84       125\n",
            "           1       0.83      0.67      0.74        90\n",
            "\n",
            "    accuracy                           0.80       215\n",
            "   macro avg       0.81      0.79      0.79       215\n",
            "weighted avg       0.81      0.80      0.80       215\n",
            "\n",
            "5-----------------\n",
            "              precision    recall  f1-score   support\n",
            "\n",
            "           0       0.81      0.87      0.84       125\n",
            "           1       0.80      0.72      0.76        90\n",
            "\n",
            "    accuracy                           0.81       215\n",
            "   macro avg       0.81      0.80      0.80       215\n",
            "weighted avg       0.81      0.81      0.81       215\n",
            "\n",
            "3-----------------\n",
            "              precision    recall  f1-score   support\n",
            "\n",
            "           0       0.79      0.89      0.84       125\n",
            "           1       0.81      0.68      0.74        90\n",
            "\n",
            "    accuracy                           0.80       215\n",
            "   macro avg       0.80      0.78      0.79       215\n",
            "weighted avg       0.80      0.80      0.80       215\n",
            "\n",
            "2-----------------\n",
            "              precision    recall  f1-score   support\n",
            "\n",
            "           0       0.73      0.93      0.82       125\n",
            "           1       0.84      0.53      0.65        90\n",
            "\n",
            "    accuracy                           0.76       215\n",
            "   macro avg       0.79      0.73      0.74       215\n",
            "weighted avg       0.78      0.76      0.75       215\n",
            "\n"
          ]
        }
      ]
    }
  ]
}