{
  "nbformat": 4,
  "nbformat_minor": 2,
  "metadata": {
    "colab": {
      "name": "10_분류_SVM.ipynb",
      "provenance": [],
      "collapsed_sections": []
    },
    "kernelspec": {
      "name": "python3",
      "display_name": "Python 3"
    },
    "language_info": {
      "name": "python"
    }
  },
  "cells": [
    {
      "cell_type": "markdown",
      "source": [
        "# SVM으로 분석하는 이미지\r\n",
        "- https://scikit-learn.org/stable/auto_examples/classification/plot_digits_classification.html#sphx-glr-auto-examples-classification-plot-digits-classification-py\r\n",
        "- 딥러닝(2007년 이미지넷 프로젝트 이후에 검증이 되었음)\r\n",
        "    - 딥러닝은 최대한 공식을 사용하지 않고 w(weight),b(bias)값을 무작위로 주고, 값을 업데이트하면서 오차를 줄여나가는 과정\r\n",
        "    - y값이 예측, 이항분류, 다항분류에 따라서 y_hat과 w,b 갱신 공식이 달라짐\r\n",
        "- 비정형 데이터(이미지 등) 분석은 2007년 이전 또는 텐서플로우(2015년, 딥러닝 수학 계산식이 포함된 모듈)가 나오긴 전 svm의 통계학 코드로 작업함.\r\n",
        "- 머신러닝으로 분석하면 시간이 많이 걸리기 때문에 현재는 딥러닝 사용<br>\r\n",
        "<br>\r\n",
        "- SVM(서포트 벡터 머신, support vector machine)\r\n",
        "    - https://bskyvision.com/163\r\n",
        "    - 기계 학습의 분야 중 하나로 패턴 인식, 자료 분석을 위한 **지도 학습** 모델\r\n",
        "    - 선형 분류와 더불어 비선형 분류에서도 사용\r\n",
        "    - 비슷한 값끼리 모으기 때문에 **응집도는 최대화 분산은 최소화**함.\r\n",
        "    - class sklearn.svm.SVC(*, C=1.0, kernel='rbf', degree=3, gamma='scale', coef0=0.0, shrinking=True, probability=False, tol=0.001, cache_size=200, class_weight=None, verbose=False, max_iter=- 1, decision_function_shape='ovr', break_ties=False, random_state=None)\r\n",
        "    - degree 차수\r\n",
        "    - SVM 알고리즘 중에서 가장 성능이 괜찮고 일반적으로 널리 사용되는 것은 **RBF 커널 SVM**이다.\r\n",
        "    - 좋은 성능을 얻으려면 매개변수인 **C와 gamma**를 잘 조정해줘야 한다.\r\n",
        "        - C는 데이터 샘플들이 다른 클래스에 놓이는 것을 허용하는 정도를 결정하고, gamma는 결정 경계의 곡률을 결정한다.\r\n",
        "        - 두 값 모두 **커질수록 알고리즘의 복잡도는 증가**하고, **작아질수록 복잡도는 낮아**진다.\r\n",
        "        - 두 값이 크면 **과대적합**, 작으면 **과소적합**이 될 위험이 있다.\r\n",
        "        - 일반적으로 grid search로 경험적으로 최적의 매개변수 값들을 찾는다."
      ],
      "metadata": {
        "id": "UsBBH3V3toAu"
      }
    },
    {
      "cell_type": "code",
      "execution_count": 1,
      "source": [
        "import numpy as np"
      ],
      "outputs": [],
      "metadata": {
        "id": "5KYyT4_1td7J"
      }
    },
    {
      "cell_type": "code",
      "execution_count": 2,
      "source": [
        "# Standard scientific Python imports\r\n",
        "import matplotlib.pyplot as plt\r\n",
        "\r\n",
        "# Import datasets, classifiers and performance metrics\r\n",
        "from sklearn import datasets, svm, metrics\r\n",
        "from sklearn.model_selection import train_test_split"
      ],
      "outputs": [],
      "metadata": {
        "id": "egcIPLT7tmTl"
      }
    },
    {
      "cell_type": "code",
      "execution_count": 6,
      "source": [
        "a = np.array([2,3,3])\r\n",
        "b = np.array([2,2,3])\r\n",
        "tmp=[a,b]\r\n",
        "tmp"
      ],
      "outputs": [
        {
          "output_type": "execute_result",
          "data": {
            "text/plain": [
              "[array([2, 3, 3]), array([2, 2, 3])]"
            ]
          },
          "metadata": {},
          "execution_count": 6
        }
      ],
      "metadata": {
        "colab": {
          "base_uri": "https://localhost:8080/"
        },
        "id": "0ZXHsr2KyjPi",
        "outputId": "fabb5501-f006-4afd-8523-3b9bcc11e3af"
      }
    },
    {
      "cell_type": "code",
      "execution_count": 12,
      "source": [
        "digits = datasets.load_digits() # 서로 다른 갯수로 되어있거나 같은 갯수여도 따로 입력된 경우\r\n",
        "print(digits.images[0]) # 8x8의 이미지 파일, 숫자 0은 검정색\r\n",
        "plt.imshow(digits.images[0], cmap='gray')\r\n",
        "plt.show()"
      ],
      "outputs": [
        {
          "output_type": "stream",
          "name": "stdout",
          "text": [
            "[[ 0.  0.  5. 13.  9.  1.  0.  0.]\n",
            " [ 0.  0. 13. 15. 10. 15.  5.  0.]\n",
            " [ 0.  3. 15.  2.  0. 11.  8.  0.]\n",
            " [ 0.  4. 12.  0.  0.  8.  8.  0.]\n",
            " [ 0.  5.  8.  0.  0.  9.  8.  0.]\n",
            " [ 0.  4. 11.  0.  1. 12.  7.  0.]\n",
            " [ 0.  2. 14.  5. 10. 12.  0.  0.]\n",
            " [ 0.  0.  6. 13. 10.  0.  0.  0.]]\n"
          ]
        },
        {
          "output_type": "display_data",
          "data": {
            "image/png": "[encoded data removed]",
            "text/plain": [
              "<Figure size 432x288 with 1 Axes>"
            ]
          },
          "metadata": {
            "needs_background": "light"
          }
        }
      ],
      "metadata": {
        "colab": {
          "base_uri": "https://localhost:8080/",
          "height": 413
        },
        "id": "ucOxTLelyQMO",
        "outputId": "25ec12de-4db6-49f7-b5bb-cad5ff1015f3"
      }
    },
    {
      "cell_type": "code",
      "execution_count": 19,
      "source": [
        "cnt = 53\r\n",
        "print(digits.target[cnt])\r\n",
        "plt.imshow(digits.images[cnt], cmap='gray')\r\n",
        "plt.show()"
      ],
      "outputs": [
        {
          "output_type": "stream",
          "name": "stdout",
          "text": [
            "8\n"
          ]
        },
        {
          "output_type": "display_data",
          "data": {
            "image/png": "[encoded data removed]",
            "text/plain": [
              "<Figure size 432x288 with 1 Axes>"
            ]
          },
          "metadata": {
            "needs_background": "light"
          }
        }
      ],
      "metadata": {
        "colab": {
          "base_uri": "https://localhost:8080/",
          "height": 284
        },
        "id": "64BP6fSdyXBS",
        "outputId": "0df25b82-e71d-42e4-add5-71c12ebea275"
      }
    },
    {
      "cell_type": "code",
      "execution_count": 22,
      "source": [
        "print(len(digits.target), len(digits.images))\r\n",
        "print(np.shape(digits.target), np.shape(digits.images))"
      ],
      "outputs": [
        {
          "output_type": "stream",
          "name": "stdout",
          "text": [
            "1797 1797\n",
            "(1797,) (1797, 8, 8)\n"
          ]
        }
      ],
      "metadata": {
        "colab": {
          "base_uri": "https://localhost:8080/"
        },
        "id": "_e40f5aEzyPL",
        "outputId": "8eb2832e-102d-49b5-d97d-e33792f43849"
      }
    },
    {
      "cell_type": "code",
      "execution_count": 23,
      "source": [
        "_, axes = plt.subplots(nrows=1, ncols=4, figsize=(10, 3))\r\n",
        "for ax, image, label in zip(axes, digits.images, digits.target):\r\n",
        "    ax.set_axis_off()\r\n",
        "    ax.imshow(image, cmap=plt.cm.gray_r, interpolation='nearest')\r\n",
        "    ax.set_title('Training: %i' % label)"
      ],
      "outputs": [
        {
          "output_type": "display_data",
          "data": {
            "image/png": "[encoded data removed]",
            "text/plain": [
              "<Figure size 720x216 with 4 Axes>"
            ]
          },
          "metadata": {
            "needs_background": "light"
          }
        }
      ],
      "metadata": {
        "colab": {
          "base_uri": "https://localhost:8080/",
          "height": 168
        },
        "id": "SrFpBux10VmX",
        "outputId": "4758017e-f74c-42a7-e114-bc555fb6862c"
      }
    },
    {
      "cell_type": "code",
      "execution_count": 24,
      "source": [
        "# 모든 머신러닝은 가로*세로를 이해하지 못 함.\r\n",
        "# 가로*세로값을 가로로 모두 변경해야 함\r\n",
        "# 현재 8*8이라면 64개로 변경해서 x1, x2, x3,...,x64의 x변수를 제작함.\r\n",
        "# flatten the images\r\n",
        "n_samples = len(digits.images)\r\n",
        "data = digits.images.reshape((n_samples, -1)) # (1797, 8, 8) --> (1797, -1) 즉 (1797, 64)로 변경\r\n",
        "data.shape"
      ],
      "outputs": [
        {
          "output_type": "execute_result",
          "data": {
            "text/plain": [
              "(1797, 64)"
            ]
          },
          "metadata": {},
          "execution_count": 24
        }
      ],
      "metadata": {
        "colab": {
          "base_uri": "https://localhost:8080/"
        },
        "id": "e2p4ZA8d0rDv",
        "outputId": "d45d22f4-17d8-4651-abc6-6bd5d8fcaf61"
      }
    },
    {
      "cell_type": "code",
      "execution_count": 35,
      "source": [
        "# Create a classifier: a support vector classifier\r\n",
        "clf = svm.SVC(gamma=0.001)\r\n",
        "\r\n",
        "# Split data into 50% train and 50% test subsets\r\n",
        "X_train, X_test, y_train, y_test = train_test_split(\r\n",
        "    data, digits.target, test_size=0.5, shuffle=False)\r\n",
        "\r\n",
        "# Learn the digits on the train subset\r\n",
        "clf.fit(X_train, y_train)\r\n",
        "\r\n",
        "# Predict the value of the digit on the test subset\r\n",
        "predicted = clf.predict(X_test) # X_test에 있는 이미지를 분석한 결과의 y레이블 값\r\n",
        "predicted[:5] "
      ],
      "outputs": [
        {
          "output_type": "execute_result",
          "data": {
            "text/plain": [
              "array([8, 8, 4, 9, 0])"
            ]
          },
          "metadata": {},
          "execution_count": 35
        }
      ],
      "metadata": {
        "colab": {
          "base_uri": "https://localhost:8080/"
        },
        "id": "1maF97zv1gIH",
        "outputId": "8b9db278-29e8-4537-df31-e193b5f89413"
      }
    },
    {
      "cell_type": "code",
      "execution_count": 30,
      "source": [
        "print(X_test.shape)\r\n",
        "X_test[0].reshape(8,8).shape"
      ],
      "outputs": [
        {
          "output_type": "stream",
          "name": "stdout",
          "text": [
            "(899, 64)\n"
          ]
        },
        {
          "output_type": "execute_result",
          "data": {
            "text/plain": [
              "(8, 8)"
            ]
          },
          "metadata": {},
          "execution_count": 30
        }
      ],
      "metadata": {
        "colab": {
          "base_uri": "https://localhost:8080/"
        },
        "id": "7_3IKe0K2bq7",
        "outputId": "f7912239-fd15-4304-bc7a-b6e764af2aa9"
      }
    },
    {
      "cell_type": "code",
      "execution_count": 37,
      "source": [
        "cnt = 4\r\n",
        "tmp = X_test[cnt].reshape(8,8) \r\n",
        "plt.imshow(tmp, cmap='gray')\r\n",
        "plt.show()"
      ],
      "outputs": [
        {
          "output_type": "display_data",
          "data": {
            "image/png": "[encoded data removed]",
            "text/plain": [
              "<Figure size 432x288 with 1 Axes>"
            ]
          },
          "metadata": {
            "needs_background": "light"
          }
        }
      ],
      "metadata": {
        "colab": {
          "base_uri": "https://localhost:8080/",
          "height": 265
        },
        "id": "F1-cTuXX2Em6",
        "outputId": "45c09ca4-f446-4185-d42a-85cf62122b3f"
      }
    },
    {
      "cell_type": "code",
      "execution_count": 38,
      "source": [
        "_, axes = plt.subplots(nrows=1, ncols=4, figsize=(10, 3))\r\n",
        "for ax, image, prediction in zip(axes, X_test, predicted):\r\n",
        "    ax.set_axis_off()\r\n",
        "    image = image.reshape(8, 8) # 현재 64개의 x변수로 되어 있음. 이걸 가로*세로로 변경해서 보여줘야 함\r\n",
        "    ax.imshow(image, cmap=plt.cm.gray_r, interpolation='nearest')\r\n",
        "    ax.set_title(f'Prediction: {prediction}')"
      ],
      "outputs": [
        {
          "output_type": "display_data",
          "data": {
            "image/png": "[encoded data removed]",
            "text/plain": [
              "<Figure size 720x216 with 4 Axes>"
            ]
          },
          "metadata": {
            "needs_background": "light"
          }
        }
      ],
      "metadata": {
        "colab": {
          "base_uri": "https://localhost:8080/",
          "height": 168
        },
        "id": "sc40sqFY2x0W",
        "outputId": "42366ab6-1e01-4615-f456-59b94a758148"
      }
    },
    {
      "cell_type": "code",
      "execution_count": 39,
      "source": [
        "print(f\"Classification report for classifier {clf}:\\n\"\r\n",
        "      f\"{metrics.classification_report(y_test, predicted)}\\n\")"
      ],
      "outputs": [
        {
          "output_type": "stream",
          "name": "stdout",
          "text": [
            "Classification report for classifier SVC(C=1.0, break_ties=False, cache_size=200, class_weight=None, coef0=0.0,\n",
            "    decision_function_shape='ovr', degree=3, gamma=0.001, kernel='rbf',\n",
            "    max_iter=-1, probability=False, random_state=None, shrinking=True,\n",
            "    tol=0.001, verbose=False):\n",
            "              precision    recall  f1-score   support\n",
            "\n",
            "           0       1.00      0.99      0.99        88\n",
            "           1       0.99      0.97      0.98        91\n",
            "           2       0.99      0.99      0.99        86\n",
            "           3       0.98      0.87      0.92        91\n",
            "           4       0.99      0.96      0.97        92\n",
            "           5       0.95      0.97      0.96        91\n",
            "           6       0.99      0.99      0.99        91\n",
            "           7       0.96      0.99      0.97        89\n",
            "           8       0.94      1.00      0.97        88\n",
            "           9       0.93      0.98      0.95        92\n",
            "\n",
            "    accuracy                           0.97       899\n",
            "   macro avg       0.97      0.97      0.97       899\n",
            "weighted avg       0.97      0.97      0.97       899\n",
            "\n",
            "\n"
          ]
        }
      ],
      "metadata": {
        "colab": {
          "base_uri": "https://localhost:8080/"
        },
        "id": "GQiAqntl3KKv",
        "outputId": "d8ec3485-7410-486c-8a64-65bc5b53da48"
      }
    },
    {
      "cell_type": "code",
      "execution_count": 41,
      "source": [
        "from PIL import Image\r\n",
        "img=Image.open('sample.png')\r\n",
        "img=img.convert('L') # 흑백변환\r\n",
        "img=img.resize((8,8)) # 사이즈 맞춰야 함\r\n",
        "arr=np.array(img) # 배열로 변환\r\n",
        "print(arr.shape)\r\n",
        "\r\n",
        "print(arr.max(), arr.min())\r\n",
        "\r\n",
        "plt.imshow(arr,cmap='gray')\r\n",
        "newX=arr.reshape(1,-1) # 64 x값으로 변환\r\n",
        "\r\n",
        "clf.predict(newX)\r\n",
        "# 예측모델을 작업한 SVM에 입력한 사진과 같은 스케일링 작업이 필요함(하지않아서 정확도가 낮음)\r\n",
        "# minmaxScaler 또는 standardScaler가 필요하지만 무엇이 맞는지는 알 수 없음"
      ],
      "outputs": [
        {
          "output_type": "stream",
          "name": "stdout",
          "text": [
            "(8, 8)\n",
            "77 0\n"
          ]
        },
        {
          "output_type": "execute_result",
          "data": {
            "text/plain": [
              "array([1])"
            ]
          },
          "metadata": {},
          "execution_count": 41
        },
        {
          "output_type": "display_data",
          "data": {
            "image/png": "[encoded data removed]",
            "text/plain": [
              "<Figure size 432x288 with 1 Axes>"
            ]
          },
          "metadata": {
            "needs_background": "light"
          }
        }
      ],
      "metadata": {
        "colab": {
          "base_uri": "https://localhost:8080/",
          "height": 321
        },
        "id": "F6UBQbJ_3RdY",
        "outputId": "9503c74b-0e13-4383-916d-58985aa47949"
      }
    }
  ]
}