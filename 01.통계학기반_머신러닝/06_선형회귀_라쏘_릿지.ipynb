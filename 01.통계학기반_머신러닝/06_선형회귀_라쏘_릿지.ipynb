{
  "nbformat": 4,
  "nbformat_minor": 0,
  "metadata": {
    "colab": {
      "name": "06_선형회귀_라쏘_릿지.ipynb",
      "provenance": [],
      "collapsed_sections": []
    },
    "kernelspec": {
      "name": "python3",
      "display_name": "Python 3"
    },
    "language_info": {
      "name": "python"
    }
  },
  "cells": [
    {
      "cell_type": "markdown",
      "metadata": {
        "id": "kTd-IITU8nTT"
      },
      "source": [
        "# 네이버 쇼핑 TV 가격 예측 모델 학습\n",
        "- https://wikidocs.net/39710"
      ]
    },
    {
      "cell_type": "code",
      "metadata": {
        "id": "lsYjD2vd8QAK"
      },
      "source": [
        "import pandas as pd\n",
        "import numpy as np\n",
        "import warnings\n",
        "warnings.filterwarnings('ignore')"
      ],
      "execution_count": null,
      "outputs": []
    },
    {
      "cell_type": "code",
      "metadata": {
        "id": "fFtAiyG-8TAN"
      },
      "source": [
        "# 데이터 로드\n",
        "train_df = pd.read_excel('https://github.com/cranberryai/todak_todak_python/blob/master/machine_learning/regression/%E1%84%82%E1%85%A6%E1%84%8B%E1%85%B5%E1%84%87%E1%85%A5TV%E1%84%80%E1%85%A1%E1%84%80%E1%85%A7%E1%86%A8_%E1%84%8E%E1%85%AC%E1%84%8C%E1%85%A9%E1%86%BC.xlsx?raw=true', sheet_name='train')\n",
        "test_df = pd.read_excel('https://github.com/cranberryai/todak_todak_python/blob/master/machine_learning/regression/%E1%84%82%E1%85%A6%E1%84%8B%E1%85%B5%E1%84%87%E1%85%A5TV%E1%84%80%E1%85%A1%E1%84%80%E1%85%A7%E1%86%A8_%E1%84%8E%E1%85%AC%E1%84%8C%E1%85%A9%E1%86%BC.xlsx?raw=true', sheet_name='test')"
      ],
      "execution_count": null,
      "outputs": []
    },
    {
      "cell_type": "markdown",
      "metadata": {
        "id": "ORmjOF6nFLeG"
      },
      "source": [
        "- 데이터 전처리"
      ]
    },
    {
      "cell_type": "code",
      "metadata": {
        "colab": {
          "base_uri": "https://localhost:8080/"
        },
        "id": "BETxrY008ZcF",
        "outputId": "61192ba4-5a70-473c-dc1e-41728209b620"
      },
      "source": [
        "train_df.isna().sum() # 반드시 확인(필수)"
      ],
      "execution_count": null,
      "outputs": [
        {
          "output_type": "execute_result",
          "data": {
            "text/plain": [
              "ID      0\n",
              "판매가     0\n",
              "화면크기    0\n",
              "형태      0\n",
              "해상도     0\n",
              "화면비율    0\n",
              "LCD     0\n",
              "LED     0\n",
              "OLED    0\n",
              "QLED    0\n",
              "단자      0\n",
              "부가기능    0\n",
              "dtype: int64"
            ]
          },
          "metadata": {},
          "execution_count": 3
        }
      ]
    },
    {
      "cell_type": "code",
      "metadata": {
        "colab": {
          "base_uri": "https://localhost:8080/"
        },
        "id": "pA2lvqw79l02",
        "outputId": "ca89070c-22d0-4f0c-cc13-ff8203147796"
      },
      "source": [
        "train_df.info() # 자료형, null값 유무 확인"
      ],
      "execution_count": null,
      "outputs": [
        {
          "output_type": "stream",
          "name": "stdout",
          "text": [
            "<class 'pandas.core.frame.DataFrame'>\n",
            "RangeIndex: 7000 entries, 0 to 6999\n",
            "Data columns (total 12 columns):\n",
            " #   Column  Non-Null Count  Dtype\n",
            "---  ------  --------------  -----\n",
            " 0   ID      7000 non-null   int64\n",
            " 1   판매가     7000 non-null   int64\n",
            " 2   화면크기    7000 non-null   int64\n",
            " 3   형태      7000 non-null   int64\n",
            " 4   해상도     7000 non-null   int64\n",
            " 5   화면비율    7000 non-null   int64\n",
            " 6   LCD     7000 non-null   int64\n",
            " 7   LED     7000 non-null   int64\n",
            " 8   OLED    7000 non-null   int64\n",
            " 9   QLED    7000 non-null   int64\n",
            " 10  단자      7000 non-null   int64\n",
            " 11  부가기능    7000 non-null   int64\n",
            "dtypes: int64(12)\n",
            "memory usage: 656.4 KB\n"
          ]
        }
      ]
    },
    {
      "cell_type": "code",
      "metadata": {
        "colab": {
          "base_uri": "https://localhost:8080/",
          "height": 297
        },
        "id": "_4jkGBEs95-I",
        "outputId": "ec72a084-32ba-4147-bf57-e1e2e8e22cab"
      },
      "source": [
        "train_df.describe() # 값이 0인 변수들이 있음"
      ],
      "execution_count": null,
      "outputs": [
        {
          "output_type": "execute_result",
          "data": {
            "text/html": [
              "<div>\n",
              "<style scoped>\n",
              "    .dataframe tbody tr th:only-of-type {\n",
              "        vertical-align: middle;\n",
              "    }\n",
              "\n",
              "    .dataframe tbody tr th {\n",
              "        vertical-align: top;\n",
              "    }\n",
              "\n",
              "    .dataframe thead th {\n",
              "        text-align: right;\n",
              "    }\n",
              "</style>\n",
              "<table border=\"1\" class=\"dataframe\">\n",
              "  <thead>\n",
              "    <tr style=\"text-align: right;\">\n",
              "      <th></th>\n",
              "      <th>ID</th>\n",
              "      <th>판매가</th>\n",
              "      <th>화면크기</th>\n",
              "      <th>형태</th>\n",
              "      <th>해상도</th>\n",
              "      <th>화면비율</th>\n",
              "      <th>LCD</th>\n",
              "      <th>LED</th>\n",
              "      <th>OLED</th>\n",
              "      <th>QLED</th>\n",
              "      <th>단자</th>\n",
              "      <th>부가기능</th>\n",
              "    </tr>\n",
              "  </thead>\n",
              "  <tbody>\n",
              "    <tr>\n",
              "      <th>count</th>\n",
              "      <td>7000.000000</td>\n",
              "      <td>7.000000e+03</td>\n",
              "      <td>7000.000000</td>\n",
              "      <td>7000.000000</td>\n",
              "      <td>7000.000000</td>\n",
              "      <td>7000.000000</td>\n",
              "      <td>7000.000000</td>\n",
              "      <td>7000.000000</td>\n",
              "      <td>7000.000000</td>\n",
              "      <td>7000.000000</td>\n",
              "      <td>7000.000000</td>\n",
              "      <td>7000.000000</td>\n",
              "    </tr>\n",
              "    <tr>\n",
              "      <th>mean</th>\n",
              "      <td>10310.438857</td>\n",
              "      <td>1.686936e+06</td>\n",
              "      <td>53.471000</td>\n",
              "      <td>0.086714</td>\n",
              "      <td>1799.794286</td>\n",
              "      <td>0.523857</td>\n",
              "      <td>0.002571</td>\n",
              "      <td>0.820714</td>\n",
              "      <td>0.031286</td>\n",
              "      <td>0.093429</td>\n",
              "      <td>2.835143</td>\n",
              "      <td>3.120857</td>\n",
              "    </tr>\n",
              "    <tr>\n",
              "      <th>std</th>\n",
              "      <td>6000.106692</td>\n",
              "      <td>1.751524e+06</td>\n",
              "      <td>12.147814</td>\n",
              "      <td>0.281436</td>\n",
              "      <td>559.870133</td>\n",
              "      <td>0.499466</td>\n",
              "      <td>0.050648</td>\n",
              "      <td>0.383619</td>\n",
              "      <td>0.174101</td>\n",
              "      <td>0.291053</td>\n",
              "      <td>1.094072</td>\n",
              "      <td>2.040375</td>\n",
              "    </tr>\n",
              "    <tr>\n",
              "      <th>min</th>\n",
              "      <td>8.000000</td>\n",
              "      <td>1.700000e+04</td>\n",
              "      <td>15.000000</td>\n",
              "      <td>0.000000</td>\n",
              "      <td>720.000000</td>\n",
              "      <td>0.000000</td>\n",
              "      <td>0.000000</td>\n",
              "      <td>0.000000</td>\n",
              "      <td>0.000000</td>\n",
              "      <td>0.000000</td>\n",
              "      <td>0.000000</td>\n",
              "      <td>0.000000</td>\n",
              "    </tr>\n",
              "    <tr>\n",
              "      <th>25%</th>\n",
              "      <td>5102.750000</td>\n",
              "      <td>6.086625e+05</td>\n",
              "      <td>43.000000</td>\n",
              "      <td>0.000000</td>\n",
              "      <td>1080.000000</td>\n",
              "      <td>0.000000</td>\n",
              "      <td>0.000000</td>\n",
              "      <td>1.000000</td>\n",
              "      <td>0.000000</td>\n",
              "      <td>0.000000</td>\n",
              "      <td>2.000000</td>\n",
              "      <td>2.000000</td>\n",
              "    </tr>\n",
              "    <tr>\n",
              "      <th>50%</th>\n",
              "      <td>10211.000000</td>\n",
              "      <td>1.159185e+06</td>\n",
              "      <td>55.000000</td>\n",
              "      <td>0.000000</td>\n",
              "      <td>2160.000000</td>\n",
              "      <td>1.000000</td>\n",
              "      <td>0.000000</td>\n",
              "      <td>1.000000</td>\n",
              "      <td>0.000000</td>\n",
              "      <td>0.000000</td>\n",
              "      <td>2.000000</td>\n",
              "      <td>3.000000</td>\n",
              "    </tr>\n",
              "    <tr>\n",
              "      <th>75%</th>\n",
              "      <td>15517.000000</td>\n",
              "      <td>2.147532e+06</td>\n",
              "      <td>65.000000</td>\n",
              "      <td>0.000000</td>\n",
              "      <td>2160.000000</td>\n",
              "      <td>1.000000</td>\n",
              "      <td>0.000000</td>\n",
              "      <td>1.000000</td>\n",
              "      <td>0.000000</td>\n",
              "      <td>0.000000</td>\n",
              "      <td>4.000000</td>\n",
              "      <td>5.000000</td>\n",
              "    </tr>\n",
              "    <tr>\n",
              "      <th>max</th>\n",
              "      <td>20676.000000</td>\n",
              "      <td>2.940000e+07</td>\n",
              "      <td>80.000000</td>\n",
              "      <td>1.000000</td>\n",
              "      <td>2160.000000</td>\n",
              "      <td>1.000000</td>\n",
              "      <td>1.000000</td>\n",
              "      <td>1.000000</td>\n",
              "      <td>1.000000</td>\n",
              "      <td>1.000000</td>\n",
              "      <td>6.000000</td>\n",
              "      <td>8.000000</td>\n",
              "    </tr>\n",
              "  </tbody>\n",
              "</table>\n",
              "</div>"
            ],
            "text/plain": [
              "                 ID           판매가  ...           단자         부가기능\n",
              "count   7000.000000  7.000000e+03  ...  7000.000000  7000.000000\n",
              "mean   10310.438857  1.686936e+06  ...     2.835143     3.120857\n",
              "std     6000.106692  1.751524e+06  ...     1.094072     2.040375\n",
              "min        8.000000  1.700000e+04  ...     0.000000     0.000000\n",
              "25%     5102.750000  6.086625e+05  ...     2.000000     2.000000\n",
              "50%    10211.000000  1.159185e+06  ...     2.000000     3.000000\n",
              "75%    15517.000000  2.147532e+06  ...     4.000000     5.000000\n",
              "max    20676.000000  2.940000e+07  ...     6.000000     8.000000\n",
              "\n",
              "[8 rows x 12 columns]"
            ]
          },
          "metadata": {},
          "execution_count": 5
        }
      ]
    },
    {
      "cell_type": "code",
      "metadata": {
        "colab": {
          "base_uri": "https://localhost:8080/",
          "height": 419
        },
        "id": "L0iKielG-GQE",
        "outputId": "6389c8fe-21d5-4902-b3ba-14ac7f33dbae"
      },
      "source": [
        "# LCD, LED, OLED, QLED는 일종의 더미변수\n",
        "train_df[(train_df['LCD']==0)]"
      ],
      "execution_count": null,
      "outputs": [
        {
          "output_type": "execute_result",
          "data": {
            "text/html": [
              "<div>\n",
              "<style scoped>\n",
              "    .dataframe tbody tr th:only-of-type {\n",
              "        vertical-align: middle;\n",
              "    }\n",
              "\n",
              "    .dataframe tbody tr th {\n",
              "        vertical-align: top;\n",
              "    }\n",
              "\n",
              "    .dataframe thead th {\n",
              "        text-align: right;\n",
              "    }\n",
              "</style>\n",
              "<table border=\"1\" class=\"dataframe\">\n",
              "  <thead>\n",
              "    <tr style=\"text-align: right;\">\n",
              "      <th></th>\n",
              "      <th>ID</th>\n",
              "      <th>판매가</th>\n",
              "      <th>화면크기</th>\n",
              "      <th>형태</th>\n",
              "      <th>해상도</th>\n",
              "      <th>화면비율</th>\n",
              "      <th>LCD</th>\n",
              "      <th>LED</th>\n",
              "      <th>OLED</th>\n",
              "      <th>QLED</th>\n",
              "      <th>단자</th>\n",
              "      <th>부가기능</th>\n",
              "    </tr>\n",
              "  </thead>\n",
              "  <tbody>\n",
              "    <tr>\n",
              "      <th>0</th>\n",
              "      <td>8</td>\n",
              "      <td>396240</td>\n",
              "      <td>55</td>\n",
              "      <td>0</td>\n",
              "      <td>2160</td>\n",
              "      <td>1</td>\n",
              "      <td>0</td>\n",
              "      <td>1</td>\n",
              "      <td>0</td>\n",
              "      <td>0</td>\n",
              "      <td>3</td>\n",
              "      <td>1</td>\n",
              "    </tr>\n",
              "    <tr>\n",
              "      <th>1</th>\n",
              "      <td>9</td>\n",
              "      <td>412870</td>\n",
              "      <td>55</td>\n",
              "      <td>0</td>\n",
              "      <td>2160</td>\n",
              "      <td>1</td>\n",
              "      <td>0</td>\n",
              "      <td>1</td>\n",
              "      <td>0</td>\n",
              "      <td>0</td>\n",
              "      <td>3</td>\n",
              "      <td>1</td>\n",
              "    </tr>\n",
              "    <tr>\n",
              "      <th>2</th>\n",
              "      <td>10</td>\n",
              "      <td>414590</td>\n",
              "      <td>55</td>\n",
              "      <td>0</td>\n",
              "      <td>2160</td>\n",
              "      <td>1</td>\n",
              "      <td>0</td>\n",
              "      <td>1</td>\n",
              "      <td>0</td>\n",
              "      <td>0</td>\n",
              "      <td>3</td>\n",
              "      <td>1</td>\n",
              "    </tr>\n",
              "    <tr>\n",
              "      <th>3</th>\n",
              "      <td>14</td>\n",
              "      <td>418000</td>\n",
              "      <td>55</td>\n",
              "      <td>0</td>\n",
              "      <td>2160</td>\n",
              "      <td>1</td>\n",
              "      <td>0</td>\n",
              "      <td>1</td>\n",
              "      <td>0</td>\n",
              "      <td>0</td>\n",
              "      <td>3</td>\n",
              "      <td>1</td>\n",
              "    </tr>\n",
              "    <tr>\n",
              "      <th>4</th>\n",
              "      <td>15</td>\n",
              "      <td>419000</td>\n",
              "      <td>55</td>\n",
              "      <td>0</td>\n",
              "      <td>2160</td>\n",
              "      <td>1</td>\n",
              "      <td>0</td>\n",
              "      <td>1</td>\n",
              "      <td>0</td>\n",
              "      <td>0</td>\n",
              "      <td>3</td>\n",
              "      <td>1</td>\n",
              "    </tr>\n",
              "    <tr>\n",
              "      <th>...</th>\n",
              "      <td>...</td>\n",
              "      <td>...</td>\n",
              "      <td>...</td>\n",
              "      <td>...</td>\n",
              "      <td>...</td>\n",
              "      <td>...</td>\n",
              "      <td>...</td>\n",
              "      <td>...</td>\n",
              "      <td>...</td>\n",
              "      <td>...</td>\n",
              "      <td>...</td>\n",
              "      <td>...</td>\n",
              "    </tr>\n",
              "    <tr>\n",
              "      <th>6995</th>\n",
              "      <td>20670</td>\n",
              "      <td>1271670</td>\n",
              "      <td>49</td>\n",
              "      <td>0</td>\n",
              "      <td>1080</td>\n",
              "      <td>1</td>\n",
              "      <td>0</td>\n",
              "      <td>1</td>\n",
              "      <td>0</td>\n",
              "      <td>0</td>\n",
              "      <td>2</td>\n",
              "      <td>6</td>\n",
              "    </tr>\n",
              "    <tr>\n",
              "      <th>6996</th>\n",
              "      <td>20672</td>\n",
              "      <td>1441670</td>\n",
              "      <td>49</td>\n",
              "      <td>0</td>\n",
              "      <td>1080</td>\n",
              "      <td>1</td>\n",
              "      <td>0</td>\n",
              "      <td>1</td>\n",
              "      <td>0</td>\n",
              "      <td>0</td>\n",
              "      <td>2</td>\n",
              "      <td>6</td>\n",
              "    </tr>\n",
              "    <tr>\n",
              "      <th>6997</th>\n",
              "      <td>20673</td>\n",
              "      <td>1441680</td>\n",
              "      <td>49</td>\n",
              "      <td>0</td>\n",
              "      <td>1080</td>\n",
              "      <td>1</td>\n",
              "      <td>0</td>\n",
              "      <td>1</td>\n",
              "      <td>0</td>\n",
              "      <td>0</td>\n",
              "      <td>2</td>\n",
              "      <td>6</td>\n",
              "    </tr>\n",
              "    <tr>\n",
              "      <th>6998</th>\n",
              "      <td>20675</td>\n",
              "      <td>1571400</td>\n",
              "      <td>49</td>\n",
              "      <td>0</td>\n",
              "      <td>1080</td>\n",
              "      <td>1</td>\n",
              "      <td>0</td>\n",
              "      <td>1</td>\n",
              "      <td>0</td>\n",
              "      <td>0</td>\n",
              "      <td>2</td>\n",
              "      <td>6</td>\n",
              "    </tr>\n",
              "    <tr>\n",
              "      <th>6999</th>\n",
              "      <td>20676</td>\n",
              "      <td>2894380</td>\n",
              "      <td>49</td>\n",
              "      <td>0</td>\n",
              "      <td>1080</td>\n",
              "      <td>1</td>\n",
              "      <td>0</td>\n",
              "      <td>1</td>\n",
              "      <td>0</td>\n",
              "      <td>0</td>\n",
              "      <td>2</td>\n",
              "      <td>6</td>\n",
              "    </tr>\n",
              "  </tbody>\n",
              "</table>\n",
              "<p>6982 rows × 12 columns</p>\n",
              "</div>"
            ],
            "text/plain": [
              "         ID      판매가  화면크기  형태   해상도  화면비율  LCD  LED  OLED  QLED  단자  부가기능\n",
              "0         8   396240    55   0  2160     1    0    1     0     0   3     1\n",
              "1         9   412870    55   0  2160     1    0    1     0     0   3     1\n",
              "2        10   414590    55   0  2160     1    0    1     0     0   3     1\n",
              "3        14   418000    55   0  2160     1    0    1     0     0   3     1\n",
              "4        15   419000    55   0  2160     1    0    1     0     0   3     1\n",
              "...     ...      ...   ...  ..   ...   ...  ...  ...   ...   ...  ..   ...\n",
              "6995  20670  1271670    49   0  1080     1    0    1     0     0   2     6\n",
              "6996  20672  1441670    49   0  1080     1    0    1     0     0   2     6\n",
              "6997  20673  1441680    49   0  1080     1    0    1     0     0   2     6\n",
              "6998  20675  1571400    49   0  1080     1    0    1     0     0   2     6\n",
              "6999  20676  2894380    49   0  1080     1    0    1     0     0   2     6\n",
              "\n",
              "[6982 rows x 12 columns]"
            ]
          },
          "metadata": {},
          "execution_count": 6
        }
      ]
    },
    {
      "cell_type": "code",
      "metadata": {
        "colab": {
          "base_uri": "https://localhost:8080/"
        },
        "id": "o4JfoVQE-drS",
        "outputId": "89d489ce-dfcf-44fd-bc57-14930db5e3c5"
      },
      "source": [
        "# LCD, LED, OLED, QLED의 정보가 없는(모든 값이 0) 자료들을 제거해야 함\n",
        "train_df[(train_df['LCD']==0) & (train_df['LED']==0) & (train_df['OLED']==0) & (train_df['QLED']==0)]\n",
        "print((len(train_df[(train_df['LCD']==0) & (train_df['LED']==0) & (train_df['OLED']==0) & (train_df['QLED']==0)]))/len(train_df)*100)\n",
        "print((len(test_df[(test_df['LCD']==0) & (test_df['LED']==0) & (test_df['OLED']==0) & (test_df['QLED']==0)]))/len(test_df)*100)"
      ],
      "execution_count": null,
      "outputs": [
        {
          "output_type": "stream",
          "name": "stdout",
          "text": [
            "5.2\n",
            "6.133333333333333\n"
          ]
        }
      ]
    },
    {
      "cell_type": "code",
      "metadata": {
        "id": "eXQ7Zype8sR1"
      },
      "source": [
        "# 더미변수 모든 값이 0인 자료들 제거\n",
        "search_df = train_df[(train_df['LCD']==0) & (train_df['LED']==0) & (train_df['OLED']==0) & (train_df['QLED']==0)]\n",
        "train_df = train_df.drop(search_df.index, axis=0)\n",
        "search_df = test_df[(test_df['LCD']==0) & (test_df['LED']==0) & (test_df['OLED']==0) & (test_df['QLED']==0)]\n",
        "test_df = test_df.drop(search_df.index, axis=0)"
      ],
      "execution_count": null,
      "outputs": []
    },
    {
      "cell_type": "code",
      "metadata": {
        "colab": {
          "base_uri": "https://localhost:8080/"
        },
        "id": "2gapslNR_8JF",
        "outputId": "4a59eab5-ce05-45ee-c278-9dc113055eef"
      },
      "source": [
        "train_df.info()"
      ],
      "execution_count": null,
      "outputs": [
        {
          "output_type": "stream",
          "name": "stdout",
          "text": [
            "<class 'pandas.core.frame.DataFrame'>\n",
            "Int64Index: 6636 entries, 0 to 6999\n",
            "Data columns (total 12 columns):\n",
            " #   Column  Non-Null Count  Dtype\n",
            "---  ------  --------------  -----\n",
            " 0   ID      6636 non-null   int64\n",
            " 1   판매가     6636 non-null   int64\n",
            " 2   화면크기    6636 non-null   int64\n",
            " 3   형태      6636 non-null   int64\n",
            " 4   해상도     6636 non-null   int64\n",
            " 5   화면비율    6636 non-null   int64\n",
            " 6   LCD     6636 non-null   int64\n",
            " 7   LED     6636 non-null   int64\n",
            " 8   OLED    6636 non-null   int64\n",
            " 9   QLED    6636 non-null   int64\n",
            " 10  단자      6636 non-null   int64\n",
            " 11  부가기능    6636 non-null   int64\n",
            "dtypes: int64(12)\n",
            "memory usage: 674.0 KB\n"
          ]
        }
      ]
    },
    {
      "cell_type": "code",
      "metadata": {
        "colab": {
          "base_uri": "https://localhost:8080/",
          "height": 297
        },
        "id": "SwmIHc7ZJK9s",
        "outputId": "ca2c1025-55e7-43f2-930f-8a76beb1fe10"
      },
      "source": [
        "train_df.describe()"
      ],
      "execution_count": null,
      "outputs": [
        {
          "output_type": "execute_result",
          "data": {
            "text/html": [
              "<div>\n",
              "<style scoped>\n",
              "    .dataframe tbody tr th:only-of-type {\n",
              "        vertical-align: middle;\n",
              "    }\n",
              "\n",
              "    .dataframe tbody tr th {\n",
              "        vertical-align: top;\n",
              "    }\n",
              "\n",
              "    .dataframe thead th {\n",
              "        text-align: right;\n",
              "    }\n",
              "</style>\n",
              "<table border=\"1\" class=\"dataframe\">\n",
              "  <thead>\n",
              "    <tr style=\"text-align: right;\">\n",
              "      <th></th>\n",
              "      <th>ID</th>\n",
              "      <th>판매가</th>\n",
              "      <th>화면크기</th>\n",
              "      <th>형태</th>\n",
              "      <th>해상도</th>\n",
              "      <th>화면비율</th>\n",
              "      <th>LCD</th>\n",
              "      <th>LED</th>\n",
              "      <th>OLED</th>\n",
              "      <th>QLED</th>\n",
              "      <th>단자</th>\n",
              "      <th>부가기능</th>\n",
              "    </tr>\n",
              "  </thead>\n",
              "  <tbody>\n",
              "    <tr>\n",
              "      <th>count</th>\n",
              "      <td>6636.000000</td>\n",
              "      <td>6.636000e+03</td>\n",
              "      <td>6636.000000</td>\n",
              "      <td>6636.000000</td>\n",
              "      <td>6636.000000</td>\n",
              "      <td>6636.000000</td>\n",
              "      <td>6636.000000</td>\n",
              "      <td>6636.000000</td>\n",
              "      <td>6636.000000</td>\n",
              "      <td>6636.000000</td>\n",
              "      <td>6636.000000</td>\n",
              "      <td>6636.000000</td>\n",
              "    </tr>\n",
              "    <tr>\n",
              "      <th>mean</th>\n",
              "      <td>10245.510699</td>\n",
              "      <td>1.649448e+06</td>\n",
              "      <td>53.151296</td>\n",
              "      <td>0.091471</td>\n",
              "      <td>1780.524412</td>\n",
              "      <td>0.523207</td>\n",
              "      <td>0.002712</td>\n",
              "      <td>0.865732</td>\n",
              "      <td>0.033002</td>\n",
              "      <td>0.098553</td>\n",
              "      <td>2.876130</td>\n",
              "      <td>3.137131</td>\n",
              "    </tr>\n",
              "    <tr>\n",
              "      <th>std</th>\n",
              "      <td>6004.202821</td>\n",
              "      <td>1.712329e+06</td>\n",
              "      <td>12.104532</td>\n",
              "      <td>0.288299</td>\n",
              "      <td>568.318422</td>\n",
              "      <td>0.499499</td>\n",
              "      <td>0.052015</td>\n",
              "      <td>0.340965</td>\n",
              "      <td>0.178655</td>\n",
              "      <td>0.298084</td>\n",
              "      <td>1.102862</td>\n",
              "      <td>2.054906</td>\n",
              "    </tr>\n",
              "    <tr>\n",
              "      <th>min</th>\n",
              "      <td>8.000000</td>\n",
              "      <td>1.700000e+04</td>\n",
              "      <td>15.000000</td>\n",
              "      <td>0.000000</td>\n",
              "      <td>720.000000</td>\n",
              "      <td>0.000000</td>\n",
              "      <td>0.000000</td>\n",
              "      <td>0.000000</td>\n",
              "      <td>0.000000</td>\n",
              "      <td>0.000000</td>\n",
              "      <td>0.000000</td>\n",
              "      <td>0.000000</td>\n",
              "    </tr>\n",
              "    <tr>\n",
              "      <th>25%</th>\n",
              "      <td>4987.500000</td>\n",
              "      <td>5.913075e+05</td>\n",
              "      <td>43.000000</td>\n",
              "      <td>0.000000</td>\n",
              "      <td>1080.000000</td>\n",
              "      <td>0.000000</td>\n",
              "      <td>0.000000</td>\n",
              "      <td>1.000000</td>\n",
              "      <td>0.000000</td>\n",
              "      <td>0.000000</td>\n",
              "      <td>2.000000</td>\n",
              "      <td>2.000000</td>\n",
              "    </tr>\n",
              "    <tr>\n",
              "      <th>50%</th>\n",
              "      <td>10118.500000</td>\n",
              "      <td>1.132270e+06</td>\n",
              "      <td>55.000000</td>\n",
              "      <td>0.000000</td>\n",
              "      <td>2160.000000</td>\n",
              "      <td>1.000000</td>\n",
              "      <td>0.000000</td>\n",
              "      <td>1.000000</td>\n",
              "      <td>0.000000</td>\n",
              "      <td>0.000000</td>\n",
              "      <td>2.000000</td>\n",
              "      <td>3.000000</td>\n",
              "    </tr>\n",
              "    <tr>\n",
              "      <th>75%</th>\n",
              "      <td>15446.500000</td>\n",
              "      <td>2.157762e+06</td>\n",
              "      <td>65.000000</td>\n",
              "      <td>0.000000</td>\n",
              "      <td>2160.000000</td>\n",
              "      <td>1.000000</td>\n",
              "      <td>0.000000</td>\n",
              "      <td>1.000000</td>\n",
              "      <td>0.000000</td>\n",
              "      <td>0.000000</td>\n",
              "      <td>4.000000</td>\n",
              "      <td>5.000000</td>\n",
              "    </tr>\n",
              "    <tr>\n",
              "      <th>max</th>\n",
              "      <td>20676.000000</td>\n",
              "      <td>2.940000e+07</td>\n",
              "      <td>80.000000</td>\n",
              "      <td>1.000000</td>\n",
              "      <td>2160.000000</td>\n",
              "      <td>1.000000</td>\n",
              "      <td>1.000000</td>\n",
              "      <td>1.000000</td>\n",
              "      <td>1.000000</td>\n",
              "      <td>1.000000</td>\n",
              "      <td>6.000000</td>\n",
              "      <td>8.000000</td>\n",
              "    </tr>\n",
              "  </tbody>\n",
              "</table>\n",
              "</div>"
            ],
            "text/plain": [
              "                 ID           판매가  ...           단자         부가기능\n",
              "count   6636.000000  6.636000e+03  ...  6636.000000  6636.000000\n",
              "mean   10245.510699  1.649448e+06  ...     2.876130     3.137131\n",
              "std     6004.202821  1.712329e+06  ...     1.102862     2.054906\n",
              "min        8.000000  1.700000e+04  ...     0.000000     0.000000\n",
              "25%     4987.500000  5.913075e+05  ...     2.000000     2.000000\n",
              "50%    10118.500000  1.132270e+06  ...     2.000000     3.000000\n",
              "75%    15446.500000  2.157762e+06  ...     4.000000     5.000000\n",
              "max    20676.000000  2.940000e+07  ...     6.000000     8.000000\n",
              "\n",
              "[8 rows x 12 columns]"
            ]
          },
          "metadata": {},
          "execution_count": 10
        }
      ]
    },
    {
      "cell_type": "code",
      "metadata": {
        "colab": {
          "base_uri": "https://localhost:8080/"
        },
        "id": "Y8cjU6kGPHE4",
        "outputId": "55e926e4-c644-48bd-c059-842a96909af2"
      },
      "source": [
        "# 해상도의 50sms 2160 값을 갖음!\n",
        "# 편차가 큰 변수(해상도)에서 적은 범위에 해당하는 데이터 구간을 제거할지 말지 고려해야 함.\n",
        "len(train_df[train_df['해상도']<900])"
      ],
      "execution_count": null,
      "outputs": [
        {
          "output_type": "execute_result",
          "data": {
            "text/plain": [
              "731"
            ]
          },
          "metadata": {},
          "execution_count": 11
        }
      ]
    },
    {
      "cell_type": "code",
      "metadata": {
        "colab": {
          "base_uri": "https://localhost:8080/",
          "height": 421
        },
        "id": "0I55PWsLP0Ei",
        "outputId": "22bad773-3b5f-4ccb-934b-ec0abce0d140"
      },
      "source": [
        "train_df.corr()"
      ],
      "execution_count": null,
      "outputs": [
        {
          "output_type": "execute_result",
          "data": {
            "text/html": [
              "<div>\n",
              "<style scoped>\n",
              "    .dataframe tbody tr th:only-of-type {\n",
              "        vertical-align: middle;\n",
              "    }\n",
              "\n",
              "    .dataframe tbody tr th {\n",
              "        vertical-align: top;\n",
              "    }\n",
              "\n",
              "    .dataframe thead th {\n",
              "        text-align: right;\n",
              "    }\n",
              "</style>\n",
              "<table border=\"1\" class=\"dataframe\">\n",
              "  <thead>\n",
              "    <tr style=\"text-align: right;\">\n",
              "      <th></th>\n",
              "      <th>ID</th>\n",
              "      <th>판매가</th>\n",
              "      <th>화면크기</th>\n",
              "      <th>형태</th>\n",
              "      <th>해상도</th>\n",
              "      <th>화면비율</th>\n",
              "      <th>LCD</th>\n",
              "      <th>LED</th>\n",
              "      <th>OLED</th>\n",
              "      <th>QLED</th>\n",
              "      <th>단자</th>\n",
              "      <th>부가기능</th>\n",
              "    </tr>\n",
              "  </thead>\n",
              "  <tbody>\n",
              "    <tr>\n",
              "      <th>ID</th>\n",
              "      <td>1.000000</td>\n",
              "      <td>0.209871</td>\n",
              "      <td>0.059389</td>\n",
              "      <td>0.114880</td>\n",
              "      <td>-0.029099</td>\n",
              "      <td>0.120977</td>\n",
              "      <td>0.025500</td>\n",
              "      <td>-0.111327</td>\n",
              "      <td>0.122795</td>\n",
              "      <td>0.049296</td>\n",
              "      <td>0.002121</td>\n",
              "      <td>0.244514</td>\n",
              "    </tr>\n",
              "    <tr>\n",
              "      <th>판매가</th>\n",
              "      <td>0.209871</td>\n",
              "      <td>1.000000</td>\n",
              "      <td>0.634457</td>\n",
              "      <td>0.052178</td>\n",
              "      <td>0.370425</td>\n",
              "      <td>-0.150205</td>\n",
              "      <td>-0.008157</td>\n",
              "      <td>-0.487213</td>\n",
              "      <td>0.239198</td>\n",
              "      <td>0.415364</td>\n",
              "      <td>-0.214304</td>\n",
              "      <td>0.371879</td>\n",
              "    </tr>\n",
              "    <tr>\n",
              "      <th>화면크기</th>\n",
              "      <td>0.059389</td>\n",
              "      <td>0.634457</td>\n",
              "      <td>1.000000</td>\n",
              "      <td>0.111088</td>\n",
              "      <td>0.686708</td>\n",
              "      <td>-0.078878</td>\n",
              "      <td>0.007966</td>\n",
              "      <td>-0.263554</td>\n",
              "      <td>0.094148</td>\n",
              "      <td>0.243651</td>\n",
              "      <td>-0.156203</td>\n",
              "      <td>0.387837</td>\n",
              "    </tr>\n",
              "    <tr>\n",
              "      <th>형태</th>\n",
              "      <td>0.114880</td>\n",
              "      <td>0.052178</td>\n",
              "      <td>0.111088</td>\n",
              "      <td>1.000000</td>\n",
              "      <td>0.135387</td>\n",
              "      <td>-0.045618</td>\n",
              "      <td>-0.016548</td>\n",
              "      <td>-0.023764</td>\n",
              "      <td>-0.032282</td>\n",
              "      <td>0.049418</td>\n",
              "      <td>-0.067695</td>\n",
              "      <td>0.139098</td>\n",
              "    </tr>\n",
              "    <tr>\n",
              "      <th>해상도</th>\n",
              "      <td>-0.029099</td>\n",
              "      <td>0.370425</td>\n",
              "      <td>0.686708</td>\n",
              "      <td>0.135387</td>\n",
              "      <td>1.000000</td>\n",
              "      <td>-0.112418</td>\n",
              "      <td>-0.064289</td>\n",
              "      <td>-0.228817</td>\n",
              "      <td>0.087024</td>\n",
              "      <td>0.220796</td>\n",
              "      <td>-0.276793</td>\n",
              "      <td>0.347716</td>\n",
              "    </tr>\n",
              "    <tr>\n",
              "      <th>화면비율</th>\n",
              "      <td>0.120977</td>\n",
              "      <td>-0.150205</td>\n",
              "      <td>-0.078878</td>\n",
              "      <td>-0.045618</td>\n",
              "      <td>-0.112418</td>\n",
              "      <td>1.000000</td>\n",
              "      <td>-0.054632</td>\n",
              "      <td>0.184225</td>\n",
              "      <td>-0.024628</td>\n",
              "      <td>-0.186433</td>\n",
              "      <td>0.298510</td>\n",
              "      <td>0.309073</td>\n",
              "    </tr>\n",
              "    <tr>\n",
              "      <th>LCD</th>\n",
              "      <td>0.025500</td>\n",
              "      <td>-0.008157</td>\n",
              "      <td>0.007966</td>\n",
              "      <td>-0.016548</td>\n",
              "      <td>-0.064289</td>\n",
              "      <td>-0.054632</td>\n",
              "      <td>1.000000</td>\n",
              "      <td>-0.132428</td>\n",
              "      <td>-0.009634</td>\n",
              "      <td>-0.017244</td>\n",
              "      <td>0.053150</td>\n",
              "      <td>-0.079624</td>\n",
              "    </tr>\n",
              "    <tr>\n",
              "      <th>LED</th>\n",
              "      <td>-0.111327</td>\n",
              "      <td>-0.487213</td>\n",
              "      <td>-0.263554</td>\n",
              "      <td>-0.023764</td>\n",
              "      <td>-0.228817</td>\n",
              "      <td>0.184225</td>\n",
              "      <td>-0.132428</td>\n",
              "      <td>1.000000</td>\n",
              "      <td>-0.469097</td>\n",
              "      <td>-0.839599</td>\n",
              "      <td>0.277607</td>\n",
              "      <td>-0.152042</td>\n",
              "    </tr>\n",
              "    <tr>\n",
              "      <th>OLED</th>\n",
              "      <td>0.122795</td>\n",
              "      <td>0.239198</td>\n",
              "      <td>0.094148</td>\n",
              "      <td>-0.032282</td>\n",
              "      <td>0.087024</td>\n",
              "      <td>-0.024628</td>\n",
              "      <td>-0.009634</td>\n",
              "      <td>-0.469097</td>\n",
              "      <td>1.000000</td>\n",
              "      <td>-0.061083</td>\n",
              "      <td>-0.103933</td>\n",
              "      <td>0.072242</td>\n",
              "    </tr>\n",
              "    <tr>\n",
              "      <th>QLED</th>\n",
              "      <td>0.049296</td>\n",
              "      <td>0.415364</td>\n",
              "      <td>0.243651</td>\n",
              "      <td>0.049418</td>\n",
              "      <td>0.220796</td>\n",
              "      <td>-0.186433</td>\n",
              "      <td>-0.017244</td>\n",
              "      <td>-0.839599</td>\n",
              "      <td>-0.061083</td>\n",
              "      <td>1.000000</td>\n",
              "      <td>-0.264525</td>\n",
              "      <td>0.144511</td>\n",
              "    </tr>\n",
              "    <tr>\n",
              "      <th>단자</th>\n",
              "      <td>0.002121</td>\n",
              "      <td>-0.214304</td>\n",
              "      <td>-0.156203</td>\n",
              "      <td>-0.067695</td>\n",
              "      <td>-0.276793</td>\n",
              "      <td>0.298510</td>\n",
              "      <td>0.053150</td>\n",
              "      <td>0.277607</td>\n",
              "      <td>-0.103933</td>\n",
              "      <td>-0.264525</td>\n",
              "      <td>1.000000</td>\n",
              "      <td>0.124277</td>\n",
              "    </tr>\n",
              "    <tr>\n",
              "      <th>부가기능</th>\n",
              "      <td>0.244514</td>\n",
              "      <td>0.371879</td>\n",
              "      <td>0.387837</td>\n",
              "      <td>0.139098</td>\n",
              "      <td>0.347716</td>\n",
              "      <td>0.309073</td>\n",
              "      <td>-0.079624</td>\n",
              "      <td>-0.152042</td>\n",
              "      <td>0.072242</td>\n",
              "      <td>0.144511</td>\n",
              "      <td>0.124277</td>\n",
              "      <td>1.000000</td>\n",
              "    </tr>\n",
              "  </tbody>\n",
              "</table>\n",
              "</div>"
            ],
            "text/plain": [
              "            ID       판매가      화면크기  ...      QLED        단자      부가기능\n",
              "ID    1.000000  0.209871  0.059389  ...  0.049296  0.002121  0.244514\n",
              "판매가   0.209871  1.000000  0.634457  ...  0.415364 -0.214304  0.371879\n",
              "화면크기  0.059389  0.634457  1.000000  ...  0.243651 -0.156203  0.387837\n",
              "형태    0.114880  0.052178  0.111088  ...  0.049418 -0.067695  0.139098\n",
              "해상도  -0.029099  0.370425  0.686708  ...  0.220796 -0.276793  0.347716\n",
              "화면비율  0.120977 -0.150205 -0.078878  ... -0.186433  0.298510  0.309073\n",
              "LCD   0.025500 -0.008157  0.007966  ... -0.017244  0.053150 -0.079624\n",
              "LED  -0.111327 -0.487213 -0.263554  ... -0.839599  0.277607 -0.152042\n",
              "OLED  0.122795  0.239198  0.094148  ... -0.061083 -0.103933  0.072242\n",
              "QLED  0.049296  0.415364  0.243651  ...  1.000000 -0.264525  0.144511\n",
              "단자    0.002121 -0.214304 -0.156203  ... -0.264525  1.000000  0.124277\n",
              "부가기능  0.244514  0.371879  0.387837  ...  0.144511  0.124277  1.000000\n",
              "\n",
              "[12 rows x 12 columns]"
            ]
          },
          "metadata": {},
          "execution_count": 12
        }
      ]
    },
    {
      "cell_type": "markdown",
      "metadata": {
        "id": "aQJWrf5sOzyP"
      },
      "source": [
        "- 추가적으로 데이터 전처리를 할 때 해야할 것\n",
        "    - y값 판매가와의 각 x 변수들끼리의 연관도(corr)\n",
        "    - . 이상치 확인해서 제거\n",
        "    - 다중공성선 확인(VIF(분산팽창인자), x값들끼리의 연관도가 높으면 그 중 하나의 변수는 제거)\n",
        "    - 데이터 스케일링(데이터값을 일정한 범위로 맞춤, 정규화)"
      ]
    },
    {
      "cell_type": "code",
      "metadata": {
        "id": "9zXiXuox_-Gu"
      },
      "source": [
        "x_train = train_df.drop(['ID', '판매가'], axis=1) # ID는 x변수에 해당되지 않음. 판매가는 Y값으로 할 것임.\n",
        "x_test = test_df.drop(['ID', '판매가'], axis=1)\n",
        "y_train = train_df['판매가']\n",
        "y_test = test_df['판매가']"
      ],
      "execution_count": null,
      "outputs": []
    },
    {
      "cell_type": "code",
      "metadata": {
        "colab": {
          "base_uri": "https://localhost:8080/"
        },
        "id": "dz9UNc1AAH_U",
        "outputId": "30735226-5252-4ce1-de6b-c6df3335dd43"
      },
      "source": [
        "# x값과 y값의 행의 개수가 무조건 맞아야 함!\n",
        "# train값과 test값은 열 개수가 무조건 맞아야 함!\n",
        "\n",
        "print(x_train.shape, y_train.shape) \n",
        "print(x_test.shape, y_test.shape) \n",
        "\n",
        "# x의 shape (6636,10)는 모델식에 입력되는 10개의 x변수가 있음.\n",
        "# 딥러닝에서는 입력 x의 개수를 사용자가 직접 설정해야하는데 컴퓨터가 계산하는 shape과 다르면 에러나옴!\n",
        "# 10을 입력하거나 x_train.shape[1] 입력\n",
        "x_train.shape[1]"
      ],
      "execution_count": null,
      "outputs": [
        {
          "output_type": "stream",
          "name": "stdout",
          "text": [
            "(6636, 10) (6636,)\n",
            "(2816, 10) (2816,)\n"
          ]
        },
        {
          "output_type": "execute_result",
          "data": {
            "text/plain": [
              "10"
            ]
          },
          "metadata": {},
          "execution_count": 14
        }
      ]
    },
    {
      "cell_type": "code",
      "metadata": {
        "colab": {
          "base_uri": "https://localhost:8080/"
        },
        "id": "JPa85KdNAdy7",
        "outputId": "687c93ef-f796-499c-e4d1-94b18854524f"
      },
      "source": [
        "type(x_train)"
      ],
      "execution_count": null,
      "outputs": [
        {
          "output_type": "execute_result",
          "data": {
            "text/plain": [
              "pandas.core.frame.DataFrame"
            ]
          },
          "metadata": {},
          "execution_count": 15
        }
      ]
    },
    {
      "cell_type": "code",
      "metadata": {
        "id": "ZpprzDKTB0pa"
      },
      "source": [
        "# 머신러닝, 딥러닝에서는 array만 처리함\n",
        "x_train = x_train.values # x_train.to_numpy()와 동일\n",
        "x_test = x_test.values # x_train.to_numpy()와 동일"
      ],
      "execution_count": null,
      "outputs": []
    },
    {
      "cell_type": "markdown",
      "metadata": {
        "id": "KWPylkW8IeZ8"
      },
      "source": [
        "## 모델 피팅, 실행\n",
        "- [과대적합] 트레이닝 자료에서는 $R^2$ 스코어가 좋은데 테스트 자료에서는 나쁘게 나올 때\n",
        "- [과소적합] 트레이닝, 테스트 모두 스코어가 별로일 때\n",
        "\n",
        "- 릿지, 라쏘는 다중회귀분석에서 사용\n",
        "- 릿지, 라쏘, 회귀분석의 스코어(결정계수 등)가 같을 때는 처리 속도가 빠른 모형을 선택함."
      ]
    },
    {
      "cell_type": "markdown",
      "metadata": {
        "id": "-wb1JaS_E3_A"
      },
      "source": [
        "### 1. 선형회귀\n",
        "![image.png](data:image/png;base64,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)"
      ]
    },
    {
      "cell_type": "code",
      "metadata": {
        "colab": {
          "base_uri": "https://localhost:8080/"
        },
        "id": "RMzn0MYbCAdw",
        "outputId": "a0df758d-744f-4dc7-979c-9b986f1a14df"
      },
      "source": [
        "# 선형회귀\n",
        "from sklearn.linear_model import LinearRegression\n",
        "model_lr = LinearRegression()\n",
        "model_lr.fit(x_train,y_train)\n",
        "print(model_lr.score(x_train,y_train),model_lr.score(x_test,y_test))"
      ],
      "execution_count": null,
      "outputs": [
        {
          "output_type": "stream",
          "name": "stdout",
          "text": [
            "0.5676150643429947 0.5365762057290643\n"
          ]
        }
      ]
    },
    {
      "cell_type": "code",
      "metadata": {
        "id": "btWEYrY2Mf_c"
      },
      "source": [
        "# 선형회귀식에서 사용된 변수들의 검증(OLS), p-value등을 확인해야 함"
      ],
      "execution_count": null,
      "outputs": []
    },
    {
      "cell_type": "markdown",
      "metadata": {
        "id": "VrHwVJt1wOjm"
      },
      "source": [
        "- 선형회귀 k교차검증(k-fold)\n",
        "    - 적은 자료를 가지고 데이터분석을 실행할때 k개만큼 자료를 교차해서 검증\n",
        "    - train data와 test data의 수는 일정해야 함."
      ]
    },
    {
      "cell_type": "code",
      "metadata": {
        "colab": {
          "base_uri": "https://localhost:8080/"
        },
        "id": "Ndd1fVUbNyIb",
        "outputId": "4f897c0f-3b44-43bf-8f5a-56b333c9e892"
      },
      "source": [
        "# k교차검증\n",
        "# (데이터 개수가 작을 때 트레이닝하고 테스트하고 경우의 수를 다르게 함)\n",
        "# https://wikidocs.net/84810\n",
        "\n",
        "from sklearn.model_selection import cross_val_score\n",
        "from sklearn.linear_model import LinearRegression\n",
        "model_lr = LinearRegression()\n",
        "scores = cross_val_score(model_lr, x_train, y_train, cv=10) # 보통 cv는 10개 \n",
        "scores"
      ],
      "execution_count": null,
      "outputs": [
        {
          "output_type": "execute_result",
          "data": {
            "text/plain": [
              "array([0.13306668, 0.51831341, 0.50581865, 0.65995459, 0.53651824,\n",
              "       0.5958442 , 0.3800345 , 0.65394724, 0.47312693, 0.54982533])"
            ]
          },
          "metadata": {},
          "execution_count": 43
        }
      ]
    },
    {
      "cell_type": "markdown",
      "metadata": {
        "id": "fUmgO00OpBpj"
      },
      "source": [
        "- 사이킷런의 회귀평가지표\n",
        "![image.png](data:image/png;base64,iVBORw0KGgoAAAANSUhEUgAAA4kAAAGrCAYAAABt1dJBAAAgAElEQVR4Aey9a3NUR5otPP9mfkj/gfn2fjzfdiiko1CBRAhpZDDWyCEz7vJENRNlBtkWg5AHBG0Mlnws91C8nrKRMFa3UIMwprAtBVKA1BxVuBWNy43XibztnftWN1XVLlUtR+Da2pfMJ1euzP2s/eTlH8D/iAARIAJEgAgQASJABIgAESACRIAIaAT+gUgQASJABIgAESACRIAIEAEiQASIABEwCFAkGiT4SwSIABEgAkSACBABIkAEiAARIAKgSCQJiAARIAJEgAgQASJABIgAESACRMBFgCLRhYIHRIAIEAEiQASIABEgAkSACBABIkCRSA4QASJABIgAESACRIAIEAEiQASIgIsARaILBQ+IABEgAkSACBABIkAEiAARIAJEgCKRHCACRIAIEAEiQASIABEgAkSACBABFwGKRBcKHhABIkAEiAARIAJEgAgQASJABIgARSI5QASIABEgAkSACBABIkAEiAARIAIuAhSJLhQ8IAJEgAgQASJABIgAESACRIAIEAGKRHKACBABIkAEiAARIAJEgAgQASJABFwEKBJdKHhABIgAESACRIAIEAEiQASIABEgAhSJ5AARIAJEgAgQASJABIgAESACRIAIuAhQJLpQ8IAIEAEiQASIABEgAkSACBABIkAEKBLJASJABIgAESACRIAIEAEiQASIABFwEaBIdKHgAREgAkSACBABIkAEiAARIAJEgAhQJJIDRIAIEAEiQASIABEgAkSACBABIuAiQJHoQsEDIkAEiAARIAJEgAgQASJABIgAEaBIJAeIABEgAkSACBABIkAEiAARIAJEwEWAItGFggdEgAgQASJABIgAESACRIAIEAEiQJFIDhABIkAEiAARIAJEgAgQASJABIiAiwBFogsFD4gAESACRIAIEAEiQASIABEgAkSAIpEcIAJEgAgQASJABIgAESACRIAIEAEXgQOLxH98/c/gP2JADpAD5AA5QA6QA+QAOUAOkAPkQOM54Cq3Fh5QJFLkUuSTA+QAOUAOkAPkADlADpAD5ECbcqCF2tDNiiKxTcnArzCN/wpDTIkpOUAOkAPkADlADpAD5MBh44Cr3Fp4QJFIkcivRuQAOUAOkAPkADlADpAD5AA50KYcaKE2dLOiSGxTMhy2Lxy0l1/lyAFygBwgB8gBcoAcIAfIgcZzwFVuLTygSKRI5FcjcoAcIAfIAXKAHCAHyAFygBxoUw60UBu6WVEktikZ+BWm8V9hiCkxJQfIAXKAHCAHyAFygBw4bBxwlVsLDygSKRL51YgcIAfIAXKAHCAHyAFygBwgB9qUAy3Uhm5WFIltSobD9oWD9vKrHDlADpAD5AA5QA6QA+QAOdB4DrjKrYUHFIkUifxqRA6QA+QAOUAOkAPkADlADpADbcqBFmpDNyuKxDYlA7/CNP4rDDElpuQAOUAOkAPkADlADpADh40DrnJr4QFFIkUivxqRA+QAOUAOkAPkADlADpAD5ECbcqCF2tDNiiKxTclw2L5w0F5+lSMHyAFygBwgB8gBcoAcIAcazwFXubXwgCLRFon/568o4u+4/X+qrNz/3MbM6l8w+Z9V3q/z+s30BgYvf4/f2HnzmF+vyAFyoOUceAzn95tw/qOWPuwFHgN4/MdanuG9dJrIAXKAHKiPA/X0uX/B/Z9/xf2va8B84Sds/vwzbi3U8EzL31nda1sLtaGbVReJxG3c/ptbbv/B3/6KSUH0WkVirffrxjT5/d8BkycbGIUBOUAONJ0DcQ5D2PmY2/F3j+YvTxSGn6nP8enelz3xYt2TA13KgT++BPASc4E+3/nyr9j8Wfe2P/+M21/+YL0XI/pcmY7pna3fnRf6ueAzMT6w7YvW6dOSy63hslXLLTvsIpGoKlE6QLoR2ceS5KEGohpZuDZ0Aw/db4Rm+Al1Rj0XFokxjTeYjNv4W0NINnziTA50CgeCDoMpV/h8qF98Pbof9ESjSYu/bC/kADlADigOKL+u+P22Jfb+jH+MEonSlwSK3z/DP73+GO+IQIJvVFu4nw7z7Dn++LNIw+RX+ZmQLxrl0wbEbDhf1nerMAlKglb8TZEohJfvi0z54aZvFETjLSMS7QYV1Rm8/meEGqb7TLhTCTtsbJCtapDMh1zrGA5oJ+Tl5nP84+vhj1K24Av3OUFnI/g3edIxPHHfRaxT1ik5cDAOhP05mV6EX5jd/DUwukw9q/prUQ/BPvcHvPPNHm6sWv8KP0PEKO/fNvUWfMac935DvihFol/Qt1l/2ApRGMyDItGOzlVsII8gHaj9v+INQZ5K90d0BqKTCDVMl4jhTiXssHkN/GAdGNMhfuRAd3DgB9z4i+n6/47bi4+sF2HYkQj3OcF7gn+TR93BI9Yz65kcqJ4DYX9OPhvyCzdx6yfAE4QKYykcf/oJg9I/DPa5m5j78SUeP3uJP34nhOJfsfkLgH09dSryGWWPeRO4v3/7K277phiUD5RUX35ypdFYuXXWwgOKxFoiiZm/4P4rK5xfQSQOfita7S+49Xt/Y6FI9OPR6IbE9IgvOWA4YIYu/Yo//v9buPF/fwV++QW3b2/qhbOCzsef1Ycw++MZh5taotrgyl+2MXKAHCjHAdW34pmZI6jvDYnEaDHp9xPD/bSLfWYLi3/5FXj1S4UPgNH5uOlUE/hwAxrlys1rPkwbiFkLtaGbVXeKRLf43oEcblVB9P2zEX3XdCOQ9wfScAnxvfv1fmfdnoDMSGKzGhDTZedMDlgceP8vuC8X6/o77n+tRWFmEzNPxZD5X3H/togohp0PGUn0ujX3yBuSGn6GuFu4u+8AniMvyIGu5YBZKfHV3zCTsXggRaLpVkXUrp5I4p/xj//xFNn1v2FHxCL+9hI3PrFHiIj8gv10lEhUq1sP/v4H/JPotyr4wF1bl23SpxvWtPK3e0RiQNAJkF/+/Cte/vx37Oy8xOLN8g3kN4tieww1JMDduqJcg5LXfsVOUXy5f4k5a5sM/xci1XnEOWY+Mvi+7ludTpsQmB0I64QcaC8O/PP//AVvlN3e4imyq3vImg9fVfUlcSultlfZyUXWBzlADiTDgR+w+H8BFH+BGMkpFpNx/cZQJPHPqH1O4vdqxMfPv+D+6pYSeK//Gf80u2ltrxYtEn0+5SvhA/+KYvEnvEOR2PYjRnx116I/ukckWs7Pbz75C27v/B0vxRcY898vf8fOs5/w/pXg15g/4zefFL3x3vYXoTiRmNnG7X0AP/2Ef/7PF3j8C/Cy+BMm9bNRItF0ZP75QFFfftjpG6z4Sy6QA9VwQPUjpquL+vWihFZ6s8+w+PQX4ed4//3yK4o7f8VM6Ku19ZzV17J+iAs5QA50FwceYXBV7GUhhvg/wqRc7PBXPP6jHlEWIRL/8dpPWkweZHXTR2r0mrulxTMsPtMBkGr75DifttrneV9Thab3Im7dUfeJxP/cw6b4svNsD++4G9o/wv+6/hfcFlG/n/fVFxVJ9sd4Y/WliiCKLy3BL/IRDeqfrv0Ff/xJTEV8iblZ9XJwReYvP+PWzSdlFq4JzgeiSOyulwudCdZ3qzkQ/Nps8n8ml1N/WfwrZq5/734F/6fZZ7jxTAxX/Rk3rNERrDeDG3/JBXKgeznwA97//he5yqgXPfwBc89+laJx5/td/H9RIvH1P6PmfRKDgmy2KH1bI05j6yDCb3XvXfgJmz//jFsL5LCLSRDnBP9unTT0cuo+kRjTQCUhAo3nf+uvQZvf78KJIkbgfpHGb27vo7j/N8wEI5L/sYUb3xdlNJGRRHZA7dgB0aZO5WUdkcSIvs3jR5yw7FT8WC6v7okFsSAH4jnwPea2/47N70RE0MZJBBz+ikWxsnQ5H9T3jP18+T73N1f0/PP9fdwWgvTVL/ijuziZnU75aVXx5QqkEWsn72smhp50a91R94lEO5I4+1iHhuMjif9rOjz81CVBWUcqvrH4RWJlB85HB85LbGo4361bdoLEuWM4UM+IBEYS2RfEv8OIDbEhB+rkQMNE4iO88WVRTp0SPuLLnSLekFOaRDRT7Zn48qeXuL36zB/kqNNvZX3XWd8N9CN8WqBFf3SfSBTRvnJzEvUQ0aoaRJ2NzS8SkydeVWVtINGZH+ucHGglB6r4EOXOY7Hs4pxEfihhv08OkAON5UBdIjF6sbDJtb/h8Y9FZK+ZgIfVf//HFma+28fjb5+70wXke1f6reUVhhgqy3e0hWWbtIHytdacq10pEhtG/v/cxszqXzBZ49yc30xvWCtQtR8RG4ZPmzQsloccIwfIAXKAHCAHyIHEOXDtOW6sPsc/0z+iEK2RA82RgeVTpUissZIS72BoLzsWcoAcIAfIAXKAHCAHyAFyoGs4UF7ONecqRSIbWNc0MAp8fkUmB8gBcoAcIAfIAXKAHDhsHGiODCyfKkUiRSJFIjlADpAD5AA5QA6QA+QAOUAOtCkHysu55lylSGxTMhy2Lxy0l1/lyAFygBwgB8gBcoAcIAfIgcZzoDkysHyqFIkUifxqRA6QA+QAOUAOkAPkADlADpADbcqB8nKuOVcpEtuUDPwK0/ivMMSUmJID5AA5QA6QA+QAOUAOHDYONEcGlk+VIpEikV+NyAFygBwgB8gBcoAcIAfIAXKgTTlQXs415ypFYpuS4bB94aC9/CpHDpAD5AA5QA6QA+QAOUAONJ4DzZGB5VOlSKRI5FcjcoAcIAfIAXKAHCAHyAFygBxoUw6Ul3PNuUqR2KZk4FeYxn+FIabElBwgB8gBcoAcIAfIAXLgsHGgOTKwfKoUiRSJ/GpEDpAD5AA5QA6QA+QAOUAOkANtyoHycq45VykS25QMh+0LB+3lVzlygBwgB8gBcoAcIAfIAXKg8Rxojgwsn+qBReLW1hYeFwr8RwxCHBDc4H9EgAgQASJABIhAcxDge7Y5uDJVItBOCCTVzikSKe5C4q5Roj8pUrdTw6YtRIAIEAEiQASahQDfs81ClukSgfZBIKl2TpFIkUiR2D79AC0hAkSACBABIlA1Akk5j1UbyBuJABE4MAJJtXOKRIpEisQDN18mQASIABEgAkSg9Qgk5Ty2vqTMkQh0LwJJtXOKRIpEisTu7XdYciJABIgAETjECCTlPB5iyGg6ETh0CCTVzikSKRIpEg9dd0GDiQARIAJEgAgASTmPxJ4IEIHWIZBUO6dIpEikSGxdO2dORIAIEAEiQAQahkBSzmPDCsCEiAARqIhAUu2cIpEikSKxYvPkDUSACBABIkAE2g+BpJzH9kOCFhGBzkUgqXZOkUiRSJHYuf0KS0YEiAARIAIdjEBSzmMHQ8qiEYG2QyCpdk6RSJFIkdh23QENIgJEgAgQASJQGYGknMfKlvEOIkAEGoVAUu2cIpEikSKxUa2Y6RABIkAEiAARaCECSTmPLSwisyICXY9AUu2cIpEikSKx67sfApAUAqWXpaSy7pp8iXHXVHVXFjQp57ErwWahiUBCCCTVzikSKRIpEhvQ6IuFZSyvbSExl7+0j2JxH6VXDSjMYU5ibRZDw7NYq7cMz3JID6eRe1ZDAgb7Gh6Rt+7nkelJ4fxaE1jj2lTC1toy1p7WmUc9eNSKg3t/CfvFIvbrNFUks3ZxCEMXvdovrZ1HqieD/L6bSVUHwXSqeihw08atKUzd2gicjfjzlSi3brsvCli+U0Ax4raoU42wMyrdxp/bwvwJByc/2Wp80hVSXDnrwDm7UuGu5C6Xnq65746qOWOZm5TzaJnAQyJABJqMQFLtnCKRIrE9ROJKFo7jwMnkQ0KrdDujriX9ot+Yw6iwcWQOQddPOiIn5tF6F0j3TBK/k5jf1n8bx/MAHZcskyhv4F8Sjp5djOLqHCZH+pRdPX0YPT2HNeNVSxyyKOcS7n83j4x53ulDauI8lnd1DtvzOOlYONoZxx1XkWfUoxtXRuFMLEYIgjXMDg9h1tM66vFabHNtquCcyzTDdewYLteSZ1QhsYPcO0NI39wBXJsibwSwgqzjIFum8uI4aZ4JC4IiFiccjF4JtNhXRaxdmcRovy57/ygmr6yhqD+yhNPx27z1yclQuzDtxLSPSmm4KdoYBzCqvbxuqig9W8bs6ZMYMmXsS2FoIovFh6axePcCiiemDNG/5dtV6aci9l9aaZo+SGJagYfWY/ahxNlw0b5gjiVeEfy1eBRVD+Xqz5TdcMpkhdIOlq9kMD48hL4ek2cfUsMnMfn+ItajYHUfBoqr1zD10VqovdtljLLVSiLyMCnnMdIYniQCRKApCCTVzikSKRLbSyQ6GeRtRwMlLJ/RL+SERaJ8mUvnICwi5Mu9nDPTlG7DSlQ6S5ZdAWfTurPqQ1mmsTmsF4soWv98jmDVqTXoxgfnkXJSyHyxpaKmL7eQP5OCc/Q81oUzWqnc2/MY70lhcmFDPV8qYvmseH4Ka4J3PtGk8JQ4BISycSSlIKiUZ2TR13E+5SDzZVTYLEYs2WJCpOmz1TitDqTAc22q1TlXoip1YV1ZHcwzsiwAXm0hlxlVznNPH06ezWFDFs3K37XJJKLKabCM/rU4bR6zf0Wk0JlETjvoUU526csMnNR56BLJp9cviDrPIK8jrKWneWSOOjDljkrHztY+jrs3dF6W36onR0fWbIxDGNk5iVBp5fKKJ4q3M0j1DCF9ZQUbJjT7ch8bt8/jZJ8QzYVAwhX+rGSXFplGIMvU7HJFXdcfBUy9Z8/qD4WyrSlBaguoWAvtfOxj/UCoHmITMhei2t8W5scdOONzWH+27/uQWfppQ/dBug8xyQR+48pin6/dViAp5zFQPP5JBIhAExFIqp1TJFIktpFITCEVdJxfLiMjhJn4l6hIVM5u6sKcdO59zpDQJmJIUyeKxCTLFNHhSuc+GG1+mUfGSeH8g8oicWdhHM7wHHwusnzewdSqEV5xwsQSPLZtFR1o+2Z9XJjDUOiDiH3NwdCHPiu1KIyyLcIu16aIaxHmuKekCB/FnMlaOt1G2MRHkqSjO3JeRXSLazg/Yp5Rv9WI6dJKFikjnFyDyh0UkTutRh+Y0aSyHWpB77ZRWb9DXpkQLdBtMVm1s/5qTfYHQoSuiY8UPrwCfZZbJ4Ey2cIm7h75SJXl1TalvzCoBPL7bhZDzjgWXwTOl/uzrF3iwQie2eWKuu7mFxBlVl62gHJvDx7Y+bjHyh4jQGt7dwTskflRJAZh599EgAi0DgGKRIq1pom1xwlhWxOppWMwipMn/ENO5VDTnpM4ORZwuPYLmDudQp9wCPtSGL+4BuMSFX/I4/yENySobySD3FOvMStBdw3Ln2cw1Kec2L7JeWzpoWbendbRi0WMiyFMd/aRzzihYYIyzeEMpkw0RQ5jnPWGQZY2sOhec9D3ehaL3xmLgeJDawikKM/0MnbcIJNyWlynV5glnSFraJ7ELy7yZTn3u3lkzVDL/lFkbsYPkFU4xQ+h9XBMY0iI+PfXPLturmH2hBgSOo55Mb9PDNWaHkfK4D2Swbw97E3bf+32ItJD4qPAVOS8wk4RicWbk3DGrkUMT9b8OppCqmcc8xZvVZ03TyTufzeH8WCUyXW6rbYQOlTiZeiyUZZA4fIQnPF57NjiwHL+/UmUUHyg8h56/SSGelJIf7LuDv3036v/erWDfHYITl8Gy14zUh9rQh+TtnBtzMHkTTMesHEiceuTcTipUYyKKOTZFbcPElbK9mHbEld+G+O4e2opr51eJHgxIkj0vTERc3Xe6kdC6R5AJBZzmHQ8ES/bhv6QU79I9AwM1YN3KfpI4ufZ4950wOGmcWWR523cbc64mccf1PSejU+GV4gAEWhjBJJq54wkJiSgkhJurcy3JlIbkfCJGHJkho/poaZn5jAnHBjz8nxlvupek0PaShvXMN7jOYGFjyeREU6mEFmlAmZFVOPMsjtESDoNjoPUb+ex/qyIndsqguE5keGeQjou2i772Nyp0tTObQkoPVPD10x0Uc4/S2WxLPzUUhHrn88hrwVAaXVKRlDGLyvH2H32dE7PX6lNJAqblOMRcOr2V5CVzuyydMCLd0S5dQTOFMT6lWUqE0k0OPZNiCFYej6SdLCEyBtC9osNtZiOEApiqJYY3vesBLwqYv3yOBw7b1n/QvCPY+7BDoo/uQrZsgjAQYebvshhssfB+MdmuOmOf7iqsV86bUFBVsDcsANbDEnj4hx7v+W+vyLFrpgnd2EUjhCH2/tYEcNg+8Yxu7KjuBvr/K9hSot0v8Mp6j/CefdZUsL+xgrmMkPocwR/Cz6hEy9M7UTCeXgOsXUtgNP+2jVMZcbVnLn+kzh/W5VTzaUTH3nEfNMszn9hzSd8uYPCF+dxUsyzG5vy5pJqcyQnTT/hmliSH3bsejv4cNMSdr7IyHYr+o19HQUdemfenZsWsiVQftc8H+eEULPabT3l1ZHEzJeWenYzA1AQc6uDkUSrnux7qz5Wz4dFpmlDget2HUlcvGkGsm5OL2KruI8NMfezTB8kzbPbhXtcJr9KZZL2GLsr3Vz9da9NiOHZapGmncIG1q0yhjhTRfI1vWerSI+3EAEi0H4IJNXOKRIpEpsWwayJ1ObF/HQFWSP49FDT7Ip+4RvHQs7LGcWc5TvKl6srqvwNfOtj4Xh7kSl5ry+KoyINrgj1Py5m+KhhbcZZkUMFPVEqbpdpmuv6eeWwK2dDOj5CJIb8Np22Ga6mny1+bouoxohEmWZPBsvunE+Fq5mHFSy2LJP9hVscmzowZQ6uHKkd3lErqqSEnYPxz00kRzhJepieqTNZ/2KOXgigoFlIbOEaHU0OLVykbVcOcnXOpcTWwhIvVzB11IEzlMaimswnviZg41YWJ/tSyK6U4oebaj76htFKmyqLRMkJsWjLxTwKLyKEuet0m2pQXPTEgMhDcXj0Yy8qLdtcpUjiyy2sF3ZQNHPmTBbmV6zQurGOdbOokOSMWGgoi/kVPSfV3Kt/Q7jGnT/QwjUlrJ1TCyeNX/ZEtVgQSUTBDfdDtrh1EjDaxti+5wDldeckfrKOHdPeS+XmJKq+wDdaIWBm+T8jnrfLFfpYofs9t3/pQ+qowrRvaAhDw0M4eXoRy5aAis1f9zkeJ3VEVPfH/nrQ7xI33wrRU5FGXPoxaYQWvNGG+z7giEWEhocwnsn5yui3NbbEvgs1vWd9T/IPIkAEDgsCSbVzikSKxPYSidvA2nRKrnIqvs47PVmsiMihFUmUQ9kC88rkC9gVgiXsPFjEnIhSHO1Dnxzi6H2dly9in6Dzpx/qNPScNS8SoYar2SuxhtM08+P0kNAXy8jKYZRDaiU81yHXUaDssj/bp9fkSqrjCzsiIbnqo8+B046L65BI59ITKMoh8cosBIccJhuYzyftls68P3vxl7wWXLjGcugjyxy0C4CcB+iM4po9dBLActYaVhqwP2xNlWdsJ7vKR3y3Fddw7f1r3jBh62Lh8iickVGMOik57Ni9VEeeEjtbJApJuF9hC5OXW1i7s4Yt4/RrA2R7mZyUEVJXZLs2RTjvruGVD8SKlbEiznrcHxnVXLOcaMld1yZvuHTIsbeesa+5PLfyDB2abT8iho1H4R163jpR8f4XBaxX2FaktB/Azi6/lZcvWht3j32/OS5TXnGLGHYvVjc1Q7ydnj65uum8iUybdORvdeIpvh4ieCb7AtMnRVy38/fd612Q/Zivr/auiSNZTxZn+o4qgTk0kXFXEi1bl758K9joz7phf9llLGtrTI5JOY8x5vA0ESACTUAgqXZOkUiR2HYiUa3gl0Ym4yA1LfYB0A6MdqqDjoHnTApRpIfpHU1jTkcbgoJJPu9zPPzpB9u3XNDCckS8/LwhUuE0AdxRq/XJBVFEoq9K2FqZR1bO1RPRIRE105GZgGAwcw4bJxJ1GaPK4cPCK31kmbzLkdFTY7ftTCr8jbPoJSDTN8JeOsfhe7y7Y45eiv0hiyg+KygB9aXA3BbHEc/JvMpFECLseCpWRXWQub0PFRXOIG8iXLU49toc+aHDRFFtE7XI9jgWtDNgmxw6qIYMS5zNPEbXpiocX/deI95MHuXbhW22ihaPYva7EkrfzUohfV5u4WHlb+fje7iWP6z0jEgwbUemb2y30wxHOu2r4liK4WIROwW1Z12+yr31JIej2pQ5Z2wTmQTKL/LceLCMwgNr25XAPabvMx+IZH4mzdjyBktXz9+qX7LbcflU/PUi761FgNn3ynJZvI/pn/z27GPji1lMnvDmoou56kIszulhzP779V92vqFop/2EbgumXqN+q7KziLWPpnBt1RtVQZFo48xjIkAEohCgSKRYa5pYa+U8RDuvmkhtOzxmKKKYs2Y5mmaoo3SwA8Mz3Ub1bF4vMOOeCc3PC4sf7QAY58t7VA75kxG4YH7akTFbGITT1BFRd36lneg+8r8Vy6mLhT30sKvhWRSsCMj+F2lrzp5y2OzhfJArFEYvXCNyCgpjN5IYuS+fbZt3HFUm72r0ENsokWiGm/pWW3xVwOywA8cIJbv+7UzsYx1d9QSU2KPMDE3LYuriPNZvViES7TSDxz6nUV0sbSwibS9MIiLbE33efEFpewVhGshHfngIRMMDt4T/DNhW+m4Ooz3Wgimv9HYefZPIfWZwiHDegylrLnu4GqGl5mC6dRR8LvD31k29gFFPHyavmGGYVv4hnPQHkiiH2z0XxDXCWdftVn3MiZpjq8ph2qocCuumrxa+EkP/hsR+d9kpzC6sI1elSAxA4PvTJ+jElQDOMup1YhKLtyuLRK9uvCHf8eX1mVHnH/WJRJ+dEmPDJYsHURYFuG1usQWUORf1K+d8H01j/sEO3MEOcnjtlGwjmdv+odRuur58K9gYlbE+56ZX5h51KZxH6an6MCEsXLs4hKGLwQ1Syyda03u2fFK8SgSIQJsikFQ7ZySR4rRp4rQmUksHyjgU0NEavax8IJIIvfjI6IUVtTgNSigW1tTcJblSnoOTH23IxZ5jgcEAACAASURBVD7EqqHCwbejS2Hxox3PKJGo50WqiKbVe7xScyfNgjgyzR6x6EpR5zsnI0+p99dQwj6Wz55E1t3bb923mE7swjXjZmVRLSSPZrEsFtp5YMoUFInekE7lQOqtDF6W1MInetGX9Od60RYR2Xywho2YaYCyTMHhpiJqp72wMI4mEmXZJSGLX7hmalU7b4H6t5Cu7TAkRGp73Df0Tzxa2pCLJg29k/OvfvtKrdY6+dlWKEIkHtsSW204KbjlC5ohndPg4iEefmFn20RWvDaCVwXkPzdizGRQwr6oHxeHsFNq7nR/3XtN/joPGaUU+Vp5ug9Ve2Dlb+dTzeOR91vp+SKJelVYsSDV2RXFd5OHnEtaWxkkt6P6A5Om/pX32YIzeFxFGj7OhcpcY3nl84YrlX9NhDJQLIGsHOJefSQxnIL/jL8c/msB3lkXqxNf5dOOqsvq0rUMMe+gfj2cVX+cUh8X9Ll3chCTA8r/V97W8s9GX63pPRudBM92IALFwjKW17b8fWEDy1ntVIQGZtnVSSXVzikS40TinRmMiBf+4BS+CN5zewrHxLWRGSz7rn2Fc8fEi/kYzt0u+MWXSS/oRDhvY8GXRuC5Q3ytJlJL5ybOkVMvVhNJFD1FaSOH7ITeAsNxILa5uKa3VNi6aW1tIbaa+FBE5byIRFjchNN3eyNpl4loumdlhHH5jJhTJ+ZM6qjaZBbnjU1mGwsdHdy5M4tJs/WE04eh03NYs8SZXIxlWC3cILf08G2BAeDpPCbFio6irMNi+4ic34nTK5e6i5eIaNekSc/bSsG36IvcpuM8lrf9X9lNKWMdYO34hnE0zl5QJCqxlTt7Um22rusraguM+W2Te52/ISe7xnR8kYUqn43Is6JIxAbmRgKL+Yjs6sk/ykzXpiqcUvdeL/9rq3pz+bOzckVcEfUuu0VMlA3ynJW/nU/s/daFyPut9FyRmEdBrJbbM4nzF5Q4V0O5VVpycZ6ROVjrXFmZRB9GCYuoO6u9L+pZ95xd56Ey115eN91qD2SelQWl+XBRn3D0lyNkmo2BdbFaMWdHEktmREY1kUQrr/KHFewv/7B1tVHpeEnW9J71Hmu7IyE63ChwrHVF5N8RozjSyHsjdmPv7uYLke/nhgGieGz7ZNUkXV0dV5NS992TVDunSIwTYa6oO4Jz/+MXbl++d0ztJxUUieaZHgcjF+5EisTJ39/D6j373wM8jLPhkJ9PitTd132wxC4Ca7MYGp6N3GPRvafcQZmFa2IfCzn2sXf6LkSKF+ksl3fY46M/VvIvCli+U0Cx7DwrfX9IJKSQSjkw0dPSxrzcP3H8s8pxEssC91A6BmKxnVrrJhJX7ZzYH9tSKaT6TmJWfHURQ27fH4Jz9DzW5LePGDHuWhd9UO2wP+mI2baEjuM+fFn52gsShcpca3mtdNvqsII4kltChBduKq5ecxegKV+cMnMS74R5K8VnqK4C7c4XBY6oh9DzVdS1iUiGnrXz9j5oli+zutoZ79nqI9c7d+YwdWUZO+ZjQDUgdeE97ScSq6/jLqyuikVOqp1TJMYJMSn4+tHf7+DIuS8swaejhWJfsoBIXL4wAqf/DM79e3/o2mMtIN/+1C847Tl8nXacFKkrtjbeQAQaicAPOUy9n6spUiWzf7WO80MpTIntLfhfUxAorUwhNXQe63Qom4IvE00egc54z1JANJpJFImNRjTZ9JJq5xSJZUWig5GREf+QUznUdAQjYoN2n0i8hw/FNg1v38D9a2/BcV7Dh3+yBCFFYrItjLkTASJABIgAEegwBFrvPOqoanYRy9N6CoFYrGphC2KRr4yeNtE3fB5yAW8X730UrkzqLVnEfqezaspFaCSDnq6gR1Vkb65hVq4IPo75ZxELpun54Warl77hSczpuRzF1VmM6/03nb4hTF6MiUCavD5bxvnX9TSN/knMPy1h43MzfaUPQ9Ni/XTrv/0C5k7raS9iisnFNfe62ILm/IS32q6YEpNzt4EyGOawdtFMw4hI38oqdFjcQH56HEN6GorTP4rMTW+vWikShzOYyozqaR4ac3eYrirbqPv8SWStOe5iPYeMmSJjps+43zO1/W60XYl83ygXg+lKeNEuMXTdHba+m0fW5BMoQ6jMESd2vszClKEsxo4DsVq8Es/XsPy5XmjtfbVQVFXlzer60mlFmNO0U61v56ooFIkVROLbF8TcxH6c+W8l+ORQ02NTOJcOiMR7c3jdcfD65Xt4bB+b9CkSm9Z4mDARIAJEgAgQgW5EoPXOozf0dvT9ZWwUd7B8NqWm4PSPY3ZlA8XCNbVw24V1t0q2PhHzhsdxbaMkFwS7Nm6tbm0LCvOEPuf0DCH7xQaKxX25CIs/QqYXdROLxok1CV6VsHFrDnkhxvSic2YRu9LTZcx94ok4k438dfMaxdTtDRSfLau52D0O+iZmsbJRROFjNd/5/AP9pJj3L8owfg2qSKrMkzeVCit8PInMJ+tqcb1SwbdYndnaRoglhWFE+j4DI/4oXMNkZh7rcs/lEgofjsLpyWBZ76MrcXJSSGsbSs/UPHPHbNWyMaf2/L0t7C2hKPaW/kKJzNjF9Mxq5GbYdLUiUZgfVcd6LYXU2WUUXwHFO1mkxKr2BuOIYtunxF7a4v7sHVH3enXvo2bkiMfToWweG0U151XhIup1DuvPith/CVRdXseBnZZtS7OPW9/OVYkoEo2IC/66ou4OLow46P/3m3hcUENNxXzDhYBIXL18Co4zggt3hJj8AucGHThvzGHVpKvTM5P/1a+534o4mvs74DcpUje7sTJ9IkAEiAARIALtgEDr37MmCrbsFV9vT5S9451azjpwBYne1mr0irV8lIwgTiInNEqUgNDnRi8XvETNYlVG6MgVuyMWABNPmJXOP/aia76E7D9M/pb9aqucLJbNUPVXy3KxODdatnYeKWcUc3aRxNY5rpCyMwBkemZfYCOyshaGwfT9j1f+S9eB2ZfZL6bV42ourp47q1c7z97xxUYFcMidduAEtv2Sc+hdAVdjJFFkbzAWkUX9n0zTErZGPKesjwvm3vBvEYsTDswK8/K6zMOITG3jyJxvezGJS08GebfYNZQ3kFbYpuadaX07V2WhSIwTY65ILGD1v15TQ07lOSXs/CLxW/x+0r8S6n+LeYnOW/j9uhaAOj3/wjUP8PC7zhSIYn5lUqRuXjNlykSACBABIkAE2geB1r9ngwIhWgD4REphDkPOEOZsvadFgxQ1EQIiSlQI1O10d+RWQ97WT/5aKcnoX59YTftEBnO3t+CufOu/MVLAKEFlLyLkH1Ip92sO7HUrn3GFYAk7IjqXGcfQ0T709YnFiUx6ERjqbWdcERq0MeLv0rN1LF7JYHw4hb4+NUzWDOO0cXIf1UN71T1FLGeHZAR4aHIKi3r7LmANU2LNDVvAigS0CBVDNo2Y81Y39WMj8wvWafBvlCD3oM7kfdt0SLvlHtKu1dEHL/PIOA7M/rfqJmVHtI36DiHkzUcGeaqe8kab1MyzrW/nqjQUiVWIxMd/+hCvOUcwOTkC58SHMjroE4nrH2EyZrWyyWvfqkVvLNHZaQvUxJUnKVI3s6EybSJABIgAESAC7YJA69+zEQInJAD8Yk7t22qv4OodS8ES8Xw1ItEXGYupkNKLAvIXJzEkhE/cVj4R+VcSiVLMRPp9QgjuY0UMwT2axtyKEqf+9CIwrFEkmqGW6Ssr2BJDTANliBSJd7JSFJpoo4Cs9HQF82J7Kr3H7L62wxOAGlidfrQAq0ckagyiMPSJuJiK1fb4R+cpXimhHYVxgJcyaWV7beWNsamJp1vfzlVhKBKrEYkFvSiN4+C1/7onRZ8tEh/KhWr6ceZzKyr43ad4W3RKkx+pLS4oEpvYfJg0ESACRIAIEIHuQ6D1zmOE8x0QKKIWfCJFRhKj9hvW9RXxfFD0mJr1pVtuuKl5wPx+N4shx4EtkMylqLz8ok7c6RdCMpIYGJLppvdsHuNicRZ7+OonJxsYSdxR8yHtaF8AQx9O2rC1aTF3VA/xdY1VB/tfiP2kxeJAevjl8KxvmKa6HhjKGZiTOGoP7dV4m8hmGGMdSZxYhLuWTsCmsn/qSOL453FPR/A0yEuZQT3lLWtZUy62vp2rYlAkViUSC1BzDr0VSz2R+C2ui/Hb/WewGBg6Ku/peQvXxZDTyOGmYr/Ezh1ymhSpm9JCmSgRIAJEgAgQgTZDoPXv2QjnOyBQBER+kaId8bHzWJELrQAiwrf2UO9hqR1+Of/wVQklsYpmRJrhdPXiMUfTWPyhJBeu2foii8xnW4BYPOf0nLuwS/FmBo6eQ+guVLKg5ytG5FVJJOJFDpM9DkYvrKjFacTiL4U1rO9a8yE/2pBDKcXKmemjjRxuqvE8oRbNQXEd879ViwcZUSbxFwv66GGkxYdzajGh99ekTfu3szh5Nq+ikK9KWLcWvnHxubwuF5RxF70RkVjJf80BV6Rqe45msfysiJ0HprzWKqZRdaznRaY/31BDgV+VsPVgDRvufMHyjW39gorWyroXt77cwvrqhl5hNoKnIV6q9KsuryuKy9vVjKutb+eqFBSJVYrE4JBKVyTqiGH/7xatvRRVRPHhdbEVhgO5N6IWieHQeOcuXpMUqZvRQJkmEegqBJ7lkB5OI/esq0rNwhKBQ4dA69+zEc53hMjyi0QxrnEDubPjegsM8WF9FJmP190o0tbCpLtVw7gQbxFpisoJpbtfwLy7zYODvpFJzN7ZAfYLWPTldxLZ4OqdBxGJskg5ZCf0Fhhi7uNIBtfEKqti1t5Ns3WGg77Xs1j8UETqGjgn8WnO3W7E6RfbV8wibW0tIXGazOK8sc9sY2EW4tldxuxpsz2GA3vrEGF/cXUOk3o7E8c8626BAcjVau05gU/nMam30+gbzmD+YU4u9GNEq8QkWMcmH7MFhiO26TiP5W0rI4lmzP9eFbF2ZdLdAsPYuSUfj+BpFH900uXLG51WjFVNOd36dq6KQZEYJxJ5PiR6g0K50t9JkbopLZSJEoFOQkA7YKGPVmYuiLyuV8HrpHKzLESgwxDge7bDKpTFIQIRCCTVzikSKQYPLAbjxGJSpI5oXzxFBIhAWQTUcuLu0uMUiWXR4kUi0C4I8D3bLjXRODt2bqYxNDwU+29W7f/euAzbLqUd5N6JL//Q8Cw6HoJAnSTVzikSKRIpEgONkX8Sga5DQM4NGfWWqPdFGs0Qqa5DhQUmAm2PQFLOY9sDQwOJQAchkFQ7p0ikSKRI7KCOhEUhArUisP/dHMb7HIxesTYxYySxVhh5PxFIBIGknMdECstMiUCXIpBUO6dIpEikSOzSTofF7mYEStjfWMFcZgh9TgrpTwp6RTiNCUViN5ODZT9ECCTlPB4iiGgqETj0CCTVzikSKRIpEg9998ECEIHaECh+Pi5XF5y8mEdBL0nvS4Ei0QcH/yAC7YpAUs5ju+JBu4hAJyKQVDunSKRIpEjsxB6FZSICB0Cg9FMRxf0qlyE/QD58lAgQgYMhkJTzeDCr+TQRIAK1IJBUO6dIpEikSKylpfJeItApCKxkvX27fJHD5PeE6hSIWQ4i0GwEknIem10upk8EiICHQFLtnCKRIpEi0WuHPCIC3YOAFIkOvL0Szb6IBcwNO3BO59yNrrsHFJaUCBwuBJJyHg8XSrSWCBxuBJJq5xSJFIkUiYe776D1RKA+BOIiiYU5jDpCPBrRWF/yfIoIEIHmI5CU89j8kjEHIkAEDAJJtXOKRIpEikTTCvlLBLoJgQiReG01j8xRB6mzs8gedeCMz2PrVTeBwrISgcOFQFLO4+FCidYSgcONQFLtnCKRIpEi8XD3HbSeCNSHQGi4aQqplIOhd3JSGJY25uX+ieOf7dSXPp8iAkSg6Qgk5Tw2vWDMgAgQAReBpNo5RSJFIkWi2wx5QASIABEgAkTg8CCQlPN4eBCipUTg8COQVDunSKRIpEg8/P0HS0AEiAARIAJdiEBSzmMXQs0iE4HEEEiqnVMkUiRSJCbW7JkxESACRIAIEIH6EUjKeazfYj5JBIhArQgk1c4pEikSKRJrba28nwgQASJABIhAGyCQlPPYBkWnCUSgaxBIqp1TJFIkUiR2TTfDghIBIkAEiEAnIZCU89hJGLIsRKDdEUiqnVMkUiRSJLZ770D7iAARIAJEgAhEIJCU8xhhCk8RASLQJASSaucUiRSJFIlNatRMlggQASJABIhAMxFIynlsZpmYNhEgAn4EkmrnFIkUiRSJ/rbIv4gAESACRIAIHAoEknIeDwU4NJIIdAgCSbVzikSKRIrEDulEWAwiQASIABHoLgSSch67C2WWlggki0BS7ZwikSKRIjHZts/ciQARIAJEgAjUhUBSzmNdxvIhIkAE6kIgqXZOkUiRSJFYV5PlQ0SACBABIkAEkkUgKecx2VIzdyLQXQgk1c4pEikSKRK7q69haYkAESACRKBDEEjKeewQ+FgMInAoEEiqnTdEJArj+Y8YkAPkADlADpAD5AA5QA6QA+QAOdBYDiShZhsiEh8zGte0aNxhxlZ0EHt7e/xHDMgBcoAcIAfIgSZwgO9Z+hj0szqfA6KdJ/EfRSIFbtMELl9end9x8eXEOiYHyAFyIDkO8D2bHPbkPbFvFQcoEinWmibWkopG8uXFDrRVHSjzIdfIAXKgGznA9yx5342877YyUyRSJFIkNmEoTrd1JCwvHQZygBwgB7qHAxSJ3VPXbNfdW9cUiRSJFIkUiZyzQw6QA+QAOUAOVM0BisTuFQ4Ujd1T9xSJFIkUiXQMqnYM+HLonpcD65p1TQ6QA3EcoEgkN+K4wfOdww2KRIpEikSKRIpEcoAcIAfIAXKgag5QJHaOEKCoY13GcYAikSKRIpGOQdWOQVxHwvN8yZAD5AA50D0coEjsnrpmu+7euqZIpEikSKRIpEgkB8gBcoAcIAeq5gBFYvcKB4rG7ql7ikSKRIpEOgZVOwZ8OXTPy4F1zbomB8iBOA5QJJIbcdzg+c7hBkUiRSJFIkUiRSI5QA6QA+QAOVA1BygSO0cIUNSxLuM4QJFIkUiRSMegascgriPh+UP4ktndxe6LQ2h3B7fX3ee7bIsdXL+d1E9SJLLv7CQ+syzRfKZIpEikSKRT0nrH9MdV5G4t4dHz6I7pUHbYhQWcPnYaC4V6y/QEC/86iNPzT2qqj92nm9iuGcdtLKYdDJxbwm6j+f9iF9ub21KAbt7LIXdvs6byeHVfHx7e8/XWQ/Rzu9ub2NxunIhb+mAQgx8sedgUruNUz3HM3IvOP7Zcy9MYPDaNpXrr0aqv2Dwi0s6fceCcyXv2R9xTS3pl77VsPBinqse25nZl2Vi2LGVwenRlDM7YVTwqc0+9aTf6OYrE6rnUaOyZHrFvFQcoEikSKRKtF7J0fBwH6T8EncFd5P7NgeM4yOST66C2/3QV6eFeaYfj9GLgjSksPthujaNm4XTgDiqfgeOM4eqjGCwfXcWYo/AWmHv/Msg30o4a09p9sIDMGwPolTYJ/DNYeKC5Im0uUyaR1/YqrqaPo7dHlan3yClM3TKi8BGujjkYu/Kohvqs55k97D2YwXHnFK7/GMQ/TpjlkamW+xYO5YWEst2rW1PPBsM6y1ZDnbpCzbI5jtvlyxLEcQ+mLwmWz/QfUektnRuA82+5kHDf/GoGE6bd9/Ti+JszWNrUecq2VF27iMpzL67skquDiuu9g0hfWcW2hW1kWlKwDmLwWNQ/1W5M+eNwjjxv2RjON45Hhk/iNwqfML+ezJ/G4L8u4Mle+JprV5wYtGx077XwUjjbNnnHps1HiUR5ztcHes8ZboUx3cWTmzNIvzGIwX7v/t4jgxh7M4vr39T74cbjOUWih0Vkfdt1z+Ma3mnEtZ34RJFIkUiRaHXg0gERL+T0ot9Re55DWjv24Rdyizq1R1dxqsfBwFtXcbewic0HeVzNHIdzZApLuy2ywcLqQB1ZlSIx/dkmNjftf9v+emmUPdWk8+MCJnocnLpwF5sC791N3L1wCk7PBBaE2KrkJArH83UHA29exX0Z+dvF5s0MBpwBZL8SQtPv7ErHUabpOXnGKVS/wvEt48yWKdPd9wbCHJf3x6UXFInqb789ws4M8hYOYYe+PE83b5yCMzCFu2VtKZ9GmJfbWPrgFAZ6hX29GLQElmufZbN53u0Lyjjoxrk3z5T9XZ7CgDOBBS3u3Lztero3g0HrHpne1+K5AaQ/e6SGBz9/hMV/G5Dt/q4YLtwUkai46rx+Cfd397D74JLse0595H3AiLTfLkvoOMihYD02h1Px+IS57om08DW3biO4Iq/FnffhYGNgHyssvPyD2MT9HU5D2PLoI9EvncLM10+wbb8bnm/j/mdpq8+JS7fyeYrEyhi5nPFxgM8Rl8PDAYpEikSKRKsDl47PwAAGnDQWrSF8uzfTcBIWiU/Ei985jksP7Q5mF7uWnYem861SJCYmyC1OGEw35yfgHJvBqu/aKmaOOZiY36wsEgtXccoZDAwn3JXDPp13xbDDMo6pyDNSDFR4xmer4Y2yORwt38Pe80WkhSh6a9EXNdrbi3ZGBTYhsWA5y6FrkfZou17cxdQRB8cvrOqvzqpsRojWzQWBW88Erhd2sbf7BNffDIhuMWTSstnUt+/3eR6ZAecAQwE3sSDyTXu4Smy0APXEZrhuIgW9rKcBTH0dxwtT13soF4nyPkSY6K1+TopV/zmZjsX/yLqVHO3FQGQkUUUXp5c923wYW9wIpW3VT+ia9ZxM7/k2Np9aI0FuifrPusNx4/EYQ+aMGe5Zpl1Ztvjsjzvvs89uR96xzYXahpt6adi2UCRW5piNF4+JFzkQzQGKRIpEikTrJS5f1iNjGOuxh5zqoaZjYzgeHHL3/SIyZhhY/3Gk582X9l08yc8gPWYPTZzG0rZpiNoBzixg6YMxPfywF4Pn8gHn3Ny/h90/pOWwSxFdi+vQfMNRewcxkZnAoDWsUzlI/qFXsszuPJgKdktHyEFmfgnTY2LY6ylclXPwtrF6ccKN1gy8YZd1DyG73jhe1XDTWGEQaUcAU8fBqY/UUM7Nb6xhur0DOHUuhyfuF/b452ycO0Ykbi5gIvSxQfFs9YKITIuPJAPI5O1hzNHOqMAn5LRbznLomtXWbGzFMNyZN3rhjMxg1V1Mp4yjHpdOxPmgyJLtSIsG1z7LZp9de3vY/fGusm1wDGODOpJvhnpG5Bd8fu/FEyxmBuH0ppFz238EbjqtXMbBwHt33TYetF+mX4NItO1xy2vbHVH2SK4HopyRaVUhEquZcxtK27IxdM0ui4iiBeb1Pbp8PCzuRZ2c8YbSZv6g+gnv2TLcs2yxsa34oUHaabcj+1i1Py9/r9/35REoq8oz+OFJPMvhpmVxC+LIv93+hrhV2fa6hDMUiRSJFIlWY5cOyNglXBWLMry5gE1xTQ81TV+ckfPkXOGynUfmiIOBMzlsvtjD5i01dFB+3d/bRu7MKUzd1EPENhflcNXjF++HoiTH383h/uYmVi+LSKGODlg2uZ32Cz0EzHEw+K8zyD+0vpaL+81wVDOc0QxLq0kkVrBbOkgOnJ5BZD67j02xQIl0zNTwpktift7ufVx63cKvCrvcMppy63xcrM158xtphxZ7Ap/MosRUDLXa/SqLASEYxTDRF3vYLSwifcSyzxrmaT8XsunAw011NEkM4dPDTZ/ooV+KM579InrmRZfUS0t9JPBHuCtGHw1e9q8cvhhMZxf3b5zWw9C28eiKqM9BZG7cl5jFRxKfyCG0zutX8UQKBBOlU1GoSg797vZ95C+mMdirxNeqJaLqKptdTn0cskHaqT6UuNeCjv/TJVx6N41Tg71wenoxZj4q7D5B7oMJaW/v8AQy5xZxPyJPyZ3nT7D62RTGxJywkSxy3/udDzfvwPOrFwb9Q4EbONxUCFAnk/M7hMGyRwgtWZ7AfXH2h9pNoHyVrx+MU0Ghtbv9BKsP/B/W7l88DmcgjcXvd6Ha4HHMPLAFZhmRqHmeuWWGmBvOi19/9DVcVlsYescSSzOs2f1g5+dLOC0TRa6UZxXp1FxHe+Bw0+bgGlnPddQP02H9NIIDFIkUiRSJVgcsX9biJS0dATV/SA01zSD/UC2mYoSLnD/Vk0bOHe6pHAs7CmA3UumgCWda5qcFge2wvcjJxUGC4sBOY+/FJu7eyGBMzq9y0Ds2hZwYRre3BxlxCC5GIsvhORHSgQos4uCW2cLBztNntxZn3pDAPey9WMLUgANPABvnReFXjV12fvJY52OGGqpfrxzqC7o9NFG8EDSmw3Y0SguzgSksuRGqPci6cwV51HPRL5gkF66Ri5qIRZVu2h8HtO3GwaxmtUlLJCncH+G6iOL1jmH6K8+ZloulDBqx6jm0vroyw1Pt4dmWmCgrJH4Uq3mKRVimsXhvM2KuqSpbfHsIlD3GQZf8s9uZNfzQtc+yWZVvF4++WcUT/RHEV2bZTsQKrvdx9xuz6FCAL7JNqIWNrub1h6JA+3LzDpwPihyRd2MWrlFDWUNDpgNtTfRvtUcSg3VhC6eI43I8rYVTAdv9/UU4X9V3Kxw8XinbBy+shobmevd49WvaYWiBoRCHvGc8/qh2FLZTfbTw132NmEpxWeMz5eohwEuvDKpcFIlR9ctzQZ7w78PNCYpEikSKROtl6AomLXzSf9j2htNph0Q5GnouWWCBG/m8EYIvNnH/1lVk3xzDYH8veoWwc78S65e57yWtHIgoxyTU0b7YxaObU0osyoVTdHojl/zLp9cjEsvZ7cNAd35yGFpgyJO+L/uVjgpUsCtUPv28f+Eata2CvDfKDiMSfZguISvmktoiQdT3w0ty6LAajhpVF3V07NImS8havAqVL/LaJpY+zOKSJdTc57ZFJHoAx4cH4IxdwiNX8Crbq+KMyTMkEkW0fNu/wIW5RrLpUQAAIABJREFU1/3dxOqtHFYDq6FKsX1sAhPDlmC3cIgTQm653PQj8BZzy2JFWsT9MWkFBY+M1BlRLX4FXyyb3Y8N9j3ljn18q9KuXV02tx695/xCwTsfi1lUfUZhIRbO6elFb88AMresocS+suv86p2TGJVvjeeayilpS/iDh+Gph31Mu5KjIgaQvSAWEwpsVxKFo1V2mbbNo369AuzYBDLvLsiItJd/RL370o+xz8ovli8NuociMaKOGoRts+uO6bPuquUARSJFIkWi1bG7InFvD/KL8Vtp6ZxPicUW5EvabIGhhYX90jfHQgiaoaEjWTdKYqftOqI+B7MGkWhslismioVT/ii3T/BEqO4EaxWJlez2YWDnEf5qL76WZ/IaJ1cc28+UEVRR+Zgyi9/I6zqvCExD+7np5w8kEqWjL1ZevY+7QkB9LSLNZcok7Y+LJHj4hQWf+FAxAGd4Bvf1kNex82Y7gjqcxcDcMu9lUdk2E0WXz0jhqhbt2c2rodZyHqPEVuFgnG8vj+DL2XbY/WVRTrV//mx8OsF0rb81ZuKDw64e9n3qhoqYuvZZNteVh81N99hfHjcvcT3QLu08Q5FPNz1dJimeN7FZWMWS2Gv0D2I7mQo4vVjFzLCY67gENe80g5yZVxlZdmtodA2rm8otJMosWiO2xii7cE2dnPJhG8ArLLw2sfCWGG5+Xc5L3i1cl6sWn/5005rP6K87WT+mb3xd7GOo2+QRMWRV10skjhYPLbuefHUVmTcG9RxuMXy/F4NjE8jeUEPibT64x770I+yz0g8JUvNucn8r9VPRdru27HG4qY0FjyvzhRgdTowoEikSKRKtl6t0Noyg0QJMLMkvhyrKl7QRiTqS+MZ1NW/RSkN2hl9lQyuR+tKOjHpVEInf38Vd45CY/KTDrxz1pXeF0AjMNQs4o8bxzrkRjG0sCofJlLmS3T4MdKcnbRiAFNLGLuu3GrtCL5CofKw0qxeJ2tk9Nm0tiLKH7c9OW/M/lcMVEpJ2fnoosD1MrHdQRwLeSCP77gxyeTFn9SDOV4Tj92ITS+8dl8vZX9Wr2m7nsxjsEfMur+P+ZsQztt1Rx3I4XyDyG3Wf75wt5vawV1jEaTGvUzjMkku7uC/n1A5iet7DoZzzruo8LEyNSFYRP2/LiBBHfPaVfwFvL0/rIdq9GDyziCea/659PgdcpSWvuU61J+JtDvhEc8gezSs7Df0BQ80vjZp/rPoVMfRRlldHvL08vZVDx97MIPvBVdydryASN+9iRswRHswiL+Z8CrEjhxefwozYLy+i7DLvevZJDGFg10uAQ8F7D8CpinVl+jeTZ0zZPEEZaFc/5pEdceAcOY0Fs7erwbFnENkvtuNxNHnqXzV94TiyN+9j20xVeLGLJ19flW3KN2zfnh/qq6eAfYE8yrYVXzp2/dR2zEhibXiVrZNa6o/3+udUE4+m4kGRSJFIkWh1MtLZcB2Ku3Ku3cA5sT1BRPRKLyhx+sZ9tX+ZGAL69RLuC0dMX8vcFBELsdJcFsfFsEc3be1ARkS9jJPsf6k8wfV/UQvGnL6Yl4uybD7IKcelJ41FN0+9kI74+v9jHlPCsbGFi7TLwanLqzIClntXrDJq2VXJbulgGKFsXpJaiI1MIf+jmi+3++Mqlsx8LZ2nXOAnzi6rDmys/cNNRdRODzmNtCMK0zIL18iIgChD9HN+/E1Zy/we2PkKO36bN9MYEHMFl63hgXt6tdg3prD0PPyMu1CPtaedvyzqGRNN866FBZsnTpRI8kTRJvI3cq7YMmnsbu/6nGVXhAXr1/3bFg5WWXTkS+Qf3R7K1IObduV7XPtqrjvb7rh8rPL4VoHdVtueOKKt5v1zMfUwdw/nuLSt8xWGmz66PIbeMf9qw2LF1dy5CUyJFWxrLrvK28XOwluKLBEVKxNNjI8k1s+pKFsMJz3hZ2Fm2WzuE7/evf66E8J68eJ13DXRV/O8GJr/1V3VDqrEsVZbPZsq22/KUrkeTmNBrkpdfZombfNLkVg/dgZD/iaNoZpGsRRcBNC0b/7KBaqQwH//cNA8RQf1uBMF3p0ZjAinfXAKXwTLd3sKx8S1kRksu9ce4IsLb+HY/9Zfunv78drvPsKXDwoKH5Oe/TVbHr+NBTcNfW+H/H2Ql5d8gbtCLtCBSSfAL5B8C0o4YqGKKeQeCaEkNvC2trZ4cxqXhCBz01ZOiD96pRzPWKdYL1pz6ojYekLUt85PL1wjXjhPbunVFMX1/jFMnZnwi0QxTOqcXvpdr9qY/9DsDSbKW8HuCAzki273PhbOmA3LRd7Hkb58142y2nb1HjmF6XMiklcm6qbzCYoU95lIO6IwVXUo6+mYxi1uCwyfYA/UfTUvC2lTmTJVTCPgmFa8X9gYfqaySNyDXN0xFAWvRvhUgYuFQzmHWDlIdp66LJeX9GbxGUyLYbY9p2CiqI12qlz7LJury8O2Ow4Tf92ovBaxekGsHDuBqffUasa+rUbkvEF7May4tK3zFURixfLUXHaVt4udxdN6BE1F+0T6lo1R+UadM+nWYpN3r7/uTFplfy0by93niySabXiqiSRaOJdLX1zzymHxpIbnK6Uvrh/kPVtN+i2954VYiEqt1F0+31XMDAr/LLhfbvNwLm8P8z0YPhV8rga3mYPZmkxdi3aexH8UiXGCzBV1R3Duf/zi7cv3jilxYInE5YuvwXH6MXHhJr65dw9ffjqDt4cd9P9uEQ9FHjq9yd/fw+o9+98DdT3OjkN8vqNeXgftpALDTQ9jJ3VobC4s4PSxg3yhL7NwTSwP6nBmRVpiZVGx8MYD+8WjXphhYa4/QIkPD9UI6eeP1Fy55/F7AXp1Gs5zYGAAzuBpLIjhtbv31dDIN67rVYFtew9+vLu9iU0R/ay57qoXiT48Bwa8yPCLTeTeHYRzZApLUiyo/VjdkQuxdR4o9/I0Bo9Nu5vFe9gG7otLr0pxE0x36YNBDH6gR1notKuZkxh8Jphu5N8VOCVFovxwZnHV/tv9OFcBEzHf86n4yPcEC/86iGr2dHTtrQHH+DmJZq6xZ6cUfHZZoo4D7bKaZ2I/RsbxJHC+o96zVX9o2cbqjWlM3wjXk8uDAE4873G5/bCgSKxUJxSJ7SaGpKjrR3+/gyPnvrCipV/h3DEx3NCOJK7gwpgDZ/gDK7JYwONvv8XD7/yRxLc/9QvOjozC6rrsqJfXQV84FIlNHa9fqYNt/vV6hKV6ad99bxAD7waGOx6Ub3y+fr49vI5T/RNYCKwg23QOWQKs6Xl1Mj+6DMeOes9WLRLbWfDQttr7L4rESphRJLalSHQwMjLiH3Iqh5qOYETMMXMjid/i95NCOL6F39+LEYE6kkiR2KUdKEVi/U57Jzu0LBt5QQ6QAwfgQGIiUUZsHWQ+zmHqhJ5C0D+Bqw93cf9GGoNyD+FeDJ7LY9su3/YqZt4cQK+IxIopBx8syevhKLReKVi/Oy/dvI7TYohpTxZLUfPXv89h6g2drtOLwTdnsCTWCNhT9hzv19Ht/jFk4iKQOq/pz64iradF9B6bQn5z05u20tOLieA88+8XkRk2GBxHev6R5vQunuRnkB7z7Bp4w5qXbDCcX8K0wbB3UM1RtjErc7z51TTcqS+9g5j4wJujvv2nq0gbu8S1zAQGreklKtLtX5FZ1oMb8a/B/jFR/lO4KufYbmP14oReNVhMx7HKLMoiF6w6jl4RbJF1dUpuhVVTVD0Wcz1yZuwScjdOy8XlnHeX3JWs/Tzaw27B4o3YLzh91TfnWeERSKtMfVQSe/Vep0hsU5H49gUxN7EfZ/5biT851PTYFM6lbZFYwOOlGbwmCN9zBBPvfYrl9YBYpEikI5BAx1Jvh8TnuvRjBjnKfoocOFQcSFokOj1qhdjNQg4ZsdJyj4PeN6aRf7CJVbnSsrV6sLt9ySXct7Z0mZhXW+FEiRa1TY0QlKcw8/UTPQxZDe93h93r7XWc12eUg//8PhYuLqoVnx/M4LgzALN43ebX1zHzmRFxgX5eikS1eu5Vkde9Szgl/bpeuYr1auEJcmJ+tmOt9rydl+WWC8K92MPmLbUN0dTXIu1t5M6cwtTNR2pRPb31j7tyrhaJLoabq7gkVkAemMLdatrh8xzSPQ7GPrwvF97afZjDzBUlusX8YWH7wJtXcV+s3vv8kZpjXpNIrNb+QWQ+u+/up/voipjvfQqXHuzKqQqyTG8u6LURHuGqLOMErv55F3tiocHP0hioZXG0sphrkegIHs7gbmFTrV5s6tbmkcHo3xblNjx7ZgXqI1O4a6+8HUyrmrpp8D0Uie0qEj+9gwsjDvr//SYeF9RQ05ELd7AQFInC/ns38WF6RH0hc3ox8rsb+OZbLRa1SPTNi3FGcOFOQEy2Gw4HsCexl1eDGycFU+BFSnwPlRNJ/pK/5EDnciCx96yJgt3ysH10WazSnYG7tZPessiNEMntrPxzsGWkRguIciIx/Qd7ZWm/SJR7mjqncD1qiLhZKfyW/bxns69tSCFxHJf0NkfiWi4jAgKX8Mi89/R2OGbl480bQhDZi1wp2wbeuxv5npDpvX5Vze2OwHDvlthKp8qF1zYXMCHE1eWw6I3EREdKr+rtY6Lw9kcSwzhF2X/cbBUkMNIrQ7tCWJyT+WphbVZ213vkKvxrG25aCXNZBrPavKk3LRJtHkVi5O55be3hG0zLpNnCX4rEA4iRpszrsyJ/q//1mhpyKs8pYRcpEk0Z1u/g+u+0WHxjDqvivE7Pv3DNA2/Oonm2g34Te3m1sOH6XjDMN/KlSIzCL1piQkzIAXKgERxI7D1rBE7eq8ew6PA7/3LP1WP+FUnlM3IIqV4N1vEPf1QCIyiabJH4REWmbCHnexdvIpcZlIsNDv5LFte/3vRvd2PfGxBRon5CoslXbr1Pc3rRl6Z8xghBsT3LravIvjmGwf5e9IphuGY4py8tjWOEDfE82ZXRWjF0t3csjRkTsTTDcYOYBNIO11dEeWu1X+7XHNj/V5cz+9UennwkVpP2C/G9PT9P4ssrMKqMeajORB0Hyi4WxZIRzSBGZi9mMUQ1qv5tvrTwmCKx3cSRJRIf/+lDvOYcweTkCJwTH0rRV1Yk6rIs/q5fjtG+LOYp2um1W1mbZE9iL68WNtzynZn38uR9xIIcIAfIAXKg0RxI7D0bIXDCosPv/EvnPWpVWC0Mw89HOfeCQ7ZI1MdGeMW8/3cf5nH1zJgc6SX2RfXNkzTPhIREhGjylVvnHVUmYY8ZXjuSxeI9JU59AsaXlm4bETZU4ozYD3nxgwk1/07sOyzyFYspBjEJpB2Ft8++uu2PXt1YRF9VnkHR7+dJ+fJWwDxO2AXK7nIoiJEWrHIeY1xahi8t/KVIbJJQqTvK6BN19/DhCUX61/7rnlzpNCgSv8ndxDdmJVNdli/OHaFIbGEjKt+x0DkhPuQAOUAOkAOdxYHDJBJlJHFgCkt6vleQi1GiJRwBEvWnhYLeciRy2GCM77H9mdgb2CywEuBCSEhUEok6qhXa61an+1U2FDXzibAGiUQXxz9NY9BxICJ2S+8KnzWNRTEf0WARKJ/B2x0evLeNxbcscVmP/TKSOICpZStfk7/4lWk6SP9BbHFj7qlFJFbAPE7YBcou8la8OY1FucCRtkVjaObJ+urLtdfY3bpfisS2FokFPQH7NXz4JzWH0CcSVz7E62Jy85EJnPv0K7kP4pfX/w3HxLnJj3BflC1yuKnYL7Fzh5wm9vJKsCF7nV7rOg/mSazJAXKAHOhODiT2no0QOEZ05N13cMD51wvMHH8vj029J+nmvSXc/V7V3e4f0lJUzdwTC63sqiGcEc59UCS6i7S8dd1bpOVMGtcf7WH7ZgZjZxbxSIilF7u4e/64O4fwkRz6OIDsV1qwROQVEgnBcus5j6dv3FeL04iFWL5ewn0hPMx8yJtiftsuntzM4rjwC030KpiWwC3Chti2LRbWeXMGd38U9u9ic17jJ/bd1XP/5II6YpGgH/OYEqvy2/MdzfzAy6vY3LyP3LtiTqllXz32721i4U0xj3MKeWmXyHsVS988UaLwxV1MiQWOjmSQE9d3N5F/T+Xrzl11+RPTprVdkZjXIBJd3oQWrsliSYvrUP1Xsq1J1ykS21wkBiOSPpEobJeL1ryGfrnss1iJqx+vVVy4RjTYzl28JrGXV5MaaWxHzfysL4IxnToxag+M7D3k/ryA7LsLuF9n3URt4s42Qv6TA63lQGLv2QiBU1Ek7u1h98ECMu5WFQ56h9O49I1aJGRPDG/8F72VRO8pXBULyESKJn8kUXDOt92D2MrgzWnkhPj8PofpN812Cw56j01gZlktYtMQkbi3h82vZjBhtppwxJYPU8g9EsJt29s6Q271MI1LQog1SiRur+L6mVN6qwkHjtjew1q59cmtKYxZW39MnZnwi8S9beTPDarFFnt6MXYuh/yHY5599dgv3ie797Hgs+s40pfv6tVNVZ2426bIbVCmcLqW1U3LYh4R/RU2RfJI89FsPxK7BcZVb+GiOt+XB+0XKRLbTSTSHjmsNiiOa/k7sZdXQo34oJ0An2+tc9XReG8u4dK7l7C0GcBUOnZ6Poh8aQYWibDajvyCGjHXxqzqJ6/r4V4djaWFCcsZ4BOxSfzjD9+z5GTV/VKMUKr6ebb3xNo7RSJF2YFFWS0CrhX38uXFlxdfPglxwBaD9ovdPl9BJIbqTi4N7u0PRpGYUN3a9cnjxJy2UPtIqC74nu3cdvhk/jQGjw3G/puOm/cXx8VDIBIbXuY4LA7ZeYpEikSKxEPWaNvFSaAdnesk1F23thi025V9viaRqOeZpBfdVQHtSGPVc0lsW3jc9QKnbn6TOy53KBLZ/1fdjg6BSKy6LF3WB1AkUiRSJHZZo2dnyJd70zhgi0G7XcnzaqVmuUBBcE8y+15z/OIJFsU+Y71p5KxV4BhJJH+bxl/DPf66YjAOa4pEtsM4bvB853CDIpEikSKRDkFFh4Cdfud0+k2ty4BI3H26ic3CKu5/fRVjZnW7SpHE50+w+ple+GAkqxaBsNooRSK52FQOW1xjPvFco0iMx4a8ITadwgGKRIpEikQ6BRSJ5EBjOOCLGPZiQMxreSONhZtVisQXS5gaEKv0ZXA1/0gt7R6oG4pEOmCd4oAd5nJQJLIdHmb+0vbq+EuRSJFIkRhwQtl5VNd5ECfiVDUH7AhjpUhiufa4u43Nze1I8Vi1LeXS57XGfCwgjh2PI0Ui+3/2uZ3PAYpEikSKRDo0He/Q8GXW2pfZ5leXkP1wydufqiaRqPYiM4vS+CKHXACBbZX9dVtwgCKxtX0q32HEOwkOUCRSJFIk0uloC6cjiQ6QeTbnxSs3tzYbN4v29fwRlm4t4dHzPewtT2Pw2DSWYtud3rDa3itR74u4+4c0HGcAU183x27ygbiSA9VxgCKxOpzIJ+J0mDlAkUiRSJEY66yyczvMnRttT46/IZFYUxuLiyRuYzGtVkgdOJPHbk1pJocFeUjsO5EDFInkdSfymmXy85oikSKRIpHOJiOJ5EBDOdB4kbiI1Qun4PRMYOq9UzKamMlvN9RmOgd+54B4EI9yHKBIJD/K8YPXOoMfFIkUiRSJFAh0tsmBhnJAikR7uGjEcSYf9xKNGG46MICB3jFML29j78Umcu8OwjkyhaXduDR4nk4aOdBMDlAkkl/N5BfTbg9+USRSJFIkUiA0VCCwc2+Pzp31wHogB8iBZnGAIpHcaha3mG77cIsikSKRIpEikSKRHCAHyAFygByomgMUie3jyFNUsS6axQGKRIpEikQ6BlU7Bs3qiJguX3LkADlADhweDlAkHp66YrtiXdXLAYpEikSKRIpEikRygBwgB8gBcqBqDlAkUnjUKzz43OHhDkUiRSJFIh2Dqh0Ddu6Hp3NnXbGuyAFyoFkcoEgkt5rFLabbPtyiSKRIpEikSKRIJAfIAXKAHCAHquYARWL7OPIUVayLZnGAIpEikSKRjkHVjkGzOiKmy5ccOUAOkAOHhwMUiYenrtiuWFf1coAikSKRIpEikSKRHCAHyAFygByomgMUiRQe9QoPPnd4uEORSJFIkUjHoGrHgJ374encWVesK3KAHGgWBygSya1mcYvptg+3KBIpEikSKRIpEskBcoAcIAfIgao5QJHYPo48RRXrolkcoEikSKRIpGNQtWPQrI6I6fIlRw6QA+TA4eEAReLhqSu2K9ZVvRygSKRIpEikSKRIJAfIAXKAHCAHquYARSKFR73Cg88dHu4capEojOc/YkAOkAPkADlADpAD5AA5QA6QA+RAYzmABP77h4PmKUjwmFFAYhDBAcEN/kcEiAARIAJEgAg0BwG+Z5uDK1MlAu2EQFLtnCIxQtxQ9BYaInqTInU7NWzaQgSIABEgAkSgWQjwPdssZJkuEWgfBJJq5xSJFIkNEYRRwjopUrdPs6YlRIAIEAEiQASahwDfs83DlikTgXZBIKl2TpFIkUiR2C69AO0gAkSACBABIlADAkk5jzWYyFuJABE4IAJJtXOKRIpEisQDNl4+TgSIABEgAkQgCQSSch6TKCvzJALdikBS7ZwikSKRIrFbex2WmwgQASJABA41Akk5j4caNBpPBA4ZAkm1c4pEikSKxEPWWdBcIkAEiAARIAICgaScR6JPBIhA6xBIqp1TJFIkUiS2rp0zJyJABIgAESACDUMgKeexYQVgQkSACFREIKl2TpFIkUiRWLF58gYiQASIABEgAu2HQFLOY/shQYuIQOcikFQ7p0ikSKRI7Nx+hSUjAkSACBCBDkYgKeexgyFl0YhA2yGQVDunSKRIpEhsu+6ABhEBIkAEiAARqIxAUs5jZct4BxEgAo1CIKl2TpFIkUiR2KhWzHSIABEgAkSACLQQgaScxxYWkVkRga5HIKl2TpFIkUiR2PXdDwEgAq1AYA2zw0OYXWtSXi+3sHZnDVsv7fRL2FpbxtrTkn2ytuNnOaSH08g9q+0x3k0EWoFAUs5jK8rGPIgAEVAIJNXOKRIpEikS2Qt1CQJbmD/hwHGGMFcIFnkDcyPi2knMb5tr+yh8ksFovzjvwOlLYXw6j419c30FWXE+9M9Ow9zr/127OIShi2vA9jxO+vL03yf/WslG5OHP9+QnW74Htz45WfGZ7IrvEdTzjJeCwdZvl8LG4KHwCuaLl1tYvpLB+PAQ+no8rIdOTGLq83UUq9V3kVgqu4L4eHZD10GE3SfmIVGNTNeXAv8gAokhkJTzmFiBmTER6EIEkmrnFIkUiRSJXdjhdGeRPSEzdDmgEjfmMCrFnhE0wNbCOBwnhfQn69gpFrGxMo/smIPU9BqUblGiZ/TyOorFovVvH6VXCuH9tVmclCKzD0OZHLb0+ZWzDpyzK9WJxLKVVYUICj0fI9ZC99knankm7t6I8y/XMHXUQepMHhs/2WqwhP1n65gbd+CMa7Fmm2OOKwjo7Eo9+BSxOOEgdWFd5UKRaNDmbxsikJTz2IZQ0CQi0LEIJNXOKRIpEikSO7ZbYcH8CCjBkEql4AzPwZaJG1dG4cgolhGJO5gXAmXsmoommYRKJVcAAkr0xEapijmke1LI3i4CpQ1cO+EJj0RF4qtlGQGdWjWFquY3QuDFPfYyj4zjIPOlLfrEzRFpvFrH7NABRGKcDe75OkTig/NIOaNetFmKRBNpzCIQgHVz4gERSAKBpJzHJMrKPIlAtyKQVDunSKRIpEjs1l6n68qtBINz4iRO+oacqqGmJ0+IIZpGJJaQzzhwejLIF+OAKi8SS19m4KTOQ8ejULw56YrTmkRihWiZGNIZK1SjTH96DaNuOb0bDjbc1EundDujhrpm8hAjc4PphoablopYeX8ITk+fNdy0D32Og8mPNlDU0Vcvh8DRqx0sX5z0hgX3j2Ly4jJ25HO1icT97+Yw3udg9Ir1CYGRxADg/LOdEEjKeWwnDGgLEeh0BJJq5xSJFIkUiZ3eu7B8GgEtEs/Oy7mJ7nBCOdR0FHNXxNw/IxIBPJ3HuIgu9gwhfWUlsCCKSLK8SJTiyMxrk7cH5hZWO9xUisRqI1i6jKF5kiYSFvi17AvZWw9vXhXk3M7U+DhGnRSyd2yFHRFJNDUj5lBathhsQ4IywiYZBT4xi/UXKnJZerGO2RNC6G0IiarnoapyR4vpEvY3VjCXGUKfHF5ckOLWzYoi0YWCB+2HQFLOY/shQYuIQOcikFQ7p0ikSKRI7Nx+hSXzIWBE4oqKbukonxIZ89iSYswSieLZ4joWz56UUS3H6cPJ6WXsuKMolegJLlxjhM2OmNNoD1e9k4XTMwWxuGftkcRqRaKvwDX9cWCRWFzH3EQfnKNZrOyrOZ19GjO14mhyIjFaHCp4ip+Pw5HRxzwKWmj6gKNI9MHBP9oLgaScx/ZCgdYQgc5GIKl2TpFIkUiR2Nl9C0vnIuCJRLxYxLgccqrOSRERJRLNs2IFzmktFk/noOJjSvQEF67ZNyJSzm3LIK+3ZChcHpKLsOzUJRIDEcBgpNAXhQsP8QwKWfG3EbOmiMFhoVHPyMV2zAP2b2kd54cc9L0+izUreFh8uIjsRAa5F+LmgEisYhitZ0NAvNt5N3C4qZ2sOS79VETRrVRzlr9EoD0QSMp5bI/S0woi0B0IJNXOKRIpEikSu6OPYSnN0EMxzBNqBcuhTAYnnXEsChFTTiRq9NamU3CcSeSkEFKiJzZK9Wod5486OPnRBkrFZWRTDsY/1/LyAKubHjjiFxRrDWJG6aVRx3EJFlG4s4yCFIxx9zT6vPURoFzSsu51tNYXObQ+LJR7nteIQEIIJOU8JlRcZksEuhKBpNo5RSJFIkViV3Y53Vhov8MvhxmKiNzEoooMBkTizsN1vfiJh5WMBlYrEgGIhVAmzRYYZ/NuejUNN/Wyl0ftKhKlcVJglY96BiOYKO2U3yex0sI1ZnGcQDQnkh7mAAAgAElEQVRVwbaD3DtDSN8U8dsy/4WimiZyWcDcsAPHjR6XSYOXiEACCCTlPCZQVGZJBLoWgaTaOUUiRSJFYtd2O91WcL9IRDGHSceL7vkiibuLmBSL1gylMbeyIfdA3Lg9hVFxTq/aaYZPBoebij0TK41ObLZIrGboqCfWVETUG9pZXuTFDjmtSKfAcFN5/5bcaqTcPomp982+lPEZHFg4x0USC+H9M+Ot4BUi0HoEknIeW19S5kgEuheBpNo5RSJFIkVi9/Y7XVbygEgMlj4QSVSL1owj1adFU18K41UsXBM13y+UVVXDTbW9wfmHcX9bkbQDi6agwQ35+3CJxGureWSOOkidnUX2qCPnk25VEdVsCFRMhAhUiUBSzmOV5vE2IkAEGoBAUu2cIpEikSKxAQ2YSRCBWhAo7evFUJ7lkB5OI/eslqcr31tNJLH+iGDl/KPviBKJQMOGm8aJZ3m+wuqwoeGmKaRSDobeyUEIw9LGvNw/cfyzCsNWowvOs0SgaQgk5Tw2rUBMmAgQgRACSbVzikSKRIrEUHPkCSJABBqPQBIL1zS+FEyRCLQTAkk5j+2EAW0hAp2OQFLtnCKRIpEisdN7F5aPCBABIkAEOhKBpJzHjgSThSICbYpAUu2cIpEikSKxTTsFmkUEiAARIAJEoBwCSTmP5WziNSJABBqLQFLtnCKRIpEisbFtmakRASJABIgAEWgJAkk5jy0pHDMhAkRAIpBUO6dIpEikSGQnRASIABEgAkTgECKQlPN4CKGiyUTg0CKQVDunSKRIpEg8tN0GDScCRIAIEIFuRiAp57GbMWfZiUCrEUiqnVMkUiRSJLa6tTM/IkAEiAARIAINQCAp57EBpjMJIkAEqkQgqXZOkUiRSJFYZSPlbUSACBABIkAE2gmBpJzHdsKAthCBTkcgqXZOkUiR2NEicePWFKZubSTTfxTXcO39a1grBrKPOx+4zfdnPc/4EuikPzaQe38KuR+aWaYSttaWsfa01MxMyqZd2i+iuF8COrHuX25h7c4atl7aENSB+asS9ov7KL2y02nz49I+isJmAMXCMpYLwQ7Ctl+UrwhBg7r/257HSeck5rfrTqE1D74oYPlOAeXQqMqQmtNpRX9S2fKdm2kMvZPDTuVbfXck5Tz6jOAfRIAINBWBpNo5RaIrEu/gwogDxzmCc/9TCAinr3DumLg2ggt3zLUH+OLCWzj2v8V5B05vP1773Uf48oG5/inedhyMXLgTSEtdX74wop4Tz9r/0p9G3v/YtdOk3/6/9ZF6DbPDQ5hds9rbsxzSw2nknlnn9OH+d/PIjPQpDPtSGD+7iMK+d9/KWQfO2RXvROyRle9KFo6TRTVPxSYnLsQ5Z1HnX+1geXocqT7Bhz6kJrLIP7VSj3rGutysw61PTvr5aXNVH2cPAFRc/ex/t4jsRAp9Mg+FR27DeMoryDoOyub7Qw5TUQK9aqC2MH/CwclPtso/IbkSaMMBjCqmEZODi03Vdb+D3DtDSN8MuplV4CWFaCXhrdIfGh5C5L9+B86JeVRATJU2skxVYm7jFZmOfUP0seR1BVubxn2rf3HrONpMAFXUHYCdO+dxUuDvOOh7/TyWd60Eq8WotIOVT7IYHzbtzkHf0ZOYvJjHRpRyazT3LVws66MPQx9OLJyC6cTZ6b4XrGejcwufrad/2V3G7OlR9PWYPt5fT9VwMmwIUN97NiolniMCRKBdEUiqnVMkuuLLiEQHR8594Rdqt6dwTDp+nkhcvvgaHKcfExdu4pt79/DlpzN4e9hB/+8W8VCmWY1IfAu/v3cPq/a/B9/683bta39RGBSy9ZE64oUd5+S8yGGyx8H45XUUXwGlF+uYG3fgnM65X6NjnbCQ8LTyDToZvl5jC/Mij6NTWPNFQcxNKh2f8HdFgxaeofKUsPZ+Cs7RDPLPSkBpB/kzKTipLFZMHqFnTH5xv8rhjrbDFjXlxXC9jouxSuLvlt/k60U1IuunmEPaqleUili/PA6nJ42cdFatujIZBX/vCKE/imu20A7cE22bEZ91CJZA+kDlNGwhcvKEJchPzGPefOCouu7j8qsCr6fXMCqE951QIao+UZErcc665kd2JcJ+WXbDG/s3ri2ZjzP2vfrYEoUVba1Y6kqYqrIE25/8sGH1L2H+l+s/TJm89iPMLK1OIeWkkL1TBF4VsXxW9CVW/1QNf14VMDfmwBmbQr6w40ZmS7vrmH9nCE7fOBZrikTWUJemXixcKsIfKpNVH5XSebWG8ykHkzeN8rWerZixvqGK/sWX1Kt1nD/qIHUmr6Lnpo8/eh7rOgpeLyfre8/6rOMfRIAItDkCSbVzikRXhCmR2N/fD2dwCl+45wv48r1jcOTXPyMSV3BBvFCHP8Cydd/jb7/Fw++MmKtGJL6NBfv5Djuui9TFHCYd+wUOoDCHIWcIcwV/Ky7enIQzPAffaXnvpBYTQNgJ02nU7WRUEomWjaE8YvJ+mUfGcZC5bSJlAF4uI9PjIPOlPheXlpVdpcPlrHACr1UX6dGJ1eu4GFti8dc3RF6PdPJsR84+NjlZv690HTkOUtllWIFl66aIw2fzGHccTK2KaxFObsQjcoiYiKzpKI4rCvpVtE1EDcpFEn34BsrtYlNt3WseOb/NB8pcAS/sY0UICyHWTlzDVuzQTS18dNkio4l1DJfzYI3AvFLZo65HnJM4Bz9WGHHiGVD1UWlftdn4aHawLFYdWPXs1nFkziVsLEwiJXicyWHH6h6820vIZwKjJV6tIFtj31H8fBxO6jzWIut+X+aRmraHd4ggp/gQY4Rr9G857osyrL3vwBmfV0MsLVy88sUcyY8a9kegaHyjnt76RJTV+gBXZbTWTaue/uXBeaScDPLmo59ITLbXFM4/UCn7+gI3s8oHdb1nKyfLO4gAEWgjBJJq5xSJrjDTkcSREYz4hpyqoaYjI2J4qBGJ3+L3kw6cHhEJNKIw+EuRWA+ppbMiHI+JRTcaWLg8Kp2R0cs+OYhkRGL1vUbpy4y0e/xz8cVaO9iuU2VFAyKc2vD9wgmznqneDHWncGrlh47RkNgul1Skc+2WQTmG8Y5yGZGuM5VOsknPDP86SCSxtIHF34pIShbLD+cx3uNg9MKajDSXK6e8Jp3UcczLYc1BJz/m6ZdiflkRxZ+iPHjtuJaJzvkcw4CT7AqISH6E7ZHt5GhKRZVWbGlsOdDBx14VsXZhFE7POOYfLiMroh2/XYQ7std3v+ZwOZE4PIuAlPClADGs+uIkRo2o7h/F5MVl7EhxEoF5pbJHXY8458NZtEYxjLqsSCxh5X0h9L2hl0oQ9SElh9uq8+qDgr+I6q9gWaw6sOrZrWOdRPGHFSx/PoeprMaoZwhTny8iOyTeN304mZnC7Cd5ax7juoyKuR+TZDpKOKYurKtUI/DQ2bk/QTvcC/ogEi+rHMH7q/tb8+l9zZga0jPviZMfm8HNCl9PtEaMkHhVxPqVcfQJTKttH8GC1Nu/UCQGkeTfRIAI1IBAPf50DcnH3kqRGBSJ6Rk5N7H/32+qYZ9yqOkxnHvvbUskFvB4aQavCae75wgm3vsUy+sUiQcebvpUOfWZj69hsieF7O0iSvJcClOXxZfYUZxfs5zfgww3DUUno5242JZT6YIZXjQ0BCeVQb7sHKENzI04SJ1dRlFqjRKKt7PS2TdfmWPnN1ayQwxHe5ZXTub4NSx/PC6Hjs09NEOtqkjgALdEOZ+ln4ooPitg40W8iKx1TuLOwzzm35/EUI/z/9h7F584jnRt/PfXltDwocEZkCGa2MFeIuzkzEazPr9x5ElMZOwcX0iyJBCFzXry5cw64BAr2IvtkMBuPIpHsUcWaIUUIUXPp6ru6q7urr7McGlgHiQ0fanLW0+9VfU+XW9VYfDMDW+zIFX204MQg2dR+7yJJ2Y9hMr1aHrYIA5hIz8UOMutOyueRKIDxnfISPawSzXyd/HsbxWlL/XVHaiZkoER1P72zCXHhm67cu88e4TFO1WclWtgRypY1Kxw+wluTw1CDIxg6voiHj0z2luWMqeEeXbndYgzN/DklUOqpYv4jTMCr9+Rm0u5pMH9aKBmodLKrt77s1gKa0schbP+GKF/E0ki4G0cZCuTJY9gsLD+GHWg6tmX2VwzrT4sSRI+WcWNzx/4G/v8sY1n39xG7eJZNWud5irp6Y4UKlVWlzSnzCSacqqyhvQ1WP4Md68W1cy91z4yprf77FP18WeqVlU6X/3mJXbN2cBAOrvYefYEi9enMDIo+4bgOkBHSqNuYsTec/+ixwO6m8YgzMdEgAgkIUCS6JG1MNk6rHt3JrHyBdSmMkOX8PcN19V0fAbLX4RIopT34V18VBlHQRkdBYz/5TN8/6OWN8tMomEoyDRkPrnjoOXf+283Sr37+IYy8Ec+eKBc5Z7flUavJOEC3jPpJiQGMWVszNHrxjVqFlKYroCOoZD4JTqpBZvvpKGt1i1+iCe7zzE/6ZCUD7+VxkyM0bb9BPNVY1ODM1XMm0Qug6FnigC56+OzB5h/7ywGxSDOTuvZGneTi0GBkak65h88i9k5MYxHSFe1oa1/9SxgQAiXBOow8tedhTp7sYbFp7vx7sBmOnq27rcNPLq/jI1XUaNue+U26ncW8cS6G+mu2kVy/nodjeBktJ+L+8HBN76DhCViIEtvO7lm0Cxb0nUMIUkliV6acbPIz7Ho6teNVZ/4b6/extSI1u8oXthooH59Xs1I2eZAd399gsU7ddxecdMMExtPLhsGcbICWUhiwEUxTe9t79Uzi1xGHQRw97Ug+9VqHUL4bu3RiGkk0ZnpipI5i9wxWDvkan9mEvH7E9zodk1iFp0wMA9j9OSanPH31+QF3VdtOrSLjc/lh6BhVD7fUOPE9tN5VE8P4vWPbiiXfYVJiCQuX5tC/fNlbHRsmi6l2saG6lfCEvr3e+5fZFLcuMYHlFdEgAh0hUA39nRXCacE5kyiR8p8kvjzDx/hDeVy6jxTO5TaSKKO++Q+5v7iksVzt7GqnmchiaGNa/55cjatkbOKXSn1Hy/x5GlwV8btp4uY18TKVeTtfz9BN5Mb9iMwtrE4KTA4OAgxfhsbytXNMKQDRkZKCwq/7jQwpb5Y34A36Sld+u7IL9lTaLyKIYnhdML3NmM4HCZwv4Pl6SnU7jSx4c7abK9+ivonjxw33j928fzBPG58MO/LGYh/ODcBI1lm6W6gEiBfg8NqN01JLCWxedBeTt/dtBvx9RojTxdk5LCR302C2cMGyEpI7zxs0ur+950Yoq/lSDeCdcgD/z0Md9MMhQjgHgnf5QcSKxEK64+9f/HqOCKDfmDE048Cv/uzJlElGbe76QeLeOJ/fwjk3uvNzgPpKSHXXBsz1SH9t6a9u4Mdc12fF8jQ8Uc3MBJxe06vU29G00vzcC8C/XMXWXc1znaRLoMSASJwdBDIq52TJGqit2GQxI2H+OiMwKmpCxgXb+CjHzbwcxJJdNNY/MsQhJjALbVOMQtJ5MY1+9EElaEV87VdkY3QLNeOXCs4MIXGM2ed3tlPniW4K3Uv4e5/nDPQYmOmGf2xEff2Itkwjk9751kTN1w3N03eBl8bwfn35vEowX3TS1FtF9+A7bTKNCPZ/j5kOCvjMusMTGiG4g93J1m5Ji+wE2rYyPdKE7zIkHdgZiwY218bJ43ff+ijV5yz/5pyoyGpu5n0pQsjWKWXFS+926sU3DkmxrphjT4W4xA2rlHuys+eOGfqJWGTcF5er20hVH0Jt2H9MXTWIENR/Xbi6XZm/Q2TUrXebY+7m4ZKkoZPap9r9scheXd+uq3cRYffc7xGvKwNXLxnCRcvV+dRmzQ3jZLrRc+jesf3mkiIbrwy6sZ46l1maON+PYX6Fy8R/yJ6HmLc0TV+nKSrvIzHJJn4jggQgf1FIK92TpJoJYkbWP0fecSF3O3vI2dmMEQSv2/cxffeTqaOa+Y3V06RJHp4djmTuIf2FDW0/MSC7+Rav7pyaz3vnn+nv2iPXPswxl3JT8u5yrq7aYLhEWPYKsPMNK4i1+kGSFha8z7N8DPDetfPbuN1Id27nuCl8QV/d+cZlj+QG55UsWw89+KZFwnGX9ph4sH604kmYOsF0YRLP4j+7v62jLp0sXvNWJPnBQsb+d6LLi7S0/DqfGAQIyPueZ/ynMzTFUxJl+XMJDFJrAx4xehkUqrhd1n1Kz6cxVgOE1qJkyKk51GVM1z/TjgoPknvzFn1cEHc+6gxHxPQ+thO9sLukHb9tiaoHsZhty/nJBrZxuVjBPEuw2WIjSs3jvncWUZg3Uwqob68zNyL3W/lh77XUf/2mTGzKF3s3TZ9adlx7Q9HtN5naB/heF3IGo6q1j6bu3K7R3J4Gw2FI6Tc52U8pojF10SACOwjAnm1c5JEj9SYM4lyveFtvCkE3vifh84GNiZJfPAR3pSb1pyaxJUv7qlzDv8x9y5G5bOpT7Cm0nRmEkev3A2eg/jwsTpHUa17FCF3U3le4glyOe1GqZWhESFFMbMdoS/TYSPFbJfhd88XpjB1x1nPosPJTVKaG4YLY6IBsA8kUWfczW/EiN/AbbnjoXkempFeV3gKy06AblqxBp96n9G4SsTTENpyGa4/J0iGfNPy/M8yasMCI3+ex4bh8eaLkE7wVFiVT4yeuvqcNJPo5xe98soeqftoWH3ouj+jEZUp0Z2uizzkLHLsbGKGmcRknbKVLeFZktxpOpCQrHy1r3KaeRlyeXXsvXfJZdIOshkw9pKTF0kYhTYLStIf5120rwiXwY7bLp6rTbPO4sP7wWUFnqwGLt6zmItwnoFg1nScPiOpfIntI5CBPv4jikU4WOTe3ZxNyI3ZHjhrJNVGU7KvGKiiae2LIqkEHnQzzgYi8oYIEIFjg0Be7ZwkMY4kes/dDVxMkijfqU1r3sBQwTXGCkN4w7JxTXRQclxMHZIYNeRO0uY1h6XUSQZD0rtg72AQD6uREQydfmeklx44PUTE0HuORnUEg/IA9Afp0XsOETeT+J/9mUlMk8tefxmwzVCHu7/HbWQhpeqGJPZgLKYVXG+Mk3kmMQMmSXlG9MsWeI95uEnaSYQtvwzPkuTOoANJOeyrnGZGhlxR/c6od2Z6addJGKXFzfA+XIZY3P7YxW5SkzNwScu2+5nE/dFdT64uZHXi7GL78W2cH5S7WD/AxoKzy/SH151diWsPXjpnlY5UMP94u4tZUHS39t8rAC+IABE4Tggclj0dxoQkMUwGee/MnO4DDoel1MpISZqFDK1JDDcC594wIro2AGwpOulFPxL4Hwa6mmGyGXpqC/mkHRZtcnX/bM9rEhWefrmjmMS70drdUZ21cTeSDuTbcx1mNNZTyybL3RuJ9DZdstV9pBrT9c22Q6uXTKY8MqxJPF1BQ50z6aUcuVAkIqm9doNXktypdROvd1LodDn17rGRIiY/MDZWCRMs/XEi2kbM9pMsdyTz3xqoZKiXSLyMD8JliCWJael12Wbj1iTWPn/knrtpZrjH9mEmJa+7lBXYwYPpKXg7XEMeW1PF2TNTuK13JVbuuFVM/TVuC+awEM79YY2z9tz5lAgQgcNAIK92TpK4D2QofD4g753Z17yUes8NNmGjlT2n3WsC24/w6Qefeuf/4dUD1MuD0Gsre032xMbbcx3u4vmjZTyyHqlxyKjJ40y2d7CrduE9oLzD+nVA2ex7soeBzb4L7Sdo/wjivz8OV5HzJOWRNf9JmjKMKVXCRkMxMfJ7vOf+Zf9EP7bj7P5BwJSIwIlHIK92TpJIkrhvM4dhcpyXUp/43kIW8PfnePLvfd6Xvi+AYyGJABEgAicHAY6zJ6cuWRIiEIdAXu2cJJEkkSQxrlXyOREgAkSACBCBI4xAXsbjEYaEohGBE4dAXu2cJJEkkSTxxHUnLBARIAJEgAj0AwJ5GY/9gC3LSASOCgJ5tXOSRJJEksSj0gtQDiJABIgAESACXSCQl/HYhYgMSgSIwB4RyKudkySSJJIk7rHxMjoRIAJEgAgQgTwQyMt4zKOszJMI9CsCebVzkkSSRJLEfu11WG4iQASIABE41gjkZTwea9AoPBE4Zgjk1c5JEkkSSRKPWWdBcYkAESACRIAISATyMh6JPhEgAoeHQF7tnCSRJJEk8fDa+Z5z2v3PNnZ+33Mye0+ghzPNIuep7V2K9BS6Pv8v//MRPZy6lj0djiMb4oAPfM+73M++rqP+9bPMYuz9/MSXaPx5BJW7LzPnCTzH/BmBs58/7yIO8PzzsxBn5pE51jE/27IrcA4hcF7G4yEUjVkQASLgIpBXOydJJEkkSTw23VBvRty+Fa89j7PiLObbAB7UIEQNDyyJeyQn9O7BewLiPVuMUMCY27j4L+/fwNT4IIQQEAODeP3ibTzSR0iaMsekG3ycEWNVfuHkKfO1/HdrbGs5vHJmkF0Z6Ja8TXlqvUOuRcKj6yMYOR3z/5rE3q4LXgLy4tENjJy+gUfq4SPcOD2CG84NEFfW3ZdYvj6FsyNu/QqBwZGzmPpgEU90HQcySb7pmtCEk4vT+50NLL53HsODji4MvnYeta+fQR8p79VpOL2Y+9TwCi+73jmELU6Pd/DouiunbCvVBp7/oYWwxEnKx63zrjGNq2stBn+7QiAv47ErIRmYCBCBPSGQVzsnSSRJJEncU9Pdz8iOkWYa+PraMfQtRlyG7LslErbwivCYxl2csSz5YwwZjHuui6DeRwiPS0rj0v3pBobFMKrfvHQM8t+fo3lpGOK1G9iQCZsyuxnZ8xHYC8a6DM5vej2ZGJ89c9YnmWfmMa/xs8gezCft7gFqQpdLh3Weab2y/nYzKySTTdAFnav6DYQLyWYr6++PUH9NQJTrWH624xGu3c4TzP/XMMTAeeeDhc5EpWEhTkZ5UgmNkjGahkf4A2XQGW+j8V8C4vxtl7juYvvxbZwfEKh87TDZsO6b9W/Wgc4nHF7nZP21ymTXwecL5yFeq6L52y6w/QS3zwsMv/fAxdYex8tT5eO3R/08gmlcPegPCba61onxt2sE8jIeuxaUEYgAEegZgbzaOUkiSSJJYs/Ndr8jphhpPbqDJUsZMtYjgQ2ZTOPOapg6keMM3LjnOste3kcMVJmYKad5rTMK//42j/NCoL4qXxjlDYcz7l/erTgza0MhQjHkzLYNDiS77QXkDmHp4ZBFdkOm6GVa3UZjBOQyXiuZBofjZxO9GUIjUuhy++4UhJhCQ/Km7QamhMDUXXc60FJWJ3wFzZ1QQvL2jw3cOC0wfO2J/9KShipP+MODQRr9yO5VqC6yvbfj7NVj3AeOQOKPUB8QOL/guIeacQPBLDe7/6hCiCqaATd0mx4/wYfDAuf/ZkzBPvoQw7pOUnTfyWcEt9XXF1+QiM5Y6sEPHWqfgRe86QWBvIzHXmRlHCJABHpDIK92TpJIkkiS2FubPYBYNsPOzCbtvRk267XdwPVjG3maxl+CMR1n4MY913lleq8Nfu222sNMos7P+1VlOY/53+QTo7xeAMvF7zvY3t7G9n+0Q6EZxsX0vvkseB0wrENYejiYeAeje3dWEqQxcn+7cTcNyOXl4s4OJ5LEChoKPyNS4NLBVc6aVb/dxe63ktgIiMlFKMpiKeu+kUSDFMaVzxM1VBfec32h3usPA9rFtvuZRJ2c96vKrz9UxM/Ge+G9i10sX3Lkqf7DZNM+3hJnNUOpPoaESN7vTVTFMD58LBNM0n0/n+Fp7SPsCBHB1FKXnrjyIu19IDBv0hDIy3hMk4vviQAR2D8E8mrnJIkkiSSJ+9eO95hSkpEmkw4afntZ3+cLGiWJNuLhu5tqA1n+aiPZT82Tsfyp2shCER6TtGhyZ0Zxrz1yZLyTG/Vs/7aBZ6/iDee9rkl8ND1sbLyRVgeGcHGX7ixZEjkLGNYhYuLhkMGYDqQTJ08Xz/c7PSfrXTz763mIgSo+/eQ8xHgFlXGBsx/dRlXOnv31GXZtZe3J3TToDmnT5cRNVkJ1oeRXHwReYuPZdrxr7R7XJG7/TeJTwwN3faCnA2l1t3Ebr4thvF6WLtY1LHuThBY9tmEMs/3H9y87D2rKrbt23f194BPSiM5Y8zEKot77/UhSOzFi8TIGgbyMxxhx+JgIEIEDQCCvdk6SSJJIkngADbq3JC2GXSChtPeBwNluLAZdxOjTKZlhbca0DPdqUbluCvE6boc2c0wzfNV7k1C6rptnL9aw+HQ3dq2jFk/+qk1z5AzfsydYvv8IzzeMzXbMgPr6VQNTA4bbYwYiHpHTlDl8bcxi6SzlbwDjEJbB9IOkx0wjkk74ZQ/3kToKGfTm+jnbtdXg32miOvg6Pny0A/zxHPOTgxicnFcbpuw8uoGzQ+cx/yCmnrrZuCZOVqMOArjb8FF14RMYuRGS2rDnzBRqXz7BbqiubElA7d65je3tl9hYXcbyxnay7v7xBB++FnSdDeiAIb+fn7/uUa4p3HFxFYNn8eG3z7Er78M7lQZmDd2U1AcNPbtoiYNdvPymhpEBgZHpR2rt4vPPz0OIQZz/6AFe7oZ0WSZr9hO+wP5V2ns/JK8yIJCX8ZhBNAYhAkRgnxDIq52TJJIkkiTuUyPeezI2I81MNe29GTbj9WO5Jkm7WjpxYg1p07izGsu7ePTBMMTkDdy+KCCqTfjzDfEzgRkljRra9+UOq4ZBL69dYnm+Wkf9TgPPnsaQD5mpNKTPC4jx29hI2uExq4BdhAtgHMLSI2om3jFpq3TCGITvE2Zvg8luoyHr7YOgO2EwzAHdZSjrfuQcwL2XBEN1JWfOPy2HdFAMYljuBCuJ5Qc3MP/gOZb1ZkSRPHfw4D25CU81sPbS04FIePeBnEEcGEHl8w2/jf2xjSd/q+F8tYFtq+voM9weF3j9jv/1Rrn9DlSxrNYzWvoXmc/gCKp/83dqlRK8XL2N6uRtPPmDJDGuiip7Ad0AACAASURBVA7reV7G42GVj/kQASKQ33moJIkkiSSJR6YHshhpytXtGZ7cX8bGK8v7PcrurPsKuo2GDWnl8vnsCTYeG4QrYiwD2iWtvroL/Dqvdnc8f8s3YlMNX1mWfzdQ/6AB34z1C5gcPwabOPLxx0tnF1S5Q+avfh7aXVbvMmm+CVyr8ofJQfA+KQ0P490d7PxDHyeyi53tHTRr7lEhcbIHBAneJGMUDBu9czY2icrtnLkXewSGOhpDH20RTdX6ZNdd07nt6PaT1U/941XCs7lh0hu5D+ovEs7w9HC3CqUfPkPjgzoa/9b3xq9F7423se6o9nrZwcYtOSs3jJrhvinTs4cP5JRyYz/vU7X3gfP49Jnc3XQZtcAMZkwbkjnJfsi6/jYbSdR9yPL9DWz3oNcphe3r1ySJfV39LHyfIJBXOydJJEkkSTwynYxjpJmzY4Mjzm6ZcmZs8emzqAvZAciuDGnDEFcynJnC4rdxJHEXGwsVDAuB168/8Y4q2HlQV25qg2/OK9KXyfBNMMKTDxiPMXAtBunub8uoy9mf1ypYlMZy4C8mnUCYtJv0NDyMpTujdwagnIGqYErObsrZP4vsaTlnwjgtkW7fJ9SZSurXT/G6oU9Sv7VeS1fi+ge30Vy5bZBEuwCZy5Ygz/bqp6h/8sjZLMeejaRolqND3MAJBFSFiMk7Ivu2PsbjdXy46i0k9CSKhPfemBfR/sLsO+R1lPDvYOPzKkbkeY7ynMT3mniZYRY9iVyrnX7/3ICzL6t2NzU+mGiX3dPnUZXnW/7b6EfM4vC6JwTyMh57EpaRiAAR6AmBvNo5SSJJIkliT002j0hR8rG7Wlfk7PzCc6tAytgMGehhQ9K7t659MpI1SUvIGN55NI/b37pnFRpRdn97gkfPHKfTTIZvKF0jqZTLKDYqgimzfPCfZdSGBUb+PI8N0xfWSz0mHe+9e6HkNAxhC8ZRAz2ciP3ewyksuz144KkXN/DUvVHpJcvs6ULgfEWXjLiuvPYZxS5nEsPyZShrYtnM9HrWIZ1IAknUQeJ+Y/IOyL77HJ+eFxg88yGWO/aEAuHtQVKeZtTjQCrxcZJIYiCJLDeWulbnN4phKC+ELGkwjIdAXsajJwAviAAROHAE8mrnJIkkiSSJB9689yuDqBGXRhL3K2eVjmncxRjDSfllMnx7SNfJM4pNRGZXuN3fw7OHptQx6ZhB5HXPcoYTit57OJl4R4I5RMYkdYnXmdclRjLydtXtlfTaUow8SyyrE9rDJRI59GDPdXPAJFGK+/uuN+Mekl7dZi6rLbJ6llGPA/Hj45AkBoA6Ujd5GY9HCgQKQwROOAJ5tXOSRJJEksRj07nEG3GHUoTfn+OR3DFUbnLRgyGeyfBV6SbNdsXt9mlfg4XfGqicTjvDz0QvI8apcsoyhNbKmdkkXD/7uo761896cjdNSHYPr7KsSRzBjb3sd7P9CJ9+8CkeRT0vPbkz6Y8MnVo3cTqks0on4LGEOcYd9dH1EYxczw5Q5rJqkSO/GfU4EM+p58pdz3HUe+u5R1tmzJ2PE2mYekkdIb02ZDrGl3kZj8cYMopOBI4dAnm1c5JEkkSSxGPUXcgNIHbUToTHSGhX1OQ1hUelPDFkMw/x1FEKO9j11ozlIcTRyfN46M/+4LX3sh4hPQ5DQr0OI7Kn+7yMxz0JzchEgAh0hUBe7ZwkkSSRJLGrpsrARIAIEAEiQASOBgJ5GY9Ho/SUggj0BwJ5tXOSRJJEksT+6GNYSiJABIgAEThhCORlPJ4wGFkcInCkEcirnZMkkiSSJB7proHCEQEiQASIABGwI5CX8WiXhk+JABE4CATyauckiSSJJIkH0aKZJhEgAkSACBCBA0YgL+PxgIvF5IkAETAQyKudkySSJJIkGg2Rl0SACBABIkAEjgsCeRmPxwUfykkETgICebVzkkSSRJLEk9CDsAxEgAgQASLQdwjkZTz2HdAsMBHIEYG82jlJIkkiSWKODZ9ZEwEiQASIABHoFYG8jMde5WU8IkAEukcgr3ZOkkiSSJLYfXtlDCJABIgAESACuSOQl/GYe8EpABHoIwTyauckiSSJJIl91NGwqESACBABInByEMjLeDw5CLIkRODoI5BXOydJJEkkSTz6/QMlJAJEgAgQASIQQSAv4zEiCB8QASJwYAjk1c5JEkkSSRIPrFkzYSJABIgAESACB4dAXsbjwZWIKRMBIhBGIK92vi8kUQrPf2JAHaAOUAeoA9QB6gB1gDpAHaAOUAf2VwfCxPEw7veFJP7M2bgDm407ztjKDmJra4v/xIA6QB2gDlAHqAMHoAMcZ2lj0M46+Tog23kefySJJLgHRnA5eJ38jouDE+uYOkAdoA7kpwMcZ/PDnnpP7A9LB0gSSdYOjKzlNRvJwYsd6GF1oMyHukYdoA70ow5wnKXe96Pe91uZSRJJEkkSD8AVp986EpaXBgN1gDpAHegfHSBJ7J+6Zrvu37omSSRJJEkkSeSaHeoAdYA6QB2gDmTWAZLE/iUOJI39U/ckiSSJJIk0DDIbBhwc+mdwYF2zrqkD1IE4HSBJpG7E6QafnxzdIEkkSSRJJEkkSaQOUAeoA9QB6kBmHSBJPDlEgKSOdRmnAySJJIkkiTQMMhsGcR0Jn3OQoQ5QB6gD/aMDJIn9U9ds1/1b1ySJJIkkiSSJJInUAeoAdYA6QB3IrAMkif1LHEga+6fuSRJJEkkSaRhkNgw4OPTP4MC6Zl1TB6gDcTpAkkjdiNMNPj85ukGSSJJIkkiSSJJIHaAOUAeoA9SBzDpAknhyiABJHesyTgdIEkkSSRJpGGQ2DOI6Ej7nIEMdOAAdeNVBp3MA6fZzn0dM96W/J0lku2Sff/J1gCSRJJEksZ8Npn4s+y+raHy9hPUXJ6iDX55GaXQaS73W58YCLo5exMJGF5i86qDdaqPzqos4vcp3UPF6KXdIlqWrJZSuLu2L4R02ulavjUGcm8NmKM9wuF7uO7+20JZtQLWHVbQy5nGQ5Y2UY686FqnfDpauFCEqi2hnLG9Epm7jGWVoPWyg8bB1ILpiyunVbVZZDRnNdJKuSRKPcb+XVS8Y7sDbalIbOwrvSBJJEvuYJDZRFQLC/C8UMXGlgc19Nnw7bdcgi+101zFblrKUMPMwPPisYea0fFfG7Hr43WHdt7F6p4KxIRcvhdMi1tqHlf8+5tOsJmK5fqcc1AmtH5eauQ4YrXszmDxdcGQbKGDsrRkstVxcVJmqaMbq1xbaP8yiouOLAorn6mj8y42/Potyt/rVSxwlp1BGeicka+duxSmbifO/GqifK6Lg1kHhdAUz9za9emheCrVfN1z5zroXpvN4AVUvDVnuKhYed5z3GcoQl0e16WCn3psy63J1NtG8U8XEaAmFAb/dlMqTmP5yDa20PuZFA5WBIurLUd3fnL+I0tsLEfIYK4uWyft1+huFU0h3ei6vl3ZU3oCx433QMGSIi5tWP+q9RQfKs1iXadri/zKHCTGGmcdhOTvYvDuDyrkSSrqfEwKFUyWU36ph7vseyZ0hQ7R+dL9vKYPud4StXUex83Ui+s7DP44MGjJ6YePqxH1OkhjWH95n1R2GOz66QpJIktj3JNE3KDtofTeDiQGB4vsrnpG59w4tYdD2BmLfWChdWw3m/XgGY8pgyI8krn8yASGKuHhnBZutFtaas6iOCxSvLCFs7O8drwPuQDORxAoWWy20zP+2Syy8OjtgOc18vqujKIqofLnuzNy9WMfiu0WIU3WsSLIRMvQjdbA+i4mBIiY/WXPid1poXJLxa1iSs0kBY9vRs1iyLHVRkqIeDEtHTmkQV7AYmMntoPGuayhrwvViCbVTAmK8hsbjFlobq1i8OoHiwATm3BlPZXSPz2DFrKeW8UHmlwVMDghMXFtBS7ptdlpYuTYBMTCJhV90ubtsV8uyLiax4BL0qOEv9WIds29q2Y3Z1k4bm9/N4uIpgeLl5LbTmp+EGJ3BqqkH7rWqG02EjPdhWdS9RzZ8IlJtGn1Smu5kKm+0LbSXpzFxyvmoURidxMw9l2R5+Rky6DIE9NCXN/Ahz0qadP4tzJ0z+m+rjnawWDHCaExlHzcwgZnvNtE2XXxftLH2ZUW1v9q9uD7A8sFR4V5F05AhXD+Rdqpx0L8eVrp8+jeKna8T0XdePoYs3jOZV9xzLYfllyRR1wV/A7pk0RW+P746QpJIkkiSaMw6yM5s5f0iRLGOlX3r7BIGbS8PJ0yxWIwYhmvXxyDUTESXxqyX9l47qE3X4L3pfJ3X6XY6x9PVUBle8Vg65Mj29X6vOPYeX+lkZTFIyF8soiKKqH+XThI3pQEcJhwqvkDtXrqRaDVuezAsHZJYRLEoUPnKMLjVrJlw9FyTxHs1NbNY/TqIW+eFH0/JZSFL2iixE61VzIwKTM63ejCOW1h4y5kJ1e6KJhHzPjgpbATCsmu51m+NQSSSHYfIRD4YqbbnvBPiIhZDM/nWepJxImTD6JMi70y8M5ZX9wn691UT1QGByb9uorPVweZfJ0Oz87J9GTLoeKFfpy0WUW36da4xtP6qjyljvjeGWw8OyfTbdOerSqQ9qA9hPZNEH7NIHRjtJPIuVN6tF220fjXK+nUVYqDmuZE7eNjIcxnVS2UI1RYScDVkCeAX9zwsn3FPkujXeQBLAyM+J0bHXQdIEkkSSRJDJDFAEpQBNYbarTrKrgtS4dQEpvVX8a0tqIF/vIabV8quW5l0aZt2XAEDRoozuHuGZGAwcQZ2US6jHHA5dVxNy2XpAhkkNptfVT33T+mGt/DU7ZClm9v1CsruV3whXUOvLvlrcFyZqvNLmD7jui8WSqg328EZTE8+1ygdkLNr8Z3+5td1b+ZADJVRrUiZtWHmlk8TAJW28/XdwyNNbpfc3bw7h4slSSi08dTG6vVJFAsSXxd7w3gOuFkWSpg8Jw30IJZmRx6ofw8Do9xWOdzyVRewdLWs3CMnPtnE1qsWVgw3Xak79bvScHbTM+uiLOtiArOWdYEniySOoSxdqw3Sq1xNB8ooj7uzlBKfhzMoCYGxD1d9vDRu7q9qe4dFEl9tYrFagihU0DD0y27473UmcQX1YgzJfCg9C4ooytnIS02/Xeu+KNDGXD2LEEGDSETeuXG6Kq/RPmTdKLJmzBabHyS8/AwZQvW69aqD9S+rKA0UUD4n+9Ux1Mx2Ew6/Jd2pZzBREBi7bnhixJGfpzcxZswGO+1/f9xNI/pgyBB5FyqH6nsMfVYfE4x7Jaesl0slxwW7UEL1K8f92o+bgKshi9nncSYxpL+heglgxXcxdgIxPIl6QpJIkkiSGCKJaiDXsy7KoBEoXpjFyi8dbHU2HTc/g2So8K4rpnRp62wsoiLd5LzBPUSGrIOMSzIuzaq1iZ67q3I1HcPM9eA6unazqtyfql+3FBFxXAdd18N2A1W53uyp80W69aVc62WswXGJiVCG1xparVXclK5xSbOnT6W7oiRmJVy83oxs+tK5V0NRGvRXmsqtr/PLCmZkmt2QxDS53boQBcclTH9xX7/juIndlOvMOmtOWd5acDbiUG6WAsW3ZrEm3Ru1m6ZRf+GOPRtJFAjK4dafEChVF7EmXR47HSxdLjoubGo9Uwebym3NncWSeuDVRQlVuU5NbgRj04+9uptqt8tb2t3U1WPtrqrlsLo1ux8JDFKnMIszOG3y62eqDsu4eUfqs3bZdF1N353BjCSPHslpoyldYuW6sHIdiw9bEWxU2/PamcVI0eXei7vpi02sful+JJKur3odp1umWMN/L2sSWwuYDHwscsrWeTznuaq23TZZqs5hLdH1dQtqJll9gAi6RaoPNB5pc/Hrtby6juVvOM0tJ1+1jtN7FyUza1/WUX2rrD74FEYrmHXXAba+n0NVftCSH7wqNdxc1h+0Omg/bmKmIkmTdIdfDZDmWPKjSKtt/bdFh8xypV67XhdvzmJTlVPP+jkfpWJ1xU3XJ3pufbc3sfo4uBZSeZYUK1j8l+5PnL7djxvF1evjXJnUDHegzUs54z+cefGN8nMmca+6wvg2veKzo6UXJIkkiSSJmiSqr9dy7Yn8Gr3mfC1Tg2po8HQHVz0DZjNUHaKh43VDEptQcV3CpgwCaQQH5HDW3Yh3G77RrGRyXQ+NgVx1uK8aaoMeNbMl37nyB1zhpFtTmpHQWsHcJWeWTM7YleUGP2rtjuuSVqxjydiMw8Ggi5nENLldA6fylTYQt7D1aknNuHj1JdNQ4RwCombgxATm5PoznX4AS+O5+96RWxt37q9JRGxyuK5z4vQMVjUGytB31m16eW+5dacJuVsXY+F1qFpW4ze3jWtcjMVABQ1zHaEru14vpjdy8csaxdapmzJmn7ruiNLl03U11evkfJIo48vZnWlMypljSWBLFz3iIPNRbS+85s4jmU7+e9q4RpXd2exmtumuBzXqxJMhlGciBqH41rAKW91/OOVY/+sECrLdXV3yN71pLWHmTyXvg5SdhGj3VNPF1yASSp/ddtpLed32oPVA1Z/6qFFFQ7cFtw9Srs1efoYMGpNfVrHy2FhTqp/r3xdtbD5c8TbMan02ATE0hsmri1iVH/F0OP1rwdEJY5BW3XbDehR3n1TX7oxpYM2tIUOgfkLtx8MvJl+nfTmu0nrsUWtfywLSLTncb/lh/HaodnaV6Ztjh8TKkDGCocYy9EuS6OOaFTOGI2bHTQdIEkkS+54kBgZn6d5k7m6qDJqgsbblfhXXxqyNJDrGsIAzsHdHErfU7nvyK7dhRJlyuIZIYE2XK5NHBFtraNypYbJcQmGooFyTPKPBNU4CRr2ZfsgYiHRqL9bRkK610thQM3ZO+US1ETDSeiKJSXLbZFQuiaEZAbd8tXsxaylt6RhlduQObVxjrhOyxnfqSuuEwixmTZ2zHs11K7XVhSFLBPu4d0omTch7GIhbS7h5+aa/W6qRT1uu3yqOYawoUL7l7xrai2HpkcT1Lf8oAin7QBXNVxYMPTnkplKzjpuxXoepSWJ445puNhjqwTgO1Emn7cz+ajIk5VV1EfrIEGP4x36Ysckld6ZMKZv1iAW3P5l8awz+R4xw35JRd2zl9erI0LvwTKjrOuz3tTI/Q4b9wi0kizwKomXFzCSJhtyh+IG6zvBOkdbRSUyeFvA+/Bh1GSCJGdKL5h+VW6ep+i31MSuEq87H3byqdk1uvGSs25TvDRmjedrxIUm045IVP4YjfsdBB0gSSRL7niRq8uTMOoUIoY0QuF/FxWXnbDQrSVQzc+6mIC6B0/nYOwbTQHZmm0qVCsp6FsyUQw3odiNU5eG6oY1d1l/XQyTVjd8zSXSNDuertJyxc0li6At71yQxTW4TA234JBjk3syUOQso49nS0eltbblf5BOMZmt8s/7cwc+VLYCzl/4eSaLc4ELu6LmxiiV55uNXciY4QWav3Ha9cYz3kO7LOO0mqqecmXW1CYwoY/oHdya3B8MygL3aNfMiKnKnySuyLVkwNOpFtRtFePydKa1tLxzHvFckR+5au4aVrxtY/S7L0R9Bo1sb5Uoeqy7sg/GjPgTZPQNU/rGk03TXlXK01U6e6mPOiyaqRb2O0SiTKoOpO8Y7TcR1285cXn/Dm1an5chwbs5xAffyC+Zj7xczYOmlFyY7TvqBDzdaFxSJHcNNvY7ba5ddtg+dnvxtL6IiN+uZb6GjlwPIdd5GOwnojhvX9kxj4RM/jUMLCxfkx7k55cXR2ZhTu/de/KLl9FtxJFF+gJHu/2/Ko0FcN+5T0mXVTdeQUeed9kuSqOuEv2m6wvfHV0dIEkkSSRK1u6necl+vZ5ODuM0oUsatv65MDfIhIuITKNk5hEiaaVh410GDRn2RloZgwLByjXh3JnHis+BaFd0RL12WW++bO5GG8u+BJG5+vxI5O3L1WsldV+bO2Ol1nG6ZrCTRnG1sL+KiENDkOVVuW12oGQr7WXISD5Vm+LgFWzpePewjSXTdTUsfGhtpSKNdGnkhd9MwkdR1qX7VJhum8VpAcbSE0qg8v62K2tVZrMxnIIlGGQPpy+c2I7G1hLrcSEYalmqmrI3m5ZJal1r9bA2tp1kIVmhwNLHXbqxyZlCdBRhsA1vtNaw8NlyLpZyu7us1u7a255VNf8wxCFWh5OBWOldB7fIMGs2ZDOdDunIZ6WjioXbJNGY2vby3NrHwdgkX5/0zHf13IUys9eK4FQa9BdLjBQnHJhbfdtbEzrpkqPP4plpbXLq6oNZ/qran6iRKEv1ZP594xpfXIlt7CdNqMyaBwmjVJyRefg6uuv0rfNy+KZC3ibu8DvW10Zlb/bHDwdDxdgjJp/oNY2Mdax0YcWztw4yzsajWivptpYO1W/LYoBKm530dC9aPk756Fi6jeR8ub3sVs2oNplwXXULFXYfpE8oQrr80UZPt+NRFLOhzdiVpPFdQbbn2TZDIZtVTkkRDP0xd4HXAoyirPjHc0dQnkkSSRJJETRK3tqA3YPHWvSmDxjhnreVuyKLPl9Nf2tXW6c7GGq3v3bMWvXPQXGOlsoj2Vgcdc12XN6CEDGSXYHhE0DSu9TEdpy5i7p/uOpwX61i5t6Y2bVAzosUqGnIzi84mGpflbp4+GXMIgXaFdTumUPqBDvtfztdquR5spik3V2lh7W4NY3IjG1WmLTizTAIT7sYonX86G2yYs1tKroEJ3HzYQutxwzFcDLlS5bbK6M5YjNfRdNckdX5ZxdL3rnGu1kbJ2ZOGu6FO0yE+CesvHXIbcjeVs3ba5dQqR6j+VL3Gb1wz8Ynrtmkj7J5OdDFoKJlMQ7+LuDK/iBHcQuPdIgrlaSwZO3nKmanVOxVMvL+ETiTOFvR5mrHnyYWwc+pcr2U1Mexg5X35EUK6fy9idUPOmq5g9oLcyMZ3lVMGdtjdVNaV1cXQgomlDAHdV3URNLp9Q9+dpRPO7Fxww6FgnGiaFllC9S7zcWZYg2FTSYWe9dvaQuubuchGO/KYhY7r2ptEEjV5y1beoIyJ5fV0tXuMfCJk5OelF9JjtQus/LiiSaMfR32EC5EvlfZAQX18kR9gov8XsWDZedgpawvNzxqRD2kdqYeGjvlY+rLYnmn8rOUN6Uk0bAjXV+tYvD6HlfDO1K9aWLvnfvwzZNTppf2SJPp1mIYV3xOr46oDJIkkiSSJBkmURnCjKs9JrDrb3CsDpITJtyeMIxbqAcNLDfKjk7h4ruhuS17EhLmuUW7P3qyjpI5oECj8/01/wxlvwHcGdj1DEelQQsa1PFph6fqkdwSG2vXvSgPrciMZ+QXfONpi8upNRci00dc1SZQyqk1rNAbyC7ZbRu/QaYc8eGUcraBWkUa+QVzaTdRH3SM3hsqo323iZtkgr2lyhzHQ2HXWsHDJkG1oDJVbK45r29YW5NEcgeNLrly0Go4ac4ckmjN37rU2Kq1yxNSfW08eLnFHYDT3OIgqmQysNTZZf3swEk3j18NOnscoishKEnU85zeMobtpzWlXZ+Qup6f9HS9lHNX2zFkXfW0QpWAeIZwzlTtodDtG/SJWr8lddSdRf98pczVwhEwwTqIMMXWkjgUJbQbllTlr+WLS1q692UliWnlDuMbmq70zpK52j5GVNJm679bnzXvODtPFS9PKXdqf4ZNyOu78gc2utLupbuNJ8nf7ztAxGyG0PdP6Yi1vTP5+2O5xtbVlLUPcL0liFzofU2dx2PI5sT0qOkCSSJLYxyQxQ0dkJQTBeGqQPwjj4pgPLA7Z2gNxOeblP9ROfnkapdFp79DtrvNO2LgmNi3D+I0Nc9TrcGMBF0eTZohkW3eM7oALZLGIYqGMaXkUw6sWGtIN91QdS95HE0scTWC935S24brjVu4Gd+1U/Y2XhuVjhvlhJhb/DtaXG1iSx+SYJEuFt8ieWt5gn5ioD3rzmx5ccn0iZOSn5DdxKKJYFCi9vaDcpDuPZ9X5iRN/db0L1LFCoR2PNUlMxNX4oBWLqyGXDvNi3Vk3/ML9qBEi+Kn1mXVskeuUlbdDD67OPbRlkkRLXes65y9dTk+IDpAkkiSSJCY1ZpLEnjt7ksQTbkT0QiyT2hrfRdqadOMunJvDOrGJYJNIRGPx6qB5uYjS+yv7lN4JaeMGkc2KK0niCan72LbC8mVtCyc5HEkiSSJJYlInSZLYszFFkshB9iQPniwb9bufdYAkkfrfz/rfL2UnSSRJJElMIol81zNJ7JdOlOWksUQdoA70mw6QJFLn+03n+7G8JIkkiSSJJIIkgtQB6gB1gDpAHcisAySJJIn9SJr6rcwkiSSJJIk0DDIbBv3WQbK8NISoA9QB6kBUB0gSo5hQT4jJSdMBkkSSRJJEkkSSROoAdYA6QB2gDmTWAZJEEqKTRohYnqhOkySSJJIk0jDIbBiwE412osSEmFAHqAP9pgMkidT5ftP5fiwvSSJJIkkiSSJJInWAOkAdoA5QBzLrAEkiSWI/kqZ+KzNJIkkiSWJWw6CHA4ePU4fSethA42Ers5Hgl62DdquFdmcLrXs3UftoCa2smB6DcJ12C612B1s9nCXmY3S0DYrOry20X+xFxh4O8NYHmGc9LDxGV7z6iXlvqwN1gHnoUHNbOP2slzx03P397WB9uYGlp53s7dQ7ZH0v9cu4+1uPBp4bC7g4ehELG8azLnS5V7m6bQPhfEgSD7e+wvjznvgfhg6QJOZMEpevjUMIEfgvjF7Atf/72CNvCxXn/dSnP3rPflZy/4i5i867d77Y8N6t/d8ZTI0W3DQLGDpzCR9/G00vnO/4tfteGk76fprH6b63wWsds+VgPXj4aCPWRhLVOYox8dx6Ld9Zjxh0re/nUHurjNIpXU8CYqiE0rkKZu5uotOLkWAaG0quKppdpNO70dBEVQhUm1tQZyNqvFTeCbhqvc9qrC9PozQ6jaUtJ00brpFO04sTHFCicgbfm+l4uNjq34ZvsJ3UowAAIABJREFUaw2LVydRLvl1WyhNoHqnic1OOJ8M+IhoPSaSuk4brVa7Cx3KgmecnGXMrssyxaTxahONK2UUBgTEQAHlKw1svvIx6KYezDoxr7360XWR1CZd3YzE0XFjfrsNb8q3H9d+/jE4S7ljyGAqxhqvymJEZzp3K844YrZRVacTKBbcfm9oDJXrS169qvx02zZ/zTSsOBsfGlL7rzh9NPviaLvppS6WrpZQGo35V/13hnwC/dASpkdLmF5220Fcv/KvJcxeDvUjp0qYqMxg8XE7MqYEy+b0yd4YpuvhrQXvA56vU357DKaR/Ly3cTY5zW7yZ1hiSR04eB0gSTwSJPEdLGg5ntzHxxeHIAYmcOsHh6RpkiimPsFTHU7+PvkMU9L4EgIeSbw/gzcGBIb+NIO/rzzE6rdf4No7oxDFS1j80UjvdB1/f/gQq8b/2pPjSQrDBHYvg5c5cJrXqjOKG8ytBo9svHaDrnOvhqIoovLlWnD2ptPG5nczmBgQmPgkSiy9DrG1hJuXb2KpFeogTPkiRlaM0WAQkEh5A+UyjbIyygahLt+ZTSWJcYTOmmd7CdNnHIJVGK1g4albTq9Mdlw9fEy5vThBrMKGc5xhK+X2ZDTxNfMwr39poHJKoHhhBs3Hmqh10H7cQL1cgCjVsdTNjJ1V/pTyR+KYdWca0Q6xj9NTK55GWVufTUAU61hRz2wydbB0uQhxqoqG1NVWA1WJzeUlj4yE6yGSp8I8KLMyfA3C4dWPIZtOx6nXqBEfjqPutSFt/Gq9DYfX6Sf+xslupC+Mcmxt2dqoI7ufvw1nR7fjsIx77smu9EViXMFiQDc7aLzrYu/J6dbpwBhqd9fQam1i9ctpTJwSmPjrpiIuDuYVLLZaaJn/cjberaP1+QpKkmTKDwdXl9AO61BEh4PtV6cT+xsTP66efTIV1ZXYPKTMMflE4gTC+R/VVDhbv7I+q8aBscuLWP2Xj1unvYbm9Ytq/Kjd859H8ou0hQ4W5cfmy0teHfg61SW2btp7GWfT5e1NJqZL3KgD+6sDJIkm6crh2plJNEiilOHhbbwpBN689VDN7CmSODSEIXEBHxtE7uncBYgQSfz++hsQYhRXl0zC9yOeGvFUeuMzWM6hvGFCdxD3exm8zIHTu1YDvDZU9cxJloZoN+j2TBJtRoUcuM3nAaPELmvnqwrE6AxW3UHfK2/EwJDxg2UJhvWNnqhBGowX7sCD6ch8Wli4IFCsNtB61cHaR2WIU3WsyNknr0zJaZp5rF4rQYgSpn8IYhCV031vYhjGxfLOzEteL10pQpyb877WB96/WsXMaYGJz0yXXqcsvpGq9cz8DRuuKeX3cNJlTgkfqtuAzFZd2MLWqxXUTwmMXVt1jc5gOeSs8taLRVTcGWYvTSWbT0Zi6yEu3y3H2B275X9EieqQLvcWnPr389NyhOOE73U4/Zv2Xofr5jc1TaMe/bDxdRmHZdxzT1aVTxHFokDlK4N4vGigomaABXwyu4SafFZteGRDpfOiEyT+xscnLx9dpz9MoyjKuPm443w4KApMzss2YZTNKHskvkonqG/29hNuN1v+Bx8tS4ZfhX2hGD+bqLwbfJ2zyduan4QQk1hQH0sWMCl0mUP9tiuPqjNRRcOYdffTXcPN02adJOet4rl16eDshPd1KkN8C057GWf9svSWN+MTN+rA4egASWLORMlKEje+wDtCQLt/KlJ3ehzjAwK+y6nrajo+jlFjJvHppxfUzOLUxw7BtJEwksT4xmUOnOa16pAykIRgx+WQp4Dh5Q62e3I3jZPDfJ5qZG1h5f0ihOFiFilvwDAwDLitsLG1jyRREYsi6t+5ddSSBlUJMw97IIntRWXkFk8VId6cxbphcMUaziaGbvk9XCzvgvUdxCj4zimPl5aHbXqcaDrdGshpeaS9D7WX9ipmzhUgxmew6mFqSeO7Oorh2alQ/cbWg4uPdKtVs1Ebq1j6uoHG1zOYHNAzoHGYannXFCmXBCJIzMP6G70PYx6tN51H77+paRpt2A9rwdnFKg7LuOdeGVU+Y453gNEfKFfTgTLK4yYhWcXMqIA4PY3ViOu0g4XKL4EkKuJuuD36/ZBRNqPsnpxem5H5GGEDz5PrQ+FozuSGr70ZUz8dFSeRJKatJ3RklXpYuduB58KrPybZ+pV9nklcv1WGKFYxe63suA/rclvKa8fbx0O/J0mMYqKx4S+xOSk6QJJ4FEni/RmMC58QOqTuKq5Jd5Fzt7EqZXZdTafer6uwnrvpT/dxzXUFPPVWHQtL4XWMGyBJjO/AfGPMMByVwaJndrqYSVSDf9Cg3ZeOw2ZUSEPJfJ5mZL1aQt37gu/gYZY9KmfQKAuGTSeJ9i/9LqamoWKWQRl/Ttp+fDk7EJQlKqt0bVxCXRq3khy2m8rNsXBuGs0NZ6Yk1nC+V1NGVO2eb9ipvKWMEdmieqRw0cZf2Hh1ZxK1C6Mjd4ayhNNJK3+k7tPysJQ1kucWHFc3x02weGEWq22z/JY8InLI8L6uyPLH1oOb/9LVMiarNdQu1zDzWQM33y5ADFRQcddpe3ph6pAbd/3OBMTAJOrvy98JzGq35chHDqOtW8ot5VT1qg3rwJpbE4PuroNtyMfGK5PKz5kNC+QvBII65OTrhHFmnxyipvssAZEks6qnMm7eqfqzXVuuq+m7M5iR44mBb7tZRVHKViij/uUqWiGymEYSw+UOy6rKZtUdE1+LvsXUndk/hPM23x3MdQdrt6T+VXDzowmI0xdx8bRA+cMZ9QFr4tYaOjH9SmejidlLEyiZa5szr0n0sdr8qqLcU6vN4DrGvWJBkuhjfDC6w/SJa/46QJJ4xEji0x/u4ooclAcuYM51EfVI3RfvQIgJ3Hq4AcfV9B0sLDmE0iOJsjw/PcTf/+cdjLsbCxTGL2FuxSeLKj1t8OjfyhcnYtMaOXO6l8HLMbQM48rFR7nPhQbzuLBBI0+nZTf27GHdOHGGXUgOryNVz3V+8jfqbqXDrn8i15NV0TTWICUbDUGjLBg2ROTi5M5gxG1tzGJCjOGmNuhfNdR6x9q97DOJnWYNxQGB0ttzWNMGbGcNC5fKKLhljiMnjnuiQMlzozQIRBzuZrnWF3CxqzWJIYKm22PoV+mfl0+wLnSder8RAzslfBrplPn+MoeJgQLG3prG4sOW51ro5WlLYx9mEv30t7Dlzgz7Lq7OABrURekK28LK9QkURAETf5VuqW00LxUhBkqofraG1iujTl1MI2l4WMfkEXofkDPTO1udBAm0maYvny2eLLPz0Uf2J3K2yowbp+teGJckzj5tojrgukG67onVppOfSRJlvM5GA9N/kq7ccqwq4eKdFYWrfBcmfSqM0ScsXQ66q67fGlMfczZNHYrocNhYcuUKtZNwfxpsN9F69zCw1VmkPzX71uh1OC+VttTZwhjqy21svVrH7LkCCuccr4b28jTKQxOYbc6iLLr4+GiT1fKs88sKZt8uOXr/lbNe1Cyvr1NhbLPd72WcNeXgdTa8iRNxykMHSBKPBEkMDjiFkmV3U7mG8KdFXBqSM4yPndlASezcWccASdRl+ulHLM9dcshieCOc8MY1j30SaXNRPU7Pehq8wgbBQMFdg+LMZCz8MzRTFxmUgwbeXgfgxM4gjqyYzxOMrM7jm2pTBHN9iswvWeagcRoM65fdNEitxmKsUaeNpBU1w+m56D6cQUlMYFZuD++VKShLFKsO2r8GDeVwmM7TJTSW14NkR8+uvjWpvvwvujNlXllNfCP1bwxgMbubVq43LLubGvGS0gy8y2Igmx8I0vBKe59BRrmzZnhH1f1ckyhdXN90Z4Y9F1dHLq9+XIzaX1VQGCpj+p659rONtS/rmKg4uzuG44Tvw/qS9j4cPv3e0fOJT0zj3W9H4fh+/va6cj761DAj18SeNt2A02drnXbltD+1prayCDlbKAaqaEpiE5pJNGXziIgQKL6/osip0+5DG9cY7VGtz/PWQpsbqhhl89p6Bt0LtI3k8ArH2D5IjsO6H0pOx8Rgz9ehfiVdRtNeMNu5L7PSB1FAqTKLFb3B2St5VFEbHbf9+Drlx+umLD2Ns13UVTeyMGxvdUjciFuaDpAkakKV029gTeIPt/Gm3Jm08kVgF1NvJnFjA4t/GYL40wVMDQzh0t82kkmiLtPfLmEovBEON64JfG0PNBS59bh08zGOpyiUypi8POcPuJHBLmjgJQ7AygAyB/rotfWrtM4zZFSodVuPV7D6nfFFOsbIat2rY2xAoHip6e4o6HeSiTIbX/k77TYWq64Lmjxu4dfFhN1N/fQVxiHZA7i75VNrlMo3sfaihUbV2AjGK5NhTGpMLL+pJNWY3ZByrF4bczfJcQ1jdx2jh0sG2cPl8eJa5HPcV6N1H54N0ffxOhHUvbAM1vVbitStYeXrBlZ/yYZn0FU0GMfBOmqwqrrcy+6matZqEdWSgCjV0Ay4uDq6FYdx0tmG4Tjh+y11jMgmVu85ZxJG3tvqs5tnaq1t2BU9VI9ahu/XsXhJu3wGcVd1/dTZCVPtiOy6VhffXQweSRHS9YCOqHblkqNluY70onLnLV6RO2G6bcFwNw3EVWVuYe6c8Ha6jdMFL94vC5gcKKJ6twX5waosiqir4yCMsnltPdR/yPxUO9yPdmNJO1KHzrEcsUdgqKMx5LE8WdJyw6h6lWttnfa3ck9ikExOFaZJdRjO/1UHHe1Fod+F+q+96jRJYhd1ruuAv/F2F7E5ktiQJGoildNvgCRubGBZ7U46hEt/93cnNUnizy7hE0OXsPiThSQ+uIu/P/DjqhnA/63jFElitgboulmNXW5gzfj63fnXCmYvOF/p18zOzDNmggZe7wNwMB3PsDLzDBhJBRSloXKugoW78SSx88sqFi+PQUgXvOurEYIo80mW2TUW5Vd4eZ7jkGukyQ0d3p7EROw5iWtYuFyDmomVZQgZKtbyyVmjP+kjMKpY/Jc7GHtYG8akiUsX10Gjq+MQRFGEt27HPa6h8NYC5rSBnkX2kAzJmBpGRiTtDHrg5ZUW1qg7dxalUHLOfZuo1DD3/ZqaLbKtcwvWj5OPJq3yV8dx3HTd3Rs9uaQb5F7OSexg9XoZBRFyHTbTT9DbJOzV2XdXQ8cBGDNMhVMOPuW3qpj+ejOlbRj1GJItiF9auBC+7mYpE+8vYUHroPGxRqbdatacjz4XFrCu85akUS41kKT61+5mEn231SBx891N21j7bi3Uf7izge5xKKkkcWsLm19VvSMwJr3+yGjXXltPw8x9H2k/GeNpzHr9TZPz6U2MGXol24xue1K3apdnsPjNTJQkmmfeahfebkiipTxyhl3mX/kquDaxOx31cSVJ9LHoFUPGI4ZHXQdIEnMih9p9M0wSf95wN54ZreMbSQI3whvN3FUup0N/WXTWEAbcTR/gI+mSNXAKk+9/gX/IMxC//Qzvyu2yBy7g48dGemF3Uxn2hLic7mnwShr0bYZIUnjLQK06BBXHJXcxhzR7By3HpWF7bsoXluu7OkrjVcx9b7rgBTvoJKM6uSPzSUqQfMn0/XcqjbgzHm3lCT/zymQYk+Ewxr1jrCbMOJhG18NFzP0QMp46bbQ7Bnk28TXycbAJGfghw9AkVurazFumFUk7hJvOT4VLKFMo3/jZR7Pus+EZrEsjjrshjyyXJo3J+uLnHdUX/51K418rWPpnvM7KMHF6G/c8q2xmuGha65iVfe2pmv3cS6WrWespeRYpWEYDd6kTTxcx85m/HtCTubWGpe+NcwvD+qb1Sf4qWX0Z1OxvsY4l5Zbo5KdJYkf2I5LolOtYfLipzklcuSPP7fOPQ3HaXcjdVJ6XaHx08+Q05TAJsNfWQ/oQCG+8i7Qf452M02W78fXYLb/8MBbTV5cyHIFhL68ro0320LPWvZuofbRkP1onDhPz+b8W1fmtY+UxtYmTOn7EfN/D9Z7G2R7yS8SQ6WX7CE6ciFOXOkCSeORI4gZ+Xrqqdiwdn75vIYmhWcIASfQ3rXmj6MzEyJmjoTMZNq6RxuUJ2bxmT4OXOZNoHP6cPpMYMkqSGmK3BlBSWuY707DoIY+oIZy1TD6hiRr9/rs9D/JemUKGsomBcR2VJWt5guE8XEx8jXz2XC6ZViTtfcQtVdZseFpJ4q0lLL5bhDhVxbTaHCa4i2gaNvtRR179hMoZ9zxNJtv7aFopJDEkiy3Nbp75+WetK1+HUzFW7coniUG5XJJkuJuqTWveGkPBPaNXDI2hkrZxjRxfkoiqwssom9fW/XIE5Qo9j7Sf0Pue68OQqec0UmSxyW571kv+L9bRvH4RJbmR12W5xKANuWNwYaCEyasNrBljXCK+lrz3NM5a0us2f4ZP0StiTEK4DzpAkpgzSdQzivwNkd891MueB6+ENYnBbf/1V/iUGYOwcaQMoJQ4hlGWeTA0Z+m6NbISZmTS8/ddSqMGqUN2IjNp5oxXGJ+4jk2t5Wmjs+WsE7o4b276ER0wlSxmPpHrOMM4mFbrYQONhy0LkQuGS8cpIXzEKDy6JNGsy2KxCFG6iAW5G21nTe3eKM7NYTOuDkPPN+cvovT2QubwNozXvqih9sVaxCBQxCpS52a7i66htKUvn/kkLaEOQ2WLS6uX554OmrNtGfOLtsl8ypCl3HJ9dVvuuLw8ja5m6CLtZ7/KmGVNYgk9eX7o+jP7bf1MlcfUVct12hgh09A7Eodm4yXRn6lMoDg0iYVfesNqz+OsLit/I31XlrbCML3pLXHrDjeSxD2QERK7/SN2+4klBy9psFt2m0wZjJM2+sjcscoNUVLdyrrrpDLnnVK+I51OaOfBrS25E2FLubsehtyecX6cMTxA2felbRygfEk6Yt3JNydZkuTku+PVL3KcPV71xfbF+upFB0gSSRJPzPmImmhy8GJn2EtnyDjUG+oAdYA6kE0HOM5mw4n6RJyOsw6QJJIkkiTyqzrdXagD1AHqAHWAOpBZB0gSSX6OM/mh7Nn0lySRJJEkkYZBZsOAHWu2jpU4ESfqAHXgJOsASSL1+yTrN8vm6DdJIkkiSSJJIkkidYA6QB2gDlAHMusASSJJIonUydcBkkSSRJJEGgaZDQMOCid/UGAds46pA9SBNB0gSaSOpOkI3x9/HSFJJEkkSSRJJEmkDlAHqAPUAepAZh0gSTz+BIAkjnWYpgMkiSSJJIk0DDIbBmkdCt9z0KEOUAeoAydfB0gST34dsx2zjkkSSRJJEkkSSRL7XAfyPiz+YIyRJqpCoNrMPtDzvMjsWB1MnTH/44IrSSJ19bjoKuXsXVdJEkkSSRL7nCCwA+29Az022LVXMVspoSAERKGEyp1VtA29TyWJ67Moy7jm/9BYIB2VhhCofNUJfXTooPGuEzdA2P7VQP1c0ZFJCBROVzBzb9OLq9ML5CkEynfWvTDtH2ZRGS0ouQqjFcz+0PbebW11SxLXMVsOpn9s6teoS8rcB+35CNQ3SSL1jH3NydcBkkSSRJLEIzDgsrM9+Z1tfnW8jtk3BcSbN7HW2ULn8U1MDAhMfOKTrawk0SN5rzpY/7KCohCYnG8pYuaRusoiOmabetFAZSBEEl8soXZKQIzX0HjcQmtjFYtXJ1AcmMDchqMLKr3xGay0WmgZ/+0Xrq6szzrluLWGzlYHa7cmIAYmMLuudSlMEh0SGCad8t4pF0lifjqq64y/x6UOSBKpq8dFVyln77pKkkiSSJJoGrS8NmZieu9Y2CkfIewezqAkygZ52sL6nTLE6AxWXX3vmiSqeC0svCUg3lpAa2sLKo1iEUVRwaImcltb6NytQIRJ4r2amv2rfh3EqfPCn4VU6ZVnsR7TJlevlSAC7x2SV7q26uqwnSSaM5FBPSVJDOIRrBu+Ix6mDpAkUh9MfeD1ydQHkkSSRJLEGCOUnd7J7PT6rV5b85MBQqjKr4jjJBZaTh33RhJdYugSNZXGeBnlAdPl1HU1LZcx5s3YbWFL5S8w9uFqcNbRaIvJJNEhqD4hdMqhiKNLWqPupmkkMO0920O/tR2WN17nSRLjsaHeEJuTogMkiSSJJImGYXpSGjbLwUFK64CaNQzMuG1hS60x9GcXeyOJDqkSrnupQ+puYvaSP7u45bqaVq7PqDWNnrvqVhvNS0VnLWG5jsWHrQhZTCaJdkIXLGtvM4meO+qlJmfV2TdSB2J0gCSRY4weY/h7cnWBJJEkkSQxZhBkx3dyO75+qtsDmUnstLBybUKRvMpdx0XUI3XNKoRwZikdV9Mqmk+djW98kih1q4PNu9OYLLkb4pQuYvZ7Z32jrB+VnrlRjrz2iBtnEvtJh1nWo9cXkyQevTphO2Gd7LcOkCSSJJIkkiTya/lJ1oF9XJPozbJJwhbaJdUjia+WUC9Kl1M5W+gSO3d31CBJ1AN6B63vZnFRkcUi6t85z1Xc8MY1bX/NItckavz4u9+GEdNL1ymSxHSMqEfE6LjrAEkiSSJJ4kkmCCwbCfCWu8HMvu1u6qZXrKJpbFDjkcStLSxdKUJcqKAyUER9Wbu36l1EYwyHX+YwIQSK76+oOjPTsw60vyxgUu7S2uXupoGNa1600WqtYeXrBlZ/sbuwWvNmu2K76nMdIEmM6cf6XC/YX54svSBJJEkkSWSnToPvpOvAPp2T6M0EusdPaEInDYMAqVuuq+MxRLGOpVcWkthew8pj80zDLWy9WESlG5K4tYXuzkl011AaLqyFUgml0RImKjXMfb/GcxJPejtg+fatrydJPFlkgOSO9WnTAZJEkkSSRBoO+2Y42DoZPjv6g48ieN56P4u8FnfR9U/kmsQxzDx0wgdI4taKcjktXllydCsQv4OV90sQooDylUWsbshzElcwe0FuZBNKL+xuKs9LNFxOk3UrvHGNpVyBtm+ZSdTnOb4ZfxRHsgxpefI98TueOkCSeDzrje2N9daNDpAkkiSSJAYMRXYg3XQgDHsy9KUXkrj1ah03ywKifBPrr0IzieE2FSCJEjN305rTBbX5jVzrWDhdSd+4JrB5TRr2JIlsn2k6wve96ghJInWnV91hvOOjOySJJIkkiWGDlvecWewzHVi6WkLpqjvrd2LKvoTp0RKm5ZrITGWyzCRmipc1fYbLVg/E6TjgRJJIPT0OekoZ96anJIkkiSSJNAQzGtF762zYWRO/o64DnV9baBub8Rx1eSkf21ReOkCSSN3LS/eY7+HpHkkiSSJJIkkiSSJ1gDpAHaAOUAcy6wBJ4uEZ6iRFxDovHSBJJEkkSaRhkNkwyKujYr4cJKkD1AHqwNHRAZLEo1MXbBesi4PSAZJEkkSSRJJEkkTqAHWAOkAdoA5k1gGSRBKTgyImTPfo6BZJIkkiSSINg8yGATvvo9N5sy5YF9QB6kBeOkCSSN3LS/eY7+HpHkkiSSJJIkkiSSJ1gDpAHaAOUAcy6wBJ4uEZ6iRFxDovHSBJJEkkSaRhkNkwyKujYr4cJKkD1AHqwNHRAZLEo1MXbBesi4PSAZJEkkSSRJJEkkTqAHWAOkAdoA5k1gGSRBKTgyImTPfo6BZJIkkiSSINg8yGATvvo9N5sy5YF9QB6kBeOkCSSN3LS/eY7+HpHkkiSSJJIkkiSSJ1gDpAHaAOUAcy6wBJ4uEZ6iRFxDovHSBJJEkkSaRhkNkwyKujYr4cJKkD1AHqwNHRAZLEo1MXbBesi4PSAZJEkkSSRJJEkkTqAHWAOkAdoA5k1gGSRBKTgyImTPfo6NaxJolSeP4TA+oAdYA6QB2gDlAHqAPUAeoAdYA6sL86gBz+/r+95imV4GfOAhIDiw5I3eAfESACRIAIEAEicDAIcJw9GFyZKhE4Sgjk1c5JEi3khqR3Y19Ib15KfZQaNmUhAkSACBABInBQCHCcPShkmS4RODoI5NXOSRJJEveFENqIdV5KfXSaNSUhAkSACBABInBwCHCcPThsmTIROCoI5NXOSRJJEkkSj0ovQDmIABEgAkSACHSBQF7GYxciMigRIAJ7RCCvdk6SSJJIkrjHxsvoRIAIEAEiQATyQCAv4zGPsjJPItCvCOTVzkkSSRJJEvu112G5iQARIAJE4FgjkJfxeKxBo/BE4JghkFc7J0kkSSRJPGadBcUlAkSACBABIiARyMt4JPpEgAgcHgJ5tXOSRJJEksTDa+fMiQgQASJABIjAviGQl/G4bwVgQkSACKQikFc7J0kkSSRJTG2eDEAEiAARIAJE4OghkJfxePSQoERE4OQikFc7J0kkSSRJPLn9CktGBIgAESACJxiBvIzHEwwpi0YEjhwCebVzkkSSRJLEI9cdUCAiQASIABEgAukI5GU8pkvGEESACOwXAnm1c5JEkkSSxP1qxUyHCBABIkAEiMAhIpCX8XiIRWRWRKDvEcirnZMkkiSSJPZ990MAiEA+CLy8W8HInxt4eSDZb2Pj/jI2XgUT395YxvLGdvBh13cPUBMCtQddR2QEIrCvCORlPO5rIZgYESACiQjk1c77lyTen8G4EBDm//8ZxdS1b7CmieMX7zjvpz7BU/3M/X06d8F5V/nCJ1kPPsOlM0MouGkWRi/gypcPvPfL18YhxDtYCKX1s7r/Au+YsnjX47h2f8NLwwl7PO7zUurElsaX/YNAex5nvXbktvWh11H9fAM7LgoP3nOeV/+xG8JlF8uXnHcBItBZxoeTwxh00x0cr+L2qk9xdHqBfkUInP38eSj90O1vDVROV9D4DVBpvJfEPhyCEs4jcH9mHik5hgSw3b5E488jGDkd8z8kIJLyeVAL9q9mXbjle/75WUsau9h+vIj6xbMYeW3QS2NwZATnq7ex/Gu4rmyyy2d2IpeOr4xql33qriaX9rTjJOFzInBQCHCcPShkmS4RODoI5NXO+54kvvOFS7h++hHLH1/AkBB489ZDh5Rpkigu4OMnJjH7EXMXXaNTk8Qni3i3KCBOv4u5bx9ideUdjF2VAAAgAElEQVQbfFx7A0MDb+CjFSduFpI4euUuVh8+NP4f4+lPZt7H5zovpT46zZqS5IqASxI9kvfHLp5/U8WwENDGvkfqqk0EqMfvy6gOhEji749Qf01AlOtYfraN7d820Lx+HsMD57H4m1NSlV75Np5sb2Pb+N/53UXij+doVEcckjl0FjceuXRVyXoW8+0sJDEZVSvxshFmk7TJ60RiGs3Tmk80mHoSF9b2/PnCeYiB87j9+CV2zEr5fQfPVP0No75qvjAyTSmnJOuZSKKRpLr8vYmqEKiv6hckiRoJ/uaLAMfZfPFn7kTgMBDIq52TJGqSqGbzHuLWOQFx7jZW5b0iiUMYGhKY+vRHfzbvyWeYkgak/Nck8ct31Rfvdz4LkrinT/x4WUji+LX7fj7WGcdg+kd5ZjEvpT6MBss8jgECYZKoRN5GQ37gudiAnBNShGF4GMOiiqYmcgB2v6067dt0KVytqzZeux8s++7vPmFR6SXMrm1cH4Y48yme7QLb39YwPDCFhnSHPGiSGBQ5cmcnTs8xf0ZADMXMJMoZxoyuohu3RiBO38ZGKGcbSdz+uoLBXkliKH3brb2stpD+M6UPYgoNPZEYM0vpx+AVETgcBDjOHg7OzIUI5IlAXu2cJDFAEjewUBEQ4zNY9kjiKMbHBYThcqpcTQfGMX7aIIn/W8cpITD63jcR11RN5EgS82xizLvvELCSRJcYukROEYbyWZwdEPBdTl1X0zNn8bpJEjduY0QIvP7RRnDW0QA2mSRu4PZpfxYTeIIPh918uyKJ++9uaidOGUji6Rt4ZJTffvkMt2UfKl7HbcUSQ/JbSPXur/OYEgKDg4a76aD01Kih+ZtPyu357WDjbzWc166qg8M4/94iNtxJW3tZ7Smpp388x6dnBIbfm8dtSZqNGVhvljohOl8RgYNEIC/j8SDLxLSJABEIIpBXOydJDJDE+7hmEkI1kziOq9fk2sQJ3HooZ/FcV9OLdVyRYfVM4sZjLFSGlAFRGL+Ej//3YYQskiQGlZ53ROBAEbCSRJf4uO6lDqn7FPNybaI7uwjX1bR657Za0+gTgR08eG9YtfHBMx+iubEdIYvJJDHsoujK4pGOrO6m4XT2jmLXxKmLLHf+UYUQZ3H+vIA478yi6ui2mUTnXbSM8WF1as6vmvUbrqKh1y7+Ll18hyEuLav6UmXVmKe52P7xEs1LwxCv1fBAL2RV2UTlC0rBOyJwOAjkZTweTumYCxEgAhKBvNo5SaImiT8+xN+vvKEMwKk510XUJYnXlr7AOwPuWkXX1fSdL1xC6ZFEh0B+P3cZb55yvzafmsS1hru+cWMDWUii+ZVaXntrJo+h62leSs0uhQgoBMIkcXcbT26dV228+q0zG+WROrVRieNO6Lia1vDgV2fjG58kylR38fLbG5gacdv4SAXzTz0fRMd9VRMQ/esRkUeoDwj47qrP8WlZ4PzCyy7dTfeboDhkNbC5TszGLeH+ybl3yG1U63bx8psaRgYEzsuNe3YeoC5xk5g9dgh2PPGLljE+bDDnTCTRq5NgXP9Obp4zj4qSt4Zmx3/jXEXlC4fgPRE4DAQ4zh4GysyDCOSLQF7tvO9JYsDoKZyy7G7q7C66+Jch5XK6JonjwDtY+MlGEvV6wR+x+vcZTCqyOIRLf3eeZyGJ4Y1r1n7UaR6/37yUOt+mzNyPDAIuSQy08cGR6O6m0t3xj0eu66ecLXQ3cQmTzEDBDBIhhvHhY+elihveuMbbfcVZDzlyy12ZZ26GovLqbiYxUC5NSL3fOOIWKIR747i9KrJqe93js5d3pyAk3n975s+47r7E8vUpnL/1RKUaJH7hmdWga2ekvLFEb6/ups8xL2c9la48wfYfLgC/72D7P9rVlSSxR7VgtH1GgOPsPgPK5IjAEUQgr3be9yTRmalzN6wZegcL5i6meiZRHkHxt0sYEpOYmhIY+ssift5IIokuofvhI7whBIb++67ajCYLSeTGNUewdVKk44lAgOS5G9YM1/DA2KDGm0kE8Gh6GOK/qqgODONDudAuED8GgleLOC8Ehq85pMdMzxZjWxKn4RqWt3fx7JOzEMMf4pEkIV2RxFDKRtzQm2y32w21/i84YyqjPsKNuOMv9POkjWv+2MWu5lQxkuz++gjLj577JDIm3H4+9j4CJCX6+25EpiChJUlMgo/vDg+BvIzHwyshcyICRCCvdk6SqN1N78/gjQGf0KnNZkyS+NMiLslzwcQQLv1NksAQSXx8D3//9nFwZ9InnyjjiySRDZwI5IBAmOS153F+wCd0UqIAqXv0oToeI0jcjAPTd57hybPAwjTAnQ3MShIh17i9p4/AmMLtn/bhCIy9ksQeqyZImuITURh7M5yW2UHLxjXbTxPOSUzduEafc1iD7bTJR9dHMHI9fbudYIl20KzKHa2raIZUIBiOd0TgcBHIy3g83FIyNyLQ3wjk1c5JEjVJlGsGr8s1iaO48r/uTKBJEjc28Pf/HoIYuoRFdW6hSRJ/xN//+xSEKGD8L5/gmxV5TuJdXPuT3MjGT8+ZSbyAjwPnID7Empq9/ALvyN1RI+ckPsRxdTnNS6n7uyth6T0EwiRRLv6WZ/B5u2yGSKK72+jwtEsgAvF38eTaCIQYxNnpJjZ+k+ckPsH8f8mNbPSunW56YXdTeV6i53LqSRe8MIheppkuM7YR13zsXfe8vtCZLRt8be9HYHiyhC5sRHN3ta7Onow9J3HgvDpPMpRU8FaV2U4SgwGz3b38RxXDA6/jbDm6+U62FBiKCBwMAhxnDwZXpkoEjhICebVzkkSDJP78031clTuWjl/FsiSCIZKoj7Jwfk2SKEnlj1Cb1owW1MYYcv1MYfSCZeOa6Jd0x8XUIYmRdTfHePOavJT6KDVsypIjAgGS58rhHmcgzyp8/keYJIZkjcR3N60ZN45lGK+mb1wjZ9Fi18+5eRpEL4kkKlKVNCsXeNfNusRQ2dXtwbtUHnWSuPvrA9z+8wjEwAjqcnvTnUe4cWYQYmQKN759hjTub0OVz4jAfiLAcXY/0WRaROBoIpBXO+9fkngMdwsNklR3tvMIlyMvpT6aTZxSEYEEBP7Yxc72Dnb/AHpzh0xIu+dXGdYknq6g8VvPGcBGEmVq++NuGv0g53+ESyfQSrah1zF1vYln/ga27g63t1GdHMagPjaldwgYkwjsCQGOs3uCj5GJwLFAIK92TpJ4hEnWcSOFYXnzUupj0eIpJBEgAshj4xrCTgROEgIcZ09SbbIsRMCOQF7tnCSRJDG42c4+4pGXUtubGJ8SASJABIgAEThZCHCcPVn1ydIQARsCebVzksR9JEXhmbR+v89LqW0NjM+IABEgAkSACJw0BDjOnrQaZXmIQBSBvNo5SSJJImcSo+2RT4gAESACRIAIHHkE8jIejzwwFJAInCAE8mrnJIkkiSSJJ6gjYVGIABEgAkSgfxDIy3jsH4RZUiKQPwJ5tXOSRJJEksT82z8lIAJEgAgQASLQNQJ5GY9dC8oIRIAI9IxAXu2cJJEkkSSx52bLiESACBABIkAE8kMgL+MxvxIzZyLQfwjk1c5JEkkSSRL7r79hiYkAESACROAEIJCX8XgCoGMRiMCxQSCvdk6SSJJIknhsugkKSgSIABEgAkTARyAv49GXgFdEgAgcNAJ5tXOSRJJEksSDbt1MnwgQASJABIjAASCQl/F4AEVhkkSACMQgkFc7J0kkSSRJjGmUfEwEiAARIAJE4CgjkJfxeJQxoWxE4KQhkFc7J0kkSSRJPGm9CctDBIgAESACfYFAXsZjX4DLQhKBI4JAXu18X0iiFJ7/xIA6QB2gDlAHqAPUAeoAdYA6QB2gDuyvDuTBV/eFJP7M2bgDm407ztjKDmJra4v/xIA6QB2gDlAHqAMHoAMcZ2lj0M46+Tog23kefySJJLgHRnA5eJ38jouDE+uYOkAdoA7kpwMcZ/PDnnpP7A9LB0gSSdYOjKzlNRvJwYsd6GF1oMyHukYdoA70ow5wnKXe96Pe91uZSRJJEkkSD8AVp986EpaXBgN1gDpAHegfHSBJ7J+6Zrvu37omSSRJJEkkSeSaHeoAdYA6QB2gDmTWAZLE/iUOJI39U/ckiSSJJIk0DDIbBhwc+mdwYF2zrqkD1IE4HSBJpG7E6QafnxzdIEkkSSRJJEkkSaQOUAeoA9QB6kBmHSBJPDlEgKSOdRmnAySJJIkkiTQMMhsGcR0Jn3OQoQ5QB6gD/aMDJIn9U9ds1/1b1ySJJIkkiSSJJInUAeoAdYA6QB3IrAMkif1LHEga+6fuSRJJEkkSaRhkNgw4OPTP4MC6Zl1TB6gDcTpAkkjdiNMNPj85ukGSSJJIkkiSSJJIHaAOUAeoA9SBzDpAknhyiABJHesyTgdIEkkSSRJpGGQ2DOI6Ej7nIEMdoA5QB/pHB0gS+6eu2a77t65JEkkSSRIPiiQuT6M0Oo2lg0o/Nt0WVr9uYPWX7B3b0tUSSleXTgxZ7LRbaLU7+1qetS9qqH2xFkjzIPIJDMjrsyiLMmbXs9ZlB+vLDSw93UPZ4/J81UG71UbnVVZZugyXW3vpUk6z3b1Yx9LXS1h/0UUavcQx8zyJ1y/aaP26B521YLI5fxGltxewaXm3ZcuvWYUQVTRt4ffxWethA42HrUA/Emjz+5iXmW7n1xba3ehpihwkiV20+RQszXriNXE9SjpAknhcSOL9GYwLAWH+/59RTF37BmtuGVYbM5gqFZwwAwWM/+UzfP/TxokjgT+n1FnPg1eccaw6+CaqQqDatHVg65gtC5TvrAcH/lijo4PNuzOonCuhNOTXaeFUCeW3apj7fq8GRFTW5iUBcalpyBcME33vl7P1/Ryq50ooFlxZh6Sc02hs2Iw6J92Anpo6K6/Ls1jvYdD0iGxiPTlyJ5UnrQOOi2t7bnuWlr7/3tEbK1Yaowxl9dOTZY/RxRi8rfLH5Rn3PCbtoFxb2FLtwdd3r9xaL2Pbi6+LkTTba1j6bBqTo7Lf68LA9whpd3hF8u8Fk9g4Mf1CyWlvi//ssl9oLeHm5RoW/pmA39YWlA6E22jgvgtcTV3oAuP1O+Xu+oU4XZJyu/qUlKb1XZz+JeXl4mQfF+y4W9uciZu63sTC2yVcnN80+mx7ehGdjKQl4+1Rzy1p9jzOWtLKVoa9lP9kxFVEv5NWlhYW3y5AFC5isZUWdq/vZZ9VR1nbMYUSKndW0WYd71O73Wv97D0+SWIK4UgjJIf23iWJ73zhkr6ffsTyxxcwJATevPUQPy9dxbgYwtTH9/H0pw2sNi4rUjl+7T5JYtYOSxlvFiPWMJjsxkDMABxjdKx/MgExMIGZ7zbRNjv8F22sfVlBURRRu2cjYG6DjzNatLG9FSSAcgCOGibBMNH3Tl6r18cgCmXUv1zFpvsVutPexMqdiygNFFG5253hajXOAvXTxtLVCZeQFlB6awZL7kDnyWgxstU7o548AmI8i5D4QL5+Z+rlE3pve2571q3BY6ZhXqt0uiiro5sxumiUReVh4BLEqoqmJc84WbotayD8qyXUiwKT864OxbSXQByjHOr5PxdQu1xD5c2inSS2lzB9xvlwVhitYOGp2YYk+UnDK+6jh0ucLFgpHY/BV+mgJY4sy577hTA2T29iTH7Y+trX7UQsw/HlfYY6aS9PY+KUxngSM/fC9RnFOAkjTx+9/ixZ/rg+Jfw8Ue/lR5m4ssY9t+El61ESXkv96/4n0sat6UQxS647J7wt36z9QnL60TogSYxi0i2G3YUPjtlJcTe/nkHtegObB+X14eps55sqCsqWaaGz1cHmvGO/VJsJ9otV3w8bS+aXpD/mO5LE40oSldwPceucgDh3G6sbG3j6+EeDEP6Ij6f8d4dGZo8Anj0PXjHGm9NgkjroFWXs6i/YXgOLMS723Rjc6mCxIlC6tup+vYrKGmcgadJrNVx+mcOEKGH6B3uH2v7yIkSxjqUuBqKw4eZhpQcOidnAJObkLGVnE3NvhUi7NBwT62kLWy+aqBZ7nbF0ja3TM1izGXwhw9WKmy5Lxl8zDe9a6Y4ue4q76cYsJoRA7Z6sp26NS0vdxuEb9zxjOcN13ZqfhBioYLHtymCWWc+kZkzbMczDM14tLFwQKFYbaL3qYO2jMsSpOlakvnpts3u8NtVHnprjRp6EiXo3gdmNUL3ExNnffqGN5iVJnGU7uIn1hDaqdM5CanzCEcbV0JlXTVQHBCb/uukYiX+dDBGkLETcbXPFKpo9uEOuXiupfmglpCu2vqa9PIPJcgmlUgml0SKKpyZQ/dL1APF0wiifTDPueSi/sH7790uoDQhMfOLMCnptPDF+t3qZFj7tfajMibI5YXseZzOk7WPXvVwnN250XM+/rB20A8s6VjEzKlB8f+XEzKTlj3G+bYAk8QiQmkwELjyT6Mq9UBEQ4zNYtpQj6V2mPC1pHod4PQ9eMcab00kkdNDLdRSlkWUavHIgNI3egCtcjFtZz+6mDkmtfKW/3kVljRomwTABQ1EToTTjyIqXk65vYGqiY/wmEICV94sQlUV0XEOi81UFYsAxyL0yWPN1OtLOLyuYOVeAKJVRLgkUL8xipRuXm4czavZFDBRR/bodGOi8/A0jJ4Cb1dBOIXihWd5IHgll9QYvVU8WMmLI6YX1nnWw9lkFJelCPFBA+Yrx1TkuT/XcqEdLefVsSTS/4EC3+VUVpYECKncNjNP0zZM9mJbMy0oSXyyiIoqof+eGby1gUpQw81C3zSwEJpqXqqM3Z521bnFYSVkD5XHaqPooExsnqV+YRmZ301ctLL0/prwVZr9voHpKtoM5rJleCwaWEZ0z3qXV49Z3su+rYFGTO4W5+8HCK38CQXmxjsVqSXkrTJQLEOO1GDf2aD04sq1h5rTUySLqyzJMqP8J9DUOWavc1f3kFrbUbKvbdpS8Wr8NYuyVI06GlOduu3E+4ti8OmzxHcyy96MJGKv6THtvkyH5Wc/jbDf6dWzDuvVXnUPjShmFAaefnfxkHZ3Hc6go93iBwmgdTf2RTJW1jdXrk54nTfHcNJbk+4BuOjrq9yUC1fklTMv2IxxdVm3a1P1Xm2hc0R46Mt9JzCw7fW/rnu8JIAolTF41xgITf1ePw3kF+wi33NqGMOPbrjtrmKuMOfgIgcKZKuZ+0GNCG6t3KhjTrqxDZf+DTidUntMVzJrLdBReZdy8O4eLJYm9+1GvvYqZt4ooyLGrUMTE1SW6xtrqxXhGknhciJCVJN7HtXEBMfUJnkbK8Q2ulASG/vuuMbvYH+sTex683E4waWDWM29ex9huOkbY+wuYfVNAvDmDVd3p79W4MBqql5/tmSKpk/h/7V2Paxs5Ft6/1gRDMcWETSELm3JZdrPF9EyPBJLSHOdypNQsl7Lu1dyte3ehuFvvsQlnXze3TSlDCZQh+D94x9Ov0WiksezEG7v9CsWOZyQ9fXqS3ic9PXUMGcoTQE5bNATz7xSfj2ksdhLXpFHtKfecCVxhJzGfb6ncnjwLclgYmmeukf2ez141aIPP42rCwwYxTyQPNgURqn6+Sc3drtgdDMr0tksNNqh3juj4MbsE16n5jHdIpLFkyvfIHcwz4l07X/M9ZxSUE83+bs06zxVnDJ4/b1JtZYMORimlb3S9+7KuLr4RdYiq/0VKZydd2mP3z5U12n7unLey2joqP0suL0ks1MMhEGLhJg4vI49ykTVkuFBGZlgLmW4dyPO3NmEtSWPKseoW+9v5qE+HDxu0zsS/vkWHI0WGkgG1fseYswF4SP2RNsIsvfYQ/mwcLNG/QptZ/d88czEeUne3SZvrbKxVqd5QCzkXCQ2eNMX5purNDWrsHFD/fYanD4dT0U83aOubGlVuNqj7Nnu/uJOY0CF73nx5QEMmtWlCR7tr2Rhm5M3yEGWGfo9so+QJjyVNOlK7uaaPR6YXMkzUGRdjpw7Kw8C0aawRXyLjzPNsSZ6+Nl7O32R7MN5rOz0aJmfU0zv7NzZo/2hIyckBbazkd920PvO4PE6HdMA2xVcdShgzoQNOXAT1m5yrhpRwYDE93xuSmFCHPXLYLZSJFHtVPG1Rl13vP/SosVKh9T8PRbr0dY9ajwPEKVBWrn3UIpE5QjChrYd8nKXWpB7bLin3fyXXeExiwbhSo4aYg1NKjtrUFsT2VNpa3N/Z44jHjT9tyIUivSAo+iwTQXmsRwTFulDpuP+nY0pHEv9YWXP1nFCvj+ldkMQCuVpQIuWSxF9O6O+7XwjXnq8PbTdTKf/rp3foRuUG7fxjQeszR9x/m8krpeRVW65S1bflauB5n/aYtFfXpQFcMC6yicNM1mXGWdRELge+2r0jQ2b0arpNaIuGiWXM6UnFU545k/jDMDs/+aHsTGI+32kHSzExNHvZDt5zdj+dtJOY0ulPx3SmJshimRyVc0iDnxxSYgb6lI4fbVJ9pUL1Ztec4zh7vicM7vr9QTbxaoz0hFnWftYzuy1c+UTbWO9q3chWikuM9Hcd2mR3P32uL8oYlHpY/6N2Tx7T2F5ocOpWJrtbl7K/mcyy8d98fOSPBlroL66hG/7bSxKFG+4aHehziBc9EXxK7OiYsiYZ1/kypYvsJnV05OAgVpKQGLcrseOmFnJyabhtr2hcOOnQ9oO2iJypFzbs9khfD+jw4Ta1/ll2jnjK/ivq1aSedmeNxDg5GdCwJFJu+v6Mjl8Ng6v87DHQ/lbuQO6z4Sh2SnjHpkrrO0dil7dIEsc0Pj+mw51NuTvB7zZa1NPE0uhEvs19uzi6j+pPs2hgxhSVx8WA9njhyXK/y/V3Y8hbZQo59I7mpE89NkzS40nPrfLdOgT+/m3m2enlsnX++r6rPm3PZZ4zwr2mdSxCLUCtPbQiaAtdyI8bufFYjSVr5qiJxEvomNYt0UcrtPHE0++Fd0WF1h85Qfd8bR4oy8ZY9LmVLWvBurz9xHzPJFEvrOtylVy1XU/EdV99FHaGUKs+1PibtSAm5rg1ao0ymQROmoTrsvGZ2V/jMYEkzpGsXKlrpiKJelISn9WbueimprzRU7rDZ7K+/s5EPjXPlqW+l5Bz+slrSiNNDb793Tqt3zvMdg55cLlIaPisTT2+siBkdFzZIJTS8BGvUltGq8i7aOjlDBOLkOgJRzzXBCgnX0pnR20R3VS4zHDaak1EN/W7v8myc3pqlSd/14ZNNljriUYY4astOlYyiPNGdnqWUUxWOo8p285bxzGN3w6oPyF6pO8KDC33TJ85siDdkeqrfFZqnTabKiplrq4OXnpl9PMWHWsjPepMYlE/cgsLnjJD+uNvZ8tVL6dLjvy5Z0zkZw/R7yWJY8cN+6RFdeWOlfXNKYzn122x8p8zyDxYCV0Ysdty5uoq9FgbbaE0OTymkCuXrgxj55mQYxIJyZ57iZDtwstyCIyzNDLibL4uU+mSxsyt4+sutXyLDR9Oaaiufym7AkPoy60WDZKEktGAenxl0JO4KzDCY6WD71idC3WOIcSnd/Mr+zuPcXE8mvS8LG//s+nnWX8+RVk/hvck3rk4Baq/6TmX6y10Qeu46DvKHV7ru0ojFrY86b27i06+4gx1xVos03mLT14g3RDul9X1BrV+OA1fceQr387LNz7az33f3/WoKdxB67S5c0iDd8r74cW22ADxBd0K1UcQbu1WKmwvbSNIfRJjsGVbMP6S1CpXVJ98+A0kcWnIU24nUQWsuXGHOv91dwpH1GncoErtDnVG7rNP4++rmrzEAKIH8JLBInj/VIAkSoPWNqTc7/nBzTuJ6nNHlRo1j6zVMiGnjwSUT7zzMVy0i0xEfTS+ames8SyhNOkKVxi9AmpkFJPVFHnqvKM+OcLsvghuYZPi+u0mtV/4diI971eqVFvlHbO+2ZX0tqEtz9s+te9tUF1FiWTyVa2vy4nTuBFbbXhxRt27NXnuTO+UifxijEEV0KXRkTt67ObD7jp6BXiO+Ob6VK5/SJ31EhEbp8B32aeK5FSsVK+ze2FCvWaNKrcPpeuWKTsGL15EkC65lS/b+SAwXqzORSApU1aki+qlxgVlwPlJuzu+OC5rAUwn6qxIp1zZGl1K0iRf72kxnlGOsxdyEctc0bNSpfr6Ju0/s3ciZUCNDB/uo7wgU6f67QZt7+xT7/FVksRzOlYucO74bMaxsvrGtGdubvLoMd8FyR4U4s5cz/Oy8iOeXdU8G6dn1tgXIdv15ynxnookiv5S7Kuss4JYKp2wSWYMSZTjSvl8mb47pi4fzeCzk+4Yp/H2la+f6QXLUFr9nu/zIqVTXogWZyqVPaOwyNVVpQ3VR/SrEpIontsLzuZ7cd64fv1ZHH3nfn4d/z67bKEs+NIQvEvsipk65kjiG/r1xxZ9seKeORxR5/c3qbJyk+4+HX1a+FgYzzx5iXD6HXNuTQxGuYnY13FLJl9zT5gvXeA3MRCXDegpJSdd2hZurRvUMoe87fwCJLFEnijDxTfAT/ptYn1sueV3DqkvzlXxeaV7mfunkdGTZ3gCyCZd34TjTgbijMTNLWq/OstWVNNzGv6wTWsrFcoFvRiPyX7fXGfCl86PerKN7vYsN+BiXUX56lyIOLtiXSievh1Qm89aqUirWtb0jcr7pnXuzLRDiT6ad6TbXdsEDKhS7XaTOvoMmwdfUfabDm2tblFHROsM1MUuw/O9SITUBK3Osthuebq+MZ8yX89kz4EK+Dwek+7VZnZmLZrAcDAZ2fbe4C8erPS5orYi7zJqqRXF1ZNmYh3nlkYZs8ZgyvpLRqg8uNpty9eMCAMvHuOiHhTLjVkwSH/gwFZrtG27w/PZVz4KcLNCOdc9vXNwmbrqXZqQRwLjkqh+u7JGe/o6EAsvM45ZvwXb3213o7du/yu2Y1VEcK3TRoPv3h367/KNkSHwzszzbCC/IAZL+b5qD1tPRFvmF2iELmgbQ+wk6gBMbj4J7r4AAAf4SURBVPvqBdd8+hiSKINLBdxNXWx/3qe6iZTtyOCRX7QZE0QOFlfdID3mzdaW59T9RpLUswh3061n1uL4xTHtr1rnN0U/ydtROgryNNHYZ6uHg5uL8ZL9DZJokQtDyBbxN5ckvnlDLx/ymcRV2v0X7xCOqPuHVapUbtCdw3/T8cmJ+T/85dPYQdTtN/Pk5UzA6es+9V6eTjDyI41ya2AQBhKvduuV7MJnuSE+uF+nteZhSdTOAEl06lc2AMYYcZkR6UxcVl3zrqGXGzyNceUaTnZ53u8BPArvlrelKd+kK38/c2mcUO+ydnHr+r4nrveof9vOuznHymTeK5HJLVOnCf2un0d8Cr3SRpFVbxEEiY333DUIOkDBNvV19MxAGVJfJ5AZO60pu7wNZYCfOm2FLoj2YMIk/lCf+3tzKFxUN76zzvx40nBfvOy4UOjPgXIK79m4uN8NTiX64qbRf5u05RgX5Yl/v9gnMzlzuqZlKvs08uo8pBz2OFf6nfU6PRXBRqrre9lZR6fMMpkLWLhtWJBRyzrps4hp+mJbROXO6aYja0Ee6/nM86yVR1n+y/1M6c40JHGsduVv7dGRcrvkHb6+PkuvFtKEu/tFSikHZxP6UZx/hY7pcZaPIHAAHF5U/A8Heknp9FmTGn85pTEHz/mqpdw8U0q+b1ClIs/tFfTDV9bFKXV4IZODoJ0klLD7tvh/ni2yBtv7nHr3ZMTSlI9LfBjQPkcqFgurKfV3ON812juSdzAmr1rUuM/B1XR9ioFrzP3Sop/kSeJYeSmt3T+iRER65gX3Pg30meSgnJP61sf9HCRxEQmhTyYPSfz1fz/SA95RuvWAXv71rnM/VbYye+cpSGLUhDPTBFycfCeVNbXxMvXgFSBFM9UvfgCUhnqmd6UGVcUZwCPqaIwr13CamDaAhyedvTMoJi5+57fcSbTunAruJH6wQvgX6jC9Phb0NYRv6PeCDGGdyem+0sfuzy1BpDbv78lof/eOVMASbQyESKIyxAo7QxFk0fSFSXillJYR1ImY8K7WsXRx1TgF0uSw0e9e5jNQTqG9y8owOIXbNJifSTsJYzfv+Pen3UkMysoYGHldeab8+0NaurBoxrEy3PUztw1nlrGIaYEE6DIjP0ESy/RC4j2Vuynjng6pcy+7qqJyY40ajwZm/Dj9blNdF1ElQe6Ffkwiia7nSIU42vc+R5fmQE658rJrJgr64SlLng/0zflx8/vZ833a/Fx6elTYc+irlrzyg7Fwr+3goGdPjuXcIHBSV4uwl0jgCow2x4aw9Dkddah5W12BodId2FdnWO/a6T7l7yCJPkKG35baVXXmyUtMwL4BL/ut6AKlJoOCoRpOE0OmiuXkB7vyQStAiibWL25gLy97Gjmnezc9TyhhEjW122MAD++E4DljWK3RdZ5JNFeqeOV1MSwag1O3VwhfZSSUkn975dwjb1H3a1SrVWld3VeVPN+m+gq7XJURYbfOM/yd8nktDhd/Rp1v67T1ve+8aUS+rhHvqXMB/0CaIjbZGKIxn2pcCJRTkKdMZscFf6q0M2M8nQ7HnUmMaMvL1LUMQ+dZFEmM6Wu5u3cn1W86TGPaeeZ51sEjpiy8M6l98Rw6Mh8dAEkEIVxqQqhdTO1PTF4qUmTg8mwMpvMZTBcD15ROX/aoryI8LoZMHzHeH06p/7zvv9IjZAzPkiaUV9nvCd8fekB9X+CjsnR4ltt9uOo+lJz0xDUlV53vpPyCAdZmbG/Msx/xuDajTuR0UMRAUMGhCkdqLrEwdxWyIY/oMQ4kESQRJBEDRvSAkZsEgBtwgw5AB6ADn6QOgCSCJMIe+Ph1ACQRJBEkEUbOJ2nkYIL7+Cc4tDHaGDowHx0ASZwPrtBX4LpIOgCSCJIIkgiSCJIIHYAOQAegA9CBaB0ASQSZWSQyA1nmo48giSCJIIkwDKINAwzE8xmIgStwhQ5AB5ZJB0ASoa/LpK+QdTZ9BUkESQRJBEkESYQOQAegA9AB6EC0DoAkzmZ0g6wAt2XSAZBEkESQRBgG0YbBMg1ukBWTMXQAOgAdmI8OgCTOB1foK3BdJB0ASQRJBEkESQRJhA5AB6AD0AHoQLQOgCSCzCwSmYEs89FHkESQRJBEGAbRhgEG4vkMxMAVuEIHoAPLpAMgidDXZdJXyDqbvoIkgiSCJIIkgiRCB6AD0AHoAHQgWgdAEmczukFWgNsy6QBIIkgiSCIMg2jDYJkGN8iKyRg6AB2ADsxHB0AS54Mr9BW4LpIOgCSCJIIkgiSCJEIHoAPQAegAdCBaB0ASQWYWicxAlvno41KTRBYe/4EBdAA6AB2ADkAHoAPQAegAdAA6AB24Wh2ga/j32TWUiSKBABAAAkAACAABIAAEgAAQAAJAYEERAElc0IaBWEAACAABIAAEgAAQAAJAAAgAgetAACTxOlBHmUAACAABIAAEgAAQAAJAAAgAgQVFACRxQRsGYgEBIAAEgAAQAAJAAAgAASAABK4DAZDE60AdZQIBIAAEgAAQAAJAAAgAASAABBYUAZDEBW0YiAUEgAAQAAJAAAgAASAABIAAELgOBEASrwN1lAkEgAAQAAJAAAgAASAABIAAEFhQBEASF7RhIBYQAAJAAAgAASAABIAAEAACQOA6EABJvA7UUSYQAAJAAAgAASAABIAAEAACQGBBEQBJXNCGgVhAAAgAASAABIAAEAACQAAIAIHrQOD/Mz3p2wmWnkcAAAAASUVORK5CYII=)"
      ]
    },
    {
      "cell_type": "markdown",
      "metadata": {
        "id": "S4odSW56pNCi"
      },
      "source": [
        "![image.png](data:image/png;base64,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)"
      ]
    },
    {
      "cell_type": "markdown",
      "metadata": {
        "id": "5B8u8EY0Ch4V"
      },
      "source": [
        "### 2. 라쏘모델"
      ]
    },
    {
      "cell_type": "code",
      "metadata": {
        "colab": {
          "base_uri": "https://localhost:8080/"
        },
        "id": "kupA_kLwCdpr",
        "outputId": "1550fc91-c981-42c4-95f5-f80893da886c"
      },
      "source": [
        "# 라쏘모델(l1, 여러개의 x변수 중에 영향력이 작은(회귀계수값이 작은) 변수는 취급하지 않겠다.)\n",
        "# 라쏘와 리지모델에서 alpha값은 규제 정도를 나타냄. alpha값을 높이면 규제를 강하게 함.\n",
        "from sklearn.linear_model import Lasso\n",
        "\n",
        "alphaList = [0.1, 1, 10, 100] # 알바 리스트\n",
        "\n",
        "for alphaValue in alphaList:\n",
        "    model_lasso = Lasso(alpha=alphaValue)\n",
        "    model_lasso.fit(x_train,y_train)\n",
        "    print(model_lasso.score(x_train,y_train),model_lasso.score(x_test,y_test))"
      ],
      "execution_count": null,
      "outputs": [
        {
          "output_type": "stream",
          "name": "stdout",
          "text": [
            "0.5676150643415927 0.5365762014209384\n",
            "0.567615064202802 0.536576162556117\n",
            "0.5676150493638871 0.5365790774348259\n",
            "0.5676135662093205 0.5366039678040928\n"
          ]
        }
      ]
    },
    {
      "cell_type": "markdown",
      "metadata": {
        "id": "PvyEYbeEDLaB"
      },
      "source": [
        "### 3. 릿지 모델"
      ]
    },
    {
      "cell_type": "code",
      "metadata": {
        "colab": {
          "base_uri": "https://localhost:8080/"
        },
        "id": "X2uq0ZFXDDZ_",
        "outputId": "5ce288c8-a9fb-4c13-8263-c2b4ab4258f1"
      },
      "source": [
        "# 리지 모델(l2, 여러개의 x변수 중에 영향력이 너무 큰 (회귀계수가 큰 값) 변수의 영향력을 감소시킴)\n",
        "from sklearn.linear_model import Ridge\n",
        "\n",
        "alphaList = [0.1, 1, 10, 100] \n",
        "\n",
        "for alphaValue in alphaList:\n",
        "    model_ridge = Ridge(alpha=alphaValue)\n",
        "    model_ridge.fit(x_train,y_train)\n",
        "    print(model_ridge.score(x_train,y_train),model_ridge.score(x_test,y_test))"
      ],
      "execution_count": null,
      "outputs": [
        {
          "output_type": "stream",
          "name": "stdout",
          "text": [
            "0.567615033175222 0.5365780534201788\n",
            "0.5676121660464679 0.5365924719385908\n",
            "0.5674552229723533 0.5366175807534527\n",
            "0.565565632320681 0.5359588359730016\n"
          ]
        }
      ]
    },
    {
      "cell_type": "markdown",
      "metadata": {
        "id": "Oz4nXylEuSsG"
      },
      "source": [
        "- (참고) 사이킷런 데이터 셋\n",
        "- https://teddylee777.github.io/scikit-learn/Sklearn-dataset-%EB%AA%A8%EB%93%88%EC%9D%84-%ED%99%9C%EC%9A%A9%ED%95%98%EC%97%AC-dataset%EB%A1%9C%EB%94%A9%ED%95%98%EA%B8%B0"
      ]
    },
    {
      "cell_type": "code",
      "metadata": {
        "colab": {
          "base_uri": "https://localhost:8080/"
        },
        "id": "q7gjco9DsCpW",
        "outputId": "dc86d1a0-1282-4020-d15e-cfa018e933b5"
      },
      "source": [
        "from sklearn.datasets import load_boston\n",
        "from sklearn.model_selection import GridSearchCV\n",
        "\n",
        "boston = load_boston()\n",
        "X = boston.data\n",
        "y = boston.target\n",
        "\n",
        "ridge = Ridge()\n",
        "alphas = [0, 1, 10]\n",
        "\n",
        "parameters = {'alpha' : alphas}\n",
        "ridge_reg = GridSearchCV(ridge, parameters, scoring='neg_mean_squared_error', cv=5)\n",
        "ridge_reg.fit(X, y)\n",
        "print(ridge_reg.best_params_)\n",
        "print(ridge_reg.best_score_) # -붙여서 생각하기!"
      ],
      "execution_count": null,
      "outputs": [
        {
          "output_type": "stream",
          "name": "stdout",
          "text": [
            "{'alpha': 10}\n",
            "-33.395224459036605\n"
          ]
        }
      ]
    },
    {
      "cell_type": "markdown",
      "metadata": {
        "id": "LUilvZAwwDfC"
      },
      "source": [
        "- train_test_split()는 간편하게 전체 데이터를 학습/테스트(또는 검증)용 데이터 세트로 분리하는 데 사용\n",
        "\n",
        "- cross_val_score()는 간편하게 교차검증 결과 평가 지표(정확도, 정밀도등)를 반환\n",
        "\n",
        "- GridSearchCV는 교차 검증을 통해 최적 하이퍼 파라미터를 찾아주는 역할"
      ]
    }
  ]
}