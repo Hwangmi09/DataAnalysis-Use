{
  "nbformat": 4,
  "nbformat_minor": 0,
  "metadata": {
    "colab": {
      "name": "06_선형회귀_라쏘_릿지.ipynb",
      "provenance": [],
      "collapsed_sections": []
    },
    "kernelspec": {
      "name": "python3",
      "display_name": "Python 3"
    },
    "language_info": {
      "name": "python"
    }
  },
  "cells": [
    {
      "cell_type": "markdown",
      "metadata": {
        "id": "kTd-IITU8nTT"
      },
      "source": [
        "# 네이버 쇼핑 TV 가격 예측 모델 학습\n",
        "- https://wikidocs.net/39710"
      ]
    },
    {
      "cell_type": "code",
      "metadata": {
        "id": "lsYjD2vd8QAK"
      },
      "source": [
        "import pandas as pd\n",
        "import numpy as np\n",
        "import warnings\n",
        "warnings.filterwarnings('ignore')"
      ],
      "execution_count": 34,
      "outputs": []
    },
    {
      "cell_type": "code",
      "metadata": {
        "id": "fFtAiyG-8TAN"
      },
      "source": [
        "# 데이터 로드\n",
        "train_df = pd.read_excel('https://github.com/cranberryai/todak_todak_python/blob/master/machine_learning/regression/%E1%84%82%E1%85%A6%E1%84%8B%E1%85%B5%E1%84%87%E1%85%A5TV%E1%84%80%E1%85%A1%E1%84%80%E1%85%A7%E1%86%A8_%E1%84%8E%E1%85%AC%E1%84%8C%E1%85%A9%E1%86%BC.xlsx?raw=true', sheet_name='train')\n",
        "test_df = pd.read_excel('https://github.com/cranberryai/todak_todak_python/blob/master/machine_learning/regression/%E1%84%82%E1%85%A6%E1%84%8B%E1%85%B5%E1%84%87%E1%85%A5TV%E1%84%80%E1%85%A1%E1%84%80%E1%85%A7%E1%86%A8_%E1%84%8E%E1%85%AC%E1%84%8C%E1%85%A9%E1%86%BC.xlsx?raw=true', sheet_name='test')"
      ],
      "execution_count": 3,
      "outputs": []
    },
    {
      "cell_type": "markdown",
      "metadata": {
        "id": "ORmjOF6nFLeG"
      },
      "source": [
        "- 데이터 전처리"
      ]
    },
    {
      "cell_type": "code",
      "metadata": {
        "colab": {
          "base_uri": "https://localhost:8080/"
        },
        "id": "BETxrY008ZcF",
        "outputId": "8be07351-7f3f-4024-b624-3b59285cd417"
      },
      "source": [
        "train_df.isna().sum() # 반드시 확인(필수)"
      ],
      "execution_count": 4,
      "outputs": [
        {
          "output_type": "execute_result",
          "data": {
            "text/plain": [
              "ID      0\n",
              "판매가     0\n",
              "화면크기    0\n",
              "형태      0\n",
              "해상도     0\n",
              "화면비율    0\n",
              "LCD     0\n",
              "LED     0\n",
              "OLED    0\n",
              "QLED    0\n",
              "단자      0\n",
              "부가기능    0\n",
              "dtype: int64"
            ]
          },
          "metadata": {},
          "execution_count": 4
        }
      ]
    },
    {
      "cell_type": "code",
      "metadata": {
        "colab": {
          "base_uri": "https://localhost:8080/"
        },
        "id": "pA2lvqw79l02",
        "outputId": "109f666d-b5a6-46c2-9f4c-c3ce063b1c41"
      },
      "source": [
        "train_df.info() # 자료형, null값 유무 확인"
      ],
      "execution_count": 6,
      "outputs": [
        {
          "output_type": "stream",
          "name": "stdout",
          "text": [
            "<class 'pandas.core.frame.DataFrame'>\n",
            "RangeIndex: 7000 entries, 0 to 6999\n",
            "Data columns (total 12 columns):\n",
            " #   Column  Non-Null Count  Dtype\n",
            "---  ------  --------------  -----\n",
            " 0   ID      7000 non-null   int64\n",
            " 1   판매가     7000 non-null   int64\n",
            " 2   화면크기    7000 non-null   int64\n",
            " 3   형태      7000 non-null   int64\n",
            " 4   해상도     7000 non-null   int64\n",
            " 5   화면비율    7000 non-null   int64\n",
            " 6   LCD     7000 non-null   int64\n",
            " 7   LED     7000 non-null   int64\n",
            " 8   OLED    7000 non-null   int64\n",
            " 9   QLED    7000 non-null   int64\n",
            " 10  단자      7000 non-null   int64\n",
            " 11  부가기능    7000 non-null   int64\n",
            "dtypes: int64(12)\n",
            "memory usage: 656.4 KB\n"
          ]
        }
      ]
    },
    {
      "cell_type": "code",
      "metadata": {
        "colab": {
          "base_uri": "https://localhost:8080/",
          "height": 297
        },
        "id": "_4jkGBEs95-I",
        "outputId": "3bdc6831-1bbb-4a8e-9ac3-5fdd8d18f91f"
      },
      "source": [
        "train_df.describe() # 값이 0인 변수들이 있음"
      ],
      "execution_count": 7,
      "outputs": [
        {
          "output_type": "execute_result",
          "data": {
            "text/html": [
              "<div>\n",
              "<style scoped>\n",
              "    .dataframe tbody tr th:only-of-type {\n",
              "        vertical-align: middle;\n",
              "    }\n",
              "\n",
              "    .dataframe tbody tr th {\n",
              "        vertical-align: top;\n",
              "    }\n",
              "\n",
              "    .dataframe thead th {\n",
              "        text-align: right;\n",
              "    }\n",
              "</style>\n",
              "<table border=\"1\" class=\"dataframe\">\n",
              "  <thead>\n",
              "    <tr style=\"text-align: right;\">\n",
              "      <th></th>\n",
              "      <th>ID</th>\n",
              "      <th>판매가</th>\n",
              "      <th>화면크기</th>\n",
              "      <th>형태</th>\n",
              "      <th>해상도</th>\n",
              "      <th>화면비율</th>\n",
              "      <th>LCD</th>\n",
              "      <th>LED</th>\n",
              "      <th>OLED</th>\n",
              "      <th>QLED</th>\n",
              "      <th>단자</th>\n",
              "      <th>부가기능</th>\n",
              "    </tr>\n",
              "  </thead>\n",
              "  <tbody>\n",
              "    <tr>\n",
              "      <th>count</th>\n",
              "      <td>7000.000000</td>\n",
              "      <td>7.000000e+03</td>\n",
              "      <td>7000.000000</td>\n",
              "      <td>7000.000000</td>\n",
              "      <td>7000.000000</td>\n",
              "      <td>7000.000000</td>\n",
              "      <td>7000.000000</td>\n",
              "      <td>7000.000000</td>\n",
              "      <td>7000.000000</td>\n",
              "      <td>7000.000000</td>\n",
              "      <td>7000.000000</td>\n",
              "      <td>7000.000000</td>\n",
              "    </tr>\n",
              "    <tr>\n",
              "      <th>mean</th>\n",
              "      <td>10310.438857</td>\n",
              "      <td>1.686936e+06</td>\n",
              "      <td>53.471000</td>\n",
              "      <td>0.086714</td>\n",
              "      <td>1799.794286</td>\n",
              "      <td>0.523857</td>\n",
              "      <td>0.002571</td>\n",
              "      <td>0.820714</td>\n",
              "      <td>0.031286</td>\n",
              "      <td>0.093429</td>\n",
              "      <td>2.835143</td>\n",
              "      <td>3.120857</td>\n",
              "    </tr>\n",
              "    <tr>\n",
              "      <th>std</th>\n",
              "      <td>6000.106692</td>\n",
              "      <td>1.751524e+06</td>\n",
              "      <td>12.147814</td>\n",
              "      <td>0.281436</td>\n",
              "      <td>559.870133</td>\n",
              "      <td>0.499466</td>\n",
              "      <td>0.050648</td>\n",
              "      <td>0.383619</td>\n",
              "      <td>0.174101</td>\n",
              "      <td>0.291053</td>\n",
              "      <td>1.094072</td>\n",
              "      <td>2.040375</td>\n",
              "    </tr>\n",
              "    <tr>\n",
              "      <th>min</th>\n",
              "      <td>8.000000</td>\n",
              "      <td>1.700000e+04</td>\n",
              "      <td>15.000000</td>\n",
              "      <td>0.000000</td>\n",
              "      <td>720.000000</td>\n",
              "      <td>0.000000</td>\n",
              "      <td>0.000000</td>\n",
              "      <td>0.000000</td>\n",
              "      <td>0.000000</td>\n",
              "      <td>0.000000</td>\n",
              "      <td>0.000000</td>\n",
              "      <td>0.000000</td>\n",
              "    </tr>\n",
              "    <tr>\n",
              "      <th>25%</th>\n",
              "      <td>5102.750000</td>\n",
              "      <td>6.086625e+05</td>\n",
              "      <td>43.000000</td>\n",
              "      <td>0.000000</td>\n",
              "      <td>1080.000000</td>\n",
              "      <td>0.000000</td>\n",
              "      <td>0.000000</td>\n",
              "      <td>1.000000</td>\n",
              "      <td>0.000000</td>\n",
              "      <td>0.000000</td>\n",
              "      <td>2.000000</td>\n",
              "      <td>2.000000</td>\n",
              "    </tr>\n",
              "    <tr>\n",
              "      <th>50%</th>\n",
              "      <td>10211.000000</td>\n",
              "      <td>1.159185e+06</td>\n",
              "      <td>55.000000</td>\n",
              "      <td>0.000000</td>\n",
              "      <td>2160.000000</td>\n",
              "      <td>1.000000</td>\n",
              "      <td>0.000000</td>\n",
              "      <td>1.000000</td>\n",
              "      <td>0.000000</td>\n",
              "      <td>0.000000</td>\n",
              "      <td>2.000000</td>\n",
              "      <td>3.000000</td>\n",
              "    </tr>\n",
              "    <tr>\n",
              "      <th>75%</th>\n",
              "      <td>15517.000000</td>\n",
              "      <td>2.147532e+06</td>\n",
              "      <td>65.000000</td>\n",
              "      <td>0.000000</td>\n",
              "      <td>2160.000000</td>\n",
              "      <td>1.000000</td>\n",
              "      <td>0.000000</td>\n",
              "      <td>1.000000</td>\n",
              "      <td>0.000000</td>\n",
              "      <td>0.000000</td>\n",
              "      <td>4.000000</td>\n",
              "      <td>5.000000</td>\n",
              "    </tr>\n",
              "    <tr>\n",
              "      <th>max</th>\n",
              "      <td>20676.000000</td>\n",
              "      <td>2.940000e+07</td>\n",
              "      <td>80.000000</td>\n",
              "      <td>1.000000</td>\n",
              "      <td>2160.000000</td>\n",
              "      <td>1.000000</td>\n",
              "      <td>1.000000</td>\n",
              "      <td>1.000000</td>\n",
              "      <td>1.000000</td>\n",
              "      <td>1.000000</td>\n",
              "      <td>6.000000</td>\n",
              "      <td>8.000000</td>\n",
              "    </tr>\n",
              "  </tbody>\n",
              "</table>\n",
              "</div>"
            ],
            "text/plain": [
              "                 ID           판매가  ...           단자         부가기능\n",
              "count   7000.000000  7.000000e+03  ...  7000.000000  7000.000000\n",
              "mean   10310.438857  1.686936e+06  ...     2.835143     3.120857\n",
              "std     6000.106692  1.751524e+06  ...     1.094072     2.040375\n",
              "min        8.000000  1.700000e+04  ...     0.000000     0.000000\n",
              "25%     5102.750000  6.086625e+05  ...     2.000000     2.000000\n",
              "50%    10211.000000  1.159185e+06  ...     2.000000     3.000000\n",
              "75%    15517.000000  2.147532e+06  ...     4.000000     5.000000\n",
              "max    20676.000000  2.940000e+07  ...     6.000000     8.000000\n",
              "\n",
              "[8 rows x 12 columns]"
            ]
          },
          "metadata": {},
          "execution_count": 7
        }
      ]
    },
    {
      "cell_type": "code",
      "metadata": {
        "colab": {
          "base_uri": "https://localhost:8080/",
          "height": 419
        },
        "id": "L0iKielG-GQE",
        "outputId": "5c2aacf3-4320-45da-b597-a185e01450dd"
      },
      "source": [
        "# LCD, LED, OLED, QLED는 일종의 더미변수\n",
        "train_df[(train_df['LCD']==0)]"
      ],
      "execution_count": 8,
      "outputs": [
        {
          "output_type": "execute_result",
          "data": {
            "text/html": [
              "<div>\n",
              "<style scoped>\n",
              "    .dataframe tbody tr th:only-of-type {\n",
              "        vertical-align: middle;\n",
              "    }\n",
              "\n",
              "    .dataframe tbody tr th {\n",
              "        vertical-align: top;\n",
              "    }\n",
              "\n",
              "    .dataframe thead th {\n",
              "        text-align: right;\n",
              "    }\n",
              "</style>\n",
              "<table border=\"1\" class=\"dataframe\">\n",
              "  <thead>\n",
              "    <tr style=\"text-align: right;\">\n",
              "      <th></th>\n",
              "      <th>ID</th>\n",
              "      <th>판매가</th>\n",
              "      <th>화면크기</th>\n",
              "      <th>형태</th>\n",
              "      <th>해상도</th>\n",
              "      <th>화면비율</th>\n",
              "      <th>LCD</th>\n",
              "      <th>LED</th>\n",
              "      <th>OLED</th>\n",
              "      <th>QLED</th>\n",
              "      <th>단자</th>\n",
              "      <th>부가기능</th>\n",
              "    </tr>\n",
              "  </thead>\n",
              "  <tbody>\n",
              "    <tr>\n",
              "      <th>0</th>\n",
              "      <td>8</td>\n",
              "      <td>396240</td>\n",
              "      <td>55</td>\n",
              "      <td>0</td>\n",
              "      <td>2160</td>\n",
              "      <td>1</td>\n",
              "      <td>0</td>\n",
              "      <td>1</td>\n",
              "      <td>0</td>\n",
              "      <td>0</td>\n",
              "      <td>3</td>\n",
              "      <td>1</td>\n",
              "    </tr>\n",
              "    <tr>\n",
              "      <th>1</th>\n",
              "      <td>9</td>\n",
              "      <td>412870</td>\n",
              "      <td>55</td>\n",
              "      <td>0</td>\n",
              "      <td>2160</td>\n",
              "      <td>1</td>\n",
              "      <td>0</td>\n",
              "      <td>1</td>\n",
              "      <td>0</td>\n",
              "      <td>0</td>\n",
              "      <td>3</td>\n",
              "      <td>1</td>\n",
              "    </tr>\n",
              "    <tr>\n",
              "      <th>2</th>\n",
              "      <td>10</td>\n",
              "      <td>414590</td>\n",
              "      <td>55</td>\n",
              "      <td>0</td>\n",
              "      <td>2160</td>\n",
              "      <td>1</td>\n",
              "      <td>0</td>\n",
              "      <td>1</td>\n",
              "      <td>0</td>\n",
              "      <td>0</td>\n",
              "      <td>3</td>\n",
              "      <td>1</td>\n",
              "    </tr>\n",
              "    <tr>\n",
              "      <th>3</th>\n",
              "      <td>14</td>\n",
              "      <td>418000</td>\n",
              "      <td>55</td>\n",
              "      <td>0</td>\n",
              "      <td>2160</td>\n",
              "      <td>1</td>\n",
              "      <td>0</td>\n",
              "      <td>1</td>\n",
              "      <td>0</td>\n",
              "      <td>0</td>\n",
              "      <td>3</td>\n",
              "      <td>1</td>\n",
              "    </tr>\n",
              "    <tr>\n",
              "      <th>4</th>\n",
              "      <td>15</td>\n",
              "      <td>419000</td>\n",
              "      <td>55</td>\n",
              "      <td>0</td>\n",
              "      <td>2160</td>\n",
              "      <td>1</td>\n",
              "      <td>0</td>\n",
              "      <td>1</td>\n",
              "      <td>0</td>\n",
              "      <td>0</td>\n",
              "      <td>3</td>\n",
              "      <td>1</td>\n",
              "    </tr>\n",
              "    <tr>\n",
              "      <th>...</th>\n",
              "      <td>...</td>\n",
              "      <td>...</td>\n",
              "      <td>...</td>\n",
              "      <td>...</td>\n",
              "      <td>...</td>\n",
              "      <td>...</td>\n",
              "      <td>...</td>\n",
              "      <td>...</td>\n",
              "      <td>...</td>\n",
              "      <td>...</td>\n",
              "      <td>...</td>\n",
              "      <td>...</td>\n",
              "    </tr>\n",
              "    <tr>\n",
              "      <th>6995</th>\n",
              "      <td>20670</td>\n",
              "      <td>1271670</td>\n",
              "      <td>49</td>\n",
              "      <td>0</td>\n",
              "      <td>1080</td>\n",
              "      <td>1</td>\n",
              "      <td>0</td>\n",
              "      <td>1</td>\n",
              "      <td>0</td>\n",
              "      <td>0</td>\n",
              "      <td>2</td>\n",
              "      <td>6</td>\n",
              "    </tr>\n",
              "    <tr>\n",
              "      <th>6996</th>\n",
              "      <td>20672</td>\n",
              "      <td>1441670</td>\n",
              "      <td>49</td>\n",
              "      <td>0</td>\n",
              "      <td>1080</td>\n",
              "      <td>1</td>\n",
              "      <td>0</td>\n",
              "      <td>1</td>\n",
              "      <td>0</td>\n",
              "      <td>0</td>\n",
              "      <td>2</td>\n",
              "      <td>6</td>\n",
              "    </tr>\n",
              "    <tr>\n",
              "      <th>6997</th>\n",
              "      <td>20673</td>\n",
              "      <td>1441680</td>\n",
              "      <td>49</td>\n",
              "      <td>0</td>\n",
              "      <td>1080</td>\n",
              "      <td>1</td>\n",
              "      <td>0</td>\n",
              "      <td>1</td>\n",
              "      <td>0</td>\n",
              "      <td>0</td>\n",
              "      <td>2</td>\n",
              "      <td>6</td>\n",
              "    </tr>\n",
              "    <tr>\n",
              "      <th>6998</th>\n",
              "      <td>20675</td>\n",
              "      <td>1571400</td>\n",
              "      <td>49</td>\n",
              "      <td>0</td>\n",
              "      <td>1080</td>\n",
              "      <td>1</td>\n",
              "      <td>0</td>\n",
              "      <td>1</td>\n",
              "      <td>0</td>\n",
              "      <td>0</td>\n",
              "      <td>2</td>\n",
              "      <td>6</td>\n",
              "    </tr>\n",
              "    <tr>\n",
              "      <th>6999</th>\n",
              "      <td>20676</td>\n",
              "      <td>2894380</td>\n",
              "      <td>49</td>\n",
              "      <td>0</td>\n",
              "      <td>1080</td>\n",
              "      <td>1</td>\n",
              "      <td>0</td>\n",
              "      <td>1</td>\n",
              "      <td>0</td>\n",
              "      <td>0</td>\n",
              "      <td>2</td>\n",
              "      <td>6</td>\n",
              "    </tr>\n",
              "  </tbody>\n",
              "</table>\n",
              "<p>6982 rows × 12 columns</p>\n",
              "</div>"
            ],
            "text/plain": [
              "         ID      판매가  화면크기  형태   해상도  화면비율  LCD  LED  OLED  QLED  단자  부가기능\n",
              "0         8   396240    55   0  2160     1    0    1     0     0   3     1\n",
              "1         9   412870    55   0  2160     1    0    1     0     0   3     1\n",
              "2        10   414590    55   0  2160     1    0    1     0     0   3     1\n",
              "3        14   418000    55   0  2160     1    0    1     0     0   3     1\n",
              "4        15   419000    55   0  2160     1    0    1     0     0   3     1\n",
              "...     ...      ...   ...  ..   ...   ...  ...  ...   ...   ...  ..   ...\n",
              "6995  20670  1271670    49   0  1080     1    0    1     0     0   2     6\n",
              "6996  20672  1441670    49   0  1080     1    0    1     0     0   2     6\n",
              "6997  20673  1441680    49   0  1080     1    0    1     0     0   2     6\n",
              "6998  20675  1571400    49   0  1080     1    0    1     0     0   2     6\n",
              "6999  20676  2894380    49   0  1080     1    0    1     0     0   2     6\n",
              "\n",
              "[6982 rows x 12 columns]"
            ]
          },
          "metadata": {},
          "execution_count": 8
        }
      ]
    },
    {
      "cell_type": "code",
      "metadata": {
        "colab": {
          "base_uri": "https://localhost:8080/"
        },
        "id": "o4JfoVQE-drS",
        "outputId": "4f7b80fb-fba8-479a-8a33-51b0dc4d6028"
      },
      "source": [
        "# LCD, LED, OLED, QLED의 정보가 없는(모든 값이 0) 자료들을 제거해야 함\n",
        "train_df[(train_df['LCD']==0) & (train_df['LED']==0) & (train_df['OLED']==0) & (train_df['QLED']==0)]\n",
        "print((len(train_df[(train_df['LCD']==0) & (train_df['LED']==0) & (train_df['OLED']==0) & (train_df['QLED']==0)]))/len(train_df)*100)\n",
        "print((len(test_df[(test_df['LCD']==0) & (test_df['LED']==0) & (test_df['OLED']==0) & (test_df['QLED']==0)]))/len(test_df)*100)"
      ],
      "execution_count": 13,
      "outputs": [
        {
          "output_type": "stream",
          "name": "stdout",
          "text": [
            "5.2\n",
            "6.133333333333333\n"
          ]
        }
      ]
    },
    {
      "cell_type": "code",
      "metadata": {
        "id": "eXQ7Zype8sR1"
      },
      "source": [
        "# 더미변수 모든 값이 0인 자료들 제거\n",
        "search_df = train_df[(train_df['LCD']==0) & (train_df['LED']==0) & (train_df['OLED']==0) & (train_df['QLED']==0)]\n",
        "train_df = train_df.drop(search_df.index, axis=0)\n",
        "search_df = test_df[(test_df['LCD']==0) & (test_df['LED']==0) & (test_df['OLED']==0) & (test_df['QLED']==0)]\n",
        "test_df = test_df.drop(search_df.index, axis=0)"
      ],
      "execution_count": 14,
      "outputs": []
    },
    {
      "cell_type": "code",
      "metadata": {
        "colab": {
          "base_uri": "https://localhost:8080/"
        },
        "id": "2gapslNR_8JF",
        "outputId": "1785a1a1-17ab-4c8f-ab9e-85c3913175f8"
      },
      "source": [
        "train_df.info()"
      ],
      "execution_count": 15,
      "outputs": [
        {
          "output_type": "stream",
          "name": "stdout",
          "text": [
            "<class 'pandas.core.frame.DataFrame'>\n",
            "Int64Index: 6636 entries, 0 to 6999\n",
            "Data columns (total 12 columns):\n",
            " #   Column  Non-Null Count  Dtype\n",
            "---  ------  --------------  -----\n",
            " 0   ID      6636 non-null   int64\n",
            " 1   판매가     6636 non-null   int64\n",
            " 2   화면크기    6636 non-null   int64\n",
            " 3   형태      6636 non-null   int64\n",
            " 4   해상도     6636 non-null   int64\n",
            " 5   화면비율    6636 non-null   int64\n",
            " 6   LCD     6636 non-null   int64\n",
            " 7   LED     6636 non-null   int64\n",
            " 8   OLED    6636 non-null   int64\n",
            " 9   QLED    6636 non-null   int64\n",
            " 10  단자      6636 non-null   int64\n",
            " 11  부가기능    6636 non-null   int64\n",
            "dtypes: int64(12)\n",
            "memory usage: 674.0 KB\n"
          ]
        }
      ]
    },
    {
      "cell_type": "code",
      "metadata": {
        "colab": {
          "base_uri": "https://localhost:8080/",
          "height": 297
        },
        "id": "SwmIHc7ZJK9s",
        "outputId": "76a4be09-c4b6-4d5b-c304-e024ef57dc0f"
      },
      "source": [
        "train_df.describe()"
      ],
      "execution_count": 37,
      "outputs": [
        {
          "output_type": "execute_result",
          "data": {
            "text/html": [
              "<div>\n",
              "<style scoped>\n",
              "    .dataframe tbody tr th:only-of-type {\n",
              "        vertical-align: middle;\n",
              "    }\n",
              "\n",
              "    .dataframe tbody tr th {\n",
              "        vertical-align: top;\n",
              "    }\n",
              "\n",
              "    .dataframe thead th {\n",
              "        text-align: right;\n",
              "    }\n",
              "</style>\n",
              "<table border=\"1\" class=\"dataframe\">\n",
              "  <thead>\n",
              "    <tr style=\"text-align: right;\">\n",
              "      <th></th>\n",
              "      <th>ID</th>\n",
              "      <th>판매가</th>\n",
              "      <th>화면크기</th>\n",
              "      <th>형태</th>\n",
              "      <th>해상도</th>\n",
              "      <th>화면비율</th>\n",
              "      <th>LCD</th>\n",
              "      <th>LED</th>\n",
              "      <th>OLED</th>\n",
              "      <th>QLED</th>\n",
              "      <th>단자</th>\n",
              "      <th>부가기능</th>\n",
              "    </tr>\n",
              "  </thead>\n",
              "  <tbody>\n",
              "    <tr>\n",
              "      <th>count</th>\n",
              "      <td>6636.000000</td>\n",
              "      <td>6.636000e+03</td>\n",
              "      <td>6636.000000</td>\n",
              "      <td>6636.000000</td>\n",
              "      <td>6636.000000</td>\n",
              "      <td>6636.000000</td>\n",
              "      <td>6636.000000</td>\n",
              "      <td>6636.000000</td>\n",
              "      <td>6636.000000</td>\n",
              "      <td>6636.000000</td>\n",
              "      <td>6636.000000</td>\n",
              "      <td>6636.000000</td>\n",
              "    </tr>\n",
              "    <tr>\n",
              "      <th>mean</th>\n",
              "      <td>10245.510699</td>\n",
              "      <td>1.649448e+06</td>\n",
              "      <td>53.151296</td>\n",
              "      <td>0.091471</td>\n",
              "      <td>1780.524412</td>\n",
              "      <td>0.523207</td>\n",
              "      <td>0.002712</td>\n",
              "      <td>0.865732</td>\n",
              "      <td>0.033002</td>\n",
              "      <td>0.098553</td>\n",
              "      <td>2.876130</td>\n",
              "      <td>3.137131</td>\n",
              "    </tr>\n",
              "    <tr>\n",
              "      <th>std</th>\n",
              "      <td>6004.202821</td>\n",
              "      <td>1.712329e+06</td>\n",
              "      <td>12.104532</td>\n",
              "      <td>0.288299</td>\n",
              "      <td>568.318422</td>\n",
              "      <td>0.499499</td>\n",
              "      <td>0.052015</td>\n",
              "      <td>0.340965</td>\n",
              "      <td>0.178655</td>\n",
              "      <td>0.298084</td>\n",
              "      <td>1.102862</td>\n",
              "      <td>2.054906</td>\n",
              "    </tr>\n",
              "    <tr>\n",
              "      <th>min</th>\n",
              "      <td>8.000000</td>\n",
              "      <td>1.700000e+04</td>\n",
              "      <td>15.000000</td>\n",
              "      <td>0.000000</td>\n",
              "      <td>720.000000</td>\n",
              "      <td>0.000000</td>\n",
              "      <td>0.000000</td>\n",
              "      <td>0.000000</td>\n",
              "      <td>0.000000</td>\n",
              "      <td>0.000000</td>\n",
              "      <td>0.000000</td>\n",
              "      <td>0.000000</td>\n",
              "    </tr>\n",
              "    <tr>\n",
              "      <th>25%</th>\n",
              "      <td>4987.500000</td>\n",
              "      <td>5.913075e+05</td>\n",
              "      <td>43.000000</td>\n",
              "      <td>0.000000</td>\n",
              "      <td>1080.000000</td>\n",
              "      <td>0.000000</td>\n",
              "      <td>0.000000</td>\n",
              "      <td>1.000000</td>\n",
              "      <td>0.000000</td>\n",
              "      <td>0.000000</td>\n",
              "      <td>2.000000</td>\n",
              "      <td>2.000000</td>\n",
              "    </tr>\n",
              "    <tr>\n",
              "      <th>50%</th>\n",
              "      <td>10118.500000</td>\n",
              "      <td>1.132270e+06</td>\n",
              "      <td>55.000000</td>\n",
              "      <td>0.000000</td>\n",
              "      <td>2160.000000</td>\n",
              "      <td>1.000000</td>\n",
              "      <td>0.000000</td>\n",
              "      <td>1.000000</td>\n",
              "      <td>0.000000</td>\n",
              "      <td>0.000000</td>\n",
              "      <td>2.000000</td>\n",
              "      <td>3.000000</td>\n",
              "    </tr>\n",
              "    <tr>\n",
              "      <th>75%</th>\n",
              "      <td>15446.500000</td>\n",
              "      <td>2.157762e+06</td>\n",
              "      <td>65.000000</td>\n",
              "      <td>0.000000</td>\n",
              "      <td>2160.000000</td>\n",
              "      <td>1.000000</td>\n",
              "      <td>0.000000</td>\n",
              "      <td>1.000000</td>\n",
              "      <td>0.000000</td>\n",
              "      <td>0.000000</td>\n",
              "      <td>4.000000</td>\n",
              "      <td>5.000000</td>\n",
              "    </tr>\n",
              "    <tr>\n",
              "      <th>max</th>\n",
              "      <td>20676.000000</td>\n",
              "      <td>2.940000e+07</td>\n",
              "      <td>80.000000</td>\n",
              "      <td>1.000000</td>\n",
              "      <td>2160.000000</td>\n",
              "      <td>1.000000</td>\n",
              "      <td>1.000000</td>\n",
              "      <td>1.000000</td>\n",
              "      <td>1.000000</td>\n",
              "      <td>1.000000</td>\n",
              "      <td>6.000000</td>\n",
              "      <td>8.000000</td>\n",
              "    </tr>\n",
              "  </tbody>\n",
              "</table>\n",
              "</div>"
            ],
            "text/plain": [
              "                 ID           판매가  ...           단자         부가기능\n",
              "count   6636.000000  6.636000e+03  ...  6636.000000  6636.000000\n",
              "mean   10245.510699  1.649448e+06  ...     2.876130     3.137131\n",
              "std     6004.202821  1.712329e+06  ...     1.102862     2.054906\n",
              "min        8.000000  1.700000e+04  ...     0.000000     0.000000\n",
              "25%     4987.500000  5.913075e+05  ...     2.000000     2.000000\n",
              "50%    10118.500000  1.132270e+06  ...     2.000000     3.000000\n",
              "75%    15446.500000  2.157762e+06  ...     4.000000     5.000000\n",
              "max    20676.000000  2.940000e+07  ...     6.000000     8.000000\n",
              "\n",
              "[8 rows x 12 columns]"
            ]
          },
          "metadata": {},
          "execution_count": 37
        }
      ]
    },
    {
      "cell_type": "code",
      "metadata": {
        "colab": {
          "base_uri": "https://localhost:8080/"
        },
        "id": "Y8cjU6kGPHE4",
        "outputId": "8b3f2328-5354-455e-cc61-a19d9a03a988"
      },
      "source": [
        "# 해상도의 50sms 2160 값을 갖음!\n",
        "# 편차가 큰 변수(해상도)에서 적은 범위에 해당하는 데이터 구간을 제거할지 말지 고려해야 함.\n",
        "len(train_df[train_df['해상도']<900])"
      ],
      "execution_count": 45,
      "outputs": [
        {
          "output_type": "execute_result",
          "data": {
            "text/plain": [
              "731"
            ]
          },
          "metadata": {},
          "execution_count": 45
        }
      ]
    },
    {
      "cell_type": "code",
      "metadata": {
        "colab": {
          "base_uri": "https://localhost:8080/",
          "height": 421
        },
        "id": "0I55PWsLP0Ei",
        "outputId": "09154406-e4fe-4f18-b0ca-f36bab142272"
      },
      "source": [
        "train_df.corr()"
      ],
      "execution_count": 46,
      "outputs": [
        {
          "output_type": "execute_result",
          "data": {
            "text/html": [
              "<div>\n",
              "<style scoped>\n",
              "    .dataframe tbody tr th:only-of-type {\n",
              "        vertical-align: middle;\n",
              "    }\n",
              "\n",
              "    .dataframe tbody tr th {\n",
              "        vertical-align: top;\n",
              "    }\n",
              "\n",
              "    .dataframe thead th {\n",
              "        text-align: right;\n",
              "    }\n",
              "</style>\n",
              "<table border=\"1\" class=\"dataframe\">\n",
              "  <thead>\n",
              "    <tr style=\"text-align: right;\">\n",
              "      <th></th>\n",
              "      <th>ID</th>\n",
              "      <th>판매가</th>\n",
              "      <th>화면크기</th>\n",
              "      <th>형태</th>\n",
              "      <th>해상도</th>\n",
              "      <th>화면비율</th>\n",
              "      <th>LCD</th>\n",
              "      <th>LED</th>\n",
              "      <th>OLED</th>\n",
              "      <th>QLED</th>\n",
              "      <th>단자</th>\n",
              "      <th>부가기능</th>\n",
              "    </tr>\n",
              "  </thead>\n",
              "  <tbody>\n",
              "    <tr>\n",
              "      <th>ID</th>\n",
              "      <td>1.000000</td>\n",
              "      <td>0.209871</td>\n",
              "      <td>0.059389</td>\n",
              "      <td>0.114880</td>\n",
              "      <td>-0.029099</td>\n",
              "      <td>0.120977</td>\n",
              "      <td>0.025500</td>\n",
              "      <td>-0.111327</td>\n",
              "      <td>0.122795</td>\n",
              "      <td>0.049296</td>\n",
              "      <td>0.002121</td>\n",
              "      <td>0.244514</td>\n",
              "    </tr>\n",
              "    <tr>\n",
              "      <th>판매가</th>\n",
              "      <td>0.209871</td>\n",
              "      <td>1.000000</td>\n",
              "      <td>0.634457</td>\n",
              "      <td>0.052178</td>\n",
              "      <td>0.370425</td>\n",
              "      <td>-0.150205</td>\n",
              "      <td>-0.008157</td>\n",
              "      <td>-0.487213</td>\n",
              "      <td>0.239198</td>\n",
              "      <td>0.415364</td>\n",
              "      <td>-0.214304</td>\n",
              "      <td>0.371879</td>\n",
              "    </tr>\n",
              "    <tr>\n",
              "      <th>화면크기</th>\n",
              "      <td>0.059389</td>\n",
              "      <td>0.634457</td>\n",
              "      <td>1.000000</td>\n",
              "      <td>0.111088</td>\n",
              "      <td>0.686708</td>\n",
              "      <td>-0.078878</td>\n",
              "      <td>0.007966</td>\n",
              "      <td>-0.263554</td>\n",
              "      <td>0.094148</td>\n",
              "      <td>0.243651</td>\n",
              "      <td>-0.156203</td>\n",
              "      <td>0.387837</td>\n",
              "    </tr>\n",
              "    <tr>\n",
              "      <th>형태</th>\n",
              "      <td>0.114880</td>\n",
              "      <td>0.052178</td>\n",
              "      <td>0.111088</td>\n",
              "      <td>1.000000</td>\n",
              "      <td>0.135387</td>\n",
              "      <td>-0.045618</td>\n",
              "      <td>-0.016548</td>\n",
              "      <td>-0.023764</td>\n",
              "      <td>-0.032282</td>\n",
              "      <td>0.049418</td>\n",
              "      <td>-0.067695</td>\n",
              "      <td>0.139098</td>\n",
              "    </tr>\n",
              "    <tr>\n",
              "      <th>해상도</th>\n",
              "      <td>-0.029099</td>\n",
              "      <td>0.370425</td>\n",
              "      <td>0.686708</td>\n",
              "      <td>0.135387</td>\n",
              "      <td>1.000000</td>\n",
              "      <td>-0.112418</td>\n",
              "      <td>-0.064289</td>\n",
              "      <td>-0.228817</td>\n",
              "      <td>0.087024</td>\n",
              "      <td>0.220796</td>\n",
              "      <td>-0.276793</td>\n",
              "      <td>0.347716</td>\n",
              "    </tr>\n",
              "    <tr>\n",
              "      <th>화면비율</th>\n",
              "      <td>0.120977</td>\n",
              "      <td>-0.150205</td>\n",
              "      <td>-0.078878</td>\n",
              "      <td>-0.045618</td>\n",
              "      <td>-0.112418</td>\n",
              "      <td>1.000000</td>\n",
              "      <td>-0.054632</td>\n",
              "      <td>0.184225</td>\n",
              "      <td>-0.024628</td>\n",
              "      <td>-0.186433</td>\n",
              "      <td>0.298510</td>\n",
              "      <td>0.309073</td>\n",
              "    </tr>\n",
              "    <tr>\n",
              "      <th>LCD</th>\n",
              "      <td>0.025500</td>\n",
              "      <td>-0.008157</td>\n",
              "      <td>0.007966</td>\n",
              "      <td>-0.016548</td>\n",
              "      <td>-0.064289</td>\n",
              "      <td>-0.054632</td>\n",
              "      <td>1.000000</td>\n",
              "      <td>-0.132428</td>\n",
              "      <td>-0.009634</td>\n",
              "      <td>-0.017244</td>\n",
              "      <td>0.053150</td>\n",
              "      <td>-0.079624</td>\n",
              "    </tr>\n",
              "    <tr>\n",
              "      <th>LED</th>\n",
              "      <td>-0.111327</td>\n",
              "      <td>-0.487213</td>\n",
              "      <td>-0.263554</td>\n",
              "      <td>-0.023764</td>\n",
              "      <td>-0.228817</td>\n",
              "      <td>0.184225</td>\n",
              "      <td>-0.132428</td>\n",
              "      <td>1.000000</td>\n",
              "      <td>-0.469097</td>\n",
              "      <td>-0.839599</td>\n",
              "      <td>0.277607</td>\n",
              "      <td>-0.152042</td>\n",
              "    </tr>\n",
              "    <tr>\n",
              "      <th>OLED</th>\n",
              "      <td>0.122795</td>\n",
              "      <td>0.239198</td>\n",
              "      <td>0.094148</td>\n",
              "      <td>-0.032282</td>\n",
              "      <td>0.087024</td>\n",
              "      <td>-0.024628</td>\n",
              "      <td>-0.009634</td>\n",
              "      <td>-0.469097</td>\n",
              "      <td>1.000000</td>\n",
              "      <td>-0.061083</td>\n",
              "      <td>-0.103933</td>\n",
              "      <td>0.072242</td>\n",
              "    </tr>\n",
              "    <tr>\n",
              "      <th>QLED</th>\n",
              "      <td>0.049296</td>\n",
              "      <td>0.415364</td>\n",
              "      <td>0.243651</td>\n",
              "      <td>0.049418</td>\n",
              "      <td>0.220796</td>\n",
              "      <td>-0.186433</td>\n",
              "      <td>-0.017244</td>\n",
              "      <td>-0.839599</td>\n",
              "      <td>-0.061083</td>\n",
              "      <td>1.000000</td>\n",
              "      <td>-0.264525</td>\n",
              "      <td>0.144511</td>\n",
              "    </tr>\n",
              "    <tr>\n",
              "      <th>단자</th>\n",
              "      <td>0.002121</td>\n",
              "      <td>-0.214304</td>\n",
              "      <td>-0.156203</td>\n",
              "      <td>-0.067695</td>\n",
              "      <td>-0.276793</td>\n",
              "      <td>0.298510</td>\n",
              "      <td>0.053150</td>\n",
              "      <td>0.277607</td>\n",
              "      <td>-0.103933</td>\n",
              "      <td>-0.264525</td>\n",
              "      <td>1.000000</td>\n",
              "      <td>0.124277</td>\n",
              "    </tr>\n",
              "    <tr>\n",
              "      <th>부가기능</th>\n",
              "      <td>0.244514</td>\n",
              "      <td>0.371879</td>\n",
              "      <td>0.387837</td>\n",
              "      <td>0.139098</td>\n",
              "      <td>0.347716</td>\n",
              "      <td>0.309073</td>\n",
              "      <td>-0.079624</td>\n",
              "      <td>-0.152042</td>\n",
              "      <td>0.072242</td>\n",
              "      <td>0.144511</td>\n",
              "      <td>0.124277</td>\n",
              "      <td>1.000000</td>\n",
              "    </tr>\n",
              "  </tbody>\n",
              "</table>\n",
              "</div>"
            ],
            "text/plain": [
              "            ID       판매가      화면크기  ...      QLED        단자      부가기능\n",
              "ID    1.000000  0.209871  0.059389  ...  0.049296  0.002121  0.244514\n",
              "판매가   0.209871  1.000000  0.634457  ...  0.415364 -0.214304  0.371879\n",
              "화면크기  0.059389  0.634457  1.000000  ...  0.243651 -0.156203  0.387837\n",
              "형태    0.114880  0.052178  0.111088  ...  0.049418 -0.067695  0.139098\n",
              "해상도  -0.029099  0.370425  0.686708  ...  0.220796 -0.276793  0.347716\n",
              "화면비율  0.120977 -0.150205 -0.078878  ... -0.186433  0.298510  0.309073\n",
              "LCD   0.025500 -0.008157  0.007966  ... -0.017244  0.053150 -0.079624\n",
              "LED  -0.111327 -0.487213 -0.263554  ... -0.839599  0.277607 -0.152042\n",
              "OLED  0.122795  0.239198  0.094148  ... -0.061083 -0.103933  0.072242\n",
              "QLED  0.049296  0.415364  0.243651  ...  1.000000 -0.264525  0.144511\n",
              "단자    0.002121 -0.214304 -0.156203  ... -0.264525  1.000000  0.124277\n",
              "부가기능  0.244514  0.371879  0.387837  ...  0.144511  0.124277  1.000000\n",
              "\n",
              "[12 rows x 12 columns]"
            ]
          },
          "metadata": {},
          "execution_count": 46
        }
      ]
    },
    {
      "cell_type": "markdown",
      "metadata": {
        "id": "aQJWrf5sOzyP"
      },
      "source": [
        "- 추가적으로 데이터 전처리를 할 때 해야할 것\n",
        "    - y값 판매가와의 각 x 변수들끼리의 연관도(corr)\n",
        "    - . 이상치 확인해서 제거\n",
        "    - 다중공성선 확인(VIF(분산팽창인자), x값들끼리의 연관도가 높으면 그 중 하나의 변수는 제거)\n",
        "    - 데이터 스케일링(데이터값을 일정한 범위로 맞춤, 정규화)"
      ]
    },
    {
      "cell_type": "code",
      "metadata": {
        "id": "9zXiXuox_-Gu"
      },
      "source": [
        "x_train = train_df.drop(['ID', '판매가'], axis=1) # ID는 x변수에 해당되지 않음. 판매가는 Y값으로 할 것임.\n",
        "x_test = test_df.drop(['ID', '판매가'], axis=1)\n",
        "y_train = train_df['판매가']\n",
        "y_test = test_df['판매가']"
      ],
      "execution_count": 16,
      "outputs": []
    },
    {
      "cell_type": "code",
      "metadata": {
        "colab": {
          "base_uri": "https://localhost:8080/"
        },
        "id": "dz9UNc1AAH_U",
        "outputId": "cd9e9fd5-8e8e-4585-cfcf-0cde1df9de59"
      },
      "source": [
        "# x값과 y값의 행의 개수가 무조건 맞아야 함!\n",
        "# train값과 test값은 열 개수가 무조건 맞아야 함!\n",
        "\n",
        "print(x_train.shape, y_train.shape) \n",
        "print(x_test.shape, y_test.shape) \n",
        "\n",
        "# x의 shape (6636,10)는 모델식에 입력되는 10개의 x변수가 있음.\n",
        "# 딥러닝에서는 입력 x의 개수를 사용자가 직접 설정해야하는데 컴퓨터가 계산하는 shape과 다르면 에러나옴!\n",
        "# 10을 입력하거나 x_train.shape[1] 입력\n",
        "x_train.shape[1]"
      ],
      "execution_count": 20,
      "outputs": [
        {
          "output_type": "stream",
          "name": "stdout",
          "text": [
            "(6636, 10) (6636,)\n",
            "(2816, 10) (2816,)\n"
          ]
        },
        {
          "output_type": "execute_result",
          "data": {
            "text/plain": [
              "10"
            ]
          },
          "metadata": {},
          "execution_count": 20
        }
      ]
    },
    {
      "cell_type": "code",
      "metadata": {
        "colab": {
          "base_uri": "https://localhost:8080/"
        },
        "id": "JPa85KdNAdy7",
        "outputId": "9e0128d0-e662-4cd2-9289-64c1c392acac"
      },
      "source": [
        "type(x_train)"
      ],
      "execution_count": 21,
      "outputs": [
        {
          "output_type": "execute_result",
          "data": {
            "text/plain": [
              "pandas.core.frame.DataFrame"
            ]
          },
          "metadata": {},
          "execution_count": 21
        }
      ]
    },
    {
      "cell_type": "code",
      "metadata": {
        "id": "ZpprzDKTB0pa"
      },
      "source": [
        "# 머신러닝, 딥러닝에서는 array만 처리함\n",
        "x_train = x_train.values # x_train.to_numpy()와 동일\n",
        "x_test = x_test.values # x_train.to_numpy()와 동일"
      ],
      "execution_count": 25,
      "outputs": []
    },
    {
      "cell_type": "markdown",
      "metadata": {
        "id": "KWPylkW8IeZ8"
      },
      "source": [
        "## 모델 피팅, 실행\n",
        "- [과대적합] 트레이닝 자료에서는 $R^2$ 스코어가 좋은데 테스트 자료에서는 나쁘게 나올 때\n",
        "- [과소적합] 트레이닝, 테스트 모두 스코어가 별로일 때"
      ]
    },
    {
      "cell_type": "markdown",
      "metadata": {
        "id": "-wb1JaS_E3_A"
      },
      "source": [
        "### 1. 선형회귀"
      ]
    },
    {
      "cell_type": "code",
      "metadata": {
        "colab": {
          "base_uri": "https://localhost:8080/"
        },
        "id": "RMzn0MYbCAdw",
        "outputId": "a0df758d-744f-4dc7-979c-9b986f1a14df"
      },
      "source": [
        "# 선형회귀\n",
        "from sklearn.linear_model import LinearRegression\n",
        "model_lr = LinearRegression()\n",
        "model_lr.fit(x_train,y_train)\n",
        "print(model_lr.score(x_train,y_train),model_lr.score(x_test,y_test))"
      ],
      "execution_count": 38,
      "outputs": [
        {
          "output_type": "stream",
          "name": "stdout",
          "text": [
            "0.5676150643429947 0.5365762057290643\n"
          ]
        }
      ]
    },
    {
      "cell_type": "code",
      "metadata": {
        "id": "btWEYrY2Mf_c"
      },
      "source": [
        "# 선형회귀식에서 사용된 변수들의 검증(OLS), p-value등을 확인해야 함"
      ],
      "execution_count": null,
      "outputs": []
    },
    {
      "cell_type": "code",
      "metadata": {
        "colab": {
          "base_uri": "https://localhost:8080/"
        },
        "id": "Ndd1fVUbNyIb",
        "outputId": "4f897c0f-3b44-43bf-8f5a-56b333c9e892"
      },
      "source": [
        "# 선형회귀 k교차검증(k-fold)\n",
        "# (데이터 개수가 작을 때 트레이닝하고 테스트하고 경우의 수를 다르게 함)\n",
        "# https://wikidocs.net/84810\n",
        "\n",
        "from sklearn.model_selection import cross_val_score\n",
        "from sklearn.linear_model import LinearRegression\n",
        "model_lr = LinearRegression()\n",
        "scores = cross_val_score(model_lr, x_train, y_train, cv=10) # 보통 cv는 10개 \n",
        "scores"
      ],
      "execution_count": 43,
      "outputs": [
        {
          "output_type": "execute_result",
          "data": {
            "text/plain": [
              "array([0.13306668, 0.51831341, 0.50581865, 0.65995459, 0.53651824,\n",
              "       0.5958442 , 0.3800345 , 0.65394724, 0.47312693, 0.54982533])"
            ]
          },
          "metadata": {},
          "execution_count": 43
        }
      ]
    },
    {
      "cell_type": "markdown",
      "metadata": {
        "id": "5B8u8EY0Ch4V"
      },
      "source": [
        "### 2. 라쏘모델"
      ]
    },
    {
      "cell_type": "code",
      "metadata": {
        "colab": {
          "base_uri": "https://localhost:8080/"
        },
        "id": "kupA_kLwCdpr",
        "outputId": "1550fc91-c981-42c4-95f5-f80893da886c"
      },
      "source": [
        "# 라쏘모델(l1, 여러개의 x변수 중에 영향력이 작은(회귀계수값이 작은) 변수는 취급하지 않겠다.)\n",
        "# 라쏘와 리지모델에서 alpha값은 규제 정도를 나타냄. alpha값을 높이면 규제를 강하게 함.\n",
        "from sklearn.linear_model import Lasso\n",
        "\n",
        "alphaList = [0.1, 1, 10, 100] # 알바 리스트\n",
        "\n",
        "for alphaValue in alphaList:\n",
        "    model_lasso = Lasso(alpha=alphaValue)\n",
        "    model_lasso.fit(x_train,y_train)\n",
        "    print(model_lasso.score(x_train,y_train),model_lasso.score(x_test,y_test))"
      ],
      "execution_count": 41,
      "outputs": [
        {
          "output_type": "stream",
          "name": "stdout",
          "text": [
            "0.5676150643415927 0.5365762014209384\n",
            "0.567615064202802 0.536576162556117\n",
            "0.5676150493638871 0.5365790774348259\n",
            "0.5676135662093205 0.5366039678040928\n"
          ]
        }
      ]
    },
    {
      "cell_type": "markdown",
      "metadata": {
        "id": "PvyEYbeEDLaB"
      },
      "source": [
        "### 3. 릿지 모델"
      ]
    },
    {
      "cell_type": "code",
      "metadata": {
        "colab": {
          "base_uri": "https://localhost:8080/"
        },
        "id": "X2uq0ZFXDDZ_",
        "outputId": "5a36c01a-80a4-4172-de2c-5899a2bc3deb"
      },
      "source": [
        "# 리지 모델(l2, 여러개의 x변수 중에 영향력이 너무 큰 (회귀계수가 큰 값) 변수의 영향력을 감소시킴)\n",
        "from sklearn.linear_model import Ridge\n",
        "\n",
        "alphaList = [0.1, 1, 10, 100] \n",
        "\n",
        "for alphaValue in alphaList:\n",
        "    model_ridge = Ridge(alpha=alphaValue)\n",
        "    model_ridge.fit(x_train,y_train)\n",
        "    print(model_ridge.score(x_train,y_train),model_ridge.score(x_test,y_test))"
      ],
      "execution_count": 40,
      "outputs": [
        {
          "output_type": "stream",
          "name": "stdout",
          "text": [
            "0.567615033175222 0.5365780534201788\n",
            "0.5676121660464679 0.5365924719385908\n",
            "0.5674552229723533 0.5366175807534527\n",
            "0.565565632320681 0.5359588359730016\n"
          ]
        }
      ]
    }
  ]
}